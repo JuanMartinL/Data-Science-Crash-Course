{
 "cells": [
  {
   "cell_type": "markdown",
   "id": "e3c7da05-0438-41ce-a3e9-69bee9103a27",
   "metadata": {},
   "source": [
    "# Lecture 10: Procesamiento de Lenguaje Natural - Natural Language Processing (NLP)"
   ]
  },
  {
   "cell_type": "markdown",
   "id": "9822f61f-7172-4039-9957-5966f7466378",
   "metadata": {},
   "source": [
    "## 1. Introducción"
   ]
  },
  {
   "cell_type": "markdown",
   "id": "8a34afbd-bd77-42f6-b9a7-361134122710",
   "metadata": {},
   "source": [
    "Los computadores no son seres con inteligencia y comprensión avanzada, a menos que se les programe explícitamente para eso. Por lo general, los computadores tienden a ser bastante malos para difereciar caracteres en comparación con los humanos. Por ejemplo, para un computador la letra \"a\" es diferente a la letra \"A\". Así mismo, la frase \"Bad Bunny lanzará un álbum hoy\" es diferente a \"bad bunny lanzará un álbum hoy\". \n",
    "\n",
    "Probemos:"
   ]
  },
  {
   "cell_type": "code",
   "execution_count": 1,
   "id": "1563e669-1780-443d-9792-6b81dde30edf",
   "metadata": {},
   "outputs": [
    {
     "data": {
      "text/plain": [
       "False"
      ]
     },
     "execution_count": 1,
     "metadata": {},
     "output_type": "execute_result"
    }
   ],
   "source": [
    "# Comparando una letra minúscula con la mayúscula\n",
    "\"a\" == \"A\""
   ]
  },
  {
   "cell_type": "code",
   "execution_count": 2,
   "id": "8097a9fd-4f83-4c13-af9d-0ae409f49430",
   "metadata": {},
   "outputs": [
    {
     "data": {
      "text/plain": [
       "False"
      ]
     },
     "execution_count": 2,
     "metadata": {},
     "output_type": "execute_result"
    }
   ],
   "source": [
    "# Comparando una misma frase, pero con diferencias en mayúsculas\n",
    "\"Bad Bunny lanzará un álbum hoy\" == \"bad bunny lanzará un álbum hoy\""
   ]
  },
  {
   "cell_type": "markdown",
   "id": "358b5594-7cbe-41ed-8fec-e87439aafa62",
   "metadata": {},
   "source": [
    "Los humanos son bastante buenos reconociendo que las dos frases de arriba son iguales, pero los computadores no. Por este hecho, normalmente en las bases de datos podemos encontrar errores \n",
    "\n",
    "en muchas ocasiones debemos ayudarle a un computador a entender nuestro lenguaje: el _lenguaje natural_. Esto se llama **Procesamiento de Lenguaje Natural**."
   ]
  },
  {
   "cell_type": "markdown",
   "id": "dbcb340d-621b-41b6-bc61-72e4ea47e4f2",
   "metadata": {},
   "source": [
    "Para explorar esta área de la Ciencia de Datos, vamos a jugar el rol de un consultor de negocios para pequeñas y medianas empresas con un considerable número de consumidores. Algunos ejemplos de empresas que utilizan este tipo de procesamiento son empresas de moda, distribuidores de equipos para hobbies, el procesamiento de documentos legales o testimonios de víctimas del conflicto, entre muchos otros.\n",
    "\n",
    "Algunos casos relevantes de NLP son Google, Bing, DuckDuckGo y otros motores de búsqueda para otorgar buenas respuestas a búsquedas vagas o mal escritas. También resaltan las traducciones automáticas y subtítulos generados automáticamente por YouTube.\n",
    "\n",
    "Los usos más comunes del NLP son:\n",
    "\n",
    "* Ayudar a los computadores a entender el habla humana (como Alexa, Siri, entre otros).\n",
    "* Traducir automáticamente entre diferentes tipos de lenguajes naturales (como Google Translate).\n",
    "* Aplicar automáticamente categorías para textos (como los detectores de spam o algunos algoritmos de Machine Learning e IA).\n",
    "* Lectura de textos en altavoz (Kindle, Google Translate).\n",
    "* Detección de emociones de textos y opiniones en redes sociales y otras páginas web.\n",
    "\n",
    "El objetivo en este caso es manipular una base de datos de reseñas en Internet y elegir características importantes para facilitar el análisis y modelamiento de la información."
   ]
  },
  {
   "cell_type": "markdown",
   "id": "aee15f7b-1c87-4971-8e39-2e9c0f5c093a",
   "metadata": {},
   "source": [
    "### 1.1. Retos del NLP"
   ]
  },
  {
   "cell_type": "markdown",
   "id": "ae40352b-0acd-4e2b-b282-ad4cd8c9e612",
   "metadata": {},
   "source": [
    "Los retos del procesamiento de lenguaje natural más importantes son:\n",
    "\n",
    "* **Dimensionalidad extremadamente alta:** Don Quijote de la Mancha tiene 2'034.611 caracteres y 377.032 palabras. Si el computador considerara cada palabra como una variable (que es lo más común), sería imposible realizar un modelo con esa cantidad de variables. Ello tendría varios problemas:\n",
    "    - Requeriría mucho poder computacional.\n",
    "    - Acercamientos básicos de ML e IA tendrían un rendimiento terrible por la alta dimensionalidad.\n",
    "    - Estos acercamientos no captarían relaciones importantes entre las palabras y no podrían diferenciar entre \"don't\" y \"do not\" en inglés.\n",
    "    \n",
    "* **Los textos dependen del contexto:** muchas palabras tienen un uso diferente dependiendo de dónde se utilizan. Por ejemplo, la palabra \"suerte\" puede significar una causa o fuerza que determina el destino de alguien, el destino mismo o, en Colombia, una manera de despedirse de alguien.\n",
    "\n",
    "Para poder atender apropiadamente estos problemas, debemos utilizar librerías y toda _suerte_ de procesos para procesar bien este tipo de datos."
   ]
  },
  {
   "cell_type": "markdown",
   "id": "b8ebc776-2faf-4d2a-98b7-45d4ca068933",
   "metadata": {},
   "source": [
    "## 2. Importación de los datos"
   ]
  },
  {
   "cell_type": "markdown",
   "id": "519691ee-fdd6-4279-b948-4d2689c7f09f",
   "metadata": {},
   "source": [
    "En esta ocasión, vamos a utilizar una base de datos de opiniones de Yelp!:"
   ]
  },
  {
   "cell_type": "code",
   "execution_count": 3,
   "id": "a2e33a41-647a-4d49-95dd-ebb73f656f96",
   "metadata": {},
   "outputs": [
    {
     "data": {
      "text/html": [
       "<div>\n",
       "<style scoped>\n",
       "    .dataframe tbody tr th:only-of-type {\n",
       "        vertical-align: middle;\n",
       "    }\n",
       "\n",
       "    .dataframe tbody tr th {\n",
       "        vertical-align: top;\n",
       "    }\n",
       "\n",
       "    .dataframe thead th {\n",
       "        text-align: right;\n",
       "    }\n",
       "</style>\n",
       "<table border=\"1\" class=\"dataframe\">\n",
       "  <thead>\n",
       "    <tr style=\"text-align: right;\">\n",
       "      <th></th>\n",
       "      <th>review_id</th>\n",
       "      <th>user_id</th>\n",
       "      <th>business_id</th>\n",
       "      <th>stars</th>\n",
       "      <th>date</th>\n",
       "      <th>text</th>\n",
       "      <th>useful</th>\n",
       "      <th>funny</th>\n",
       "      <th>cool</th>\n",
       "    </tr>\n",
       "  </thead>\n",
       "  <tbody>\n",
       "    <tr>\n",
       "      <th>0</th>\n",
       "      <td>vkVSCC7xljjrAI4UGfnKEQ</td>\n",
       "      <td>bv2nCi5Qv5vroFiqKGopiw</td>\n",
       "      <td>AEx2SYEUJmTxVVB18LlCwA</td>\n",
       "      <td>5</td>\n",
       "      <td>2016-05-28</td>\n",
       "      <td>Super simple place but amazing nonetheless. It...</td>\n",
       "      <td>0</td>\n",
       "      <td>0</td>\n",
       "      <td>0</td>\n",
       "    </tr>\n",
       "    <tr>\n",
       "      <th>1</th>\n",
       "      <td>n6QzIUObkYshz4dz2QRJTw</td>\n",
       "      <td>bv2nCi5Qv5vroFiqKGopiw</td>\n",
       "      <td>VR6GpWIda3SfvPC-lg9H3w</td>\n",
       "      <td>5</td>\n",
       "      <td>2016-05-28</td>\n",
       "      <td>Small unassuming place that changes their menu...</td>\n",
       "      <td>0</td>\n",
       "      <td>0</td>\n",
       "      <td>0</td>\n",
       "    </tr>\n",
       "    <tr>\n",
       "      <th>2</th>\n",
       "      <td>MV3CcKScW05u5LVfF6ok0g</td>\n",
       "      <td>bv2nCi5Qv5vroFiqKGopiw</td>\n",
       "      <td>CKC0-MOWMqoeWf6s-szl8g</td>\n",
       "      <td>5</td>\n",
       "      <td>2016-05-28</td>\n",
       "      <td>Lester's is located in a beautiful neighborhoo...</td>\n",
       "      <td>0</td>\n",
       "      <td>0</td>\n",
       "      <td>0</td>\n",
       "    </tr>\n",
       "    <tr>\n",
       "      <th>3</th>\n",
       "      <td>IXvOzsEMYtiJI0CARmj77Q</td>\n",
       "      <td>bv2nCi5Qv5vroFiqKGopiw</td>\n",
       "      <td>ACFtxLv8pGrrxMm6EgjreA</td>\n",
       "      <td>4</td>\n",
       "      <td>2016-05-28</td>\n",
       "      <td>Love coming here. Yes the place always needs t...</td>\n",
       "      <td>0</td>\n",
       "      <td>0</td>\n",
       "      <td>0</td>\n",
       "    </tr>\n",
       "    <tr>\n",
       "      <th>4</th>\n",
       "      <td>L_9BTb55X0GDtThi6GlZ6w</td>\n",
       "      <td>bv2nCi5Qv5vroFiqKGopiw</td>\n",
       "      <td>s2I_Ni76bjJNK9yG60iD-Q</td>\n",
       "      <td>4</td>\n",
       "      <td>2016-05-28</td>\n",
       "      <td>Had their chocolate almond croissant and it wa...</td>\n",
       "      <td>0</td>\n",
       "      <td>0</td>\n",
       "      <td>0</td>\n",
       "    </tr>\n",
       "  </tbody>\n",
       "</table>\n",
       "</div>"
      ],
      "text/plain": [
       "                review_id                 user_id             business_id  \\\n",
       "0  vkVSCC7xljjrAI4UGfnKEQ  bv2nCi5Qv5vroFiqKGopiw  AEx2SYEUJmTxVVB18LlCwA   \n",
       "1  n6QzIUObkYshz4dz2QRJTw  bv2nCi5Qv5vroFiqKGopiw  VR6GpWIda3SfvPC-lg9H3w   \n",
       "2  MV3CcKScW05u5LVfF6ok0g  bv2nCi5Qv5vroFiqKGopiw  CKC0-MOWMqoeWf6s-szl8g   \n",
       "3  IXvOzsEMYtiJI0CARmj77Q  bv2nCi5Qv5vroFiqKGopiw  ACFtxLv8pGrrxMm6EgjreA   \n",
       "4  L_9BTb55X0GDtThi6GlZ6w  bv2nCi5Qv5vroFiqKGopiw  s2I_Ni76bjJNK9yG60iD-Q   \n",
       "\n",
       "   stars        date                                               text  \\\n",
       "0      5  2016-05-28  Super simple place but amazing nonetheless. It...   \n",
       "1      5  2016-05-28  Small unassuming place that changes their menu...   \n",
       "2      5  2016-05-28  Lester's is located in a beautiful neighborhoo...   \n",
       "3      4  2016-05-28  Love coming here. Yes the place always needs t...   \n",
       "4      4  2016-05-28  Had their chocolate almond croissant and it wa...   \n",
       "\n",
       "   useful  funny  cool  \n",
       "0       0      0     0  \n",
       "1       0      0     0  \n",
       "2       0      0     0  \n",
       "3       0      0     0  \n",
       "4       0      0     0  "
      ]
     },
     "execution_count": 3,
     "metadata": {},
     "output_type": "execute_result"
    }
   ],
   "source": [
    "import pandas as pd\n",
    "import numpy  as np\n",
    "\n",
    "# Cargando la base de datos\n",
    "data = pd.read_csv('sdata.csv')\n",
    "data.head()"
   ]
  },
  {
   "cell_type": "markdown",
   "id": "0944d05c-3d85-4889-bd5a-0bc40b3d1d12",
   "metadata": {},
   "source": [
    "Podemos ver que en esta base de datos tenemos, para cada reseña, los siguientes datos:\n",
    "\n",
    "1. **review_id:** una identificación única para cada reseña.\n",
    "2. **user_id:** un identificador anonimizado para cada usuario que escribió la reseña.\n",
    "3. **business_id:** un identificador anonimizado para cada negocio al que se dirige la reseña.\n",
    "4. **stars:** la calificación en estrellas que cada persona ha estipulado para calificar el negocio.\n",
    "5. **date:** la fecha en la que la reseña se hizo.\n",
    "6. **text:** el texto completo de la reseña.\n",
    "7. **useful:** número de lectores que indicaron que la reseña fue útil.\n",
    "8. **funny:** número de lectores que indicaron que la reseña es divertida o cómica.\n",
    "9. **cool:** número de lectores que indicaron que la reseña es genial."
   ]
  },
  {
   "cell_type": "markdown",
   "id": "989f1db0-a4e8-4693-808e-cf330349768e",
   "metadata": {},
   "source": [
    "## 3. Pre-procesamiento y estandarización"
   ]
  },
  {
   "cell_type": "markdown",
   "id": "3cef1c9f-929a-4666-9d93-683800b48c05",
   "metadata": {},
   "source": [
    "Debemos estandarizar los textos o, en caso contrario, al computador le quedará difícil poder entender que algunos textos son parecidos o similares a otros (por ejemplo, entre palabras). Algunos pasos comunes para esto son:\n",
    "\n",
    "1. **Corregir errores simples:** alguna codificación entre textos es diferente o, incluso, los acentos pueden diferir. Por ello, debemos arreglarlo.\n",
    "2. **Creación de características:** en algunos casos nos conviene identificar si las palabras son sujetos o verbos, entre otros.\n",
    "3. **Reemplazar palabras y oraciones completas:** algunas modificaciones de las palabras pueden hacer que se entiendan como diferentes. Por ejemplo, podemos estandarizar \"horriiiiiible\" por \"horrible\", ya que algunas personas pueden escribirlo de la primera manera."
   ]
  },
  {
   "cell_type": "markdown",
   "id": "008b2d84-02e3-413d-9923-22869e78e360",
   "metadata": {},
   "source": [
    "Para esto, vamos a utilizar la librería `nltk`, la cual tiene las funciones más básicas de NLP. Otra librería útil es `spaCy`, la cual es más moderna y está más centrada en el uso práctico y avanzado en problemas de negocios. Sin embargo, `nltk` es la más útil en términos didácticos."
   ]
  },
  {
   "cell_type": "code",
   "execution_count": 4,
   "id": "573962b3-afa8-4f24-b936-00301f4ebea8",
   "metadata": {},
   "outputs": [],
   "source": [
    "# pip install nltk\n",
    "# pip install plotly"
   ]
  },
  {
   "cell_type": "code",
   "execution_count": 5,
   "id": "f7e40402-7188-46f5-9e56-ac8a9fb30b3a",
   "metadata": {},
   "outputs": [
    {
     "name": "stderr",
     "output_type": "stream",
     "text": [
      "[nltk_data] Error loading punkt: <urlopen error [Errno 11001]\n",
      "[nltk_data]     getaddrinfo failed>\n",
      "[nltk_data] Error loading stopwords: <urlopen error [Errno 11001]\n",
      "[nltk_data]     getaddrinfo failed>\n"
     ]
    }
   ],
   "source": [
    "import nltk # Natural Language Tool Kit\n",
    "nltk.download('punkt')\n",
    "nltk.download('stopwords')\n",
    "import string\n",
    "import plotly\n",
    "from nltk.stem import PorterStemmer "
   ]
  },
  {
   "cell_type": "markdown",
   "id": "a4ba842e-a3f9-4b22-a07b-260103f0458d",
   "metadata": {},
   "source": [
    "Vamos a revisar un poco los textos de las reseñas:"
   ]
  },
  {
   "cell_type": "code",
   "execution_count": 6,
   "id": "94093e41-f05a-413b-9747-d636f6e399c8",
   "metadata": {},
   "outputs": [
    {
     "data": {
      "text/plain": [
       "0    Super simple place but amazing nonetheless. It...\n",
       "1    Small unassuming place that changes their menu...\n",
       "2    Lester's is located in a beautiful neighborhoo...\n",
       "3    Love coming here. Yes the place always needs t...\n",
       "4    Had their chocolate almond croissant and it wa...\n",
       "5    Cycle Pub Las Vegas was a blast! Got a groupon...\n",
       "6    Who would have guess that you would be able to...\n",
       "7    Always drove past this coffee house and wonder...\n",
       "8    Not bad!! Love that there is a gluten-free, ve...\n",
       "9    Love this place!\\n\\nPeggy is great with dogs a...\n",
       "Name: text, dtype: object"
      ]
     },
     "execution_count": 6,
     "metadata": {},
     "output_type": "execute_result"
    }
   ],
   "source": [
    "# Revisamos las primeras diez reseñas\n",
    "AllReviews = data['text']\n",
    "AllReviews.head(10)"
   ]
  },
  {
   "cell_type": "code",
   "execution_count": 7,
   "id": "512f7344-faad-4be1-8293-80dceb3c989b",
   "metadata": {},
   "outputs": [
    {
     "data": {
      "text/plain": [
       "\"Super simple place but amazing nonetheless. It's been around since the 30's and they still serve the same thing they started with: a bologna and salami sandwich with mustard. \\n\\nStaff was very helpful and friendly.\""
      ]
     },
     "execution_count": 7,
     "metadata": {},
     "output_type": "execute_result"
    }
   ],
   "source": [
    "# Hacemos un \"zoom\" con la primera reseña\n",
    "AllReviews[0]"
   ]
  },
  {
   "cell_type": "code",
   "execution_count": 8,
   "id": "bfa50bc3-87db-4aa4-9ad0-a838183e8449",
   "metadata": {},
   "outputs": [
    {
     "data": {
      "text/plain": [
       "array([\"Super simple place but amazing nonetheless. It's been around since the 30's and they still serve the same thing they started with: a bologna and salami sandwich with mustard. \\n\\nStaff was very helpful and friendly.\",\n",
       "       \"Small unassuming place that changes their menu every so often. Cool decor and vibe inside their 30 seat restaurant. Call for a reservation. \\n\\nWe had their beef tartar and pork belly to start and a salmon dish and lamb meal for mains. Everything was incredible! I could go on at length about how all the listed ingredients really make their dishes amazing but honestly you just need to go. \\n\\nA bit outside of downtown montreal but take the metro out and it's less than a 10 minute walk from the station.\",\n",
       "       \"Lester's is located in a beautiful neighborhood and has been there since 1951. They are known for smoked meat which most deli's have but their brisket sandwich is what I come to montreal for. They've got about 12 seats outside to go along with the inside. \\n\\nThe smoked meat is up there in quality and taste with Schwartz's and you'll find less tourists at Lester's as well.\",\n",
       "       ...,\n",
       "       'The best vanilla latte I have ever had! The coffee can be a bit different at times and depending on the night your in here it can be a little overwhelming with the live band or open mic. I wish it was more chill... But for coffee shops in the area I think it\\'s great! The people that work there are usually always really nice and helpful. \\n\\nThe food is actually pretty good! I usually stray away from \"vegan this and vegan that\" but I manned up have tried multiple things here and have loved just about everything. My favorite is the cheddar bake sandwich! I gotta be honest when I eat here I feel healthier... Its most likely all in my head but who cares! :)',\n",
       "       \"I've only had their Moca and it was gross! I'm moving around the corner and will update this next time I try something. But other than the horrible Moca the place has a cool coffee shop vibe and great customer service.\",\n",
       "       'Went for dinner last night, food was awesome, especially the onion tart we got for starters.  Drinks were good too, but I got a cranberry lemonade with vodka and it was kind of weak.   For my entree I had the Mediterranean salad and split a mushroom pizza, both of which were very good.\\n\\nThe only negative was the length of time to get our food.  We had a 7 year old boy with us and he was very hungry'],\n",
       "      dtype=object)"
      ]
     },
     "execution_count": 8,
     "metadata": {},
     "output_type": "execute_result"
    }
   ],
   "source": [
    "# Revisamos varias reseñas completas al tiempo\n",
    "AllReviews.values"
   ]
  },
  {
   "cell_type": "markdown",
   "id": "bd6839b1-bc38-40c2-8c03-becf701d3236",
   "metadata": {},
   "source": [
    "#### 3.1. Tokenización de oraciones"
   ]
  },
  {
   "cell_type": "markdown",
   "id": "6d32afd8-e887-4839-964d-8d9e6bac20e1",
   "metadata": {},
   "source": [
    "Como se puede observar, cada una de esas reseñas es _un_ elemento del gran DataFrame de reseñas. Para poder analizar las oraciones y sus relaciones, debemos realizar un proceso llamado **tokenización**. Esto implica convertir cada oración, en este caso, en un elemento separado.\n",
    "\n",
    "Esto se puede lograr por medio del método `nltk.sent_tokenize()` de la siguiente manera:"
   ]
  },
  {
   "cell_type": "code",
   "execution_count": 9,
   "id": "868e5871-0bec-4ff5-b90b-e584bda1a38f",
   "metadata": {},
   "outputs": [
    {
     "name": "stdout",
     "output_type": "stream",
     "text": [
      "Super simple place but amazing nonetheless.\n",
      "\n",
      "It's been around since the 30's and they still serve the same thing they started with: a bologna and salami sandwich with mustard.\n",
      "\n",
      "Staff was very helpful and friendly.\n",
      "\n"
     ]
    },
    {
     "data": {
      "text/plain": [
       "\"Super simple place but amazing nonetheless. It's been around since the 30's and they still serve the same thing they started with: a bologna and salami sandwich with mustard. \\n\\nStaff was very helpful and friendly.\""
      ]
     },
     "execution_count": 9,
     "metadata": {},
     "output_type": "execute_result"
    }
   ],
   "source": [
    "# Tokenización de la primera reseña\n",
    "sentences = nltk.sent_tokenize(AllReviews[0])\n",
    "for sentence in sentences:\n",
    "    print(sentence)\n",
    "    print()\n",
    "    \n",
    "AllReviews[0]"
   ]
  },
  {
   "cell_type": "markdown",
   "id": "9abf79d6-a60e-4e2a-821e-f872767fc570",
   "metadata": {},
   "source": [
    "La **tokenización** no es trivial: toma las oraciones hasta el primer punto (donde termina la oración) y la separa.\n",
    "\n",
    "Sin embargo, puede ocurrrir algunos problemas con este método, como, por ejemplo, en la simplificación de palabras. Es decir, si tomáramos el caso de \"Mrs. Londoño\", la tokenización separaría erróneamente la frase. Lo mismo ocurre con el español en el caso de \"Srto. Londoño\". Se debe tener cuidado en estos casos. Más adelante atenderemos este problema con las expresiones regulares."
   ]
  },
  {
   "cell_type": "markdown",
   "id": "5a3a04f0-8007-4df4-956e-20c23caf825e",
   "metadata": {},
   "source": [
    "### 3.2. Tokenización de palabras"
   ]
  },
  {
   "cell_type": "markdown",
   "id": "ad7093ca-d15d-4728-a6c2-a8605b2d5c28",
   "metadata": {},
   "source": [
    "También se puede realizar una tokenización por palabras individuales. Para ello, se puede utilizar el método `nltk.word_tokenize()`:"
   ]
  },
  {
   "cell_type": "code",
   "execution_count": 10,
   "id": "1ca3fbb5-3763-4f93-afea-5552e353aca4",
   "metadata": {},
   "outputs": [
    {
     "name": "stdout",
     "output_type": "stream",
     "text": [
      "Small unassuming place that changes their menu every so often.\n",
      "['Small', 'unassuming', 'place', 'that', 'changes', 'their', 'menu', 'every', 'so', 'often', '.']\n",
      "\n",
      "Cool decor and vibe inside their 30 seat restaurant.\n",
      "['Cool', 'decor', 'and', 'vibe', 'inside', 'their', '30', 'seat', 'restaurant', '.']\n",
      "\n",
      "Call for a reservation.\n",
      "['Call', 'for', 'a', 'reservation', '.']\n",
      "\n",
      "We had their beef tartar and pork belly to start and a salmon dish and lamb meal for mains.\n",
      "['We', 'had', 'their', 'beef', 'tartar', 'and', 'pork', 'belly', 'to', 'start', 'and', 'a', 'salmon', 'dish', 'and', 'lamb', 'meal', 'for', 'mains', '.']\n",
      "\n",
      "Everything was incredible!\n",
      "['Everything', 'was', 'incredible', '!']\n",
      "\n",
      "I could go on at length about how all the listed ingredients really make their dishes amazing but honestly you just need to go.\n",
      "['I', 'could', 'go', 'on', 'at', 'length', 'about', 'how', 'all', 'the', 'listed', 'ingredients', 'really', 'make', 'their', 'dishes', 'amazing', 'but', 'honestly', 'you', 'just', 'need', 'to', 'go', '.']\n",
      "\n",
      "A bit outside of downtown montreal but take the metro out and it's less than a 10 minute walk from the station.\n",
      "['A', 'bit', 'outside', 'of', 'downtown', 'montreal', 'but', 'take', 'the', 'metro', 'out', 'and', 'it', \"'s\", 'less', 'than', 'a', '10', 'minute', 'walk', 'from', 'the', 'station', '.']\n",
      "\n"
     ]
    }
   ],
   "source": [
    "# Se separa por oraciones\n",
    "sentences = nltk.sent_tokenize(data['text'][1])\n",
    "\n",
    "# Se separa por palabras\n",
    "for sentence in sentences:\n",
    "    words = nltk.word_tokenize(sentence)\n",
    "    print(sentence)\n",
    "    print(words)\n",
    "    print()"
   ]
  },
  {
   "cell_type": "markdown",
   "id": "da90fed4-83b5-4a88-872d-6f623dcf528e",
   "metadata": {},
   "source": [
    "### 3.3. Ejercicio:"
   ]
  },
  {
   "cell_type": "markdown",
   "id": "29bc1cdb-d812-4da6-850d-a2f2f9e4679e",
   "metadata": {},
   "source": [
    "Realice un EDA que explore el tamaño de las reseñas: encuentre la más pequeña y la más larga reseña, el promedio y la mediana de palabras y después grafique un histograma mostrando la distribución del tamaño de las reseñas."
   ]
  },
  {
   "cell_type": "code",
   "execution_count": null,
   "id": "e0bb6c02-b3a6-4481-9f7c-6cdd52a6a022",
   "metadata": {},
   "outputs": [],
   "source": []
  }
 ],
 "metadata": {
  "kernelspec": {
   "display_name": "Python 3 (ipykernel)",
   "language": "python",
   "name": "python3"
  },
  "language_info": {
   "codemirror_mode": {
    "name": "ipython",
    "version": 3
   },
   "file_extension": ".py",
   "mimetype": "text/x-python",
   "name": "python",
   "nbconvert_exporter": "python",
   "pygments_lexer": "ipython3",
   "version": "3.10.2"
  }
 },
 "nbformat": 4,
 "nbformat_minor": 5
}
