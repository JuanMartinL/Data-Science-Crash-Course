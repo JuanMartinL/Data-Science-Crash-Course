{
 "cells": [
  {
   "attachments": {},
   "cell_type": "markdown",
   "id": "4d238cac-3e1e-4658-8d4a-c0449aa3b4b9",
   "metadata": {},
   "source": [
    "### Módulo: Introducción a la Ciencia de Datos\n",
    "# **Clase 6: Manejo/Doma de Datos (_Data Wrangling_)**"
   ]
  },
  {
   "attachments": {},
   "cell_type": "markdown",
   "id": "ba603500-0524-4d61-8def-65a81da6bfac",
   "metadata": {
    "tags": []
   },
   "source": [
    "En los casos de la vida real, los datos tendrán inconvenientes: valores perdidos, errores ortográficos, errores de digitación, valores atípicos, entre otros. Un buen análisis de datos (e incluso un buen modelo de Machine Learning) necesitan de una base de datos limpia, coherente y manejable. En otras palabras, _bien comportada_ o _domada_.\n",
    "\n",
    "Sin embargo, ello requiere de un proceso de observar, corregir y adaptar la base de datos a nuestras necesidades. En esta clase, recorreremos algunas de las buenas prácticas para la limpieza de datos. No obstante, primero debemos importar los datos:"
   ]
  },
  {
   "attachments": {},
   "cell_type": "markdown",
   "id": "e0c8851a-1a4d-47c6-b7e2-7e044ecf8109",
   "metadata": {},
   "source": [
    "## 1. Importe de los datos"
   ]
  },
  {
   "attachments": {},
   "cell_type": "markdown",
   "id": "7307fbdb-d483-4f99-8ca1-1c97890f910f",
   "metadata": {},
   "source": [
    "Para importar los datos, podemos utilizar diferentes métodos dependiendo del formato:\n",
    "\n",
    "* Excel: `pandas.read_excel()`\n",
    "* CSV: `pandas.read_csv()`\n",
    "* DTA: `pandas.read_stata()`\n",
    "* RData: `pyreadr.read_r()`\n",
    "\n",
    "Cada uno de ellos tiene sus propias opciones, por lo cual siempre es recomendable leer un poco sobre el método antes. Por ahora, tendremos un pequeño ejemplo con una archivo .csv sobre información sobre marketing:"
   ]
  },
  {
   "cell_type": "code",
   "execution_count": 30,
   "id": "32cbe2db-1871-4a07-9ca4-40200df6bdab",
   "metadata": {},
   "outputs": [
    {
     "name": "stderr",
     "output_type": "stream",
     "text": [
      "C:\\Users\\juanm\\AppData\\Local\\Temp\\ipykernel_1820\\4007060575.py:4: DtypeWarning: Columns (0,1,2,3,11,14,15,16) have mixed types. Specify dtype option on import or set low_memory=False.\n",
      "  data = pd.read_csv(\"Marketing_Analysis.csv\")\n"
     ]
    },
    {
     "data": {
      "text/html": [
       "<div>\n",
       "<style scoped>\n",
       "    .dataframe tbody tr th:only-of-type {\n",
       "        vertical-align: middle;\n",
       "    }\n",
       "\n",
       "    .dataframe tbody tr th {\n",
       "        vertical-align: top;\n",
       "    }\n",
       "\n",
       "    .dataframe thead th {\n",
       "        text-align: right;\n",
       "    }\n",
       "</style>\n",
       "<table border=\"1\" class=\"dataframe\">\n",
       "  <thead>\n",
       "    <tr style=\"text-align: right;\">\n",
       "      <th></th>\n",
       "      <th>banking marketing</th>\n",
       "      <th>Unnamed: 1</th>\n",
       "      <th>Unnamed: 2</th>\n",
       "      <th>Unnamed: 3</th>\n",
       "      <th>Unnamed: 4</th>\n",
       "      <th>Unnamed: 5</th>\n",
       "      <th>Unnamed: 6</th>\n",
       "      <th>Unnamed: 7</th>\n",
       "      <th>Unnamed: 8</th>\n",
       "      <th>Unnamed: 9</th>\n",
       "      <th>Unnamed: 10</th>\n",
       "      <th>Unnamed: 11</th>\n",
       "      <th>Unnamed: 12</th>\n",
       "      <th>Unnamed: 13</th>\n",
       "      <th>Unnamed: 14</th>\n",
       "      <th>Unnamed: 15</th>\n",
       "      <th>Unnamed: 16</th>\n",
       "      <th>Unnamed: 17</th>\n",
       "      <th>Unnamed: 18</th>\n",
       "    </tr>\n",
       "  </thead>\n",
       "  <tbody>\n",
       "    <tr>\n",
       "      <th>0</th>\n",
       "      <td>customer id and age.</td>\n",
       "      <td>NaN</td>\n",
       "      <td>Customer salary and balance.</td>\n",
       "      <td>NaN</td>\n",
       "      <td>Customer marital status and job with education...</td>\n",
       "      <td>NaN</td>\n",
       "      <td>particular customer before targeted or not</td>\n",
       "      <td>NaN</td>\n",
       "      <td>Loan types: loans or housing loans</td>\n",
       "      <td>NaN</td>\n",
       "      <td>Contact type</td>\n",
       "      <td>NaN</td>\n",
       "      <td>month of contact</td>\n",
       "      <td>duration of call</td>\n",
       "      <td>NaN</td>\n",
       "      <td>NaN</td>\n",
       "      <td>NaN</td>\n",
       "      <td>outcome of previous contact</td>\n",
       "      <td>response of customer after call happned</td>\n",
       "    </tr>\n",
       "    <tr>\n",
       "      <th>1</th>\n",
       "      <td>customerid</td>\n",
       "      <td>age</td>\n",
       "      <td>salary</td>\n",
       "      <td>balance</td>\n",
       "      <td>marital</td>\n",
       "      <td>jobedu</td>\n",
       "      <td>targeted</td>\n",
       "      <td>default</td>\n",
       "      <td>housing</td>\n",
       "      <td>loan</td>\n",
       "      <td>contact</td>\n",
       "      <td>day</td>\n",
       "      <td>month</td>\n",
       "      <td>duration</td>\n",
       "      <td>campaign</td>\n",
       "      <td>pdays</td>\n",
       "      <td>previous</td>\n",
       "      <td>poutcome</td>\n",
       "      <td>response</td>\n",
       "    </tr>\n",
       "    <tr>\n",
       "      <th>2</th>\n",
       "      <td>1</td>\n",
       "      <td>58</td>\n",
       "      <td>100000</td>\n",
       "      <td>2143</td>\n",
       "      <td>married</td>\n",
       "      <td>management,tertiary</td>\n",
       "      <td>yes</td>\n",
       "      <td>no</td>\n",
       "      <td>yes</td>\n",
       "      <td>no</td>\n",
       "      <td>unknown</td>\n",
       "      <td>5</td>\n",
       "      <td>may, 2017</td>\n",
       "      <td>261 sec</td>\n",
       "      <td>1</td>\n",
       "      <td>-1</td>\n",
       "      <td>0</td>\n",
       "      <td>unknown</td>\n",
       "      <td>no</td>\n",
       "    </tr>\n",
       "    <tr>\n",
       "      <th>3</th>\n",
       "      <td>2</td>\n",
       "      <td>44</td>\n",
       "      <td>60000</td>\n",
       "      <td>29</td>\n",
       "      <td>single</td>\n",
       "      <td>technician,secondary</td>\n",
       "      <td>yes</td>\n",
       "      <td>no</td>\n",
       "      <td>yes</td>\n",
       "      <td>no</td>\n",
       "      <td>unknown</td>\n",
       "      <td>5</td>\n",
       "      <td>may, 2017</td>\n",
       "      <td>151 sec</td>\n",
       "      <td>1</td>\n",
       "      <td>-1</td>\n",
       "      <td>0</td>\n",
       "      <td>unknown</td>\n",
       "      <td>no</td>\n",
       "    </tr>\n",
       "    <tr>\n",
       "      <th>4</th>\n",
       "      <td>3</td>\n",
       "      <td>33</td>\n",
       "      <td>120000</td>\n",
       "      <td>2</td>\n",
       "      <td>married</td>\n",
       "      <td>entrepreneur,secondary</td>\n",
       "      <td>yes</td>\n",
       "      <td>no</td>\n",
       "      <td>yes</td>\n",
       "      <td>yes</td>\n",
       "      <td>unknown</td>\n",
       "      <td>5</td>\n",
       "      <td>may, 2017</td>\n",
       "      <td>76 sec</td>\n",
       "      <td>1</td>\n",
       "      <td>-1</td>\n",
       "      <td>0</td>\n",
       "      <td>unknown</td>\n",
       "      <td>no</td>\n",
       "    </tr>\n",
       "  </tbody>\n",
       "</table>\n",
       "</div>"
      ],
      "text/plain": [
       "      banking marketing Unnamed: 1                    Unnamed: 2 Unnamed: 3  \\\n",
       "0  customer id and age.        NaN  Customer salary and balance.        NaN   \n",
       "1            customerid        age                        salary    balance   \n",
       "2                     1         58                        100000       2143   \n",
       "3                     2         44                         60000         29   \n",
       "4                     3         33                        120000          2   \n",
       "\n",
       "                                          Unnamed: 4              Unnamed: 5  \\\n",
       "0  Customer marital status and job with education...                     NaN   \n",
       "1                                            marital                  jobedu   \n",
       "2                                            married     management,tertiary   \n",
       "3                                             single    technician,secondary   \n",
       "4                                            married  entrepreneur,secondary   \n",
       "\n",
       "                                   Unnamed: 6 Unnamed: 7  \\\n",
       "0  particular customer before targeted or not        NaN   \n",
       "1                                    targeted    default   \n",
       "2                                         yes         no   \n",
       "3                                         yes         no   \n",
       "4                                         yes         no   \n",
       "\n",
       "                           Unnamed: 8 Unnamed: 9   Unnamed: 10 Unnamed: 11  \\\n",
       "0  Loan types: loans or housing loans        NaN  Contact type         NaN   \n",
       "1                             housing       loan       contact         day   \n",
       "2                                 yes         no       unknown           5   \n",
       "3                                 yes         no       unknown           5   \n",
       "4                                 yes        yes       unknown           5   \n",
       "\n",
       "        Unnamed: 12       Unnamed: 13 Unnamed: 14 Unnamed: 15 Unnamed: 16  \\\n",
       "0  month of contact  duration of call         NaN         NaN         NaN   \n",
       "1             month          duration    campaign       pdays    previous   \n",
       "2         may, 2017           261 sec           1          -1           0   \n",
       "3         may, 2017           151 sec           1          -1           0   \n",
       "4         may, 2017            76 sec           1          -1           0   \n",
       "\n",
       "                   Unnamed: 17                              Unnamed: 18  \n",
       "0  outcome of previous contact  response of customer after call happned  \n",
       "1                     poutcome                                 response  \n",
       "2                      unknown                                       no  \n",
       "3                      unknown                                       no  \n",
       "4                      unknown                                       no  "
      ]
     },
     "execution_count": 30,
     "metadata": {},
     "output_type": "execute_result"
    }
   ],
   "source": [
    "import pandas as pd\n",
    "\n",
    "# Importando los datos\n",
    "data = pd.read_csv(\"Marketing_Analysis.csv\")\n",
    "data.head()"
   ]
  },
  {
   "attachments": {},
   "cell_type": "markdown",
   "id": "100ca0c7-5d1c-430e-a053-828a16ac1962",
   "metadata": {},
   "source": [
    "Como podemos observar, las columnas no tienen los nombres que necesitamos. En ese sentido, debemos decirle a Python cómo queremos que lea los datos. En este caso, vamos a decirle que se salte dos columnas (la primera está vacía y la segunda es la explicacion de la columna):"
   ]
  },
  {
   "cell_type": "code",
   "execution_count": 31,
   "id": "d0686c07-6875-4f11-9082-c1399b70c635",
   "metadata": {
    "jp-MarkdownHeadingCollapsed": true,
    "tags": []
   },
   "outputs": [
    {
     "data": {
      "text/html": [
       "<div>\n",
       "<style scoped>\n",
       "    .dataframe tbody tr th:only-of-type {\n",
       "        vertical-align: middle;\n",
       "    }\n",
       "\n",
       "    .dataframe tbody tr th {\n",
       "        vertical-align: top;\n",
       "    }\n",
       "\n",
       "    .dataframe thead th {\n",
       "        text-align: right;\n",
       "    }\n",
       "</style>\n",
       "<table border=\"1\" class=\"dataframe\">\n",
       "  <thead>\n",
       "    <tr style=\"text-align: right;\">\n",
       "      <th></th>\n",
       "      <th>customerid</th>\n",
       "      <th>age</th>\n",
       "      <th>salary</th>\n",
       "      <th>balance</th>\n",
       "      <th>marital</th>\n",
       "      <th>jobedu</th>\n",
       "      <th>targeted</th>\n",
       "      <th>default</th>\n",
       "      <th>housing</th>\n",
       "      <th>loan</th>\n",
       "      <th>contact</th>\n",
       "      <th>day</th>\n",
       "      <th>month</th>\n",
       "      <th>duration</th>\n",
       "      <th>campaign</th>\n",
       "      <th>pdays</th>\n",
       "      <th>previous</th>\n",
       "      <th>poutcome</th>\n",
       "      <th>response</th>\n",
       "    </tr>\n",
       "  </thead>\n",
       "  <tbody>\n",
       "    <tr>\n",
       "      <th>0</th>\n",
       "      <td>1</td>\n",
       "      <td>58.0</td>\n",
       "      <td>100000</td>\n",
       "      <td>2143</td>\n",
       "      <td>married</td>\n",
       "      <td>management,tertiary</td>\n",
       "      <td>yes</td>\n",
       "      <td>no</td>\n",
       "      <td>yes</td>\n",
       "      <td>no</td>\n",
       "      <td>unknown</td>\n",
       "      <td>5</td>\n",
       "      <td>may, 2017</td>\n",
       "      <td>261 sec</td>\n",
       "      <td>1</td>\n",
       "      <td>-1</td>\n",
       "      <td>0</td>\n",
       "      <td>unknown</td>\n",
       "      <td>no</td>\n",
       "    </tr>\n",
       "    <tr>\n",
       "      <th>1</th>\n",
       "      <td>2</td>\n",
       "      <td>44.0</td>\n",
       "      <td>60000</td>\n",
       "      <td>29</td>\n",
       "      <td>single</td>\n",
       "      <td>technician,secondary</td>\n",
       "      <td>yes</td>\n",
       "      <td>no</td>\n",
       "      <td>yes</td>\n",
       "      <td>no</td>\n",
       "      <td>unknown</td>\n",
       "      <td>5</td>\n",
       "      <td>may, 2017</td>\n",
       "      <td>151 sec</td>\n",
       "      <td>1</td>\n",
       "      <td>-1</td>\n",
       "      <td>0</td>\n",
       "      <td>unknown</td>\n",
       "      <td>no</td>\n",
       "    </tr>\n",
       "    <tr>\n",
       "      <th>2</th>\n",
       "      <td>3</td>\n",
       "      <td>33.0</td>\n",
       "      <td>120000</td>\n",
       "      <td>2</td>\n",
       "      <td>married</td>\n",
       "      <td>entrepreneur,secondary</td>\n",
       "      <td>yes</td>\n",
       "      <td>no</td>\n",
       "      <td>yes</td>\n",
       "      <td>yes</td>\n",
       "      <td>unknown</td>\n",
       "      <td>5</td>\n",
       "      <td>may, 2017</td>\n",
       "      <td>76 sec</td>\n",
       "      <td>1</td>\n",
       "      <td>-1</td>\n",
       "      <td>0</td>\n",
       "      <td>unknown</td>\n",
       "      <td>no</td>\n",
       "    </tr>\n",
       "    <tr>\n",
       "      <th>3</th>\n",
       "      <td>4</td>\n",
       "      <td>47.0</td>\n",
       "      <td>20000</td>\n",
       "      <td>1506</td>\n",
       "      <td>married</td>\n",
       "      <td>blue-collar,unknown</td>\n",
       "      <td>no</td>\n",
       "      <td>no</td>\n",
       "      <td>yes</td>\n",
       "      <td>no</td>\n",
       "      <td>unknown</td>\n",
       "      <td>5</td>\n",
       "      <td>may, 2017</td>\n",
       "      <td>92 sec</td>\n",
       "      <td>1</td>\n",
       "      <td>-1</td>\n",
       "      <td>0</td>\n",
       "      <td>unknown</td>\n",
       "      <td>no</td>\n",
       "    </tr>\n",
       "    <tr>\n",
       "      <th>4</th>\n",
       "      <td>5</td>\n",
       "      <td>33.0</td>\n",
       "      <td>0</td>\n",
       "      <td>1</td>\n",
       "      <td>single</td>\n",
       "      <td>unknown,unknown</td>\n",
       "      <td>no</td>\n",
       "      <td>no</td>\n",
       "      <td>no</td>\n",
       "      <td>no</td>\n",
       "      <td>unknown</td>\n",
       "      <td>5</td>\n",
       "      <td>may, 2017</td>\n",
       "      <td>198 sec</td>\n",
       "      <td>1</td>\n",
       "      <td>-1</td>\n",
       "      <td>0</td>\n",
       "      <td>unknown</td>\n",
       "      <td>no</td>\n",
       "    </tr>\n",
       "    <tr>\n",
       "      <th>5</th>\n",
       "      <td>6</td>\n",
       "      <td>35.0</td>\n",
       "      <td>100000</td>\n",
       "      <td>231</td>\n",
       "      <td>married</td>\n",
       "      <td>management,tertiary</td>\n",
       "      <td>yes</td>\n",
       "      <td>no</td>\n",
       "      <td>yes</td>\n",
       "      <td>no</td>\n",
       "      <td>unknown</td>\n",
       "      <td>5</td>\n",
       "      <td>may, 2017</td>\n",
       "      <td>139 sec</td>\n",
       "      <td>1</td>\n",
       "      <td>-1</td>\n",
       "      <td>0</td>\n",
       "      <td>unknown</td>\n",
       "      <td>no</td>\n",
       "    </tr>\n",
       "    <tr>\n",
       "      <th>6</th>\n",
       "      <td>7</td>\n",
       "      <td>28.0</td>\n",
       "      <td>100000</td>\n",
       "      <td>447</td>\n",
       "      <td>single</td>\n",
       "      <td>management,tertiary</td>\n",
       "      <td>no</td>\n",
       "      <td>no</td>\n",
       "      <td>yes</td>\n",
       "      <td>yes</td>\n",
       "      <td>unknown</td>\n",
       "      <td>5</td>\n",
       "      <td>may, 2017</td>\n",
       "      <td>217 sec</td>\n",
       "      <td>1</td>\n",
       "      <td>-1</td>\n",
       "      <td>0</td>\n",
       "      <td>unknown</td>\n",
       "      <td>no</td>\n",
       "    </tr>\n",
       "    <tr>\n",
       "      <th>7</th>\n",
       "      <td>8</td>\n",
       "      <td>42.0</td>\n",
       "      <td>120000</td>\n",
       "      <td>2</td>\n",
       "      <td>divorced</td>\n",
       "      <td>entrepreneur,tertiary</td>\n",
       "      <td>no</td>\n",
       "      <td>yes</td>\n",
       "      <td>yes</td>\n",
       "      <td>no</td>\n",
       "      <td>unknown</td>\n",
       "      <td>5</td>\n",
       "      <td>may, 2017</td>\n",
       "      <td>380 sec</td>\n",
       "      <td>1</td>\n",
       "      <td>-1</td>\n",
       "      <td>0</td>\n",
       "      <td>unknown</td>\n",
       "      <td>no</td>\n",
       "    </tr>\n",
       "    <tr>\n",
       "      <th>8</th>\n",
       "      <td>9</td>\n",
       "      <td>58.0</td>\n",
       "      <td>55000</td>\n",
       "      <td>121</td>\n",
       "      <td>married</td>\n",
       "      <td>retired,primary</td>\n",
       "      <td>yes</td>\n",
       "      <td>no</td>\n",
       "      <td>yes</td>\n",
       "      <td>no</td>\n",
       "      <td>unknown</td>\n",
       "      <td>5</td>\n",
       "      <td>may, 2017</td>\n",
       "      <td>50 sec</td>\n",
       "      <td>1</td>\n",
       "      <td>-1</td>\n",
       "      <td>0</td>\n",
       "      <td>unknown</td>\n",
       "      <td>no</td>\n",
       "    </tr>\n",
       "    <tr>\n",
       "      <th>9</th>\n",
       "      <td>10</td>\n",
       "      <td>43.0</td>\n",
       "      <td>60000</td>\n",
       "      <td>593</td>\n",
       "      <td>single</td>\n",
       "      <td>technician,secondary</td>\n",
       "      <td>yes</td>\n",
       "      <td>no</td>\n",
       "      <td>yes</td>\n",
       "      <td>no</td>\n",
       "      <td>unknown</td>\n",
       "      <td>5</td>\n",
       "      <td>may, 2017</td>\n",
       "      <td>55 sec</td>\n",
       "      <td>1</td>\n",
       "      <td>-1</td>\n",
       "      <td>0</td>\n",
       "      <td>unknown</td>\n",
       "      <td>no</td>\n",
       "    </tr>\n",
       "  </tbody>\n",
       "</table>\n",
       "</div>"
      ],
      "text/plain": [
       "   customerid   age  salary  balance   marital                  jobedu  \\\n",
       "0           1  58.0  100000     2143   married     management,tertiary   \n",
       "1           2  44.0   60000       29    single    technician,secondary   \n",
       "2           3  33.0  120000        2   married  entrepreneur,secondary   \n",
       "3           4  47.0   20000     1506   married     blue-collar,unknown   \n",
       "4           5  33.0       0        1    single         unknown,unknown   \n",
       "5           6  35.0  100000      231   married     management,tertiary   \n",
       "6           7  28.0  100000      447    single     management,tertiary   \n",
       "7           8  42.0  120000        2  divorced   entrepreneur,tertiary   \n",
       "8           9  58.0   55000      121   married         retired,primary   \n",
       "9          10  43.0   60000      593    single    technician,secondary   \n",
       "\n",
       "  targeted default housing loan  contact  day      month duration  campaign  \\\n",
       "0      yes      no     yes   no  unknown    5  may, 2017  261 sec         1   \n",
       "1      yes      no     yes   no  unknown    5  may, 2017  151 sec         1   \n",
       "2      yes      no     yes  yes  unknown    5  may, 2017   76 sec         1   \n",
       "3       no      no     yes   no  unknown    5  may, 2017   92 sec         1   \n",
       "4       no      no      no   no  unknown    5  may, 2017  198 sec         1   \n",
       "5      yes      no     yes   no  unknown    5  may, 2017  139 sec         1   \n",
       "6       no      no     yes  yes  unknown    5  may, 2017  217 sec         1   \n",
       "7       no     yes     yes   no  unknown    5  may, 2017  380 sec         1   \n",
       "8      yes      no     yes   no  unknown    5  may, 2017   50 sec         1   \n",
       "9      yes      no     yes   no  unknown    5  may, 2017   55 sec         1   \n",
       "\n",
       "   pdays  previous poutcome response  \n",
       "0     -1         0  unknown       no  \n",
       "1     -1         0  unknown       no  \n",
       "2     -1         0  unknown       no  \n",
       "3     -1         0  unknown       no  \n",
       "4     -1         0  unknown       no  \n",
       "5     -1         0  unknown       no  \n",
       "6     -1         0  unknown       no  \n",
       "7     -1         0  unknown       no  \n",
       "8     -1         0  unknown       no  \n",
       "9     -1         0  unknown       no  "
      ]
     },
     "execution_count": 31,
     "metadata": {},
     "output_type": "execute_result"
    }
   ],
   "source": [
    "# Importando los datos\n",
    "data = pd.read_csv(\"Marketing_Analysis.csv\", skiprows = 2)\n",
    "data.head(10)"
   ]
  },
  {
   "attachments": {},
   "cell_type": "markdown",
   "id": "c0f4f165-1009-435d-8736-08d60dab6991",
   "metadata": {},
   "source": [
    "Ahora echemos un vistazo a la base de datos: es una base de datos sobre consumidores. Pero, ¿qué datos tenemos? Tenemos dos tipos:\n",
    "\n",
    "* **Datos sociodemográficos:** la edad, salario, balance de dinero, estado marital, educación y trabajo,\n",
    "* **Datos financieros:** salario, si tiene un préstamo o no, si tiene casa o no.\n",
    "* **Datos internos de la empresa y campaña de marketing:** día, mes y año de contacto, si estuvo o no seleccionado para la campaña, si se aplicó o no la campaña y duración de la llamada.\n",
    "\n",
    "Es importante ver qué tipos de datos tenemos para saber a qué nos enfrentamos, qué datos hacen falta para nuestro objetivo, comportamientos atípicos, entre otros.\n",
    "\n",
    "Por ahora, veamos qué tamaño tiene la base de datos:"
   ]
  },
  {
   "cell_type": "code",
   "execution_count": 32,
   "id": "1fd31257-1b97-440f-973e-891753e38010",
   "metadata": {},
   "outputs": [
    {
     "data": {
      "text/plain": [
       "(45211, 19)"
      ]
     },
     "execution_count": 32,
     "metadata": {},
     "output_type": "execute_result"
    }
   ],
   "source": [
    "# Dimensiones de la base de datos\n",
    "data.shape"
   ]
  },
  {
   "attachments": {},
   "cell_type": "markdown",
   "id": "5de5cd1a-0650-4292-b64b-68b5dd7f8599",
   "metadata": {},
   "source": [
    "Esto nos dice que la base de datos tiene 19 columnas y 45211 filas. En otras palabras, tenemos 19 variables y 45211 consumidores (observaciones) en nuestra base de datos. "
   ]
  },
  {
   "attachments": {},
   "cell_type": "markdown",
   "id": "78a919d3",
   "metadata": {},
   "source": [
    "-------------------------------------------------------------"
   ]
  },
  {
   "attachments": {},
   "cell_type": "markdown",
   "id": "9407e3a7",
   "metadata": {},
   "source": [
    "#### Ejercicio\n",
    "\n",
    "Descargue la proyección de población realizada por el DANE que se encuentra en el siguiente [enlace](https://www.dane.gov.co/index.php/estadisticas-por-tema/demografia-y-poblacion/proyecciones-de-poblacion) y cárguela en Python. Debe tener cuidado, porque esta base de datos no empieza en la fila 1, sino más adelante:"
   ]
  },
  {
   "cell_type": "code",
   "execution_count": null,
   "id": "e7185330",
   "metadata": {},
   "outputs": [],
   "source": []
  },
  {
   "attachments": {},
   "cell_type": "markdown",
   "id": "f8b33d4c",
   "metadata": {},
   "source": [
    "-------------------------------------------------"
   ]
  },
  {
   "attachments": {},
   "cell_type": "markdown",
   "id": "ff2487d0-78a8-4919-80b1-6e448377e715",
   "metadata": {},
   "source": [
    "# 2. Valores perdidos (_missings_)"
   ]
  },
  {
   "attachments": {},
   "cell_type": "markdown",
   "id": "780d46ca",
   "metadata": {},
   "source": [
    "## 2.1. Exploración de valores perdidos"
   ]
  },
  {
   "attachments": {},
   "cell_type": "markdown",
   "id": "b8edddd2-a0d6-4382-98f7-68a6ea93f008",
   "metadata": {},
   "source": [
    "Los valores pérdidos son celdas que no registran ningún tipo de dato. Normalmente son representados en Python con `NaN` o `na`. En algunos casos, los valores perdidos pueden afectar los análisis descriptivos e inferenciales que se relicen, por lo cual se debe hacer un procedimiento para evitarlo. \n",
    "\n",
    "Sin embargo, antes de realizar cualquier procedimiento (que en un momento veremos), es importante analizar si existe algún patrón de comportamiento sobre los valores perdidos que nos puedan entregar información adicional. Es decir, **en ocasiones la pérdida de datos significa algo**, como por ejemplo la pérdida de datos de edad en las denuncias de algunos delitos: ello nos puede indicar que son menores de edad quienes son víctimas. Otros casos es la pérdida de datos en recolección de datos sobre género.\n",
    "\n",
    "Teniendo en cuenta lo anterior, realicemos una exploración pequeña. Veamos primero qué columnas presentan pérdida de datos:"
   ]
  },
  {
   "cell_type": "code",
   "execution_count": 33,
   "id": "2abfe1a3",
   "metadata": {},
   "outputs": [
    {
     "data": {
      "text/plain": [
       "customerid     0\n",
       "age           20\n",
       "salary         0\n",
       "balance        0\n",
       "marital        0\n",
       "jobedu         0\n",
       "targeted       0\n",
       "default        0\n",
       "housing        0\n",
       "loan           0\n",
       "contact        0\n",
       "day            0\n",
       "month         50\n",
       "duration       0\n",
       "campaign       0\n",
       "pdays          0\n",
       "previous       0\n",
       "poutcome       0\n",
       "response      30\n",
       "dtype: int64"
      ]
     },
     "execution_count": 33,
     "metadata": {},
     "output_type": "execute_result"
    }
   ],
   "source": [
    "# Suma de los valores perdidos por variables\n",
    "data.isnull().sum()"
   ]
  },
  {
   "attachments": {},
   "cell_type": "markdown",
   "id": "0b2f8259",
   "metadata": {},
   "source": [
    "Podemos observar que las variables `age`, `month` y `response` tienen pérdida de datos. Sin embargo, estamos analizando una información que podemos complementar con un enfoque relativo. Es decir, preguntémonos cuán grave es la pérdida de datos respecto al total de los datos registrados. Por tanto, encontremos el porcentaje de datos perdidos respecto al total con el siguiente código:"
   ]
  },
  {
   "cell_type": "code",
   "execution_count": 34,
   "id": "85f86dd5",
   "metadata": {},
   "outputs": [
    {
     "data": {
      "text/plain": [
       "customerid    0.000000\n",
       "age           0.044237\n",
       "salary        0.000000\n",
       "balance       0.000000\n",
       "marital       0.000000\n",
       "jobedu        0.000000\n",
       "targeted      0.000000\n",
       "default       0.000000\n",
       "housing       0.000000\n",
       "loan          0.000000\n",
       "contact       0.000000\n",
       "day           0.000000\n",
       "month         0.110593\n",
       "duration      0.000000\n",
       "campaign      0.000000\n",
       "pdays         0.000000\n",
       "previous      0.000000\n",
       "poutcome      0.000000\n",
       "response      0.066356\n",
       "dtype: float64"
      ]
     },
     "execution_count": 34,
     "metadata": {},
     "output_type": "execute_result"
    }
   ],
   "source": [
    "# Porcentaje de los valores perdidos por variables\n",
    "data.isnull().sum()/len(data)*100"
   ]
  },
  {
   "attachments": {},
   "cell_type": "markdown",
   "id": "e490fad0",
   "metadata": {},
   "source": [
    "Lo que vemos en el _output_ anterior es el porcentaje sobre el total de filas de valores perdidos. Como se puede observar, ninguno alcanza un porcentaje de pérdida mayor al 1% del total de los datos. Ello significa que esta base de datos tiene una altísima calidad (algo que será muy extraño en la vida real de la Ciencia de Datos).\n",
    "\n",
    "Aun así, exploremos un poco la edad para observar si existe una pérdida sistemática de datos que nos pueda guiar sobre el proceso. Empecemos con la variable `age`:"
   ]
  },
  {
   "cell_type": "code",
   "execution_count": 35,
   "id": "07a00ed3",
   "metadata": {},
   "outputs": [
    {
     "data": {
      "text/html": [
       "<div>\n",
       "<style scoped>\n",
       "    .dataframe tbody tr th:only-of-type {\n",
       "        vertical-align: middle;\n",
       "    }\n",
       "\n",
       "    .dataframe tbody tr th {\n",
       "        vertical-align: top;\n",
       "    }\n",
       "\n",
       "    .dataframe thead th {\n",
       "        text-align: right;\n",
       "    }\n",
       "</style>\n",
       "<table border=\"1\" class=\"dataframe\">\n",
       "  <thead>\n",
       "    <tr style=\"text-align: right;\">\n",
       "      <th></th>\n",
       "      <th>customerid</th>\n",
       "      <th>age</th>\n",
       "      <th>salary</th>\n",
       "      <th>balance</th>\n",
       "      <th>marital</th>\n",
       "      <th>jobedu</th>\n",
       "      <th>targeted</th>\n",
       "      <th>default</th>\n",
       "      <th>housing</th>\n",
       "      <th>loan</th>\n",
       "      <th>contact</th>\n",
       "      <th>day</th>\n",
       "      <th>month</th>\n",
       "      <th>duration</th>\n",
       "      <th>campaign</th>\n",
       "      <th>pdays</th>\n",
       "      <th>previous</th>\n",
       "      <th>poutcome</th>\n",
       "      <th>response</th>\n",
       "    </tr>\n",
       "  </thead>\n",
       "  <tbody>\n",
       "    <tr>\n",
       "      <th>161</th>\n",
       "      <td>162</td>\n",
       "      <td>NaN</td>\n",
       "      <td>60000</td>\n",
       "      <td>47</td>\n",
       "      <td>single</td>\n",
       "      <td>technician,tertiary</td>\n",
       "      <td>no</td>\n",
       "      <td>no</td>\n",
       "      <td>yes</td>\n",
       "      <td>no</td>\n",
       "      <td>unknown</td>\n",
       "      <td>5</td>\n",
       "      <td>may, 2017</td>\n",
       "      <td>181 sec</td>\n",
       "      <td>1</td>\n",
       "      <td>-1</td>\n",
       "      <td>0</td>\n",
       "      <td>unknown</td>\n",
       "      <td>no</td>\n",
       "    </tr>\n",
       "    <tr>\n",
       "      <th>1021</th>\n",
       "      <td>1022</td>\n",
       "      <td>NaN</td>\n",
       "      <td>60000</td>\n",
       "      <td>-500</td>\n",
       "      <td>married</td>\n",
       "      <td>technician,secondary</td>\n",
       "      <td>yes</td>\n",
       "      <td>no</td>\n",
       "      <td>yes</td>\n",
       "      <td>no</td>\n",
       "      <td>unknown</td>\n",
       "      <td>7</td>\n",
       "      <td>may, 2017</td>\n",
       "      <td>78 sec</td>\n",
       "      <td>5</td>\n",
       "      <td>-1</td>\n",
       "      <td>0</td>\n",
       "      <td>unknown</td>\n",
       "      <td>no</td>\n",
       "    </tr>\n",
       "    <tr>\n",
       "      <th>1585</th>\n",
       "      <td>1586</td>\n",
       "      <td>NaN</td>\n",
       "      <td>100000</td>\n",
       "      <td>123</td>\n",
       "      <td>divorced</td>\n",
       "      <td>management,secondary</td>\n",
       "      <td>yes</td>\n",
       "      <td>no</td>\n",
       "      <td>no</td>\n",
       "      <td>no</td>\n",
       "      <td>unknown</td>\n",
       "      <td>8</td>\n",
       "      <td>may, 2017</td>\n",
       "      <td>306 sec</td>\n",
       "      <td>2</td>\n",
       "      <td>-1</td>\n",
       "      <td>0</td>\n",
       "      <td>unknown</td>\n",
       "      <td>no</td>\n",
       "    </tr>\n",
       "    <tr>\n",
       "      <th>3943</th>\n",
       "      <td>3944</td>\n",
       "      <td>NaN</td>\n",
       "      <td>70000</td>\n",
       "      <td>62</td>\n",
       "      <td>married</td>\n",
       "      <td>services,tertiary</td>\n",
       "      <td>yes</td>\n",
       "      <td>no</td>\n",
       "      <td>yes</td>\n",
       "      <td>yes</td>\n",
       "      <td>unknown</td>\n",
       "      <td>16</td>\n",
       "      <td>may, 2017</td>\n",
       "      <td>280 sec</td>\n",
       "      <td>2</td>\n",
       "      <td>-1</td>\n",
       "      <td>0</td>\n",
       "      <td>unknown</td>\n",
       "      <td>no</td>\n",
       "    </tr>\n",
       "    <tr>\n",
       "      <th>5675</th>\n",
       "      <td>5676</td>\n",
       "      <td>NaN</td>\n",
       "      <td>20000</td>\n",
       "      <td>-85</td>\n",
       "      <td>married</td>\n",
       "      <td>blue-collar,primary</td>\n",
       "      <td>yes</td>\n",
       "      <td>no</td>\n",
       "      <td>yes</td>\n",
       "      <td>yes</td>\n",
       "      <td>unknown</td>\n",
       "      <td>26</td>\n",
       "      <td>may, 2017</td>\n",
       "      <td>118 sec</td>\n",
       "      <td>1</td>\n",
       "      <td>-1</td>\n",
       "      <td>0</td>\n",
       "      <td>unknown</td>\n",
       "      <td>no</td>\n",
       "    </tr>\n",
       "  </tbody>\n",
       "</table>\n",
       "</div>"
      ],
      "text/plain": [
       "      customerid  age  salary  balance   marital                jobedu  \\\n",
       "161          162  NaN   60000       47    single   technician,tertiary   \n",
       "1021        1022  NaN   60000     -500   married  technician,secondary   \n",
       "1585        1586  NaN  100000      123  divorced  management,secondary   \n",
       "3943        3944  NaN   70000       62   married     services,tertiary   \n",
       "5675        5676  NaN   20000      -85   married   blue-collar,primary   \n",
       "\n",
       "     targeted default housing loan  contact  day      month duration  \\\n",
       "161        no      no     yes   no  unknown    5  may, 2017  181 sec   \n",
       "1021      yes      no     yes   no  unknown    7  may, 2017   78 sec   \n",
       "1585      yes      no      no   no  unknown    8  may, 2017  306 sec   \n",
       "3943      yes      no     yes  yes  unknown   16  may, 2017  280 sec   \n",
       "5675      yes      no     yes  yes  unknown   26  may, 2017  118 sec   \n",
       "\n",
       "      campaign  pdays  previous poutcome response  \n",
       "161          1     -1         0  unknown       no  \n",
       "1021         5     -1         0  unknown       no  \n",
       "1585         2     -1         0  unknown       no  \n",
       "3943         2     -1         0  unknown       no  \n",
       "5675         1     -1         0  unknown       no  "
      ]
     },
     "execution_count": 35,
     "metadata": {},
     "output_type": "execute_result"
    }
   ],
   "source": [
    "# Obtenemos la base de datos solamente con las observaciones que registran missings\n",
    "data[data.age.isnull()].head()"
   ]
  },
  {
   "attachments": {},
   "cell_type": "markdown",
   "id": "902cdde2",
   "metadata": {},
   "source": [
    "Si bien aquí obtenemos la base filtrada por aquellas observaciones que tienen valores perdidos en la variabel `age`, no resulta muy clara la tendencia de esta variable respecto a otras. Por ello, procesemos un poco los datos para observar bien qué ocurre en el cruce con otras variables. Con el siguiente código, se puede establecer en la variable `var` cualquiera de las columnas que deseemos ver y sacará una tabla con los valores perdidos por la variable establecida.\n",
    "\n",
    "Juguemos con el código probando con las variables `month`, `loan` y `salary`:"
   ]
  },
  {
   "cell_type": "code",
   "execution_count": 36,
   "id": "ce31ec85",
   "metadata": {},
   "outputs": [
    {
     "data": {
      "text/html": [
       "<div>\n",
       "<style scoped>\n",
       "    .dataframe tbody tr th:only-of-type {\n",
       "        vertical-align: middle;\n",
       "    }\n",
       "\n",
       "    .dataframe tbody tr th {\n",
       "        vertical-align: top;\n",
       "    }\n",
       "\n",
       "    .dataframe thead th {\n",
       "        text-align: right;\n",
       "    }\n",
       "</style>\n",
       "<table border=\"1\" class=\"dataframe\">\n",
       "  <thead>\n",
       "    <tr style=\"text-align: right;\">\n",
       "      <th></th>\n",
       "      <th>customerid</th>\n",
       "    </tr>\n",
       "    <tr>\n",
       "      <th>month</th>\n",
       "      <th></th>\n",
       "    </tr>\n",
       "  </thead>\n",
       "  <tbody>\n",
       "    <tr>\n",
       "      <th>apr, 2017</th>\n",
       "      <td>1</td>\n",
       "    </tr>\n",
       "    <tr>\n",
       "      <th>aug, 2017</th>\n",
       "      <td>5</td>\n",
       "    </tr>\n",
       "    <tr>\n",
       "      <th>jul, 2017</th>\n",
       "      <td>3</td>\n",
       "    </tr>\n",
       "    <tr>\n",
       "      <th>jun, 2017</th>\n",
       "      <td>2</td>\n",
       "    </tr>\n",
       "    <tr>\n",
       "      <th>may, 2017</th>\n",
       "      <td>7</td>\n",
       "    </tr>\n",
       "    <tr>\n",
       "      <th>nov, 2017</th>\n",
       "      <td>1</td>\n",
       "    </tr>\n",
       "    <tr>\n",
       "      <th>oct, 2017</th>\n",
       "      <td>1</td>\n",
       "    </tr>\n",
       "  </tbody>\n",
       "</table>\n",
       "</div>"
      ],
      "text/plain": [
       "           customerid\n",
       "month                \n",
       "apr, 2017           1\n",
       "aug, 2017           5\n",
       "jul, 2017           3\n",
       "jun, 2017           2\n",
       "may, 2017           7\n",
       "nov, 2017           1\n",
       "oct, 2017           1"
      ]
     },
     "execution_count": 36,
     "metadata": {},
     "output_type": "execute_result"
    }
   ],
   "source": [
    "# Se define la variable por la que se quiere agrupar\n",
    "var = \"month\"\n",
    "\n",
    "# Se agrupa por categorías de la variable\n",
    "data[data.age.isnull()][[\"customerid\", var]].groupby(var).count()"
   ]
  },
  {
   "attachments": {},
   "cell_type": "markdown",
   "id": "acbc1aad",
   "metadata": {},
   "source": [
    "Como se pudo observar, no existe una distribución definida de los valores perdidos de `age` en ninguna variable de manera sistemática. ¿Cómo sabemos esto? Porque no se observa una concentración atípicamente alta de los valores perdidos en una variable específica. Por ejemplo, no se observa que todos los valores perdidos se los lleva junio o diciembre para la variable `month`. Los mismo ocurre con las otras variables, ya que se identifica una distribución más o menos equitativa entre todas las categorías. \n",
    "\n",
    "Solamente se observa para la variable `month` una concentración en el mes de mayo, pero desaparece al observar esta distribución como porcentaje del total de observaciones para esa categoría:"
   ]
  },
  {
   "cell_type": "code",
   "execution_count": 37,
   "id": "f0cdecee",
   "metadata": {},
   "outputs": [
    {
     "data": {
      "text/html": [
       "<div>\n",
       "<style scoped>\n",
       "    .dataframe tbody tr th:only-of-type {\n",
       "        vertical-align: middle;\n",
       "    }\n",
       "\n",
       "    .dataframe tbody tr th {\n",
       "        vertical-align: top;\n",
       "    }\n",
       "\n",
       "    .dataframe thead th {\n",
       "        text-align: right;\n",
       "    }\n",
       "</style>\n",
       "<table border=\"1\" class=\"dataframe\">\n",
       "  <thead>\n",
       "    <tr style=\"text-align: right;\">\n",
       "      <th></th>\n",
       "      <th>customerid</th>\n",
       "    </tr>\n",
       "    <tr>\n",
       "      <th>month</th>\n",
       "      <th></th>\n",
       "    </tr>\n",
       "  </thead>\n",
       "  <tbody>\n",
       "    <tr>\n",
       "      <th>apr, 2017</th>\n",
       "      <td>0.000341</td>\n",
       "    </tr>\n",
       "    <tr>\n",
       "      <th>aug, 2017</th>\n",
       "      <td>0.000801</td>\n",
       "    </tr>\n",
       "    <tr>\n",
       "      <th>dec, 2017</th>\n",
       "      <td>NaN</td>\n",
       "    </tr>\n",
       "    <tr>\n",
       "      <th>feb, 2017</th>\n",
       "      <td>NaN</td>\n",
       "    </tr>\n",
       "    <tr>\n",
       "      <th>jan, 2017</th>\n",
       "      <td>NaN</td>\n",
       "    </tr>\n",
       "    <tr>\n",
       "      <th>jul, 2017</th>\n",
       "      <td>0.000436</td>\n",
       "    </tr>\n",
       "    <tr>\n",
       "      <th>jun, 2017</th>\n",
       "      <td>0.000375</td>\n",
       "    </tr>\n",
       "    <tr>\n",
       "      <th>mar, 2017</th>\n",
       "      <td>NaN</td>\n",
       "    </tr>\n",
       "    <tr>\n",
       "      <th>may, 2017</th>\n",
       "      <td>0.000509</td>\n",
       "    </tr>\n",
       "    <tr>\n",
       "      <th>nov, 2017</th>\n",
       "      <td>0.000252</td>\n",
       "    </tr>\n",
       "    <tr>\n",
       "      <th>oct, 2017</th>\n",
       "      <td>0.001355</td>\n",
       "    </tr>\n",
       "    <tr>\n",
       "      <th>sep, 2017</th>\n",
       "      <td>NaN</td>\n",
       "    </tr>\n",
       "  </tbody>\n",
       "</table>\n",
       "</div>"
      ],
      "text/plain": [
       "           customerid\n",
       "month                \n",
       "apr, 2017    0.000341\n",
       "aug, 2017    0.000801\n",
       "dec, 2017         NaN\n",
       "feb, 2017         NaN\n",
       "jan, 2017         NaN\n",
       "jul, 2017    0.000436\n",
       "jun, 2017    0.000375\n",
       "mar, 2017         NaN\n",
       "may, 2017    0.000509\n",
       "nov, 2017    0.000252\n",
       "oct, 2017    0.001355\n",
       "sep, 2017         NaN"
      ]
     },
     "execution_count": 37,
     "metadata": {},
     "output_type": "execute_result"
    }
   ],
   "source": [
    "# Se divide el conteo de valores perdidos sobre el conteo de todos los valores por categoría\n",
    "var = \"month\"\n",
    "\n",
    "data[data.age.isnull()][[\"customerid\", var]].groupby(var).count()/data[[\"customerid\", var]].groupby(var).count()"
   ]
  },
  {
   "attachments": {},
   "cell_type": "markdown",
   "id": "692bc41a",
   "metadata": {},
   "source": [
    "Solo en algunas variables se ve un pequeño cambio cuando se convierte en porcentaje, pero no haremos mucho hincapié en este detalle ya que no es definitiva. Por el contrario, tenemos una buena base de datos."
   ]
  },
  {
   "attachments": {},
   "cell_type": "markdown",
   "id": "327433a7",
   "metadata": {},
   "source": [
    "## 2.2. Estrategias para mitigar el impacto de los valores perdidos"
   ]
  },
  {
   "attachments": {},
   "cell_type": "markdown",
   "id": "753cd941",
   "metadata": {},
   "source": [
    "Dado que ya revisamos que no vamos a afectar valores perdidos que podrían estarnos dando información adicional, podemos pensar en cómo mitigar su impacto por medio del procesamiento de sus valores. Las estrategias más ampliamente utilizadas son las siguientes:\n",
    "\n",
    "* **Eliminación:** se eliminan las filas y/o columnas que tengan los valores perdidos.\n",
    "* **Imputación:** se reemplaza el valor perdido por algún valor que tenga sentido. Hay tres formas básicas de hacerlo:\n",
    "    - Reemplazarlo por valores al azar dentro de la distribución de los datos.\n",
    "    - Reemplazarlo por valores discresionales o guiados por un conjunto de reglas preestablecidas.\n",
    "    - Reemplazarlo por la moda, media o mediana.\n",
    "    - Reemplazarlo por un valor predicho por un algoritmo de Machine Learning.\n",
    "\n",
    "> **Nota:** antes de cualquier tipo de modificación de los datos, primero debe comprobarse que la modificación no va a afectar significativamente el comportamiento de los datos o que se pierda información en el proceso. Por ello se realizó la exploración de valores perdidos preliminar.\n",
    "\n",
    "Revisemos cada tipo de estrategia de manera pedagógica:"
   ]
  },
  {
   "attachments": {},
   "cell_type": "markdown",
   "id": "dfa90612",
   "metadata": {},
   "source": [
    "### 2.2.1. Eliminación\n",
    "\n",
    "La eliminación hace referencia a la eliminación del conjunto de columnas y/o filas que presentan valores perdidos. El beneficio de esta estrategia consiste en no modificar valores que puedan afectar el comportamiento de los datos, especialmente si queremos explotar la variabilidad de los microdatos para obtener inferencia causal.\n",
    "\n",
    "En este sentido, la pregunta fundamental para decidir utilizar una estrategia de eliminación de datos es **¿qué tanto afecta la eliminación de los valores perdidos a la base de datos?** En otras palabras, debemos pensar si la eliminación de las columnas y/o filas que contienen los valores perdidos afecta bastante, poco o nada a la base de datos y los análisis y modelos que derivaremos de ella.\n",
    "\n",
    "Teniendo en cuenta lo anterior, resulta pertinente preguntarse si es preferible eliminar una columna o una serie de filas. Para ello, primero debemos preguntarnos: ¿la pérdida de datos se da en sentido de columna o sentido de fila? Es decir, ¿los valores perdidos se dan porque una columna/variable concentra los valores perdidos o si se distribuye entre diferentes variables? \n",
    "\n",
    "Si la respuesta resulta en que una o unas pocas columnas concentran la mayoría de datos perdidos, podemos preguntarnos sobre la utilidad de esa columna en el análisis que se realizará: ¿la variable va a ser utilizada en el análisis y/o construcción de modelos? Si dicha columna no tiene un valor agregado significativo en el análisis, es preferible eliminar la columna en vez de eliminar las filas y observaciones asociadas a la pérdida de información. Si la columna es importante, debemos mantenerla y hacernos otras preguntas que ya hacen referencia a las filas y observaciones.\n",
    "\n",
    "Si la respuesta resulta en que no existe una columna que concentra toda la pérdida de información o si debemos mantener la columna a pesar de su baja calidad de recolección, debemos volcarnos al análisis de pérdida de información desde las filas u observaciones. A partir de este punto, puede ocurrir dos cosas: 1. Hay pocas filas u observaciones con pérdida de datos o 2. Hay muchas filas u observaciones con pérdida de datos.\n",
    "\n",
    "En el primer caso (pocas filas u observaciones), podemos utilizar una regla simple que se acepta en la práctica: si el número de filas con pérdida de datos no supera el 5% de los datos, podemos eliminarnos. **¡Cuidado! Todo esto se decide después de un análisis minucioso sobre el tipo de datos que se están eliminando, porque podríamos eliminar datos que nos dan cuenta de fenómenos complejos que son el objetivo de nuestro análisis**. Si se ha observado que no existe una sistematicidad o patrón particular de la pérdida de información, podemos eliminar estas filas.\n",
    "\n",
    "En el segundo caso, **debemos evaluar si podemos realizar eliminaciones parciales o si se debe eliminar todas las filas**. Si se puede utilizar algún hallazgo para no eliminar todas las observaciones, podemos mitigar el efecto de la eliminación en la base de datos. Si no, entonces debemos preguntarnos si es una pérdida masiva de observaciones. Si es masiva, debemos enfocarnos más en estrategias de imputación.\n",
    "\n",
    "Ahora vamos a la práctica. Analicemos cuánta pérdida de información tenemos como porcentaje por variable con un código conocido:"
   ]
  },
  {
   "cell_type": "code",
   "execution_count": 38,
   "id": "5f4a601e",
   "metadata": {},
   "outputs": [
    {
     "data": {
      "text/plain": [
       "customerid    0.000000\n",
       "age           0.044237\n",
       "salary        0.000000\n",
       "balance       0.000000\n",
       "marital       0.000000\n",
       "jobedu        0.000000\n",
       "targeted      0.000000\n",
       "default       0.000000\n",
       "housing       0.000000\n",
       "loan          0.000000\n",
       "contact       0.000000\n",
       "day           0.000000\n",
       "month         0.110593\n",
       "duration      0.000000\n",
       "campaign      0.000000\n",
       "pdays         0.000000\n",
       "previous      0.000000\n",
       "poutcome      0.000000\n",
       "response      0.066356\n",
       "dtype: float64"
      ]
     },
     "execution_count": 38,
     "metadata": {},
     "output_type": "execute_result"
    }
   ],
   "source": [
    "data.isnull().sum()/len(data)*100"
   ]
  },
  {
   "attachments": {},
   "cell_type": "markdown",
   "id": "f1c5a853",
   "metadata": {},
   "source": [
    "Al parecer no tenemos pérdida masiva de datos: ninguno supera más del 1% de los datos. Adicionalmente, no hay una columna que tenga una concentración grande de pérdida de datos para eliminarla de forma directa. En este caso, **la estrategia apropiada sería eliminar las filas que presentan pérdida de datos y no columnas**. El efecto parecería no ser significativo sobre la base de datos.\n",
    "\n",
    "Para esta ocasión y con objetivos pedagógicos, **eliminemos dos columnas** (`age` y `response`) con el método `drop()`:"
   ]
  },
  {
   "cell_type": "code",
   "execution_count": 39,
   "id": "e9cd0077",
   "metadata": {},
   "outputs": [
    {
     "data": {
      "text/plain": [
       "Index(['customerid', 'salary', 'balance', 'marital', 'jobedu', 'targeted',\n",
       "       'default', 'housing', 'loan', 'contact', 'day', 'month', 'duration',\n",
       "       'campaign', 'pdays', 'previous', 'poutcome'],\n",
       "      dtype='object')"
      ]
     },
     "execution_count": 39,
     "metadata": {},
     "output_type": "execute_result"
    }
   ],
   "source": [
    "# Creamos una copia de la base original para no afectar los datos\n",
    "test = data.copy()\n",
    "\n",
    "# Eliminamos la columna age\n",
    "test = test.drop(['age', 'response'], axis = 1)\n",
    "\n",
    "# Revisamos las columnas de la base de datos\n",
    "test.columns"
   ]
  },
  {
   "attachments": {},
   "cell_type": "markdown",
   "id": "586ca956",
   "metadata": {},
   "source": [
    "El método `drop()` permite eliminar, a la vez, columnas y filas según le indiquemos. Para ello está la opción `axis`: se especifica `axis = 0` para **eliminar filas** y `axis = 1` para **eliminar columnas**. "
   ]
  },
  {
   "attachments": {},
   "cell_type": "markdown",
   "id": "8f926fb6",
   "metadata": {},
   "source": [
    "> **Nota de programación:** el método `.copy()` es fundamental al generar copias de las bases de datos. Si no se incluye este y se escribe, para este caso, `test = data`, cualquier modificación que se haga en `test` también se va a ver reflejada en `data`. "
   ]
  },
  {
   "attachments": {},
   "cell_type": "markdown",
   "id": "55fb331c",
   "metadata": {},
   "source": [
    "Ahora probemos eliminando las filas que tienen un valor perdido en la columna `response`. Para este proceso, podríamos utilizar el método `drop()`, pero resulta bastante complejo porque hay que estipular los índices de las columnas a eliminar. Bajo esta premisa, utilizaremos otro método de filtración que hemos utilizado antes a partir de condiciones:"
   ]
  },
  {
   "cell_type": "code",
   "execution_count": 40,
   "id": "19e661c8",
   "metadata": {},
   "outputs": [
    {
     "name": "stdout",
     "output_type": "stream",
     "text": [
      "Número de filas antes de la eliminación: \t 45211\n",
      "Número de filas después de la eliminación: \t 45191\n",
      "Filas eliminadas: \t\t\t\t 20\n"
     ]
    }
   ],
   "source": [
    "# Creamos una copia de la base original para no afectar los datos\n",
    "test = data.copy()\n",
    "\n",
    "# Imprimimos el número de filas inicial\n",
    "print(\"Número de filas antes de la eliminación: \\t\", test.shape[0])\n",
    "\n",
    "# Filtramos las filas a partir de la negación de la condición de que sean nulos\n",
    "test_filtered = test[~(test['age'].isnull())]\n",
    "\n",
    "# Imprimimos el número de filas tras la eliminación\n",
    "print(\"Número de filas después de la eliminación: \\t\", test_filtered.shape[0])\n",
    "\n",
    "# Imprimimos el número de filas eliminadas\n",
    "print(\"Filas eliminadas: \\t\\t\\t\\t\", test.shape[0] - test_filtered.shape[0])"
   ]
  },
  {
   "attachments": {},
   "cell_type": "markdown",
   "id": "e6830ad6",
   "metadata": {},
   "source": [
    "> **Nota:** en este caso estamos utilizando lo que hemos aprendido sobre condicionales. De manera resumida, el método `isnull()` nos ayuda a obtener una condición que evalúa si un valor es o no perdido. Cuando utilizamos el operados \"`~`\" negamos esa condición, con lo cual obtiene el conjunto de datos que no son _missings_. Es decir, con esto tenemos la base de datos que no tiene valores perdidos."
   ]
  },
  {
   "attachments": {},
   "cell_type": "markdown",
   "id": "489e9187",
   "metadata": {},
   "source": [
    "### 2.2.2. Imputación\n",
    "\n",
    "La imputación hace referencia a adjudicarle un valor establecido a las celdas donde se encuentran los valores perdidos. Para ello tenemos tres estrategias principales:"
   ]
  },
  {
   "attachments": {},
   "cell_type": "markdown",
   "id": "00bb72cb",
   "metadata": {},
   "source": [
    "#### 2.2.2.1. Reemplazo por valores aleatorios"
   ]
  },
  {
   "attachments": {},
   "cell_type": "markdown",
   "id": "0a349767",
   "metadata": {},
   "source": [
    "#### 2.2.2.2. Reemplazo por valores discresionales o guiados por un conjunto de reglas preestablecidas\n",
    "\n",
    "En algunos casos, la exploración preliminar nos otorga información suficiente para saber qué valor es el faltante. Incluso el conocimiento sobre la fuente o forma de recolección de la base de datos nos entrega esa información. Por ejemplo, si en la recolección de los datos no había opciones para indicar que alguien era menor de edad, podríamos saber que los valores perdidos se deben a eso y reemplazar los _missings_ con este hallazgo.\n",
    "\n",
    "Ahora, es mejor estar seguros antes de hacer un cambio discresional de esta manera. Por lo general, se realizan encuestas, grupos focales o investigaciones sobre el fenómeno que causó la pérdida de información. En el caso que acabamos de establecer, una guía de acción válida es dirigirse a la fuente principal (los clientes o quienes digitaron la información) y preguntarles por qué los datos están vacíos. Con ello tenemos una claridad.\n",
    "\n",
    "Paralelamente, también se puede imputar valores a partir de una serie de reglas o condiciones. Por ejemplo, si sabemos que las personas de 18 años no pueden ganar más de US$1.000, pues tenemos una idea de qué puede ayudarnos a saber cuál es un valor perdido a partir de otra columna de la que sí tenemos información. Nuevamente, esto se genera a partir del análisis de los fenómenos en los que estamos trabajando.\n",
    "\n",
    "Por ahora y de manera pedagógica, vamos a suponer que sabemos que los valores perdidos corresponden a menores de edad. Para ello, podemos modificar los valores perdidos por un valor establecido de la siguiente manera:"
   ]
  },
  {
   "cell_type": "code",
   "execution_count": 41,
   "id": "b10fbdd3",
   "metadata": {},
   "outputs": [
    {
     "name": "stdout",
     "output_type": "stream",
     "text": [
      "Valores únicos:\n",
      "\n",
      "[58.0 44.0 33.0 47.0 35.0 28.0 42.0 43.0 41.0 29.0 53.0 57.0 51.0 45.0\n",
      " 60.0 56.0 32.0 25.0 40.0 39.0 52.0 46.0 36.0 49.0 59.0 37.0 50.0 54.0\n",
      " 55.0 48.0 24.0 38.0 31.0 30.0 27.0 34.0 23.0 26.0 '<18' 61.0 22.0 21.0\n",
      " 20.0 66.0 62.0 83.0 75.0 67.0 70.0 65.0 68.0 64.0 69.0 72.0 71.0 19.0\n",
      " 76.0 85.0 63.0 90.0 82.0 73.0 74.0 78.0 80.0 94.0 79.0 77.0 86.0 95.0\n",
      " 81.0 18.0 89.0 84.0 87.0 92.0 93.0 88.0]\n",
      "Lista de valores perdidos por variable:\n",
      "\n"
     ]
    },
    {
     "data": {
      "text/plain": [
       "customerid     0\n",
       "age            0\n",
       "salary         0\n",
       "balance        0\n",
       "marital        0\n",
       "jobedu         0\n",
       "targeted       0\n",
       "default        0\n",
       "housing        0\n",
       "loan           0\n",
       "contact        0\n",
       "day            0\n",
       "month         50\n",
       "duration       0\n",
       "campaign       0\n",
       "pdays          0\n",
       "previous       0\n",
       "poutcome       0\n",
       "response      30\n",
       "dtype: int64"
      ]
     },
     "execution_count": 41,
     "metadata": {},
     "output_type": "execute_result"
    }
   ],
   "source": [
    "# Creamos una copia de la base original para no afectar los datos\n",
    "test = data.copy()\n",
    "\n",
    "# Se reemplaza los casos de valores perdidos por la moda\n",
    "test.loc[test.age.isnull()] = \"<18\"\n",
    "\n",
    "# Chequeamos los valores únicos de la variable intervenida\n",
    "print(\"Valores únicos:\\n\")\n",
    "print(test.age.unique())\n",
    "\n",
    "# Chequeamos los valores perdidos\n",
    "print(\"Lista de valores perdidos por variable:\\n\")\n",
    "test.isnull().sum()"
   ]
  },
  {
   "attachments": {},
   "cell_type": "markdown",
   "id": "0eefd9d5",
   "metadata": {},
   "source": [
    "¡Vòila! No hay ningún valor perdido para `age` y se incluye en la lista de valores únicos el dato de `<18`.\n",
    "\n",
    "> **Nota:** ¿por qué se reemplazó por el valor `<18` y no por números como el 17, 16, 15, entre otros? La razón se basa en que podemos saber que esos datos están perdidos porque eran menores de edad, pero **_no sabemos qué edad entre 0 y 17 tenían cuando la base fue recolectada_**. Esto solamente lo podemos saber si se hace una investigación más exhaustiva. Hasta entonces, resulta preferible ser más conservadores con la imputación de los datos.\n",
    "\n",
    "> **Nota de programación:** el método `.copy()` es fundamental al generar copias de las bases de datos. Si no se incluye este y se escribe, para este caso, `test = data`, cualquier modificación que se haga en `test` también se va a ver reflejada en `data`. "
   ]
  },
  {
   "attachments": {},
   "cell_type": "markdown",
   "id": "9d65483f",
   "metadata": {},
   "source": [
    "#### 2.2.2.3. Reemplazo por medidas de tendencia central (media, mediana o moda)\n",
    "\n",
    "La estrategia de reemplazo por medidas de tendencia central son bastante utilizadas para evitar una pérdida considerable de información sin afectar, precisamente, las medidas de tendencia central y el comportamiento típico de la distribución de los datos. Resulta positiva para mantener el comportamiento _promedio_ o _general_ de los datos, pero puede afectar levemente los resultados de algunos análisis cuando se llevan al detalle del micro dato.\n",
    "\n",
    "Así mismo, el uso de cada una de las medidas de tendencia central depende de la situación a la que el o la analista se enfrenta, la distribución de los datos y el objetivo de su análisis. En detalle, se utiliza cada una en los siguientes casos:\n",
    "\n",
    "- **Media:** también llamada promedio, se utiliza sobre todo en distribuciones normales, en las cuales la media representa bastante bien la tendencia de los datos y su distribución típica. **Es la estrategia más utilizada y sencilla**.\n",
    "- **Mediana:** se utiliza en distribuciones sesgadas no normales, en las cuales la media también tiende a sesgarse hacia la cola con mayor peso de lo distribución. Por tanto, en este caso, la media no representa bien la tendencia central de los datos ni su distribución típica, por lo cual se utiliza la mediana (o percentil 50) como representación de los datos. **Es la estrategia más utilizada y sencilla para distribuciones sesgadas**.\n",
    "- **Moda:** como la mediana, se utiliza en distribuciones sesgadas no normales o en datos tipo categóricos, dado que es más probable que el valor perdido sea el dato de la moda que otro valor. Sin embargo, tiene alta probabilidad de sesgar aún más los datos, pues sobre-representará un valor o categoría en los datos. Por tanto, **solo debe ser usado si se cuenta con un fundamento teórico bastante fuerte para deducir que es el mejor valor a usar**.\n",
    "\n",
    "Por ahora, vamos a imputar la media de los datos de la edad a los missings de los datos. Para este caso, se utilizará la función `fillna()`, pero se puede imputar con el método anterior de asignar datos a los valores perdidos. La ventaja de la función `fillna()` es que imputa todos los valores perdidos de todas las columnas de la base de datos al tiempo. En esta ocasión solo lo haremos para la columna de `age`:"
   ]
  },
  {
   "cell_type": "code",
   "execution_count": 42,
   "id": "58d77b97",
   "metadata": {},
   "outputs": [
    {
     "data": {
      "text/plain": [
       "customerid     0\n",
       "age            0\n",
       "salary         0\n",
       "balance        0\n",
       "marital        0\n",
       "jobedu         0\n",
       "targeted       0\n",
       "default        0\n",
       "housing        0\n",
       "loan           0\n",
       "contact        0\n",
       "day            0\n",
       "month         50\n",
       "duration       0\n",
       "campaign       0\n",
       "pdays          0\n",
       "previous       0\n",
       "poutcome       0\n",
       "response      30\n",
       "dtype: int64"
      ]
     },
     "execution_count": 42,
     "metadata": {},
     "output_type": "execute_result"
    }
   ],
   "source": [
    "# Creamos una copia de la base original para no afectar los datos\n",
    "test = data.copy()\n",
    "\n",
    "# Se encuentra la media\n",
    "replace_value = test.age.mean()\n",
    "\n",
    "# Se imputan los datos\n",
    "test.age.fillna(replace_value, inplace = True)\n",
    "\n",
    "# Chequeamos los valores perdidos\n",
    "test.isnull().sum()"
   ]
  },
  {
   "attachments": {},
   "cell_type": "markdown",
   "id": "e26702ed",
   "metadata": {},
   "source": [
    "Ahora revisaremos si existe algún cambio en la distribución de los datos:"
   ]
  },
  {
   "cell_type": "code",
   "execution_count": 43,
   "id": "23be9657",
   "metadata": {},
   "outputs": [
    {
     "name": "stdout",
     "output_type": "stream",
     "text": [
      "Mean without imputation: \t 40.936\n",
      "Mean with imputation: \t\t 40.936\n",
      "Median without imputation: \t 39.0\n",
      "Median with imputation: \t 39.0\n"
     ]
    },
    {
     "data": {
      "image/png": "[encoded data removed]",
      "text/plain": [
       "<Figure size 864x720 with 1 Axes>"
      ]
     },
     "metadata": {
      "needs_background": "light"
     },
     "output_type": "display_data"
    }
   ],
   "source": [
    "# Se importan las librerías \n",
    "import matplotlib.pyplot as plt\n",
    "import statistics\n",
    "import numpy as np\n",
    "\n",
    "# Se crean los subplots para doble eje\n",
    "plt.figure(figsize=(12,10))\n",
    "\n",
    "\n",
    "# Gráfica de shared rooms\n",
    "plt.hist(data[\"age\"],\\\n",
    "         bins = 50, alpha = 0.2, color = \"red\", label = \"Without Imputation\")\n",
    "\n",
    "# Gráfica de private rooms\n",
    "plt.hist(test[\"age\"],\\\n",
    "         bins = 50, alpha = 0.2, color = \"blue\", label = \"With Imputation\")\n",
    "\n",
    "# Vertical line of the median\n",
    "plt.axvline(x = np.nanmean(data[\"age\"]),\\\n",
    "            color = 'red', linestyle = \"dashed\")\n",
    "plt.axvline(x = statistics.mean(test[\"age\"]),\\\n",
    "            color = 'blue', linestyle = \"dashed\")\n",
    "\n",
    "plt.axvline(x = np.nanmedian(data[\"age\"]),\\\n",
    "            color = 'black', linestyle = \"dashed\")\n",
    "plt.axvline(x = statistics.median(test[\"age\"]),\\\n",
    "            color = 'grey', linestyle = \"dashed\")\n",
    "\n",
    "# Título de la gráfica\n",
    "plt.title(\"Histograma comparativo de la distribución de edad por imputación\")\n",
    "\n",
    "# Leyenda\n",
    "plt.legend(loc = \"upper right\", bbox_to_anchor = (1,1))\n",
    "\n",
    "# Título del eje x e y\n",
    "plt.xlabel('Edad')\n",
    "plt.ylabel('Frecuencia de edad')\n",
    "\n",
    "# Printing means\n",
    "print(\"Mean without imputation: \\t\", round(np.nanmean(data[\"age\"]), 3))\n",
    "print(\"Mean with imputation: \\t\\t\", round(statistics.mean(test[\"age\"]), 3))\n",
    "\n",
    "# Printing Medians\n",
    "print(\"Median without imputation: \\t\", round(np.nanmedian(data[\"age\"]), 3))\n",
    "print(\"Median with imputation: \\t\", round(statistics.median(test[\"age\"]), 3))\n",
    "\n",
    "\n",
    "# Se muestra la gráfica\n",
    "plt.show()"
   ]
  },
  {
   "attachments": {},
   "cell_type": "markdown",
   "id": "7db5e94b",
   "metadata": {},
   "source": [
    "Sorpresivamente, el cambio no es significativo: tan solo una de las barras tiene un pequeño cambio en su distribución, el resto no lo tiene. Ni siquiera le mediana tiene un cambio percibible. Esto ocurre porque **el número de valores perdidos es bastante bajo**. Por tanto, los cambios no son observables bajo los métodos que aquí mostramos. Sin embargo, si los valores perdidos crecieran considerablemente, podríamos experimentar un cambio considerable sobre la distribución de los datos."
   ]
  },
  {
   "attachments": {},
   "cell_type": "markdown",
   "id": "c981da78-e045-4811-90b6-57a5fa618224",
   "metadata": {},
   "source": [
    "##### Pequeño Ejercicio:\n",
    "\n",
    "¿Cuál estrategia nos sirve más para tratar estos valores perdidos? ¿Eliminación o imputación?"
   ]
  },
  {
   "attachments": {},
   "cell_type": "markdown",
   "id": "91ac6742-7126-4949-bbc9-bce6c22acf53",
   "metadata": {},
   "source": []
  },
  {
   "attachments": {},
   "cell_type": "markdown",
   "id": "2293799d-0e3d-424c-be60-4313a895fe3e",
   "metadata": {},
   "source": [
    "\n",
    "--------------------\n",
    "**¡Importante!**\n",
    "\n",
    "La eliminación como estrategia de manejo de valores perdidos tiene las siguientes ventajas y desventajas:\n",
    "\n",
    "* **Ventajas:**\n",
    "    - **Elimina \"ruido\":** en ocasiones, los valores perdidos llevan a conclusiones erróneas cuando son tenidas en cuenta en el análisis o modelamiento.\n",
    "    - **Resulta menos distorsionante que la imputación:** en ocasiones la imputación puede distorsionar altamente las bases de datos, ya que forza que una variable tenga un valor predeterminado por el o la analista. En dicha situación puede colarse el sesgo mismo de quien imputa.\n",
    "\n",
    "* **Desventajas:**\n",
    "    - **Reduce las observaciones:** en la mayoría de casos, esto no se puede realizar en bases de datos pequeñas, ya que cualquier pérdida de información es sumamente grave. Por ejemplo, en casos de enfermedades huérfanas (algunas cuentan con solo 10 casos a nivel mundial) la eliminación de datos puede ser supremamente perjudicial.\n",
    "    - **Puede eliminar información importante escondida en la pérdida de datos:** en ocasiones, la pérdida de información ofrece también información. Es decir, en ocasiones que no exista un dato puede tener una causa que ayude a entender el problema. Por ejemplo, en encuestas es común encontrar valores perdidos en preguntas sobre género, lo que puede indicar que la persona encuestada no se siente cómoda con las opciones existentes o que no quiere decir su género dado que es no binario o disidente.\n",
    "    \n",
    "--------------------"
   ]
  },
  {
   "attachments": {},
   "cell_type": "markdown",
   "id": "50943a23-7151-4f9e-8d6e-09c5d07e48cc",
   "metadata": {},
   "source": [
    "----------------\n",
    "**¡Importante**\n",
    "\n",
    "La imputación como estrategia de manejo de valores perdidos tiene las siguientes ventajas y desventajas:\n",
    "\n",
    "* **Ventajas:**\n",
    "    - **Mantiene las observaciones:** mantiene el mayor número de observaciones posibles, tal que permite cumplir con requisitos sobre el tamaño de la muestra.\n",
    "    - **Puede ser precisa en algunos casos:** con un buen análisis de los datos presentados y el fenómeno en cuestión, se puede inferir precisamente cuáles son los datos perdidos. Incluso, hasta modelos modernos de Machine Learning permiten obtener datos precisos al respecto.\n",
    "\n",
    "* **Desventajas:**\n",
    "     - **Genera \"ruido\":** en ocasiones, si se realiza mal el procedimiento, puede generar datos erróneos que deriven en conclusiones erróneas.\n",
    "    - **Puede inducir el sesgo del analista:** en ocasiones la imputación puede distorsionar altamente las bases de datos, ya que forza que una variable tenga un valor predeterminado por el o la analista. En dicha situación puede colarse el sesgo mismo de quien imputa.\n",
    "    \n",
    "--------------------"
   ]
  },
  {
   "attachments": {},
   "cell_type": "markdown",
   "id": "085c920a-4489-42b3-8810-844687fd6b8c",
   "metadata": {},
   "source": [
    "# 3. Modificación de variables"
   ]
  },
  {
   "attachments": {},
   "cell_type": "markdown",
   "id": "8c66a5ff",
   "metadata": {},
   "source": [
    "## 3.1. Transformación de variables conglomeradas"
   ]
  },
  {
   "attachments": {},
   "cell_type": "markdown",
   "id": "a68dffe4-5c20-4ffb-95a3-2d3d09ecb9b9",
   "metadata": {},
   "source": [
    "Las bases de datos van a tener variables que van a tener adecuadamente diferenciadas sus variables. Sin embargo, en ocasiones tendremos que modificarlas para hacerlas útiles para nuestros objetivos. Las formas más fáciles de modificación de columnas es cambiarle el tipo de variable (cosa que ya hemos visto con anterioridad). No obstante, hay algunas variables que debemos modificar con mayor profundidad. En esto se incluyen errores ortográficos, errores de digitación, entre otros.\n",
    "\n",
    "Analicemos detenidamente las variables `month` y `day`:"
   ]
  },
  {
   "cell_type": "code",
   "execution_count": 44,
   "id": "47ab0fc5-7b6a-425d-b4a6-642e2596c441",
   "metadata": {},
   "outputs": [
    {
     "data": {
      "text/html": [
       "<div>\n",
       "<style scoped>\n",
       "    .dataframe tbody tr th:only-of-type {\n",
       "        vertical-align: middle;\n",
       "    }\n",
       "\n",
       "    .dataframe tbody tr th {\n",
       "        vertical-align: top;\n",
       "    }\n",
       "\n",
       "    .dataframe thead th {\n",
       "        text-align: right;\n",
       "    }\n",
       "</style>\n",
       "<table border=\"1\" class=\"dataframe\">\n",
       "  <thead>\n",
       "    <tr style=\"text-align: right;\">\n",
       "      <th></th>\n",
       "      <th>day</th>\n",
       "      <th>month</th>\n",
       "    </tr>\n",
       "  </thead>\n",
       "  <tbody>\n",
       "    <tr>\n",
       "      <th>0</th>\n",
       "      <td>5</td>\n",
       "      <td>may, 2017</td>\n",
       "    </tr>\n",
       "    <tr>\n",
       "      <th>1</th>\n",
       "      <td>5</td>\n",
       "      <td>may, 2017</td>\n",
       "    </tr>\n",
       "    <tr>\n",
       "      <th>2</th>\n",
       "      <td>5</td>\n",
       "      <td>may, 2017</td>\n",
       "    </tr>\n",
       "    <tr>\n",
       "      <th>3</th>\n",
       "      <td>5</td>\n",
       "      <td>may, 2017</td>\n",
       "    </tr>\n",
       "    <tr>\n",
       "      <th>4</th>\n",
       "      <td>5</td>\n",
       "      <td>may, 2017</td>\n",
       "    </tr>\n",
       "    <tr>\n",
       "      <th>...</th>\n",
       "      <td>...</td>\n",
       "      <td>...</td>\n",
       "    </tr>\n",
       "    <tr>\n",
       "      <th>45206</th>\n",
       "      <td>17</td>\n",
       "      <td>nov, 2017</td>\n",
       "    </tr>\n",
       "    <tr>\n",
       "      <th>45207</th>\n",
       "      <td>17</td>\n",
       "      <td>nov, 2017</td>\n",
       "    </tr>\n",
       "    <tr>\n",
       "      <th>45208</th>\n",
       "      <td>17</td>\n",
       "      <td>nov, 2017</td>\n",
       "    </tr>\n",
       "    <tr>\n",
       "      <th>45209</th>\n",
       "      <td>17</td>\n",
       "      <td>nov, 2017</td>\n",
       "    </tr>\n",
       "    <tr>\n",
       "      <th>45210</th>\n",
       "      <td>17</td>\n",
       "      <td>nov, 2017</td>\n",
       "    </tr>\n",
       "  </tbody>\n",
       "</table>\n",
       "<p>45211 rows × 2 columns</p>\n",
       "</div>"
      ],
      "text/plain": [
       "       day      month\n",
       "0        5  may, 2017\n",
       "1        5  may, 2017\n",
       "2        5  may, 2017\n",
       "3        5  may, 2017\n",
       "4        5  may, 2017\n",
       "...    ...        ...\n",
       "45206   17  nov, 2017\n",
       "45207   17  nov, 2017\n",
       "45208   17  nov, 2017\n",
       "45209   17  nov, 2017\n",
       "45210   17  nov, 2017\n",
       "\n",
       "[45211 rows x 2 columns]"
      ]
     },
     "execution_count": 44,
     "metadata": {},
     "output_type": "execute_result"
    }
   ],
   "source": [
    "# Se seleccionan las columnas de interés\n",
    "data[[\"day\", \"month\"]]"
   ]
  },
  {
   "attachments": {},
   "cell_type": "markdown",
   "id": "541e2a5c-d90e-45ef-8e7e-a20fec38f2a6",
   "metadata": {},
   "source": [
    "Como se puede observar, no representan una fecha exactamente. Por el contrario, combinan dos tipos de datos: `str` e `int`. Veamos esto con el método `dtypes` que nos indica los tipos de los datos:"
   ]
  },
  {
   "cell_type": "code",
   "execution_count": 45,
   "id": "0eedd5b6-1d39-44e9-882e-c4134f320540",
   "metadata": {},
   "outputs": [
    {
     "data": {
      "text/plain": [
       "day       int64\n",
       "month    object\n",
       "dtype: object"
      ]
     },
     "execution_count": 45,
     "metadata": {},
     "output_type": "execute_result"
    }
   ],
   "source": [
    "# Se revisan los tipos de las columnas\n",
    "data[[\"day\", \"month\"]].dtypes"
   ]
  },
  {
   "attachments": {},
   "cell_type": "markdown",
   "id": "68872542-90b4-4509-8e96-434f52ba23a6",
   "metadata": {},
   "source": [
    "Resultaría mucho más útil tener una sola columna del tipo `datetime`. Sin embargo, la variable `month` combina tanto el mes como el año. Para separarlos, podemos realizar el siguiente proceso con el método `str.split()`:"
   ]
  },
  {
   "cell_type": "code",
   "execution_count": 46,
   "id": "2e6802df-c7d8-4351-acfa-cf413b1f884f",
   "metadata": {},
   "outputs": [
    {
     "data": {
      "text/html": [
       "<div>\n",
       "<style scoped>\n",
       "    .dataframe tbody tr th:only-of-type {\n",
       "        vertical-align: middle;\n",
       "    }\n",
       "\n",
       "    .dataframe tbody tr th {\n",
       "        vertical-align: top;\n",
       "    }\n",
       "\n",
       "    .dataframe thead th {\n",
       "        text-align: right;\n",
       "    }\n",
       "</style>\n",
       "<table border=\"1\" class=\"dataframe\">\n",
       "  <thead>\n",
       "    <tr style=\"text-align: right;\">\n",
       "      <th></th>\n",
       "      <th>month</th>\n",
       "      <th>year</th>\n",
       "    </tr>\n",
       "  </thead>\n",
       "  <tbody>\n",
       "    <tr>\n",
       "      <th>0</th>\n",
       "      <td>may</td>\n",
       "      <td>2017</td>\n",
       "    </tr>\n",
       "    <tr>\n",
       "      <th>1</th>\n",
       "      <td>may</td>\n",
       "      <td>2017</td>\n",
       "    </tr>\n",
       "    <tr>\n",
       "      <th>2</th>\n",
       "      <td>may</td>\n",
       "      <td>2017</td>\n",
       "    </tr>\n",
       "    <tr>\n",
       "      <th>3</th>\n",
       "      <td>may</td>\n",
       "      <td>2017</td>\n",
       "    </tr>\n",
       "    <tr>\n",
       "      <th>4</th>\n",
       "      <td>may</td>\n",
       "      <td>2017</td>\n",
       "    </tr>\n",
       "    <tr>\n",
       "      <th>...</th>\n",
       "      <td>...</td>\n",
       "      <td>...</td>\n",
       "    </tr>\n",
       "    <tr>\n",
       "      <th>45206</th>\n",
       "      <td>nov</td>\n",
       "      <td>2017</td>\n",
       "    </tr>\n",
       "    <tr>\n",
       "      <th>45207</th>\n",
       "      <td>nov</td>\n",
       "      <td>2017</td>\n",
       "    </tr>\n",
       "    <tr>\n",
       "      <th>45208</th>\n",
       "      <td>nov</td>\n",
       "      <td>2017</td>\n",
       "    </tr>\n",
       "    <tr>\n",
       "      <th>45209</th>\n",
       "      <td>nov</td>\n",
       "      <td>2017</td>\n",
       "    </tr>\n",
       "    <tr>\n",
       "      <th>45210</th>\n",
       "      <td>nov</td>\n",
       "      <td>2017</td>\n",
       "    </tr>\n",
       "  </tbody>\n",
       "</table>\n",
       "<p>45211 rows × 2 columns</p>\n",
       "</div>"
      ],
      "text/plain": [
       "      month   year\n",
       "0       may   2017\n",
       "1       may   2017\n",
       "2       may   2017\n",
       "3       may   2017\n",
       "4       may   2017\n",
       "...     ...    ...\n",
       "45206   nov   2017\n",
       "45207   nov   2017\n",
       "45208   nov   2017\n",
       "45209   nov   2017\n",
       "45210   nov   2017\n",
       "\n",
       "[45211 rows x 2 columns]"
      ]
     },
     "execution_count": 46,
     "metadata": {},
     "output_type": "execute_result"
    }
   ],
   "source": [
    "# Se separan el mes y el año\n",
    "data[[\"month\", \"year\"]] = data[\"month\"].str.split(\",\", expand = True)\n",
    "\n",
    "# Se revisan los datos\n",
    "data[['month', 'year']]"
   ]
  },
  {
   "attachments": {},
   "cell_type": "markdown",
   "id": "4dfa629f-e374-4e35-b2dd-dfe9d78a553a",
   "metadata": {},
   "source": [
    "Ahora, tenemos el día, el mes y el año en diferentes columnas. Sería de mayor utilidad tenerla en una sola:"
   ]
  },
  {
   "cell_type": "code",
   "execution_count": 47,
   "id": "1902925b-2fe1-47ee-ae9d-a29aaa2f92c1",
   "metadata": {},
   "outputs": [
    {
     "data": {
      "text/plain": [
       "customerid             int64\n",
       "age                  float64\n",
       "salary                 int64\n",
       "balance                int64\n",
       "marital               object\n",
       "jobedu                object\n",
       "targeted              object\n",
       "default               object\n",
       "housing               object\n",
       "loan                  object\n",
       "contact               object\n",
       "day                    int64\n",
       "month                 object\n",
       "duration              object\n",
       "campaign               int64\n",
       "pdays                  int64\n",
       "previous               int64\n",
       "poutcome              object\n",
       "response              object\n",
       "year                  object\n",
       "date          datetime64[ns]\n",
       "dtype: object"
      ]
     },
     "execution_count": 47,
     "metadata": {},
     "output_type": "execute_result"
    }
   ],
   "source": [
    "# Se combinan las tres columnas como una cadena de texto\n",
    "data[\"date\"] = data.day.astype(str) + \"/\" + data.month + \"/\" + data.year\n",
    "\n",
    "# Removiendo un espacio\n",
    "data.date = data.date.str.replace(' ', '') \n",
    "\n",
    "# Convirtiendo la columna en un datetime\n",
    "data.date = pd.to_datetime(data.date)\n",
    "\n",
    "# Revisando la columna de la fecha\n",
    "data.dtypes"
   ]
  },
  {
   "attachments": {},
   "cell_type": "markdown",
   "id": "97a3c65d-4ac5-4bc2-aff9-2f0045a6b2af",
   "metadata": {},
   "source": [
    "--------------------------------------------\n",
    "\n",
    "#### Ejercicio"
   ]
  },
  {
   "attachments": {},
   "cell_type": "markdown",
   "id": "5ad8c740-8fcc-4220-87af-74e6762b1d8e",
   "metadata": {},
   "source": [
    "Convierta la variable `duration` en una variable de segundos enteros."
   ]
  },
  {
   "cell_type": "code",
   "execution_count": null,
   "id": "347029bf",
   "metadata": {},
   "outputs": [],
   "source": []
  },
  {
   "attachments": {},
   "cell_type": "markdown",
   "id": "29bdd456-c5fd-4b4e-9bb0-ef5d4916e0fb",
   "metadata": {},
   "source": [
    "Convierta la variable `jobedu` en dos columnas diferentes."
   ]
  },
  {
   "cell_type": "code",
   "execution_count": null,
   "id": "6a4c6e99",
   "metadata": {},
   "outputs": [],
   "source": []
  },
  {
   "attachments": {},
   "cell_type": "markdown",
   "id": "11328159",
   "metadata": {},
   "source": [
    "---------------------------------------------------------"
   ]
  },
  {
   "attachments": {},
   "cell_type": "markdown",
   "id": "b40d2b79",
   "metadata": {},
   "source": [
    "## 3.2. Falsos datos"
   ]
  },
  {
   "attachments": {},
   "cell_type": "markdown",
   "id": "a2b4c362",
   "metadata": {},
   "source": [
    "En algunas ocasiones, observaremos que los datos no tienen valores perdidos. Aun así, si hacemos un análisis más completo y profundo, encontraremos que existen valores equivalentes a valor perdido, pero que tienen una opción diferente al vacío. En estos casos, se nos presentan dos situaciones:\n",
    "\n",
    "* Los falsos valores son valores perdidos.\n",
    "* Los falsos valores tienen una razón de ser y reflejan información adicional.\n",
    "\n",
    "Revisemos la columna `contact`:"
   ]
  },
  {
   "cell_type": "code",
   "execution_count": 48,
   "id": "9bc30cb3",
   "metadata": {},
   "outputs": [
    {
     "data": {
      "text/plain": [
       "array(['unknown', 'cellular', 'telephone'], dtype=object)"
      ]
     },
     "execution_count": 48,
     "metadata": {},
     "output_type": "execute_result"
    }
   ],
   "source": [
    "data['contact'].unique()"
   ]
  },
  {
   "attachments": {},
   "cell_type": "markdown",
   "id": "e54bb4f4",
   "metadata": {},
   "source": [
    "Como se puede observar, existen valores de contacto de celular, teléfono y desconocido. Por lo general, esta representa un valor perdido. Sin embargo, ¡cuidado! Puede que signifique que las personas se acercaron caminando a la sucursal o que existe un canal diferente no conocido. Se debe primero analizar.\n",
    "\n",
    "En términos pedagógicos, vamos a asumir que este valor es perdido. Reemplacémoslo:"
   ]
  },
  {
   "cell_type": "code",
   "execution_count": 49,
   "id": "ebfc4db1",
   "metadata": {},
   "outputs": [
    {
     "data": {
      "text/plain": [
       "0        NaN\n",
       "1        NaN\n",
       "2        NaN\n",
       "3        NaN\n",
       "4        NaN\n",
       "        ... \n",
       "45061    NaN\n",
       "45062    NaN\n",
       "45122    NaN\n",
       "45135    NaN\n",
       "45136    NaN\n",
       "Name: contact, Length: 13020, dtype: object"
      ]
     },
     "execution_count": 49,
     "metadata": {},
     "output_type": "execute_result"
    }
   ],
   "source": [
    "import numpy as np\n",
    "\n",
    "data.loc[data['contact'] == 'unknown', 'contact'] = np.nan\n",
    "\n",
    "data.loc[data['contact'].isnull(), 'contact']"
   ]
  },
  {
   "attachments": {},
   "cell_type": "markdown",
   "id": "18c0ee95",
   "metadata": {},
   "source": [
    "-------------------------------------------------------\n",
    "\n",
    "#### Ejercicio"
   ]
  },
  {
   "attachments": {},
   "cell_type": "markdown",
   "id": "d1cdd62e",
   "metadata": {},
   "source": [
    "Revise la variable `poutcome` y compruebe si tiene un falso valor. Si sí, reemplácelo con un valor perdido."
   ]
  },
  {
   "cell_type": "code",
   "execution_count": null,
   "id": "76135547",
   "metadata": {},
   "outputs": [],
   "source": []
  }
 ],
 "metadata": {
  "kernelspec": {
   "display_name": "Python 3 (ipykernel)",
   "language": "python",
   "name": "python3"
  },
  "language_info": {
   "codemirror_mode": {
    "name": "ipython",
    "version": 3
   },
   "file_extension": ".py",
   "mimetype": "text/x-python",
   "name": "python",
   "nbconvert_exporter": "python",
   "pygments_lexer": "ipython3",
   "version": "3.10.5"
  }
 },
 "nbformat": 4,
 "nbformat_minor": 5
}
