{
 "cells": [
  {
   "cell_type": "markdown",
   "id": "1f5e491b-c9fa-42c5-aba8-24c30a571baf",
   "metadata": {},
   "source": [
    "# Clase 1: Introducción a Big Data"
   ]
  },
  {
   "cell_type": "markdown",
   "id": "f1845736-7951-4d17-b541-9be2c05f514c",
   "metadata": {},
   "source": [
    "## 1. ¿Qué es Big Data?"
   ]
  },
  {
   "cell_type": "markdown",
   "id": "657be132-6fd0-4187-a374-05b926a8e8fb",
   "metadata": {},
   "source": [
    "Actualmente los términos Big data, Ciencia de Datos (Data Science) Aprendizaje de Máquinas (Machine Learning) e Inteligencia Artificial (Artificial Intelligence) se utilizan como si fueran lo mismo. No obstante, son diferentes, por lo cual debemos definirlos para entender bien qué haremos.\n",
    "\n",
    "Sin embargo, antes de definirlo todo, debemos definir **qué son los datos**."
   ]
  },
  {
   "cell_type": "markdown",
   "id": "6e21b41b-2859-4f1a-bfef-5038eb9633eb",
   "metadata": {},
   "source": [
    "## 1.1. ¿Qué son los datos?"
   ]
  },
  {
   "attachments": {},
   "cell_type": "markdown",
   "id": "f6b7900c-d61a-4500-ad8b-07f0c9bb0383",
   "metadata": {},
   "source": [
    "Existen muchas definiciones de datos:\n",
    "\n",
    "* Información fáctica (como mediciones o estadísticas) utilizada como base para el razonamiento, la discusión o el cálculo (Merriam-Webster, 2022).\n",
    "* Características o información, generalmente numérica, que se recopila a través de la observación (OECD, 2008).\n",
    "* Un objeto, variable o pieza de información que tiene la capacidad percibida de ser recolectado, almacenado e idnetificado (Data Pop Alliance, 2022).\n",
    "\n",
    "No obstante, en este curso utilizaremos una definición coloquial \n",
    "> **Los datos son algo cuyo valor nos importa**. \n",
    "\n",
    "No es una definición formal, pero está de acuerdo con la realidad. \n",
    "\n",
    "**Advertencia:** ¡no confundir datos, información, conocimiento y sabiduría!\n",
    "\n",
    "<center><img src=\"images/Data-Wisdom.jpg\"/></center>"
   ]
  },
  {
   "cell_type": "markdown",
   "id": "9d8f24fa-816c-4769-8ea8-97c557011026",
   "metadata": {},
   "source": [
    "En ese sentido, los datos son nuestros números de cédula, edad, balance bancario, tus gustos, entre otros. También es el balance de una empresa, los ingresos, los gastos, el inventario y la producción. Así mismo lo son pixeles de una radiografía de tórax o de la imagen de una cara, las últimas palabras que te envió tu ex, likes en Instagram, comentarios en Twitter o los gustos de películas en Netflix. Somos datos y casi todo puede ser potencialmente un dato.\n",
    "\n",
    "Los datos pueden ser estructurados o no estructurados. Según Data Pop Alliance (2022), los **datos estructurados** son aquellos que responden a una pregunta, son fácilmente manipulados e idenficados y tienen una jerarquía que no es manipulada, como las respuestas a una encuesta, los años de una persona o su ingreso. Los **datos no estructurados** son aquellos que no están dispuestos para ser usados para análisis automático y por lo general responden a un objetivo diferente a ser recolectados y que no tiene un método de identificación jerárquico, tales como imágenes, videos, tweets, documentos, entre otros."
   ]
  },
  {
   "cell_type": "markdown",
   "id": "04edc8c4-14bc-495e-960b-218ab5ace3f0",
   "metadata": {},
   "source": [
    "## 1.2. ¿Qué es Big Data?"
   ]
  },
  {
   "cell_type": "markdown",
   "id": "b819c291-ebdd-443a-9cf7-d375b896301b",
   "metadata": {},
   "source": [
    "Siempre hemos tenido datos, la diferencia es que ahora tenemos datos más fácilmente y de manera menos costosa: tenemos sensores, plataformas, nuevas tecnologías, archivos de Excel, entre otros. Eso ha hecho que tengamos una cantidad inmensa de datos a disposición, incluso más de los que podemos procesar. En ese sentido, **Big Data hace referencia a los datos que presentan las 3 V's** (Oracle, 2022):\n",
    "\n",
    "* **Volumen:** los datos se presentan en grandes volúmenes que se deben recoger, procesar y analizar.\n",
    "* **Velocidad:** los datos se reciben a una velocidad mayor. Algunos incluso en tiempo real, sin necesidad de discos de almacenamiento.\n",
    "*  **Variedad:** los datos se presentan en una gran cantidad de tipos. Anteriormente, los datos eran estructurados (bases de daos relacionales), pero ahora la tecnología permite procesar datos no estructurados como texto, audio, video, entre otros.\n",
    "\n",
    "Algunos autores (Schroeder, 2016; Kumar & Nagpal, 2015) proponen dos V's adicionales:\n",
    "\n",
    "* **Valor:** los datos se han vuelto en uno de los activos más importantes. Sin embargo, el valor de los datos no es útil hasta que le demos un sentido. El analista de datos es quien le da valor agregado a los mismos.\n",
    "* **Veracidad:** los datos deben considerar un proceso para asegurarse que son confiables.\n",
    "\n",
    "Otras características son consideradas en Al-Mekhal & Ali Khwaja (2019)."
   ]
  },
  {
   "cell_type": "markdown",
   "id": "5549b878-27b0-47e2-805e-1539f439e44f",
   "metadata": {},
   "source": [
    "## 1.3. ¿Qué es la Ciencia de Datos?"
   ]
  },
  {
   "attachments": {},
   "cell_type": "markdown",
   "id": "b80ef8a2-f525-46ae-b838-a8815505b624",
   "metadata": {},
   "source": [
    "Ante esta gran disposición de datos, necesitamos una ciencia que permita a los humanos hacerle a los datos las preguntas correctas. En ese sentido, la Ciencia de Datos puede definirse como\n",
    "\n",
    "> **El proceso de formular hipótesis basados en el mundo alrededor nuestro para analizar los datos relevantes para validar o invalidar nuestra hipótesis**.\n",
    "\n",
    "En ese sentido, la Ciencia de Datos **NO** es exactamente lo que normalmente escuchamos:\n",
    "\n",
    "* No son computadores reconociendo imágenes de gatos y perros.\n",
    "* No es el programa del Tesla que se maneja solo.\n",
    "* No es el programa de IBM Watson que analiza los tejidos humanos en búsqueda de enfermedades.\n",
    "\n",
    "Estos ejemplos se acercan más a Machine Learning.\n",
    "\n",
    "<center><img src=\"images/datascienceone.jpg\" width = \"500\", height = \"450\"/></center>\n"
   ]
  },
  {
   "cell_type": "markdown",
   "id": "606b6755-2ce4-4edf-affb-05a3d0beb111",
   "metadata": {},
   "source": [
    "## 1.4. ¿Qué es Machine Learning?"
   ]
  },
  {
   "cell_type": "markdown",
   "id": "21c603ca-f4ae-4fc4-bd40-7c6a6904fe98",
   "metadata": {},
   "source": [
    "El aprendizaje de máquinas (Machine Learning) es \n",
    "\n",
    "> **La ciencia (y el arte) de programar computadores para que puedan _aprender de los datos_ (Géron, 2017)**. \n",
    "\n",
    "Con esta definición (y con lo que nos han contado), normalmente pensamos que Machine Learning (ML) es uno de los androides que pueden interactuar con humanos, una máquina que sabe cómo limpiar la casa, el programa que venció al campeón de ajedrez, incluso lo relacionamos con Terminator. Sí lo son, pero el ML puede llegar a ser más simple: un filtro de spam, un bot de servicio al cliente, un programa que identifica los probables sentimientos de comentarios en Twitter, una regresión lineal. También el ML puede ser más complejo: inteligencia artificial, aprendizaje automático, entre otros.\n",
    "\n",
    "En este curso nos concentraremos, en parte, en cómo programar computadores para que aprendan de los datos: nos concentraremos en el **cómo**. Aprenderemos los algoritmos más usados en ML:\n",
    "\n",
    "1. Algoritmo de clasificación con vecinos más cercanos (kNN).\n",
    "2. Aprendizaje probabilístico: Naive Bayes.\n",
    "3. Support Vector Machines.\n",
    "4. Árboles de decisión y bosques aleatorios (Random Forest).\n",
    "5. Métodos de regresión:\n",
    "    * Regresión simple y múltiple.\n",
    "    * Regresión Logit.\n",
    "    * Árboles de regresión.\n",
    "    * Regresión RIDGE.\n",
    "    * Regresión LASSO.\n",
    "\n",
    "Así mismo, aprenderemos sobre la evaluación del desempeño de los modelos, cómo mejorar dicho desempeño, overfitting y elección, extracción e ingeniería de parámetros."
   ]
  },
  {
   "cell_type": "markdown",
   "id": "5b00fc9e-b890-478c-89af-ce5525196dc2",
   "metadata": {},
   "source": [
    "## 1.5. ¿Qué es Inteligencia Artificial?"
   ]
  },
  {
   "cell_type": "code",
   "execution_count": 2,
   "id": "216a70e0-c568-42aa-9b1c-eadddef85ea7",
   "metadata": {},
   "outputs": [
    {
     "data": {
      "text/html": [
       "\n",
       "        <iframe\n",
       "            width=\"560\"\n",
       "            height=\"315\"\n",
       "            src=\"https://www.youtube.com/watch?v=G-zyTlZQYpE&ab_channel=TheTonightShowStarringJimmyFallon\"\n",
       "            frameborder=\"0\"\n",
       "            allowfullscreen\n",
       "            \n",
       "        ></iframe>\n",
       "        "
      ],
      "text/plain": [
       "<IPython.lib.display.IFrame at 0x155a46a9510>"
      ]
     },
     "execution_count": 2,
     "metadata": {},
     "output_type": "execute_result"
    }
   ],
   "source": [
    "from IPython.display import IFrame\n",
    "IFrame('https://www.youtube.com/watch?v=G-zyTlZQYpE&ab_channel=TheTonightShowStarringJimmyFallon', width=560, height=315)"
   ]
  },
  {
   "cell_type": "markdown",
   "id": "47e40b26-bf7e-42bb-acfd-fe2617a86f5f",
   "metadata": {},
   "source": [
    "Según Russell & Norvig (2020), existen cuatro definiciones o metas de la Inteligencia Artificial (AI):\n",
    "\n",
    "1. **Enfoque humano:**\n",
    "    * Sistemas que piensan como humanos.\n",
    "    * Sistemas que actúan como humanos.\n",
    "    \n",
    "2. **Enfoque ideal:**\n",
    "    * Sistemas que piensan racionalmente. \n",
    "    * Sistemas que actúan racionalmente.\n",
    "    \n",
    "En general, son sistemas que pueden actuar o pensar como humanos, pero no limitándose a procesos biológicos. Por ejemplo, hay nueva computadora de IBM jugadora de ajedrez que aprendió a ser una maestra sin que un humano le enseñara más que las reglas. Otros programas han ayudado a entender la misma inteligencia artificial al generar sus propias conclusiones."
   ]
  },
  {
   "cell_type": "markdown",
   "id": "c80ad059-ed4a-4311-9f45-898e3145a0cb",
   "metadata": {},
   "source": [
    "# 2. ¿Por qué aprender Big Data, Data Science y Machine Learning (e Inteligencia Artificial)?"
   ]
  },
  {
   "cell_type": "markdown",
   "id": "c3b9d89f-31a2-4712-b9b2-8485f505aa2f",
   "metadata": {},
   "source": [
    "**Los datos son el nuevo petróleo**. Más allá, quienes tengan los datos tienen el poder. Solo se debe pensar en los casos de Cambridge Analytica, en los cuales se influenció la votación de millones de personas a partir de sus datos. No obstante, otros ejemplos pueden ser relevantes: el éxito de las Big Tech (Google, Meta, TikTok), el nuevo auge de los sistemas automatizados (Tesla, Amazon, SpaceX), el fortalecimiento del Bussines Intelligence (McKinsey, EY, BCG), entre otros.\n",
    "\n",
    "A la vez, los empleos con mayor propención a la automatización están siendo reemplazadas por este tipo de tecnología (como ha ocurrido a lo largo de la historia): cajeros, atención al cliente, contadores, entre otros. Por otro lado, nuevos empleos se están creando a partir de esta tendencia: analistas de inteligencia de negocio, científicos de datos,  programadores de front end y back end, ingenieros de algoritmos de Machine Learning, entre otros.\n",
    "\n",
    "-------------------\n",
    "<br>\n",
    "<center> <b>En ese sentido, no podemos pelear con la innovación: </b></center> \n",
    "<center> <b><i>unámonos a ella. </i></b> </center> \n",
    "<br>\n",
    "\n",
    "-------------------\n",
    "Este curso les dará las herramientas necesarias para que puedan entender, analizar, construir y evaluar los algoritmos básicos de Ciencia de Datos y, especialmente, de Machine Learning. Después de este curso esperamos que puedan obtener un valor agregado en el mercado que otros profesionales no tienen. Además, esperamos que puedan adquirir capacidades analíticas que puedan conectarse con lo que han aprendido en otros cursos y con lo que aprenderán en el futuro."
   ]
  },
  {
   "cell_type": "markdown",
   "id": "9fc77f6e-894f-49b4-abd6-7890a93271ce",
   "metadata": {},
   "source": [
    "# 3. Lenguajes de programación: ¿Por qué Python y Power BI?"
   ]
  },
  {
   "attachments": {},
   "cell_type": "markdown",
   "id": "11dfeedb-5e51-42c4-8f08-300cb6bd38d4",
   "metadata": {},
   "source": [
    "Actualmente existe una infinidad de lenguajes de programación y software para Ciencia de Datos: R, Python, Julia, C++, Power BI, Tableau entre otros. En detalle, R y Python son los lenguajes que dominan el área. No obstante, nos centraremos en dos en particular: Python para el procesamiento y Power BI para la visualización (lo que no implica que no se puedan utilizar con otros objetivos).\n",
    "\n",
    "Realizamos esta elección por varias razones:\n",
    "\n",
    "1. **Python es el lenguaje preferido por el mundo de la Ciencia de Datos**. Aunque R es el programa predilecto en el mundo estadístico y está ganando terreno rápidamente, Python sigue siendo muy versátil y es utilizado por múltiples áreas en las ciencias de la computación. En ese sentido, encontramos una mayor comunidad en la que apoyarnos.\n",
    "2. **Python ofrece ventajas pedagógicas que R no tiene**. La interfaz de Python ofrece una mayor facilidad para incluir comentarios, códigos y otros elementos que permiten entender un mejor proceso de aprendizaje.\n",
    "3. **Python tiene una mayor facilidad para llamar librerías que R**. Esto nos permitirá diferenciar y utilizar paquetes de una manera más sencilla cuando estemos programando.\n",
    "4. **Python y R son fácilmente traducibles**. Ya existen programas que permiten la traducción sencilla entre estos lenguajes o ustedes mismos podrán hacerlo. Lo importante de este curso es que aprendan lo esencial de la Ciencia de Datos para que lo puedan aplicar al lenguaje y software de su preferencia.\n",
    "5. **Power BI es el software predilecto en el mundo de los negocios en Colombia**. Aunque Tableau ofrece herramientas también para la visualización, Power BI es el programa más usado en los negocios por la sencillez con la que se puede manejar.\n",
    "\n",
    "Esto no significa que no se deba aprender R u otros lenguajes de programación. Por el contrario, se recomienda fuertemente manejar más de un solo lenguaje de programación y software para atender diferentes problemas. El **_poliglotismo digital_** puede ser un gran valor para ustedes y los lugares en donde quieran estar. Por ello, en este curso se puede utilizar R a quien prefiera hacerlo, pero el material se encontrará en Python.\n",
    "\n",
    "<br>\n",
    "<center><b>Las 10 habilidades más solicitadas en ofertas de trabajo</b></center>\n",
    "<center><b>en Data Science</b>\n",
    "\n",
    "<center>Habilidad     | Porcentaje   | Habilidad     | Porcentaje   |\n",
    "------------- | -------------| ------------- | -------------|\n",
    "Python        | 72%          | SAS           | 30%          |\n",
    "R             | 64%          | Spark         | 27%          |\n",
    "SQL           | 51%          | Matlab        | 20%          |\n",
    "Hadoop        | 39%          | Hive          | 17%          |\n",
    "Java          | 33%          | Tableau       | 14%          |\n",
    "</center>\n",
    "<center><b>Fuente:</b> Glassdor, 2017</center>\n",
    "<br>\n",
    "\n",
    "En aras de la verdad, también debemos resaltar algunas ventajas de R:\n",
    "\n",
    "* Las gráficas son mucho más estéticas que en Python.\n",
    "* Las entidades públicas y estadísticas en Colombia prefieren R más que cualquier otro lenguaje (en el mundo de los negocios es mixto, con alguna dominancia de Python).\n",
    "* Dado su origen estadístico, las operaciones estadísticas son mucho más fáciles de calcular y mostrar en R. Ello incluye los métodos de regresión.\n",
    "\n",
    "No obstante, les recomendamos explorar todos los lenguajes de programación y software que puedan, si este tema las interesa. Les recomendamos fuertemente aprender SQL y Dash.\n",
    "\n"
   ]
  },
  {
   "cell_type": "markdown",
   "id": "4373962a-69f4-430c-ba19-e9a94bf3dcc2",
   "metadata": {},
   "source": [
    "# 4. Algunos peligros y consideraciones éticas de Big Data"
   ]
  },
  {
   "attachments": {},
   "cell_type": "markdown",
   "id": "eaf11082-2472-46bc-a60f-660cf9d0a322",
   "metadata": {},
   "source": [
    "La tendencia del Big Data han traído nuevos retos y peligros (que no incluyen solamente la rebelión de los robots). Algunas de ellas son:\n",
    "\n",
    "1. **La amenaza a la privacidad.** La información extraída de Big Data, incluida la anonimizada, permite conocer a la persona más de lo que pensamos. En ese sentido, no solo la privacidad se ve amenazada en la recolección, sino en otras etapas. Algunos ejemplos son el reto Netflix y el caso de un gobernador en EE.UU.\n",
    "2. **La capacidad de influencia en el comportamiento humano.** El procesamiento y análisis de Big Data permite obtener conocimiento de cómo afectar el comportamiento humano, al igual que los algoritmos basados en Big Data. Algunos ejemplos son Cambridge Analytica, Candy Crush e Instagram y Facebook.\n",
    "3. **Discriminación y sesgo en los algoritmos.** Los computadores son tan buenos aprendiendo que pueden aprender nuestros sesgos. Así, aprenden a discriminar igual que nosotros. Algunos ejemplos son la distribución de policías en la ciudad, algoritmos de elección de personal, reconocimiento facial, entre otros.\n",
    "4. **Abolición del anonimato.** La capacidad de identificación y perfilación del Big Data evita que las personas puedan tener anonimato, el cual, en algunos casos, es necesario. Algunos ejemplos consideran anonimato en regímenes autocráticos e, incluso, regímenes democráticos.\n",
    "5. **Destrucción y creación de empleos.** Se destruyen algunos empleos automatizables y se crean unos nuevos. Sin embargo, los nuevos empleos son de alta cualificación. El reto surge en poder generar aquellas habilidades y que el nuevo orden económico no termine en una mala distribución de la riqueza.\n",
    "6. **No toda solución es un martillo.** La generalización de los hallazgos en una situación no siempre es aplicable bajo todo contexto.\n",
    "\n",
    "Es nuestra labor poner la tecnología al servicio del humano y no al contrario (o a merced de intereses que son contrarios al bienestar de la mayoría). Es nuestro reto velar por una buena aplicación del conocimiento.\n",
    "\n",
    "<center><img src=\"images/disc_banking.png\" width = \"700\", height = \"150\"/></center>"
   ]
  },
  {
   "cell_type": "markdown",
   "id": "b494b845-4605-4430-9f35-9b0c7ba8a9a9",
   "metadata": {},
   "source": [
    "# 5. Una última observación: correlación no implica causalidad"
   ]
  },
  {
   "attachments": {},
   "cell_type": "markdown",
   "id": "59648aef-d509-4994-815c-3920903adc8d",
   "metadata": {
    "tags": []
   },
   "source": [
    "Cuando dos cosas tienen una tendencia similar, no significa necesariamente que una implique la otra. Considere los siguientes ejemplos:\n",
    "\n",
    "1. Los datos muestran que las muertes por ahogamiento aumentan al mismo tiempo que aumenta la venta de helados.\n",
    "2. Los datos muestran que las personas casadas viven más.\n",
    "3. Los datos muestran que hay más crimen cuando hay más policía.\n",
    "\n",
    "<br>\n",
    "<center><img src=\"images/pol_crimen.png\" width = \"500\", height = \"350\"/></center>\n",
    "<br>\n",
    "\n",
    "Pero que dos variables se muevan de manera similar no implica que una cause a la otra. La lógica nos lo dice:\n",
    "\n",
    "1. **Helado vs. Ahogamientos:** hay una variable omitida: el calor del verano.\n",
    "2. **Personas casadas vs. Edad:** hay una causalidad reversa: los hombres con mayor edad se casan más.\n",
    "3. **Policía vs. Crimen:** hay una causalidad reversa: mayor presencia de crimen hace que se envíe más policías a la zona.\n",
    "\n",
    "En ese sentido, podemos definir los siguientes conceptos en términos prácticos:\n",
    "\n",
    "> <b>Correlación es la fluctuación conjunta de dos variables, la cual puede ser causal o no.</b> \n",
    "\n",
    "> <b>Causalidad hace referencia a que una variable causa directamente otra.</b>\n",
    "\n",
    "Nunca se deben confundir, pues puede derivar conclusiones erróneas en nuestros análisis. Esto puede marcar la diferencia entre un buen consejo y un consejo desastroso."
   ]
  },
  {
   "attachments": {},
   "cell_type": "markdown",
   "id": "a2e4200e-546d-4e81-bcf0-524cb3da46f6",
   "metadata": {},
   "source": [
    "# 6. Bibliografía"
   ]
  },
  {
   "cell_type": "markdown",
   "id": "f3eeb27e-540f-4a4e-8d2e-a5b9f5baed82",
   "metadata": {},
   "source": [
    "* Al-Mekhlal, M., & Khwaja, A. A. (2019). A Synthesis of Big Data Definition and Characteristics. IEEE Computer Society. doi:10.1109/CSE/EUC.2019.00067\n",
    "* Data Pop Alliance. (2022). Data. Obtenido de Key Terms: https://datapopalliance.org/resources/key-terms/#data\n",
    "* Géron, A. (2017). Hands-On Machine Learning with Scikit-Learn and TensorFlow: Concepts, Tools, and Techniques to Build Intelligent Systems. O’Reilly Media.\n",
    "* Glassdoor. (21 de septiembre de 2017). Data Scientist Personas: What Skills Do They Have and How Much Do They Make? Obtenido de Economic Research: https://www.glassdoor.com/research/data-scientist-personas/\n",
    "* Kumar, R., & Nagpal, B. (2015). A Survey On Big Data Analytics. Manager’s Journal on Cloud Computing, 43-48.\n",
    "* Merriam-Webster. (2022). Data. Obtenido de Dictionary: https://www.merriam-webster.com/dictionary/data\n",
    "* Oracle. (2022). ¿Qué es el big data? Obtenido de Sitio web de Oracle: https://www.oracle.com/co/big-data/what-is-big-data/\n",
    "* Organisation for Economic Co-operation and Development (OECD). (2008). Data. Obtenido de Glossary of Statistical Terms: https://stats.oecd.org/glossary/detail.asp?ID=532\n",
    "* Russell, S., & Norvig, P. (2021). Artificial Intelligence: A Modern Approach. Pearson.\n",
    "* Schroeder, R. (2016). Big data business models: Challenges and opportunities. Cogent Social Sciences. doi:10.1080/23311886.2016.1166924"
   ]
  }
 ],
 "metadata": {
  "kernelspec": {
   "display_name": "Python 3",
   "language": "python",
   "name": "python3"
  },
  "language_info": {
   "codemirror_mode": {
    "name": "ipython",
    "version": 3
   },
   "file_extension": ".py",
   "mimetype": "text/x-python",
   "name": "python",
   "nbconvert_exporter": "python",
   "pygments_lexer": "ipython3",
   "version": "3.11.4"
  },
  "vscode": {
   "interpreter": {
    "hash": "bc1d44bc0bd592bad8cc7ba1e1e514470dc5ad25cb613275d48eb56066632d77"
   }
  }
 },
 "nbformat": 4,
 "nbformat_minor": 5
}
