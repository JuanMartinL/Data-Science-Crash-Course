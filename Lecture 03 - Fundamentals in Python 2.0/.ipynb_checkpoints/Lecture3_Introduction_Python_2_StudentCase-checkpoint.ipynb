{
 "cells": [
  {
   "cell_type": "markdown",
   "id": "a077775d-8378-4b06-9d30-d45da2e4e1c8",
   "metadata": {},
   "source": [
    "# Clase 3: Introducción a Python (2° Parte)"
   ]
  },
  {
   "cell_type": "markdown",
   "id": "1179f9d4-c744-453c-8ea6-cf64b6fd4141",
   "metadata": {},
   "source": [
    "# 4. Condicionales"
   ]
  },
  {
   "cell_type": "markdown",
   "id": "7597ce88-c3f7-447b-bbcf-d04b62549534",
   "metadata": {},
   "source": [
    "Los condicionales nos permiten establecer diferentes procesos en diferentes casos. Por ejemplo, nos permite hacerle una operación a un número par y otra a un número impar:"
   ]
  },
  {
   "cell_type": "code",
   "execution_count": 1,
   "id": "0dd185f1-254a-42e3-a67c-7ed94d594391",
   "metadata": {},
   "outputs": [
    {
     "name": "stdout",
     "output_type": "stream",
     "text": [
      "El número 2 es par.\n",
      "El número 3 es impar.\n",
      "El número 4 es par.\n",
      "El número 5 es impar.\n"
     ]
    }
   ],
   "source": [
    "x = [2, 3, 4, 5]\n",
    "\n",
    "for num in x:\n",
    "    if num % 2 == 0:\n",
    "        print(\"El número {0} es par.\".format(num))\n",
    "    if num % 2 != 0:\n",
    "        print(\"El número {0} es impar.\".format(num))"
   ]
  },
  {
   "cell_type": "markdown",
   "id": "069a35de-89c2-49a4-8838-aaa6ab4fbd72",
   "metadata": {},
   "source": [
    "Esto es sumamente útil en momentos en los que debemos valorar diferentes casos para estipular procesos diferentes, logrando evitar errores y que el programa realice lo que queremos lograr.\n",
    "\n",
    "Para ello, debemos primero ver un poco de álgebra booleana para entender cómo utilizar la ejecución de condicionales con `if`, `elif` y `else`."
   ]
  },
  {
   "cell_type": "markdown",
   "id": "63ffd045-b940-4f0b-bbb8-189de2ce3443",
   "metadata": {},
   "source": [
    "## 4.1. Operadores de comparación"
   ]
  },
  {
   "cell_type": "markdown",
   "id": "e0da4e1e-eaa0-42c2-a930-1354d74d7503",
   "metadata": {},
   "source": [
    "En el anterior Notebook revisamos los operadores de comparación, los cuales son los siguientes:\n",
    "\n",
    "Operador    | Descripción\n",
    "------------|-----------------\n",
    "`>`         | `True` si el operando de la izquierda es estructamente mayor al de la derecha. `False` en caso contrario.\n",
    "`>=`        | `True` si el operando de la izquierda es mayor o igual al de la derecha. `False` en caso contrario.\n",
    "`<`         | `True` si el operando de la izquierda es estructamente menor al de la derecha. `False` en caso contrario.\n",
    "`<=`        | `True` si el operando de la izquierda es menor o igual al de la derecha. `False` en caso contrario.\n",
    "`==`        | `True` si el operando de la izquierda es igual al de la derecha. `False` en caso contrario.\n",
    "`!=`        | `True` si el operando de la izquierda es diferente al de la derecha. `False` en caso contrario.\n",
    "\n",
    "> **Nota:** ¡cuidado! Hay que diferenciar entre `=` (operador de asignación) y `==`(operador de comparación). El primero asigna a una variable un elemento y el segundo permite comparar si dos elementos son iguales.\n",
    "\n",
    "Vamos a ver algunos ejemplos:"
   ]
  },
  {
   "cell_type": "code",
   "execution_count": 2,
   "id": "fbd04983-c8fb-45cb-8230-5884f6ac863e",
   "metadata": {},
   "outputs": [
    {
     "name": "stdout",
     "output_type": "stream",
     "text": [
      "Comparación de números\n",
      "True\n",
      "True\n",
      "False\n",
      "\n",
      "\n",
      "Comparación de strings\n",
      "False\n",
      "True\n"
     ]
    }
   ],
   "source": [
    "# Comparación de números\n",
    "print(\"Comparación de números\")\n",
    "print(3 > -2)\n",
    "print(3 == abs(-3))\n",
    "print(3 != 3)\n",
    "print(\"\\n\")\n",
    "\n",
    "# Comparación de strings\n",
    "print(\"Comparación de strings\")\n",
    "print(\"Ella es callaíta\" == \"Ella es callaita\")\n",
    "print(\"I cry when angels deserve to die\" == \"I cry when angels deserve to die\")"
   ]
  },
  {
   "cell_type": "markdown",
   "id": "02a5c852-76b5-4979-9fce-a512ad80375f",
   "metadata": {},
   "source": [
    "De la misma manera se pueden utilizar otros operadores para realizar condicionales más complejos. Recordando un poco la lógica, estos son los operadores `and` (también se puede utilizar `&`) y `or` (también se puede utilizar `|`), los que nos ayudan a evaluar múltiples condiciones al tiempo:"
   ]
  },
  {
   "cell_type": "code",
   "execution_count": 3,
   "id": "74a46b3d-bda2-442e-b44b-ea09f411c419",
   "metadata": {},
   "outputs": [
    {
     "name": "stdout",
     "output_type": "stream",
     "text": [
      "Comparación con and:\n",
      "True\n",
      "False\n",
      "False\n",
      "False\n",
      "\n",
      "\n",
      "Comparación con or:\n",
      "True\n",
      "True\n",
      "True\n",
      "False\n"
     ]
    }
   ],
   "source": [
    "# Comparación con and\n",
    "print(\"Comparación con and:\")\n",
    "print((3 > 0) and (3 > 1)) # Verdadero & Verdadero = Verdadero\n",
    "print((\"Redivider\" == \"REDIVIDER\") & (0 != 1)) # Falso & Verdadero = Falso\n",
    "print((\"Redivider\" != \"REDIVIDER\") and (0 == 1)) # Verdadero & Falso = Falso\n",
    "print((\"Redivider\" == \"REDIVIDER\") & (0 == 1)) # Falso & Falso = Falso\n",
    "print(\"\\n\")\n",
    "\n",
    "# Comparación con or\n",
    "print(\"Comparación con or:\")\n",
    "print((3 > 0) | (3 > 1)) # Verdadero o Verdadero = Verdadero\n",
    "print((\"Redivider\" == \"REDIVIDER\") or (0 != 1)) # Falso o Verdadero = Verdadero\n",
    "print((\"Redivider\" != \"REDIVIDER\") | (0 == 1)) # Verdadero o Falso = Verdadero\n",
    "print((\"Redivider\" == \"REDIVIDER\") or (0 == 1)) # Falso o Falso = Falso"
   ]
  },
  {
   "cell_type": "markdown",
   "id": "e066d01a-5681-4d8f-b28f-58ac9c3bd4df",
   "metadata": {},
   "source": [
    "También se puede realizar las negaciones de una comparación con el operador (`not`):"
   ]
  },
  {
   "cell_type": "code",
   "execution_count": 4,
   "id": "eaf9bfb5-3468-490d-8b0f-b7e2d6c912be",
   "metadata": {},
   "outputs": [
    {
     "name": "stdout",
     "output_type": "stream",
     "text": [
      "Sin negación:\n",
      "True\n",
      "\n",
      "\n",
      "Con negación:\n",
      "False\n"
     ]
    }
   ],
   "source": [
    "print(\"Sin negación:\")\n",
    "print((\"Redivider\" == \"REDIVIDER\") or (0 != 1)) # Falso o Verdadero = Verdadero\n",
    "print(\"\\n\")\n",
    "\n",
    "print(\"Con negación:\")\n",
    "print(not((\"Redivider\" == \"REDIVIDER\") or (0 != 1))) # not(Falso o Verdadero) = Falso\n"
   ]
  },
  {
   "cell_type": "markdown",
   "id": "9ed41c6a-f432-4c05-b1e5-7f1ecf5d8cea",
   "metadata": {},
   "source": [
    "## 4.2. Ejecución de condicionales"
   ]
  },
  {
   "cell_type": "markdown",
   "id": "aeefd42d-9d49-4782-a830-8437e3ee938e",
   "metadata": {},
   "source": [
    "Ahora pasemos a la práctica: podemos utilizar estos operadores booleanos con los comandos `if`, `elif` y `else`. Se utilizan de la siguiente manera:\n",
    "\n",
    "* `if` para valorar una condición. Puede ir solo y siempre debe ir uno.\n",
    "* `elif` para valorar una condición diferente a la primera condición. Debe ir antecedido por un `if`.\n",
    "* `else` recoge todos los casos adicionales no considerados por el `if` o el `elif`. Debe ir antecedido por un `if` como mínimo, no necesita del `elif`."
   ]
  },
  {
   "cell_type": "code",
   "execution_count": 5,
   "id": "a6338697-b94f-4b79-b237-d5eb76087dfd",
   "metadata": {},
   "outputs": [
    {
     "name": "stdout",
     "output_type": "stream",
     "text": [
      "El número 1 es impar.\n",
      "El número 2 es par.\n",
      "El número 3 es impar.\n",
      "El número 4 es par.\n"
     ]
    }
   ],
   "source": [
    "x = [1, 2, 3, 4]\n",
    "\n",
    "for num in x:\n",
    "    if num % 2 == 0:\n",
    "        print(\"El número {0} es par.\".format(num))\n",
    "    else:\n",
    "        print(\"El número {0} es impar.\".format(num))"
   ]
  },
  {
   "cell_type": "markdown",
   "id": "d7ef50b1-59cf-4ed3-84af-bf89e4db1d92",
   "metadata": {},
   "source": [
    "## 4.3. Ejercicios (10 mins)"
   ]
  },
  {
   "cell_type": "markdown",
   "id": "da763a06-1242-41a8-b170-a0e81a4bc4a1",
   "metadata": {},
   "source": [
    "### 4.3.1. ¿Cuál es el mayor de tres números?"
   ]
  },
  {
   "cell_type": "markdown",
   "id": "72f67ee7-3c76-4881-8d19-718b6b28e369",
   "metadata": {},
   "source": [
    "Escriba un programa que pueda recibir tres números cualquiera y decida cuál es el mayor de los tres."
   ]
  },
  {
   "cell_type": "code",
   "execution_count": null,
   "id": "778415dd-b271-4f26-a94e-5561cf6c0617",
   "metadata": {},
   "outputs": [],
   "source": []
  },
  {
   "cell_type": "markdown",
   "id": "5e149151-f858-430a-8c25-4fe9f935e45a",
   "metadata": {},
   "source": [
    "### 4.3.2. ¿Un número es divisible por otro?"
   ]
  },
  {
   "cell_type": "markdown",
   "id": "b06a7d5a-e9e4-4680-8452-b3124fff6354",
   "metadata": {},
   "source": [
    "Escriba un programa que le diga si un valor `x` es divisible por un valor `y`:"
   ]
  },
  {
   "cell_type": "code",
   "execution_count": null,
   "id": "aaa661e5-6c72-4262-b3ba-ce59b14712e9",
   "metadata": {},
   "outputs": [],
   "source": []
  },
  {
   "cell_type": "markdown",
   "id": "54e55c1b-f20f-43f8-a003-5cc9a3ad692b",
   "metadata": {},
   "source": [
    "# 5. Ciclos"
   ]
  },
  {
   "cell_type": "markdown",
   "id": "34aaf4f9-758b-4eae-8f61-f697718de8b6",
   "metadata": {},
   "source": [
    "Hay una regla tácita en programación que dice, más o menos, lo siguiente: \n",
    "\n",
    "> \"Si debes hacer algo más de tres veces, construye un ciclo para ello\". \n",
    "\n",
    "Los ciclos son sumamente útiles para desarrollar procesos iterativos de los cuales se puede construir un proceso repetible. Ejemplo de ello es imprimir cada letra de un *string*, cada valor en una lista o hacer una lista de invitación a una fiesta:"
   ]
  },
  {
   "cell_type": "code",
   "execution_count": 6,
   "id": "e2d26b37-1108-4178-9b5e-124a87d069eb",
   "metadata": {},
   "outputs": [
    {
     "name": "stdout",
     "output_type": "stream",
     "text": [
      "Hola, Juan, ¡ven a mi fiesta!\n",
      "Hola, Carol, ¡ven a mi fiesta!\n",
      "Hola, Lorena, ¡ven a mi fiesta!\n",
      "Hola, Santiago, ¡ven a mi fiesta!\n"
     ]
    }
   ],
   "source": [
    "x = [\"Juan\", \"Carol\", \"Lorena\", \"Santiago\"]\n",
    "\n",
    "for guest in x:\n",
    "    print(\"Hola, \" + guest + \", ¡ven a mi fiesta!\")"
   ]
  },
  {
   "cell_type": "markdown",
   "id": "d6646ea9-704a-4082-ba44-4c65669d4244",
   "metadata": {},
   "source": [
    "En un ciclo se puede pasar por todos los valores de una lista, diccionario y demás elementos para realizar un proceso repetitivo.\n",
    "\n",
    "En ese sentido, el uso de ciclos es sumamente variado: se puede utilizar para valorar los números de un informe financiero, enviar correos masivos, realizar procesos automáticos o, incluso, crear un robot que pueda dominar el mundo. Las posibilidades son infinitas.\n",
    "\n",
    "Para ello, entonces aprenderemos dos tipos de ciclos: `for` y `while`."
   ]
  },
  {
   "cell_type": "markdown",
   "id": "6bb0bf29-e135-459f-9965-c2435f12e55b",
   "metadata": {},
   "source": [
    "## 5.1. Ciclos con `for`"
   ]
  },
  {
   "cell_type": "markdown",
   "id": "c02fe7c9-b0d2-4c5a-8ef5-16cebe3c8cea",
   "metadata": {},
   "source": [
    "Los ciclos `for` tienen unos ciclos definidos y no son infinitos (a no ser que se cree una condición dinámica que lo haga). Es decir, tienen una cantidad exacta de ciclos y paran cuando esos ciclos se han terminado. Además, la variable que cicla va a tomar el valor o el elemento que se le ingresa.\n",
    "\n",
    "Por ejemplo, si se realiza un ciclo `for` con una lista de tres elementos, solo va a hacer tres ciclos y rotará sus valores internos."
   ]
  },
  {
   "cell_type": "code",
   "execution_count": 7,
   "id": "d9af7294-fdd5-4902-acfa-6748a2640bf0",
   "metadata": {},
   "outputs": [
    {
     "name": "stdout",
     "output_type": "stream",
     "text": [
      "Este no es Juan\n",
      "Este no es Juan\n",
      "Este es Juan.\n",
      "Este no es Juan, pero es un perro.\n"
     ]
    }
   ],
   "source": [
    "x = [\"Ángela\", \"Carlos\", \"Juan\", \"Perro\"]\n",
    "\n",
    "for palabra in x:\n",
    "    if palabra == \"Juan\":\n",
    "        print(\"Este es Juan.\")\n",
    "    elif palabra == \"Perro\":\n",
    "        print(\"Este no es Juan, pero es un perro.\")\n",
    "    else:\n",
    "        print(\"Este no es Juan\")"
   ]
  },
  {
   "cell_type": "markdown",
   "id": "142fb54c-ef23-4259-a4eb-2310c728daba",
   "metadata": {},
   "source": [
    "Como se puede observar, la variable que se crea en el ciclo (`palabra`) toma el valor de cada uno de los elementos de la lista que se le pasan. "
   ]
  },
  {
   "cell_type": "markdown",
   "id": "2b821afe-e1e0-425a-b535-22ab46832e88",
   "metadata": {},
   "source": [
    "También se le pueden ingresar variables  tipo `range` para hacer conteo de números. Por ejemplo, podemos reescribir el programa que clasifica los números en pares e impares de la siguiente manera para simplificarlo (y no tener que hacer una lista con todos los números que necesitamos):"
   ]
  },
  {
   "cell_type": "code",
   "execution_count": 8,
   "id": "b74af430-6888-4e3f-9b49-d90d2c13b188",
   "metadata": {},
   "outputs": [
    {
     "name": "stdout",
     "output_type": "stream",
     "text": [
      "El número 1 es impar.\n",
      "El número 2 es par.\n",
      "El número 3 es impar.\n",
      "El número 4 es par.\n",
      "El número 5 es impar.\n",
      "El número 6 es par.\n",
      "El número 7 es impar.\n",
      "El número 8 es par.\n",
      "El número 9 es impar.\n",
      "El número 10 es par.\n",
      "El número 11 es impar.\n",
      "El número 12 es par.\n",
      "El número 13 es impar.\n",
      "El número 14 es par.\n"
     ]
    }
   ],
   "source": [
    "for num in range(1, 15):\n",
    "    if num % 2 == 0:\n",
    "        print(\"El número {0} es par.\".format(num))\n",
    "    else:\n",
    "        print(\"El número {0} es impar.\".format(num))"
   ]
  },
  {
   "cell_type": "markdown",
   "id": "86cad5bf-b182-4907-ba48-27dbc955fdc0",
   "metadata": {},
   "source": [
    "## 5.2. Ciclos con `while`"
   ]
  },
  {
   "cell_type": "markdown",
   "id": "ddf0ac34-b230-4d42-a4f9-f4d3b7b8a333",
   "metadata": {},
   "source": [
    "Los ciclos `while` tienen unos ciclos que pueden ser generalmente indefinidos hasta que **se cumpla una condición**. Es decir, el ciclo solamente para cuando una condición se cumple."
   ]
  },
  {
   "cell_type": "code",
   "execution_count": 9,
   "id": "da031ac0-3db2-4688-b1cb-2bb63c5ccc86",
   "metadata": {},
   "outputs": [
    {
     "name": "stdout",
     "output_type": "stream",
     "text": [
      "1\n",
      "2\n",
      "3\n",
      "4\n",
      "5\n",
      "6\n",
      "7\n",
      "8\n",
      "9\n"
     ]
    }
   ],
   "source": [
    "# Imprime hasta el valor que se le dice\n",
    "i = 1\n",
    "\n",
    "while i < 10:\n",
    "    print(i)\n",
    "    i += 1"
   ]
  },
  {
   "cell_type": "markdown",
   "id": "25f0cf47-7c99-4e2c-9fcd-928259105dab",
   "metadata": {},
   "source": [
    "Esto se sumamente útil para programación cíclica que necesita de una fecha, de una acción del usuario o, incluso, en la programación de juegos (hasta que el jugador cumple una misión, por ejemplo)."
   ]
  },
  {
   "cell_type": "markdown",
   "id": "d7a2a052-77bd-4980-a18e-2e7dacf2b0c1",
   "metadata": {},
   "source": [
    "## 5.3. Ejercicios (10 mins)"
   ]
  },
  {
   "cell_type": "markdown",
   "id": "61321b2c-d2dc-41ac-a2bc-a06f0d8f2e83",
   "metadata": {},
   "source": [
    "### 5.3.1. Sumatoria de todos los números hasta un número definido"
   ]
  },
  {
   "cell_type": "markdown",
   "id": "2cd31816-b21a-4727-b332-6300b8556b1d",
   "metadata": {},
   "source": [
    "Realice un programa que sume todos los números desde 1 hasta el valor que le diga y retorne el resultado."
   ]
  },
  {
   "cell_type": "code",
   "execution_count": null,
   "id": "3eb2c0fa-608f-4dff-84fe-f2ddf20b7361",
   "metadata": {},
   "outputs": [],
   "source": []
  },
  {
   "cell_type": "markdown",
   "id": "66c573e5-223a-49c1-ae2c-7ec0a998688d",
   "metadata": {},
   "source": [
    "### 5.3.2. Separación de números pares e impares"
   ]
  },
  {
   "cell_type": "markdown",
   "id": "aaacdae8-b26a-48f9-bac6-d2917af2a0f8",
   "metadata": {},
   "source": [
    "Realice un programa que separe en dos listas a los números pares y a los números impares hasta cierto número. Al final, que imprima las listas."
   ]
  },
  {
   "cell_type": "code",
   "execution_count": null,
   "id": "b3261ea3-c9a5-4fb8-971c-063b0948264e",
   "metadata": {},
   "outputs": [],
   "source": []
  },
  {
   "cell_type": "markdown",
   "id": "1415c705-c086-43b2-a98b-c932691e671c",
   "metadata": {},
   "source": [
    "# 6. Funciones básicas"
   ]
  },
  {
   "cell_type": "markdown",
   "id": "2915af5d-050c-4a11-aaf6-39ccd0b7266c",
   "metadata": {},
   "source": [
    "Las funciones son las mejores amigas de los programadores y científicos de datos. En ese sentido, vamos a modificar un poco la regla tácita de la programación:\n",
    "\n",
    "> **\"Si debes realizar un proceso en varias ocasiones, construye una función.\"**\n",
    "\n",
    "Las funciones permiten simplificar procesos repetitivos en las labores de programación en el tiempo. En ese sentido, si tenemos algo que realizamos repetitivamente (por ejemplo, obtener el balance neto de una empresa), podemos construir una función que nos permita procesar automáticamente esa información y que no debamos nuevamente escribir otro código.\n",
    "\n",
    "La estructura básica de una función es la siguiente:\n",
    "\n",
    "`def <nombre_función>(<parámetros>):\n",
    "    <instrucciones>`\n",
    "    \n",
    "Veamos el siguiente ejemplo:"
   ]
  },
  {
   "cell_type": "code",
   "execution_count": 10,
   "id": "1d52d198-2464-43b7-b213-2ec8f101c83b",
   "metadata": {},
   "outputs": [
    {
     "name": "stdin",
     "output_type": "stream",
     "text": [
      "Escriba el valor de uno de los lados del rectángulo:  3\n",
      "Escriba el valor del otro de los lados del rectángulo:  6\n"
     ]
    },
    {
     "name": "stdout",
     "output_type": "stream",
     "text": [
      "18.0\n"
     ]
    }
   ],
   "source": [
    "def area_cuadrado(lx, ly):\n",
    "    res = lx*ly\n",
    "    return res\n",
    "\n",
    "x = input(\"Escriba el valor de uno de los lados del rectángulo: \")\n",
    "y = input(\"Escriba el valor del otro de los lados del rectángulo: \")\n",
    "\n",
    "x = float(x)\t\t# Se convierte a float para que no muestre error\n",
    "y = float(y)\t\t\n",
    "\n",
    "res = area_cuadrado(x, y)\n",
    "print(res)"
   ]
  },
  {
   "cell_type": "markdown",
   "id": "ce53cad5-65b8-4feb-8691-b2c19ad7d80e",
   "metadata": {},
   "source": [
    "> **Nota:** se debe escribir el comando `return` al final de una función para que retorne un valor. Caso contrario, no devolverá ningún valor."
   ]
  },
  {
   "cell_type": "markdown",
   "id": "4965a86f-a4d2-41d7-af25-00de3d68de97",
   "metadata": {},
   "source": [
    "## 6.1. Enunciado `return`"
   ]
  },
  {
   "cell_type": "markdown",
   "id": "325bc51d-c618-4d04-ad05-9af674c1644a",
   "metadata": {},
   "source": [
    "Como se anunció, se debe escribir el comando `return` al final de la función para que retorne un valor. Sin embargo, se debe tener cuidado, ya que el `return` termina inmediatamente la función. Es decir, todo aquello que esté después del `return` no se procesará."
   ]
  },
  {
   "cell_type": "code",
   "execution_count": 11,
   "id": "be32ce69-bc04-4c31-945c-202cb924a60a",
   "metadata": {},
   "outputs": [
    {
     "name": "stdout",
     "output_type": "stream",
     "text": [
      "1.0\n",
      "3.0\n",
      "Solo puede ingresar números positivos.\n",
      "13.0\n",
      "Solo puede ingresar números positivos.\n"
     ]
    }
   ],
   "source": [
    "def SquareRoot(x):\n",
    "    if x <= 0:\n",
    "        print(\"Solo puede ingresar números positivos.\")\n",
    "        return\n",
    "    res = x ** 0.5\n",
    "    print(res)\n",
    "    \n",
    "for x in [1, 9, -25, 169, -100]:\n",
    "    SquareRoot(x)"
   ]
  },
  {
   "cell_type": "code",
   "execution_count": 12,
   "id": "006071b0-9d1c-44d7-a925-dc2c1797250e",
   "metadata": {},
   "outputs": [
    {
     "data": {
      "text/plain": [
       "5"
      ]
     },
     "execution_count": 12,
     "metadata": {},
     "output_type": "execute_result"
    }
   ],
   "source": [
    "def foo(x):\n",
    "    x = x+3\n",
    "    return x\n",
    "    x = x**2 # No realizará esta parte\n",
    "    \n",
    "foo(2) "
   ]
  },
  {
   "cell_type": "markdown",
   "id": "094751e9-0330-43c3-a730-e3237afd666d",
   "metadata": {},
   "source": [
    "## 6.2. Ejercicios (10 mins)"
   ]
  },
  {
   "cell_type": "markdown",
   "id": "f83a4277-aca4-4216-aa06-6127b4a4faf2",
   "metadata": {},
   "source": [
    "### 6.2.1. Cálculo de la recta de una pendiente"
   ]
  },
  {
   "cell_type": "markdown",
   "id": "d52c3445-ef4a-4e85-b2b2-18285362c27b",
   "metadata": {},
   "source": [
    "Construya una función que calcule el valor de la pendiente de una recta con dos puntos de la misma."
   ]
  },
  {
   "cell_type": "code",
   "execution_count": null,
   "id": "aa01449f-d749-407d-9da9-6f69dd584e9f",
   "metadata": {},
   "outputs": [],
   "source": []
  },
  {
   "cell_type": "markdown",
   "id": "b9951b43-e754-4776-9089-55abf32f81f0",
   "metadata": {},
   "source": [
    "### 6.2.2. Cálculo del área de un círculo"
   ]
  },
  {
   "cell_type": "markdown",
   "id": "d0c0d18b-265c-4652-896d-4a998de33018",
   "metadata": {},
   "source": [
    "Construya una función que calcule el valor del área de un círculo."
   ]
  },
  {
   "cell_type": "code",
   "execution_count": null,
   "id": "abc22aed-e827-4d00-8a96-19f45bb2474c",
   "metadata": {},
   "outputs": [],
   "source": []
  },
  {
   "cell_type": "markdown",
   "id": "809e44a5-5475-4459-80c4-1fbcaec06c7d",
   "metadata": {},
   "source": [
    "### 6.2.3. Cálculo de la suma de pares"
   ]
  },
  {
   "cell_type": "markdown",
   "id": "cf1546ee-4ea9-4ab8-8b58-caab2cfa1136",
   "metadata": {},
   "source": [
    "Construya una función que calcule la suma solamente de los números pares hasta un número dado."
   ]
  },
  {
   "cell_type": "code",
   "execution_count": null,
   "id": "1618b6e9-5f21-4c69-9d7c-eeab82b6af3d",
   "metadata": {},
   "outputs": [],
   "source": []
  },
  {
   "cell_type": "markdown",
   "id": "e7e8a56b-c0b2-45e6-9c7e-1c24607b784e",
   "metadata": {},
   "source": [
    "# 7. Variables de fechas y horas"
   ]
  },
  {
   "cell_type": "markdown",
   "id": "cb6a8005-63b5-4b80-b292-e582a9ff124b",
   "metadata": {},
   "source": [
    "Las variables de fechas y horas son importantes para el análisis temporal de cualquier fenómeno. Es decir, son importantes para analizar cómo se comportan las ventas de una empresa en el tiempo, cómo son los tiempos de producción de una industria, cómo se comporta el hurto en una ciudad o para entender bien cómo se comporta un agente económico.\n",
    "\n",
    "En ese sentido, se puede crear una variable de tiempo de la siguiente manera:"
   ]
  },
  {
   "cell_type": "code",
   "execution_count": 13,
   "id": "94af6f3f-2c82-46de-a003-cf15888591d0",
   "metadata": {},
   "outputs": [
    {
     "name": "stdout",
     "output_type": "stream",
     "text": [
      "2022-03-01 17:13:07.116828\n",
      "<class 'datetime.datetime'>\n"
     ]
    }
   ],
   "source": [
    "# Se importa la librería datetime y el módulo datetime\n",
    "from datetime import datetime\n",
    "\n",
    "# Tiempo actual\n",
    "now = datetime.now()\n",
    "\n",
    "# Se imprime\n",
    "print(now)\n",
    "print(type(now))"
   ]
  },
  {
   "cell_type": "markdown",
   "id": "77cd8416-46c7-49b8-be54-67f7aa494b2f",
   "metadata": {},
   "source": [
    "Se puede construir una fecha tipo `datetime` manualmente. Para ello, se utiliza:\n",
    "\n",
    "* `strptime()`: convierte fechas tipo `str` en objetos tipo `datetime`.\n",
    "* `strftime()`: convierte fechas tipo `datetime` en objetos tipo `str`."
   ]
  },
  {
   "cell_type": "code",
   "execution_count": 14,
   "id": "2e857a23-962b-4ffe-bbe0-0534f3aad110",
   "metadata": {},
   "outputs": [
    {
     "name": "stdout",
     "output_type": "stream",
     "text": [
      "2022-03-01\n",
      "Tipo: <class 'str'>\n",
      "\n",
      "\n",
      "2022-03-01 00:00:00\n",
      "Tipo: <class 'datetime.datetime'>\n",
      "\n",
      "\n",
      "2022-03-01\n",
      "Tipo: <class 'str'>\n"
     ]
    }
   ],
   "source": [
    "from datetime import datetime\n",
    "\n",
    "# Se crea un string\n",
    "fecha = \"2022-03-01\"\n",
    "\n",
    "print(fecha)\n",
    "print(\"Tipo: {0}\".format(type(fecha)))\n",
    "print(\"\\n\")\n",
    "\n",
    "# Se convierte en datetime\n",
    "fecha = datetime.strptime(fecha, \"%Y-%m-%d\")\n",
    "\n",
    "print(fecha)\n",
    "print(\"Tipo: {0}\".format(type(fecha)))\n",
    "print(\"\\n\")\n",
    "\n",
    "# Se convierte nuevamente en str\n",
    "fecha = datetime.strftime(fecha, format = \"%Y-%m-%d\")\n",
    "\n",
    "print(fecha)\n",
    "print(\"Tipo: {0}\".format(type(fecha)))"
   ]
  },
  {
   "cell_type": "markdown",
   "id": "3aab936f-bd00-4eeb-ade4-b137c20f05f7",
   "metadata": {},
   "source": [
    "## 7.1. Manipulación de elementos tipo `datetime`"
   ]
  },
  {
   "cell_type": "markdown",
   "id": "72e32fc1-c1ae-44d8-ab3d-ff6e5b12aa28",
   "metadata": {},
   "source": [
    "### 7.1.1. Obtención de elementos"
   ]
  },
  {
   "cell_type": "markdown",
   "id": "4595626e-eae9-4ae1-bbef-ad945538360d",
   "metadata": {},
   "source": [
    "Los elementos `datetime` permiten obtener diferentes partes de las fechas y las horas, como, por ejemplo, el año, el mes, el día e incluso las horas, los minutos y los segundos."
   ]
  },
  {
   "cell_type": "code",
   "execution_count": 15,
   "id": "aade1035-5237-43f5-b044-be128d1fde60",
   "metadata": {},
   "outputs": [
    {
     "name": "stdout",
     "output_type": "stream",
     "text": [
      "2022-03-01 12:24:00\n",
      "Año:  2022\n",
      "Mes:  3\n",
      "Día:  1\n",
      "Hora:  12\n",
      "Minutos:  24\n",
      "Segundos:  0\n"
     ]
    }
   ],
   "source": [
    "# Creando la fecha\n",
    "fecha = datetime.strptime(\"2022/03/01 12:24:00\", \"%Y/%m/%d %H:%M:%S\") # ¡En este caso no utilizamos una línea (-) sino un slash (/)!\n",
    "print(fecha)\n",
    "\n",
    "# Obtener año\n",
    "año = fecha.year\n",
    "print(\"Año: \", año)\n",
    "\n",
    "# Obtener mes\n",
    "mes = fecha.month\n",
    "print(\"Mes: \", mes)\n",
    "\n",
    "# Obtener día\n",
    "dia = fecha.day\n",
    "print(\"Día: \", dia)\n",
    "\n",
    "# Obtener hora\n",
    "hora = fecha.hour\n",
    "print(\"Hora: \", hora)\n",
    "\n",
    "# Obtener minutos\n",
    "minutos = fecha.minute\n",
    "print(\"Minutos: \", minutos)\n",
    "\n",
    "# Obtener segundos\n",
    "segundos = fecha.second\n",
    "print(\"Segundos: \", segundos)"
   ]
  },
  {
   "cell_type": "markdown",
   "id": "8d714a1c-9081-401b-9bdf-5f238b962e46",
   "metadata": {},
   "source": [
    "Incluso se puede obtener el día de la semana a la que se refiere con la librería `calendar`:"
   ]
  },
  {
   "cell_type": "code",
   "execution_count": 16,
   "id": "fbe1f038-c521-43d7-8afe-f8e94b2f1470",
   "metadata": {},
   "outputs": [
    {
     "name": "stdout",
     "output_type": "stream",
     "text": [
      "Día del mes:  1\n",
      "Número del día de la semana:  1\n",
      "Nombre del día de la semana:  Tuesday\n"
     ]
    }
   ],
   "source": [
    "# Importando la librería\n",
    "import calendar\n",
    "\n",
    "# Día del mes\n",
    "print(\"Día del mes: \", fecha.day)\n",
    "\n",
    "# Número del día de la semana\n",
    "print(\"Número del día de la semana: \", fecha.weekday())\n",
    "\n",
    "# Nombre del día de la semana\n",
    "print(\"Nombre del día de la semana: \", calendar.day_name[fecha.weekday()])"
   ]
  },
  {
   "cell_type": "markdown",
   "id": "cb5b58cb-4686-4df1-9cc8-b41745cf98c6",
   "metadata": {},
   "source": [
    "> **Nota:** ¡se debe recordar que en Python los números empiezan desde 0!"
   ]
  },
  {
   "cell_type": "code",
   "execution_count": 17,
   "id": "9233de43-9f78-4663-9e6a-34e6f41f141a",
   "metadata": {},
   "outputs": [
    {
     "name": "stdout",
     "output_type": "stream",
     "text": [
      "0 - Monday\n",
      "1 - Tuesday\n",
      "2 - Wednesday\n",
      "3 - Thursday\n",
      "4 - Friday\n",
      "5 - Saturday\n",
      "6 - Sunday\n"
     ]
    }
   ],
   "source": [
    "# Revisemos los números de la semana y su nombre\n",
    "j = 0\n",
    "for i in calendar.day_name:\n",
    "    print(j,'-',i)\n",
    "    j+=1"
   ]
  },
  {
   "cell_type": "markdown",
   "id": "532683e0-e5b5-4fad-9d0c-85ebca5f886b",
   "metadata": {},
   "source": [
    "## 7.1.2. Diferencia entre fechas"
   ]
  },
  {
   "cell_type": "markdown",
   "id": "7a2f30b8-1434-4119-9648-1e0527c44e93",
   "metadata": {},
   "source": [
    "Se puede obtener la diferencia entre dos fechas para calcular cuántos días hay entre ellas:"
   ]
  },
  {
   "cell_type": "code",
   "execution_count": 18,
   "id": "46154427-5f67-460f-b154-b917f286715d",
   "metadata": {},
   "outputs": [
    {
     "name": "stdout",
     "output_type": "stream",
     "text": [
      "Quedan 121 days, 0:00:00 para terminar el semestre\n"
     ]
    }
   ],
   "source": [
    "# Importando el módulo date de datetime\n",
    "from datetime import date\n",
    "\n",
    "# Creando dos fechas (con otra forma que solo recibe fechas)\n",
    "date1 = date(2022, 3, 1)\n",
    "date2 = date(2022, 6, 30)\n",
    "\n",
    "# Diferencia entre dos fechas\n",
    "difference = date2 - date1\n",
    "print(\"Quedan {0} para terminar el semestre\".format(difference))"
   ]
  },
  {
   "cell_type": "markdown",
   "id": "da155c5e-afac-411c-99b0-b5537344febb",
   "metadata": {},
   "source": [
    "También se puede con horas, minutos y segundos:"
   ]
  },
  {
   "cell_type": "code",
   "execution_count": 19,
   "id": "6b9b6ece-8f7a-4e54-8f4b-294951df0e8c",
   "metadata": {},
   "outputs": [
    {
     "name": "stdout",
     "output_type": "stream",
     "text": [
      "Quedan 24 days, 6:00:00 para terminar el primer corte\n"
     ]
    }
   ],
   "source": [
    "# Importando el módulo datetime de datetime\n",
    "from datetime import datetime\n",
    "\n",
    "# Creando dos fechas (con la forma que recibe fechas y horas)\n",
    "date1 = datetime(2022, 3, 1, 18, 0, 0)\n",
    "date2 = datetime(2022, 3, 26, 0, 0, 0)\n",
    "\n",
    "# Diferencia de fechas\n",
    "difference = date2 - date1\n",
    "print(\"Quedan {0} para terminar el primer corte\".format(difference))"
   ]
  },
  {
   "cell_type": "markdown",
   "id": "6239f7e7-f89b-4875-a221-c020858a77b1",
   "metadata": {},
   "source": [
    "### 7.2. Ejercicios"
   ]
  },
  {
   "cell_type": "markdown",
   "id": "37b18f05-52bf-4f2a-a530-150cffcf1f03",
   "metadata": {},
   "source": [
    "### 7.2.1. Desglosamiento del presente"
   ]
  },
  {
   "cell_type": "markdown",
   "id": "ff8967e9-4717-43d2-a907-6178323a93f4",
   "metadata": {},
   "source": [
    "Separe en una lista el año, mes, día, hora, minutos y segundos de este mismo momento."
   ]
  },
  {
   "cell_type": "code",
   "execution_count": null,
   "id": "fc247cf9-5aa9-4100-96f3-20d18dfc13bf",
   "metadata": {},
   "outputs": [],
   "source": []
  },
  {
   "cell_type": "markdown",
   "id": "64eb71ab-5641-41b1-b55a-4a67bdef761d",
   "metadata": {},
   "source": [
    "### 7.2.2. Conteo regresivo a su cumpleaños"
   ]
  },
  {
   "cell_type": "markdown",
   "id": "1f4b7503-5830-4127-a237-22ae7d07df5e",
   "metadata": {},
   "source": [
    "Construya un programa que le diga cuánto falta desde este momento al día de su cumpleaños"
   ]
  },
  {
   "cell_type": "code",
   "execution_count": null,
   "id": "62223cef-3d3f-48fd-816c-b0b0557e51f6",
   "metadata": {},
   "outputs": [],
   "source": []
  }
 ],
 "metadata": {
  "kernelspec": {
   "display_name": "Python 3 (ipykernel)",
   "language": "python",
   "name": "python3"
  },
  "language_info": {
   "codemirror_mode": {
    "name": "ipython",
    "version": 3
   },
   "file_extension": ".py",
   "mimetype": "text/x-python",
   "name": "python",
   "nbconvert_exporter": "python",
   "pygments_lexer": "ipython3",
   "version": "3.10.2"
  }
 },
 "nbformat": 4,
 "nbformat_minor": 5
}
