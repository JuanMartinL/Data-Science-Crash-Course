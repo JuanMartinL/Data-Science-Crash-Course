{
 "cells": [
  {
   "attachments": {},
   "cell_type": "markdown",
   "metadata": {},
   "source": [
    "### Módulo: Introducción a Python\n",
    "# Clase 2: Introducción a Python"
   ]
  },
  {
   "attachments": {},
   "cell_type": "markdown",
   "metadata": {},
   "source": [
    "Python es un lenguaje de programación de alto nivel, intérprete y de propósito general. Creado a los finales de los 80's por Guido von Rossum,soporta múltiples paradigmas de programación, incluyendo programación estructurada, orientada a objetos y orientada a eventos.\n",
    "\n",
    "La filosofía de Python está resumida en el texto The [Zen of Python](https://peps.python.org/pep-0020/) (PEP 20), el cual incluye:\n",
    "\n",
    "* Lo bello es mejor que lo feo.\n",
    "* Lo explícito es mejor que lo implícito.\n",
    "* Lo simple es mejor que lo complejo.\n",
    "* Lo complejo es mejor que lo complicado.\n",
    "* La facilidad de lectura cuenta.\n",
    "\n",
    "En resumen, Python se centra en una sintáxis y gramática fácil de entender y simple, a la vez que le da la oportunidad a los programadores más expertos de crear su propia metodología por medio de módulos (o paquetes).\n",
    "\n",
    "> **Dato curioso:** el nombre de este lenguaje de programación surge a partir del programa de Monthy Python, no de la serpiente.\n",
    "\n",
    "Cabe explicar también los siguientes términos sobre Python:\n",
    "\n",
    "* **Es un lenguaje de alto nivel:** implica que hay alta abstracción de los detalles del computador. Los lenguajes de bajo nivel son aquellos que incluso utilizan elementos del lenguaje natural, lo que los hace más \"sencillos\" de entender, como Stata.\n",
    "* **Es un lenguaje interpretado:** implica que no hay compilación del código. Simplemente se corre directamente.\n",
    "* **Es un lenguaje de propósito general:** implica que puede utilizarse para un amplio rango de objetivos, tales como programación de juegos, análisis estadísticos, entre otros.\n",
    "\n",
    "Ahora debemos aprender un poco sobre cómo utilizar y programar Python. Vamos paso a paso.\n",
    "\n",
    "No obstante, primero vamos a cumplir con la tradición de iniciación de programación: en la siguiente celda impriman \"Hello, world!\" con el método `print()`:"
   ]
  },
  {
   "cell_type": "code",
   "execution_count": 22,
   "metadata": {},
   "outputs": [
    {
     "name": "stdout",
     "output_type": "stream",
     "text": [
      "Hello, world!\n"
     ]
    }
   ],
   "source": [
    "print(\"Hello, world!\")"
   ]
  },
  {
   "attachments": {},
   "cell_type": "markdown",
   "metadata": {},
   "source": [
    "# 1. Algoritmos"
   ]
  },
  {
   "attachments": {},
   "cell_type": "markdown",
   "metadata": {},
   "source": [
    "Los algoritmos son un \"Conjunto ordenado de operaciones sistemáticas que permite hacer un cálculo o hallar la solución de un tipo de problemas.\" (Oxford Languages, 2023). En otras palabras, **los algoritmos son un paso a paso para solucionar un problema**.\n",
    "\n",
    "Los algoritmos son fundamentales para la programación, ya que son la guía de procedimientos necesarios para alcanzar lo que queremos hacer. Se puede aplicar a cualquier elemento de la vida. Por ejemplo, el algoritmo para lavarse los dientes puede resumirse en:\n",
    "\n",
    "1. Tomar el cepillo de dientes.\n",
    "2. Aplicarle crema de dientes\n",
    "3. Mojar un poco el cepillo y crema de dientes.\n",
    "4. Repetidamente mover el cepillo arriba y abajo, moviéndose por los diferentes dientes.\n",
    "5. Escupir los restos de crema de dientes.\n",
    "6. Enjuagarse con agua.\n",
    "\n",
    "Esto es un ejemplo básico, pero se puede aplicar a problemas más complejos. Por ejemplo, ¿cuál es el algoritmo para separar los números del 1 al 10 entre pares e impares? Un ejemplo básico puede ser el siguiente:\n",
    "\n",
    "1. Tomar el primer número.\n",
    "2. Dividir el número entre 2.\n",
    "3. Comprobar si el residuo es igual a 0.\n",
    "4. Si es igual a 0, el número es par. Si no, es impar.\n",
    "\n",
    "Como se puede observar, no hemos tomado ningún código para solucionar este problema. Lo hemos realizado solamente con texto. A esto se conoce **pseudocódigo** y permite construir algoritmos antes de programar.\n",
    "\n",
    "No obstante, es un error común en programación pensar primero en el código y después en el algoritmo. Esto limita nuestra creatividad, ya que es pensar en la solución a partir de las herramientas que tenemos. Las opciones se limitan a lo que tenemos, no a lo que podemos crear. En realidad, **es preferible pensar primero en el algoritmo y después en el código**. En otras palabras, si pensamos cómo encontrar la solución, buscaremos las herramientas adecuadas para solucionarlo. La creatividad surge a partir de la consideración de la mejor solución."
   ]
  },
  {
   "attachments": {},
   "cell_type": "markdown",
   "metadata": {},
   "source": [
    "# 2. Aritmética Básica"
   ]
  },
  {
   "attachments": {},
   "cell_type": "markdown",
   "metadata": {},
   "source": [
    "## 2.1. Operaciones básicas"
   ]
  },
  {
   "attachments": {},
   "cell_type": "markdown",
   "metadata": {},
   "source": [
    "Las operaciones básicas en Python son muy intuitivas. Solamente se utilizan los operadores que normalmente conocemos: suma (`+`), resta (`-`), multiplicación (`*`), división (`/`). A continuación veremos algunos ejemplos:"
   ]
  },
  {
   "cell_type": "code",
   "execution_count": 23,
   "metadata": {},
   "outputs": [
    {
     "data": {
      "text/plain": [
       "2"
      ]
     },
     "execution_count": 23,
     "metadata": {},
     "output_type": "execute_result"
    }
   ],
   "source": [
    "# Suma\n",
    "1 + 1"
   ]
  },
  {
   "cell_type": "code",
   "execution_count": 24,
   "metadata": {},
   "outputs": [
    {
     "data": {
      "text/plain": [
       "25"
      ]
     },
     "execution_count": 24,
     "metadata": {},
     "output_type": "execute_result"
    }
   ],
   "source": [
    "# Resta\n",
    "50 - 25"
   ]
  },
  {
   "cell_type": "code",
   "execution_count": 25,
   "metadata": {},
   "outputs": [
    {
     "data": {
      "text/plain": [
       "36"
      ]
     },
     "execution_count": 25,
     "metadata": {},
     "output_type": "execute_result"
    }
   ],
   "source": [
    "# Multiplicación\n",
    "6 * 6"
   ]
  },
  {
   "cell_type": "code",
   "execution_count": 26,
   "metadata": {},
   "outputs": [
    {
     "data": {
      "text/plain": [
       "5.0"
      ]
     },
     "execution_count": 26,
     "metadata": {},
     "output_type": "execute_result"
    }
   ],
   "source": [
    "# División\n",
    "125 / 25"
   ]
  },
  {
   "attachments": {},
   "cell_type": "markdown",
   "metadata": {},
   "source": [
    "Las operaciones básicas como la potencia y la raíz cuadrada no son tan intuitivas, cuyos operadores en Python son (`**`). Exploremos algunos ejemplos:"
   ]
  },
  {
   "cell_type": "code",
   "execution_count": 27,
   "metadata": {},
   "outputs": [
    {
     "data": {
      "text/plain": [
       "36"
      ]
     },
     "execution_count": 27,
     "metadata": {},
     "output_type": "execute_result"
    }
   ],
   "source": [
    "# Potencia\n",
    "6**2"
   ]
  },
  {
   "cell_type": "code",
   "execution_count": 28,
   "metadata": {},
   "outputs": [
    {
     "data": {
      "text/plain": [
       "7.0"
      ]
     },
     "execution_count": 28,
     "metadata": {},
     "output_type": "execute_result"
    }
   ],
   "source": [
    "# Raíz cuadrada\n",
    "49**(1/2)"
   ]
  },
  {
   "attachments": {},
   "cell_type": "markdown",
   "metadata": {},
   "source": [
    "Se puede utilizar también algunos métodos o funciones, los cuales deben llamarse por su nombre y, por lo general, escribiendo los parámetros entre paréntesis (\"`()`\"). En este caso, vamos a utilizar la función `pow()`:"
   ]
  },
  {
   "cell_type": "code",
   "execution_count": 29,
   "metadata": {},
   "outputs": [
    {
     "data": {
      "text/plain": [
       "36"
      ]
     },
     "execution_count": 29,
     "metadata": {},
     "output_type": "execute_result"
    }
   ],
   "source": [
    "# Potencia\n",
    "pow(6, 2)"
   ]
  },
  {
   "cell_type": "code",
   "execution_count": 30,
   "metadata": {},
   "outputs": [
    {
     "data": {
      "text/plain": [
       "7.0"
      ]
     },
     "execution_count": 30,
     "metadata": {},
     "output_type": "execute_result"
    }
   ],
   "source": [
    "# Raíz cuadrada\n",
    "pow(49, (1/2))"
   ]
  },
  {
   "attachments": {},
   "cell_type": "markdown",
   "metadata": {},
   "source": [
    "También se pueden utilizar **paquetes** o **librerías** (de las cuales hablaremos en el transcurso del curso) que tienen funciones específicas. Las **librerías** son códigos que alguien más ha escrito con funciones que son útiles. Estos se ofrecen a otros usuarios y tienen procesos internos que facilitan lo que necesitamos hacer.\n",
    "\n",
    "Para utilizar una función de una librería en específico, se tiene la siguiente estructura básica:\n",
    "\n",
    "> `<paquete>.<funcion>(<parámetros>)`\n",
    "\n",
    "Como ejemplo, utilizaremos la librería `math`, la cual tiene el comando `sqrt()` para calcular la raíz cuadrada:"
   ]
  },
  {
   "cell_type": "code",
   "execution_count": 31,
   "metadata": {},
   "outputs": [
    {
     "data": {
      "text/plain": [
       "2.0"
      ]
     },
     "execution_count": 31,
     "metadata": {},
     "output_type": "execute_result"
    }
   ],
   "source": [
    "# Se importa la librería math\n",
    "import math\n",
    "\n",
    "# Raíz cuadrada\n",
    "math.sqrt(4)"
   ]
  },
  {
   "attachments": {},
   "cell_type": "markdown",
   "metadata": {},
   "source": [
    "> **Nota:** en Python se puede hacer uso de las librerías llamando la librería seguida de la función que se necesita, separado por un punto, como se ve en el ejemplo. Más adelante profundizaremos más."
   ]
  },
  {
   "attachments": {},
   "cell_type": "markdown",
   "metadata": {},
   "source": [
    "## 2.2. Operador módulo"
   ]
  },
  {
   "attachments": {},
   "cell_type": "markdown",
   "metadata": {},
   "source": [
    "En la aritmética, existe un operador que sirve en ocasiones para algunos algoritmos: el operador modular. El operador modular (`%`) obtiene el residuo de una división. Por tanto, podríamos ver el siguiente ejemplo:\n",
    "\n",
    "$$13 \\% 4 = 1 \\:\\: \\neq \\:\\: 13/4  \\simeq 3 $$\n",
    "\n",
    "Es decir, 13 dividido 4 tiene como cociente 3 y residuo 1. A esto se le llama **aritmética modular**, cuyas aplicaciones son importantes en la programación, incluyendo la criptografía.\n",
    "\n",
    "Apliquemos esto en código:"
   ]
  },
  {
   "cell_type": "code",
   "execution_count": 32,
   "metadata": {},
   "outputs": [
    {
     "data": {
      "text/plain": [
       "3"
      ]
     },
     "execution_count": 32,
     "metadata": {},
     "output_type": "execute_result"
    }
   ],
   "source": [
    "# Operador módulo\n",
    "13 % 5"
   ]
  },
  {
   "cell_type": "code",
   "execution_count": 33,
   "metadata": {},
   "outputs": [
    {
     "data": {
      "text/plain": [
       "3"
      ]
     },
     "execution_count": 33,
     "metadata": {},
     "output_type": "execute_result"
    }
   ],
   "source": [
    "28 % 5"
   ]
  },
  {
   "attachments": {},
   "cell_type": "markdown",
   "metadata": {},
   "source": [
    "-----------------------------------------------------------------\n",
    "\n",
    "### Ejercicios:\n",
    "\n",
    "1. Calcule la siguiente fórmula:\n",
    "\n",
    "$$[ ( 12^2 )*( 1/3 )+52 ]^{1/2}$$"
   ]
  },
  {
   "cell_type": "code",
   "execution_count": null,
   "metadata": {},
   "outputs": [],
   "source": []
  },
  {
   "attachments": {},
   "cell_type": "markdown",
   "metadata": {},
   "source": [
    "2. Encuentre el residuo de la siguiente división:\n",
    "\n",
    "$$(5*5 + 4)/3$$"
   ]
  },
  {
   "cell_type": "code",
   "execution_count": null,
   "metadata": {},
   "outputs": [],
   "source": []
  },
  {
   "attachments": {},
   "cell_type": "markdown",
   "metadata": {},
   "source": [
    "3. Encuentre cuántos grados Fahrenheit son 100° Celsius:"
   ]
  },
  {
   "cell_type": "code",
   "execution_count": null,
   "metadata": {},
   "outputs": [],
   "source": []
  },
  {
   "attachments": {},
   "cell_type": "markdown",
   "metadata": {},
   "source": [
    "-----------------------------------------------------------------"
   ]
  },
  {
   "attachments": {},
   "cell_type": "markdown",
   "metadata": {},
   "source": [
    "# 3. Tipos de datos\n",
    "\n",
    "Python (y todo tipo de lenguaje de programación) tiene clasificaciones de los tipos de datos (o variables). Resulta fundamental manejar los tipos de datos, ya que en ello radica evitar errores en los resultados y el ahorro de recursos de almacenamiento y procesamiento. Más adelante, cuando aprendamos sobre `dataframes` y `pandas` resultará de mayor utilidad. Por ahora debemos aprender lo básico.\n",
    "\n",
    "Los tipos de datos más comúnes son los siguientes:"
   ]
  },
  {
   "attachments": {},
   "cell_type": "markdown",
   "metadata": {},
   "source": [
    "## 3.1. Tipo Texto o String (`str`)"
   ]
  },
  {
   "attachments": {},
   "cell_type": "markdown",
   "metadata": {},
   "source": [
    "Los textos se guardan como tipo string (`str`) en las variables de Python. Cualquier texto se puede establecer como string solamente rodeándolo en el código con comillas hispanas (`\" \"`) o comillas anglosajonas (`' '`). Veámoslo:"
   ]
  },
  {
   "cell_type": "code",
   "execution_count": 34,
   "metadata": {},
   "outputs": [
    {
     "name": "stdout",
     "output_type": "stream",
     "text": [
      "Hello, world!\n"
     ]
    }
   ],
   "source": [
    "print(\"Hello, world!\")"
   ]
  },
  {
   "attachments": {},
   "cell_type": "markdown",
   "metadata": {},
   "source": [
    "Se imprime como texto. Ahora guardemos este texto en una variable y encontremos su tipo con la función `type()`:"
   ]
  },
  {
   "cell_type": "code",
   "execution_count": 35,
   "metadata": {},
   "outputs": [
    {
     "data": {
      "text/plain": [
       "str"
      ]
     },
     "execution_count": 35,
     "metadata": {},
     "output_type": "execute_result"
    }
   ],
   "source": [
    "text = \"Hello, world!\"\n",
    "\n",
    "type(text)"
   ]
  },
  {
   "attachments": {},
   "cell_type": "markdown",
   "metadata": {},
   "source": [
    "Los tipo `str` tienen unas funciones y métodos específicos que pueden permitir su modificación. Los más relevantes son los siguientes:"
   ]
  },
  {
   "attachments": {},
   "cell_type": "markdown",
   "metadata": {},
   "source": [
    "### 3.1.1. Cambios de mayúsculas y minúsculas"
   ]
  },
  {
   "attachments": {},
   "cell_type": "markdown",
   "metadata": {},
   "source": [
    "Creemos una variable cualquiera que podamos modificar:"
   ]
  },
  {
   "cell_type": "code",
   "execution_count": 36,
   "metadata": {},
   "outputs": [],
   "source": [
    "text = \"I love Big Data\""
   ]
  },
  {
   "cell_type": "code",
   "execution_count": 37,
   "metadata": {},
   "outputs": [
    {
     "data": {
      "text/plain": [
       "'I love Big Data'"
      ]
     },
     "execution_count": 37,
     "metadata": {},
     "output_type": "execute_result"
    }
   ],
   "source": [
    "text"
   ]
  },
  {
   "attachments": {},
   "cell_type": "markdown",
   "metadata": {},
   "source": [
    "Podemos modificar el texto original para convertirlo en **minúsculas** con el método `lower()`:"
   ]
  },
  {
   "cell_type": "code",
   "execution_count": 38,
   "metadata": {},
   "outputs": [
    {
     "data": {
      "text/plain": [
       "'i love big data'"
      ]
     },
     "execution_count": 38,
     "metadata": {},
     "output_type": "execute_result"
    }
   ],
   "source": [
    "text.lower()"
   ]
  },
  {
   "attachments": {},
   "cell_type": "markdown",
   "metadata": {},
   "source": [
    "Podemos modificar el texto original para convertirlo en **mayúsculas** con el método `upper()`:"
   ]
  },
  {
   "cell_type": "code",
   "execution_count": 39,
   "metadata": {},
   "outputs": [
    {
     "data": {
      "text/plain": [
       "'I LOVE BIG DATA'"
      ]
     },
     "execution_count": 39,
     "metadata": {},
     "output_type": "execute_result"
    }
   ],
   "source": [
    "text.upper()"
   ]
  },
  {
   "attachments": {},
   "cell_type": "markdown",
   "metadata": {},
   "source": [
    "Podemos modificarlo para que **la primera letra de toda la cadena sea mayúscula y el resto en minúscula** con el método `capitalize()`, incluso aunque otras letras estuvieran en mayúscula:"
   ]
  },
  {
   "cell_type": "code",
   "execution_count": 40,
   "metadata": {},
   "outputs": [
    {
     "data": {
      "text/plain": [
       "'I love big data'"
      ]
     },
     "execution_count": 40,
     "metadata": {},
     "output_type": "execute_result"
    }
   ],
   "source": [
    "text.capitalize()"
   ]
  },
  {
   "attachments": {},
   "cell_type": "markdown",
   "metadata": {},
   "source": [
    "Podemos modificarlo para que **todas las letras iniciales de cada palabra estén en mayúscula** con el método `title()`, incluso aunque otras letras estuvieran en mayúscula:"
   ]
  },
  {
   "cell_type": "code",
   "execution_count": 41,
   "metadata": {},
   "outputs": [
    {
     "data": {
      "text/plain": [
       "'I Love Big Data'"
      ]
     },
     "execution_count": 41,
     "metadata": {},
     "output_type": "execute_result"
    }
   ],
   "source": [
    "text.title()"
   ]
  },
  {
   "attachments": {},
   "cell_type": "markdown",
   "metadata": {},
   "source": [
    "Podemos modificarlo para que **todas las letras intercambien las minúsculas y mayúsculas** con el método `swapcase()`:"
   ]
  },
  {
   "cell_type": "code",
   "execution_count": 42,
   "metadata": {},
   "outputs": [
    {
     "data": {
      "text/plain": [
       "'i LOVE bIG dATA'"
      ]
     },
     "execution_count": 42,
     "metadata": {},
     "output_type": "execute_result"
    }
   ],
   "source": [
    "text.swapcase()"
   ]
  },
  {
   "attachments": {},
   "cell_type": "markdown",
   "metadata": {},
   "source": [
    "### 3.1.2. División de los strings"
   ]
  },
  {
   "attachments": {},
   "cell_type": "markdown",
   "metadata": {},
   "source": [
    "Podemos manipular los `str` para dividirlo en sus partes, convirtiéndolos en otro tipo de variable llamado **lista**. En esta estructura se pueden guardar elementos de diferentes tipos, pero más adelante hablaremos de ellos. \n",
    "\n",
    "Por ahora, podemos ver cómo dividir una cadena de texto en sus partes con el método `split()` con esta famosa del cantautor Big Boy:"
   ]
  },
  {
   "cell_type": "code",
   "execution_count": 43,
   "metadata": {},
   "outputs": [
    {
     "data": {
      "text/plain": [
       "['Quisiera',\n",
       " 'volver',\n",
       " 'a',\n",
       " 'amarte,',\n",
       " 'volver',\n",
       " 'a',\n",
       " 'quererte,',\n",
       " 'Volver',\n",
       " 'a',\n",
       " 'tenerte',\n",
       " 'cerca',\n",
       " 'de',\n",
       " 'mí,',\n",
       " 'girl.',\n",
       " 'Mis',\n",
       " 'ojos',\n",
       " 'lloran',\n",
       " 'por',\n",
       " 'ti.']"
      ]
     },
     "execution_count": 43,
     "metadata": {},
     "output_type": "execute_result"
    }
   ],
   "source": [
    "# Creando la variable\n",
    "phrase = \"Quisiera volver a amarte, volver a quererte, Volver a tenerte cerca de mí, girl. Mis ojos lloran por ti.\"\n",
    "\n",
    "phrase.split()"
   ]
  },
  {
   "attachments": {},
   "cell_type": "markdown",
   "metadata": {},
   "source": [
    "Como se puede observar, la cadena de texto se dividió en sus partes a partir de la división que proponen los espacios. Sin embargo, también podemos dividirla por otros caracteres que nos sirvan para separarlas, como puntos y comas. En este caso, vamos a dividir la frase por medio de la palabra \"volver\":"
   ]
  },
  {
   "cell_type": "code",
   "execution_count": 44,
   "metadata": {},
   "outputs": [
    {
     "data": {
      "text/plain": [
       "['Quisiera ',\n",
       " ' a amarte, ',\n",
       " ' a quererte, Volver a tenerte cerca de mí, girl. Mis ojos lloran por ti.']"
      ]
     },
     "execution_count": 44,
     "metadata": {},
     "output_type": "execute_result"
    }
   ],
   "source": [
    "phrase.split(\"volver\")"
   ]
  },
  {
   "cell_type": "code",
   "execution_count": 45,
   "metadata": {},
   "outputs": [],
   "source": [
    "# Paso 1: Cambio por mayusculas\n",
    "song = phrase.upper()\n",
    "\n",
    "# Paso 2: Lo separo\n"
   ]
  },
  {
   "attachments": {},
   "cell_type": "markdown",
   "metadata": {},
   "source": [
    "Esta lista solo tiene tres elementos, los cuales fueron el resultado de la división del texto a partir de lo que había antes, después y entre la palabra \"volver\".\n",
    "\n",
    "También podemos especificar cuál es la cantidad de divisiones que deseamos hacer, como en el siguiente ejemplo donde solamente realizaremos una división:"
   ]
  },
  {
   "cell_type": "code",
   "execution_count": 46,
   "metadata": {},
   "outputs": [
    {
     "data": {
      "text/plain": [
       "['Quisiera ',\n",
       " ' a amarte, volver a quererte, Volver a tenerte cerca de mí, girl. Mis ojos lloran por ti.']"
      ]
     },
     "execution_count": 46,
     "metadata": {},
     "output_type": "execute_result"
    }
   ],
   "source": [
    "phrase.split(\"volver\", 1)"
   ]
  },
  {
   "attachments": {},
   "cell_type": "markdown",
   "metadata": {},
   "source": [
    "### 3.1.3. Reemplazo de palabras en string"
   ]
  },
  {
   "attachments": {},
   "cell_type": "markdown",
   "metadata": {},
   "source": [
    "En ocasiones querremos reemplazar alguna palabra o serie de palabras (cadena de string) en específico de un texto cualquiera. Para ello utilizaremos el método `replace()` de los `str`:"
   ]
  },
  {
   "cell_type": "code",
   "execution_count": 47,
   "metadata": {},
   "outputs": [
    {
     "name": "stdout",
     "output_type": "stream",
     "text": [
      "¿Dónde estás? Yo le llego, dime dónde, Yo te conozco y eres adicta a la carranga (a la carranga)\n"
     ]
    }
   ],
   "source": [
    "# Creamos la variable\n",
    "txt = \"¿Dónde estás? Yo le llego, dime dónde, Yo te conozco y eres adicta a lo under (a lo under)\"\n",
    "\n",
    "# Aplicamos el replace\n",
    "print(txt.replace(\"lo under\", \"la carranga\"))"
   ]
  },
  {
   "attachments": {},
   "cell_type": "markdown",
   "metadata": {},
   "source": [
    "Ahora, como podemos observar, el método `replace` cambia **todas** las instancias de esa cadena de texto por el que le decimos. Sin embargo, podemos decirle cuántas instancias cambiaremos, por lo cual le podemos agregar un número:"
   ]
  },
  {
   "cell_type": "code",
   "execution_count": 48,
   "metadata": {},
   "outputs": [
    {
     "name": "stdout",
     "output_type": "stream",
     "text": [
      "¿Dónde estás? Yo le llego, dime dónde, Yo te conozco y eres adicta a la carranga (a lo under)\n"
     ]
    }
   ],
   "source": [
    "# Aplicamos el replace con una sola instancia\n",
    "print(txt.replace(\"lo under\", \"la carranga\", 1))"
   ]
  },
  {
   "attachments": {},
   "cell_type": "markdown",
   "metadata": {},
   "source": [
    "> **Nota:** solamente indica cuántas instancias en orden de aparición se cambia. Es decir, si se especifica `1`, se cambia la primera; si se especifica `2`, se cambian las dos primeras, y así."
   ]
  },
  {
   "attachments": {},
   "cell_type": "markdown",
   "metadata": {},
   "source": [
    "### 3.1.4. Método Join"
   ]
  },
  {
   "attachments": {},
   "cell_type": "markdown",
   "metadata": {},
   "source": [
    "El método `join()` permite unir una lista de strings que están separadas en diferentes elementos en una lista:"
   ]
  },
  {
   "cell_type": "code",
   "execution_count": 49,
   "metadata": {},
   "outputs": [
    {
     "name": "stdout",
     "output_type": "stream",
     "text": [
      "Original:  El sonido de la gentrificación es el silencio\n",
      "Separado con split:  ['El', 'sonido', 'de', 'la', 'gentrificación', 'es', 'el', 'silencio']\n",
      "Unido con join:  El sonido de la gentrificación es el silencio\n"
     ]
    }
   ],
   "source": [
    "# Se crea la variable original\n",
    "text = \"El sonido de la gentrificación es el silencio\"\n",
    "print(\"Original: \", text)\n",
    "\n",
    "# Se separa en una lista con split\n",
    "text = text.split()\n",
    "print(\"Separado con split: \", text)\n",
    "\n",
    "# Se vuelve a unir con join\n",
    "text = \" \".join(text)\n",
    "print(\"Unido con join: \", text)"
   ]
  },
  {
   "attachments": {},
   "cell_type": "markdown",
   "metadata": {},
   "source": [
    "Sin embargo, también podemos separar a drede una cadena de texto para, por ejemplo, cambiar un elemento y volver a unirlo todo para tener nuevamente una nueva cadena de texto."
   ]
  },
  {
   "cell_type": "code",
   "execution_count": 50,
   "metadata": {},
   "outputs": [
    {
     "name": "stdout",
     "output_type": "stream",
     "text": [
      "Original:  El sonido de la gentrificación es el silencio\n",
      "Separado con split:  ['El', 'sonido', 'de', 'la', 'gentrificación', 'es', 'el', 'silencio']\n",
      "Unido con join:  El sonido de la gentrificación es el tropipop\n"
     ]
    }
   ],
   "source": [
    "# Se crea la variable original\n",
    "text = \"El sonido de la gentrificación es el silencio\"\n",
    "print(\"Original: \", text)\n",
    "\n",
    "# Se separa en una lista con split\n",
    "text = text.split()\n",
    "print(\"Separado con split: \", text)\n",
    "\n",
    "# Se cambia una palabra\n",
    "text[7] = \"tropipop\"\n",
    "\n",
    "# Se vuelve a unir con join\n",
    "text = \" \".join(text)\n",
    "print(\"Unido con join: \", text)"
   ]
  },
  {
   "attachments": {},
   "cell_type": "markdown",
   "metadata": {},
   "source": [
    "En este caso, este pequeño programa permite dividir un string, cambiar una palabra y volverlo nuevamente un string. El método `join()` permite juntar nuevamente la lista."
   ]
  },
  {
   "attachments": {},
   "cell_type": "markdown",
   "metadata": {},
   "source": [
    "---------------------------------------"
   ]
  },
  {
   "attachments": {},
   "cell_type": "markdown",
   "metadata": {},
   "source": [
    "#### Ejercicios\n",
    "\n",
    "Coja el siguiente elemento `str` del gran canta-autor Darío Gómez y conviértala en mayúsculas y divídala en una lista de palabras:"
   ]
  },
  {
   "cell_type": "code",
   "execution_count": 51,
   "metadata": {},
   "outputs": [],
   "source": [
    "lyrics = \"Nadie es eterno en el mundo, Ni teniendo un corazón, Que tanto siente y suspira por la vida y el amor\""
   ]
  },
  {
   "cell_type": "code",
   "execution_count": null,
   "metadata": {},
   "outputs": [],
   "source": []
  },
  {
   "attachments": {},
   "cell_type": "markdown",
   "metadata": {},
   "source": [
    "-------------------------------------"
   ]
  },
  {
   "attachments": {},
   "cell_type": "markdown",
   "metadata": {},
   "source": [
    "## 3.2. Tipo numérico (`int`, `float` & `complex`)"
   ]
  },
  {
   "attachments": {},
   "cell_type": "markdown",
   "metadata": {},
   "source": [
    "Los números se guardan bajo tres subtipos de datos: enteros (`int`), reales (`float`) y complejos (`complex`). Para crear un tipo numérico, solamente se debe crear la variable con un número sin comillas, ya que Python sabrá cómo clasificarlo dependiendo si tiene un punto o simplemente es un entero. Veamos dicha aplicación con la función `type()`:"
   ]
  },
  {
   "cell_type": "code",
   "execution_count": 52,
   "metadata": {},
   "outputs": [
    {
     "name": "stdout",
     "output_type": "stream",
     "text": [
      "La variable x (1) es tipo  <class 'int'>\n",
      "La variable y (1.1) es tipo  <class 'float'>\n"
     ]
    }
   ],
   "source": [
    "# Creando una variable entera\n",
    "x = 1\n",
    "print(\"La variable x (\" + str(x) + \") es tipo \", type(x))\n",
    "\n",
    "# Creando una variable real no entera\n",
    "y  = 1.1\n",
    "print(\"La variable y (\" + str(y) + \") es tipo \", type(y))"
   ]
  },
  {
   "attachments": {},
   "cell_type": "markdown",
   "metadata": {},
   "source": [
    "El uso de cada uno de estos subtipos de datos depende del uso que se requiera, incluyendo el número de decimales permitidos para dicho dato. Por ello, cada subtipo ocupa un tamaño diferente de memoria.\n",
    "\n",
    "En ese sentido, los datos subtipo `int` son los que menos memoria ocupan, ya que no guardan decimales. En cambio, los datos subtipo `float` y `complex` ocupan más espacio de memoria, ya que requieren guardar más información.\n",
    "\n",
    "No obstante, no es recomendable utilizar subtipo `int` para todos los datos, ya que no permite los decimales y los rodendea en ocasiones de manera errónea. A la vez, tampoco es recomendable utilizar subtipo `float` para todo, ya que requiere de mayor espacio de memoria. Esto no es inconveniente con bases de datos pequeñas, pero se convierte en un problema con aquellas que empiezan a ser Big Data.\n",
    "\n",
    "Dado lo anterior, la decisión depende del tipo de datos que manejaremos. Una decisión consciente debe hacerse para cada uno.\n",
    "\n",
    "Por ahora, veremos lo básico del uso de los subtipos `int` y `float`, ya que en el uso cotidiano no es común encontrar datos tipo `complex`."
   ]
  },
  {
   "attachments": {},
   "cell_type": "markdown",
   "metadata": {},
   "source": [
    "### 3.2.1. Funciones de aproximación de valores"
   ]
  },
  {
   "attachments": {},
   "cell_type": "markdown",
   "metadata": {},
   "source": [
    "La aproximación de valores es importante para obtener la información que necesitamos y transformar los valores a lo que requerimos. Veamos alguna funciones para ello:"
   ]
  },
  {
   "attachments": {},
   "cell_type": "markdown",
   "metadata": {},
   "source": [
    "#### 3.2.1.1. Función `round()`\n",
    "\n",
    "La función `round()` de la librería `math` aproxima los valores como estamos acostumbrados: si los decimales superan el 0.5, se aproxima al valor siguiente; si no, se aproxima al valor que tenía. Veamos un ejemplo:"
   ]
  },
  {
   "cell_type": "code",
   "execution_count": 53,
   "metadata": {},
   "outputs": [
    {
     "name": "stdout",
     "output_type": "stream",
     "text": [
      "2\n",
      "3\n"
     ]
    }
   ],
   "source": [
    "# Valor menor a 0.5\n",
    "x = 2.4\n",
    "print(round(x))\n",
    "\n",
    "# Valor mayor a 0.5\n",
    "x = 2.6\n",
    "print(round(x))"
   ]
  },
  {
   "attachments": {},
   "cell_type": "markdown",
   "metadata": {},
   "source": [
    "No obstante, la función `round()` también nos permite aproximar un número específico de decimales. Es decir, le podemos decir que nos aproxime hasta el decimal 2, 3 o 10 de un número. Revisemos:"
   ]
  },
  {
   "cell_type": "code",
   "execution_count": 54,
   "metadata": {},
   "outputs": [
    {
     "name": "stdout",
     "output_type": "stream",
     "text": [
      "3.141592653589793\n",
      "La aproximación de 3.141592653589793 es 3.14\n",
      "La aproximación de 3.141592653589793 es 3.1416\n"
     ]
    }
   ],
   "source": [
    "# Importamos la librería\n",
    "import math\n",
    "\n",
    "# Traemos el valor de pi\n",
    "x = math.pi\n",
    "\n",
    "# Imprimimos el valor de pi\n",
    "print(x)\n",
    "\n",
    "# Aproximamos hasta el decimal 2\n",
    "print(\"La aproximación de \" + str(x) + \" es \" + str(round(x, 2)))\n",
    "\n",
    "# Aproximamos hasta el decimal 4\n",
    "print(\"La aproximación de \" + str(x) + \" es \" + str(round(x, 4)))"
   ]
  },
  {
   "attachments": {},
   "cell_type": "markdown",
   "metadata": {},
   "source": [
    "#### 3.2.1.2. Función `ceil()`\n",
    "\n",
    "La función `ceil()` hace referencia a una aproximación al \"techo\",  esto es una aproximación a la unidad siguiente. Por tanto, esta función aproxima el valor a la unidad siguiente independientemente si los decimales pasan o no el umbral de 0.5 en los decimales. Si tiene un solo decimal por encima de la unidad, lo aproxima a la unidad siguiente:"
   ]
  },
  {
   "cell_type": "code",
   "execution_count": 55,
   "metadata": {},
   "outputs": [
    {
     "name": "stdout",
     "output_type": "stream",
     "text": [
      "La aproximación de 2.2 es 3\n",
      "La aproximación de 4.9 es 5\n"
     ]
    }
   ],
   "source": [
    "# Importamos la librería\n",
    "import math\n",
    "\n",
    "# Caso con decimales menores a 0.5 en los decimales\n",
    "x = 2.2\n",
    "print(\"La aproximación de \" + str(x) + \" es \" + str(math.ceil(x)))\n",
    "\n",
    "# Caso con decimales mayores a 0.5 en los decimales\n",
    "x = 4.9\n",
    "print(\"La aproximación de \" + str(x) + \" es \" + str(math.ceil(x)))"
   ]
  },
  {
   "attachments": {},
   "cell_type": "markdown",
   "metadata": {},
   "source": [
    "#### 3.2.1.3. Función `floor()`\n",
    "\n",
    "La función `floor()` hace referencia a una aproximación al \"piso\", esto es una aproximación a la unidad anterior. Similar a `ceil()`, no importa si el número ha superado el umbral de 0.5 decimales, lo aproximará a la unidad anterior:"
   ]
  },
  {
   "cell_type": "code",
   "execution_count": 56,
   "metadata": {},
   "outputs": [
    {
     "name": "stdout",
     "output_type": "stream",
     "text": [
      "La aproximación de 4.4 es 4\n",
      "La aproximación de 9.999 es 9\n"
     ]
    }
   ],
   "source": [
    "# Importamos la librería\n",
    "import math\n",
    "\n",
    "# Caso con decimales menores a 0.5 en los decimales\n",
    "x = 4.4\n",
    "print(\"La aproximación de \" + str(x) + \" es \" + str(math.floor(x)))\n",
    "\n",
    "# Caso con decimales mayores a 0.5 en los decimales\n",
    "x = 9.999\n",
    "print(\"La aproximación de \" + str(x) + \" es \" + str(math.floor(x)))"
   ]
  },
  {
   "attachments": {},
   "cell_type": "markdown",
   "metadata": {},
   "source": [
    "#### 3.2.2. Función de valor absoluto `fabs()`\n",
    "\n",
    "La función `fabs()` convierte el número en el valor absoluto de dicho número. Por tanto, no importa si el valor es positivo o negativo, retornará un valor positivo de dicho número:"
   ]
  },
  {
   "cell_type": "code",
   "execution_count": 57,
   "metadata": {},
   "outputs": [
    {
     "name": "stdout",
     "output_type": "stream",
     "text": [
      "El valor absoluto de 4 es 4.0\n",
      "El valor absoluto de -100 es 100.0\n"
     ]
    }
   ],
   "source": [
    "# Importamos la librería\n",
    "import math\n",
    "\n",
    "# Caso de valor positivo\n",
    "x = 4\n",
    "print(\"El valor absoluto de \" + str(x) + \" es \" + str(math.fabs(x)))\n",
    "\n",
    "# Caso de valor negativo\n",
    "x = -100\n",
    "print(\"El valor absoluto de \" + str(x) + \" es \" + str(math.fabs(x)))"
   ]
  },
  {
   "attachments": {},
   "cell_type": "markdown",
   "metadata": {},
   "source": [
    "-----------------------------------"
   ]
  },
  {
   "attachments": {},
   "cell_type": "markdown",
   "metadata": {},
   "source": [
    "#### Ejercicios\n",
    "\n",
    "1. Construya un código que divida la parte entera de un número y sus decimales:"
   ]
  },
  {
   "cell_type": "code",
   "execution_count": null,
   "metadata": {},
   "outputs": [],
   "source": []
  },
  {
   "cell_type": "code",
   "execution_count": 58,
   "metadata": {},
   "outputs": [
    {
     "name": "stdout",
     "output_type": "stream",
     "text": [
      "La parte entera es: 9\n",
      "La parte decimal es: 0.5\n"
     ]
    }
   ],
   "source": [
    "# Paso 1: definir la variable\n",
    "num = 9.5\n",
    "\n",
    "# Paso 2: encontrar la parte entera\n",
    "import math\n",
    "ent = math.floor(num)\n",
    "\n",
    "# Paso 3: encontrar la parte decimal\n",
    "dec = num - ent\n",
    "\n",
    "# Paso 4: retornar los resultados\n",
    "print(\"La parte entera es:\", ent)\n",
    "print(\"La parte decimal es:\", dec)"
   ]
  },
  {
   "attachments": {},
   "cell_type": "markdown",
   "metadata": {},
   "source": [
    "2. Construya un código que eleve el valor absoluto de dos números al cubo y los sume:"
   ]
  },
  {
   "cell_type": "code",
   "execution_count": null,
   "metadata": {},
   "outputs": [],
   "source": []
  },
  {
   "cell_type": "code",
   "execution_count": 59,
   "metadata": {},
   "outputs": [
    {
     "name": "stdout",
     "output_type": "stream",
     "text": [
      "152.0\n"
     ]
    }
   ],
   "source": [
    "# Paso 1: definir las variables\n",
    "num1 = -5\n",
    "num2 = -3\n",
    "\n",
    "# Paso 2: calcular el valor absoluto\n",
    "import math\n",
    "num1 = math.fabs(num1)\n",
    "num2 = math.fabs(num2)\n",
    "\n",
    "# Paso 3: elevarlos al cubo\n",
    "num1 = num1**3\n",
    "num2 = num2**3\n",
    "\n",
    "# Paso 4: sumarlos\n",
    "res = num1 + num2\n",
    "\n",
    "# Paso 5: retornar los resultados\n",
    "print(res)"
   ]
  },
  {
   "attachments": {},
   "cell_type": "markdown",
   "metadata": {},
   "source": [
    "## 3.3. Tipo booleano"
   ]
  },
  {
   "cell_type": "markdown",
   "metadata": {},
   "source": [
    "Los valores booleanos son verdadero (`True`) y falso (`False`). Representan respuestas a preguntas o condicionales:"
   ]
  },
  {
   "cell_type": "code",
   "execution_count": 60,
   "metadata": {},
   "outputs": [
    {
     "name": "stdout",
     "output_type": "stream",
     "text": [
      "<class 'bool'>\n"
     ]
    }
   ],
   "source": [
    "# Creando una variable booleana\n",
    "x = True\n",
    "print(type(x))"
   ]
  },
  {
   "cell_type": "code",
   "execution_count": 61,
   "metadata": {},
   "outputs": [
    {
     "name": "stdout",
     "output_type": "stream",
     "text": [
      "<class 'bool'>\n"
     ]
    }
   ],
   "source": [
    "# Creando una variable booleana\n",
    "x = False\n",
    "print(type(x))"
   ]
  },
  {
   "cell_type": "markdown",
   "metadata": {},
   "source": [
    "También se puede crear una comparación de tipo booleano:"
   ]
  },
  {
   "cell_type": "code",
   "execution_count": 62,
   "metadata": {},
   "outputs": [
    {
     "data": {
      "text/plain": [
       "False"
      ]
     },
     "execution_count": 62,
     "metadata": {},
     "output_type": "execute_result"
    }
   ],
   "source": [
    "5 < 5"
   ]
  },
  {
   "cell_type": "code",
   "execution_count": 63,
   "metadata": {},
   "outputs": [
    {
     "data": {
      "text/plain": [
       "False"
      ]
     },
     "execution_count": 63,
     "metadata": {},
     "output_type": "execute_result"
    }
   ],
   "source": [
    "\"ferxxo\" == \"Ferxxo\""
   ]
  },
  {
   "cell_type": "markdown",
   "metadata": {},
   "source": [
    "### 3.3.1. Operadores de comparación\n",
    "\n",
    "Existen operadores que permiten comparar valores numéricos, strings, de secuencia e, incluso, de diccionario (que después veremos). Ello nos facilitará la construcción de condicionales, pero también nos permite comparar elementos. Estos operadores son:\n",
    "\n",
    "Operador    | Descripción\n",
    "------------|-----------------\n",
    "`>`         | `True` si el operando de la izquierda es estructamente mayor al de la derecha. `False` en caso contrario.\n",
    "`>=`        | `True` si el operando de la izquierda es mayor o igual al de la derecha. `False` en caso contrario.\n",
    "`<`         | `True` si el operando de la izquierda es estructamente menor al de la derecha. `False` en caso contrario.\n",
    "`<=`        | `True` si el operando de la izquierda es menor o igual al de la derecha. `False` en caso contrario.\n",
    "`==`        | `True` si el operando de la izquierda es igual al de la derecha. `False` en caso contrario.\n",
    "`!=`        | `True` si el operando de la izquierda es diferente al de la derecha. `False` en caso contrario.\n"
   ]
  },
  {
   "cell_type": "markdown",
   "metadata": {},
   "source": [
    "Veamos un ejemplo sencillo sobre cómo se ve este tipo de comparación:"
   ]
  },
  {
   "cell_type": "code",
   "execution_count": 64,
   "metadata": {},
   "outputs": [
    {
     "data": {
      "text/plain": [
       "False"
      ]
     },
     "execution_count": 64,
     "metadata": {},
     "output_type": "execute_result"
    }
   ],
   "source": [
    "# Creando variables\n",
    "x = 12\n",
    "y = 11\n",
    "\n",
    "x < y"
   ]
  },
  {
   "cell_type": "markdown",
   "metadata": {},
   "source": [
    "> **Nota:** es importante anotar que para el computador un caracter con mayúscula es diferente a uno con minúscula. En ese sentido, \"bEbExIto\" es diferente de \"bebexito\", aunque para nosotros es claro que es la misma palabra. Teniendo en cuenta lo anterior, se debe realizar un procesamiento previo para que las palabras se entiendan como iguales. Al procesamiento de texto de este tipo se le llama Procesamiento de Lenguaje Natural (_Natural Language Processing_ - NLP)."
   ]
  },
  {
   "cell_type": "markdown",
   "metadata": {},
   "source": [
    "Las comparaciones también funcionan con operaciones matemáticas:"
   ]
  },
  {
   "cell_type": "code",
   "execution_count": 65,
   "metadata": {},
   "outputs": [
    {
     "name": "stdout",
     "output_type": "stream",
     "text": [
      "Suma:\n",
      "True\n",
      "\n",
      "\n",
      "División:\n",
      "True\n",
      "\n",
      "\n",
      "Operador modular:\n",
      "True\n"
     ]
    }
   ],
   "source": [
    "x = 10\n",
    "y = 5\n",
    "\n",
    "print(\"Suma:\")\n",
    "print(x + y == 15)\n",
    "print(\"\\n\")\n",
    "\n",
    "print(\"División:\")\n",
    "print(x/2 == y)\n",
    "print(\"\\n\")\n",
    "\n",
    "print(\"Operador modular:\")\n",
    "print(x%y == 0)"
   ]
  },
  {
   "cell_type": "markdown",
   "metadata": {},
   "source": [
    "### 3.3.2. Comparaciones con & y |"
   ]
  },
  {
   "cell_type": "code",
   "execution_count": 66,
   "metadata": {},
   "outputs": [
    {
     "data": {
      "text/plain": [
       "True"
      ]
     },
     "execution_count": 66,
     "metadata": {},
     "output_type": "execute_result"
    }
   ],
   "source": [
    "# Uso de la & en comparaciones\n",
    "(5 == 5) | (10 == 5)"
   ]
  },
  {
   "cell_type": "code",
   "execution_count": 67,
   "metadata": {},
   "outputs": [
    {
     "data": {
      "text/plain": [
       "True"
      ]
     },
     "execution_count": 67,
     "metadata": {},
     "output_type": "execute_result"
    }
   ],
   "source": [
    "# Uso de la | en comparaciones\n",
    "(6 != 7) | (6 == 7)"
   ]
  },
  {
   "cell_type": "markdown",
   "metadata": {},
   "source": [
    "### Uso de la y (&)\n",
    "* Verdadero & Verdaro -> Verdadero\n",
    "* Verdadero & Falso   -> Falso\n",
    "* Falso & Verdadero   -> Falso\n",
    "* Falso & Falso       -> Falso\n",
    "\n",
    "### Uso de la o (|)\n",
    "* Verdadero | Verdadero -> Verdadero\n",
    "* Verdadero | Falso     -> Verdadero\n",
    "* Falso | Verdadero     -> Verdadero\n",
    "* Falso | Falso         -> Falso"
   ]
  },
  {
   "cell_type": "markdown",
   "metadata": {},
   "source": [
    "## 3.4. Tipo categórico o factor\n",
    "\n",
    "Este tipo no es un tipo construido dentro del ambiente de Python, los demás sí lo son. No obstante, dentro de la Ciencia de Datos, especialmente en ML y AI es bastante importante, ya que permite analizar qué categorías tenemos en una base de datos. Ejemplos de categorías en la vida real son: estratos socioeconómicos, género, universidad en la que estudió, entre otros. Incluso podemos crear nuestras propias categorías: nivel de ingreso, si alguien estuvo expuesto a un tratamiento o no, categorizaciones de otras variables, entre otros.\n",
    "\n",
    "En ese sentido, las variables categóricas pueden ser obtenidas de valores originalmente numéricos (`int` o `float`) o en texto (`str`), pero tienen su tipo especial dentro de Python: "
   ]
  },
  {
   "cell_type": "code",
   "execution_count": 68,
   "metadata": {},
   "outputs": [],
   "source": [
    "#pip install pandas"
   ]
  },
  {
   "cell_type": "code",
   "execution_count": 70,
   "metadata": {},
   "outputs": [
    {
     "data": {
      "text/plain": [
       "[1, 2, 3, 1, 2, 3]\n",
       "Categories (3, int64): [1, 2, 3]"
      ]
     },
     "execution_count": 70,
     "metadata": {},
     "output_type": "execute_result"
    }
   ],
   "source": [
    "# Importando librerías\n",
    "import numpy as np # Numpy\n",
    "import pandas as pd # Pandas (hablaremos de este después)\n",
    " \n",
    "# Categorías usando pandas\n",
    "pd.Categorical([1, 2, 3, 1, 2, 3])"
   ]
  },
  {
   "cell_type": "code",
   "execution_count": 71,
   "metadata": {},
   "outputs": [
    {
     "name": "stdout",
     "output_type": "stream",
     "text": [
      "\n",
      "c2 :  ['alto', 'medio', 'alto', 'alto', 'bajo', 'alto', 'bajo', 'medio', 'alto']\n",
      "Categories (3, object): ['alto', 'bajo', 'medio']\n"
     ]
    }
   ],
   "source": [
    "# Otro ejemplo\n",
    "c2 = pd.Categorical([\"alto\", \"medio\", \"alto\", \"alto\", \"bajo\",\n",
    "                     \"alto\", \"bajo\", \"medio\", \"alto\"])\n",
    "print (\"\\nc2 : \", c2)"
   ]
  },
  {
   "cell_type": "markdown",
   "metadata": {},
   "source": [
    "También se puede estipular al programa si las categorías tienen un orden:"
   ]
  },
  {
   "cell_type": "code",
   "execution_count": 72,
   "metadata": {},
   "outputs": [
    {
     "name": "stdout",
     "output_type": "stream",
     "text": [
      "Categoría sin orden: \n",
      " ['b', 'a', 'e', 't', 'c', 1]\n",
      "Categories (6, object): [1, 'a', 'b', 'c', 'e', 't']\n",
      "\n",
      "\n",
      "Categoría con orden: \n",
      " ['b', 'a', 'e', 't', 'c', 1, 5, 10]\n",
      "Categories (8, object): [1 < 5 < 10 < 'a' < 'b' < 'c' < 'e' < 't']\n"
     ]
    }
   ],
   "source": [
    "# Categorías sin orden\n",
    "c1 = pd.Categorical([\"b\", \"a\", \"e\", \"t\", \"c\", 1])\n",
    "print(\"Categoría sin orden: \\n\", c1)\n",
    "print(\"\\n\")\n",
    "\n",
    "# Categorías con orden\n",
    "c2 = pd.Categorical([\"b\", \"a\", \"e\", \"t\", \"c\", 1, 5, 10], ordered = True)\n",
    "print(\"Categoría con orden: \\n\", c2)"
   ]
  },
  {
   "cell_type": "markdown",
   "metadata": {},
   "source": [
    "Se ordena por orden alfabético, dando una jerarquía entre ellas. Ello sirve para ordenar categorías, gráficas y otros elementos. Sin embargo, veamos otro ejemplo:"
   ]
  },
  {
   "cell_type": "code",
   "execution_count": 73,
   "metadata": {},
   "outputs": [
    {
     "name": "stdout",
     "output_type": "stream",
     "text": [
      "Categoría sin orden: \n",
      " ['Miércoles', 'Jueves', 'Lunes', 'Martes', 'Viernes', 'Domingo', 'Sábado']\n",
      "Categories (7, object): ['Domingo', 'Jueves', 'Lunes', 'Martes', 'Miércoles', 'Sábado', 'Viernes']\n",
      "\n",
      "\n",
      "Categoría con orden: \n",
      " ['Miércoles', 'Jueves', 'Lunes', 'Martes', 'Viernes', 'Domingo', 'Sábado']\n",
      "Categories (7, object): ['Domingo' < 'Jueves' < 'Lunes' < 'Martes' < 'Miércoles' < 'Sábado' < 'Viernes']\n",
      "\n",
      "\n"
     ]
    }
   ],
   "source": [
    "# Categorías sin orden\n",
    "c1 = pd.Categorical([\"Miércoles\", \"Jueves\", \"Lunes\", \"Martes\",\n",
    "                     \"Viernes\", \"Domingo\", \"Sábado\"])\n",
    "print(\"Categoría sin orden: \\n\", c1)\n",
    "print(\"\\n\")\n",
    "\n",
    "# Categorías con orden alfabético\n",
    "c2 = pd.Categorical([\"Miércoles\", \"Jueves\", \"Lunes\", \"Martes\",\n",
    "                     \"Viernes\", \"Domingo\", \"Sábado\"], ordered = True)\n",
    "print(\"Categoría con orden: \\n\", c2)\n",
    "print(\"\\n\")"
   ]
  },
  {
   "cell_type": "markdown",
   "metadata": {},
   "source": [
    "Pero hay un problema: el orden establecido solamente con la opción `ordered = True` es insuficiente, pues lo organiza alfabéticamente. Sin embargo, podemos establecer el orden que nosotros deseemos de categorías."
   ]
  },
  {
   "cell_type": "code",
   "execution_count": 74,
   "metadata": {},
   "outputs": [
    {
     "name": "stdout",
     "output_type": "stream",
     "text": [
      "Categoría con orden establecido: \n",
      " ['Miércoles', 'Jueves', 'Lunes', 'Martes', 'Viernes', 'Domingo', 'Sábado']\n",
      "Categories (7, object): ['Lunes' < 'Martes' < 'Miércoles' < 'Jueves' < 'Viernes' < 'Sábado' < 'Domingo']\n"
     ]
    }
   ],
   "source": [
    "# Categorías con orden establecido\n",
    "c3 = pd.Categorical([\"Miércoles\", \"Jueves\", \"Lunes\", \"Martes\",\n",
    "                     \"Viernes\", \"Domingo\", \"Sábado\"], \n",
    "                    categories = [\"Lunes\", \"Martes\", \"Miércoles\", \"Jueves\", \"Viernes\", \"Sábado\", \"Domingo\"],\n",
    "                    ordered = True)\n",
    "print(\"Categoría con orden establecido: \\n\", c3)"
   ]
  },
  {
   "cell_type": "code",
   "execution_count": 16,
   "metadata": {},
   "outputs": [
    {
     "data": {
      "image/png": "[encoded data removed]",
      "text/plain": [
       "<Figure size 640x480 with 1 Axes>"
      ]
     },
     "metadata": {},
     "output_type": "display_data"
    },
    {
     "data": {
      "image/png": "[encoded data removed]",
      "text/plain": [
       "<Figure size 640x480 with 1 Axes>"
      ]
     },
     "metadata": {},
     "output_type": "display_data"
    }
   ],
   "source": [
    "import matplotlib.pyplot as plt\n",
    "import pandas as pd\n",
    "\n",
    "df = pd.DataFrame({\n",
    "    'dia': ['Martes',  'Viernes', 'Miercoles', 'Jueves', 'Lunes', 'Sabado', 'Domingo'],\n",
    "    'count': [10, 8, 19, 20, 19, 11, 20]\n",
    "})\n",
    "\n",
    "plt.bar(df['dia'], df['count'])\n",
    "plt.show()\n",
    "\n",
    "# Organizar los datos\n",
    "df['dia'] = pd.Categorical(df['dia'], ordered = True, categories = [\"Lunes\", \"Martes\", \"Miercoles\", \"Jueves\", \"Viernes\", \"Sabado\", \"Domingo\"])\n",
    "df = df.sort_values('dia')\n",
    "\n",
    "plt.bar(df['dia'], df['count'])\n",
    "plt.show()"
   ]
  },
  {
   "attachments": {},
   "cell_type": "markdown",
   "metadata": {},
   "source": [
    "## 3.5. Tipo secuencia `list`, `tuple` y `range`\n",
    "\n",
    "Los datos o variables de secuencia son una variable que se compone de otros datos o variables. Es decir, son variables que dentro tienen otros datos o variables. Los subtipos más comunes son: la lista (`list`), la tupla (`tuple`) y el rango (`range`). \n",
    "\n",
    "Las variables tipo tupla tienden a ser más complicadas y no permiten modificación de sus datos internos, por lo cual no se profundizarán en este curso. Nos concentraremos en los tipos `list` y `range`:"
   ]
  },
  {
   "attachments": {},
   "cell_type": "markdown",
   "metadata": {},
   "source": [
    "### 3.5.1. Tipo `list`\n",
    "\n",
    "Las listas son arreglos de datos que contiene por dentro otros elementos que pueden ser de diferentes tipos. En otras palabras, podemos tener una lista que contenga en su interior variables tipo `int`, `float`, `str` y `bool`, entre otros, al mismo tiempo.\n",
    "\n",
    "Se le indica a Python que una variable es una lista con los corchetes (`[]`):"
   ]
  },
  {
   "cell_type": "code",
   "execution_count": 80,
   "metadata": {},
   "outputs": [],
   "source": [
    "# Creemos varias listas\n",
    "numeros = [1, 2, 10, 23, 20]\n",
    "nombres = ['Juan', 'William', 'Camelo']\n",
    "lista = [10, 'Hola', True]"
   ]
  },
  {
   "attachments": {},
   "cell_type": "markdown",
   "metadata": {},
   "source": [
    "Podemos utilizar variables ya creadas para consolidar una lista:"
   ]
  },
  {
   "cell_type": "code",
   "execution_count": 31,
   "metadata": {},
   "outputs": [
    {
     "name": "stdout",
     "output_type": "stream",
     "text": [
      "[1, 2, 3]\n"
     ]
    }
   ],
   "source": [
    "# Creamos unas variables anteriores\n",
    "x = 1\n",
    "y = 2\n",
    "z = 3\n",
    "\n",
    "# Creamos una lista con las variables ya creadas\n",
    "lista = [x, y, z] # Sirve cualquier orden\n",
    "\n",
    "print(lista)"
   ]
  },
  {
   "attachments": {},
   "cell_type": "markdown",
   "metadata": {},
   "source": [
    "Incluso podemos incluir en la lista otra lista creada:"
   ]
  },
  {
   "cell_type": "code",
   "execution_count": 3,
   "metadata": {},
   "outputs": [
    {
     "name": "stdout",
     "output_type": "stream",
     "text": [
      "['Obvio, bobis', 987, False, ['Hola', 'Amigo', 'Fiel']]\n"
     ]
    }
   ],
   "source": [
    "# Creamos unas variables anteriores\n",
    "x = 987\n",
    "y = \"Obvio, bobis\"\n",
    "z = False\n",
    "w = [\"Hola\", \"Amigo\", \"Fiel\"]\n",
    "\n",
    "# Creamos una lista con las variables ya creadas\n",
    "lista = [y, x, z, w] # Sirve cualquier orden\n",
    "\n",
    "print(lista)"
   ]
  },
  {
   "attachments": {},
   "cell_type": "markdown",
   "metadata": {},
   "source": [
    "La preferencia por el uso de las listas es que pueden contener arreglos de datos con los que se puede acceder fácilmente. Es decir, podemos tener una lista que contiene muchos datos y obtener ese dato al llamarlo por la posición que tiene. \n",
    "\n",
    "Obtengamos de la lista anterior el segundo elemento:"
   ]
  },
  {
   "cell_type": "code",
   "execution_count": 6,
   "metadata": {},
   "outputs": [
    {
     "data": {
      "text/plain": [
       "'Obvio, bobis'"
      ]
     },
     "execution_count": 6,
     "metadata": {},
     "output_type": "execute_result"
    }
   ],
   "source": [
    "# Obtenemos el segundo elemento (recordar que empieza en 0)\n",
    "lista[1]"
   ]
  },
  {
   "attachments": {},
   "cell_type": "markdown",
   "metadata": {},
   "source": [
    "Nos sirve mucho para un ciclo, ya que podemos pasar por cada uno de sus elementos en cada ciclo (más adelante profundizaremos en los ciclos):"
   ]
  },
  {
   "cell_type": "code",
   "execution_count": 7,
   "metadata": {},
   "outputs": [
    {
     "name": "stdout",
     "output_type": "stream",
     "text": [
      "¡Hola, Martina, ven a mi fiesta!\n",
      "¡Hola, Juan, ven a mi fiesta!\n",
      "¡Hola, María, ven a mi fiesta!\n"
     ]
    }
   ],
   "source": [
    "# Creamos una lista de nombres\n",
    "lst = [\"Martina\", \"Juan\", \"María\"]\n",
    "\n",
    "# Creamos un mensaje con un ciclo for\n",
    "for nombre in lst:\n",
    "    print(\"¡Hola, \" + nombre + \", ven a mi fiesta!\")"
   ]
  },
  {
   "attachments": {},
   "cell_type": "markdown",
   "metadata": {},
   "source": [
    "Podemos acceder a una variable que está dentro de una lista que está, a su vez, dentro de otra lista:"
   ]
  },
  {
   "cell_type": "code",
   "execution_count": 14,
   "metadata": {},
   "outputs": [
    {
     "name": "stdout",
     "output_type": "stream",
     "text": [
      "Lista completa: \n",
      "['Obvio, bobis', 987, False, ['Hola', 'Amigo', 'Fiel']]\n",
      "\n",
      "Segundo elemento de la lista interna: \n",
      "Amigo\n"
     ]
    }
   ],
   "source": [
    "# Creamos unas variables anteriores\n",
    "x = 987\n",
    "y = \"Obvio, bobis\"\n",
    "z = False\n",
    "w = [\"Hola\", \"Amigo\", \"Fiel\"]\n",
    "\n",
    "# Creamos una lista con las variables ya creadas\n",
    "lista = [y, x, z, w] # Sirve cualquier orden\n",
    "\n",
    "print(\"Lista completa: \")\n",
    "print(lista)\n",
    "\n",
    "print() # Estoy dejando un espacio aquí\n",
    "\n",
    "print(\"Segundo elemento de la lista interna: \")\n",
    "print(lista[3][1])"
   ]
  },
  {
   "cell_type": "code",
   "execution_count": 18,
   "metadata": {},
   "outputs": [
    {
     "data": {
      "text/plain": [
       "'Hola'"
      ]
     },
     "execution_count": 18,
     "metadata": {},
     "output_type": "execute_result"
    }
   ],
   "source": [
    "lista[3][0]"
   ]
  },
  {
   "attachments": {},
   "cell_type": "markdown",
   "metadata": {},
   "source": [
    "### 3.5.2. Tipo `range`\n",
    "\n",
    "Los elementos tipo `range` son listas generadas por la función `range()`. Esta función genera listas de números entre ciertos rangos establecidos en la función. Sirven bastante para crear listas de forma más fácil, evitando tener que crear la lista por cada uno de sus elementos internos.\n",
    "\n",
    "Veamos un ejemplo:"
   ]
  },
  {
   "cell_type": "code",
   "execution_count": 6,
   "metadata": {},
   "outputs": [
    {
     "name": "stdout",
     "output_type": "stream",
     "text": [
      "El elemento range(0, 6) es <class 'range'>\n"
     ]
    }
   ],
   "source": [
    "# Se crea la variable\n",
    "x = range(6)\n",
    "\n",
    "# Se imprime el elemento\n",
    "print(\"El elemento \" + str(x) + \" es \" + str(type(x)))"
   ]
  },
  {
   "attachments": {},
   "cell_type": "markdown",
   "metadata": {},
   "source": [
    "Como se decía, sirve para crear listas sin tener que concatenar cada uno de sus elementos, lo cual es sumamente útil en los ciclos"
   ]
  },
  {
   "cell_type": "code",
   "execution_count": 44,
   "metadata": {},
   "outputs": [
    {
     "name": "stdout",
     "output_type": "stream",
     "text": [
      "0\n",
      "1\n",
      "2\n",
      "3\n",
      "4\n",
      "5\n"
     ]
    }
   ],
   "source": [
    "# Iniciando desde 0\n",
    "for i in range(6):\n",
    "    print(i)"
   ]
  },
  {
   "cell_type": "code",
   "execution_count": 45,
   "metadata": {},
   "outputs": [
    {
     "name": "stdout",
     "output_type": "stream",
     "text": [
      "2\n",
      "3\n",
      "4\n",
      "5\n"
     ]
    }
   ],
   "source": [
    "# Rangos especificos\n",
    "for i in range(2, 6):\n",
    "    print(i)"
   ]
  },
  {
   "attachments": {},
   "cell_type": "markdown",
   "metadata": {},
   "source": [
    "Se puede crear la lista de números desde un valor inicial diferente a 0, tal como un número positivo o negativo:"
   ]
  },
  {
   "cell_type": "code",
   "execution_count": 46,
   "metadata": {},
   "outputs": [
    {
     "name": "stdout",
     "output_type": "stream",
     "text": [
      "-5\n",
      "-4\n",
      "-3\n",
      "-2\n",
      "-1\n",
      "0\n",
      "1\n",
      "2\n",
      "3\n",
      "4\n"
     ]
    }
   ],
   "source": [
    "# Iniciando desde -5\n",
    "for i in range(-5, 5):\n",
    "    print(i)"
   ]
  },
  {
   "attachments": {},
   "cell_type": "markdown",
   "metadata": {},
   "source": [
    "Incluso se le puede especificar cuál es el salto entre los números de la secuencia, estableciendo que se creen números de dos en dos:"
   ]
  },
  {
   "cell_type": "code",
   "execution_count": 52,
   "metadata": {},
   "outputs": [
    {
     "name": "stdout",
     "output_type": "stream",
     "text": [
      "0\n",
      "2\n",
      "4\n",
      "6\n",
      "8\n"
     ]
    }
   ],
   "source": [
    "# Secuencia saltando entre 2\n",
    "for i in range(0, 10, 2):\n",
    "    print(i)"
   ]
  },
  {
   "cell_type": "markdown",
   "metadata": {},
   "source": [
    "## 3.6. Diccionarios\n",
    "\n",
    "Los diccionarios son una gran ayuda para Python, ya que ayudan a crear parejas de objetos (llaves y valores) que ayudan en la programación en general. Estos normalmente se crean con corchetes (`{}`) de la siguiente manera:"
   ]
  },
  {
   "cell_type": "code",
   "execution_count": 68,
   "metadata": {},
   "outputs": [
    {
     "data": {
      "text/plain": [
       "{'Nombre': ['Juan', 'David', 'Julieth'],\n",
       " 'Apellido': ['Londoño', 'Castro', 'Martínez']}"
      ]
     },
     "execution_count": 68,
     "metadata": {},
     "output_type": "execute_result"
    }
   ],
   "source": [
    "# Creando un diccionario\n",
    "my_dic = {\"Nombre\" : [\"Juan\", \"David\", \"Julieth\"], \"Apellido\" : [\"Londoño\", \"Castro\", \"Martínez\"]}\n",
    "my_dic"
   ]
  },
  {
   "cell_type": "code",
   "execution_count": 69,
   "metadata": {},
   "outputs": [
    {
     "data": {
      "text/plain": [
       "{'Nombre': ['Juan', 'David', 'Julieth'],\n",
       " 'Apellido': ['Londoño', 'Castro', 'Martínez'],\n",
       " 'edad': [22, 23, 26]}"
      ]
     },
     "execution_count": 69,
     "metadata": {},
     "output_type": "execute_result"
    }
   ],
   "source": [
    "my_dic[\"edad\"] = [22, 23, 26]\n",
    "my_dic"
   ]
  },
  {
   "cell_type": "code",
   "execution_count": 76,
   "metadata": {},
   "outputs": [
    {
     "data": {
      "text/plain": [
       "['Juan', 'Pedro', 'María', 'Roberta']"
      ]
     },
     "execution_count": 76,
     "metadata": {},
     "output_type": "execute_result"
    }
   ],
   "source": [
    "lista = ['Juan', 'Pedro', 'María']\n",
    "lista.append('Roberta')\n",
    "lista"
   ]
  },
  {
   "cell_type": "code",
   "execution_count": 72,
   "metadata": {},
   "outputs": [
    {
     "data": {
      "text/plain": [
       "{'Nombre': ['Juan', 'David', 'Julieth', 'Roberta', 'Roberta'],\n",
       " 'Apellido': ['Londoño', 'Castro', 'Martínez'],\n",
       " 'edad': [22, 23, 26]}"
      ]
     },
     "execution_count": 72,
     "metadata": {},
     "output_type": "execute_result"
    }
   ],
   "source": [
    "my_dic['Nombre'].append('Roberta')\n",
    "my_dic"
   ]
  },
  {
   "cell_type": "code",
   "execution_count": 77,
   "metadata": {},
   "outputs": [
    {
     "data": {
      "text/plain": [
       "['Juan', 'Pedro', 'María']"
      ]
     },
     "execution_count": 77,
     "metadata": {},
     "output_type": "execute_result"
    }
   ],
   "source": [
    "lista.remove('Roberta')\n",
    "lista"
   ]
  },
  {
   "cell_type": "code",
   "execution_count": 79,
   "metadata": {},
   "outputs": [
    {
     "data": {
      "text/plain": [
       "{'Nombre': ['Juan', 'David', 'Julieth'],\n",
       " 'Apellido': ['Londoño', 'Castro', 'Martínez'],\n",
       " 'edad': [22, 23, 26]}"
      ]
     },
     "execution_count": 79,
     "metadata": {},
     "output_type": "execute_result"
    }
   ],
   "source": [
    "my_dic['Nombre'].remove('Roberta')\n",
    "my_dic"
   ]
  },
  {
   "cell_type": "code",
   "execution_count": null,
   "metadata": {},
   "outputs": [],
   "source": [
    "# Crear un diccionario con dos llaves: hobbies y comidas favoritas. Cada una debe tener tres elementos."
   ]
  },
  {
   "cell_type": "markdown",
   "metadata": {},
   "source": [
    "La primera parte del diccionario es la llave (aquella que va antes de los dos puntos) y la segunda parte es el valor (lo que va después de los dos puntos). Se puede obtener cada uno con los siguientes comandos:"
   ]
  },
  {
   "cell_type": "code",
   "execution_count": 20,
   "metadata": {},
   "outputs": [
    {
     "name": "stdout",
     "output_type": "stream",
     "text": [
      "Obtener las llaves: \n",
      "\n",
      "dict_keys(['Nombre', 'Apellido'])\n",
      "Obtener los valores: \n",
      "\n",
      "dict_values(['Juan', 'Londoño'])\n"
     ]
    }
   ],
   "source": [
    "# Obtener las llaves\n",
    "print(\"Obtener las llaves: \\n\")\n",
    "print(my_dic.keys())\n",
    "\n",
    "# Obtener los valores\n",
    "print(\"Obtener los valores: \\n\")\n",
    "print(my_dic.values())"
   ]
  },
  {
   "cell_type": "markdown",
   "metadata": {},
   "source": [
    "Se puede obtener alguno de los valores por su llave, por ejemplo:"
   ]
  },
  {
   "cell_type": "code",
   "execution_count": 21,
   "metadata": {},
   "outputs": [
    {
     "data": {
      "text/plain": [
       "['Juan', 'Caro', 'Lorena', 'Camilo']"
      ]
     },
     "execution_count": 21,
     "metadata": {},
     "output_type": "execute_result"
    }
   ],
   "source": [
    "my_dic = {\"Nombre\" : [\"Juan\", \"Caro\", \"Lorena\", \"Camilo\"], \"Apellido\" : [\"Londoño\"]}\n",
    "my_dic[\"Nombre\"]"
   ]
  },
  {
   "cell_type": "markdown",
   "metadata": {},
   "source": [
    "Se puede añadir nuevas llaves al diccionario y nuevos valores a los diccionarios ya existentes con el método `append`:"
   ]
  },
  {
   "cell_type": "code",
   "execution_count": 22,
   "metadata": {},
   "outputs": [
    {
     "name": "stdout",
     "output_type": "stream",
     "text": [
      "{'Nombre': ['Juan', 'Caro', 'Lorena', 'Camilo'], 'Apellido': ['Londoño', 'Martínez'], 'Edad': 10}\n"
     ]
    }
   ],
   "source": [
    "# Agregar llaves\n",
    "my_dic[\"Edad\"] = 10\n",
    "\n",
    "# Agregar valores\n",
    "my_dic[\"Apellido\"].append(\"Martínez\")\n",
    "print(my_dic)"
   ]
  },
  {
   "cell_type": "markdown",
   "metadata": {},
   "source": [
    "> **Nota:** para que pueda agregar un nuevo elemento a una lista, se debe tener una lista en el diccionario.\n",
    "\n",
    "Se pueden eliminar elementos enteros (llave y valores) con el método `pop`:"
   ]
  },
  {
   "cell_type": "code",
   "execution_count": 23,
   "metadata": {},
   "outputs": [
    {
     "name": "stdout",
     "output_type": "stream",
     "text": [
      "{'Nombre': ['Juan', 'Caro', 'Lorena', 'Camilo'], 'Apellido': ['Londoño', 'Martínez']}\n"
     ]
    }
   ],
   "source": [
    "my_dic.pop(\"Edad\")\n",
    "print(my_dic)"
   ]
  },
  {
   "cell_type": "markdown",
   "metadata": {},
   "source": [
    "#### Pequeño ejercicio"
   ]
  },
  {
   "cell_type": "markdown",
   "metadata": {},
   "source": [
    "Pregúntele a las dos personas que se sientan a su derecha e izquierda y pregúntele los siguientes datos y cree un diccionario con dicha información:\n",
    "\n",
    "* Nombre.\n",
    "* Apellido.\n",
    "* Edad.\n",
    "* Comida favorita."
   ]
  },
  {
   "cell_type": "code",
   "execution_count": null,
   "metadata": {},
   "outputs": [],
   "source": []
  },
  {
   "cell_type": "markdown",
   "metadata": {},
   "source": [
    "Ahora agréguele sus propios datos:"
   ]
  },
  {
   "cell_type": "code",
   "execution_count": null,
   "metadata": {},
   "outputs": [],
   "source": []
  },
  {
   "cell_type": "markdown",
   "metadata": {},
   "source": [
    "Imprima los datos suyos obteniéndolos desde el diccionario:"
   ]
  },
  {
   "cell_type": "code",
   "execution_count": 1,
   "metadata": {},
   "outputs": [
    {
     "data": {
      "text/plain": [
       "2.718281828459045"
      ]
     },
     "execution_count": 1,
     "metadata": {},
     "output_type": "execute_result"
    }
   ],
   "source": [
    "import math\n",
    "\n",
    "math.e"
   ]
  },
  {
   "cell_type": "markdown",
   "metadata": {},
   "source": [
    "# 4. Condicionales"
   ]
  },
  {
   "cell_type": "markdown",
   "metadata": {},
   "source": [
    "Los condicionales nos permiten establecer diferentes procesos en diferentes casos. Por ejemplo, nos permite hacerle una operación a un número par y otra a un número impar:"
   ]
  },
  {
   "cell_type": "code",
   "execution_count": 4,
   "metadata": {},
   "outputs": [
    {
     "name": "stdout",
     "output_type": "stream",
     "text": [
      "Hola, Andrew!\n"
     ]
    }
   ],
   "source": [
    "name = \"Andrew\"\n",
    "\n",
    "if name == \"Andrew\":\n",
    "    print(\"Hola, Andrew!\")  "
   ]
  },
  {
   "cell_type": "markdown",
   "metadata": {},
   "source": [
    "Incluyámolo en algo más complejo:"
   ]
  },
  {
   "cell_type": "code",
   "execution_count": 8,
   "metadata": {},
   "outputs": [
    {
     "name": "stdout",
     "output_type": "stream",
     "text": [
      "El número es impar\n"
     ]
    }
   ],
   "source": [
    "num = 7\n",
    "\n",
    "if num % 2 == 0:\n",
    "    print(\"El número es par\")\n",
    "else:\n",
    "    print(\"El número es impar\")"
   ]
  },
  {
   "cell_type": "code",
   "execution_count": 25,
   "metadata": {},
   "outputs": [
    {
     "name": "stdout",
     "output_type": "stream",
     "text": [
      "El número 2 es par.\n",
      "El número 3 es impar.\n",
      "El número 4 es par.\n",
      "El número 5 es impar.\n"
     ]
    }
   ],
   "source": [
    "x = [2, 3, 4, 5]\n",
    "\n",
    "for num in x:\n",
    "    if num % 2 == 0:\n",
    "        print(\"El número {0} es par.\".format(num))\n",
    "    if num % 2 != 0:\n",
    "        print(\"El número {0} es impar.\".format(num))"
   ]
  },
  {
   "cell_type": "markdown",
   "metadata": {},
   "source": [
    "Esto es sumamente útil en momentos en los que debemos valorar diferentes casos para estipular procesos diferentes, logrando evitar errores y que el programa realice lo que queremos lograr.\n",
    "\n",
    "Para ello, debemos primero ver un poco de álgebra booleana para entender cómo utilizar la ejecución de condicionales con `if`, `elif` y `else`."
   ]
  },
  {
   "cell_type": "markdown",
   "metadata": {},
   "source": [
    "## 4.1. Operadores de comparación\n",
    "\n",
    "Revisemos nuevamente los operadores de comparación, los cuales son los siguientes:\n",
    "\n",
    "Operador    | Descripción\n",
    "------------|-----------------\n",
    "`>`         | `True` si el operando de la izquierda es estructamente mayor al de la derecha. `False` en caso contrario.\n",
    "`>=`        | `True` si el operando de la izquierda es mayor o igual al de la derecha. `False` en caso contrario.\n",
    "`<`         | `True` si el operando de la izquierda es estructamente menor al de la derecha. `False` en caso contrario.\n",
    "`<=`        | `True` si el operando de la izquierda es menor o igual al de la derecha. `False` en caso contrario.\n",
    "`==`        | `True` si el operando de la izquierda es igual al de la derecha. `False` en caso contrario.\n",
    "`!=`        | `True` si el operando de la izquierda es diferente al de la derecha. `False` en caso contrario.\n",
    "\n",
    "> **Nota:** ¡cuidado! Hay que diferenciar entre `=` (operador de asignación) y `==` (operador de comparación). El primero asigna a una variable un elemento y el segundo permite comparar si dos elementos son iguales.\n",
    "\n",
    "Vamos a ver algunos ejemplos:"
   ]
  },
  {
   "cell_type": "code",
   "execution_count": 5,
   "metadata": {},
   "outputs": [
    {
     "name": "stdout",
     "output_type": "stream",
     "text": [
      "Comparación de números\n",
      "True\n",
      "True\n",
      "False\n"
     ]
    }
   ],
   "source": [
    "# Comparación de números\n",
    "print(\"Comparación de números\")\n",
    "print(3 > -2)\n",
    "print(3 == abs(-3))\n",
    "print(3 != 3)"
   ]
  },
  {
   "cell_type": "code",
   "execution_count": 4,
   "metadata": {},
   "outputs": [
    {
     "name": "stdout",
     "output_type": "stream",
     "text": [
      "Comparación de strings\n",
      "False\n",
      "True\n"
     ]
    }
   ],
   "source": [
    "# Comparación de strings\n",
    "print(\"Comparación de strings\")\n",
    "print(\"Ella es callaíta\" == \"Ella es callaita\")\n",
    "print(\"I cry when angels deserve to die\" == \"I cry when angels deserve to die\")"
   ]
  },
  {
   "cell_type": "markdown",
   "metadata": {},
   "source": [
    "De la misma manera se pueden utilizar otros operadores para realizar condicionales más complejos. Recordando un poco la lógica, estos son los operadores `and` (también se puede utilizar `&`) y `or` (también se puede utilizar `|`), los que nos ayudan a evaluar múltiples condiciones al tiempo:"
   ]
  },
  {
   "cell_type": "code",
   "execution_count": 10,
   "metadata": {},
   "outputs": [
    {
     "name": "stdout",
     "output_type": "stream",
     "text": [
      "Condicional 1:  True\n",
      "Condicional 2:  False\n"
     ]
    }
   ],
   "source": [
    "# Valoramos un condicional\n",
    "print(\"Condicional 1: \", 1 == 1)\n",
    "print(\"Condicional 2: \", 2 == 3)"
   ]
  },
  {
   "cell_type": "code",
   "execution_count": 11,
   "metadata": {},
   "outputs": [
    {
     "data": {
      "text/plain": [
       "False"
      ]
     },
     "execution_count": 11,
     "metadata": {},
     "output_type": "execute_result"
    }
   ],
   "source": [
    "# Uso de & (esto y esto)\n",
    "(1 == 1) & (2 == 3)"
   ]
  },
  {
   "cell_type": "code",
   "execution_count": 12,
   "metadata": {},
   "outputs": [
    {
     "data": {
      "text/plain": [
       "True"
      ]
     },
     "execution_count": 12,
     "metadata": {},
     "output_type": "execute_result"
    }
   ],
   "source": [
    "# Uso de | (esto o esto)\n",
    "(1 == 1) | (2 == 3)"
   ]
  },
  {
   "cell_type": "markdown",
   "metadata": {},
   "source": [
    "También se puede realizar las negaciones de una comparación con el operador (`not`):"
   ]
  },
  {
   "cell_type": "code",
   "execution_count": 6,
   "metadata": {},
   "outputs": [
    {
     "name": "stdout",
     "output_type": "stream",
     "text": [
      "Sin negación:\n",
      "False\n",
      "\n",
      "\n",
      "Con negación:\n",
      "True\n"
     ]
    }
   ],
   "source": [
    "print(\"Sin negación:\")\n",
    "print((3 == 1))\n",
    "print(\"\\n\")\n",
    "\n",
    "print(\"Con negación:\")\n",
    "print(not((3 == 1))) # not(Falso o Verdadero) = Falso\n"
   ]
  },
  {
   "cell_type": "markdown",
   "metadata": {},
   "source": [
    "## 4.2. Ejecución de condicionales\n",
    "\n",
    "Ahora pasemos a la práctica: podemos utilizar estos operadores booleanos con los comandos `if`, `elif` y `else`. Se utilizan de la siguiente manera:\n",
    "\n",
    "* `if` para valorar una condición. Puede ir solo y siempre debe ir uno.\n",
    "* `elif` para valorar una condición diferente a la primera condición. Debe ir antecedido por un `if`.\n",
    "* `else` recoge todos los casos adicionales no considerados por el `if` o el `elif`. Debe ir antecedido por un `if` como mínimo, no necesita del `elif`."
   ]
  },
  {
   "cell_type": "code",
   "execution_count": 30,
   "metadata": {},
   "outputs": [
    {
     "name": "stdout",
     "output_type": "stream",
     "text": [
      "El número 1 es impar.\n",
      "El número 2 es par.\n",
      "El número 3 es impar.\n",
      "El número 4 es par.\n"
     ]
    }
   ],
   "source": [
    "x = [1, 2, 3, 4]\n",
    "\n",
    "for num in x:\n",
    "    if num % 2 == 0:\n",
    "        print(\"El número {0} es par.\".format(num))\n",
    "    else:\n",
    "        print(\"El número {0} es impar.\".format(num))"
   ]
  },
  {
   "cell_type": "markdown",
   "metadata": {},
   "source": [
    "## 4.3. Ejercicios (10 mins)"
   ]
  },
  {
   "cell_type": "markdown",
   "metadata": {},
   "source": [
    "### 4.3.1. ¿Cuál es el mayor de tres números?\n",
    "\n",
    "Escriba un programa que pueda recibir tres números cualquiera y decida cuál es el mayor de los tres."
   ]
  },
  {
   "cell_type": "code",
   "execution_count": null,
   "metadata": {},
   "outputs": [],
   "source": []
  },
  {
   "cell_type": "code",
   "execution_count": 32,
   "metadata": {},
   "outputs": [
    {
     "name": "stdout",
     "output_type": "stream",
     "text": [
      "3.0  es el mayor\n"
     ]
    }
   ],
   "source": [
    "n1 = input(\"Escriba el primer número: \")\n",
    "n2 = input(\"Escriba el segundo número: \")\n",
    "n3 = input(\"Escriba el tecer número: \")\n",
    "\n",
    "# Para poder imprimir, deben estar en formato float\n",
    "n1 = float(n1);n2 = float(n2);n3 = float(n3)\n",
    "    \n",
    "if n1 > n2 and n1 > n3: # Valora si n1 es mayor que n2 y n3\n",
    "    print(n1, \" es el número mayor.\")\n",
    "elif n2 > n3 and n2 > n1: # Valora si n2 es mayor que n2 y n3\n",
    "    print(n2, \" es el número mayor.\")\n",
    "else: # Si ni n1 es mayor ni n2 es mayor, entonces n3 es el mayor\n",
    "    print(n3, \" es el mayor\")"
   ]
  },
  {
   "cell_type": "markdown",
   "metadata": {},
   "source": [
    "### 4.3.2. ¿Un número es divisible por otro?\n",
    "\n",
    "Escriba un programa que le diga si un valor `x` es divisible por un valor `y`:"
   ]
  },
  {
   "cell_type": "code",
   "execution_count": null,
   "metadata": {},
   "outputs": [],
   "source": []
  },
  {
   "cell_type": "code",
   "execution_count": 33,
   "metadata": {},
   "outputs": [
    {
     "name": "stdout",
     "output_type": "stream",
     "text": [
      "El número 4.0 NO es divisible por el número 5.0.\n"
     ]
    }
   ],
   "source": [
    "x = input(\"Escriba el numerador:\")\n",
    "y = input(\"Escriba el divisor:\")\n",
    "\n",
    "# Para poder imprimir, deben estar en formato float\n",
    "x = float(x); y = float(y)\n",
    "\n",
    "if x % y == 0:\n",
    "    print(\"El número {0} es divisible por el número {1}.\".format(x, y))\n",
    "else:\n",
    "    print(\"El número {0} NO es divisible por el número {1}.\".format(x, y))"
   ]
  },
  {
   "cell_type": "markdown",
   "metadata": {},
   "source": [
    "# 5. Ciclos\n",
    "\n",
    "Hay una regla tácita en programación que dice, más o menos, lo siguiente: \n",
    "\n",
    "> \"Si debes hacer algo más de tres veces, construye un ciclo para ello\". \n",
    "\n",
    "Los ciclos son sumamente útiles para desarrollar procesos iterativos de los cuales se puede construir un proceso repetible. Ejemplo de ello es imprimir cada letra de un *string*, cada valor en una lista o hacer una lista de invitación a una fiesta:"
   ]
  },
  {
   "cell_type": "code",
   "execution_count": 35,
   "metadata": {},
   "outputs": [
    {
     "name": "stdout",
     "output_type": "stream",
     "text": [
      "Hola, Juan, ¡ven a mi fiesta!\n",
      "Hola, Carol, ¡ven a mi fiesta!\n",
      "Hola, Lorena, ¡ven a mi fiesta!\n",
      "Hola, Santiago, ¡ven a mi fiesta!\n"
     ]
    }
   ],
   "source": [
    "lista_invitados = [\"Juan\", \"Carol\", \"Lorena\", \"Santiago\"]\n",
    "\n",
    "for guest in lista_invitados:\n",
    "    print(\"Hola, \" + guest + \", ¡ven a mi fiesta!\")"
   ]
  },
  {
   "cell_type": "code",
   "execution_count": 38,
   "metadata": {},
   "outputs": [
    {
     "name": "stdout",
     "output_type": "stream",
     "text": [
      "0 es par\n",
      "3 no es par\n",
      "6 es par\n",
      "9 no es par\n",
      "12 es par\n",
      "15 no es par\n",
      "18 es par\n",
      "21 no es par\n",
      "24 es par\n",
      "27 no es par\n",
      "30 es par\n",
      "33 no es par\n",
      "36 es par\n",
      "39 no es par\n",
      "42 es par\n",
      "45 no es par\n",
      "48 es par\n",
      "51 no es par\n",
      "54 es par\n",
      "57 no es par\n",
      "60 es par\n",
      "63 no es par\n",
      "66 es par\n",
      "69 no es par\n",
      "72 es par\n",
      "75 no es par\n",
      "78 es par\n",
      "81 no es par\n",
      "84 es par\n",
      "87 no es par\n",
      "90 es par\n",
      "93 no es par\n",
      "96 es par\n",
      "99 no es par\n",
      "102 es par\n",
      "105 no es par\n",
      "108 es par\n",
      "111 no es par\n",
      "114 es par\n",
      "117 no es par\n",
      "120 es par\n",
      "123 no es par\n",
      "126 es par\n",
      "129 no es par\n",
      "132 es par\n",
      "135 no es par\n",
      "138 es par\n",
      "141 no es par\n",
      "144 es par\n",
      "147 no es par\n",
      "150 es par\n",
      "153 no es par\n",
      "156 es par\n",
      "159 no es par\n",
      "162 es par\n",
      "165 no es par\n",
      "168 es par\n",
      "171 no es par\n",
      "174 es par\n",
      "177 no es par\n",
      "180 es par\n",
      "183 no es par\n",
      "186 es par\n",
      "189 no es par\n",
      "192 es par\n",
      "195 no es par\n",
      "198 es par\n",
      "201 no es par\n",
      "204 es par\n",
      "207 no es par\n",
      "210 es par\n",
      "213 no es par\n",
      "216 es par\n",
      "219 no es par\n",
      "222 es par\n",
      "225 no es par\n",
      "228 es par\n",
      "231 no es par\n",
      "234 es par\n",
      "237 no es par\n",
      "240 es par\n",
      "243 no es par\n",
      "246 es par\n",
      "249 no es par\n",
      "252 es par\n",
      "255 no es par\n",
      "258 es par\n",
      "261 no es par\n",
      "264 es par\n",
      "267 no es par\n",
      "270 es par\n",
      "273 no es par\n",
      "276 es par\n",
      "279 no es par\n",
      "282 es par\n",
      "285 no es par\n",
      "288 es par\n",
      "291 no es par\n",
      "294 es par\n",
      "297 no es par\n",
      "300 es par\n",
      "303 no es par\n",
      "306 es par\n",
      "309 no es par\n",
      "312 es par\n",
      "315 no es par\n",
      "318 es par\n",
      "321 no es par\n",
      "324 es par\n",
      "327 no es par\n",
      "330 es par\n",
      "333 no es par\n",
      "336 es par\n",
      "339 no es par\n",
      "342 es par\n",
      "345 no es par\n",
      "348 es par\n",
      "351 no es par\n",
      "354 es par\n",
      "357 no es par\n",
      "360 es par\n",
      "363 no es par\n",
      "366 es par\n",
      "369 no es par\n",
      "372 es par\n",
      "375 no es par\n",
      "378 es par\n",
      "381 no es par\n",
      "384 es par\n",
      "387 no es par\n",
      "390 es par\n",
      "393 no es par\n",
      "396 es par\n",
      "399 no es par\n",
      "402 es par\n",
      "405 no es par\n",
      "408 es par\n",
      "411 no es par\n",
      "414 es par\n",
      "417 no es par\n",
      "420 es par\n",
      "423 no es par\n",
      "426 es par\n",
      "429 no es par\n",
      "432 es par\n",
      "435 no es par\n",
      "438 es par\n",
      "441 no es par\n",
      "444 es par\n",
      "447 no es par\n",
      "450 es par\n",
      "453 no es par\n",
      "456 es par\n",
      "459 no es par\n",
      "462 es par\n",
      "465 no es par\n",
      "468 es par\n",
      "471 no es par\n",
      "474 es par\n",
      "477 no es par\n",
      "480 es par\n",
      "483 no es par\n",
      "486 es par\n",
      "489 no es par\n",
      "492 es par\n",
      "495 no es par\n",
      "498 es par\n",
      "501 no es par\n",
      "504 es par\n",
      "507 no es par\n",
      "510 es par\n",
      "513 no es par\n",
      "516 es par\n",
      "519 no es par\n",
      "522 es par\n",
      "525 no es par\n",
      "528 es par\n",
      "531 no es par\n",
      "534 es par\n",
      "537 no es par\n",
      "540 es par\n",
      "543 no es par\n",
      "546 es par\n",
      "549 no es par\n",
      "552 es par\n",
      "555 no es par\n",
      "558 es par\n",
      "561 no es par\n",
      "564 es par\n",
      "567 no es par\n",
      "570 es par\n",
      "573 no es par\n",
      "576 es par\n",
      "579 no es par\n",
      "582 es par\n",
      "585 no es par\n",
      "588 es par\n",
      "591 no es par\n",
      "594 es par\n",
      "597 no es par\n",
      "600 es par\n",
      "603 no es par\n",
      "606 es par\n",
      "609 no es par\n",
      "612 es par\n",
      "615 no es par\n",
      "618 es par\n",
      "621 no es par\n",
      "624 es par\n",
      "627 no es par\n",
      "630 es par\n",
      "633 no es par\n",
      "636 es par\n",
      "639 no es par\n",
      "642 es par\n",
      "645 no es par\n",
      "648 es par\n",
      "651 no es par\n",
      "654 es par\n",
      "657 no es par\n",
      "660 es par\n",
      "663 no es par\n",
      "666 es par\n",
      "669 no es par\n",
      "672 es par\n",
      "675 no es par\n",
      "678 es par\n",
      "681 no es par\n",
      "684 es par\n",
      "687 no es par\n",
      "690 es par\n",
      "693 no es par\n",
      "696 es par\n",
      "699 no es par\n",
      "702 es par\n",
      "705 no es par\n",
      "708 es par\n",
      "711 no es par\n",
      "714 es par\n",
      "717 no es par\n",
      "720 es par\n",
      "723 no es par\n",
      "726 es par\n",
      "729 no es par\n",
      "732 es par\n",
      "735 no es par\n",
      "738 es par\n",
      "741 no es par\n",
      "744 es par\n",
      "747 no es par\n",
      "750 es par\n",
      "753 no es par\n",
      "756 es par\n",
      "759 no es par\n",
      "762 es par\n",
      "765 no es par\n",
      "768 es par\n",
      "771 no es par\n",
      "774 es par\n",
      "777 no es par\n",
      "780 es par\n",
      "783 no es par\n",
      "786 es par\n",
      "789 no es par\n",
      "792 es par\n",
      "795 no es par\n",
      "798 es par\n",
      "801 no es par\n",
      "804 es par\n",
      "807 no es par\n",
      "810 es par\n",
      "813 no es par\n",
      "816 es par\n",
      "819 no es par\n",
      "822 es par\n",
      "825 no es par\n",
      "828 es par\n",
      "831 no es par\n",
      "834 es par\n",
      "837 no es par\n",
      "840 es par\n",
      "843 no es par\n",
      "846 es par\n",
      "849 no es par\n",
      "852 es par\n",
      "855 no es par\n",
      "858 es par\n",
      "861 no es par\n",
      "864 es par\n",
      "867 no es par\n",
      "870 es par\n",
      "873 no es par\n",
      "876 es par\n",
      "879 no es par\n",
      "882 es par\n",
      "885 no es par\n",
      "888 es par\n",
      "891 no es par\n",
      "894 es par\n",
      "897 no es par\n",
      "900 es par\n",
      "903 no es par\n",
      "906 es par\n",
      "909 no es par\n",
      "912 es par\n",
      "915 no es par\n",
      "918 es par\n",
      "921 no es par\n",
      "924 es par\n",
      "927 no es par\n",
      "930 es par\n",
      "933 no es par\n",
      "936 es par\n",
      "939 no es par\n",
      "942 es par\n",
      "945 no es par\n",
      "948 es par\n",
      "951 no es par\n",
      "954 es par\n",
      "957 no es par\n",
      "960 es par\n",
      "963 no es par\n",
      "966 es par\n",
      "969 no es par\n",
      "972 es par\n",
      "975 no es par\n",
      "978 es par\n",
      "981 no es par\n",
      "984 es par\n",
      "987 no es par\n",
      "990 es par\n",
      "993 no es par\n",
      "996 es par\n",
      "999 no es par\n"
     ]
    }
   ],
   "source": [
    "for num in range(0, 1001, 3):\n",
    "    if num % 2 == 0:\n",
    "        print(\"{0} es par\".format(num))\n",
    "    else:\n",
    "        print(\"{0} no es par\".format(num))"
   ]
  },
  {
   "cell_type": "markdown",
   "metadata": {},
   "source": [
    "En un ciclo se puede pasar por todos los valores de una lista, diccionario y demás elementos para realizar un proceso repetitivo.\n",
    "\n",
    "En ese sentido, el uso de ciclos es sumamente variado: se puede utilizar para valorar los números de un informe financiero, enviar correos masivos, realizar procesos automáticos o, incluso, crear un robot que pueda dominar el mundo. Las posibilidades son infinitas.\n",
    "\n",
    "Para ello, entonces aprenderemos dos tipos de ciclos: `for` y `while`."
   ]
  },
  {
   "cell_type": "markdown",
   "metadata": {},
   "source": [
    "## 5.1. Ciclos con `for`\n",
    "\n",
    "Los ciclos `for` tienen unos ciclos definidos y no son infinitos (a no ser que se cree una condición dinámica que lo haga). Es decir, tienen una cantidad exacta de ciclos y paran cuando esos ciclos se han terminado. Además, la variable que cicla va a tomar el valor o el elemento que se le ingresa.\n",
    "\n",
    "Por ejemplo, si se realiza un ciclo `for` con una lista de tres elementos, solo va a hacer tres ciclos y rotará sus valores internos."
   ]
  },
  {
   "cell_type": "code",
   "execution_count": 39,
   "metadata": {},
   "outputs": [
    {
     "name": "stdout",
     "output_type": "stream",
     "text": [
      "Este no es Juan\n",
      "Este no es Juan\n",
      "Este es Juan.\n",
      "Este no es Juan, pero es un perro.\n"
     ]
    }
   ],
   "source": [
    "x = [\"Ángela\", \"Carlos\", \"Juan\", \"Perro\"]\n",
    "\n",
    "for palabra in x:\n",
    "    if palabra == \"Juan\":\n",
    "        print(\"Este es Juan.\")\n",
    "    elif palabra == \"Perro\":\n",
    "        print(\"Este no es Juan, pero es un perro.\")\n",
    "    else:\n",
    "        print(\"Este no es Juan\")"
   ]
  },
  {
   "cell_type": "markdown",
   "metadata": {},
   "source": [
    "Como se puede observar, la variable que se crea en el ciclo (`palabra`) toma el valor de cada uno de los elementos de la lista que se le pasan. \n",
    "\n",
    "También se le pueden ingresar variables  tipo `range` para hacer conteo de números. Por ejemplo, podemos reescribir el programa que clasifica los números en pares e impares de la siguiente manera para simplificarlo (y no tener que hacer una lista con todos los números que necesitamos):"
   ]
  },
  {
   "cell_type": "code",
   "execution_count": 34,
   "metadata": {},
   "outputs": [
    {
     "name": "stdout",
     "output_type": "stream",
     "text": [
      "El número 1 es impar.\n",
      "El número 2 es par.\n",
      "El número 3 es impar.\n",
      "El número 4 es par.\n",
      "El número 5 es impar.\n",
      "El número 6 es par.\n",
      "El número 7 es impar.\n",
      "El número 8 es par.\n",
      "El número 9 es impar.\n",
      "El número 10 es par.\n",
      "El número 11 es impar.\n",
      "El número 12 es par.\n",
      "El número 13 es impar.\n",
      "El número 14 es par.\n"
     ]
    }
   ],
   "source": [
    "for num in range(1, 15):\n",
    "    if num % 2 == 0:\n",
    "        print(\"El número {0} es par.\".format(num))\n",
    "    else:\n",
    "        print(\"El número {0} es impar.\".format(num))"
   ]
  },
  {
   "cell_type": "markdown",
   "metadata": {},
   "source": [
    "## 5.2. Ciclos con `while`\n",
    "\n",
    "Los ciclos `while` tienen unos ciclos que pueden ser generalmente indefinidos hasta que **se cumpla una condición**. Es decir, el ciclo solamente para cuando una condición se cumple."
   ]
  },
  {
   "cell_type": "code",
   "execution_count": 43,
   "metadata": {},
   "outputs": [
    {
     "name": "stdout",
     "output_type": "stream",
     "text": [
      "1\n",
      "2\n",
      "3\n",
      "4\n",
      "5\n",
      "6\n",
      "7\n",
      "8\n",
      "9\n",
      "Último número de i: 10\n"
     ]
    }
   ],
   "source": [
    "# Imprime hasta el valor que se le dice\n",
    "i = 1\n",
    "\n",
    "while i < 10:\n",
    "    print(i)\n",
    "    i = i + 1 # Actualizar una variable\n",
    "\n",
    "print(\"Último número de i:\", i)"
   ]
  },
  {
   "cell_type": "markdown",
   "metadata": {},
   "source": [
    "Esto se sumamente útil para programación cíclica que necesita de una fecha, de una acción del usuario o, incluso, en la programación de juegos (hasta que el jugador cumple una misión, por ejemplo)."
   ]
  },
  {
   "cell_type": "markdown",
   "metadata": {},
   "source": [
    "## 5.3. Ejercicios (10 mins)"
   ]
  },
  {
   "cell_type": "markdown",
   "metadata": {},
   "source": [
    "### 5.3.1. Contar los elementos de una lista\n",
    "\n",
    "Realizar un programa que cuenta el número de elementos en una lista con un ciclo:\n",
    "\n",
    "> Input: [1, 5, 10, 4, 7]\n",
    ">\n",
    "> Output: 5\n",
    "\n",
    "**Nota:** no se puede utilizar la función `len()`."
   ]
  },
  {
   "cell_type": "code",
   "execution_count": 51,
   "metadata": {},
   "outputs": [
    {
     "name": "stdout",
     "output_type": "stream",
     "text": [
      "3\n"
     ]
    }
   ],
   "source": [
    "# Algoritmo\n",
    "\n",
    "# Paso 1: crear una lista\n",
    "# Paso 2: pasar por cada elemento de la lista\n",
    "# Paso 3: si hay algo, contar (sumar +1)\n",
    "# Paso 4: retornar el resultado\n",
    "\n",
    "# Codigo\n",
    "\n",
    "# Paso 1: definir la variable o lista\n",
    "lista = [2, 4, 0]\n",
    "\n",
    "# Paso 2: pasar por cada elemento de la lista\n",
    "contador = 0\n",
    "for num in lista:\n",
    "    # Paso 3: contar (sumar +1)\n",
    "    contador = contador + 1\n",
    "\n",
    "# Paso 4: retorno los resultados\n",
    "print(contador)"
   ]
  },
  {
   "cell_type": "code",
   "execution_count": null,
   "metadata": {},
   "outputs": [],
   "source": [
    "lista = [2, 4, 0]\n",
    "\n",
    "contador = 0\n",
    "for num in lista:\n",
    "    contador = contador + 1\n",
    "\n",
    "print(contador)"
   ]
  },
  {
   "cell_type": "markdown",
   "metadata": {},
   "source": [
    "### 5.3.2. Sumatoria de todos los números hasta un número definido\n",
    "\n",
    "Realice un programa que sume todos los números desde 1 hasta el valor que le diga y retorne el resultado.\n",
    "\n",
    "> Input: n = 5\n",
    ">\n",
    "> Output: 1+2+3+4+5 = 15\n",
    "\n",
    "> Input: n = 3\n",
    ">\n",
    "> Output: 1+2+3 = 6"
   ]
  },
  {
   "cell_type": "code",
   "execution_count": 69,
   "metadata": {},
   "outputs": [
    {
     "name": "stdout",
     "output_type": "stream",
     "text": [
      "6\n"
     ]
    }
   ],
   "source": [
    "# Algoritmo\n",
    "\n",
    "# Paso 1: definir la variable\n",
    "# Paso 2: crear una lista \n",
    "# Paso 3: sumar el primer numero con el segundo\n",
    "# Paso 4 - N: sumar el resultador anterior con el siguiente numero\n",
    "# Paso N (ultimo): retornar el resultado\n",
    "\n",
    "# Codigo\n",
    "\n",
    "# Paso 1: definir la variable\n",
    "n = 3\n",
    "\n",
    "# Paso 2: crear una lista\n",
    "lista = range(1, n+1)\n",
    "\n",
    "# Paso 3-N: sumo el resultado con el siguiente numero\n",
    "res = 0\n",
    "for num in lista:\n",
    "    res = res + num\n",
    "\n",
    "# Paso N: retornar el resultado\n",
    "print(res)\n"
   ]
  },
  {
   "cell_type": "code",
   "execution_count": 38,
   "metadata": {},
   "outputs": [
    {
     "name": "stdout",
     "output_type": "stream",
     "text": [
      "La suma total es 15.\n"
     ]
    }
   ],
   "source": [
    "n = input(\"Ingrese el número hasta el que desea sumar\")\n",
    "n = float(n)\n",
    "\n",
    "# Se crea una variable para la suma\n",
    "total = 0\n",
    "# Se crea un contador que pasa por todos los números hasta n\n",
    "i = 1\n",
    "\n",
    "# Se crea un loop que suma\n",
    "while i <= n:\n",
    "    total = total + i\n",
    "    i += 1\n",
    "    \n",
    "# Se imprime\n",
    "print(\"La suma total es {0}.\".format(total))"
   ]
  },
  {
   "cell_type": "markdown",
   "metadata": {},
   "source": [
    "### 5.3.3. Separación de números pares e impares\n",
    "\n",
    "Realice un programa que separe en dos listas a los números pares y a los números impares hasta cierto número. Al final, que imprima las listas."
   ]
  },
  {
   "cell_type": "code",
   "execution_count": null,
   "metadata": {},
   "outputs": [],
   "source": []
  },
  {
   "cell_type": "code",
   "execution_count": 39,
   "metadata": {},
   "outputs": [
    {
     "name": "stdout",
     "output_type": "stream",
     "text": [
      "\n",
      "\n",
      "Los números pares son: \n",
      "[2, 4]\n",
      "\n",
      "Los números impares son: \n",
      "[1, 3, 5]\n",
      "\n"
     ]
    }
   ],
   "source": [
    "n = input(\"Ingrese el número hasta que desea separar los números (mayor a 0).\")\n",
    "n = int(n)\n",
    "print(\"\\n\")\n",
    "\n",
    "pares = []\n",
    "impares = []\n",
    "\n",
    "for num in range(1, n):\n",
    "    if num % 2 == 0:\n",
    "        pares.append(num)\n",
    "    else:\n",
    "        impares.append(num)\n",
    "        \n",
    "print(\"Los números pares son: \\n{0}\\n\".format(pares))\n",
    "print(\"Los números impares son: \\n{0}\\n\".format(impares))"
   ]
  },
  {
   "cell_type": "markdown",
   "metadata": {},
   "source": [
    "# 7. Funciones básicas\n",
    "\n",
    "Las funciones son las mejores amigas de los programadores y científicos de datos. En ese sentido, vamos a modificar un poco la regla tácita de la programación:\n",
    "\n",
    "> **\"Si debes realizar un proceso en varias ocasiones, construye una función.\"**\n",
    "\n",
    "Las funciones permiten simplificar procesos repetitivos en las labores de programación en el tiempo. En ese sentido, si tenemos algo que realizamos repetitivamente (por ejemplo, obtener el balance neto de una empresa), podemos construir una función que nos permita procesar automáticamente esa información y que no debamos nuevamente escribir otro código.\n",
    "\n",
    "La estructura básica de una función es la siguiente:\n",
    "\n",
    ">`def nombre_funcion(parámetros):` <br>\n",
    "> &emsp; &emsp; `instrucciones`\n",
    "\n",
    "    \n",
    "Veamos el siguiente ejemplo:"
   ]
  },
  {
   "cell_type": "markdown",
   "metadata": {},
   "source": [
    "$$area_{rectangulo} = lado_x * lado_y $$"
   ]
  },
  {
   "cell_type": "code",
   "execution_count": 11,
   "metadata": {},
   "outputs": [
    {
     "data": {
      "text/plain": [
       "35"
      ]
     },
     "execution_count": 11,
     "metadata": {},
     "output_type": "execute_result"
    }
   ],
   "source": [
    "def area_rectangulo(lx, ly):\n",
    "    return lx*ly\n",
    "\n",
    "area_rectangulo(5, 7)"
   ]
  },
  {
   "cell_type": "code",
   "execution_count": 28,
   "metadata": {},
   "outputs": [
    {
     "name": "stdout",
     "output_type": "stream",
     "text": [
      "20\n"
     ]
    }
   ],
   "source": [
    "def area_cuadrado(lx, ly):\n",
    "    res = lx*ly\n",
    "    return res\n",
    "\n",
    "x = 5\n",
    "y = 4\t\t\n",
    "\n",
    "res = area_cuadrado(x, y)\n",
    "print(res)"
   ]
  },
  {
   "cell_type": "markdown",
   "metadata": {},
   "source": [
    "> **Nota:** se debe escribir el comando `return` al final de una función para que retorne un valor. Caso contrario, no devolverá ningún valor."
   ]
  },
  {
   "cell_type": "markdown",
   "metadata": {},
   "source": [
    "## 7.1. Enunciado `return`\n",
    "\n",
    "Como se anunció, se debe escribir el comando `return` al final de la función para que retorne un valor. Sin embargo, se debe tener cuidado, ya que el `return` termina inmediatamente la función. Es decir, todo aquello que esté después del `return` no se procesará."
   ]
  },
  {
   "cell_type": "code",
   "execution_count": 75,
   "metadata": {},
   "outputs": [
    {
     "name": "stdout",
     "output_type": "stream",
     "text": [
      "1.0\n",
      "3.0\n",
      "Solo puede ingresar números positivos.\n",
      "13.0\n",
      "Solo puede ingresar números positivos.\n"
     ]
    }
   ],
   "source": [
    "def SquareRoot(x):\n",
    "    if x <= 0:\n",
    "        print(\"Solo puede ingresar números positivos.\")\n",
    "        return\n",
    "    res = x ** 0.5\n",
    "    print(res)\n",
    "    \n",
    "for x in [1, 9, -25, 169, -100]:\n",
    "    SquareRoot(x)"
   ]
  },
  {
   "cell_type": "code",
   "execution_count": 77,
   "metadata": {},
   "outputs": [
    {
     "data": {
      "text/plain": [
       "8"
      ]
     },
     "execution_count": 77,
     "metadata": {},
     "output_type": "execute_result"
    }
   ],
   "source": [
    "def foo(x):\n",
    "    x = x+3\n",
    "    return x\n",
    "    x = x**2\n",
    "    \n",
    "foo(5) "
   ]
  },
  {
   "cell_type": "markdown",
   "metadata": {},
   "source": [
    "Sumar todos los números de 1 hasta n"
   ]
  },
  {
   "cell_type": "code",
   "execution_count": 40,
   "metadata": {},
   "outputs": [],
   "source": [
    "def suma_numeros(n):\n",
    "\n",
    "    # Paso 1: definir la variable\n",
    "\n",
    "    # Paso 2: creamos la lista de números\n",
    "\n",
    "    # Paso 3: sumamos los números de la lista\n",
    "    res = 0\n",
    "    for num in range(1, n+1):\n",
    "        res = res + num\n",
    "\n",
    "    # Paso 4: retornar el resultado\n",
    "    return res"
   ]
  },
  {
   "cell_type": "code",
   "execution_count": 41,
   "metadata": {},
   "outputs": [
    {
     "data": {
      "text/plain": [
       "15"
      ]
     },
     "execution_count": 41,
     "metadata": {},
     "output_type": "execute_result"
    }
   ],
   "source": [
    "suma_numeros(5)"
   ]
  },
  {
   "cell_type": "markdown",
   "metadata": {},
   "source": [
    "## 7.2. Ejercicios (10 mins)"
   ]
  },
  {
   "cell_type": "markdown",
   "metadata": {},
   "source": [
    "### 7.2.1. Cálculo de la recta de una pendiente\n",
    "\n",
    "Construya una función que calcule el valor de la pendiente de una recta con dos puntos de la misma."
   ]
  },
  {
   "cell_type": "code",
   "execution_count": null,
   "metadata": {},
   "outputs": [],
   "source": []
  },
  {
   "cell_type": "code",
   "execution_count": 41,
   "metadata": {},
   "outputs": [
    {
     "name": "stdout",
     "output_type": "stream",
     "text": [
      "El valor de la pendiente es: 1.0\n"
     ]
    }
   ],
   "source": [
    "# Definición de la función\n",
    "def pend(x1, y1, x2, y2):\n",
    "\tdy = y2 - y1 # Calcula el cambio en y\n",
    "\tdx = x2 - x1 # Calcula el cambio en x\n",
    "\tpen = dy/dx  # Divide los dos cambios\n",
    "\treturn pen   # Retorna el valor\n",
    "\n",
    "p = pend(1,2,3,4) # Se prueba\n",
    "print(\"El valor de la pendiente es: {0}\".format(p)) # Se imprime"
   ]
  },
  {
   "cell_type": "markdown",
   "metadata": {},
   "source": [
    "### 7.2.2. Cálculo del área de un círculo\n",
    "\n",
    "Construya una función que calcule el valor del área de un círculo."
   ]
  },
  {
   "cell_type": "code",
   "execution_count": null,
   "metadata": {},
   "outputs": [],
   "source": []
  },
  {
   "cell_type": "code",
   "execution_count": 47,
   "metadata": {},
   "outputs": [
    {
     "name": "stdout",
     "output_type": "stream",
     "text": [
      "El valor del área del círculo es: 201.06192982974676\n"
     ]
    }
   ],
   "source": [
    "# Importando la librería math\n",
    "import math\n",
    "\n",
    "# Definiendo la función\n",
    "def area_circulo(r):\n",
    "    area = math.pi*(r**2)\n",
    "    return area\n",
    "\n",
    "# Preguntando por el valor del radio del círculo\n",
    "r = input(\"Ingrese el valor del radio del círculo: \")\n",
    "\n",
    "# Cambiando el formato de la variable\n",
    "r = float(r)\n",
    "\n",
    "# Calculando\n",
    "area = area_circulo(r)\n",
    "\n",
    "# Imprimiendo\n",
    "print(\"El valor del área del círculo es: {0}\".format(area)) "
   ]
  },
  {
   "cell_type": "markdown",
   "metadata": {},
   "source": [
    "### 7.2.3. Cálculo de la suma de pares\n",
    "\n",
    "Construya una función que calcule la suma solamente de los números pares hasta un número dado."
   ]
  },
  {
   "cell_type": "code",
   "execution_count": null,
   "metadata": {},
   "outputs": [],
   "source": []
  },
  {
   "cell_type": "code",
   "execution_count": 48,
   "metadata": {},
   "outputs": [
    {
     "name": "stdout",
     "output_type": "stream",
     "text": [
      "El resultado de la suma es: 6\n"
     ]
    }
   ],
   "source": [
    "def sum_pares(n):\n",
    "    n = int(n)              # Cambiando el formato para que el for lo lea\n",
    "    res = 0                 # Creando un resultado para sumar\n",
    "    for i in range(1, n+1): # Haciendo un for con n+1 porque lo lee hasta n-1\n",
    "        if i % 2 == 0:      # Valorando si es un par\n",
    "            res = res + i   # Actualiza la variable\n",
    "    return res              # Retorna el resultado\n",
    "\n",
    "# Preguntando hasta qué número se suma\n",
    "n = input(\"Ingrese el valor hasta el cual desea sumar: \")\n",
    "\n",
    "# Cambiando el formato\n",
    "n = float(n)\n",
    "\n",
    "# Calculando\n",
    "res = sum_pares(n)\n",
    "\n",
    "# Imprimiendo\n",
    "print(\"El resultado de la suma es: {0}\".format(res))"
   ]
  },
  {
   "cell_type": "markdown",
   "metadata": {},
   "source": [
    "# 8. Variables de fechas y horas\n",
    "\n",
    "Las variables de fechas y horas son importantes para el análisis temporal de cualquier fenómeno. Es decir, son importantes para analizar cómo se comportan las ventas de una empresa en el tiempo, cómo son los tiempos de producción de una industria, cómo se comporta el hurto en una ciudad o para entender bien cómo se comporta un agente económico.\n",
    "\n",
    "En ese sentido, se puede crear una variable de tiempo de la siguiente manera:"
   ]
  },
  {
   "cell_type": "code",
   "execution_count": 49,
   "metadata": {},
   "outputs": [
    {
     "name": "stdout",
     "output_type": "stream",
     "text": [
      "2023-11-17 20:23:20.043030\n",
      "<class 'datetime.datetime'>\n"
     ]
    }
   ],
   "source": [
    "# Se importa la librería datetime y el módulo datetime\n",
    "from datetime import datetime\n",
    "\n",
    "# Tiempo actual\n",
    "now = datetime.now()\n",
    "\n",
    "# Se imprime\n",
    "print(now)\n",
    "print(type(now))"
   ]
  },
  {
   "cell_type": "markdown",
   "metadata": {},
   "source": [
    "Se puede construir una fecha tipo `datetime` manualmente. Para ello, se utiliza:\n",
    "\n",
    "* `strptime()`: convierte fechas tipo `str` en objetos tipo `datetime`.\n",
    "* `strftime()`: convierte fechas tipo `datetime` en objetos tipo `str`."
   ]
  },
  {
   "cell_type": "code",
   "execution_count": null,
   "metadata": {},
   "outputs": [],
   "source": [
    "from datetime import datetime\n",
    "\n",
    "# Se crea un string\n",
    "fecha = \"2022-03-01\"\n",
    "\n",
    "print(fecha)\n",
    "print(\"Tipo: {0}\".format(type(fecha)))\n",
    "print(\"\\n\")\n",
    "\n",
    "# Se convierte en datetime\n",
    "fecha = datetime.strptime(fecha, \"%Y-%m-%d\")\n",
    "\n",
    "print(fecha)\n",
    "print(\"Tipo: {0}\".format(type(fecha)))\n",
    "print(\"\\n\")\n",
    "\n",
    "# Se convierte nuevamente en str\n",
    "fecha = datetime.strftime(fecha, format = \"%Y-%m-%d\")\n",
    "\n",
    "print(fecha)\n",
    "print(\"Tipo: {0}\".format(type(fecha)))"
   ]
  },
  {
   "cell_type": "markdown",
   "metadata": {},
   "source": [
    "## 8.1. Manipulación de elementos tipo `datetime`\n",
    "\n",
    "### 8.1.1. Obtención de elementos\n",
    "\n",
    "Los elementos `datetime` permiten obtener diferentes partes de las fechas y las horas, como, por ejemplo, el año, el mes, el día e incluso las horas, los minutos y los segundos."
   ]
  },
  {
   "cell_type": "code",
   "execution_count": 50,
   "metadata": {},
   "outputs": [
    {
     "name": "stdout",
     "output_type": "stream",
     "text": [
      "2022-03-01 12:24:00\n",
      "Año:  2022\n",
      "Mes:  3\n",
      "Día:  1\n",
      "Hora:  12\n",
      "Minutos:  24\n",
      "Segundos:  0\n"
     ]
    }
   ],
   "source": [
    "# Creando la fecha\n",
    "fecha = datetime.strptime(\"2022/03/01 12:24:00\", \"%Y/%m/%d %H:%M:%S\") # ¡En este caso no utilizamos una línea (-) sino un slash (/)!\n",
    "print(fecha)\n",
    "\n",
    "# Obtener año\n",
    "año = fecha.year\n",
    "print(\"Año: \", año)\n",
    "\n",
    "# Obtener mes\n",
    "mes = fecha.month\n",
    "print(\"Mes: \", mes)\n",
    "\n",
    "# Obtener día\n",
    "dia = fecha.day\n",
    "print(\"Día: \", dia)\n",
    "\n",
    "# Obtener hora\n",
    "hora = fecha.hour\n",
    "print(\"Hora: \", hora)\n",
    "\n",
    "# Obtener minutos\n",
    "minutos = fecha.minute\n",
    "print(\"Minutos: \", minutos)\n",
    "\n",
    "# Obtener segundos\n",
    "segundos = fecha.second\n",
    "print(\"Segundos: \", segundos)"
   ]
  },
  {
   "cell_type": "markdown",
   "metadata": {},
   "source": [
    "Incluso se puede obtener el día de la semana a la que se refiere con la librería `calendar`:"
   ]
  },
  {
   "cell_type": "code",
   "execution_count": 51,
   "metadata": {},
   "outputs": [
    {
     "name": "stdout",
     "output_type": "stream",
     "text": [
      "Día del mes:  1\n",
      "Número del día de la semana:  1\n",
      "Nombre del día de la semana:  Tuesday\n"
     ]
    }
   ],
   "source": [
    "# Importando la librería\n",
    "import calendar\n",
    "\n",
    "# Día del mes\n",
    "print(\"Día del mes: \", fecha.day)\n",
    "\n",
    "# Número del día de la semana\n",
    "print(\"Número del día de la semana: \", fecha.weekday())\n",
    "\n",
    "# Nombre del día de la semana\n",
    "print(\"Nombre del día de la semana: \", calendar.day_name[fecha.weekday()])"
   ]
  },
  {
   "cell_type": "markdown",
   "metadata": {},
   "source": [
    "> **Nota:** ¡se debe recordar que en Python los números empiezan desde 0!"
   ]
  },
  {
   "cell_type": "code",
   "execution_count": 52,
   "metadata": {},
   "outputs": [
    {
     "name": "stdout",
     "output_type": "stream",
     "text": [
      "0 - Monday\n",
      "1 - Tuesday\n",
      "2 - Wednesday\n",
      "3 - Thursday\n",
      "4 - Friday\n",
      "5 - Saturday\n",
      "6 - Sunday\n"
     ]
    }
   ],
   "source": [
    "# Revisemos los números de la semana y su nombre\n",
    "j = 0\n",
    "for i in calendar.day_name:\n",
    "    print(j,'-',i)\n",
    "    j+=1"
   ]
  },
  {
   "cell_type": "markdown",
   "metadata": {},
   "source": [
    "## 8.1.2. Diferencia entre fechas\n",
    "\n",
    "Se puede obtener la diferencia entre dos fechas para calcular cuántos días hay entre ellas:"
   ]
  },
  {
   "cell_type": "code",
   "execution_count": 53,
   "metadata": {},
   "outputs": [
    {
     "name": "stdout",
     "output_type": "stream",
     "text": [
      "Quedan 121 days, 0:00:00 para terminar el semestre\n"
     ]
    }
   ],
   "source": [
    "# Importando el módulo date de datetime\n",
    "from datetime import date\n",
    "\n",
    "# Creando dos fechas (con otra forma que solo recibe fechas)\n",
    "date1 = date(2022, 3, 1)\n",
    "date2 = date(2022, 6, 30)\n",
    "\n",
    "# Diferencia entre dos fechas\n",
    "difference = date2 - date1\n",
    "print(\"Quedan {0} para terminar el semestre\".format(difference))"
   ]
  },
  {
   "cell_type": "markdown",
   "metadata": {},
   "source": [
    "También se puede con horas, minutos y segundos:"
   ]
  },
  {
   "cell_type": "code",
   "execution_count": null,
   "metadata": {},
   "outputs": [],
   "source": [
    "# Importando el módulo datetime de datetime\n",
    "from datetime import datetime\n",
    "\n",
    "# Creando dos fechas (con la forma que recibe fechas y horas)\n",
    "date1 = datetime(2022, 3, 1, 18, 0, 0)\n",
    "date2 = datetime(2022, 3, 26, 0, 0, 0)\n",
    "\n",
    "# Diferencia de fechas\n",
    "difference = date2 - date1\n",
    "print(\"Quedan {0} para terminar el primer corte\".format(difference))"
   ]
  },
  {
   "cell_type": "markdown",
   "metadata": {},
   "source": [
    "### 8.2. Ejercicios"
   ]
  },
  {
   "cell_type": "markdown",
   "metadata": {},
   "source": [
    "### 8.2.1. Desglosamiento del presente\n",
    "\n",
    "Separe en una lista el año, mes, día, hora, minutos y segundos de este mismo momento."
   ]
  },
  {
   "cell_type": "code",
   "execution_count": null,
   "metadata": {},
   "outputs": [],
   "source": []
  },
  {
   "cell_type": "code",
   "execution_count": 54,
   "metadata": {},
   "outputs": [
    {
     "name": "stdout",
     "output_type": "stream",
     "text": [
      "Hoy es el año 2023, mes 11, día 17, hora 20, minuto 25, segundo 55.\n"
     ]
    }
   ],
   "source": [
    "# Se importa la librería datetime y el módulo datetime\n",
    "from datetime import datetime\n",
    " \n",
    "# Tiempo actual\n",
    "now = datetime.now() \n",
    "\n",
    "# Día del cumpleaños\n",
    "lst = [now.year, now.month, now.day, now.hour, now.minute, now.second]\n",
    "\n",
    "# Lo imprimo\n",
    "print(\"Hoy es el año {0}, mes {1}, día {2}, hora {3}, minuto {4}, segundo {5}.\".format(lst[0], lst[1], lst[2], lst[3], lst[4], lst[5]))"
   ]
  },
  {
   "cell_type": "markdown",
   "metadata": {},
   "source": [
    "### 8.2.2. Conteo regresivo a su cumpleaños\n",
    "\n",
    "Construya un programa que le diga cuánto falta desde este momento al día de su cumpleaños"
   ]
  },
  {
   "cell_type": "code",
   "execution_count": null,
   "metadata": {},
   "outputs": [],
   "source": []
  },
  {
   "cell_type": "code",
   "execution_count": 55,
   "metadata": {},
   "outputs": [
    {
     "name": "stdout",
     "output_type": "stream",
     "text": [
      "¡Falta -487 days, 3:33:45.837799 para mi cumpleaños! No olviden enviar regalo jeje\n"
     ]
    }
   ],
   "source": [
    "# Se importa la librería datetime y el módulo datetime\n",
    "from datetime import datetime\n",
    "\n",
    "# Defino la función\n",
    "def reg_count(birthday):\n",
    "    \n",
    "    # Tiempo actual\n",
    "    now = datetime.now()\n",
    "    \n",
    "    # Diferencia de tiempo\n",
    "    dif = birthday - now\n",
    "    \n",
    "    return(dif)\n",
    "\n",
    "# Día del cumpleaños\n",
    "birthday = datetime(2022, 7, 19, 0, 0, 0)\n",
    "\n",
    "# Conteo regresivo\n",
    "print(\"¡Falta {0} para mi cumpleaños! No olviden enviar regalo jeje\".format(reg_count(birthday)))"
   ]
  },
  {
   "cell_type": "code",
   "execution_count": null,
   "metadata": {},
   "outputs": [],
   "source": []
  }
 ],
 "metadata": {
  "kernelspec": {
   "display_name": "Python 3",
   "language": "python",
   "name": "python3"
  },
  "language_info": {
   "codemirror_mode": {
    "name": "ipython",
    "version": 3
   },
   "file_extension": ".py",
   "mimetype": "text/x-python",
   "name": "python",
   "nbconvert_exporter": "python",
   "pygments_lexer": "ipython3",
   "version": "3.12.2"
  },
  "orig_nbformat": 4
 },
 "nbformat": 4,
 "nbformat_minor": 2
}
