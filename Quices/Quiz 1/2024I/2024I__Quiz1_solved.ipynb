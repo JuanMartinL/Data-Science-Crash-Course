{
 "cells": [
  {
   "attachments": {},
   "cell_type": "markdown",
   "metadata": {},
   "source": [
    "# Quiz 1"
   ]
  },
  {
   "attachments": {},
   "cell_type": "markdown",
   "metadata": {},
   "source": [
    "&emsp; **Fundación Universitaria Los Libertadores**. <br>\n",
    "&emsp; **Asignatura:** Big Data. <br>\n",
    "&emsp; **Período:** 2024-I. <br>\n",
    "&emsp; **Profesor:** Juan Martín Londoño Zuluaga."
   ]
  },
  {
   "attachments": {},
   "cell_type": "markdown",
   "metadata": {},
   "source": [
    "# 1. Suma de dígitos\n",
    "\n",
    "Defina una función `pos_and_negs()` que reciba una lista de números y cuente los números negativos y sume los números positivos.\n",
    "\n",
    "> Ejemplo de entrada: [1, -3, 2, -5, -6]\n",
    ">\n",
    "> Ejemplo de salida: Negativos: 3, Suma positivos: 3"
   ]
  },
  {
   "cell_type": "code",
   "execution_count": 5,
   "metadata": {},
   "outputs": [
    {
     "name": "stdout",
     "output_type": "stream",
     "text": [
      "Conteo de negativos: 3\n",
      "Suma de positivos: 16\n"
     ]
    }
   ],
   "source": [
    "# Método 1\n",
    "def pos_and_negs(lista):\n",
    "    suma_pos  = 0\n",
    "    conteo_negs = 0\n",
    "    for num in lista:\n",
    "        if num < 0:\n",
    "            conteo_negs += 1\n",
    "        else:\n",
    "            suma_pos += num\n",
    "\n",
    "    print(\"Conteo de negativos: {0}\\nSuma de positivos: {1}\".format(conteo_negs, suma_pos))\n",
    "\n",
    "pos_and_negs(\n",
    "    lista = [1, 1, -5, -6 , 4, 10, -1]\n",
    ")"
   ]
  },
  {
   "cell_type": "code",
   "execution_count": 3,
   "metadata": {},
   "outputs": [
    {
     "name": "stdout",
     "output_type": "stream",
     "text": [
      "Conteo de negativos: 3\n",
      "Suma de positivos: 16\n"
     ]
    }
   ],
   "source": [
    "# Método 2\n",
    "def pos_and_negs(lista):\n",
    "    pos  = []\n",
    "    negs = []\n",
    "    for num in lista:\n",
    "        if num < 0:\n",
    "            negs.append(num)\n",
    "        else:\n",
    "            pos.append(num)\n",
    "\n",
    "    print(\"Conteo de negativos: {0}\\nSuma de positivos: {1}\".format(len(negs), sum(pos)))\n",
    "\n",
    "pos_and_negs(\n",
    "    lista = [1, 1, -5, -6 , 4, 10, -1]\n",
    ")"
   ]
  }
 ],
 "metadata": {
  "kernelspec": {
   "display_name": "Python 3",
   "language": "python",
   "name": "python3"
  },
  "language_info": {
   "codemirror_mode": {
    "name": "ipython",
    "version": 3
   },
   "file_extension": ".py",
   "mimetype": "text/x-python",
   "name": "python",
   "nbconvert_exporter": "python",
   "pygments_lexer": "ipython3",
   "version": "3.12.2"
  },
  "orig_nbformat": 4
 },
 "nbformat": 4,
 "nbformat_minor": 2
}
