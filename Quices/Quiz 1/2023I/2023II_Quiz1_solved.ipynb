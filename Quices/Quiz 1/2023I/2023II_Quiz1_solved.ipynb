{
 "cells": [
  {
   "cell_type": "markdown",
   "metadata": {},
   "source": [
    "# Quiz 1\n",
    "\n",
    "&emsp; **Fundación Universitaria Los Libertadores**. <br>\n",
    "&emsp; **Asignatura:** Big Data. <br>\n",
    "&emsp; **Período:** 2023-II. <br>\n",
    "&emsp; **Profesor:** Juan Martín Londoño Zuluaga."
   ]
  },
  {
   "cell_type": "markdown",
   "metadata": {},
   "source": [
    "# 1. Conteo de divisores\n",
    "\n",
    "Realice un programa llamado `conteo_divisores()` que reciba como parámetro un número entero positivo `n` y retorne el número de divisores que tiene dicho número. Es decir, si la función recibe el parámetro `conteo_divisores(n = 10)` debe retornar 4, ya que el 10 tiene los siguientes divisores: 1, 2, 5 y 10. Otros ejemplos similares son los siguientes:\n",
    "\n",
    "> `conteo_divisores(n = 6) = 4`\n",
    ">\n",
    "> `conteo_divisores(n = 25) = 3`\n",
    ">\n",
    "> `conteo_divisores(n = 100) = 9`"
   ]
  },
  {
   "cell_type": "code",
   "execution_count": 5,
   "metadata": {},
   "outputs": [
    {
     "data": {
      "text/plain": [
       "1"
      ]
     },
     "execution_count": 5,
     "metadata": {},
     "output_type": "execute_result"
    }
   ],
   "source": [
    "def conteo_divisores(n):\n",
    "\n",
    "    conteo = 0\n",
    "\n",
    "    for i in range(1, n + 1):\n",
    "        if n % i == 0:\n",
    "            conteo = conteo + 1\n",
    "\n",
    "    return conteo\n",
    "\n",
    "conteo_divisores(1)"
   ]
  },
  {
   "cell_type": "code",
   "execution_count": 10,
   "metadata": {},
   "outputs": [
    {
     "data": {
      "text/plain": [
       "9"
      ]
     },
     "execution_count": 10,
     "metadata": {},
     "output_type": "execute_result"
    }
   ],
   "source": [
    "def conteo_divisores(n):\n",
    "\n",
    "    conteo = []\n",
    "\n",
    "    for i in range(1, n + 1):\n",
    "        if n % i == 0:\n",
    "            conteo.append(i)\n",
    "\n",
    "    return len(conteo)\n",
    "\n",
    "conteo_divisores(100)"
   ]
  }
 ],
 "metadata": {
  "kernelspec": {
   "display_name": "Python 3",
   "language": "python",
   "name": "python3"
  },
  "language_info": {
   "codemirror_mode": {
    "name": "ipython",
    "version": 3
   },
   "file_extension": ".py",
   "mimetype": "text/x-python",
   "name": "python",
   "nbconvert_exporter": "python",
   "pygments_lexer": "ipython3",
   "version": "3.11.4"
  },
  "orig_nbformat": 4
 },
 "nbformat": 4,
 "nbformat_minor": 2
}
