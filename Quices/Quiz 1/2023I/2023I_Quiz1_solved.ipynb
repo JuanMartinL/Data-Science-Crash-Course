{
 "cells": [
  {
   "attachments": {},
   "cell_type": "markdown",
   "metadata": {},
   "source": [
    "# Quiz 1"
   ]
  },
  {
   "attachments": {},
   "cell_type": "markdown",
   "metadata": {},
   "source": [
    "&emsp; **Fundación Universitaria Los Libertadores**. <br>\n",
    "&emsp; **Asignatura:** Big Data. <br>\n",
    "&emsp; **Período:** 2023-I. <br>\n",
    "&emsp; **Profesor:** Juan Martín Londoño Zuluaga."
   ]
  },
  {
   "attachments": {},
   "cell_type": "markdown",
   "metadata": {},
   "source": [
    "# 1. Serie de Fibonacci"
   ]
  },
  {
   "attachments": {},
   "cell_type": "markdown",
   "metadata": {},
   "source": [
    "La serie de Fibonacci es una serie que empieza con el 0 y el 1. A partir de estos, cada nuevo número es la suma de los dos anteriores. En ese sentido, la serie de Fibonacci se ve de la siguiente manera hasta el quinto número: \n",
    "\n",
    "$$ f_0 = 0; f_1 = 1; f_2 = 1; f_3 = 2; f_4 = 3; f_5 = 5 $$\n",
    "\n",
    "Es decir, se empieza con el 0 y el 1, después el segundo número es igual a la suma de los otros dos anteriores ($f_2 = 0 + 1 = 1$), el tercero igual a los dos anteriores ($f_3 = 1 + 1 = 2$), el cuarto igual a la suma de los dos anteriores ($f_4 = 1 + 2 = 3$), el quinto la suma de los dos anteriores ($f_5 = 2 + 3 = 5$). Se puede escribir de forma más didáctica de la siguiente manera:\n",
    "\n",
    "$$ f_0 = 0 $$\n",
    "$$ f_1 = 1 $$\n",
    "$$ f_2 = 0 + 1 = 1 $$\n",
    "$$ f_3 = 1 + 1 = 2 $$\n",
    "$$ f_4 = 1 + 2 = 3 $$\n",
    "$$ f_5 = 2 + 3 = 5 $$\n",
    "$$ f_6 = 3 + 5 = 8 $$\n",
    "\n",
    "A partir de lo anterior, escriba una función que pueda calcular el número en la posición `n` de la serie."
   ]
  },
  {
   "cell_type": "code",
   "execution_count": 9,
   "metadata": {},
   "outputs": [
    {
     "data": {
      "text/plain": [
       "13"
      ]
     },
     "execution_count": 9,
     "metadata": {},
     "output_type": "execute_result"
    }
   ],
   "source": [
    "def fibonnaci(n):\n",
    "    lst = []\n",
    "\n",
    "    for i in range(0, n+1):\n",
    "        if i == 0:\n",
    "            lst.append(0)\n",
    "        elif i == 1:\n",
    "            lst.append(1)\n",
    "        else:\n",
    "            num = lst[i - 1] + lst[i - 2]\n",
    "            lst.append(num)\n",
    "    \n",
    "    return lst[-1]\n",
    "\n",
    "fibonnaci(n=7)"
   ]
  },
  {
   "cell_type": "code",
   "execution_count": 12,
   "metadata": {},
   "outputs": [
    {
     "data": {
      "text/plain": [
       "55"
      ]
     },
     "execution_count": 12,
     "metadata": {},
     "output_type": "execute_result"
    }
   ],
   "source": [
    "def fibonnaci(n):\n",
    "\n",
    "    for i in range(0, n+1):\n",
    "        if i == 0:\n",
    "            num1 = 0\n",
    "        elif i == 1:\n",
    "            num2 = 1\n",
    "        else:\n",
    "            new_num = num1 + num2\n",
    "            num1 = num2\n",
    "            num2 = new_num\n",
    "\n",
    "    return num2\n",
    "\n",
    "fibonnaci(n = 10)"
   ]
  }
 ],
 "metadata": {
  "kernelspec": {
   "display_name": "Python 3",
   "language": "python",
   "name": "python3"
  },
  "language_info": {
   "codemirror_mode": {
    "name": "ipython",
    "version": 3
   },
   "file_extension": ".py",
   "mimetype": "text/x-python",
   "name": "python",
   "nbconvert_exporter": "python",
   "pygments_lexer": "ipython3",
   "version": "3.10.5"
  },
  "orig_nbformat": 4
 },
 "nbformat": 4,
 "nbformat_minor": 2
}
