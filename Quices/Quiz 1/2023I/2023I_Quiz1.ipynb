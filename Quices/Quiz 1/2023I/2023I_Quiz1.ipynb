{
 "cells": [
  {
   "attachments": {},
   "cell_type": "markdown",
   "metadata": {},
   "source": [
    "# Quiz 1"
   ]
  },
  {
   "attachments": {},
   "cell_type": "markdown",
   "metadata": {},
   "source": [
    "&emsp; **Fundación Universitaria Los Libertadores**. <br>\n",
    "&emsp; **Asignatura:** Big Data. <br>\n",
    "&emsp; **Período:** 2023-I. <br>\n",
    "&emsp; **Profesor:** Juan Martín Londoño Zuluaga."
   ]
  },
  {
   "attachments": {},
   "cell_type": "markdown",
   "metadata": {},
   "source": [
    "# 1. Serie de Fibonacci"
   ]
  },
  {
   "attachments": {},
   "cell_type": "markdown",
   "metadata": {},
   "source": [
    "La serie de Fibonacci es una serie que empieza con el 0 y el 1. A partir de estos, cada nuevo número es la suma de los dos anteriores. En ese sentido, la serie de Fibonacci se ve de la siguiente manera hasta el quinto número: \n",
    "\n",
    "$$ f_0 = 0; f_1 = 1; f_2 = 1; f_3 = 2; f_4 = 3; f_5 = 5 $$\n",
    "\n",
    "Es decir, se empieza con el 0 y el 1, después el segundo número es igual a la suma de los otros dos anteriores ($f_2 = 0 + 1 = 1$), el tercero igual a los dos anteriores ($f_3 = 1 + 1 = 2$), el cuarto igual a la suma de los dos anteriores ($f_4 = 1 + 2 = 3$), el quinto la suma de los dos anteriores ($f_5 = 2 + 3 = 5$). Se puede escribir de forma más didáctica de la siguiente manera:\n",
    "\n",
    "$$ f_0 = 0 $$\n",
    "$$ f_1 = 1 $$\n",
    "$$ f_2 = 0 + 1 = 1 $$\n",
    "$$ f_3 = 1 + 1 = 2 $$\n",
    "$$ f_4 = 1 + 2 = 3 $$\n",
    "$$ f_5 = 2 + 3 = 5 $$\n",
    "$$ f_6 = 3 + 5 = 8 $$\n",
    "\n",
    "A partir de lo anterior, escriba una función que pueda calcular el número en la posición `i` de la serie."
   ]
  }
 ],
 "metadata": {
  "language_info": {
   "name": "python"
  },
  "orig_nbformat": 4
 },
 "nbformat": 4,
 "nbformat_minor": 2
}
