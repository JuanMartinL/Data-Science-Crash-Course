{
 "cells": [
  {
   "cell_type": "markdown",
   "metadata": {},
   "source": [
    "# Quiz 1\n",
    "\n",
    "&emsp; **Fundación Universitaria Los Libertadores**. <br>\n",
    "&emsp; **Asignatura:** Big Data. <br>\n",
    "&emsp; **Período:** 2023-II. <br>\n",
    "&emsp; **Profesor:** Juan Martín Londoño Zuluaga.\n",
    "\n",
    "&emsp; **Estudiante:**"
   ]
  },
  {
   "cell_type": "markdown",
   "metadata": {},
   "source": [
    "# 1. Conteo de divisores\n",
    "\n",
    "Realice un programa llamado `conteo_divisores()` que reciba como parámetro un número entero positivo `n` y retorne el número de divisores que tiene dicho número. Es decir, si la función recibe el parámetro `conteo_divisores(n = 10)` debe retornar 4, ya que el 10 tiene los siguientes divisores: 1, 2, 5 y 10. Otros ejemplos similares son los siguientes:\n",
    "\n",
    "> `conteo_divisores(n = 6) = 4`\n",
    ">\n",
    "> `conteo_divisores(n = 25) = 3`\n",
    ">\n",
    "> `conteo_divisores(n = 100) = 9`"
   ]
  },
  {
   "cell_type": "code",
   "execution_count": null,
   "metadata": {},
   "outputs": [],
   "source": []
  }
 ],
 "metadata": {
  "kernelspec": {
   "display_name": "Python 3",
   "language": "python",
   "name": "python3"
  },
  "language_info": {
   "codemirror_mode": {
    "name": "ipython",
    "version": 3
   },
   "file_extension": ".py",
   "mimetype": "text/x-python",
   "name": "python",
   "nbconvert_exporter": "python",
   "pygments_lexer": "ipython3",
   "version": "3.11.4"
  },
  "orig_nbformat": 4
 },
 "nbformat": 4,
 "nbformat_minor": 2
}
