{
 "cells": [
  {
   "cell_type": "markdown",
   "metadata": {},
   "source": [
    "# Quiz 1"
   ]
  },
  {
   "cell_type": "markdown",
   "metadata": {},
   "source": [
    "&emsp; **Fundación Universitaria Los Libertadores**. <br>\n",
    "&emsp; **Asignatura:** Big Data. <br>\n",
    "&emsp; **Período:** 2023-I. <br>\n",
    "&emsp; **Profesor:** Juan Martín Londoño Zuluaga."
   ]
  },
  {
   "cell_type": "markdown",
   "metadata": {},
   "source": [
    "# 1. Conteo de divisores"
   ]
  },
  {
   "cell_type": "markdown",
   "metadata": {},
   "source": [
    "Construya una función llamada `div_comunes()` que encuentre los divisores comunes que tienen dos números. Por ejemplo, entre 6 y 12 hay 4 divisores comunes: 1, 2, 3 y 6. Otros ejemplos de lo que debe retornar la función son los siguientes:\n",
    "\n",
    "> `div_comunes(1, 8) = 1`\n",
    ">\n",
    "> `div_comunes(4, 100) = 1, 2, 4`\n",
    ">\n",
    "> `div_comunes(50, 100) = 1, 2, 5, 10, 25, 50`\n",
    "\n",
    "Puede devolverse en una lista o en un print, pero la función debe encontrar los divisores comunes entre los dos números."
   ]
  },
  {
   "cell_type": "code",
   "execution_count": 11,
   "metadata": {},
   "outputs": [
    {
     "data": {
      "text/plain": [
       "[1, 2, 5, 10, 25, 50]"
      ]
     },
     "execution_count": 11,
     "metadata": {},
     "output_type": "execute_result"
    }
   ],
   "source": [
    "def div_comunes(a, b):\n",
    "\n",
    "    a_div = []\n",
    "    b_div = []\n",
    "\n",
    "    res = []\n",
    "\n",
    "    for i in range(1, a + 1):\n",
    "        if a % i == 0:\n",
    "            a_div.append(i)\n",
    "\n",
    "    for i in range(1, b + 1):\n",
    "        if b % i == 0:\n",
    "            b_div.append(i)\n",
    "\n",
    "    for i in a_div:\n",
    "        for k in b_div:\n",
    "            if i == k:\n",
    "                res.append(i)\n",
    "\n",
    "    return res\n",
    "\n",
    "div_comunes(50, 100)"
   ]
  }
 ],
 "metadata": {
  "kernelspec": {
   "display_name": "Python 3",
   "language": "python",
   "name": "python3"
  },
  "language_info": {
   "codemirror_mode": {
    "name": "ipython",
    "version": 3
   },
   "file_extension": ".py",
   "mimetype": "text/x-python",
   "name": "python",
   "nbconvert_exporter": "python",
   "pygments_lexer": "ipython3",
   "version": "3.11.4"
  },
  "orig_nbformat": 4
 },
 "nbformat": 4,
 "nbformat_minor": 2
}
