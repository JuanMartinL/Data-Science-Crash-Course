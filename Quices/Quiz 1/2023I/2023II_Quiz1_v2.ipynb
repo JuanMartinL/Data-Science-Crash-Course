{
 "cells": [
  {
   "cell_type": "markdown",
   "metadata": {},
   "source": [
    "# Quiz 1"
   ]
  },
  {
   "cell_type": "markdown",
   "metadata": {},
   "source": [
    "&emsp; **Fundación Universitaria Los Libertadores**. <br>\n",
    "&emsp; **Asignatura:** Big Data. <br>\n",
    "&emsp; **Período:** 2023-I. <br>\n",
    "&emsp; **Profesor:** Juan Martín Londoño Zuluaga."
   ]
  },
  {
   "cell_type": "markdown",
   "metadata": {},
   "source": [
    "# 1. Conteo de divisores"
   ]
  },
  {
   "cell_type": "markdown",
   "metadata": {},
   "source": [
    "Construya una función llamada `div_comunes()` que encuentre los divisores comunes que tienen dos números. Por ejemplo, entre 6 y 12 hay 4 divisores comunes: 1, 2, 3 y 6. Otros ejemplos de lo que debe retornar la función son los siguientes:\n",
    "\n",
    "> `div_comunes(1, 8) = 1`\n",
    ">\n",
    "> `div_comunes(4, 100) = 1, 2, 4`\n",
    ">\n",
    "> `div_comunes(50, 100) = 1, 2, 5, 10, 25, 50`\n",
    "\n",
    "Puede devolverse en una lista o en un print, pero la función debe encontrar los divisores comunes entre los dos números."
   ]
  },
  {
   "cell_type": "code",
   "execution_count": null,
   "metadata": {
    "vscode": {
     "languageId": "plaintext"
    }
   },
   "outputs": [],
   "source": []
  }
 ],
 "metadata": {
  "kernelspec": {
   "display_name": "Python 3",
   "language": "python",
   "name": "python3"
  },
  "language_info": {
   "codemirror_mode": {
    "name": "ipython",
    "version": 3
   },
   "file_extension": ".py",
   "mimetype": "text/x-python",
   "name": "python",
   "nbconvert_exporter": "python",
   "pygments_lexer": "ipython3",
   "version": "3.11.4"
  },
  "orig_nbformat": 4
 },
 "nbformat": 4,
 "nbformat_minor": 2
}
