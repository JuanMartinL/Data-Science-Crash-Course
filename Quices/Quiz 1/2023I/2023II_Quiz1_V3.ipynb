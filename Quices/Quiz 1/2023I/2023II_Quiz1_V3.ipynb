{
 "cells": [
  {
   "cell_type": "markdown",
   "metadata": {},
   "source": [
    "# Quiz 1\n",
    "\n",
    "&emsp; **Fundación Universitaria Los Libertadores**. <br>\n",
    "&emsp; **Asignatura:** Big Data. <br>\n",
    "&emsp; **Período:** 2023-II. <br>\n",
    "&emsp; **Profesor:** Juan Martín Londoño Zuluaga.\n",
    "\n",
    "&emsp; **Estudiante:**"
   ]
  },
  {
   "cell_type": "markdown",
   "metadata": {},
   "source": [
    "# 1. Organizar un número de menor a mayor\n",
    "\n",
    "Construya un programa que reciba tres números y los organice de menor a mayor. Por ejemplo, si `n1 = 9`, `n2 = 3` y `n3 = 6`, devuelva como resultado `9 6 3`."
   ]
  },
  {
   "cell_type": "code",
   "execution_count": null,
   "metadata": {
    "vscode": {
     "languageId": "plaintext"
    }
   },
   "outputs": [],
   "source": []
  },
  {
   "cell_type": "markdown",
   "metadata": {},
   "source": [
    "# 2. Contador de números divisibles por 3\n",
    "\n",
    "Construya un programa que cuente cuántos números en una lista son divisibles por 3. Por ejemplo, si le ingreso `[1, 3, 6, 7, 8]`, debe retornar `2`."
   ]
  },
  {
   "cell_type": "markdown",
   "metadata": {},
   "source": []
  }
 ],
 "metadata": {
  "language_info": {
   "name": "python"
  },
  "orig_nbformat": 4
 },
 "nbformat": 4,
 "nbformat_minor": 2
}
