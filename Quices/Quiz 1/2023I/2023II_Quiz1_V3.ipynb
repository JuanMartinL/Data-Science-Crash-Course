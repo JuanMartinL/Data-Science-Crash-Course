{
 "cells": [
  {
   "cell_type": "markdown",
   "metadata": {},
   "source": [
    "# Quiz 1\n",
    "\n",
    "&emsp; **Fundación Universitaria Los Libertadores**. <br>\n",
    "&emsp; **Asignatura:** Big Data. <br>\n",
    "&emsp; **Período:** 2023-II. <br>\n",
    "&emsp; **Profesor:** Juan Martín Londoño Zuluaga.\n",
    "\n",
    "&emsp; **Estudiante:**"
   ]
  },
  {
   "cell_type": "markdown",
   "metadata": {},
   "source": [
    "# 1. Organizar un número de menor a mayor\n",
    "\n",
    "Construya un programa que reciba tres números y los organice de menor a mayor. Por ejemplo, si `n1 = 9`, `n2 = 3` y `n3 = 6`, devuelva como resultado `3, 6, 9`.\n",
    "\n",
    "> `[4, 10, 5]` $\\rightarrow$ `4, 5, 10`\n",
    ">\n",
    "> `[11, -1, 9]` $\\rightarrow$ `-1, 9, 11`"
   ]
  },
  {
   "cell_type": "code",
   "execution_count": 14,
   "metadata": {},
   "outputs": [
    {
     "name": "stdout",
     "output_type": "stream",
     "text": [
      "0.5 10 199\n"
     ]
    }
   ],
   "source": [
    "# Paso 1: declarar las variables\n",
    "n1 = 10\n",
    "n2 = 199\n",
    "n3 = 0.5\n",
    "\n",
    "# Paso 2: encuentro el numero menor (comparo cada numero con los otros)\n",
    "\n",
    "# Caso cuando n1 es el menor\n",
    "if (n1 < n2) & (n1 < n3):\n",
    "    # Paso 3: encuentro el numero de la mitad\n",
    "    if n2 < n3:\n",
    "        # Paso 4: encuentro el numero mayor\n",
    "        print(n1, n2, n3) # Paso 5: retorno el resultado\n",
    "    else:\n",
    "        print(n1, n3, n2)\n",
    "\n",
    "# Caso cuando n2 es el menor\n",
    "if (n2 < n1) & (n2 < n3):\n",
    "    if n1 < n3:\n",
    "        print(n2, n1, n3)\n",
    "    else: \n",
    "        print(n2, n3, n1)\n",
    "\n",
    "# Caso cuando n3 es el menor\n",
    "if (n3 < n1) & (n3 < n2):\n",
    "    if n1 < n2:\n",
    "        print(n3, n1, n2)\n",
    "    else:\n",
    "        print(n3, n2, n1)\n"
   ]
  },
  {
   "cell_type": "markdown",
   "metadata": {},
   "source": [
    "# 2. Contador de números divisibles por 3\n",
    "\n",
    "Construya un programa que cuente cuántos números en una lista son divisibles por 3. Por ejemplo, si le ingreso `[1, 3, 6, 7, 8]`, debe retornar `2`."
   ]
  },
  {
   "cell_type": "code",
   "execution_count": 29,
   "metadata": {},
   "outputs": [
    {
     "name": "stdout",
     "output_type": "stream",
     "text": [
      "6\n"
     ]
    }
   ],
   "source": [
    "# Paso 1: declaro la lista\n",
    "lista = [1, 3, 5, 6, 9, 10, 18, 15, 20, 21]\n",
    "conteo = 0\n",
    "\n",
    "# Paso 2: paso por cada uno de los numeros\n",
    "for num in lista:\n",
    "\n",
    "    # Paso 3: miro aquellos que son divisibles por 3 (residuo 0)\n",
    "    if num % 3 == 0:\n",
    "        \n",
    "        # Paso 4: si si es divisible, cuento +1; si no, no cuento (o cuento 0)\n",
    "        conteo = conteo + 1\n",
    "\n",
    "# Paso 5: retorno el resultado\n",
    "print(conteo)"
   ]
  },
  {
   "cell_type": "code",
   "execution_count": null,
   "metadata": {},
   "outputs": [],
   "source": []
  }
 ],
 "metadata": {
  "kernelspec": {
   "display_name": "Python 3",
   "language": "python",
   "name": "python3"
  },
  "language_info": {
   "codemirror_mode": {
    "name": "ipython",
    "version": 3
   },
   "file_extension": ".py",
   "mimetype": "text/x-python",
   "name": "python",
   "nbconvert_exporter": "python",
   "pygments_lexer": "ipython3",
   "version": "3.11.4"
  },
  "orig_nbformat": 4
 },
 "nbformat": 4,
 "nbformat_minor": 2
}
