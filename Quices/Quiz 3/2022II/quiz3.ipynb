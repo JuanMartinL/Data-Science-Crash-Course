{
 "cells": [
  {
   "cell_type": "markdown",
   "metadata": {},
   "source": [
    "# Quiz 3: Machine Learning"
   ]
  },
  {
   "cell_type": "markdown",
   "metadata": {},
   "source": [
    "&emsp; **Asignatura:** Big Data. <br>\n",
    "&emsp; **Profesor:** Juan Martín Londoño Zuluaga. <br>\n",
    "&emsp; **Período:** 2022-II."
   ]
  },
  {
   "cell_type": "markdown",
   "metadata": {},
   "source": [
    "Usted es ingeniero de Machine Learning en una empresa consultora. Su empresa ha sido contactada por una clínica que desea mejorar sus procesos de diagnóstico de diabetes. Para ello, les contratan para realizar un modelo de Machine Learning que permita predecir con la mayor exactitud si un paciente tendrá o no tendrá diabetes.\n",
    "\n",
    "Le entregan la siguiente [base de datos](https://www.kaggle.com/datasets/whenamancodes/predict-diabities) con diferentes datos de pacientes analizados con y sin diabetes. Usted debe construir con ella el modelo que se le pide."
   ]
  },
  {
   "cell_type": "markdown",
   "metadata": {},
   "source": [
    "# 1. Importe de los datos (5 puntos)\n",
    "\n",
    "Importe los datos solicitados desde la página que se le otorgó."
   ]
  },
  {
   "cell_type": "code",
   "execution_count": null,
   "metadata": {},
   "outputs": [],
   "source": []
  },
  {
   "cell_type": "markdown",
   "metadata": {},
   "source": [
    "> **Nota:** en este caso no pasaremos por el análisis exploratorio de datos, pero recuerde que este es fundamental en el resto de casos. Incluso, si desea mejorar el modelo que vendrá después, es mejor que pueda realizar un pequeño EDA para encontrar hallazgos que le sirvan para mejorar su modelo."
   ]
  },
  {
   "cell_type": "markdown",
   "metadata": {},
   "source": [
    "# 2. Preprocesamiento de los datos (10 puntos)"
   ]
  },
  {
   "cell_type": "markdown",
   "metadata": {},
   "source": [
    "Analice el tipo de datos encontrados: ¿qué tipo de datos encuentra en cada variable?"
   ]
  },
  {
   "cell_type": "code",
   "execution_count": null,
   "metadata": {},
   "outputs": [],
   "source": []
  },
  {
   "cell_type": "markdown",
   "metadata": {},
   "source": [
    "Separe la base de datos entre matriz de covariables y vector de la variable independiente."
   ]
  },
  {
   "cell_type": "code",
   "execution_count": null,
   "metadata": {},
   "outputs": [],
   "source": []
  },
  {
   "cell_type": "markdown",
   "metadata": {},
   "source": [
    "Separe la base de datos entre datos de entrenamiento, datos de validación y datos de testeo (utilice una semilla igual a 2022 y un tamaño de 20% para testeo y entrenamiento y 20% para validación y entrenamiento)."
   ]
  },
  {
   "cell_type": "code",
   "execution_count": null,
   "metadata": {},
   "outputs": [],
   "source": []
  },
  {
   "cell_type": "markdown",
   "metadata": {},
   "source": [
    "# 3. Construcción del modelo de Machine Learning (15 puntos)"
   ]
  },
  {
   "cell_type": "markdown",
   "metadata": {},
   "source": [
    "Entrene los siguientes modelos con sus parámetros por defecto (no le cambie las opciones):\n",
    "* `DecissionTreeClassifier()`.\n",
    "* `KNeighbors()`.\n",
    "* `LogisticRegression()`.\n",
    "\n",
    "Utilice una semilla igual a 2022 para los modelos que requieran semilla por sus procesos aleatorios.\n",
    "\n",
    "Teniendo en cuenta una métrica de precisión balanceada, responda las siguientes preguntas:\n",
    "\n",
    "* ¿Cuál es el mejor modelo?\n",
    "* ¿Cuál es su precisión balanceada?\n",
    "\n",
    "> **Nota:** para medir el desempeño, en este caso utilice la base de datos de validación. Todavía no la de testeo."
   ]
  },
  {
   "cell_type": "code",
   "execution_count": null,
   "metadata": {},
   "outputs": [],
   "source": []
  },
  {
   "cell_type": "markdown",
   "metadata": {},
   "source": [
    "# 4. Optimización paramétrica (15 puntos)"
   ]
  },
  {
   "cell_type": "markdown",
   "metadata": {},
   "source": [
    "Como pudo darse cuenta, desde el principio utilizamos el método Hold-On para la optimización paramétrica. En ese sentido, coja el modelo que tuvo mejor desempeño y optimice sus parámetros:"
   ]
  },
  {
   "cell_type": "code",
   "execution_count": null,
   "metadata": {},
   "outputs": [],
   "source": []
  },
  {
   "cell_type": "markdown",
   "metadata": {},
   "source": [
    "# 5. Evaluación del modelo (5 puntos)"
   ]
  },
  {
   "cell_type": "markdown",
   "metadata": {},
   "source": [
    "Muestre el desempeño con la base de datos de testeo del modelo final:"
   ]
  },
  {
   "cell_type": "code",
   "execution_count": null,
   "metadata": {},
   "outputs": [],
   "source": []
  },
  {
   "cell_type": "markdown",
   "metadata": {},
   "source": [
    "# Bono: optimización por validación cruzada (15 puntos)"
   ]
  },
  {
   "cell_type": "markdown",
   "metadata": {},
   "source": [
    "Vuelva a coger las bases de datos de covariables y el vector de la variable independiente. No los separe, vamos a utilizar el método de validación cruzada. Para ello, realice los siguientes puntos:\n",
    "\n",
    "* Defina la matriz de modelos a utilizar (recuerde que es un diccionario con los modelos que definimos antes).\n",
    "* Defina la grilla de parámetros (recuerde que es un diccionario con los parámetros de cada uno).\n",
    "* Realice una optimización de validación cruzada por grilla aleatoria (`sklearn.model_selection.RandomizedSearchCV()`).\n",
    "\n",
    "A partir de ello, ¿cuál es el mejor modelo y cuál es su desempeño?\n",
    "\n",
    "> Nota: no olvide utilizar una semilla con valor 2022."
   ]
  },
  {
   "cell_type": "code",
   "execution_count": null,
   "metadata": {},
   "outputs": [],
   "source": []
  }
 ],
 "metadata": {
  "language_info": {
   "name": "python"
  },
  "orig_nbformat": 4
 },
 "nbformat": 4,
 "nbformat_minor": 2
}
