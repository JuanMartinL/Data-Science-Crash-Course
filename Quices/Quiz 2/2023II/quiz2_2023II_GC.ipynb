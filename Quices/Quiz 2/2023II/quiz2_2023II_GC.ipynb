{
 "cells": [
  {
   "cell_type": "markdown",
   "metadata": {},
   "source": [
    "# Quiz 2: Introducción a la Ciencia de Datos práctica\n",
    "\n",
    "&emsp; **Asignatura:** Big Data. <br>\n",
    "&emsp; **Profesor:** Juan Martín Londoño Zuluaga. <br>\n",
    "&emsp; **Período:** 2023-II.\n",
    "\n",
    "&emsp; **Estdiante:** <indique su nombre aquí>"
   ]
  },
  {
   "cell_type": "markdown",
   "metadata": {},
   "source": [
    "Usted es un o una analista de datos contratada por una prestigiosa disquera, FULL Stars, para el análisis de lo que hace a una canción popular. A esta disquera le importa bastante este análisis, ya que quiere saber qué hace que una canción sea un éxito.\n",
    "\n",
    "Bajo ese contexto, se le ha entregado una base de datos que cuenta con una amplia gama de variables, incluyendo variables del número de reproducciones, artistas que colaboran en ella, porcentaje de danzabilidad de la canción, entre otros. La explicación de la base de datos la puede encontrar en la [siguiente página](https://www.kaggle.com/datasets/nelgiriyewithana/top-spotify-songs-2023), la cual es, como puede encontrar, las canciones más populares en Spotify en 2023.\n",
    "\n",
    "En ese sentido, la Junta Directiva de la disquera le hace las siguientes preguntas:\n",
    "\n"
   ]
  },
  {
   "cell_type": "markdown",
   "metadata": {},
   "source": [
    "# 1. Importe de los datos (5 puntos)\n",
    "\n",
    "Importe los datos del archivo `spotify-2023.csv` que están en la página descrita:"
   ]
  },
  {
   "cell_type": "code",
   "execution_count": null,
   "metadata": {},
   "outputs": [],
   "source": []
  },
  {
   "cell_type": "markdown",
   "metadata": {},
   "source": [
    "# 2. Calidad de la base de datos (10 puntos)"
   ]
  },
  {
   "cell_type": "markdown",
   "metadata": {},
   "source": [
    "## 2.1. Valores perdidos\n",
    "\n",
    "Encuentre el número y porcentaje respecto al total de los valores perdidos que tiene la base de datos:\n",
    "* ¿Qué nivel de pérdida de datos se tiene?\n",
    "* ¿Es significativa la pérdida de datos?\n",
    "* Si sí, ¿qué estrategia propone para afrontarlo?"
   ]
  },
  {
   "cell_type": "code",
   "execution_count": null,
   "metadata": {},
   "outputs": [],
   "source": []
  },
  {
   "cell_type": "markdown",
   "metadata": {},
   "source": [
    "## 2.2. Valores únicos\n",
    "\n",
    "Encuentre el número de valores únicos por columna:"
   ]
  },
  {
   "cell_type": "code",
   "execution_count": null,
   "metadata": {},
   "outputs": [],
   "source": []
  },
  {
   "cell_type": "markdown",
   "metadata": {},
   "source": [
    "Revise los valores únicos de la columna `artist(s)_name`, ¿qué puede observar en dicha columna que pueda afectar algunos de sus análisis como, por ejemplo, el conteo de cuántas canciones tiene cada artista? No haga ningún cambio, pero analice qué está ocurriendo que podría afectar el top de artistas con mayor número de canciones en los listados top de Spotify:"
   ]
  },
  {
   "cell_type": "code",
   "execution_count": null,
   "metadata": {},
   "outputs": [],
   "source": []
  },
  {
   "cell_type": "markdown",
   "metadata": {},
   "source": [
    "# 3. Análisis Univariado (10 puntos)\n",
    "\n"
   ]
  },
  {
   "cell_type": "markdown",
   "metadata": {},
   "source": [
    "La Junta Directiva de la Disquera quisiera saber un par de cosas en términos generales sobre el top de canciones de Spotify. Le preguntan lo siguiente:\n",
    "1. ¿Cuál es el o la artista que más canciones ha tenido en el Top de Spotify (variable `artist(s)_name`)?\n",
    "2. Muestre en un gráfico de barras o histograma la distribución del año de lanzamiento de las canciones desde el 2000 (variable `released_year`): ¿las canciones más recientes tienen más exito que aquellas más viejas? ¿Qué año tiene más canciones lanzadas?\n",
    "3. Muestre la distribución del número de artistas que participan en una canción.\n"
   ]
  },
  {
   "cell_type": "code",
   "execution_count": null,
   "metadata": {},
   "outputs": [],
   "source": []
  },
  {
   "cell_type": "markdown",
   "metadata": {},
   "source": [
    "# 4. Análisis multivariado (15 puntos)\n",
    "\n",
    "La Junta Directiva quiere saber un poco más. Es decir, ya sabe que hay unas canciones que son un éxito total. Tanto, que se salen de la distribución del top de Spotify. Es decir, hay un top del top. Ellos están interesados en qué hacen este tipo de canciones para ser un éxito rotundo.\n",
    "\n",
    "En ese sentido, le hacen las siguientes preguntas:\n",
    "\n",
    "1. ¿Cuáles son el top 10 de canciones más reproducidas en el 2023 (variable `track_name` y `streams`)? ¿Qué artista tiene más canciones en el top 10?\n",
    "2. ¿Existe un mes particular (`released_mont`) en el que se hayan lanzado las mejores canciones de Spotify del 2023? ¿Se mantiene este comportamiento para las 100 canciones más exitosas? Si sí, ¿por qué? Si no, ¿por qué?\n",
    "3. ¿Existe un día en particular (`released_day`) en el que se hayan lanzado las mejores canciones de Spotify del 2023?"
   ]
  },
  {
   "cell_type": "code",
   "execution_count": null,
   "metadata": {},
   "outputs": [],
   "source": []
  },
  {
   "cell_type": "markdown",
   "metadata": {},
   "source": [
    "# 5. Recomendaciones (10 puntos)\n",
    "\n",
    "A partir de lo anterior, ¿qué puede recomendarle a la Junta Directiva de la disquera para obtener un éxito rotundo?"
   ]
  },
  {
   "cell_type": "markdown",
   "metadata": {},
   "source": []
  }
 ],
 "metadata": {
  "kernelspec": {
   "display_name": "Python 3",
   "language": "python",
   "name": "python3"
  },
  "language_info": {
   "codemirror_mode": {
    "name": "ipython",
    "version": 3
   },
   "file_extension": ".py",
   "mimetype": "text/x-python",
   "name": "python",
   "nbconvert_exporter": "python",
   "pygments_lexer": "ipython3",
   "version": "3.11.4"
  }
 },
 "nbformat": 4,
 "nbformat_minor": 2
}
