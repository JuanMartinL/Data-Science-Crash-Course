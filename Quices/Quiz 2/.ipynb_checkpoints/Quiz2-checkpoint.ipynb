{
 "cells": [
  {
   "cell_type": "markdown",
   "id": "2401d891-0f87-44cf-a73b-82ebc2bc890f",
   "metadata": {},
   "source": [
    "# Quiz 2: Ciencia de Datos"
   ]
  },
  {
   "cell_type": "markdown",
   "id": "40dae85e-bea1-4417-a02d-5fc788726f1d",
   "metadata": {},
   "source": [
    "&emsp; **Asignatura:** Big Data. <br>\n",
    "&emsp; **Profesor:** Juan Martín Londoño Zuluaga. <br>\n",
    "&emsp; **Período:** 2022-II."
   ]
  },
  {
   "cell_type": "markdown",
   "id": "d627f6ab-ab10-4ad7-9ab0-c6120012ea95",
   "metadata": {},
   "source": [
    "Usted es un o una analista de datos contratada por una prestigiosa aerolínea, FULL Stars, para el análisis de los retrasos en los vuelos de EE.UU. A esta aerolínea le importa bastante este análisis, ya que quiere basar su valor diferenciador en el mercado en el cumplimiento de los horarios de vuelo estpipulados en sus ventas. \n",
    "\n",
    "Bajo ese contexto, se le ha entregado una base de datos que cuenta con una amplia gana de variables, incluyendo variables de retraso en minutos de los vuelos, ciudad de origen, ciudad de destino, tiempo de vuelo, entre otros. La explicación de la base de datos la puede encontrar en la [siguiente página](https://www.kaggle.com/datasets/whenamancodes/flight-delay-prediction).\n",
    "\n",
    "En ese sentido, la Junta Directiva de la aerolínea le hace las siguientes preguntas:"
   ]
  },
  {
   "cell_type": "markdown",
   "id": "4fbfb058-d555-4bb0-aa46-822e793b359a",
   "metadata": {},
   "source": [
    "# 1. Importe de datos"
   ]
  },
  {
   "cell_type": "markdown",
   "id": "58ca8e47-58a7-4d00-9809-6b5139b8f009",
   "metadata": {},
   "source": [
    "Importe los datos del archivo `flight_data_2018_to_2022.csv`."
   ]
  },
  {
   "cell_type": "code",
   "execution_count": null,
   "id": "3f026fc7-fc5d-4d1a-83d4-86b6fde60518",
   "metadata": {},
   "outputs": [],
   "source": []
  },
  {
   "cell_type": "markdown",
   "id": "d297ba49-2499-4b87-98bd-f186d17630d8",
   "metadata": {},
   "source": [
    "La Junta Directiva, como primer pedido, le solicita que muestre en una tabla las siguientes estadísticas: conteo, media, desviación estandar, mediana, mínimo, máximo y percentiles 25 y 75."
   ]
  },
  {
   "cell_type": "code",
   "execution_count": null,
   "id": "76a18bd2-421f-49f2-bc28-e2942d20b249",
   "metadata": {},
   "outputs": [],
   "source": []
  },
  {
   "cell_type": "markdown",
   "id": "32ca45c3-e819-4bf8-8015-efc3d8f346be",
   "metadata": {},
   "source": [
    "# 2. Calidad de la base de datos"
   ]
  },
  {
   "cell_type": "markdown",
   "id": "31bca678-b959-4e11-80b5-1356cc25e607",
   "metadata": {},
   "source": [
    "Usted bien sabe que, primero que todo, debe realizarse una búsqueda de la calidad de los datos. Aunque no se lo ha pedido la Junta Directiva, una vocecilla en su cabeza le solicita los siguientes datos:"
   ]
  },
  {
   "cell_type": "markdown",
   "id": "55e8e65b-a265-41e6-9dfc-8634b916f09d",
   "metadata": {},
   "source": [
    "## 2.1. Número de valores perdidos"
   ]
  },
  {
   "cell_type": "markdown",
   "id": "4d54b63b-b52e-4686-9a47-d66c9339f32a",
   "metadata": {},
   "source": [
    "Encuentre el número de valores perdidos en la base de datos."
   ]
  },
  {
   "cell_type": "code",
   "execution_count": null,
   "id": "e6aca2fe-20b7-4e83-bf38-35a867f24eef",
   "metadata": {},
   "outputs": [],
   "source": []
  },
  {
   "cell_type": "markdown",
   "id": "e321d11d-deea-4147-92b1-594377da44c6",
   "metadata": {},
   "source": [
    "## 2.2. Valores únicos"
   ]
  },
  {
   "cell_type": "markdown",
   "id": "69444486-df98-46d3-9349-8e2b5099408c",
   "metadata": {},
   "source": [
    "Encuentre el número de valores únicos por columna."
   ]
  },
  {
   "cell_type": "code",
   "execution_count": null,
   "id": "42767c9e-fb19-42b7-b528-8994d466e145",
   "metadata": {},
   "outputs": [],
   "source": []
  },
  {
   "cell_type": "markdown",
   "id": "98e07f22-8874-4ea8-8f62-4369e4662636",
   "metadata": {},
   "source": [
    "## 2.3. Tipos de variables"
   ]
  },
  {
   "cell_type": "markdown",
   "id": "cbb1e9e3-2bfb-4f4c-a622-26c16f16d3c6",
   "metadata": {},
   "source": [
    "Encuentre el tipo de variable por columna"
   ]
  },
  {
   "cell_type": "code",
   "execution_count": null,
   "id": "355286ae-a39b-42df-91a5-7dfff84dc606",
   "metadata": {},
   "outputs": [],
   "source": []
  },
  {
   "cell_type": "markdown",
   "id": "14e38fb9-f88c-4886-a704-5d78cc4f744e",
   "metadata": {},
   "source": [
    "# 3. Análisis univariado"
   ]
  },
  {
   "cell_type": "markdown",
   "id": "1c15f7da-0fca-41e6-9400-a7a3814827ea",
   "metadata": {},
   "source": [
    "## 3.1. Análisis de distribución"
   ]
  },
  {
   "cell_type": "markdown",
   "id": "0b46a90f-fb8b-4ebb-ac0d-2170e71c1258",
   "metadata": {},
   "source": [
    "La Junta Directiva le solicita que encuentre cómo se distribuyen el tiempo de retraso en minutos (esta es la variable `DepDelayMinutes`). Es decir, le preguntan cuál es la distribución de los datos:\n",
    "* ¿Esta es sesgada?\n",
    "* ¿Hay valores atípicos o todo se distribuye uniformemente?"
   ]
  },
  {
   "cell_type": "code",
   "execution_count": null,
   "id": "a0804f7b-a881-4525-af20-056d55390c5a",
   "metadata": {},
   "outputs": [],
   "source": []
  },
  {
   "cell_type": "markdown",
   "id": "c12f102c-6837-443c-bd90-179a724aaadf",
   "metadata": {
    "tags": []
   },
   "source": [
    "La Junta Directiva, además, le pregunta cuál es el porcentaje de vuelos cancelados del total registrado:"
   ]
  },
  {
   "cell_type": "code",
   "execution_count": null,
   "id": "ea08065a-2910-43b0-9083-f6f5312913a1",
   "metadata": {},
   "outputs": [],
   "source": []
  },
  {
   "cell_type": "markdown",
   "id": "a73abcf4-8950-4dbd-838c-535bbe38fd97",
   "metadata": {},
   "source": [
    "Por último, le solicitan que responda a las siguientes preguntas:\n",
    "* ¿Cuál es la ciudad de origen que registra mayor número de vuelos atrasados?\n",
    "* ¿Cuál es la ciudad de origen que registra mayor número de vuelos cancelados?\n",
    "* ¿Cuál es la ciudad de destino que registra mayor número de vuelos atrasados?\n",
    "* ¿Cuál es la ciudad de destino que registra mayor número de vuelos cancelados?\n",
    "* ¿Cuál es la combinación de ciudad origen y destino con mayor número de vuelos atrasados?\n",
    "* ¿Cuál es la combinación de ciudad origen y destino con mayor número de vuelos cancelados?\n",
    "* ¿Aparece algún nombre en particular repetitivamente? ¿Le recomendaría a la Junta Directiva no volar a esa ciudad?"
   ]
  },
  {
   "cell_type": "code",
   "execution_count": null,
   "id": "cb53731d-88bd-4bcf-9d43-b963d3974fb1",
   "metadata": {},
   "outputs": [],
   "source": []
  },
  {
   "cell_type": "markdown",
   "id": "fba7b4d9-9012-4998-86cd-95332bc6f402",
   "metadata": {},
   "source": [
    "# 4. Análisis multivariado"
   ]
  },
  {
   "cell_type": "markdown",
   "id": "087900f4-d7eb-4d28-aef0-30c360af4c13",
   "metadata": {
    "tags": []
   },
   "source": [
    "## 4.1. Tiempo de retraso de vuelo y la fecha del vuelo"
   ]
  },
  {
   "cell_type": "markdown",
   "id": "b9bfeb7d-f48e-4091-a1fa-65fdf86d8915",
   "metadata": {},
   "source": [
    "La Junta Directiva le solicita hacer un gráfico de serie de tiempo (puede ser un gráfico de barras o un gráfico de línea) en el que se encuentre cuál fue el retraso promedio por fecha de vuelo:\n",
    "* ¿Cómo se comporta el retraso promedio a lo largo de los días registrados?\n",
    "* ¿Existe un comportamiento que responde a lógicas que se repiten en el tiempo? Es decir, ¿es periódico y cada cierto tiempo se ve el mismo comportamiento en los datos o no? Explique lo que observa."
   ]
  },
  {
   "cell_type": "code",
   "execution_count": null,
   "id": "8cd62bd6-5f4a-46d7-9f29-d32b14f61095",
   "metadata": {},
   "outputs": [],
   "source": []
  },
  {
   "cell_type": "markdown",
   "id": "ac3eeddc-2c5e-410c-9f03-ff78414d6361",
   "metadata": {},
   "source": [
    "Ahora realice un gráfico de barras con el retraso promedio de los vuelos por días de la semana (Lunes-Domingo):\n",
    "* ¿Hay días que tienen un promedio de retraso mayor que otros? ¿Cuáles?\n",
    "* ¿Los días de semana (Lunes-Viernes) tienen un mayor o menor tiempo de retraso promedio que los días del fin de semana (Sábado-Domingo)?\n",
    "* ¿Qué le recomendaría a la Junta Directiva de acuerdo con esta información?"
   ]
  },
  {
   "cell_type": "code",
   "execution_count": null,
   "id": "755f28a2-b9f4-43c9-894d-f250db79ed9b",
   "metadata": {},
   "outputs": [],
   "source": []
  },
  {
   "cell_type": "markdown",
   "id": "5e3d08f1-e859-4602-8359-f8716ab47e2c",
   "metadata": {},
   "source": [
    "## 4.2. Tiempo de vuelo transcurrido y tiempo de retraso de vuelo"
   ]
  },
  {
   "cell_type": "markdown",
   "id": "c0cdc7b8-5b3f-43e8-be47-0ead9f33a183",
   "metadata": {},
   "source": [
    "Al parecer un loco les dijo que el tiempo de vuelo podría estar relacionado con la demora, pero aún no lo saben con certeza. Aprovechando su contratación, la Junta Directiva le solicita un gráfico de dispersión (_scatterplot_) entre el tiempo de vuelo transcurrido (`ActualElapsedTime`) y el tiempo de retraso del vuelo (`DepDelayMinutes`) para encontrar la relación entre estas dos variables. \n",
    "* ¿Qué puede observar de la gráfica? ¿Existe alguna correlación entre las variables estipuladas?"
   ]
  },
  {
   "cell_type": "code",
   "execution_count": null,
   "id": "0da43dd8-c8f2-47b4-a700-6ddd6d6e79ea",
   "metadata": {},
   "outputs": [],
   "source": []
  },
  {
   "cell_type": "markdown",
   "id": "03d18ede-5cdf-4186-9049-c622cc7f3103",
   "metadata": {},
   "source": [
    "Para confirmar, le solicitan que encuentre la correlación entre el tiempo de retraso (`DepDelayMinutes`) y el tiempo de vuelo transcurrido (`ActualElapsedTime`)."
   ]
  },
  {
   "cell_type": "code",
   "execution_count": null,
   "id": "b1b48ba3-3949-4c54-8622-79513052419c",
   "metadata": {},
   "outputs": [],
   "source": []
  },
  {
   "cell_type": "markdown",
   "id": "cf9c8b73-7030-488c-92bf-750e82862a44",
   "metadata": {},
   "source": [
    "Ahora realice este mismo gráfico con el tipo de aerolínea que opera el vuelo (`Operating_Airline `) como categorización por color:\n",
    "* ¿El retraso en los vuelos depende de la aerolínea que maneja el trayecto?\n",
    "* ¿Cree usted que existe un caso de Paradoja de Simpson?\n",
    "\n",
    " > **Nota:** recuerde que decir que no también es una opción."
   ]
  },
  {
   "cell_type": "code",
   "execution_count": null,
   "id": "f9d7a30a-3a80-483f-996e-5d0012c61a1d",
   "metadata": {
    "tags": []
   },
   "outputs": [],
   "source": []
  },
  {
   "cell_type": "markdown",
   "id": "b65d33f7-e640-45bb-8582-e04228155b2e",
   "metadata": {},
   "source": [
    "De acuerdo con lo observado entre el tiempo de vuelo y el tiempo de retraso,\n",
    "* ¿Qué le recomendaría a la Junta Directiva con esta información?"
   ]
  },
  {
   "cell_type": "markdown",
   "id": "8edfc9f5-5353-4f14-8c9c-07b8604dd00f",
   "metadata": {},
   "source": []
  }
 ],
 "metadata": {
  "kernelspec": {
   "display_name": "Python 3 (ipykernel)",
   "language": "python",
   "name": "python3"
  },
  "language_info": {
   "codemirror_mode": {
    "name": "ipython",
    "version": 3
   },
   "file_extension": ".py",
   "mimetype": "text/x-python",
   "name": "python",
   "nbconvert_exporter": "python",
   "pygments_lexer": "ipython3",
   "version": "3.10.5"
  }
 },
 "nbformat": 4,
 "nbformat_minor": 5
}
