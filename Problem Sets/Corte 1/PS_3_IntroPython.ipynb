{
 "cells": [
  {
   "cell_type": "markdown",
   "metadata": {},
   "source": [
    "# Taller 1: introducción a Python\n",
    "\n",
    "&emsp; **Fundación Universitaria Los Libertadores**. <br>\n",
    "&emsp; **Asignatura:** Big Data. <br>\n",
    "&emsp; **Período:** 2024-II. <br>\n",
    "&emsp;  **Profesor:** Juan Martín Londoño Zuluaga."
   ]
  },
  {
   "cell_type": "markdown",
   "metadata": {},
   "source": [
    "# 1. Teorema de Pitágoras\n",
    "\n",
    "Defina una función que reciba dos parámetros `c1` y `c2` de los catetos de un triángulo y encuentre la medida de la hipotenusa.\n",
    "\n",
    "> Ejemplo de entrada: c1 = 4, c2 = 3\n",
    ">\n",
    "> Ejemplo de salida: h = 5"
   ]
  },
  {
   "cell_type": "code",
   "execution_count": null,
   "metadata": {},
   "outputs": [],
   "source": []
  },
  {
   "cell_type": "markdown",
   "metadata": {},
   "source": [
    "# 2. Función algebráica\n",
    "\n",
    "Defina una función que reciba dos ecuaciones de la forma `ax + by = c` y `dx + ey = f` y que encuentre la solución de `x` y `y`, dado que `a`, `b`, `c`, `d`, `e` y `f` son constantes. Nota: no se puede utilizar la función `solve()`.\n",
    "\n",
    "> Ejemplo de entrada: a = 4, b = 1, c = 4, d = 7, e = 3, f = 6\n",
    ">\n",
    "> Ejemplo de salida: x = 1,2, y = -0,8"
   ]
  },
  {
   "cell_type": "code",
   "execution_count": null,
   "metadata": {},
   "outputs": [],
   "source": []
  },
  {
   "cell_type": "markdown",
   "metadata": {},
   "source": [
    "# 3. Función lorito\n",
    "\n",
    "Defina una función que reciba una cadena de texto e imprima las dos palabras que más se repiten en dicho texto.\n",
    "\n",
    "> Ejemplo de entrada:\n",
    "> \"Muchos años después, frente al pelotón de fusilamiento, el coronel Aureliano Buendía había de recordar aquella tarde remota en que su padre lo llevó a conocer el hielo.\"\n",
    ">\n",
    "> Salida:\n",
    ">\"el\""
   ]
  },
  {
   "cell_type": "code",
   "execution_count": null,
   "metadata": {},
   "outputs": [],
   "source": []
  },
  {
   "cell_type": "markdown",
   "metadata": {},
   "source": [
    "# 4. Contador de primos\n",
    "\n",
    "Defina una función que devuelva la cantidad de números primos que existen hasta un número no negativo que defina el usuario.\n",
    "\n",
    "> Ejemplo de entrada: 10\n",
    ">\n",
    "> Ejemplo de salida: 5"
   ]
  },
  {
   "cell_type": "code",
   "execution_count": null,
   "metadata": {},
   "outputs": [],
   "source": []
  },
  {
   "cell_type": "markdown",
   "metadata": {},
   "source": [
    "# 5. Removedor de letras\n",
    "\n",
    "Defina una función que reciba una cadena de texto y quite las vocales o consonantes, a partir de lo que decida el usuario.\n",
    "\n",
    "> Ejemplo de entrada: \"suculenta\"\n",
    ">\n",
    "> Ejemplo de salida: \"sclnt\" o \"uuea\""
   ]
  },
  {
   "cell_type": "code",
   "execution_count": null,
   "metadata": {},
   "outputs": [],
   "source": []
  },
  {
   "cell_type": "markdown",
   "metadata": {},
   "source": [
    "# 6. Mediana de una lista de números\n",
    "\n",
    "Defina una función que reciba una lista de números y devuelva la mediana de estos.\n",
    "\n",
    "> Ejemplo de entrada: [4, 5, 6, 1, 5, 0, 2, 8]\n",
    ">\n",
    "> Ejemplo de salida: 4.5"
   ]
  },
  {
   "cell_type": "code",
   "execution_count": null,
   "metadata": {},
   "outputs": [],
   "source": []
  }
 ],
 "metadata": {
  "kernelspec": {
   "display_name": "Python 3",
   "language": "python",
   "name": "python3"
  },
  "language_info": {
   "codemirror_mode": {
    "name": "ipython",
    "version": 3
   },
   "file_extension": ".py",
   "mimetype": "text/x-python",
   "name": "python",
   "nbconvert_exporter": "python",
   "pygments_lexer": "ipython3",
   "version": "3.12.2"
  }
 },
 "nbformat": 4,
 "nbformat_minor": 2
}
