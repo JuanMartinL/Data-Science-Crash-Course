{
 "cells": [
  {
   "cell_type": "markdown",
   "metadata": {},
   "source": [
    "# Taller 1: introducción a Python\n",
    "\n",
    "&emsp; **Fundación Universitaria Los Libertadores**. <br>\n",
    "&emsp; **Asignatura:** Big Data. <br>\n",
    "&emsp; **Período:** 2024-II. <br>\n",
    "&emsp;  **Profesor:** Juan Martín Londoño Zuluaga."
   ]
  },
  {
   "cell_type": "markdown",
   "metadata": {},
   "source": [
    "# 1. Teorema de Pitágoras\n",
    "\n",
    "Defina una función que reciba dos parámetros `c1` y `c2` de los catetos de un triángulo y encuentre la medida de la hipotenusa.\n",
    "\n",
    "> Ejemplo de entrada: c1 = 4, c2 = 3\n",
    ">\n",
    "> Ejemplo de salida: h = 5"
   ]
  },
  {
   "cell_type": "code",
   "execution_count": 5,
   "metadata": {},
   "outputs": [
    {
     "data": {
      "text/plain": [
       "53.0"
      ]
     },
     "execution_count": 5,
     "metadata": {},
     "output_type": "execute_result"
    }
   ],
   "source": [
    "# Defining function\n",
    "def pitagoras(c1, c2):\n",
    "    import math\n",
    "    return math.sqrt(c1**2 + c2**2)\n",
    "\n",
    "# Testing\n",
    "c1 = 28\n",
    "c2 = 45\n",
    "\n",
    "pitagoras(c1, c2)"
   ]
  },
  {
   "cell_type": "markdown",
   "metadata": {},
   "source": [
    "# 2. Función algebráica\n",
    "\n",
    "Defina una función que reciba dos ecuaciones de la forma `ax + by = c` y `dx + ey = f` y que encuentre la solución de `x` y `y`, dado que `a`, `b`, `c`, `d`, `e` y `f` son constantes. Nota: no se puede utilizar la función `solve()`.\n",
    "\n",
    "> Ejemplo de entrada: a = 4, b = 1, c = 4, d = 7, e = 3, f = 6\n",
    ">\n",
    "> Ejemplo de salida: x = 1,2, y = -0,8"
   ]
  },
  {
   "cell_type": "code",
   "execution_count": 25,
   "metadata": {},
   "outputs": [
    {
     "name": "stdout",
     "output_type": "stream",
     "text": [
      "La solución del sistema es:\n",
      "\n",
      "x: 1.200\t y:-0.800\n"
     ]
    }
   ],
   "source": [
    "# Defining function\n",
    "def eq_solve(a, b, c, d, e, f):\n",
    "\n",
    "    a = float(a); b = float(b); c = float(c); d = float(d); e = float(e); f = float(f)\n",
    "\n",
    "    # System linear equations determinant\n",
    "    det = a*e - b*d\n",
    "\n",
    "\n",
    "    if det != 0:\n",
    "        # Cramer's Rule\n",
    "        x = (c*e - b*f)/det\n",
    "        y = (a*f - c*d)/det\n",
    "\n",
    "        print(\"La solución del sistema es:\\n\")\n",
    "        print(f\"x: {x:.3f}\\t y:{y:.3f}\") \n",
    "    else:\n",
    "        print(\"El sistema de ecuaciones no tiene solución.\")\n",
    "\n",
    "\n",
    "a = 4; b = 1; c = 4; d = 7; e = 3; f = 6\n",
    "\n",
    "eq_solve(a, b, c, d, e, f)"
   ]
  },
  {
   "cell_type": "markdown",
   "metadata": {},
   "source": [
    "# 3. Función lorito\n",
    "\n",
    "Defina una función que reciba una cadena de texto e imprima las dos palabras que más se repiten en dicho texto.\n",
    "\n",
    "> Ejemplo de entrada:\n",
    "> \"Muchos años después, frente al pelotón de fusilamiento, el coronel Aureliano Buendía había de recordar aquella tarde remota en que su padre lo llevó a conocer el hielo.\"\n",
    ">\n",
    "> Salida:\n",
    ">\"el\""
   ]
  },
  {
   "cell_type": "code",
   "execution_count": 34,
   "metadata": {},
   "outputs": [
    {
     "data": {
      "text/plain": [
       "'de'"
      ]
     },
     "execution_count": 34,
     "metadata": {},
     "output_type": "execute_result"
    }
   ],
   "source": [
    "# Defining function\n",
    "def get_rep_word(txt):\n",
    "\n",
    "    import pandas as pd\n",
    "\n",
    "    # Splitting\n",
    "    txt_list = txt.split()\n",
    "\n",
    "    # Counting\n",
    "    res = {}\n",
    "\n",
    "    for word in txt_list:\n",
    "        res[word] = txt_list.count(word)\n",
    "\n",
    "    return max(res, key = res.get)\n",
    "\n",
    "# Test\n",
    "txt = \"Muchos años después, frente al pelotón de fusilamiento, el coronel Aureliano Buendía había de recordar aquella tarde remota en que su padre lo llevó a conocer el hielo. Macondo era entonces una aldea de veinte casas de barro y cañabrava construidas a la orilla de un río de aguas diáfanas que se precipitaban por un lecho de piedras pulidas, blancas y enormes como huevos prehistóricos.\"\n",
    "\n",
    "get_rep_word(txt)"
   ]
  },
  {
   "cell_type": "markdown",
   "metadata": {},
   "source": [
    "# 4. Contador de primos\n",
    "\n",
    "Defina una función que devuelva la cantidad de números primos que existen hasta un número no negativo que defina el usuario.\n",
    "\n",
    "> Ejemplo de entrada: 10\n",
    ">\n",
    "> Ejemplo de salida: 5"
   ]
  },
  {
   "cell_type": "code",
   "execution_count": 46,
   "metadata": {},
   "outputs": [
    {
     "data": {
      "text/plain": [
       "5"
      ]
     },
     "execution_count": 46,
     "metadata": {},
     "output_type": "execute_result"
    }
   ],
   "source": [
    "# Defining function\n",
    "def number_primes(n):\n",
    "    count = 0\n",
    "    for i in range(2, n+1):\n",
    "        sub_count = 0\n",
    "        for k in range(2, i):\n",
    "            if i % k == 0:\n",
    "                sub_count += 1\n",
    "            \n",
    "        if sub_count == 0:\n",
    "            count += 1\n",
    "        \n",
    "    return count\n",
    "\n",
    "# Test\n",
    "number_primes(n = 12)"
   ]
  },
  {
   "cell_type": "markdown",
   "metadata": {},
   "source": [
    "# 5. Removedor de letras\n",
    "\n",
    "Defina una función que reciba una cadena de texto y quite las vocales o consonantes, a partir de lo que decida el usuario.\n",
    "\n",
    "> Ejemplo de entrada: \"suculenta\"\n",
    ">\n",
    "> Ejemplo de salida: \"sclnt\" o \"uuea\""
   ]
  },
  {
   "cell_type": "code",
   "execution_count": 59,
   "metadata": {},
   "outputs": [
    {
     "data": {
      "text/plain": [
       "'sclnt'"
      ]
     },
     "execution_count": 59,
     "metadata": {},
     "output_type": "execute_result"
    }
   ],
   "source": [
    "# Defining function\n",
    "def get_letters(txt, get):\n",
    "    res = []\n",
    "    if get == \"vocales\":\n",
    "        txt = txt.lower()\n",
    "\n",
    "        for i in txt:\n",
    "            if i in [\"a\", \"e\", \"i\", \"o\", \"u\"]:\n",
    "                res.append(i)\n",
    "            \n",
    "    if get == \"consonantes\":\n",
    "        txt = txt.lower()\n",
    "\n",
    "        for i in txt:\n",
    "            if i not in [\"a\", \"e\", \"i\", \"o\", \"u\"]:\n",
    "                res.append(i)\n",
    "\n",
    "    return \"\".join(res)\n",
    "\n",
    "# Test\n",
    "txt = \"suculenta\"\n",
    "get_letters(txt, get = \"consonantes\")"
   ]
  },
  {
   "cell_type": "markdown",
   "metadata": {},
   "source": [
    "# 6. Mediana de una lista de números\n",
    "\n",
    "Defina una función que reciba una lista de números y devuelva la mediana de estos.\n",
    "\n",
    "> Ejemplo de entrada: [4, 5, 6, 1, 5, 0, 2, 8]\n",
    ">\n",
    "> Ejemplo de salida: 4.5"
   ]
  },
  {
   "cell_type": "code",
   "execution_count": 106,
   "metadata": {},
   "outputs": [
    {
     "data": {
      "text/plain": [
       "4.5"
      ]
     },
     "execution_count": 106,
     "metadata": {},
     "output_type": "execute_result"
    }
   ],
   "source": [
    "# Defining function\n",
    "def mediana(lista):\n",
    "    lista.sort()\n",
    "\n",
    "    if len(lista) % 2 == 0:\n",
    "        nums = lista[(int(len(lista)/2)-1):(int(len(lista)/2)+1)]\n",
    "        med = (nums[0] + nums[1])/2\n",
    "    else:\n",
    "        med = lista[(int(len(lista)/2)):(int(len(lista)/2+1))][0]\n",
    "\n",
    "    return med\n",
    "\n",
    "# Test\n",
    "mediana([4, 5, 6, 1, 5, 0, 2, 8])"
   ]
  }
 ],
 "metadata": {
  "kernelspec": {
   "display_name": "Python 3",
   "language": "python",
   "name": "python3"
  },
  "language_info": {
   "codemirror_mode": {
    "name": "ipython",
    "version": 3
   },
   "file_extension": ".py",
   "mimetype": "text/x-python",
   "name": "python",
   "nbconvert_exporter": "python",
   "pygments_lexer": "ipython3",
   "version": "3.12.2"
  }
 },
 "nbformat": 4,
 "nbformat_minor": 2
}
