{
 "cells": [
  {
   "attachments": {},
   "cell_type": "markdown",
   "id": "b6256282-0f93-44fc-9d65-67ac99f29aab",
   "metadata": {},
   "source": [
    "# Taller 2: introducción a Python"
   ]
  },
  {
   "attachments": {},
   "cell_type": "markdown",
   "id": "814a8438-7253-4732-a9ef-53cf8db2d3e0",
   "metadata": {},
   "source": [
    "&emsp; **Fundación Universitaria Los Libertadores**. <br>\n",
    "&emsp; **Asignatura:** Big Data. <br>\n",
    "&emsp; **Período:** 2023-I. <br>\n",
    "&emsp;  **Profesor:** Juan Martín Londoño Zuluaga."
   ]
  },
  {
   "cell_type": "markdown",
   "id": "d33f1220-d1d8-4ae7-a89f-fbfb00b6dd5b",
   "metadata": {},
   "source": [
    "# 1. Organizador de números"
   ]
  },
  {
   "cell_type": "markdown",
   "id": "c4334058-71b8-4b60-9afd-5fa18a37eee3",
   "metadata": {},
   "source": [
    "Construya un programa que le pregunte tres números a un usuario y los organice de menor a mayor. Por ejemplo, si el usuario ingresa los números 10, 3 y 5, el programa imprima 3, 5 y 10. De la misma manera, si el usuario ingresa los números -5, 4 y 3, el programa imprime -5, 3 y 4."
   ]
  },
  {
   "cell_type": "code",
   "execution_count": 85,
   "id": "e75aac11-8fb6-456a-8a90-eee7ca06c0db",
   "metadata": {},
   "outputs": [],
   "source": [
    "def organizador(x, y, z):\n",
    "\n",
    "    if x <= y:\n",
    "        if x <= z:\n",
    "            if y <= z:\n",
    "                print(x, y, z)\n",
    "            else:\n",
    "                print(x, z, y)\n",
    "        else:\n",
    "            print(z, x, y)\n",
    "    else:\n",
    "        if y <= z:\n",
    "            if x <= z:\n",
    "                print(y, x, z)\n",
    "            else:\n",
    "                print(y, z, x)\n",
    "        else:\n",
    "            print(z, y, x)\n",
    "            "
   ]
  },
  {
   "cell_type": "code",
   "execution_count": 86,
   "id": "28024ffe-b769-4050-9709-a5af7979b0ce",
   "metadata": {},
   "outputs": [
    {
     "name": "stdout",
     "output_type": "stream",
     "text": [
      "0 15 50\n"
     ]
    }
   ],
   "source": [
    "# Testing\n",
    "organizador(50, 0, 15)"
   ]
  },
  {
   "cell_type": "markdown",
   "id": "b4393a76-1dcd-4b86-b14e-658ffa2ab6bc",
   "metadata": {},
   "source": [
    "## 2. Administrador Web"
   ]
  },
  {
   "cell_type": "markdown",
   "id": "205e149d-48e5-4378-8f10-cd3f9e1bfaa6",
   "metadata": {},
   "source": [
    "Escriba un programa en Python que define una variable entera h que guarda la hora (entre 0 y 23 horas). El programa debe pedir a la persona su nombre de usuario. Si el nombre de usuario es \"admin\" debe imprimirse el saludo:\n",
    "\n",
    "> Hola admin. Reporte del estado del servidor disponible.\n",
    "\n",
    "Si, por otro lado, el nombre de usuario no es ’admin’, y la hora est ́a entre 6 y 18, se debe imprimir el siguiente saludo\n",
    "\n",
    "> Hola < nombre > , Bienvenido al servidor . Son las < hora > horas.\n",
    "\n",
    "En donde < nombre > es el nombre ingresado por el usuario y < hora > es el valor de la variable h. En el caso que las situaciones anteriores no se cumplen, el programa debe imprimir el mesaje\n",
    "\n",
    "> Lo siento, son las < hora > horas . No es posible acceder en este horario. Conéctese de nuevo entre las 6:00 y 18:00 horas."
   ]
  },
  {
   "cell_type": "code",
   "execution_count": 3,
   "id": "70117273-a92d-40fe-b8c4-06aa196e30a0",
   "metadata": {},
   "outputs": [
    {
     "name": "stdout",
     "output_type": "stream",
     "text": [
      "Hola, Olafo. Bienvenido al servidor. Son las 15 horas.\n"
     ]
    }
   ],
   "source": [
    "from datetime import datetime\n",
    "\n",
    "# Hour variable\n",
    "h = datetime.now().hour\n",
    "\n",
    "# User name input\n",
    "user = input(\"Nombre de usuario: \")\n",
    "user = user.upper() # Upper case for any error\n",
    "\n",
    "# Printing the messages\n",
    "if user == \"ADMIN\": # First case: admin\n",
    "    print(\"Hola, admin. Reporte del estado del servidor disponible.\")\n",
    "elif (h >= 6) & (h < 18): # Second case: not admin, in valid hours\n",
    "    print(\"Hola, {0}. Bienvenido al servidor. Son las {1} horas.\".format(user.title(), h))\n",
    "else: # Third case: not admin, not in valid hours\n",
    "    print(\"Lo siento. Son las {0} horas. No es posible acceder en este horario. Conéctese de nuevo entre las 6:00 y 18:00 horas.\".format(h)) "
   ]
  },
  {
   "cell_type": "markdown",
   "id": "c49a7bf5-80d8-43fa-bb75-95e1394a802e",
   "metadata": {},
   "source": [
    "# 3. Contador de pares e impares"
   ]
  },
  {
   "cell_type": "markdown",
   "id": "d093a7d2-7ffc-4f54-978d-8b3af9c55b1c",
   "metadata": {},
   "source": [
    "Escriba un programa que cuente la cantidad de números pares e impares de una lista de números. Por ejemplo, si la lista es:\n",
    "\n",
    "> [1, 3, 6, 7, 9, 10]\n",
    "\n",
    "Debe imprimir\n",
    "\n",
    "> Cantidad de números pares: 2.\n",
    "\n",
    "> Cantidad de números impares: 4."
   ]
  },
  {
   "cell_type": "code",
   "execution_count": 17,
   "id": "c772c860-42c2-45ea-93a1-08f0704f67c8",
   "metadata": {},
   "outputs": [],
   "source": [
    "def cont_par_impar(lista):\n",
    "    \n",
    "    pares = 0\n",
    "    impares = 0\n",
    "    \n",
    "    for num in lista:\n",
    "        \n",
    "        if type(num) == int or type(num) == float:\n",
    "            if num % 2 == 0:\n",
    "                pares = pares + 1\n",
    "            else:\n",
    "                impares = impares + 1\n",
    "        else:\n",
    "            print(\"El elemento -{0}- no es de tipo numérico.\".format(num))\n",
    "            return # Stops the loop\n",
    "        \n",
    "    print(\"Cantidad de números pares: {0} \\nCantidad de números impares: {1}\".format(pares, impares))\n"
   ]
  },
  {
   "cell_type": "code",
   "execution_count": 19,
   "id": "dbf2c6fb-a2f0-4ba0-862b-d96931cd4180",
   "metadata": {},
   "outputs": [
    {
     "name": "stdout",
     "output_type": "stream",
     "text": [
      "Cantidad de números pares: 2 \n",
      "Cantidad de números impares: 4\n"
     ]
    }
   ],
   "source": [
    "# Testing\n",
    "lista = [1, 3, 6, 7, 9, 10]\n",
    "\n",
    "cont_par_impar(lista)"
   ]
  },
  {
   "cell_type": "markdown",
   "id": "dcc368b8-dad8-4518-8843-93244061d78c",
   "metadata": {},
   "source": [
    "# 4. Calculadora de temperatura"
   ]
  },
  {
   "cell_type": "markdown",
   "id": "3e3185f8-1a85-48ee-b6a5-a2c23d3bfb87",
   "metadata": {},
   "source": [
    "Construya una **función** que reciba una temperatura en grados celsius y devuelva la temperatura en grados fahrenheit. Por ejemplo, \n",
    "\n",
    "> `c2f(100) = 212`\n",
    "\n",
    "**Nota:** puede devolver el número nada más."
   ]
  },
  {
   "cell_type": "code",
   "execution_count": 20,
   "id": "e5c38a32-3ffe-4b9b-b986-053ce6c34d64",
   "metadata": {},
   "outputs": [],
   "source": [
    "def c2f(temp):\n",
    "    res = temp * (9/5) + 32\n",
    "    return res"
   ]
  },
  {
   "cell_type": "code",
   "execution_count": 22,
   "id": "4c04bca8-440b-4f5c-884c-194a6b4ae6e4",
   "metadata": {},
   "outputs": [
    {
     "data": {
      "text/plain": [
       "32.0"
      ]
     },
     "execution_count": 22,
     "metadata": {},
     "output_type": "execute_result"
    }
   ],
   "source": [
    "# Testing\n",
    "c2f(0)"
   ]
  },
  {
   "cell_type": "markdown",
   "id": "479c87ea-4163-4f48-ad9a-9c5478bcf7aa",
   "metadata": {},
   "source": [
    "# 5. Conversión de meses"
   ]
  },
  {
   "cell_type": "markdown",
   "id": "96fe4eac-fd5c-483b-ae3d-51284bf15d49",
   "metadata": {},
   "source": [
    "Construya una función que reciba el número del mes y devuelva el nombre del mes y que si coloca un número mayor a 12 o menor a 0 devuelva un `none`. Por ejemplo, \n",
    "\n",
    "> `month_convert(12) = \"Diciembre\"`\n",
    "\n",
    "> `month_convert(13) = None`"
   ]
  },
  {
   "cell_type": "code",
   "execution_count": 11,
   "id": "bb137b28-d118-41dc-8031-207908ccadc3",
   "metadata": {},
   "outputs": [],
   "source": [
    "def month_converter(mes):\n",
    "    if mes == 1:\n",
    "        return \"Enero\"\n",
    "    elif mes == 2:\n",
    "        return \"Febrero\"\n",
    "    elif mes == 3:\n",
    "        return \"Marzo\"\n",
    "    elif mes == 4:\n",
    "        return \"Abril\"\n",
    "    elif mes == 5:\n",
    "        return \"Mayo\"\n",
    "    elif mes == 6:\n",
    "        return \"Junio\"\n",
    "    elif mes == 7:\n",
    "        return \"Julio\"\n",
    "    elif mes == 8:\n",
    "        return \"Agosto\"\n",
    "    elif mes == 9:\n",
    "        return \"Septiembre\"\n",
    "    elif mes == 10:\n",
    "        return \"Octubre\"\n",
    "    elif mes == 11:\n",
    "        return \"Noviembre\"\n",
    "    elif mes == 12:\n",
    "        return \"Diciembre\"\n",
    "    else:\n",
    "        return None"
   ]
  },
  {
   "cell_type": "code",
   "execution_count": 12,
   "id": "bcb5a083",
   "metadata": {},
   "outputs": [
    {
     "name": "stdout",
     "output_type": "stream",
     "text": [
      "-1 None\n",
      "0 None\n",
      "1 Enero\n",
      "2 Febrero\n",
      "3 Marzo\n",
      "4 Abril\n",
      "5 Mayo\n",
      "6 Junio\n",
      "7 Julio\n",
      "8 Agosto\n",
      "9 Septiembre\n",
      "10 Octubre\n",
      "11 Noviembre\n",
      "12 Diciembre\n",
      "13 None\n"
     ]
    }
   ],
   "source": [
    "# Testing\n",
    "for i in range(-1, 14):\n",
    "    print(i, month_converter(i))"
   ]
  },
  {
   "cell_type": "markdown",
   "id": "acc0488d-e75b-4320-8bef-e6c62f753c9d",
   "metadata": {},
   "source": [
    "# 6. Identificador de primos"
   ]
  },
  {
   "cell_type": "markdown",
   "id": "bb361985-05a5-4aa8-b315-7875aef4cb7c",
   "metadata": {},
   "source": [
    "Escriba una función que identifique si un número ingresado es primo o no. Por ejemplo, \n",
    "\n",
    "> `isPrime(11) = True`\n",
    "\n",
    "> `isPrime(6) = False`"
   ]
  },
  {
   "cell_type": "code",
   "execution_count": 9,
   "id": "246da45e-1fb1-4c1a-9829-f296cf9132e1",
   "metadata": {},
   "outputs": [],
   "source": [
    "def isPrime(num):\n",
    "    res = True\n",
    "    \n",
    "    for div in range(2, num): # Number 1 and the number itself are excluded\n",
    "        if num % div == 0:\n",
    "            res = False\n",
    "    \n",
    "    return res"
   ]
  },
  {
   "cell_type": "code",
   "execution_count": 83,
   "id": "f7b6c2f7-b991-4658-a80d-471ceec4fb5e",
   "metadata": {},
   "outputs": [
    {
     "name": "stdout",
     "output_type": "stream",
     "text": [
      "1 True\n",
      "2 True\n",
      "3 True\n",
      "4 False\n",
      "5 True\n",
      "6 False\n",
      "7 True\n",
      "8 False\n",
      "9 False\n",
      "10 False\n",
      "11 True\n",
      "12 False\n",
      "13 True\n",
      "14 False\n",
      "15 False\n",
      "16 False\n",
      "17 True\n",
      "18 False\n",
      "19 True\n",
      "20 False\n"
     ]
    }
   ],
   "source": [
    "# Testing\n",
    "for i in range(1, 21):\n",
    "    print(i, isPrime(i))"
   ]
  },
  {
   "cell_type": "markdown",
   "id": "a7204b11-b26e-4b5c-9cbc-b0d422b8750b",
   "metadata": {},
   "source": [
    "# 7. Identificador de palíndromos"
   ]
  },
  {
   "cell_type": "markdown",
   "id": "ae03c828-1253-4c42-b1f6-ea664373c258",
   "metadata": {},
   "source": [
    "Escriba una función que reconozca si una cadena de de caracteres es palíndromo. Un palíndromo es una palabra que se escriba igual al derecho y al revés. Por ejemplo,\n",
    "\n",
    "> `isPalindrome(\"revidiver\") = True`\n",
    "\n",
    "> `isPalindrome(\"apple\") = False`"
   ]
  },
  {
   "cell_type": "code",
   "execution_count": 41,
   "metadata": {},
   "outputs": [],
   "source": [
    "def isPalindrome(word):\n",
    "    # Standardrizing the word\n",
    "    word = word.upper()\n",
    "\n",
    "    # Defining the variable\n",
    "    res = True\n",
    "\n",
    "    for i in range(0, len(word)):\n",
    "        # print(i, word[i] , word[-i - 1])\n",
    "\n",
    "        # if not palindrome, then false\n",
    "        if word[i] != word[-i - 1]:\n",
    "            res = False\n",
    "\n",
    "    return res\n",
    "    "
   ]
  },
  {
   "cell_type": "code",
   "execution_count": 45,
   "id": "8c91757a-f53c-4dd3-9c3e-942109c6fc48",
   "metadata": {},
   "outputs": [
    {
     "name": "stdout",
     "output_type": "stream",
     "text": [
      "apple   \t False\n",
      "reVidiver   \t True\n",
      "hello   \t False\n",
      "ANilina   \t True\n"
     ]
    }
   ],
   "source": [
    "# Test\n",
    "lst = [\"apple\", \"reVidiver\", \"hello\", \"ANilina\"]\n",
    "\n",
    "for word in lst:\n",
    "    print(word, \"  \\t\", isPalindrome(word))"
   ]
  },
  {
   "cell_type": "markdown",
   "id": "e477cef4-629c-494f-9ab9-6ee899ad3a4c",
   "metadata": {},
   "source": [
    "# 8. Contador de subcadenas"
   ]
  },
  {
   "cell_type": "markdown",
   "id": "fec17e09-3904-4fe8-8995-c902116d26b3",
   "metadata": {},
   "source": [
    "Escriba una función que cuente las veces que se encuentra una subcadena en una cadena. Por ejemplo,\n",
    "\n",
    "> `count_cad(\"an\", \"banana\") = 2`\n",
    "\n",
    "> `count_cad(\"tr\", \"trestristrestigres\") = 3`"
   ]
  },
  {
   "cell_type": "code",
   "execution_count": 78,
   "id": "4cd0337d-8ed0-4b93-8879-43924b3e8e47",
   "metadata": {},
   "outputs": [],
   "source": [
    "def count_cad(substr, string):\n",
    "\n",
    "    # Converting the strings so no typo due to case is present\n",
    "    substr = substr.upper()\n",
    "    string = string.upper()\n",
    "    \n",
    "    # Counter variable\n",
    "    counter = 0\n",
    "\n",
    "    # A loop to check each substring conbination\n",
    "    for i in range(0, len(string) + 1):\n",
    "        #print(i)\n",
    "        #print(string[i : i +  len(substr)])\n",
    "\n",
    "        # If any string matchs, the counter variable update +1\n",
    "        if string[i : i +  len(substr)] == substr:\n",
    "            counter += 1\n",
    "\n",
    "    if counter == 0:\n",
    "        return \"The string doesn't contain the substring.\"\n",
    "    else:\n",
    "        return counter\n"
   ]
  },
  {
   "cell_type": "code",
   "execution_count": 79,
   "id": "c508944a",
   "metadata": {},
   "outputs": [
    {
     "data": {
      "text/plain": [
       "2"
      ]
     },
     "execution_count": 79,
     "metadata": {},
     "output_type": "execute_result"
    }
   ],
   "source": [
    "substr = \"an\"\n",
    "string = \"banana\"\n",
    "\n",
    "count_cad(substr, string)"
   ]
  },
  {
   "cell_type": "markdown",
   "id": "46ba9d06-eda3-4fa2-86c1-63df561f6d87",
   "metadata": {},
   "source": [
    "# 9. Volteador de cadenas"
   ]
  },
  {
   "cell_type": "markdown",
   "id": "7676ca12-23db-403c-b98e-66195cd2e9c9",
   "metadata": {},
   "source": [
    "Escriba una función que reciba una cadena de palabras y la escriba al revés. Por ejemplo,\n",
    "\n",
    "> `volteaCadenas(\"BadBunnyBaby\") = \"ybaBynnuBdaB\"`"
   ]
  },
  {
   "cell_type": "code",
   "execution_count": 46,
   "id": "65cf259b-3d51-4f16-b098-a2a668662466",
   "metadata": {},
   "outputs": [],
   "source": [
    "# Method 1\n",
    "def volteaCadenas(word):\n",
    "    return word[: : -1]"
   ]
  },
  {
   "cell_type": "code",
   "execution_count": 47,
   "id": "374325e6",
   "metadata": {},
   "outputs": [
    {
     "data": {
      "text/plain": [
       "'ynnuBdaB'"
      ]
     },
     "execution_count": 47,
     "metadata": {},
     "output_type": "execute_result"
    }
   ],
   "source": [
    "volteaCadenas(\"BadBunny\")"
   ]
  },
  {
   "cell_type": "code",
   "execution_count": 48,
   "id": "cb965414",
   "metadata": {},
   "outputs": [],
   "source": [
    "# Method 2\n",
    "def volteaCadenas(word):\n",
    "\n",
    "    # Create an empty string variable\n",
    "    r_word = \"\"\n",
    "\n",
    "    # Reverse the characters\n",
    "    for car in word:\n",
    "        r_word = car + r_word\n",
    "    \n",
    "    return r_word"
   ]
  },
  {
   "cell_type": "code",
   "execution_count": 49,
   "id": "a2c8742f",
   "metadata": {},
   "outputs": [
    {
     "data": {
      "text/plain": [
       "'sodniL sotijO'"
      ]
     },
     "execution_count": 49,
     "metadata": {},
     "output_type": "execute_result"
    }
   ],
   "source": [
    "volteaCadenas(\"Ojitos Lindos\")"
   ]
  },
  {
   "cell_type": "code",
   "execution_count": 50,
   "id": "52ddc468",
   "metadata": {},
   "outputs": [],
   "source": [
    "# Method 3\n",
    "def volteaCadenas(word):\n",
    "    return \"\".join(reversed(word))"
   ]
  },
  {
   "cell_type": "code",
   "execution_count": 51,
   "id": "31b899e8",
   "metadata": {},
   "outputs": [
    {
     "data": {
      "text/plain": [
       "'ytraP'"
      ]
     },
     "execution_count": 51,
     "metadata": {},
     "output_type": "execute_result"
    }
   ],
   "source": [
    "volteaCadenas(\"Party\")"
   ]
  },
  {
   "cell_type": "markdown",
   "id": "cde431c0-a4ec-421f-8f05-21ceb9b3fa34",
   "metadata": {},
   "source": [
    "# 10. Elimina-duplicados"
   ]
  },
  {
   "cell_type": "markdown",
   "id": "a98d5a04-d224-459a-b72f-534388c11243",
   "metadata": {},
   "source": [
    "Escriba una función que reciba una lista con elementos y elimine los elementos que estén duplicados. Por ejemplo,\n",
    "\n",
    "> `lst = [1, \"hola\", 2, 3, 1, \"hola\", \"hola\"]`\n",
    "\n",
    "> `dropDuplicates(lst) = [1, \"hola\", 2, 3]`"
   ]
  },
  {
   "cell_type": "code",
   "execution_count": 53,
   "id": "3280a7c0-3dd6-4c28-bc77-b6631569a449",
   "metadata": {},
   "outputs": [],
   "source": [
    "def dropDuplicates(lst):\n",
    "\n",
    "    # Creating a new list for the unique elements\n",
    "    new_lst = []\n",
    "\n",
    "    # A loop to check if the elements are in the new list\n",
    "    for element in lst:\n",
    "        if element not in new_lst:\n",
    "            # Add if not\n",
    "            new_lst.append(element)\n",
    "\n",
    "    return new_lst"
   ]
  },
  {
   "cell_type": "code",
   "execution_count": 54,
   "id": "772d3a48",
   "metadata": {},
   "outputs": [
    {
     "data": {
      "text/plain": [
       "[1, 'hola', 2, 3]"
      ]
     },
     "execution_count": 54,
     "metadata": {},
     "output_type": "execute_result"
    }
   ],
   "source": [
    "lst = [1, \"hola\", 2, 3, 1, \"hola\", \"hola\"]\n",
    "\n",
    "dropDuplicates(lst)"
   ]
  },
  {
   "cell_type": "markdown",
   "id": "d886ac93-f313-49e9-b110-eab0a8358641",
   "metadata": {},
   "source": [
    "# 11. Impresora de múltiplos"
   ]
  },
  {
   "cell_type": "markdown",
   "id": "68fdc223-3304-4be0-8e89-1aedd2494801",
   "metadata": {},
   "source": [
    "Escriba una función que imprima todos los números hasta un número `n` que sean múltiplos de otro número `k`. Por ejemplo,\n",
    "\n",
    "> `impMultiplos(11, 3)`\n",
    "\n",
    "> `[out] 3, 6, 9`"
   ]
  },
  {
   "cell_type": "code",
   "execution_count": 65,
   "id": "d23359e1-25f0-4d3c-ae06-d500f245ce4a",
   "metadata": {},
   "outputs": [],
   "source": [
    "def impMultiplos(n, k):\n",
    "\n",
    "    # Create an empty list for the multiples\n",
    "    mult = []\n",
    "\n",
    "    # A loop to check the multiples of k in the numbers to n\n",
    "    for num in range(1, n + 1):\n",
    "        if num % k == 0:\n",
    "            mult.append(num)\n",
    "\n",
    "    if len(mult) == 0:\n",
    "        return \"No multiples are found.\"\n",
    "    else:\n",
    "        return  mult"
   ]
  },
  {
   "cell_type": "code",
   "execution_count": 67,
   "id": "8dc911f9",
   "metadata": {},
   "outputs": [
    {
     "data": {
      "text/plain": [
       "[3, 6, 9]"
      ]
     },
     "execution_count": 67,
     "metadata": {},
     "output_type": "execute_result"
    }
   ],
   "source": [
    "impMultiplos(n = 11, k = 3)"
   ]
  }
 ],
 "metadata": {
  "kernelspec": {
   "display_name": "Python 3",
   "language": "python",
   "name": "python3"
  },
  "language_info": {
   "codemirror_mode": {
    "name": "ipython",
    "version": 3
   },
   "file_extension": ".py",
   "mimetype": "text/x-python",
   "name": "python",
   "nbconvert_exporter": "python",
   "pygments_lexer": "ipython3",
   "version": "3.10.5"
  },
  "vscode": {
   "interpreter": {
    "hash": "bc1d44bc0bd592bad8cc7ba1e1e514470dc5ad25cb613275d48eb56066632d77"
   }
  }
 },
 "nbformat": 4,
 "nbformat_minor": 5
}
