{
 "cells": [
  {
   "cell_type": "markdown",
   "id": "b6256282-0f93-44fc-9d65-67ac99f29aab",
   "metadata": {},
   "source": [
    "# Taller 1: introducción a Python"
   ]
  },
  {
   "cell_type": "markdown",
   "id": "814a8438-7253-4732-a9ef-53cf8db2d3e0",
   "metadata": {},
   "source": [
    "&emsp; **Fundación Universitaria Los Libertadores**. <br>\n",
    "&emsp; **Asignatura:** Big Data. <br>\n",
    "&emsp; **Período:** 2022-I. <br>\n",
    "&emsp;  **Profesor:** Juan Martín Londoño Zuluaga."
   ]
  },
  {
   "cell_type": "markdown",
   "id": "d33f1220-d1d8-4ae7-a89f-fbfb00b6dd5b",
   "metadata": {},
   "source": [
    "# 1. Organizador de números"
   ]
  },
  {
   "cell_type": "markdown",
   "id": "c4334058-71b8-4b60-9afd-5fa18a37eee3",
   "metadata": {},
   "source": [
    "Construya un programa que le pregunte tres números a un usuario y los organice de menor a mayor. Por ejemplo, si el usuario ingresa los números 10, 3 y 5, el programa imprima 3, 5 y 10. De la misma manera, si el usuario ingresa los números -5, 4 y 3, el programa imprime -5, 3 y 4."
   ]
  },
  {
   "cell_type": "code",
   "execution_count": null,
   "id": "e75aac11-8fb6-456a-8a90-eee7ca06c0db",
   "metadata": {},
   "outputs": [],
   "source": []
  },
  {
   "cell_type": "markdown",
   "id": "b4393a76-1dcd-4b86-b14e-658ffa2ab6bc",
   "metadata": {},
   "source": [
    "## 2. Administrador Web"
   ]
  },
  {
   "cell_type": "markdown",
   "id": "205e149d-48e5-4378-8f10-cd3f9e1bfaa6",
   "metadata": {},
   "source": [
    "Escriba un programa en Python que define una variable entera h que guarda la hora (entre 0 y 23 horas). El programa debe pedir a la persona su nombre de usuario. Si el nombre de usuario es \"admin\" debe imprimirse el saludo:\n",
    "\n",
    "> Hola admin. Reporte del estado del servidor disponible.\n",
    "\n",
    "Si, por otro lado, el nombre de usuario no es ’admin’, y la hora est ́a entre 6 y 18, se debe imprimir el siguiente saludo\n",
    "\n",
    "> Hola < nombre > , Bienvenido al servidor . Son las < hora > horas.\n",
    "\n",
    "En donde < nombre > es el nombre ingresado por el usuario y < hora > es el valor de la variable h. En el caso que las situaciones anteriores no se cumplen, el programa debe imprimir el mesaje\n",
    "\n",
    "> Lo siento, son las < hora > horas . No es posible acceder en este horario. Conéctese de nuevo entre las 6:00 y 18:00 horas."
   ]
  },
  {
   "cell_type": "code",
   "execution_count": null,
   "id": "70117273-a92d-40fe-b8c4-06aa196e30a0",
   "metadata": {},
   "outputs": [],
   "source": []
  },
  {
   "cell_type": "markdown",
   "id": "c49a7bf5-80d8-43fa-bb75-95e1394a802e",
   "metadata": {},
   "source": [
    "# 3. Contador de pares e impares"
   ]
  },
  {
   "cell_type": "markdown",
   "id": "d093a7d2-7ffc-4f54-978d-8b3af9c55b1c",
   "metadata": {},
   "source": [
    "Escriba un programa que cuente la cantidad de números pares e impares de una lista de números. Por ejemplo, si la lista es:\n",
    "\n",
    "> [1, 3, 6, 7, 9, 10]\n",
    "\n",
    "Debe imprimir\n",
    "\n",
    "> Cantidad de números pares: 2.\n",
    "\n",
    "> Cantidad de números impares: 4."
   ]
  },
  {
   "cell_type": "code",
   "execution_count": null,
   "id": "c772c860-42c2-45ea-93a1-08f0704f67c8",
   "metadata": {},
   "outputs": [],
   "source": []
  },
  {
   "cell_type": "markdown",
   "id": "dcc368b8-dad8-4518-8843-93244061d78c",
   "metadata": {},
   "source": [
    "# 4. Calculadora de temperatura"
   ]
  },
  {
   "cell_type": "markdown",
   "id": "3e3185f8-1a85-48ee-b6a5-a2c23d3bfb87",
   "metadata": {},
   "source": [
    "Construya una **función** que reciba una temperatura en grados celsius y devuelva la temperatura en grados fahrenheit. Por ejemplo, \n",
    "\n",
    "> `c2f(100) = 212`\n",
    "\n",
    "**Nota:** puede devolver el número nada más."
   ]
  },
  {
   "cell_type": "code",
   "execution_count": null,
   "id": "e5c38a32-3ffe-4b9b-b986-053ce6c34d64",
   "metadata": {},
   "outputs": [],
   "source": []
  },
  {
   "cell_type": "markdown",
   "id": "479c87ea-4163-4f48-ad9a-9c5478bcf7aa",
   "metadata": {},
   "source": [
    "# 5. Conversión de meses"
   ]
  },
  {
   "cell_type": "markdown",
   "id": "96fe4eac-fd5c-483b-ae3d-51284bf15d49",
   "metadata": {},
   "source": [
    "Construya una función que reciba el número del mes y devuelva el nombre del mes y que si coloca un número mayor a 12 o menor a 0 devuelva un `none`. Por ejemplo, \n",
    "\n",
    "> `month_convert(12) = \"Diciembre\"`\n",
    "\n",
    "> `month_convert(13) = None`"
   ]
  },
  {
   "cell_type": "code",
   "execution_count": null,
   "id": "bb137b28-d118-41dc-8031-207908ccadc3",
   "metadata": {},
   "outputs": [],
   "source": []
  },
  {
   "cell_type": "markdown",
   "id": "acc0488d-e75b-4320-8bef-e6c62f753c9d",
   "metadata": {},
   "source": [
    "# 6. Identificador de primos"
   ]
  },
  {
   "cell_type": "markdown",
   "id": "bb361985-05a5-4aa8-b315-7875aef4cb7c",
   "metadata": {},
   "source": [
    "Escriba una función que identifique si un número ingresado es primo o no. Por ejemplo, \n",
    "\n",
    "> `isPrime(11) = True`\n",
    "\n",
    "> `isPrime(6) = False`"
   ]
  },
  {
   "cell_type": "code",
   "execution_count": null,
   "id": "246da45e-1fb1-4c1a-9829-f296cf9132e1",
   "metadata": {},
   "outputs": [],
   "source": []
  },
  {
   "cell_type": "markdown",
   "id": "a7204b11-b26e-4b5c-9cbc-b0d422b8750b",
   "metadata": {},
   "source": [
    "# 7. Identificador de palíndromos"
   ]
  },
  {
   "cell_type": "markdown",
   "id": "ae03c828-1253-4c42-b1f6-ea664373c258",
   "metadata": {},
   "source": [
    "Escriba una función que reconozca si una cadena de de caracteres es palíndromo. Un palíndromo es una palabra que se escriba igual al derecho y al revés. Por ejemplo,\n",
    "\n",
    "> `isPalindrome(\"revidiver\") = True`\n",
    "\n",
    "> `isPalindrome(\"apple\") = False`"
   ]
  },
  {
   "cell_type": "code",
   "execution_count": null,
   "id": "8c91757a-f53c-4dd3-9c3e-942109c6fc48",
   "metadata": {},
   "outputs": [],
   "source": []
  },
  {
   "cell_type": "markdown",
   "id": "e477cef4-629c-494f-9ab9-6ee899ad3a4c",
   "metadata": {},
   "source": [
    "# 8. Contador de subcadenas"
   ]
  },
  {
   "cell_type": "markdown",
   "id": "fec17e09-3904-4fe8-8995-c902116d26b3",
   "metadata": {},
   "source": [
    "Escriba una función que cuente las veces que se encuentra una subcadena en una cadena. Por ejemplo,\n",
    "\n",
    "> `count_cad(\"an\", \"banana\") = 2`\n",
    "\n",
    "> `count_cad(\"tr\", \"trestristrestigres\") = 3`"
   ]
  },
  {
   "cell_type": "code",
   "execution_count": null,
   "id": "4cd0337d-8ed0-4b93-8879-43924b3e8e47",
   "metadata": {},
   "outputs": [],
   "source": []
  },
  {
   "cell_type": "markdown",
   "id": "46ba9d06-eda3-4fa2-86c1-63df561f6d87",
   "metadata": {},
   "source": [
    "# 9. Volteador de cadenas"
   ]
  },
  {
   "cell_type": "markdown",
   "id": "7676ca12-23db-403c-b98e-66195cd2e9c9",
   "metadata": {},
   "source": [
    "Escriba una función que reciba una cadena de palabras y la escriba al revés. Por ejemplo,\n",
    "\n",
    "> `volteaCadenas(\"BadBunnyBaby\") = \"ybaBynnuBdaB\"`"
   ]
  },
  {
   "cell_type": "code",
   "execution_count": null,
   "id": "65cf259b-3d51-4f16-b098-a2a668662466",
   "metadata": {},
   "outputs": [],
   "source": []
  },
  {
   "cell_type": "markdown",
   "id": "cde431c0-a4ec-421f-8f05-21ceb9b3fa34",
   "metadata": {},
   "source": [
    "# 10. Elimina-duplicados"
   ]
  },
  {
   "cell_type": "markdown",
   "id": "a98d5a04-d224-459a-b72f-534388c11243",
   "metadata": {},
   "source": [
    "Escriba una función que reciba una lista con elementos y elimine los elementos que estén duplicados. Por ejemplo,\n",
    "\n",
    "> `lst = [1, \"hola\", 2, 3, 1, \"hola\", \"hola\"]`\n",
    "\n",
    "> `dropDuplicates(lst) = [1, \"hola\", 2, 3]`"
   ]
  },
  {
   "cell_type": "code",
   "execution_count": null,
   "id": "3280a7c0-3dd6-4c28-bc77-b6631569a449",
   "metadata": {},
   "outputs": [],
   "source": []
  },
  {
   "cell_type": "markdown",
   "id": "d886ac93-f313-49e9-b110-eab0a8358641",
   "metadata": {},
   "source": [
    "# 11. Impresora de múltiplos"
   ]
  },
  {
   "cell_type": "markdown",
   "id": "68fdc223-3304-4be0-8e89-1aedd2494801",
   "metadata": {},
   "source": [
    "Escriba una función que imprima todos los números hasta un número `n` que sean múltiplos de otro número `k`. Por ejemplo,\n",
    "\n",
    "> `impMultiplos(11, 3)`\n",
    "\n",
    "> `[out] 3, 6, 9`"
   ]
  },
  {
   "cell_type": "code",
   "execution_count": null,
   "id": "d23359e1-25f0-4d3c-ae06-d500f245ce4a",
   "metadata": {},
   "outputs": [],
   "source": []
  }
 ],
 "metadata": {
  "kernelspec": {
   "display_name": "Python 3 (ipykernel)",
   "language": "python",
   "name": "python3"
  },
  "language_info": {
   "codemirror_mode": {
    "name": "ipython",
    "version": 3
   },
   "file_extension": ".py",
   "mimetype": "text/x-python",
   "name": "python",
   "nbconvert_exporter": "python",
   "pygments_lexer": "ipython3",
   "version": "3.10.5"
  }
 },
 "nbformat": 4,
 "nbformat_minor": 5
}
