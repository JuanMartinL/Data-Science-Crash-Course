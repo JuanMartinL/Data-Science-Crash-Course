{
 "cells": [
  {
   "cell_type": "markdown",
   "id": "6cd29260-872c-4142-be20-0276e9baaf86",
   "metadata": {},
   "source": [
    "# Problem Set 1: Introducción a Python"
   ]
  },
  {
   "cell_type": "markdown",
   "id": "da20d0b1-1837-4374-aab3-c35923991a26",
   "metadata": {},
   "source": [
    "&emsp; **Fundación Universitaria Los Libertadores**. <br>\n",
    "&emsp; **Asignatura:** Big Data. <br>\n",
    "&emsp; **Período:** 2022-II. <br>\n",
    "&emsp; **Profesor:** Juan Martín Londoño Zuluaga."
   ]
  },
  {
   "cell_type": "markdown",
   "id": "78d724c0-1eaf-4c30-9c7b-a1fc00e86fb5",
   "metadata": {},
   "source": [
    "# 1. Operaciones básicas"
   ]
  },
  {
   "cell_type": "markdown",
   "id": "46174fd3-aa76-49ac-8ab2-c3553dd13467",
   "metadata": {},
   "source": [
    "Encuentre los resultados de las siguientes operaciones:"
   ]
  },
  {
   "cell_type": "markdown",
   "id": "072774ae-2259-4544-98f9-7bdfbdf1f97a",
   "metadata": {},
   "source": [
    "$$ x = \\sqrt{ \\frac{1}{2}* e} $$"
   ]
  },
  {
   "cell_type": "code",
   "execution_count": null,
   "id": "b3a67d7a-fa3e-4c49-b11d-f9db44879b85",
   "metadata": {},
   "outputs": [],
   "source": []
  },
  {
   "cell_type": "markdown",
   "id": "f901f021-604d-4b06-bed2-31bc65c3c7cf",
   "metadata": {},
   "source": [
    "$$ y = \\left[\\left(\\frac{1}{2} * 18\\right) + \\sqrt{121}\\right]^2 $$"
   ]
  },
  {
   "cell_type": "code",
   "execution_count": null,
   "id": "c734da2d-a948-4d37-842f-a63313b126fc",
   "metadata": {},
   "outputs": [],
   "source": []
  },
  {
   "cell_type": "markdown",
   "id": "06db6175-d38c-4ef8-a61e-dd45a3b36672",
   "metadata": {},
   "source": [
    "$$ z = 20^2 * 0.5^2$$"
   ]
  },
  {
   "cell_type": "code",
   "execution_count": null,
   "id": "1ea611ec-026a-401e-b6be-2a1c2683e1e7",
   "metadata": {},
   "outputs": [],
   "source": []
  },
  {
   "cell_type": "markdown",
   "id": "2a438d2a-7325-405e-b9c0-cf10bec75dd3",
   "metadata": {},
   "source": [
    "$$ v = \\frac{10*\\frac{1}{2} + 50*1.5}{2^2} $$"
   ]
  },
  {
   "cell_type": "code",
   "execution_count": null,
   "id": "058c5da0-c5ff-4794-8039-4d54baebd4db",
   "metadata": {},
   "outputs": [],
   "source": []
  },
  {
   "cell_type": "markdown",
   "id": "05f846c9-bd3c-48fd-9f10-b63fddba5b80",
   "metadata": {},
   "source": [
    "$$ t = (y * v)^{z/50} $$"
   ]
  },
  {
   "cell_type": "code",
   "execution_count": null,
   "id": "42363dd9-01b8-4c66-b784-e4d11cd76028",
   "metadata": {},
   "outputs": [],
   "source": []
  },
  {
   "cell_type": "markdown",
   "id": "2e4d8f8d-3ef0-4da8-a5dc-5331d3a16e04",
   "metadata": {},
   "source": [
    "# 2. Strings: Tití me preguntó"
   ]
  },
  {
   "cell_type": "markdown",
   "id": "40030284-b454-4b0a-988f-023de82cf818",
   "metadata": {},
   "source": [
    "Tome la frase que una vez pronunció el filósofo moderno Benito Martínez Ocasio:"
   ]
  },
  {
   "cell_type": "code",
   "execution_count": 24,
   "id": "04fdc294-e0d6-4fe1-ba44-65c00f084026",
   "metadata": {},
   "outputs": [],
   "source": [
    "lyrics = \"Ey, Tití me preguntó Si tengo muchas novia' Muchas novia' Hoy tengo a una, mañana otra Ey, pero no hay boda\""
   ]
  },
  {
   "cell_type": "markdown",
   "id": "b5ccfec7-6143-4c85-a105-c1cf789036e7",
   "metadata": {},
   "source": [
    "Cambié la palabra \"Tití\" por \"mi amá\":"
   ]
  },
  {
   "cell_type": "code",
   "execution_count": null,
   "id": "8d0ade20-85a8-4eac-b923-a4768971ef2d",
   "metadata": {},
   "outputs": [],
   "source": []
  },
  {
   "cell_type": "markdown",
   "id": "b203e91c-ce8c-40a4-bc3c-f904d46925ee",
   "metadata": {},
   "source": [
    "Como puede apreciar, la palabra \"Ey\" es errónea. La forma correcta es \"Hey\". Por favor, cambie los errores:"
   ]
  },
  {
   "cell_type": "code",
   "execution_count": null,
   "id": "85e1e951-59b8-44e9-af57-8a9d0f8d8ef4",
   "metadata": {},
   "outputs": [],
   "source": []
  },
  {
   "cell_type": "markdown",
   "id": "b1a2dbbf-6576-423f-bd7d-e4c36d1bfbfb",
   "metadata": {},
   "source": [
    "Revierta el orden de la canción. Es decir, si tenemos solo el pedazo \"Hey, Tití me preguntó\", debe quedar \"preguntó me Tití Hey,\":"
   ]
  },
  {
   "cell_type": "code",
   "execution_count": null,
   "id": "6aa7bd61-144e-4913-b993-22761f4cd77e",
   "metadata": {},
   "outputs": [],
   "source": []
  },
  {
   "cell_type": "markdown",
   "id": "117252b4-85fe-4f7c-9c9e-70d1c9e9515d",
   "metadata": {},
   "source": [
    "# 3. Diccionario de su familia"
   ]
  },
  {
   "cell_type": "markdown",
   "id": "f58dceec-d647-4f5a-9812-f9aca31d05f0",
   "metadata": {},
   "source": [
    "Escriba un diccionario con las llaves `nombre`, `apellidos` y `apodo` con los nombres de 3 de sus familiares:"
   ]
  },
  {
   "cell_type": "code",
   "execution_count": null,
   "id": "c0538bd1-c576-44d5-97bd-29533dc979d8",
   "metadata": {},
   "outputs": [],
   "source": []
  },
  {
   "cell_type": "markdown",
   "id": "48415126-64d7-4a9e-b1cd-60e963a6ee99",
   "metadata": {},
   "source": [
    "Ahora agregue una nueva llave que se llame `relación` en la que estipule la relación que tiene con usted:"
   ]
  },
  {
   "cell_type": "code",
   "execution_count": null,
   "id": "6d48b09c-5a9d-436a-9109-22c13eaec03f",
   "metadata": {},
   "outputs": [],
   "source": []
  },
  {
   "cell_type": "markdown",
   "id": "9575a5ae-b32c-4d65-b5a6-94e41ae2a061",
   "metadata": {},
   "source": [
    "Agregue a una cuarta persona en el diccionario:"
   ]
  },
  {
   "cell_type": "code",
   "execution_count": null,
   "id": "0198b695-8534-4796-b913-21e022c2e866",
   "metadata": {},
   "outputs": [],
   "source": []
  },
  {
   "cell_type": "markdown",
   "id": "eb046b2e-e38b-43ec-a3ed-c9f4796487f1",
   "metadata": {},
   "source": [
    "# 4. Calculador de su edad en años de perros"
   ]
  },
  {
   "cell_type": "markdown",
   "id": "3b0cb57c-d4b6-48d5-94e0-35ee5e096c4b",
   "metadata": {},
   "source": [
    "Según nuevos cálculos realizados por científicos, la equivalencia entre la edad de un perro y la nuestra es la sigjuiente:\n",
    "\n",
    "$$ HumanAge = 16*Ln(DogAge) + 31 $$\n",
    "\n",
    "Es decir, es el logaritmo natural de la edad del perro, multiplicada por 16 y sumada con 31.\n",
    "\n",
    "Calcule su edad en años perros:"
   ]
  },
  {
   "cell_type": "code",
   "execution_count": null,
   "id": "a3a204de-cc2c-453e-bb42-e21e19756ac8",
   "metadata": {},
   "outputs": [],
   "source": []
  },
  {
   "cell_type": "markdown",
   "id": "1264c353-a136-4b8b-b1f1-8592e3e9c800",
   "metadata": {},
   "source": [
    "# 5. Gustos de entretenimiento"
   ]
  },
  {
   "cell_type": "markdown",
   "id": "cd2b0245-8afc-4750-94c5-ca3e1479cbf2",
   "metadata": {},
   "source": [
    "Observe la siguiente lista de planes de entretenimiento:"
   ]
  },
  {
   "cell_type": "code",
   "execution_count": 1,
   "id": "56462179-cf99-4196-ae98-0bb788921011",
   "metadata": {},
   "outputs": [],
   "source": [
    "gustos = [\"libros\", \"cine\", \"teatro\", \"deporte\", \"series/televisión\", \"estudiar Big Data\"]"
   ]
  },
  {
   "cell_type": "markdown",
   "id": "5a43461e-4660-4479-b448-5a9896a305ee",
   "metadata": {},
   "source": [
    "Ordene los elementos según sus gustos en una variable categórica:"
   ]
  }
 ],
 "metadata": {
  "kernelspec": {
   "display_name": "Python 3 (ipykernel)",
   "language": "python",
   "name": "python3"
  },
  "language_info": {
   "codemirror_mode": {
    "name": "ipython",
    "version": 3
   },
   "file_extension": ".py",
   "mimetype": "text/x-python",
   "name": "python",
   "nbconvert_exporter": "python",
   "pygments_lexer": "ipython3",
   "version": "3.10.5"
  }
 },
 "nbformat": 4,
 "nbformat_minor": 5
}
