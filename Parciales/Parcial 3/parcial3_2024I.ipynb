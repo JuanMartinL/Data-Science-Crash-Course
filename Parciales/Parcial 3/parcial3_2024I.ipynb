{
 "cells": [
  {
   "cell_type": "markdown",
   "metadata": {},
   "source": [
    "# Parcial 3: Introducción a Machine Learning\n",
    "\n",
    "&emsp; **Fundación Universitaria Los Libertadores**. <br>\n",
    "&emsp; **Asignatura:** Big Data. <br>\n",
    "&emsp; **Período:** 2024-I. <br>\n",
    "&emsp; **Profesor:** Juan Martín Londoño Zuluaga. <br>\n",
    "&emsp; **Estudiante:**"
   ]
  },
  {
   "cell_type": "markdown",
   "metadata": {},
   "source": [
    "# Una situación muy poco dulce\n",
    "\n",
    "Ya es sabido: los estudiantes de Big Data de la FULL no solo son los mejores analistas de datos, sino que también son los mejores en Machine Learning.\n",
    "\n",
    "Para ello, le entregan la base de datos sobre diferentes datos de personas, incluyendo si ha fumado, el nivel de alcohol en la sangre, entre otros. El enlace de la base de datos se puede encontrar [aquí](https://www.kaggle.com/datasets/iammustafatz/diabetes-prediction-dataset).\n",
    "\n",
    "El objetivo es crear un modelo que prediga, a partir de los datos, si una persona es diabética o no.\n",
    "\n",
    "En ese sentido, su cliente le pide que realice modelos de Machine Learning (ML) para clasificar a sus próximos pacientes respecto a su riesgo de padecer diabetes."
   ]
  },
  {
   "cell_type": "markdown",
   "metadata": {},
   "source": [
    "# 1. Importe de los datos (5 puntos)\n",
    "\n",
    "Cargue los datos y muestre las primeras 5 observaciones:"
   ]
  },
  {
   "cell_type": "code",
   "execution_count": null,
   "metadata": {},
   "outputs": [],
   "source": []
  },
  {
   "cell_type": "markdown",
   "metadata": {},
   "source": [
    "# 2. EDA (5 puntos)\n",
    "\n",
    "Rápidamente, revise las características básicas de los datos: valores perdidos, valores únicos y la descripción básica de los datos."
   ]
  },
  {
   "cell_type": "code",
   "execution_count": null,
   "metadata": {},
   "outputs": [],
   "source": []
  },
  {
   "cell_type": "markdown",
   "metadata": {},
   "source": [
    "## 3. Preprocesamiento de los datos (15 puntos)\n",
    "\n",
    "Realice los siguientes pasos:\n",
    "\n",
    "1. Defina X y Y.\n",
    "2. Cree las variables dicotómicas necesarias para los datos.\n",
    "3. Realice un escalamiento `MinMaxScaler` a los datos."
   ]
  },
  {
   "cell_type": "code",
   "execution_count": null,
   "metadata": {},
   "outputs": [],
   "source": []
  },
  {
   "cell_type": "markdown",
   "metadata": {},
   "source": [
    "# 4. Selección y entrenamiento del modelo (10 puntos)\n",
    "\n",
    "Realice los siguientes pasos:\n",
    "\n",
    "1. Defina un modelo de clasificación de árbol de decisión.\n",
    "2. Entrene el modelo con los datos."
   ]
  },
  {
   "cell_type": "code",
   "execution_count": null,
   "metadata": {},
   "outputs": [],
   "source": []
  },
  {
   "cell_type": "markdown",
   "metadata": {},
   "source": [
    "# 5. Evaluación del modelo (5 puntos)\n",
    "\n",
    "Realice una evaluación del modelo que acabó de entrenar con la base de datos."
   ]
  },
  {
   "cell_type": "code",
   "execution_count": null,
   "metadata": {},
   "outputs": [],
   "source": []
  },
  {
   "cell_type": "markdown",
   "metadata": {},
   "source": [
    "# 6. Optimización de parámetros (10 puntos)\n",
    "\n",
    "Optimice los parámetros del modelo por el método `Hold-On` o por grilla de búsqueda aleatoria de validación cruzada `randomizedsearchcv`. Cualquiera de los dos métodos es válido.\n",
    "\n",
    "Para ello, debe optimizar por los parámetros de `criterion`, `max_depth` y `max_features`.\n",
    "\n",
    "Muestre los resultados de la optimización que utilizó y el rendimiento del nuevo modelo:"
   ]
  },
  {
   "cell_type": "code",
   "execution_count": null,
   "metadata": {},
   "outputs": [],
   "source": []
  }
 ],
 "metadata": {
  "kernelspec": {
   "display_name": "Python 3",
   "language": "python",
   "name": "python3"
  },
  "language_info": {
   "codemirror_mode": {
    "name": "ipython",
    "version": 3
   },
   "file_extension": ".py",
   "mimetype": "text/x-python",
   "name": "python",
   "nbconvert_exporter": "python",
   "pygments_lexer": "ipython3",
   "version": "3.12.2"
  }
 },
 "nbformat": 4,
 "nbformat_minor": 2
}
