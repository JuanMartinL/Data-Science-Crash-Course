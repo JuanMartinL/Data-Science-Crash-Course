{
 "cells": [
  {
   "attachments": {},
   "cell_type": "markdown",
   "metadata": {},
   "source": [
    "# Parcial 3: Introducción a Machine Learning\n",
    "\n",
    "&emsp; **Fundación Universitaria Los Libertadores**. <br>\n",
    "&emsp; **Asignatura:** Big Data. <br>\n",
    "&emsp; **Período:** 2023-I. <br>\n",
    "&emsp; **Profesor:** Juan Martín Londoño Zuluaga. <br>\n",
    "&emsp; **Estudiante:**"
   ]
  },
  {
   "attachments": {},
   "cell_type": "markdown",
   "metadata": {},
   "source": [
    "# A corazón abierto\n",
    "\n",
    "Ya es sabido: los estudiantes de Big Data de la FULL no solo son los mejores analistas de datos, sino que también saben hacer modelos de Machine Learning. Por ello, le han contratado para realizar un modelo que prediga la posibilidad de un ataque al corazón. Para ello, le han entregado una base de datos con diferentes medidas sobre la salud de pacientes que han sufrido o no ataques al corazón ([Base de Datos de Kaggle](https://www.kaggle.com/datasets/rashikrahmanpritom/heart-attack-analysis-prediction-dataset)).\n",
    "\n",
    "Quienes le contratan le piden lo siguiente:\n"
   ]
  },
  {
   "attachments": {},
   "cell_type": "markdown",
   "metadata": {},
   "source": [
    "# 1. Importe de los datos\n",
    "\n",
    "Cargue los datos que se le entregan, llamados `heart.csv` y muestre las primeras 5 observaciones:"
   ]
  },
  {
   "cell_type": "code",
   "execution_count": null,
   "metadata": {},
   "outputs": [],
   "source": []
  },
  {
   "attachments": {},
   "cell_type": "markdown",
   "metadata": {},
   "source": [
    "En la base de datos encontrará las siguientes variables:\n",
    "\n",
    "* `Edad` : Edad del paciente\n",
    "* `Sexo` : Sexo del paciente\n",
    "* `exang`: angina inducida por el ejercicio (1 = sí; 0 = no)\n",
    "* `ca`: número de buques principales (0-3)\n",
    "* `cp `: Tipo de dolor torácico tipo de dolor torácico\n",
    "    - Valor 1: angina típica\n",
    "    - Valor 2: angina inusual\n",
    "    - Valor 3: dolor no anginoso\n",
    "    - Valor 4: asintomático\n",
    "\n",
    "* `trtbps`: presión arterial en reposo (en mm Hg)\n",
    "* `chol`: colestoral en mg/dl obtenido a través del sensor BMI\n",
    "* `fbs`: (azúcar en sangre en ayunas > 120 mg/dl) (1 = verdadero; 0 = falso)\n",
    "* `rest_ecg` : resultados electrocardiográficos en reposo\n",
    "    - Valor 0: normal\n",
    "    - Valor 1: tener anomalías en la onda ST-T (inversiones de la onda T y/o elevación o depresión del ST > 0,05 mV)\n",
    "    - Valor 2: mostrar hipertrofia ventricular izquierda probable o definitiva según los criterios de Estes\n",
    "    \n",
    "* `thalach`: frecuencia cardíaca máxima alcanzada\n",
    "\n",
    "* `output`: 0= menos posibilidades de ataque al corazón 1= más posibilidades de ataque al corazón"
   ]
  },
  {
   "attachments": {},
   "cell_type": "markdown",
   "metadata": {},
   "source": [
    "# 2. EDA"
   ]
  },
  {
   "attachments": {},
   "cell_type": "markdown",
   "metadata": {},
   "source": [
    "Rápidamente, revise el número de valores únicos y si la base de datos tiene valores pérdidos: ¿cuál es la calidad de la base de datos?"
   ]
  },
  {
   "cell_type": "code",
   "execution_count": null,
   "metadata": {},
   "outputs": [],
   "source": []
  },
  {
   "attachments": {},
   "cell_type": "markdown",
   "metadata": {},
   "source": [
    "Ahora realice unas gráficas de densidad para cada una de las variables: ¿las variables se distribuyen normalmente? ¿encuentra anomalías?"
   ]
  },
  {
   "cell_type": "code",
   "execution_count": null,
   "metadata": {},
   "outputs": [],
   "source": []
  },
  {
   "attachments": {},
   "cell_type": "markdown",
   "metadata": {},
   "source": [
    "# 3. K vecinos más cercanos (K Nearest Neighbours)"
   ]
  },
  {
   "attachments": {},
   "cell_type": "markdown",
   "metadata": {},
   "source": [
    "Sus clientes le piden que realice modelos de Machine Learning (ML) para clasificar a sus nuevos clientes de acuerdo con la probabilidad de ataque al corazón. Por ello, usted, ingeniero de ML, sabe que puede empezar con un modelo sencillo: un modelo de k vecinos más cercanos (kNN). Por ello, Pepe Grillo, su conciencia, le recuerda los pasos para realizar este modelo:"
   ]
  },
  {
   "attachments": {},
   "cell_type": "markdown",
   "metadata": {},
   "source": [
    "## 3.1. Preprocesamiento de los datos\n",
    "\n",
    "Pepe le recuerda que debe realizar un preprocesamiento de los datos en primer lugar. Para ello, le recuerda que debe hacer dos cosas:\n",
    "\n",
    "1. Convertir en categoría la variable `output`, la cual va a ser la variable objetivo para su modelo.\n",
    "2. Realizar una estandarización de las variables que va a utilizar en el modelo, ya que este modelo es sensible a los niveles en los que pueden estar las variables de su base de datos. Por ello, con el módulo `preprocessing` de `sklearn`, estandarice la base de datos con la función `MinMaxScaler`(estandarización min-max).\n",
    "\n",
    "En ese snetido, realice el primer proceso: convertir `output` en una variable categórica:"
   ]
  },
  {
   "cell_type": "code",
   "execution_count": null,
   "metadata": {},
   "outputs": [],
   "source": []
  },
  {
   "attachments": {},
   "cell_type": "markdown",
   "metadata": {},
   "source": [
    "Ahora, realice el escalamiento de la base de datos con estandarización Min-Max:"
   ]
  },
  {
   "cell_type": "code",
   "execution_count": null,
   "metadata": {},
   "outputs": [],
   "source": []
  },
  {
   "attachments": {},
   "cell_type": "markdown",
   "metadata": {},
   "source": [
    "## 3.2. División de bases de datos"
   ]
  },
  {
   "attachments": {},
   "cell_type": "markdown",
   "metadata": {},
   "source": [
    "Pepe Grillo le jala las patas. Él sabe que usted no ha hecho nada, pero tiene por seguro que se le estaba olvidando realizar la separación de la base de datos en entrenamiento y testeo. Le jala las patas y le dice: recuerde que su profesor le dijo que debía separar las bases de datos en entrenamiento (`train`) y testeo (`test`). Le recuerda, además, que debe hacerlo después de separar los datos entre `y` y `X`.\n",
    "\n",
    "> **Nota:** Pepe le recomienda utilizar en la división de la base de datos una semilla con número 2023."
   ]
  },
  {
   "cell_type": "code",
   "execution_count": null,
   "metadata": {},
   "outputs": [],
   "source": []
  },
  {
   "attachments": {},
   "cell_type": "markdown",
   "metadata": {},
   "source": [
    "## 3.3. Entrenameinto del modelo"
   ]
  },
  {
   "attachments": {},
   "cell_type": "markdown",
   "metadata": {},
   "source": [
    "¡Llegó la hora de la fiesta! Pepe Grillo salta a su hombro y se ponen manos a la obra. Pepe Grillo le dice que es momento de entrenar el modelo, así que le recuerda que el modelo de ML de kNN se define en la librería `sklearn`, en el módulo `neighbors`, bajo la función `KNeighborsClassifier()`. Al final, le recuerda, se descarga algo como: `from sklearn.neighbors import KNeighborsClassifier`.\n",
    "\n",
    "Le dice que entrene el modelo por ahora con tan solo 3 vecinos:"
   ]
  },
  {
   "cell_type": "code",
   "execution_count": null,
   "metadata": {},
   "outputs": [],
   "source": []
  },
  {
   "attachments": {},
   "cell_type": "markdown",
   "metadata": {},
   "source": [
    "## 3.4. Evaluación del modelo"
   ]
  },
  {
   "attachments": {},
   "cell_type": "markdown",
   "metadata": {},
   "source": [
    "Pepe Grillo le dice que no debería evaluar el modelo, pero no se aguanta y le dice que lo haga, que pruebe con la base de testeo el rendimiento del modelo. Le recomienda que utilice la **precisión balanceada**, la cual es más adecuada en este caso que la precisión normal (pondera tanto la clase que tratamos de adivinar como la que no). \n",
    "\n",
    "Así que le recuerda que esto se hace con la librería `sklearn`, con el módulo `metrics`, con la función `balanced_accuracy_score()`:"
   ]
  },
  {
   "cell_type": "code",
   "execution_count": null,
   "metadata": {},
   "outputs": [],
   "source": []
  },
  {
   "attachments": {},
   "cell_type": "markdown",
   "metadata": {},
   "source": [
    "¿Qué puntaje le dio el modelo? ¿Es bajo o alto?"
   ]
  },
  {
   "attachments": {},
   "cell_type": "markdown",
   "metadata": {},
   "source": [
    "# 3.5. Optimización de parámetros"
   ]
  },
  {
   "attachments": {},
   "cell_type": "markdown",
   "metadata": {},
   "source": [
    "Pepe Grillo le recuerda que **no debería devolverse después de hacer la prueba con la base de datos de testeo**, pero también recuerda que usted es estudiante por lo que debe enseñarle unas cosas adicionales. Por ello, le permite por esta y única vez que pueda devovlerse a hacer la optimización de los parámetros. \n",
    "\n",
    "Por eso, le pide que en una sola celda divida la base de datos en entrenamiento y testeo y entrene el modelo con k vecinos entre 1 y 100. Es decir, realice un ciclo que entrene el modelo con `k` vecinos, guarde la precisión balanceada y siga con el siguiente. Por último, muestre el número `k` de vecinos que maximiza la **precisión balanceada** del modelo:"
   ]
  },
  {
   "cell_type": "code",
   "execution_count": null,
   "metadata": {},
   "outputs": [],
   "source": []
  },
  {
   "attachments": {},
   "cell_type": "markdown",
   "metadata": {},
   "source": [
    "> ¡No tan rápido, vaquero! Pepe Grillo está casi seguro que se le estaba olvidando que el ciclo de optimización se realiza con **la base de datos de validación, no la de testeo**. Con sorbito de juguito juzgador le dice que se devuelva y lo intente otra vez."
   ]
  },
  {
   "attachments": {},
   "cell_type": "markdown",
   "metadata": {},
   "source": [
    "## 3.6. Evaluación del modelo final"
   ]
  },
  {
   "attachments": {},
   "cell_type": "markdown",
   "metadata": {},
   "source": [
    "Ahora sí, Pepe Grillo le dice que realice la medición del modelo final con el `k` óptimo que le entregó la validación del ciclo anterior. Para ello, debe entrenar el nuevo modelo con el `k` óptimo y realizar la predicción del modelo."
   ]
  },
  {
   "cell_type": "code",
   "execution_count": null,
   "metadata": {},
   "outputs": [],
   "source": []
  },
  {
   "attachments": {},
   "cell_type": "markdown",
   "metadata": {},
   "source": [
    "¿Cuánta fue la precisión balanceada de este modelo? ¿Fue mejor o peor?"
   ]
  },
  {
   "attachments": {},
   "cell_type": "markdown",
   "metadata": {},
   "source": [
    "> Pepe Grillo le va a explicar qué ocurrió. Probablemente le ocurrió que el `k` óptimo le otorgó una precisión balanceada menor de la que obtuvo cuando hizo el primer modelo adivinando el `k`. ¿Por qué ocurre esto? \n",
    ">\n",
    "> Elemental, le dice Pepe Grillo. Como le había comentado su profesor, en este punto usted está intercambiando **sesgo** por **varianza**. ¿Cómo así? Al entrenar con una base de datos (entrenamiento) y elegir el parámetro óptimo con otra (validación), usted está reduciendo el error por varianza que ocurre al ingresar nuevos datos. Si usted encuentra el k óptimo adivinando, puede que haya sido suerte, cuando con este método se asegura de encontrar una metodología reproducible y con argumentos que sostenga su elección, además que puede que funcione con nuevos datos.\n",
    ">\n",
    "> Así que, le recuerda Pepe, no se preocupe. Pronto todo tendrá sentido."
   ]
  },
  {
   "attachments": {},
   "cell_type": "markdown",
   "metadata": {},
   "source": [
    "# 4. Decision Tree"
   ]
  },
  {
   "attachments": {},
   "cell_type": "markdown",
   "metadata": {},
   "source": [
    "¡Siguiente modelo! Le dice Pepe. Ahora vamos a intentar con un árbol de decisión. ¿Le emociona? ¡Claro que sí! Vamos por eso."
   ]
  },
  {
   "attachments": {},
   "cell_type": "markdown",
   "metadata": {},
   "source": [
    "## 4.1. Entrenamiento del modelo\n",
    "\n",
    "Pepe Grillo le dice que ya no es necesario tener en dos celdas diferentes su código para separar la base de datos de entrenamiento y testeo y otro para entrenar el modelo. Él cree que ya usted va adquiriendo experiencia suficiente para realizar todo el código en una sola celda, aunque es un reto. Si no puede, está bien, es mejor hacer algo por partes que no hacerlo. Por ello le dice que haga la separación de la base de datos (con semilla 2023), entrene el modelo de árbol de decisión sin ningún parámetro y evalúe su rendimiento con la base de datos de testeo.\n",
    "\n",
    "Las funciones adicionales que utilizará son:\n",
    "* Para el árbol de decisión, utilizará `sklearn`, el módulo `tree`, la función `DecisionTreeClassifier()`."
   ]
  },
  {
   "cell_type": "code",
   "execution_count": null,
   "metadata": {},
   "outputs": [],
   "source": []
  },
  {
   "attachments": {},
   "cell_type": "markdown",
   "metadata": {},
   "source": [
    "¿Cuál fue el rendimiento del modelo? ¿Es bueno o malo? ¿Mejoró o empeoró?"
   ]
  },
  {
   "attachments": {},
   "cell_type": "markdown",
   "metadata": {},
   "source": [
    "## 4.2. Optimización de parámetros\n",
    "\n",
    "Pepe Grillo le dice que usted puede, que confía en usted: vamos a optimizar parámetros. Le va a ayudar con algo, que es la grilla de optimización (tranquilo, es un diccionario con los parámetros a observar). Con ella realice la optimización de parámetros y encuentre el mejor modelo:"
   ]
  },
  {
   "cell_type": "code",
   "execution_count": null,
   "metadata": {},
   "outputs": [],
   "source": [
    "# Definiremos los parámetros a revisar\n",
    "params ={\n",
    "    'criterion': ['gini', 'entropy'],\n",
    "    'max_depth': [None, 2, 4, 6, 8, 10, 12, 14, 16, 18, 20],\n",
    "    'max_features': [None, 'sqrt', 'log2', 0.2, 0.4, 0.6, 0.8],\n",
    "    'splitter': ['best', 'random']\n",
    "}"
   ]
  },
  {
   "cell_type": "code",
   "execution_count": null,
   "metadata": {},
   "outputs": [],
   "source": []
  },
  {
   "attachments": {},
   "cell_type": "markdown",
   "metadata": {},
   "source": [
    "## 4.3. Evaluación del modelo final\n",
    "\n",
    "Ahora sí, vamos con toda: evalúe el modelo final que encontró en el punto anterior y encuentre el rendimiento del modelo con la base de datos de testeo:"
   ]
  },
  {
   "cell_type": "code",
   "execution_count": null,
   "metadata": {},
   "outputs": [],
   "source": []
  },
  {
   "attachments": {},
   "cell_type": "markdown",
   "metadata": {},
   "source": [
    "¿Cómo es el rendimiento del modelo? ¿Mejora respecto al modelo anterior?"
   ]
  },
  {
   "attachments": {},
   "cell_type": "markdown",
   "metadata": {},
   "source": [
    "# 5. Logistic Regression"
   ]
  },
  {
   "attachments": {},
   "cell_type": "markdown",
   "metadata": {},
   "source": [
    "¡Último modelo! Vamos a probar una regresión logística, dice Pepe Grillo. Esta la conoces bastante, te dice, y es apropiada para este tipo de problemas, ya que tiene una función que se ajusta a las probabilidades (¡a la probabilidad de tener un ataque cardíaco, precisamente!).\n",
    "\n",
    "Probemos:"
   ]
  },
  {
   "attachments": {},
   "cell_type": "markdown",
   "metadata": {},
   "source": [
    "# 5.1. Entrenamiento del modelo"
   ]
  },
  {
   "attachments": {},
   "cell_type": "markdown",
   "metadata": {},
   "source": [
    "Separe la base de dato y entrene el modelo. Para la regresión logística se utiliza de `sklearn`, del módulo `linear_model`, la función `LogisticRegression()`:"
   ]
  },
  {
   "cell_type": "code",
   "execution_count": null,
   "metadata": {},
   "outputs": [],
   "source": []
  },
  {
   "attachments": {},
   "cell_type": "markdown",
   "metadata": {},
   "source": [
    "¿Cómo se desempeña este modelo? ¿Mejor o peor?"
   ]
  },
  {
   "attachments": {},
   "cell_type": "markdown",
   "metadata": {},
   "source": [
    "## 5.2. Optimización de los parámetros"
   ]
  },
  {
   "attachments": {},
   "cell_type": "markdown",
   "metadata": {},
   "source": [
    "Ahora optimice parámetros. Pepe le entrega un diccionario para buscar parámetros y le dice que optimice y encuentre el mejor, utilizando cualquier tipo de optimización que desee:"
   ]
  },
  {
   "cell_type": "code",
   "execution_count": null,
   "metadata": {},
   "outputs": [],
   "source": [
    "# Definiremos los parámetros a revisar\n",
    "params ={\n",
    "    'penalty': ['l1', 'l2', 'elasticnet', None],\n",
    "    'dual': [True, False],\n",
    "    'C': [0.2, 0.4, 0.6, 0.8, 1.0, 1.2, 1.4, 1.6, 1.8, 2.0],\n",
    "    'solver': ['lbfgs', 'liblinear', 'newton-cg', 'newton-cholesky', 'sag', 'saga'],\n",
    "    'multi_class': ['auto', 'ovr', 'multinomial'],\n",
    "    'random_state' : [2023]\n",
    "}"
   ]
  },
  {
   "cell_type": "code",
   "execution_count": null,
   "metadata": {},
   "outputs": [],
   "source": []
  },
  {
   "attachments": {},
   "cell_type": "markdown",
   "metadata": {},
   "source": [
    "¿El rendimiento mejora? ¿Cuál es el mejor modelo de los tres? ¿Cuál le recomienda utilizar a sus clientes?"
   ]
  }
 ],
 "metadata": {
  "kernelspec": {
   "display_name": "Python 3",
   "language": "python",
   "name": "python3"
  },
  "language_info": {
   "codemirror_mode": {
    "name": "ipython",
    "version": 3
   },
   "file_extension": ".py",
   "mimetype": "text/x-python",
   "name": "python",
   "nbconvert_exporter": "python",
   "pygments_lexer": "ipython3",
   "version": "3.10.5"
  },
  "orig_nbformat": 4
 },
 "nbformat": 4,
 "nbformat_minor": 2
}
