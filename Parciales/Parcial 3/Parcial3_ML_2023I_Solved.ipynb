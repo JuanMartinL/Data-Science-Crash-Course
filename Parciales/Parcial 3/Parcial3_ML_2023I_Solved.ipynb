{
 "cells": [
  {
   "attachments": {},
   "cell_type": "markdown",
   "metadata": {},
   "source": [
    "# Parcial 3: Introducción a Machine Learning\n",
    "\n",
    "&emsp; **Fundación Universitaria Los Libertadores**. <br>\n",
    "&emsp; **Asignatura:** Big Data. <br>\n",
    "&emsp; **Período:** 2023-I. <br>\n",
    "&emsp; **Profesor:** Juan Martín Londoño Zuluaga. <br>\n",
    "&emsp; **Estudiante:**"
   ]
  },
  {
   "attachments": {},
   "cell_type": "markdown",
   "metadata": {},
   "source": [
    "# A corazón abierto\n",
    "\n",
    "Ya es sabido: los estudiantes de Big Data de la FULL no solo son los mejores analistas de datos, sino que también saben hacer modelos de Machine Learning. Por ello, le han contratado para realizar un modelo que prediga la posibilidad de un ataque al corazón. Para ello, le han entregado una base de datos con diferentes medidas sobre la salud de pacientes que han sufrido o no ataques al corazón ([Base de Datos de Kaggle](https://www.kaggle.com/datasets/rashikrahmanpritom/heart-attack-analysis-prediction-dataset)).\n",
    "\n",
    "Quienes le contratan le piden lo siguiente:\n"
   ]
  },
  {
   "attachments": {},
   "cell_type": "markdown",
   "metadata": {},
   "source": [
    "# 1. Importe de los datos\n",
    "\n",
    "Cargue los datos que se le entregan, llamados `heart.csv` y muestre las primeras 5 observaciones:"
   ]
  },
  {
   "cell_type": "code",
   "execution_count": 29,
   "metadata": {},
   "outputs": [
    {
     "data": {
      "text/html": [
       "<div>\n",
       "<style scoped>\n",
       "    .dataframe tbody tr th:only-of-type {\n",
       "        vertical-align: middle;\n",
       "    }\n",
       "\n",
       "    .dataframe tbody tr th {\n",
       "        vertical-align: top;\n",
       "    }\n",
       "\n",
       "    .dataframe thead th {\n",
       "        text-align: right;\n",
       "    }\n",
       "</style>\n",
       "<table border=\"1\" class=\"dataframe\">\n",
       "  <thead>\n",
       "    <tr style=\"text-align: right;\">\n",
       "      <th></th>\n",
       "      <th>age</th>\n",
       "      <th>sex</th>\n",
       "      <th>cp</th>\n",
       "      <th>trtbps</th>\n",
       "      <th>chol</th>\n",
       "      <th>fbs</th>\n",
       "      <th>restecg</th>\n",
       "      <th>thalachh</th>\n",
       "      <th>exng</th>\n",
       "      <th>oldpeak</th>\n",
       "      <th>slp</th>\n",
       "      <th>caa</th>\n",
       "      <th>thall</th>\n",
       "      <th>output</th>\n",
       "    </tr>\n",
       "  </thead>\n",
       "  <tbody>\n",
       "    <tr>\n",
       "      <th>0</th>\n",
       "      <td>63</td>\n",
       "      <td>1</td>\n",
       "      <td>3</td>\n",
       "      <td>145</td>\n",
       "      <td>233</td>\n",
       "      <td>1</td>\n",
       "      <td>0</td>\n",
       "      <td>150</td>\n",
       "      <td>0</td>\n",
       "      <td>2.3</td>\n",
       "      <td>0</td>\n",
       "      <td>0</td>\n",
       "      <td>1</td>\n",
       "      <td>1</td>\n",
       "    </tr>\n",
       "    <tr>\n",
       "      <th>1</th>\n",
       "      <td>37</td>\n",
       "      <td>1</td>\n",
       "      <td>2</td>\n",
       "      <td>130</td>\n",
       "      <td>250</td>\n",
       "      <td>0</td>\n",
       "      <td>1</td>\n",
       "      <td>187</td>\n",
       "      <td>0</td>\n",
       "      <td>3.5</td>\n",
       "      <td>0</td>\n",
       "      <td>0</td>\n",
       "      <td>2</td>\n",
       "      <td>1</td>\n",
       "    </tr>\n",
       "    <tr>\n",
       "      <th>2</th>\n",
       "      <td>41</td>\n",
       "      <td>0</td>\n",
       "      <td>1</td>\n",
       "      <td>130</td>\n",
       "      <td>204</td>\n",
       "      <td>0</td>\n",
       "      <td>0</td>\n",
       "      <td>172</td>\n",
       "      <td>0</td>\n",
       "      <td>1.4</td>\n",
       "      <td>2</td>\n",
       "      <td>0</td>\n",
       "      <td>2</td>\n",
       "      <td>1</td>\n",
       "    </tr>\n",
       "    <tr>\n",
       "      <th>3</th>\n",
       "      <td>56</td>\n",
       "      <td>1</td>\n",
       "      <td>1</td>\n",
       "      <td>120</td>\n",
       "      <td>236</td>\n",
       "      <td>0</td>\n",
       "      <td>1</td>\n",
       "      <td>178</td>\n",
       "      <td>0</td>\n",
       "      <td>0.8</td>\n",
       "      <td>2</td>\n",
       "      <td>0</td>\n",
       "      <td>2</td>\n",
       "      <td>1</td>\n",
       "    </tr>\n",
       "    <tr>\n",
       "      <th>4</th>\n",
       "      <td>57</td>\n",
       "      <td>0</td>\n",
       "      <td>0</td>\n",
       "      <td>120</td>\n",
       "      <td>354</td>\n",
       "      <td>0</td>\n",
       "      <td>1</td>\n",
       "      <td>163</td>\n",
       "      <td>1</td>\n",
       "      <td>0.6</td>\n",
       "      <td>2</td>\n",
       "      <td>0</td>\n",
       "      <td>2</td>\n",
       "      <td>1</td>\n",
       "    </tr>\n",
       "  </tbody>\n",
       "</table>\n",
       "</div>"
      ],
      "text/plain": [
       "   age  sex  cp  trtbps  chol  fbs  restecg  thalachh  exng  oldpeak  slp  \\\n",
       "0   63    1   3     145   233    1        0       150     0      2.3    0   \n",
       "1   37    1   2     130   250    0        1       187     0      3.5    0   \n",
       "2   41    0   1     130   204    0        0       172     0      1.4    2   \n",
       "3   56    1   1     120   236    0        1       178     0      0.8    2   \n",
       "4   57    0   0     120   354    0        1       163     1      0.6    2   \n",
       "\n",
       "   caa  thall  output  \n",
       "0    0      1       1  \n",
       "1    0      2       1  \n",
       "2    0      2       1  \n",
       "3    0      2       1  \n",
       "4    0      2       1  "
      ]
     },
     "execution_count": 29,
     "metadata": {},
     "output_type": "execute_result"
    }
   ],
   "source": [
    "import pandas as pd\n",
    "\n",
    "heart = pd.read_csv('datain/heart.csv')\n",
    "heart.head()"
   ]
  },
  {
   "attachments": {},
   "cell_type": "markdown",
   "metadata": {},
   "source": [
    "En la base de datos encontrará las siguientes variables:\n",
    "\n",
    "* `Edad` : Edad del paciente\n",
    "* `Sexo` : Sexo del paciente\n",
    "* `exang`: angina inducida por el ejercicio (1 = sí; 0 = no)\n",
    "* `ca`: número de buques principales (0-3)\n",
    "* `cp `: Tipo de dolor torácico tipo de dolor torácico\n",
    "    - Valor 1: angina típica\n",
    "    - Valor 2: angina inusual\n",
    "    - Valor 3: dolor no anginoso\n",
    "    - Valor 4: asintomático\n",
    "\n",
    "* `trtbps`: presión arterial en reposo (en mm Hg)\n",
    "* `chol`: colestoral en mg/dl obtenido a través del sensor BMI\n",
    "* `fbs`: (azúcar en sangre en ayunas > 120 mg/dl) (1 = verdadero; 0 = falso)\n",
    "* `rest_ecg` : resultados electrocardiográficos en reposo\n",
    "    - Valor 0: normal\n",
    "    - Valor 1: tener anomalías en la onda ST-T (inversiones de la onda T y/o elevación o depresión del ST > 0,05 mV)\n",
    "    - Valor 2: mostrar hipertrofia ventricular izquierda probable o definitiva según los criterios de Estes\n",
    "    \n",
    "* `thalach`: frecuencia cardíaca máxima alcanzada\n",
    "\n",
    "* `output`: 0= menos posibilidades de ataque al corazón 1= más posibilidades de ataque al corazón"
   ]
  },
  {
   "attachments": {},
   "cell_type": "markdown",
   "metadata": {},
   "source": [
    "# 2. EDA"
   ]
  },
  {
   "attachments": {},
   "cell_type": "markdown",
   "metadata": {},
   "source": [
    "Rápidamente, revise el número de valores únicos y si la base de datos tiene valores pérdidos: ¿cuál es la calidad de la base de datos?"
   ]
  },
  {
   "cell_type": "code",
   "execution_count": 127,
   "metadata": {},
   "outputs": [
    {
     "name": "stdout",
     "output_type": "stream",
     "text": [
      "================================================================\n",
      "Número de valores únicos:\n",
      "age          41\n",
      "sex           2\n",
      "cp            4\n",
      "trtbps       49\n",
      "chol        152\n",
      "fbs           2\n",
      "restecg       3\n",
      "thalachh     91\n",
      "exng          2\n",
      "oldpeak      40\n",
      "slp           3\n",
      "caa           5\n",
      "thall         4\n",
      "output        2\n",
      "dtype: int64\n",
      "================================================================ \n",
      "\n",
      "================================================================\n",
      "Número de valores perdidos:\n",
      "age         0\n",
      "sex         0\n",
      "cp          0\n",
      "trtbps      0\n",
      "chol        0\n",
      "fbs         0\n",
      "restecg     0\n",
      "thalachh    0\n",
      "exng        0\n",
      "oldpeak     0\n",
      "slp         0\n",
      "caa         0\n",
      "thall       0\n",
      "output      0\n",
      "dtype: int64\n",
      "================================================================\n"
     ]
    }
   ],
   "source": [
    "print('='*64)\n",
    "print(\"Número de valores únicos:\")\n",
    "print(heart.nunique())\n",
    "print('='*64, '\\n')\n",
    "\n",
    "print('='*64)\n",
    "print(\"Número de valores perdidos:\")\n",
    "print(heart.isnull().sum())\n",
    "print('='*64)"
   ]
  },
  {
   "attachments": {},
   "cell_type": "markdown",
   "metadata": {},
   "source": [
    "Ahora realice unas gráficas de densidad para cada una de las variables: ¿las variables se distribuyen normalmente? ¿encuentra anomalías?"
   ]
  },
  {
   "cell_type": "code",
   "execution_count": 128,
   "metadata": {},
   "outputs": [
    {
     "data": {
      "image/png": "[encoded data removed]",
      "text/plain": [
       "<Figure size 1080x720 with 14 Axes>"
      ]
     },
     "metadata": {
      "needs_background": "light"
     },
     "output_type": "display_data"
    }
   ],
   "source": [
    "import matplotlib.pyplot as plt\n",
    "\n",
    "# Tamaño de la gráfica\n",
    "plt.figure(figsize=(15,10))\n",
    "\n",
    "for i, var in enumerate(heart.columns):\n",
    "    # print(i, var)\n",
    "\n",
    "    bins = round((max(heart[var]) - min(heart[var]))/1)\n",
    "\n",
    "    plt.subplot(4, 4, i +1)\n",
    "\n",
    "    if bins != 0:\n",
    "        plt.hist(heart[var], bins)\n",
    "    else:\n",
    "        plt.hist(heart[var])    \n",
    "    \n",
    "    plt.title(\"Histogram of \" + var)\n",
    "    plt.ylabel(\"Frecuencia\")\n",
    "\n",
    "plt.tight_layout()"
   ]
  },
  {
   "attachments": {},
   "cell_type": "markdown",
   "metadata": {},
   "source": [
    "# 3. K vecinos más cercanos (K Nearest Neighbours)"
   ]
  },
  {
   "attachments": {},
   "cell_type": "markdown",
   "metadata": {},
   "source": [
    "Sus clientes le piden que realice modelos de Machine Learning (ML) para clasificar a sus nuevos clientes de acuerdo con la probabilidad de ataque al corazón. Por ello, usted, ingeniero de ML, sabe que puede empezar con un modelo sencillo: un modelo de k vecinos más cercanos (kNN). Por ello, Pepe Grillo, su conciencia, le recuerda los pasos para realizar este modelo:"
   ]
  },
  {
   "attachments": {},
   "cell_type": "markdown",
   "metadata": {},
   "source": [
    "## 3.1. Preprocesamiento de los datos\n",
    "\n",
    "Pepe le recuerda que debe realizar un preprocesamiento de los datos en primer lugar. Para ello, le recuerda que debe hacer dos cosas:\n",
    "\n",
    "1. Convertir en categoría la variable `output`, la cual va a ser la variable objetivo para su modelo.\n",
    "2. Realizar una estandarización de las variables que va a utilizar en el modelo, ya que este modelo es sensible a los niveles en los que pueden estar las variables de su base de datos. Por ello, con el módulo `preprocessing` de `sklearn`, estandarice la base de datos con la función `MinMaxScaler`(estandarización min-max).\n",
    "\n",
    "En ese snetido, realice el primer proceso: convertir `output` en una variable categórica:"
   ]
  },
  {
   "cell_type": "code",
   "execution_count": 130,
   "metadata": {},
   "outputs": [],
   "source": [
    "heart['output'] = pd.Categorical(heart['output'])"
   ]
  },
  {
   "attachments": {},
   "cell_type": "markdown",
   "metadata": {},
   "source": [
    "Ahora, realice el escalamiento de la base de datos con estandarización Min-Max:"
   ]
  },
  {
   "cell_type": "code",
   "execution_count": 129,
   "metadata": {},
   "outputs": [
    {
     "name": "stdout",
     "output_type": "stream",
     "text": [
      "(303, 14)\n",
      "(303, 13)\n"
     ]
    },
    {
     "data": {
      "text/html": [
       "<div>\n",
       "<style scoped>\n",
       "    .dataframe tbody tr th:only-of-type {\n",
       "        vertical-align: middle;\n",
       "    }\n",
       "\n",
       "    .dataframe tbody tr th {\n",
       "        vertical-align: top;\n",
       "    }\n",
       "\n",
       "    .dataframe thead th {\n",
       "        text-align: right;\n",
       "    }\n",
       "</style>\n",
       "<table border=\"1\" class=\"dataframe\">\n",
       "  <thead>\n",
       "    <tr style=\"text-align: right;\">\n",
       "      <th></th>\n",
       "      <th>0</th>\n",
       "      <th>1</th>\n",
       "      <th>2</th>\n",
       "      <th>3</th>\n",
       "      <th>4</th>\n",
       "      <th>5</th>\n",
       "      <th>6</th>\n",
       "      <th>7</th>\n",
       "      <th>8</th>\n",
       "      <th>9</th>\n",
       "      <th>10</th>\n",
       "      <th>11</th>\n",
       "      <th>12</th>\n",
       "    </tr>\n",
       "  </thead>\n",
       "  <tbody>\n",
       "    <tr>\n",
       "      <th>count</th>\n",
       "      <td>303.000000</td>\n",
       "      <td>303.000000</td>\n",
       "      <td>303.000000</td>\n",
       "      <td>303.000000</td>\n",
       "      <td>303.000000</td>\n",
       "      <td>303.000000</td>\n",
       "      <td>303.000000</td>\n",
       "      <td>303.000000</td>\n",
       "      <td>303.000000</td>\n",
       "      <td>303.000000</td>\n",
       "      <td>303.000000</td>\n",
       "      <td>303.000000</td>\n",
       "      <td>303.000000</td>\n",
       "    </tr>\n",
       "    <tr>\n",
       "      <th>mean</th>\n",
       "      <td>0.528465</td>\n",
       "      <td>0.683168</td>\n",
       "      <td>0.322332</td>\n",
       "      <td>0.354941</td>\n",
       "      <td>0.274575</td>\n",
       "      <td>0.148515</td>\n",
       "      <td>0.264026</td>\n",
       "      <td>0.600358</td>\n",
       "      <td>0.326733</td>\n",
       "      <td>0.167678</td>\n",
       "      <td>0.699670</td>\n",
       "      <td>0.182343</td>\n",
       "      <td>0.771177</td>\n",
       "    </tr>\n",
       "    <tr>\n",
       "      <th>std</th>\n",
       "      <td>0.189210</td>\n",
       "      <td>0.466011</td>\n",
       "      <td>0.344017</td>\n",
       "      <td>0.165454</td>\n",
       "      <td>0.118335</td>\n",
       "      <td>0.356198</td>\n",
       "      <td>0.262930</td>\n",
       "      <td>0.174849</td>\n",
       "      <td>0.469794</td>\n",
       "      <td>0.187270</td>\n",
       "      <td>0.308113</td>\n",
       "      <td>0.255652</td>\n",
       "      <td>0.204092</td>\n",
       "    </tr>\n",
       "    <tr>\n",
       "      <th>min</th>\n",
       "      <td>0.000000</td>\n",
       "      <td>0.000000</td>\n",
       "      <td>0.000000</td>\n",
       "      <td>0.000000</td>\n",
       "      <td>0.000000</td>\n",
       "      <td>0.000000</td>\n",
       "      <td>0.000000</td>\n",
       "      <td>0.000000</td>\n",
       "      <td>0.000000</td>\n",
       "      <td>0.000000</td>\n",
       "      <td>0.000000</td>\n",
       "      <td>0.000000</td>\n",
       "      <td>0.000000</td>\n",
       "    </tr>\n",
       "    <tr>\n",
       "      <th>25%</th>\n",
       "      <td>0.385417</td>\n",
       "      <td>0.000000</td>\n",
       "      <td>0.000000</td>\n",
       "      <td>0.245283</td>\n",
       "      <td>0.194064</td>\n",
       "      <td>0.000000</td>\n",
       "      <td>0.000000</td>\n",
       "      <td>0.477099</td>\n",
       "      <td>0.000000</td>\n",
       "      <td>0.000000</td>\n",
       "      <td>0.500000</td>\n",
       "      <td>0.000000</td>\n",
       "      <td>0.666667</td>\n",
       "    </tr>\n",
       "    <tr>\n",
       "      <th>50%</th>\n",
       "      <td>0.541667</td>\n",
       "      <td>1.000000</td>\n",
       "      <td>0.333333</td>\n",
       "      <td>0.339623</td>\n",
       "      <td>0.260274</td>\n",
       "      <td>0.000000</td>\n",
       "      <td>0.500000</td>\n",
       "      <td>0.625954</td>\n",
       "      <td>0.000000</td>\n",
       "      <td>0.129032</td>\n",
       "      <td>0.500000</td>\n",
       "      <td>0.000000</td>\n",
       "      <td>0.666667</td>\n",
       "    </tr>\n",
       "    <tr>\n",
       "      <th>75%</th>\n",
       "      <td>0.666667</td>\n",
       "      <td>1.000000</td>\n",
       "      <td>0.666667</td>\n",
       "      <td>0.433962</td>\n",
       "      <td>0.339041</td>\n",
       "      <td>0.000000</td>\n",
       "      <td>0.500000</td>\n",
       "      <td>0.725191</td>\n",
       "      <td>1.000000</td>\n",
       "      <td>0.258065</td>\n",
       "      <td>1.000000</td>\n",
       "      <td>0.250000</td>\n",
       "      <td>1.000000</td>\n",
       "    </tr>\n",
       "    <tr>\n",
       "      <th>max</th>\n",
       "      <td>1.000000</td>\n",
       "      <td>1.000000</td>\n",
       "      <td>1.000000</td>\n",
       "      <td>1.000000</td>\n",
       "      <td>1.000000</td>\n",
       "      <td>1.000000</td>\n",
       "      <td>1.000000</td>\n",
       "      <td>1.000000</td>\n",
       "      <td>1.000000</td>\n",
       "      <td>1.000000</td>\n",
       "      <td>1.000000</td>\n",
       "      <td>1.000000</td>\n",
       "      <td>1.000000</td>\n",
       "    </tr>\n",
       "  </tbody>\n",
       "</table>\n",
       "</div>"
      ],
      "text/plain": [
       "               0           1           2           3           4           5   \\\n",
       "count  303.000000  303.000000  303.000000  303.000000  303.000000  303.000000   \n",
       "mean     0.528465    0.683168    0.322332    0.354941    0.274575    0.148515   \n",
       "std      0.189210    0.466011    0.344017    0.165454    0.118335    0.356198   \n",
       "min      0.000000    0.000000    0.000000    0.000000    0.000000    0.000000   \n",
       "25%      0.385417    0.000000    0.000000    0.245283    0.194064    0.000000   \n",
       "50%      0.541667    1.000000    0.333333    0.339623    0.260274    0.000000   \n",
       "75%      0.666667    1.000000    0.666667    0.433962    0.339041    0.000000   \n",
       "max      1.000000    1.000000    1.000000    1.000000    1.000000    1.000000   \n",
       "\n",
       "               6           7           8           9           10          11  \\\n",
       "count  303.000000  303.000000  303.000000  303.000000  303.000000  303.000000   \n",
       "mean     0.264026    0.600358    0.326733    0.167678    0.699670    0.182343   \n",
       "std      0.262930    0.174849    0.469794    0.187270    0.308113    0.255652   \n",
       "min      0.000000    0.000000    0.000000    0.000000    0.000000    0.000000   \n",
       "25%      0.000000    0.477099    0.000000    0.000000    0.500000    0.000000   \n",
       "50%      0.500000    0.625954    0.000000    0.129032    0.500000    0.000000   \n",
       "75%      0.500000    0.725191    1.000000    0.258065    1.000000    0.250000   \n",
       "max      1.000000    1.000000    1.000000    1.000000    1.000000    1.000000   \n",
       "\n",
       "               12  \n",
       "count  303.000000  \n",
       "mean     0.771177  \n",
       "std      0.204092  \n",
       "min      0.000000  \n",
       "25%      0.666667  \n",
       "50%      0.666667  \n",
       "75%      1.000000  \n",
       "max      1.000000  "
      ]
     },
     "execution_count": 129,
     "metadata": {},
     "output_type": "execute_result"
    }
   ],
   "source": [
    "from sklearn.preprocessing import MinMaxScaler\n",
    "\n",
    "# Definyng Scaler\n",
    "scaler = MinMaxScaler()\n",
    "\n",
    "# Standardization\n",
    "data_scaled = scaler.fit_transform(heart.loc[:, heart.columns != 'output'])\n",
    "data_scaled = pd.DataFrame(data_scaled)\n",
    "\n",
    "print(heart.shape)\n",
    "print(data_scaled.shape)\n",
    "data_scaled.describe()"
   ]
  },
  {
   "attachments": {},
   "cell_type": "markdown",
   "metadata": {},
   "source": [
    "## 3.2. División de bases de datos"
   ]
  },
  {
   "attachments": {},
   "cell_type": "markdown",
   "metadata": {},
   "source": [
    "Pepe Grillo le jala las patas. Él sabe que usted no ha hecho nada, pero tiene por seguro que se le estaba olvidando realizar la separación de la base de datos en entrenamiento y testeo. Le jala las patas y le dice: recuerde que su profesor le dijo que debía separar las bases de datos en entrenamiento (`train`) y testeo (`test`). Le recuerda, además, que debe hacerlo después de separar los datos entre `y` y `X`.\n",
    "\n",
    "> **Nota:** Pepe le recomienda utilizar en la división de la base de datos una semilla con número 2023."
   ]
  },
  {
   "cell_type": "code",
   "execution_count": 142,
   "metadata": {},
   "outputs": [
    {
     "name": "stdout",
     "output_type": "stream",
     "text": [
      "No. de ejemplos de entrenamiento: 242\n",
      "No. de ejemplos de testeo: 61\n"
     ]
    }
   ],
   "source": [
    "from sklearn.model_selection import train_test_split\n",
    "\n",
    "# Dividing y and X data\n",
    "y = heart['output']\n",
    "X = data_scaled\n",
    "\n",
    "# Splitting into training and test\n",
    "X_train, X_test, y_train, y_test = train_test_split(X, y, test_size = 0.2, random_state = 2023)\n",
    "\n",
    "print(f\"No. de ejemplos de entrenamiento: {y_train.shape[0]}\")\n",
    "print(f\"No. de ejemplos de testeo: {y_test.shape[0]}\")\n"
   ]
  },
  {
   "attachments": {},
   "cell_type": "markdown",
   "metadata": {},
   "source": [
    "## 3.3. Entrenameinto del modelo"
   ]
  },
  {
   "attachments": {},
   "cell_type": "markdown",
   "metadata": {},
   "source": [
    "¡Llegó la hora de la fiesta! Pepe Grillo salta a su hombro y se ponen manos a la obra. Pepe Grillo le dice que es momento de entrenar el modelo, así que le recuerda que el modelo de ML de kNN se define en la librería `sklearn`, en el módulo `neighbors`, bajo la función `KNeighborsClassifier()`. Al final, le recuerda, se descarga algo como: `from sklearn.neighbors import KNeighborsClassifier`.\n",
    "\n",
    "Le dice que entrene el modelo por ahora con tan solo 3 vecinos:"
   ]
  },
  {
   "cell_type": "code",
   "execution_count": 143,
   "metadata": {},
   "outputs": [
    {
     "data": {
      "text/plain": [
       "array([0, 1, 0, 0, 1, 1, 1, 0, 1, 1, 1, 0, 0, 1, 0, 0, 1, 0, 0, 1, 0, 0,\n",
       "       1, 0, 1, 1, 1, 1, 0, 0, 1, 1, 0, 0, 1, 1, 1, 1, 1, 0, 1, 1, 1, 1,\n",
       "       0, 0, 1, 0, 1, 1, 0, 1, 0, 1, 1, 0, 1, 0, 1, 0, 0], dtype=int64)"
      ]
     },
     "execution_count": 143,
     "metadata": {},
     "output_type": "execute_result"
    }
   ],
   "source": [
    "# Se importa la librería y módulo\n",
    "from sklearn.neighbors import KNeighborsClassifier\n",
    "\n",
    "# Se especifica el algoritmo\n",
    "knn = KNeighborsClassifier(n_neighbors = 3)\n",
    "\n",
    "# Se entrena el modelo con las bases de datos de entrenamiento\n",
    "knn.fit(X_train, y_train)\n",
    "\n",
    "# Se predice el resultado\n",
    "y_pred = knn.predict(X_test)\n",
    "y_pred"
   ]
  },
  {
   "attachments": {},
   "cell_type": "markdown",
   "metadata": {},
   "source": [
    "## 3.4. Evaluación del modelo"
   ]
  },
  {
   "attachments": {},
   "cell_type": "markdown",
   "metadata": {},
   "source": [
    "Pepe Grillo le dice que no debería evaluar el modelo, pero no se aguanta y le dice que lo haga, que pruebe con la base de testeo el rendimiento del modelo. Le recomienda que utilice la **precisión balanceada**, la cual es más adecuada en este caso que la precisión normal (pondera tanto la clase que tratamos de adivinar como la que no). \n",
    "\n",
    "Así que le recuerda que esto se hace con la librería `sklearn`, con el módulo `metrics`, con la función `balanced_accuracy_score()`:"
   ]
  },
  {
   "cell_type": "code",
   "execution_count": 144,
   "metadata": {},
   "outputs": [
    {
     "name": "stdout",
     "output_type": "stream",
     "text": [
      "Accuracy: 0.8371\n"
     ]
    }
   ],
   "source": [
    "# Se importa el módulo de métricas\n",
    "from sklearn import metrics\n",
    "\n",
    "# Se calcula la precisión del modelo\n",
    "print(\"Accuracy:\", round(metrics.balanced_accuracy_score(y_test, y_pred), 4))"
   ]
  },
  {
   "attachments": {},
   "cell_type": "markdown",
   "metadata": {},
   "source": [
    "¿Qué puntaje le dio el modelo? ¿Es bajo o alto?"
   ]
  },
  {
   "attachments": {},
   "cell_type": "markdown",
   "metadata": {},
   "source": [
    "# 3.5. Optimización de parámetros"
   ]
  },
  {
   "attachments": {},
   "cell_type": "markdown",
   "metadata": {},
   "source": [
    "Pepe Grillo le recuerda que **no debería devolverse después de hacer la prueba con la base de datos de testeo**, pero también recuerda que usted es estudiante por lo que debe enseñarle unas cosas adicionales. Por ello, le permite por esta y única vez que pueda devovlerse a hacer la optimización de los parámetros. \n",
    "\n",
    "Por eso, le pide que en una sola celda divida la base de datos en entrenamiento y testeo y entrene el modelo con k vecinos entre 1 y 100. Es decir, realice un ciclo que entrene el modelo con `k` vecinos, guarde la precisión balanceada y siga con el siguiente. Por último, muestre el número `k` de vecinos que maximiza la **precisión balanceada** del modelo:"
   ]
  },
  {
   "cell_type": "code",
   "execution_count": 156,
   "metadata": {},
   "outputs": [
    {
     "data": {
      "image/png": "[encoded data removed]",
      "text/plain": [
       "<Figure size 1080x540 with 1 Axes>"
      ]
     },
     "metadata": {
      "needs_background": "light"
     },
     "output_type": "display_data"
    },
    {
     "data": {
      "text/html": [
       "<div>\n",
       "<style scoped>\n",
       "    .dataframe tbody tr th:only-of-type {\n",
       "        vertical-align: middle;\n",
       "    }\n",
       "\n",
       "    .dataframe tbody tr th {\n",
       "        vertical-align: top;\n",
       "    }\n",
       "\n",
       "    .dataframe thead th {\n",
       "        text-align: right;\n",
       "    }\n",
       "</style>\n",
       "<table border=\"1\" class=\"dataframe\">\n",
       "  <thead>\n",
       "    <tr style=\"text-align: right;\">\n",
       "      <th></th>\n",
       "      <th>k</th>\n",
       "      <th>b_precision</th>\n",
       "      <th>f1</th>\n",
       "    </tr>\n",
       "  </thead>\n",
       "  <tbody>\n",
       "    <tr>\n",
       "      <th>0</th>\n",
       "      <td>1.0</td>\n",
       "      <td>0.877090</td>\n",
       "      <td>0.884615</td>\n",
       "    </tr>\n",
       "    <tr>\n",
       "      <th>7</th>\n",
       "      <td>8.0</td>\n",
       "      <td>0.814381</td>\n",
       "      <td>0.830189</td>\n",
       "    </tr>\n",
       "    <tr>\n",
       "      <th>3</th>\n",
       "      <td>4.0</td>\n",
       "      <td>0.800167</td>\n",
       "      <td>0.791667</td>\n",
       "    </tr>\n",
       "    <tr>\n",
       "      <th>5</th>\n",
       "      <td>6.0</td>\n",
       "      <td>0.797659</td>\n",
       "      <td>0.800000</td>\n",
       "    </tr>\n",
       "    <tr>\n",
       "      <th>6</th>\n",
       "      <td>7.0</td>\n",
       "      <td>0.792642</td>\n",
       "      <td>0.814815</td>\n",
       "    </tr>\n",
       "    <tr>\n",
       "      <th>...</th>\n",
       "      <td>...</td>\n",
       "      <td>...</td>\n",
       "      <td>...</td>\n",
       "    </tr>\n",
       "    <tr>\n",
       "      <th>44</th>\n",
       "      <td>45.0</td>\n",
       "      <td>0.667224</td>\n",
       "      <td>0.714286</td>\n",
       "    </tr>\n",
       "    <tr>\n",
       "      <th>46</th>\n",
       "      <td>47.0</td>\n",
       "      <td>0.667224</td>\n",
       "      <td>0.714286</td>\n",
       "    </tr>\n",
       "    <tr>\n",
       "      <th>47</th>\n",
       "      <td>48.0</td>\n",
       "      <td>0.667224</td>\n",
       "      <td>0.714286</td>\n",
       "    </tr>\n",
       "    <tr>\n",
       "      <th>48</th>\n",
       "      <td>49.0</td>\n",
       "      <td>0.667224</td>\n",
       "      <td>0.714286</td>\n",
       "    </tr>\n",
       "    <tr>\n",
       "      <th>49</th>\n",
       "      <td>50.0</td>\n",
       "      <td>0.667224</td>\n",
       "      <td>0.714286</td>\n",
       "    </tr>\n",
       "  </tbody>\n",
       "</table>\n",
       "<p>99 rows × 3 columns</p>\n",
       "</div>"
      ],
      "text/plain": [
       "       k  b_precision        f1\n",
       "0    1.0     0.877090  0.884615\n",
       "7    8.0     0.814381  0.830189\n",
       "3    4.0     0.800167  0.791667\n",
       "5    6.0     0.797659  0.800000\n",
       "6    7.0     0.792642  0.814815\n",
       "..   ...          ...       ...\n",
       "44  45.0     0.667224  0.714286\n",
       "46  47.0     0.667224  0.714286\n",
       "47  48.0     0.667224  0.714286\n",
       "48  49.0     0.667224  0.714286\n",
       "49  50.0     0.667224  0.714286\n",
       "\n",
       "[99 rows x 3 columns]"
      ]
     },
     "execution_count": 156,
     "metadata": {},
     "output_type": "execute_result"
    }
   ],
   "source": [
    "# Se importa la librería y módulo\n",
    "from sklearn.model_selection import train_test_split\n",
    "\n",
    "from sklearn.neighbors import KNeighborsClassifier\n",
    "from sklearn.metrics import balanced_accuracy_score, f1_score\n",
    "\n",
    "import matplotlib.pyplot as plt\n",
    "\n",
    "# Dividing y and X data\n",
    "y = heart['output']\n",
    "X = data_scaled\n",
    "\n",
    "# Splitting into training and test\n",
    "X_train, X_test, y_train, y_test = train_test_split(X, y, test_size = 0.2, random_state = 2023)\n",
    "X_train, X_val, y_train, y_val = train_test_split(X_train, y_train, test_size = 0.2, random_state = 2023)\n",
    "\n",
    "# Se crea una base de datos para guardar los resultados\n",
    "res = pd.DataFrame(columns = [\"k\", \"b_precision\", \"f1\"])\n",
    "\n",
    "for k in range(1, 100):\n",
    "\n",
    "    # Se especifica el algoritmo\n",
    "    knn = KNeighborsClassifier(n_neighbors = k)\n",
    "\n",
    "    # Se entrena el modelo con las bases de datos de entrenamiento\n",
    "    knn.fit(X_train, y_train)\n",
    "\n",
    "    # Se predice el resultado\n",
    "    y_pred = knn.predict(X_val)\n",
    "\n",
    "    # Se agregan los resultados\n",
    "    res = res.append({\"k\": k, \"b_precision\" : balanced_accuracy_score(y_val, y_pred), \"f1\": f1_score(y_val, y_pred)}, ignore_index = True)\n",
    "\n",
    "plt.figure(figsize = (15, 7.5))\n",
    "plt.plot(res['k'], res['b_precision'])\n",
    "plt.title('Precisión balanceada - Modelo kNN')\n",
    "plt.xlabel('Número de vecinos (k)'); plt.ylabel('Precisión balanceada')\n",
    "plt.show()\n",
    "\n",
    "res.sort_values('b_precision', ascending=False)"
   ]
  },
  {
   "attachments": {},
   "cell_type": "markdown",
   "metadata": {},
   "source": [
    "> ¡No tan rápido, vaquero! Pepe Grillo está casi seguro que se le estaba olvidando que el ciclo de optimización se realiza con **la base de datos de validación, no la de testeo**. Con sorbito de juguito juzgador le dice que se devuelva y lo intente otra vez."
   ]
  },
  {
   "attachments": {},
   "cell_type": "markdown",
   "metadata": {},
   "source": [
    "## 3.6. Evaluación del modelo final"
   ]
  },
  {
   "attachments": {},
   "cell_type": "markdown",
   "metadata": {},
   "source": [
    "Ahora sí, Pepe Grillo le dice que realice la medición del modelo final con el `k` óptimo que le entregó la validación del ciclo anterior. Para ello, debe entrenar el nuevo modelo con el `k` óptimo y realizar la predicción del modelo."
   ]
  },
  {
   "cell_type": "code",
   "execution_count": 159,
   "metadata": {},
   "outputs": [
    {
     "name": "stdout",
     "output_type": "stream",
     "text": [
      "================================================================\n",
      "Precisión Balanceada: 0.7387\n",
      "================================================================\n"
     ]
    }
   ],
   "source": [
    "# Se importa la librería y módulo\n",
    "from sklearn.neighbors import KNeighborsClassifier\n",
    "from sklearn.metrics import balanced_accuracy_score\n",
    "\n",
    "# Se especifica el algoritmo\n",
    "knn = KNeighborsClassifier(n_neighbors = 1)\n",
    "\n",
    "# Se entrena el modelo con las bases de datos de entrenamiento\n",
    "knn.fit(X_train, y_train)\n",
    "\n",
    "# Se predice el resultado\n",
    "y_pred = knn.predict(X_test)\n",
    "\n",
    "# Se calcula la precisión del modelo\n",
    "print(\"=\"*64)\n",
    "print(\"Precisión Balanceada:\", round(balanced_accuracy_score(y_test, y_pred), 4))\n",
    "print(\"=\"*64)"
   ]
  },
  {
   "attachments": {},
   "cell_type": "markdown",
   "metadata": {},
   "source": [
    "¿Cuánta fue la precisión balanceada de este modelo? ¿Fue mejor o peor?"
   ]
  },
  {
   "attachments": {},
   "cell_type": "markdown",
   "metadata": {},
   "source": [
    "> Pepe Grillo le va a explicar qué ocurrió. Probablemente le ocurrió que el `k` óptimo le otorgó una precisión balanceada menor de la que obtuvo cuando hizo el primer modelo adivinando el `k`. ¿Por qué ocurre esto? \n",
    ">\n",
    "> Elemental, le dice Pepe Grillo. Como le había comentado su profesor, en este punto usted está intercambiando **sesgo** por **varianza**. ¿Cómo así? Al entrenar con una base de datos (entrenamiento) y elegir el parámetro óptimo con otra (validación), usted está reduciendo el error por varianza que ocurre al ingresar nuevos datos. Si usted encuentra el k óptimo adivinando, puede que haya sido suerte, cuando con este método se asegura de encontrar una metodología reproducible y con argumentos que sostenga su elección, además que puede que funcione con nuevos datos.\n",
    ">\n",
    "> Así que, le recuerda Pepe, no se preocupe. Pronto todo tendrá sentido."
   ]
  },
  {
   "attachments": {},
   "cell_type": "markdown",
   "metadata": {},
   "source": [
    "# 4. Decision Tree"
   ]
  },
  {
   "attachments": {},
   "cell_type": "markdown",
   "metadata": {},
   "source": [
    "¡Siguiente modelo! Le dice Pepe. Ahora vamos a intentar con un árbol de decisión. ¿Le emociona? ¡Claro que sí! Vamos por eso."
   ]
  },
  {
   "attachments": {},
   "cell_type": "markdown",
   "metadata": {},
   "source": [
    "## 4.1. Entrenamiento del modelo\n",
    "\n",
    "Pepe Grillo le dice que ya no es necesario tener en dos celdas diferentes su código para separar la base de datos de entrenamiento y testeo y otro para entrenar el modelo. Él cree que ya usted va adquiriendo experiencia suficiente para realizar todo el código en una sola celda, aunque es un reto. Si no puede, está bien, es mejor hacer algo por partes que no hacerlo. Por ello le dice que haga la separación de la base de datos (con semilla 2023), entrene el modelo de árbol de decisión sin ningún parámetro y evalúe su rendimiento con la base de datos de testeo.\n",
    "\n",
    "Las funciones adicionales que utilizará son:\n",
    "* Para el árbol de decisión, utilizará `sklearn`, el módulo `tree`, la función `DecisionTreeClassifier()`."
   ]
  },
  {
   "cell_type": "code",
   "execution_count": 161,
   "metadata": {},
   "outputs": [
    {
     "name": "stdout",
     "output_type": "stream",
     "text": [
      "================================================================\n",
      "El rendimiento del modelo es:  0.754\n",
      "================================================================\n"
     ]
    }
   ],
   "source": [
    "# Importamos los paquetes\n",
    "from sklearn.model_selection import train_test_split\n",
    "from sklearn.tree import DecisionTreeClassifier\n",
    "\n",
    "from sklearn.metrics import balanced_accuracy_score\n",
    "\n",
    "# Splitting X and y\n",
    "X = heart.drop(['output'], axis = 1)\n",
    "y = heart['output']\n",
    "\n",
    "# Splitting in train, validation and test datasets\n",
    "X_train, X_test, y_train, y_test = train_test_split(X, y, test_size = 0.2, random_state = 2023)\n",
    "\n",
    "# Definimos el modelo\n",
    "clf = DecisionTreeClassifier()\n",
    "\n",
    "# Entrenamos el modelo\n",
    "clf.fit(X_train, y_train)\n",
    "\n",
    "# Predicción\n",
    "y_pred = clf.predict(X_test)\n",
    "\n",
    "print(\"=\"*64)\n",
    "print(\"El rendimiento del modelo es: \", round(balanced_accuracy_score(y_test, y_pred), 3))\n",
    "print(\"=\"*64)"
   ]
  },
  {
   "attachments": {},
   "cell_type": "markdown",
   "metadata": {},
   "source": [
    "¿Cuál fue el rendimiento del modelo? ¿Es bueno o malo? ¿Mejoró o empeoró?"
   ]
  },
  {
   "attachments": {},
   "cell_type": "markdown",
   "metadata": {},
   "source": [
    "## 4.2. Optimización de parámetros\n",
    "\n",
    "Pepe Grillo le dice que usted puede, que confía en usted: vamos a optimizar parámetros. Le va a ayudar con algo, que es la grilla de optimización (tranquilo, es un diccionario con los parámetros a observar). Con ella realice la optimización de parámetros y encuentre el mejor modelo:"
   ]
  },
  {
   "cell_type": "code",
   "execution_count": 162,
   "metadata": {},
   "outputs": [],
   "source": [
    "# Definiremos los parámetros a revisar\n",
    "params ={\n",
    "    'criterion': ['gini', 'entropy'],\n",
    "    'max_depth': [None, 2, 4, 6, 8, 10, 12, 14, 16, 18, 20],\n",
    "    'max_features': [None, 'sqrt', 'log2', 0.2, 0.4, 0.6, 0.8],\n",
    "    'splitter': ['best', 'random']\n",
    "}"
   ]
  },
  {
   "cell_type": "code",
   "execution_count": 164,
   "metadata": {},
   "outputs": [
    {
     "data": {
      "text/html": [
       "<div>\n",
       "<style scoped>\n",
       "    .dataframe tbody tr th:only-of-type {\n",
       "        vertical-align: middle;\n",
       "    }\n",
       "\n",
       "    .dataframe tbody tr th {\n",
       "        vertical-align: top;\n",
       "    }\n",
       "\n",
       "    .dataframe thead th {\n",
       "        text-align: right;\n",
       "    }\n",
       "</style>\n",
       "<table border=\"1\" class=\"dataframe\">\n",
       "  <thead>\n",
       "    <tr style=\"text-align: right;\">\n",
       "      <th></th>\n",
       "      <th>criterion</th>\n",
       "      <th>max_depth</th>\n",
       "      <th>max_features</th>\n",
       "      <th>splitter</th>\n",
       "      <th>accuracy</th>\n",
       "    </tr>\n",
       "  </thead>\n",
       "  <tbody>\n",
       "    <tr>\n",
       "      <th>243</th>\n",
       "      <td>entropy</td>\n",
       "      <td>12</td>\n",
       "      <td>log2</td>\n",
       "      <td>random</td>\n",
       "      <td>0.857143</td>\n",
       "    </tr>\n",
       "    <tr>\n",
       "      <th>279</th>\n",
       "      <td>entropy</td>\n",
       "      <td>16</td>\n",
       "      <td>0.8</td>\n",
       "      <td>random</td>\n",
       "      <td>0.836735</td>\n",
       "    </tr>\n",
       "    <tr>\n",
       "      <th>72</th>\n",
       "      <td>gini</td>\n",
       "      <td>10</td>\n",
       "      <td>sqrt</td>\n",
       "      <td>best</td>\n",
       "      <td>0.816327</td>\n",
       "    </tr>\n",
       "    <tr>\n",
       "      <th>78</th>\n",
       "      <td>gini</td>\n",
       "      <td>10</td>\n",
       "      <td>0.4</td>\n",
       "      <td>best</td>\n",
       "      <td>0.816327</td>\n",
       "    </tr>\n",
       "    <tr>\n",
       "      <th>65</th>\n",
       "      <td>gini</td>\n",
       "      <td>8</td>\n",
       "      <td>0.4</td>\n",
       "      <td>random</td>\n",
       "      <td>0.795918</td>\n",
       "    </tr>\n",
       "    <tr>\n",
       "      <th>...</th>\n",
       "      <td>...</td>\n",
       "      <td>...</td>\n",
       "      <td>...</td>\n",
       "      <td>...</td>\n",
       "      <td>...</td>\n",
       "    </tr>\n",
       "    <tr>\n",
       "      <th>153</th>\n",
       "      <td>gini</td>\n",
       "      <td>20</td>\n",
       "      <td>0.8</td>\n",
       "      <td>random</td>\n",
       "      <td>0.591837</td>\n",
       "    </tr>\n",
       "    <tr>\n",
       "      <th>262</th>\n",
       "      <td>entropy</td>\n",
       "      <td>14</td>\n",
       "      <td>0.6</td>\n",
       "      <td>best</td>\n",
       "      <td>0.591837</td>\n",
       "    </tr>\n",
       "    <tr>\n",
       "      <th>223</th>\n",
       "      <td>entropy</td>\n",
       "      <td>8</td>\n",
       "      <td>0.8</td>\n",
       "      <td>random</td>\n",
       "      <td>0.571429</td>\n",
       "    </tr>\n",
       "    <tr>\n",
       "      <th>20</th>\n",
       "      <td>gini</td>\n",
       "      <td>2</td>\n",
       "      <td>0.2</td>\n",
       "      <td>best</td>\n",
       "      <td>0.571429</td>\n",
       "    </tr>\n",
       "    <tr>\n",
       "      <th>113</th>\n",
       "      <td>gini</td>\n",
       "      <td>16</td>\n",
       "      <td>None</td>\n",
       "      <td>random</td>\n",
       "      <td>0.551020</td>\n",
       "    </tr>\n",
       "  </tbody>\n",
       "</table>\n",
       "<p>308 rows × 5 columns</p>\n",
       "</div>"
      ],
      "text/plain": [
       "    criterion max_depth max_features splitter  accuracy\n",
       "243   entropy        12         log2   random  0.857143\n",
       "279   entropy        16          0.8   random  0.836735\n",
       "72       gini        10         sqrt     best  0.816327\n",
       "78       gini        10          0.4     best  0.816327\n",
       "65       gini         8          0.4   random  0.795918\n",
       "..        ...       ...          ...      ...       ...\n",
       "153      gini        20          0.8   random  0.591837\n",
       "262   entropy        14          0.6     best  0.591837\n",
       "223   entropy         8          0.8   random  0.571429\n",
       "20       gini         2          0.2     best  0.571429\n",
       "113      gini        16         None   random  0.551020\n",
       "\n",
       "[308 rows x 5 columns]"
      ]
     },
     "execution_count": 164,
     "metadata": {},
     "output_type": "execute_result"
    }
   ],
   "source": [
    "from sklearn.model_selection import train_test_split\n",
    "from sklearn.tree import DecisionTreeClassifier\n",
    "\n",
    "# Splitting X and y\n",
    "X = heart.drop(['output'], axis = 1)\n",
    "y = heart['output']\n",
    "\n",
    "# Splitting in train, validation and test datasets\n",
    "X_train, X_test, y_train, y_test = train_test_split(X, y, test_size = 0.2, random_state = 42)\n",
    "X_train, X_val, y_train, y_val = train_test_split(X_train, y_train, test_size = 0.2, random_state = 42)\n",
    "\n",
    "res = pd.DataFrame(columns = ['criterion', 'max_depth', 'max_features', 'splitter', 'accuracy'])\n",
    "\n",
    "for criterion in params['criterion']:\n",
    "    for max_depth in params['max_depth']:\n",
    "        for max_features in params['max_features']:\n",
    "            for splitter in params['splitter']:\n",
    "\n",
    "                # Entrenamiento\n",
    "                clf = DecisionTreeClassifier(criterion = criterion, max_depth = max_depth, max_features = max_features, splitter = splitter)\\\n",
    "                            .fit(X_train, y_train)\n",
    "\n",
    "                # Predicción\n",
    "                y_pred = clf.predict(X_val)\n",
    "\n",
    "                res = res.append({'criterion': criterion, 'max_depth': max_depth, 'max_features': max_features, \\\n",
    "                    'splitter': splitter, 'accuracy': accuracy_score(y_val, y_pred)}, ignore_index = True)\n",
    "\n",
    "res.sort_values('accuracy', ascending = False)"
   ]
  },
  {
   "attachments": {},
   "cell_type": "markdown",
   "metadata": {},
   "source": [
    "## 4.3. Evaluación del modelo final\n",
    "\n",
    "Ahora sí, vamos con toda: evalúe el modelo final que encontró en el punto anterior y encuentre el rendimiento del modelo con la base de datos de testeo:"
   ]
  },
  {
   "cell_type": "code",
   "execution_count": 165,
   "metadata": {},
   "outputs": [
    {
     "name": "stdout",
     "output_type": "stream",
     "text": [
      "================================================================\n",
      "El rendimiento del modelo es:  0.803\n",
      "================================================================\n"
     ]
    }
   ],
   "source": [
    "from sklearn.tree import DecisionTreeClassifier\n",
    "from sklearn.metrics import accuracy_score\n",
    "\n",
    "# Splitting X and y\n",
    "X = heart.drop(['output'], axis = 1)\n",
    "y = heart['output']\n",
    "\n",
    "# Splitting in train, validation and test datasets\n",
    "X_train, X_test, y_train, y_test = train_test_split(X, y, test_size = 0.2, random_state = 42)\n",
    "\n",
    "# Definimos el modelo\n",
    "clf = DecisionTreeClassifier(criterion = res.iloc[0]['criterion'], max_depth = res.iloc[0]['max_depth'],\\\n",
    "     max_features = res.iloc[0]['max_features'], splitter = res.iloc[0]['splitter']).fit(X_train, y_train)\n",
    "\n",
    "\n",
    "# Predicción\n",
    "y_pred = clf.predict(X_test)\n",
    "\n",
    "print(\"=\"*64)\n",
    "print(\"El rendimiento del modelo es: \", round(accuracy_score(y_test, y_pred), 3))\n",
    "print(\"=\"*64)"
   ]
  },
  {
   "attachments": {},
   "cell_type": "markdown",
   "metadata": {},
   "source": [
    "¿Cómo es el rendimiento del modelo? ¿Mejora respecto al modelo anterior?"
   ]
  },
  {
   "attachments": {},
   "cell_type": "markdown",
   "metadata": {},
   "source": [
    "> ¡Bonus! Esto se lo regala Pepe Grillo: una optimización de híperparámetros por validación cruzada por búsqueda aleatoria. Es decir, la búsqueda de los mejores parámetros por medio de pruebas aleatorias entre los parámetros. Esto ayuda porque en ocasiones la validación cruzada resulta muy demandante computacionalmente.\n",
    ">\n",
    "> Así, para dejarle este regalo, le muestra cómo se realiza esta mejor búsqueda que, como se va a ver, mejora el rendimiento del modelo porque reduce la varianza por la validación cruzada que utiliza toda la base de datos de entrenamiento:"
   ]
  },
  {
   "cell_type": "code",
   "execution_count": 167,
   "metadata": {},
   "outputs": [
    {
     "name": "stdout",
     "output_type": "stream",
     "text": [
      "Size of train dataset:  242\n",
      "Size of test dataset:  61\n",
      "DecisionTreeClassifier(criterion='entropy', max_depth=48)\n",
      "{'splitter': 'best', 'max_features': None, 'max_depth': 48, 'criterion': 'entropy'}\n",
      "================================================================\n",
      "El rendimiento del modelo es:  0.836\n",
      "================================================================\n"
     ]
    }
   ],
   "source": [
    "import pandas as pd\n",
    "\n",
    "from sklearn.tree import DecisionTreeClassifier\n",
    "from sklearn.model_selection import RandomizedSearchCV\n",
    "\n",
    "from sklearn.model_selection import train_test_split\n",
    "from sklearn.metrics import accuracy_score\n",
    "\n",
    "# Splitting X and y\n",
    "X = heart.drop(['output'], axis = 1)\n",
    "y = heart['output']\n",
    "\n",
    "# Splitting in train, validation and test datasets\n",
    "X_train, X_test, y_train, y_test = train_test_split(X, y, test_size = 0.2, random_state = 42)\n",
    "\n",
    "print(\"Size of train dataset: \", X_train.shape[0])\n",
    "print(\"Size of test dataset: \", X_test.shape[0])\n",
    "\n",
    "# Definiremos los parámetros a revisar\n",
    "params ={\n",
    "    'criterion': ['gini', 'entropy'],\n",
    "    'max_depth': range(2, 50, 2),\n",
    "    'max_features': [None, 'sqrt', 'log2', 0.2, 0.4, 0.6, 0.8],\n",
    "    'splitter': ['best', 'random']\n",
    "}\n",
    "\n",
    "clf = DecisionTreeClassifier()\n",
    "\n",
    "# Cross_Validation\n",
    "clf_est = RandomizedSearchCV(clf, params , n_iter=10, cv=3, scoring='accuracy').fit(X_train, y_train)\n",
    "\n",
    "print(clf_est.best_estimator_)\n",
    "print(clf_est.best_params_)\n",
    "\n",
    "# Prediction\n",
    "y_pred = clf_est.predict(X_test)\n",
    "\n",
    "print(\"=\"*64)\n",
    "print(\"El rendimiento del modelo es: \", round(accuracy_score(y_test, y_pred), 3))\n",
    "print(\"=\"*64)\n"
   ]
  },
  {
   "attachments": {},
   "cell_type": "markdown",
   "metadata": {},
   "source": [
    "# 5. Logistic Regression"
   ]
  },
  {
   "attachments": {},
   "cell_type": "markdown",
   "metadata": {},
   "source": [
    "¡Último modelo! Vamos a probar una regresión logística, dice Pepe Grillo. Esta la conoces bastante, te dice, y es apropiada para este tipo de problemas, ya que tiene una función que se ajusta a las probabilidades (¡a la probabilidad de tener un ataque cardíaco, precisamente!).\n",
    "\n",
    "Probemos:"
   ]
  },
  {
   "attachments": {},
   "cell_type": "markdown",
   "metadata": {},
   "source": [
    "# 5.1. Entrenamiento del modelo"
   ]
  },
  {
   "attachments": {},
   "cell_type": "markdown",
   "metadata": {},
   "source": [
    "Separe la base de dato y entrene el modelo. Para la regresión logística se utiliza de `sklearn`, del módulo `linear_model`, la función `LogisticRegression()`:"
   ]
  },
  {
   "cell_type": "code",
   "execution_count": 170,
   "metadata": {},
   "outputs": [
    {
     "name": "stdout",
     "output_type": "stream",
     "text": [
      "================================================================\n",
      "El rendimiento del modelo es:  0.885\n",
      "================================================================\n"
     ]
    }
   ],
   "source": [
    "from sklearn.model_selection import train_test_split\n",
    "from sklearn.linear_model import LogisticRegression\n",
    "\n",
    "import warnings\n",
    "\n",
    "# Ignoring warnings as they've been already checked\n",
    "warnings.filterwarnings('ignore')\n",
    "\n",
    "# Splitting X and y\n",
    "X = heart.drop(['output'], axis = 1)\n",
    "y = heart['output']\n",
    "\n",
    "# Splitting in train, validation and test datasets\n",
    "X_train, X_test, y_train, y_test = train_test_split(X, y, test_size = 0.2, random_state = 42)\n",
    "\n",
    "# Definimos el modelo\n",
    "log_reg = LogisticRegression()\n",
    "\n",
    "# Entrenamos el modelo\n",
    "log_reg.fit(X_train, y_train)\n",
    "\n",
    "# Predicción\n",
    "y_pred = log_reg.predict(X_test)\n",
    "\n",
    "print(\"=\"*64)\n",
    "print(\"El rendimiento del modelo es: \", round(accuracy_score(y_test, y_pred), 3))\n",
    "print(\"=\"*64)"
   ]
  },
  {
   "attachments": {},
   "cell_type": "markdown",
   "metadata": {},
   "source": [
    "¿Cómo se desempeña este modelo? ¿Mejor o peor?"
   ]
  },
  {
   "attachments": {},
   "cell_type": "markdown",
   "metadata": {},
   "source": [
    "## 5.2. Optimización de los parámetros"
   ]
  },
  {
   "attachments": {},
   "cell_type": "markdown",
   "metadata": {},
   "source": [
    "Ahora optimice parámetros. Pepe le entrega un diccionario para buscar parámetros y le dice que optimice y encuentre el mejor, utilizando cualquier tipo de optimización que desee:"
   ]
  },
  {
   "cell_type": "code",
   "execution_count": 171,
   "metadata": {},
   "outputs": [],
   "source": [
    "# Definiremos los parámetros a revisar\n",
    "params ={\n",
    "    'penalty': ['l1', 'l2', 'elasticnet', None],\n",
    "    'dual': [True, False],\n",
    "    'C': [0.2, 0.4, 0.6, 0.8, 1.0, 1.2, 1.4, 1.6, 1.8, 2.0],\n",
    "    'solver': ['lbfgs', 'liblinear', 'newton-cg', 'newton-cholesky', 'sag', 'saga'],\n",
    "    'multi_class': ['auto', 'ovr', 'multinomial'],\n",
    "    'random_state' : [2023]\n",
    "}"
   ]
  },
  {
   "cell_type": "code",
   "execution_count": 122,
   "metadata": {},
   "outputs": [
    {
     "name": "stdout",
     "output_type": "stream",
     "text": [
      "================================================================\n",
      "Specifications of best model (via Randomized CV):\n",
      "\n",
      "LogisticRegression(C=0.8, random_state=2023, solver='liblinear')\n",
      "{'solver': 'liblinear', 'random_state': 2023, 'penalty': 'l2', 'multi_class': 'auto', 'dual': False, 'C': 0.8}\n",
      "================================================================ \n",
      "\n",
      "================================================================\n",
      "El rendimiento del modelo es:  0.82\n",
      "================================================================ \n",
      "\n"
     ]
    }
   ],
   "source": [
    "import pandas as pd\n",
    "\n",
    "from sklearn.linear_model import LogisticRegression\n",
    "from sklearn.model_selection import RandomizedSearchCV\n",
    "\n",
    "from sklearn.model_selection import train_test_split\n",
    "from sklearn.metrics import accuracy_score\n",
    "\n",
    "# Ignoring warnings as they've been already checked\n",
    "import warnings\n",
    "warnings.filterwarnings('ignore')\n",
    "\n",
    "# Splitting X and y\n",
    "X = heart.drop(['output'], axis = 1)\n",
    "y = heart['output']\n",
    "\n",
    "# Splitting in train, validation and test datasets\n",
    "X_train, X_test, y_train, y_test = train_test_split(X, y, test_size = 0.2, random_state = 2023)\n",
    "\n",
    "# Definiremos los parámetros a revisar\n",
    "params ={\n",
    "    'penalty': ['l1', 'l2', 'elasticnet', None],\n",
    "    'dual': [True, False],\n",
    "    'C': [0.2, 0.4, 0.6, 0.8, 1.0, 1.2, 1.4, 1.6, 1.8, 2.0],\n",
    "    'solver': ['lbfgs', 'liblinear', 'newton-cg', 'newton-cholesky', 'sag', 'saga'],\n",
    "    'multi_class': ['auto', 'ovr', 'multinomial'],\n",
    "    'random_state' : [2023]\n",
    "}\n",
    "\n",
    "\n",
    "log_reg = LogisticRegression()\n",
    "\n",
    "# Cross_Validation\n",
    "log_reg_est = RandomizedSearchCV(log_reg, params , n_iter=10, cv=3, scoring='accuracy').fit(X_train, y_train)\n",
    "\n",
    "print(\"=\"*64)\n",
    "print(\"Specifications of best model (via Randomized CV):\\n\")\n",
    "print(log_reg_est.best_estimator_)\n",
    "print(log_reg_est.best_params_)\n",
    "print(\"=\"*64, \"\\n\")\n",
    "\n",
    "# Prediction\n",
    "y_pred = log_reg_est.predict(X_test)\n",
    "\n",
    "print(\"=\"*64)\n",
    "print(\"El rendimiento del modelo es: \", round(accuracy_score(y_test, y_pred), 3))\n",
    "print(\"=\"*64, \"\\n\")"
   ]
  },
  {
   "attachments": {},
   "cell_type": "markdown",
   "metadata": {},
   "source": [
    "¿El rendimiento mejora? ¿Cuál es el mejor modelo de los tres? ¿Cuál le recomienda utilizar a sus clientes?"
   ]
  }
 ],
 "metadata": {
  "kernelspec": {
   "display_name": "Python 3",
   "language": "python",
   "name": "python3"
  },
  "language_info": {
   "codemirror_mode": {
    "name": "ipython",
    "version": 3
   },
   "file_extension": ".py",
   "mimetype": "text/x-python",
   "name": "python",
   "nbconvert_exporter": "python",
   "pygments_lexer": "ipython3",
   "version": "3.10.5"
  },
  "orig_nbformat": 4
 },
 "nbformat": 4,
 "nbformat_minor": 2
}
