{
 "cells": [
  {
   "cell_type": "markdown",
   "metadata": {},
   "source": [
    "# Parcial 3: Introducción a Machine Learning\n",
    "\n",
    "&emsp; **Fundación Universitaria Los Libertadores**. <br>\n",
    "&emsp; **Asignatura:** Big Data. <br>\n",
    "&emsp; **Período:** 2023-I. <br>\n",
    "&emsp; **Profesor:** Juan Martín Londoño Zuluaga. <br>\n",
    "&emsp; **Estudiante:**"
   ]
  },
  {
   "cell_type": "markdown",
   "metadata": {},
   "source": [
    "# Salvando el Semestre\n",
    "\n",
    "Ya es sabido: los estudiantes de Big Data de la FULL no solo son los mejores analistas de datos, sino que también son los mejores en Machine Learning. Por ello, una universidad le ha contratado para predecir cuáles son los determinantes que hacen que sus estudiantes aprueben los exámenes finales.\n",
    "\n",
    "Para ello, le entregan la base de datos sobre diferentes datos sociodemográficos de sus estudiantes y cómo les ha ido en sus exámenes. El enlace de la base de datos se puede encontrar [aquí](https://www.kaggle.com/datasets/whenamancodes/students-performance-in-exams).\n",
    "\n",
    "El objetivo es crear un modelo que prediga, a partir de los datos sociodemográficos de un estudiante, si probablemente aprobará un examen, con tal que se pueda prestar ayuda a aquellos que estén en riesgo de no pasar."
   ]
  },
  {
   "cell_type": "markdown",
   "metadata": {},
   "source": [
    "# 1. Importe de los datos\n",
    "\n",
    "Cargue los datos y muestre las primeras 5 observaciones:"
   ]
  },
  {
   "cell_type": "code",
   "execution_count": null,
   "metadata": {
    "vscode": {
     "languageId": "plaintext"
    }
   },
   "outputs": [],
   "source": []
  }
 ],
 "metadata": {
  "language_info": {
   "name": "python"
  }
 },
 "nbformat": 4,
 "nbformat_minor": 2
}
