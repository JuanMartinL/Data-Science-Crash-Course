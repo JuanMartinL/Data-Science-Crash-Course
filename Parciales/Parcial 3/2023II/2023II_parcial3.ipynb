{
 "cells": [
  {
   "cell_type": "markdown",
   "metadata": {},
   "source": [
    "# Parcial 3: Introducción a Machine Learning\n",
    "\n",
    "&emsp; **Fundación Universitaria Los Libertadores**. <br>\n",
    "&emsp; **Asignatura:** Big Data. <br>\n",
    "&emsp; **Período:** 2023-I. <br>\n",
    "&emsp; **Profesor:** Juan Martín Londoño Zuluaga. <br>\n",
    "&emsp; **Estudiante:**"
   ]
  },
  {
   "cell_type": "markdown",
   "metadata": {},
   "source": [
    "# Salvando el Semestre\n",
    "\n",
    "Ya es sabido: los estudiantes de Big Data de la FULL no solo son los mejores analistas de datos, sino que también son los mejores en Machine Learning. Por ello, una universidad le ha contratado para predecir cuáles son los determinantes que hacen que sus estudiantes aprueben los exámenes finales.\n",
    "\n",
    "Para ello, le entregan la base de datos sobre diferentes datos sociodemográficos de sus estudiantes y cómo les ha ido en sus exámenes. El enlace de la base de datos se puede encontrar [aquí](https://www.kaggle.com/datasets/whenamancodes/students-performance-in-exams).\n",
    "\n",
    "El objetivo es crear un modelo que prediga, a partir de los datos sociodemográficos de un estudiante, si probablemente aprobará un examen, con tal que se pueda prestar ayuda a aquellos que estén en riesgo de no pasar.\n",
    "\n",
    "En ese sentido, su cliente le pide que realice modelos de Machine Learning (ML) para clasificar a sus estudiantes de acuerdo con la probabilidad de que aprueben el examen. \n",
    "\n",
    "Para esta Universidad, un puntaje más alto a 60 puntos corresponde a aprobar el examen. Así mismo, a sus clientes le interesa observar solamente el examen de matemáticas. Si desea, puede replicar el ejercicio en los otros test, pero les importa el examen de matemáticas."
   ]
  },
  {
   "cell_type": "markdown",
   "metadata": {},
   "source": [
    "# 1. Importe de los datos\n",
    "\n",
    "Cargue los datos y muestre las primeras 5 observaciones:"
   ]
  },
  {
   "cell_type": "code",
   "execution_count": null,
   "metadata": {},
   "outputs": [],
   "source": []
  },
  {
   "cell_type": "markdown",
   "metadata": {},
   "source": [
    "# 2. Preprocesamiento y EDA (10 puntos)\n",
    "\n",
    "Rápidamente, revise las características básicas de los datos: valores perdidos, valores únicos y algunas distribuciones para guiarse."
   ]
  },
  {
   "cell_type": "code",
   "execution_count": null,
   "metadata": {},
   "outputs": [],
   "source": []
  },
  {
   "cell_type": "markdown",
   "metadata": {},
   "source": [
    "> \"¡Pero espera un momento!\" - Dice un grillo en su hombro.\n",
    "\n",
    "¡Es Pepe Grillo!\n",
    "\n",
    "> \"Antes de empezar, debes recordar que solo vas a observar el examen de matemáticas y que te están pidiendo la probabilidad de que apruebe un estudiante dicho examen. _No te están pidiendo que predigas el puntaje_.\" - Recita en tu oído. \n",
    "\n",
    "\"¿Qué significa esto?\" Te preguntas.\n",
    "\n",
    "> \"¡Debes empezar creando una variable que sea igual a 1 si aprobó el examen y 0 si no lo aprobó!\" - Grita Pepe Grillo cogiéndose el sombrero.\n",
    "\n",
    "En ese sentido, construya una variable que sea la variable objetivo de predicción (o variable dependiente) que sea igual a 1 si aprobó el examen o 0 si lo reprobó. En términos de la Universidad, debe tomar el valor de 1 si el puntaje sobrepasa los 60 puntos y 0 si no lo hace."
   ]
  },
  {
   "cell_type": "code",
   "execution_count": null,
   "metadata": {},
   "outputs": [],
   "source": []
  },
  {
   "cell_type": "markdown",
   "metadata": {},
   "source": [
    "# 3. K vecinos más cercanos (K Nearest Neighbours) (15 puntos)"
   ]
  },
  {
   "cell_type": "markdown",
   "metadata": {},
   "source": [
    "Sus clientes le piden que realice modelos de Machine Learning (ML) para clasificar a sus nuevos clientes de acuerdo con la probabilidad de que aprueben el examen. Por ello, usted, ingeniero de ML, sabe que puede empezar con un modelo sencillo: un modelo de k vecinos más cercanos (kNN). Por ello, Pepe Grillo, su conciencia, le recuerda los pasos para realizar este modelo:"
   ]
  },
  {
   "cell_type": "markdown",
   "metadata": {},
   "source": [
    "## 3.1. Preprocesamiento de los datos\n",
    "\n",
    "Pepe le recuerda que debe realizar un preprocesamiento de los datos en primer lugar. Para ello, le recuerda que debe hacer dos cosas:\n",
    "\n",
    "1. Convertir en categoría la variable que creó, la cual va a ser la variable objetivo para su modelo.\n",
    "2. Realizar una estandarización de las variables que va a utilizar en el modelo, ya que este modelo es sensible a los niveles en los que pueden estar las variables de su base de datos. Por ello, con el módulo `preprocessing` de `sklearn`, estandarice la base de datos con la función `MinMaxScaler`(estandarización min-max).\n",
    "\n",
    "En ese sentido, realice el primer proceso: convertir `output` en una variable categórica:"
   ]
  },
  {
   "cell_type": "code",
   "execution_count": null,
   "metadata": {},
   "outputs": [],
   "source": []
  },
  {
   "cell_type": "markdown",
   "metadata": {},
   "source": [
    "Ahora, realice el escalamiento de la base de datos con estandarización Min-Max:"
   ]
  },
  {
   "cell_type": "code",
   "execution_count": null,
   "metadata": {},
   "outputs": [],
   "source": []
  },
  {
   "cell_type": "markdown",
   "metadata": {},
   "source": [
    "> \"¡Recuerda hacer el one-hot encoding! Si no lo haces, el modelo no te funcionará.\" - Te recuerda Pepe Grillo."
   ]
  },
  {
   "cell_type": "code",
   "execution_count": null,
   "metadata": {},
   "outputs": [],
   "source": []
  },
  {
   "cell_type": "markdown",
   "metadata": {},
   "source": [
    "## 3.2. División de bases de datos\n",
    "\n",
    "Pepe Grillo le jala las patas. Él sabe que usted no ha hecho nada, pero tiene por seguro que se le estaba olvidando realizar la separación de la base de datos en entrenamiento y testeo. Le dice: recuerde que su profesor le dijo que debía separar las bases de datos en entrenamiento (`train`) y testeo (`test`). Le recuerda, además, que debe hacerlo después de separar los datos entre `y` y `X`.\n",
    "\n",
    "> **Nota:** Pepe le recomienda utilizar en la división de la base de datos una semilla con número 2023 y una separación del 20% entre testeo y entrenamiento."
   ]
  },
  {
   "cell_type": "code",
   "execution_count": null,
   "metadata": {},
   "outputs": [],
   "source": []
  },
  {
   "cell_type": "markdown",
   "metadata": {},
   "source": [
    "## 3.3. Entrenameinto del modelo\n",
    "\n",
    "¡Llegó la hora de la fiesta! Pepe Grillo salta a su hombro y se ponen manos a la obra. Pepe le advierte que es momento de entrenar el modelo, así que le recuerda que el modelo de ML de kNN se define en la librería `sklearn`, en el módulo `neighbors`, bajo la función `KNeighborsClassifier()`. Al final, le recuerda, se descarga algo como: `from sklearn.neighbors import KNeighborsClassifier`.\n",
    "\n",
    "Le dice que entrene el modelo por ahora con tan solo 3 vecinos:"
   ]
  },
  {
   "cell_type": "code",
   "execution_count": null,
   "metadata": {},
   "outputs": [],
   "source": []
  },
  {
   "cell_type": "markdown",
   "metadata": {},
   "source": [
    "## 3.4. Evaluación del modelo\n",
    "\n",
    "Pepe Grillo le dice que no debería evaluar el modelo, pero no se aguanta y le dice que lo haga, que pruebe con la base de testeo el rendimiento del modelo. Le recomienda que utilice la **precisión balanceada**, la cual es más adecuada en este caso que la precisión normal (pondera tanto la clase que tratamos de adivinar como la que no). \n",
    "\n",
    "Así que le recuerda que esto se hace con la librería `sklearn`, con el módulo `metrics`, con la función `balanced_accuracy_score()`:"
   ]
  },
  {
   "cell_type": "code",
   "execution_count": null,
   "metadata": {},
   "outputs": [],
   "source": []
  },
  {
   "cell_type": "markdown",
   "metadata": {},
   "source": [
    "¿Qué puntaje le dio el modelo? ¿Es bajo o alto?"
   ]
  },
  {
   "cell_type": "markdown",
   "metadata": {},
   "source": [
    "> **Posible respuesta:** no es ni alto ni es bajo. En términos de precisión normal, la adivinanza y la estimación por kNN se acercan bastante (adivinanza tiene 66% y kNN 66.5%). Esto se debe a que las clases están levemente sesgadas hacia el 1 (aprobado).\n",
    ">\n",
    "> No obstante, en la comparación de la precisión balanceada el modelo kNN se comporta mejor que la adivinanza con la clase más frecuente (50% para la adivinanza y 61.07% para kNN). Sin embargo, no es aún significativa."
   ]
  },
  {
   "cell_type": "code",
   "execution_count": null,
   "metadata": {},
   "outputs": [],
   "source": []
  },
  {
   "cell_type": "markdown",
   "metadata": {},
   "source": [
    "# 3.5. Optimización de parámetros\n",
    "\n",
    "Pepe Grillo le recuerda que **no debería devolverse después de hacer la prueba con la base de datos de testeo**, pero también recuerda que usted es estudiante por lo que debe enseñarle unas cosas adicionales. Por ello, le permite por esta y única vez que pueda devovlerse a hacer la optimización de los parámetros. \n",
    "\n",
    "Por eso, le pide que en una sola celda divida la base de datos en entrenamiento y testeo y entrene el modelo con k vecinos entre 1 y 100. Es decir, realice un ciclo que entrene el modelo con `k` vecinos, guarde la precisión balanceada y siga con el siguiente. Por último, muestre el número `k` de vecinos que maximiza la **precisión balanceada** del modelo:"
   ]
  },
  {
   "cell_type": "code",
   "execution_count": null,
   "metadata": {},
   "outputs": [],
   "source": []
  },
  {
   "cell_type": "markdown",
   "metadata": {},
   "source": [
    "> ¡No tan rápido, vaquero! Pepe Grillo está casi seguro que se le estaba olvidando que el ciclo de optimización se realiza con **la base de datos de validación, no la de testeo**. Con sorbito de juguito juzgador le dice que se devuelva y lo intente otra vez."
   ]
  },
  {
   "cell_type": "markdown",
   "metadata": {},
   "source": [
    "## 3.6. Evaluación del modelo final\n",
    "\n",
    "Ahora sí, Pepe Grillo le dice que realice la medición del modelo final con el `k` óptimo que le entregó la validación del ciclo anterior. Para ello, debe entrenar el nuevo modelo con el `k` óptimo y realizar la predicción del modelo."
   ]
  },
  {
   "cell_type": "code",
   "execution_count": null,
   "metadata": {},
   "outputs": [],
   "source": []
  },
  {
   "cell_type": "markdown",
   "metadata": {},
   "source": [
    "¿Cuánta fue la precisión balanceada de este modelo? ¿Fue mejor o peor?"
   ]
  },
  {
   "cell_type": "markdown",
   "metadata": {},
   "source": []
  },
  {
   "cell_type": "markdown",
   "metadata": {},
   "source": [
    "# 4. Decision Tree (15 puntos)\n",
    "\n",
    "¡Siguiente modelo! Le dice Pepe. Ahora vamos a intentar con un árbol de decisión. ¿Le emociona? ¡Claro que sí! Vamos por eso."
   ]
  },
  {
   "cell_type": "markdown",
   "metadata": {},
   "source": [
    "## 4.1. Entrenamiento del modelo\n",
    "\n",
    "Pepe Grillo le dice que ya no es necesario tener en dos celdas diferentes su código para separar la base de datos de entrenamiento y testeo y otro para entrenar el modelo. Él cree que ya usted va adquiriendo experiencia suficiente para realizar todo el código en una sola celda, aunque es un reto. Si no puede, está bien, es mejor hacer algo por partes que no hacerlo. Por ello le dice que haga la separación de la base de datos (con semilla 2023), entrene el modelo de árbol de decisión sin ningún parámetro y evalúe su rendimiento con la base de datos de testeo.\n",
    "\n",
    "Las funciones adicionales que utilizará son:\n",
    "* Para el árbol de decisión, utilizará `sklearn`, el módulo `tree`, la función `DecisionTreeClassifier()`."
   ]
  },
  {
   "cell_type": "code",
   "execution_count": null,
   "metadata": {},
   "outputs": [],
   "source": []
  },
  {
   "cell_type": "markdown",
   "metadata": {},
   "source": [
    "¿Cuál fue el rendimiento del modelo? ¿Es bueno o malo? ¿Mejoró o empeoró?"
   ]
  },
  {
   "cell_type": "markdown",
   "metadata": {},
   "source": []
  },
  {
   "cell_type": "markdown",
   "metadata": {},
   "source": [
    "## 4.2. Optimización de parámetros\n",
    "\n",
    "Pepe Grillo le dice que usted puede, que confía en usted: vamos a optimizar parámetros. Le va a ayudar con algo, que es la grilla de optimización (tranquilo, es un diccionario con los parámetros a observar). Con ella realice la optimización de parámetros y encuentre el mejor modelo:"
   ]
  },
  {
   "cell_type": "code",
   "execution_count": 48,
   "metadata": {},
   "outputs": [],
   "source": [
    "# Definiremos los parámetros a revisar\n",
    "params ={\n",
    "    'criterion': ['gini', 'entropy'],\n",
    "    'max_depth': [None, 2, 4, 6, 8, 10, 12, 14, 16, 18, 20],\n",
    "    'max_features': [None, 'sqrt', 'log2', 0.2, 0.4, 0.6, 0.8],\n",
    "    'splitter': ['best', 'random']\n",
    "}"
   ]
  },
  {
   "cell_type": "code",
   "execution_count": null,
   "metadata": {},
   "outputs": [],
   "source": []
  },
  {
   "cell_type": "markdown",
   "metadata": {},
   "source": [
    "## 4.3. Evaluación del modelo final\n",
    "\n",
    "Ahora sí, vamos con toda: evalúe el modelo final que encontró en el punto anterior y encuentre el rendimiento del modelo con la base de datos de testeo:"
   ]
  },
  {
   "cell_type": "code",
   "execution_count": null,
   "metadata": {},
   "outputs": [],
   "source": []
  },
  {
   "cell_type": "markdown",
   "metadata": {},
   "source": [
    "¿Cómo es el rendimiento del modelo? ¿Mejora respecto al modelo anterior?"
   ]
  },
  {
   "cell_type": "code",
   "execution_count": null,
   "metadata": {},
   "outputs": [],
   "source": []
  },
  {
   "cell_type": "markdown",
   "metadata": {},
   "source": [
    "# 5. Logistic Regression (10 puntos)\n",
    "\n",
    "¡Último modelo! Vamos a probar una regresión logística, dice Pepe Grillo. Esta la conoces bastante, te dice, y es apropiada para este tipo de problemas, ya que tiene una función que se ajusta a las probabilidades (¡a la probabilidad de que alguien apruebe el examen!).\n",
    "\n",
    "Probemos:"
   ]
  },
  {
   "cell_type": "markdown",
   "metadata": {},
   "source": [
    "# 5.1. Entrenamiento del modelo\n",
    "\n",
    "Separe la base de dato y entrene el modelo. Para la regresión logística se utiliza de `sklearn`, del módulo `linear_model`, la función `LogisticRegression()`:"
   ]
  },
  {
   "cell_type": "code",
   "execution_count": null,
   "metadata": {},
   "outputs": [],
   "source": []
  },
  {
   "cell_type": "markdown",
   "metadata": {},
   "source": [
    "¿Cómo se desempeña este modelo? ¿Mejor o peor?"
   ]
  },
  {
   "cell_type": "markdown",
   "metadata": {},
   "source": []
  },
  {
   "cell_type": "markdown",
   "metadata": {},
   "source": [
    "## 5.2. Optimización de los parámetros\n",
    "\n",
    "Ahora optimice parámetros. Pepe le entrega un diccionario para buscar parámetros y le dice que optimice y encuentre el mejor, utilizando cualquier tipo de optimización que desee:"
   ]
  },
  {
   "cell_type": "code",
   "execution_count": null,
   "metadata": {},
   "outputs": [],
   "source": []
  },
  {
   "cell_type": "markdown",
   "metadata": {},
   "source": [
    "¿El rendimiento mejora? ¿Cuál es el mejor modelo de los tres? ¿Cuál le recomienda utilizar a sus clientes?"
   ]
  },
  {
   "cell_type": "markdown",
   "metadata": {},
   "source": []
  }
 ],
 "metadata": {
  "kernelspec": {
   "display_name": "Python 3",
   "language": "python",
   "name": "python3"
  },
  "language_info": {
   "codemirror_mode": {
    "name": "ipython",
    "version": 3
   },
   "file_extension": ".py",
   "mimetype": "text/x-python",
   "name": "python",
   "nbconvert_exporter": "python",
   "pygments_lexer": "ipython3",
   "version": "3.11.4"
  }
 },
 "nbformat": 4,
 "nbformat_minor": 2
}
