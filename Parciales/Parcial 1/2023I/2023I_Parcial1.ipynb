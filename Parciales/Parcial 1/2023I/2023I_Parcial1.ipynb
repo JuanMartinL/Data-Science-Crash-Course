{
 "cells": [
  {
   "attachments": {},
   "cell_type": "markdown",
   "metadata": {},
   "source": [
    "# Parcial 1: Introducción a Python"
   ]
  },
  {
   "attachments": {},
   "cell_type": "markdown",
   "metadata": {},
   "source": [
    "&emsp; **Fundación Universitaria Los Libertadores**. <br>\n",
    "&emsp; **Asignatura:** Big Data. <br>\n",
    "&emsp; **Período:** 2023-I. <br>\n",
    "&emsp; **Profesor:** Juan Martín Londoño Zuluaga."
   ]
  },
  {
   "attachments": {},
   "cell_type": "markdown",
   "metadata": {},
   "source": [
    "# 1. Contador de pares e impares"
   ]
  },
  {
   "attachments": {},
   "cell_type": "markdown",
   "metadata": {},
   "source": [
    "Escriba una función llamada `conteo(lst)` que reciba una lista de números y cuente la cantidad de números pares e impares. Por ejemplo, si la lista es:\n",
    "\n",
    "> lst = [1, 3, 6, 7, 9, 10]\n",
    "\n",
    "Debe imprimir\n",
    "\n",
    "> Cantidad de números pares: 2.\n",
    ">\n",
    "> Cantidad de números impares: 4."
   ]
  },
  {
   "cell_type": "code",
   "execution_count": null,
   "metadata": {},
   "outputs": [],
   "source": []
  },
  {
   "attachments": {},
   "cell_type": "markdown",
   "metadata": {},
   "source": [
    "# 2. Convertidor de millas a kilómetros"
   ]
  },
  {
   "attachments": {},
   "cell_type": "markdown",
   "metadata": {},
   "source": [
    "Escriba una función llamada `m2km(mi)` que reciba un número de millas y los convierta a kilómetros. Recuerde que la equivalencia entre millas y kilómetros es de la siguiente manera:\n",
    "\n",
    "$$ 1 milla \\approx 1,60934km $$\n",
    "\n",
    "Por tanto, algunos ejempos son:\n",
    "\n",
    "> `m2km(1) = 1,60934`\n",
    ">\n",
    "> `m2km(5) = 8,04672`\n",
    ">\n",
    "> `m2km(10) = 16.0934`"
   ]
  },
  {
   "cell_type": "code",
   "execution_count": null,
   "metadata": {},
   "outputs": [],
   "source": []
  },
  {
   "attachments": {},
   "cell_type": "markdown",
   "metadata": {},
   "source": [
    "# 3. Conteo de palabras iguales en una lista"
   ]
  },
  {
   "attachments": {},
   "cell_type": "markdown",
   "metadata": {},
   "source": [
    "Escriba una función `rep_words(lst, word)` que reciba una lista de palabras y una palabra específica y encuentre cuántas veces esa palabra se repite en la lista. Por ejemplo, si la lista es:\n",
    "\n",
    "> `lst = [\"hola\", \"HOLA\", \"hellow\", \"HoLaA\", \"HoLa\"]`\n",
    "\n",
    "Tenga los siguientes resultados:\n",
    "\n",
    "> `rep_words(lst, \"hola\") = 3`\n",
    ">\n",
    "> `rep_words(lst, \"hellow\") = 1`\n",
    ">\n",
    "> `rep_words(lst, \"mojarra\") = 0`"
   ]
  },
  {
   "cell_type": "code",
   "execution_count": null,
   "metadata": {},
   "outputs": [],
   "source": []
  },
  {
   "attachments": {},
   "cell_type": "markdown",
   "metadata": {},
   "source": [
    "# 4. Divisores entre dos números"
   ]
  },
  {
   "attachments": {},
   "cell_type": "markdown",
   "metadata": {},
   "source": [
    "Escriba una función que imprima todos los números que sean divisores a la vez de un número `n` y un número `k`. Por ejemplo,\n",
    "\n",
    "> `divisores(24, 12)`\n",
    "\n",
    "> `[out] 1, 2, 3, 4, 6, 12`"
   ]
  },
  {
   "cell_type": "code",
   "execution_count": null,
   "metadata": {},
   "outputs": [],
   "source": []
  },
  {
   "attachments": {},
   "cell_type": "markdown",
   "metadata": {},
   "source": [
    "# 5. Números amigables"
   ]
  },
  {
   "attachments": {},
   "cell_type": "markdown",
   "metadata": {},
   "source": [
    "Los números amigables son un par de números cuyos divisores (excluyéndose a sí mismo) sumados obtienen el otro número. Por ejemplo, 220 y 284 son números amigables, ya que los divisores de 220 son \n",
    "\n",
    "$$ Divisores220 : 1, 2, 4, 5, 10, 11, 20, 22, 44, 55, 110 $$\n",
    "\n",
    "Ahora, si se suman esos divisores, se obtiene que\n",
    "\n",
    "$$ \\sum Divisores220 = 1 + 2 + 4 + 5 + 10 + 11 + 20 + 22 + 44 + 55 + 110 = 284 $$\n",
    "\n",
    "Veamos para 284\n",
    "\n",
    "$$ Divisores284 : 1, 2, 4, 71, 142 $$\n",
    "\n",
    "$$ \\sum Divisores284 = 1 + 2 + 4 + 71 + 142 = 220 $$\n",
    "\n",
    "Otros pares de números amigos son 1184-1210, 2620-2924, 5020-5564, entre otros.\n",
    "\n",
    "Teniendo en cuenta lo anterior, construya una función `Amix_Number(x, y)` que reciba dos números (x e y) y arroje si son números amigables."
   ]
  },
  {
   "cell_type": "code",
   "execution_count": null,
   "metadata": {},
   "outputs": [],
   "source": []
  }
 ],
 "metadata": {
  "kernelspec": {
   "display_name": "Python 3",
   "language": "python",
   "name": "python3"
  },
  "language_info": {
   "codemirror_mode": {
    "name": "ipython",
    "version": 3
   },
   "file_extension": ".py",
   "mimetype": "text/x-python",
   "name": "python",
   "nbconvert_exporter": "python",
   "pygments_lexer": "ipython3",
   "version": "3.10.5"
  },
  "orig_nbformat": 4
 },
 "nbformat": 4,
 "nbformat_minor": 2
}
