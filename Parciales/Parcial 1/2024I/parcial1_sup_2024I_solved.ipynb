{
 "cells": [
  {
   "cell_type": "markdown",
   "metadata": {},
   "source": [
    "# Parcial Supletorio 1: Introducción a Python\n",
    "\n",
    "&emsp; **Fundación Universitaria Los Libertadores**. <br>\n",
    "&emsp; **Asignatura:** Big Data. <br>\n",
    "&emsp; **Período:** 2024-I. <br>\n",
    "&emsp; **Profesor:** Juan Martín Londoño Zuluaga.\n",
    "\n",
    "&emsp; **Estudiante:** "
   ]
  },
  {
   "cell_type": "markdown",
   "metadata": {},
   "source": [
    "# 1. Área del círculo\n",
    "\n",
    "Defina una función que reciba el diámetro y retorne el área de un círculo. Recuerde que la fórmula del área del círculo es el siguiente:\n",
    "\n",
    "$$ area = \\pi * r^2 $$\n",
    "\n",
    "> Ejemplo de entrada: `4`.\n",
    ">\n",
    "> Ejemplo de salida: aprox. `12.57`.\n",
    "\n",
    "> Ejemplo de salida: `11`.\n",
    ">\n",
    "> Ejemplo de salida: aprox. `95.03`.\n"
   ]
  },
  {
   "cell_type": "code",
   "execution_count": 2,
   "metadata": {},
   "outputs": [
    {
     "data": {
      "text/plain": [
       "12.566"
      ]
     },
     "execution_count": 2,
     "metadata": {},
     "output_type": "execute_result"
    }
   ],
   "source": [
    "def area_circulo(d):\n",
    "    import math\n",
    "    return round(math.pi*(d/2)**2, 3)\n",
    "\n",
    "area_circulo(4)"
   ]
  },
  {
   "cell_type": "markdown",
   "metadata": {},
   "source": [
    "# 2. Organizador de números\n",
    "\n",
    "Defina una función que reciba tres números `n1`, `n2` y `n3` y los organice de menor a mayor.\n",
    "\n",
    "> Ejemplo de entrada: `n1 = 3`, `n2 = 1` y `n3 = 0`.\n",
    ">\n",
    "> Ejemplo de salida: `0, 1, 3`"
   ]
  },
  {
   "cell_type": "code",
   "execution_count": 3,
   "metadata": {},
   "outputs": [
    {
     "data": {
      "text/plain": [
       "(4, 2, 1)"
      ]
     },
     "execution_count": 3,
     "metadata": {},
     "output_type": "execute_result"
    }
   ],
   "source": [
    "def ord_num(n1, n2, n3):\n",
    "\n",
    "    if (n1 == n2) & (n2 == n3):\n",
    "        return \"Todos los números son iguales.\"\n",
    "    elif (n1 >= n2) & (n1 >= n3):\n",
    "        if (n2 >= n3):\n",
    "            return n1, n2, n3\n",
    "        else:\n",
    "            return n1, n3, n2\n",
    "    elif(n2 >= n1) & (n2 >= n3):\n",
    "        if (n1 >= n3):\n",
    "            return n2, n1, n3\n",
    "        else:\n",
    "            return n2, n3, n1\n",
    "    elif (n3 >= n1) & (n3 >= n2):\n",
    "        if (n1 >= n2):\n",
    "            return n3, n1, n2\n",
    "        else:\n",
    "            return n3, n2, n1\n",
    "        \n",
    "ord_num(1, 4, 2)"
   ]
  },
  {
   "cell_type": "markdown",
   "metadata": {},
   "source": [
    "# 3. Máximo valor\n",
    "\n",
    "Defina una función que reciba una lista de números cualquiera y devuelva el valor máximo. **Nota:** no puede utilizar la función `max()`, sino que debe construir su propia función.\n",
    "\n",
    "> Ejemplo de entrada: `[2, 10, 3, 8, 9, -5]`.\n",
    ">\n",
    "> Ejemplo de salida: `10`.\n",
    "\n",
    "> Ejemplo de entrada: `[-10, -3, -2, -11, -19, -33, -50]`.\n",
    ">\n",
    "> Ejemplo de salida: `-2`."
   ]
  },
  {
   "cell_type": "code",
   "execution_count": 7,
   "metadata": {},
   "outputs": [
    {
     "data": {
      "text/plain": [
       "-1"
      ]
     },
     "execution_count": 7,
     "metadata": {},
     "output_type": "execute_result"
    }
   ],
   "source": [
    "def max_valor(lista):\n",
    "\n",
    "    for num in lista:\n",
    "        if num == lista[0]:\n",
    "            res = num\n",
    "        else:\n",
    "            if num >= res:\n",
    "                res = num\n",
    "            \n",
    "    return res\n",
    "\n",
    "max_valor([-10, -5, -9, -1, -2])\n"
   ]
  },
  {
   "cell_type": "markdown",
   "metadata": {},
   "source": [
    "# 4. Fórmula cuadrática\n",
    "\n",
    "Defina una función que reciba los parámetros `a`, `b` y `c` de una ecuación cuadrática y entregue los valores que lo solucionan. Recuerde que la fórmula cuadrática se define como:\n",
    "\n",
    "$$ x = \\frac{-b \\pm \\sqrt{b^2 - 4ac}}{2a} $$\n",
    "\n",
    "> Ejemplo de entrada: `a = 1`, `b = 2`, `c = -15`.\n",
    ">\n",
    "> Ejemplo de salida: `3, -15`."
   ]
  },
  {
   "cell_type": "code",
   "execution_count": 3,
   "metadata": {},
   "outputs": [
    {
     "data": {
      "text/plain": [
       "(-0.5358983848622456, -7.464101615137754)"
      ]
     },
     "execution_count": 3,
     "metadata": {},
     "output_type": "execute_result"
    }
   ],
   "source": [
    "def for_cuadratica(a, b, c):\n",
    "    import math\n",
    "\n",
    "    if (b**2 - 4*(a*c)) < 0:\n",
    "        return \"El sistema no tiene solución real.\"\n",
    "\n",
    "    sqrt_val = math.sqrt(b**2 - 4*(a*c))\n",
    "\n",
    "    res1 = (-b + sqrt_val)/(2*a)\n",
    "    res2 = (-b - sqrt_val)/(2*a)\n",
    "\n",
    "    return res1, res2\n",
    "\n",
    "for_cuadratica(1, 8, 4)"
   ]
  },
  {
   "cell_type": "markdown",
   "metadata": {},
   "source": [
    "# 5. Máximo común divisor\n",
    "\n",
    "Defina una función que reciba dos números `n1` y `n2` y encuentre el máximo común divisor entre ellos.\n",
    "\n",
    "> Ejemplo de entrada: `n1 = 10`, `n2 = 5`.\n",
    ">\n",
    "> Ejemplo de salida: `mcd = 5`. \n",
    "\n",
    "> Ejemplo de entrada: `n1 = 21`, `n2 = 28`.\n",
    ">\n",
    "> Ejemplo de salida: `mcd = 7`."
   ]
  },
  {
   "cell_type": "code",
   "execution_count": 22,
   "metadata": {},
   "outputs": [
    {
     "data": {
      "text/plain": [
       "17"
      ]
     },
     "execution_count": 22,
     "metadata": {},
     "output_type": "execute_result"
    }
   ],
   "source": [
    "def mcd(n1, n2):\n",
    "\n",
    "    # Encuentro los divisores de n1\n",
    "    div1 = []\n",
    "    for i in range(1, n1+1):\n",
    "        if n1 % i == 0:\n",
    "            div1.append(i)\n",
    "\n",
    "    # Encuentro los divisores de n2\n",
    "    div2 = []\n",
    "    for i in range(1, n2+1):\n",
    "        if n2 % i == 0:\n",
    "            div2.append(i)\n",
    "\n",
    "    # Encuentro los divisores compartidos por ambos\n",
    "    res = []\n",
    "    for i in div1:\n",
    "        for k in div2:\n",
    "            if i == k:\n",
    "                res.append(i)\n",
    "\n",
    "    # Retorno el máximo entre ellos\n",
    "    return max(res)\n",
    "\n",
    "mcd(n1 = 17, n2 = 17)"
   ]
  }
 ],
 "metadata": {
  "kernelspec": {
   "display_name": "Python 3",
   "language": "python",
   "name": "python3"
  },
  "language_info": {
   "codemirror_mode": {
    "name": "ipython",
    "version": 3
   },
   "file_extension": ".py",
   "mimetype": "text/x-python",
   "name": "python",
   "nbconvert_exporter": "python",
   "pygments_lexer": "ipython3",
   "version": "3.12.2"
  }
 },
 "nbformat": 4,
 "nbformat_minor": 2
}
