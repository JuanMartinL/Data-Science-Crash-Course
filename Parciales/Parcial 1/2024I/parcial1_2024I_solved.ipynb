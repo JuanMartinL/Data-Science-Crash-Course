{
 "cells": [
  {
   "cell_type": "markdown",
   "metadata": {},
   "source": [
    "# Parcial 1: Introducción a Python\n",
    "\n",
    "&emsp; **Fundación Universitaria Los Libertadores**. <br>\n",
    "&emsp; **Asignatura:** Big Data. <br>\n",
    "&emsp; **Período:** 2024-I. <br>\n",
    "&emsp; **Profesor:** Juan Martín Londoño Zuluaga.\n",
    "\n",
    "&emsp; **Estudiante:** "
   ]
  },
  {
   "cell_type": "markdown",
   "metadata": {},
   "source": [
    "# 1. Teorema de Pitágoras\n",
    "\n",
    "Defina una función que reciba dos parámetros `c1` y `c2` de los catetos de un triángulo y encuentre la medida de la hipotenusa.\n",
    "\n",
    "> Ejemplo de entrada: c1 = 4, c2 = 3\n",
    ">\n",
    "> Ejemplo de salida: h = 5"
   ]
  },
  {
   "cell_type": "code",
   "execution_count": 3,
   "metadata": {},
   "outputs": [
    {
     "data": {
      "text/plain": [
       "5.0"
      ]
     },
     "execution_count": 3,
     "metadata": {},
     "output_type": "execute_result"
    }
   ],
   "source": [
    "def pitagoras(c1, c2):\n",
    "    import math\n",
    "    return math.sqrt(c1**2 + c2**2)\n",
    "\n",
    "pitagoras(c1 = 4, c2 = 3)"
   ]
  },
  {
   "cell_type": "markdown",
   "metadata": {},
   "source": [
    "# 2. Conteo de vocales en un texto\n",
    "\n",
    "Escriba una función llamada `countLetters()` que reciba un `txt` y cuente las vocales (a, e, i, o, u) y las consonantes (el resto de letras). Por ejemplo,\n",
    "\n",
    "> `txt = \"Macondo\"`\n",
    ">\n",
    "> `countLetters(txt) = \"Vocales: 3, Consonantes: 4\"`"
   ]
  },
  {
   "cell_type": "code",
   "execution_count": 9,
   "metadata": {},
   "outputs": [
    {
     "data": {
      "text/plain": [
       "'No. Vocales: 2, No. Consonantes: 2'"
      ]
     },
     "execution_count": 9,
     "metadata": {},
     "output_type": "execute_result"
    }
   ],
   "source": [
    "def countLetters(txt):\n",
    "    txt = txt.lower()\n",
    "\n",
    "    vowels = 0\n",
    "    consonants = 0\n",
    "\n",
    "    for letter in txt:\n",
    "        if letter in [\"a\", \"e\", \"i\", \"o\", \"u\"]:\n",
    "            vowels += 1\n",
    "        else:\n",
    "            consonants += 1\n",
    "\n",
    "    return \"No. Vocales: {0}, No. Consonantes: {1}\".format(vowels, consonants)\n",
    "\n",
    "countLetters(txt = \"Hola\")"
   ]
  },
  {
   "cell_type": "markdown",
   "metadata": {},
   "source": [
    "# 3. Cálculo de factoriales\n",
    "\n",
    "El factorial de un entero positivo `n` se define como el producto de todos los números enteros positivos desde 1 hasta `n`. Por ejemplo,\n",
    "\n",
    "> `6! = 1 x 2 x 3 x 4 x 5 x 6 = 720`\n",
    ">\n",
    "> `3! = 1 x 2 x 3 = 6`"
   ]
  },
  {
   "cell_type": "code",
   "execution_count": 11,
   "metadata": {},
   "outputs": [
    {
     "data": {
      "text/plain": [
       "6"
      ]
     },
     "execution_count": 11,
     "metadata": {},
     "output_type": "execute_result"
    }
   ],
   "source": [
    "def factorial(n):\n",
    "    res = 1\n",
    "    for i in range(1, n+1):\n",
    "        res = res*i\n",
    "\n",
    "    return res\n",
    "\n",
    "factorial(3)"
   ]
  },
  {
   "cell_type": "markdown",
   "metadata": {},
   "source": [
    "# 4. Identificador de primos\n",
    "\n",
    "Defina una función `isPrime()` que retorne todos los números primos desde 1 hasta n.\n",
    "\n",
    "> Ejemplo de entrada: isPrime(10)\n",
    ">\n",
    "> Ejemplo de salida: 2, 3, 5, 7"
   ]
  },
  {
   "cell_type": "code",
   "execution_count": 19,
   "metadata": {},
   "outputs": [
    {
     "data": {
      "text/plain": [
       "[2, 3, 5, 7, 11, 13, 17]"
      ]
     },
     "execution_count": 19,
     "metadata": {},
     "output_type": "execute_result"
    }
   ],
   "source": [
    "def isPrime(n):\n",
    "    primes = []\n",
    "\n",
    "    for i in range(2, n+1):\n",
    "        prime_status = True\n",
    "        for k in range(2, i):\n",
    "            if i % k == 0:\n",
    "                prime_status = False\n",
    "        \n",
    "        if prime_status:\n",
    "            primes.append(i)\n",
    "\n",
    "    return primes\n",
    "\n",
    "isPrime(17)"
   ]
  },
  {
   "cell_type": "markdown",
   "metadata": {},
   "source": [
    "# 5. Suma de digitos\n",
    "\n",
    "Defina una función `sumDigits()` que compruebe si la suma de tres números, los cuales pueden tener un máximo de dos dígitos, son iguales.\n",
    "\n",
    "> `sumDigits(12, 30, 3) = True`\n",
    ">\n",
    "> `sumDigits(56, 11, 20) = False`\n",
    ">\n",
    "> `sumDigits(56, 47, 92) = True`"
   ]
  },
  {
   "cell_type": "code",
   "execution_count": 35,
   "metadata": {},
   "outputs": [
    {
     "data": {
      "text/plain": [
       "True"
      ]
     },
     "execution_count": 35,
     "metadata": {},
     "output_type": "execute_result"
    }
   ],
   "source": [
    "def sumDigits(num1, num2, num3):\n",
    "    num1 = str(num1)\n",
    "    for i in num1:\n",
    "        if i == num1[0]:\n",
    "            i = int(i)\n",
    "            res1 = i\n",
    "        else:\n",
    "            i = int(i)\n",
    "            res1 = res1 + i\n",
    "\n",
    "    num2 = str(num2)\n",
    "    for i in num2:\n",
    "        if i == num2[0]:\n",
    "            i = int(i)\n",
    "            res2 = i\n",
    "        else:\n",
    "            i = int(i)\n",
    "            res2 = res2 + i\n",
    "\n",
    "    num3 = str(num3)\n",
    "    for i in num3:\n",
    "        if i == num3[0]:\n",
    "            i = int(i)\n",
    "            res3 = i\n",
    "        else:\n",
    "            i = int(i)\n",
    "            res3 = res3 + i\n",
    "\n",
    "    return res1 == res2 & res2 == res3\n",
    "\n",
    "sumDigits(num1 = 50, num2 = 23, num3 = 5)"
   ]
  }
 ],
 "metadata": {
  "kernelspec": {
   "display_name": "Python 3",
   "language": "python",
   "name": "python3"
  },
  "language_info": {
   "codemirror_mode": {
    "name": "ipython",
    "version": 3
   },
   "file_extension": ".py",
   "mimetype": "text/x-python",
   "name": "python",
   "nbconvert_exporter": "python",
   "pygments_lexer": "ipython3",
   "version": "3.12.2"
  },
  "orig_nbformat": 4
 },
 "nbformat": 4,
 "nbformat_minor": 2
}
