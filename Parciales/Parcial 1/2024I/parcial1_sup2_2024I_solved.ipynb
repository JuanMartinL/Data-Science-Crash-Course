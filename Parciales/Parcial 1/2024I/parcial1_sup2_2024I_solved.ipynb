{
 "cells": [
  {
   "cell_type": "markdown",
   "metadata": {},
   "source": [
    "# Parcial Supletorio 1: Introducción a Python\n",
    "\n",
    "&emsp; **Fundación Universitaria Los Libertadores**. <br>\n",
    "&emsp; **Asignatura:** Big Data. <br>\n",
    "&emsp; **Período:** 2024-I. <br>\n",
    "&emsp; **Profesor:** Juan Martín Londoño Zuluaga.\n",
    "\n",
    "&emsp; **Estudiante:** "
   ]
  },
  {
   "cell_type": "markdown",
   "metadata": {},
   "source": [
    "# 1. Área del trapecio\n",
    "\n",
    "Defina una función que reciba las bases y la altura y entregue al área de un trapecio. Recuerde que la fórmula del área del círculo es el siguiente:\n",
    "\n",
    "$$ area = \\frac{(base_a + base_b)*h}{2} $$\n",
    "\n",
    "> Ejemplo de entrada: `a = 2, b = 2, h = 2`.\n",
    ">\n",
    "> Ejemplo de salida: aprox. `4`.\n",
    "\n",
    "> Ejemplo de salida: `a = 2, b = 10, h = 4`.\n",
    ">\n",
    "> Ejemplo de salida: aprox. `24`."
   ]
  },
  {
   "cell_type": "code",
   "execution_count": 11,
   "metadata": {},
   "outputs": [
    {
     "data": {
      "text/plain": [
       "24.0"
      ]
     },
     "execution_count": 11,
     "metadata": {},
     "output_type": "execute_result"
    }
   ],
   "source": [
    "def area_trap(a, b, h):\n",
    "    return ((a + b)*h/2)\n",
    "\n",
    "area_trap(2, 10, 4)"
   ]
  },
  {
   "cell_type": "markdown",
   "metadata": {
    "vscode": {
     "languageId": "plaintext"
    }
   },
   "source": [
    "# 2. Organizador de números\n",
    "\n",
    "Defina una función que reciba tres números `n1`, `n2` y `n3` y los organice de mayor a menor.\n",
    "\n",
    "> Ejemplo de entrada: `n1 = 3`, `n2 = 1` y `n3 = 0`.\n",
    ">\n",
    "> Ejemplo de salida: `3, 1, 0`"
   ]
  },
  {
   "cell_type": "code",
   "execution_count": null,
   "metadata": {},
   "outputs": [],
   "source": []
  },
  {
   "cell_type": "markdown",
   "metadata": {},
   "source": [
    "# 3. Conteo de vocales y consonantes en un texto\n",
    "\n",
    "Escriba una función llamada `countLetters()` que reciba un `txt` y cuente las vocales (a, e, i, o, u) y las consonantes (el resto de letras). Por ejemplo,\n",
    "\n",
    "> `txt = \"Macondo\"`\n",
    ">\n",
    "> `countVowels(txt) = \"Vocales: 3, Consonantes: 4\"`"
   ]
  },
  {
   "cell_type": "code",
   "execution_count": null,
   "metadata": {},
   "outputs": [],
   "source": []
  },
  {
   "cell_type": "markdown",
   "metadata": {},
   "source": [
    "# 4. Promedio\n",
    "\n",
    "Escriba una función llamada `promedio()` que obtenga, sin uso de otras librerías o funciones base, el promedio de una lista de números. Por ejemplo,\n",
    "\n",
    "> `lista = [1, 4, 6, 7, 9, 10]`\n",
    ">\n",
    "> `promedio(lista) = 6,2`"
   ]
  },
  {
   "cell_type": "code",
   "execution_count": 14,
   "metadata": {},
   "outputs": [
    {
     "data": {
      "text/plain": [
       "6.166666666666667"
      ]
     },
     "execution_count": 14,
     "metadata": {},
     "output_type": "execute_result"
    }
   ],
   "source": [
    "def promedio(lista):\n",
    "    i = 0\n",
    "    res = 0\n",
    "    for num in lista:\n",
    "        res = num + res\n",
    "        i += 1\n",
    "    return res/i\n",
    "\n",
    "promedio([1, 4, 6, 7, 9, 10])"
   ]
  },
  {
   "cell_type": "markdown",
   "metadata": {},
   "source": [
    "# 5. Primo-fobia\n",
    "\n",
    "Escriba una función llamada `primo_phobe()` que imprima los números **NO PRIMOS** hasta un argumento N. Es decir,\n",
    "\n",
    "> `n = 10`\n",
    ">\n",
    "> `primo_phobe(n) = 4, 6, 8, 9`"
   ]
  },
  {
   "cell_type": "code",
   "execution_count": 17,
   "metadata": {},
   "outputs": [
    {
     "name": "stdout",
     "output_type": "stream",
     "text": [
      "4\n",
      "6\n",
      "8\n",
      "9\n",
      "10\n"
     ]
    }
   ],
   "source": [
    "def primo_phobe(n):\n",
    "    for num in range(1, n+1):\n",
    "        prime = True\n",
    "        for i in range(2, num):\n",
    "            if num % i == 0:\n",
    "                prime = False\n",
    "        if prime == False:\n",
    "            print(num)\n",
    "\n",
    "primo_phobe(10)"
   ]
  }
 ],
 "metadata": {
  "kernelspec": {
   "display_name": "Python 3",
   "language": "python",
   "name": "python3"
  },
  "language_info": {
   "codemirror_mode": {
    "name": "ipython",
    "version": 3
   },
   "file_extension": ".py",
   "mimetype": "text/x-python",
   "name": "python",
   "nbconvert_exporter": "python",
   "pygments_lexer": "ipython3",
   "version": "3.12.2"
  }
 },
 "nbformat": 4,
 "nbformat_minor": 2
}
