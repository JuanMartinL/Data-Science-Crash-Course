{
 "cells": [
  {
   "cell_type": "markdown",
   "metadata": {},
   "source": [
    "# Parcial 1: Introducción a Python\n",
    "\n",
    "&emsp; **Fundación Universitaria Los Libertadores**. <br>\n",
    "&emsp; **Asignatura:** Big Data. <br>\n",
    "&emsp; **Período:** 2024-I. <br>\n",
    "&emsp; **Profesor:** Juan Martín Londoño Zuluaga.\n",
    "\n",
    "&emsp; **Estudiante:** "
   ]
  },
  {
   "cell_type": "markdown",
   "metadata": {},
   "source": [
    "# 1. Teorema de Pitágoras\n",
    "\n",
    "Defina una función que reciba dos parámetros `c1` y `c2` de los catetos de un triángulo y encuentre la medida de la hipotenusa.\n",
    "\n",
    "> Ejemplo de entrada: c1 = 4, c2 = 3\n",
    ">\n",
    "> Ejemplo de salida: h = 5"
   ]
  },
  {
   "cell_type": "code",
   "execution_count": null,
   "metadata": {},
   "outputs": [],
   "source": []
  },
  {
   "cell_type": "markdown",
   "metadata": {},
   "source": [
    "# 2. Conteo de vocales en un texto\n",
    "\n",
    "Escriba una función llamada `countLetters()` que reciba un `txt` y cuente las vocales (a, e, i, o, u) y las consonantes (el resto de letras). Por ejemplo,\n",
    "\n",
    "> `txt = \"Macondo\"`\n",
    ">\n",
    "> `countVowels(txt) = \"Vocales: 3, Consonantes: 4\"`"
   ]
  },
  {
   "cell_type": "code",
   "execution_count": null,
   "metadata": {},
   "outputs": [],
   "source": []
  },
  {
   "cell_type": "markdown",
   "metadata": {},
   "source": [
    "# 3. Cálculo de factoriales\n",
    "\n",
    "El factorial de un entero positivo `n` se define como el producto de todos los números enteros positivos desde 1 hasta `n`. Por ejemplo,\n",
    "\n",
    "> `6! = 1 x 2 x 3 x 4 x 5 x 6 = 720`\n",
    ">\n",
    "> `3! = 1 x 2 x 3 = 6`"
   ]
  },
  {
   "cell_type": "code",
   "execution_count": null,
   "metadata": {},
   "outputs": [],
   "source": []
  },
  {
   "cell_type": "markdown",
   "metadata": {},
   "source": [
    "# 4. Identificador de primos\n",
    "\n",
    "Defina una función `isPrime()` que retorne todos los números primos desde 1 hasta n.\n",
    "\n",
    "> Ejemplo de entrada: isPrime(10)\n",
    ">\n",
    "> Ejemplo de salida: 2, 3, 5, 7"
   ]
  },
  {
   "cell_type": "code",
   "execution_count": null,
   "metadata": {},
   "outputs": [],
   "source": []
  },
  {
   "cell_type": "markdown",
   "metadata": {},
   "source": [
    "# 5. Suma de digitos\n",
    "\n",
    "Defina una función `sumDigits()` que compruebe si la suma de tres números, los cuales pueden tener un máximo de dos dígitos, son iguales.\n",
    "\n",
    "> `sumDigits([12, 30, 3]) = True`\n",
    ">\n",
    "> `sumDigits([56, 11, 20]) = False`\n",
    ">\n",
    "> `sumDigits([56, 47, 92]) = True`"
   ]
  },
  {
   "cell_type": "code",
   "execution_count": null,
   "metadata": {},
   "outputs": [],
   "source": []
  }
 ],
 "metadata": {
  "kernelspec": {
   "display_name": "Python 3",
   "language": "python",
   "name": "python3"
  },
  "language_info": {
   "codemirror_mode": {
    "name": "ipython",
    "version": 3
   },
   "file_extension": ".py",
   "mimetype": "text/x-python",
   "name": "python",
   "nbconvert_exporter": "python",
   "pygments_lexer": "ipython3",
   "version": "undefined.undefined.undefined"
  },
  "orig_nbformat": 4
 },
 "nbformat": 4,
 "nbformat_minor": 2
}
