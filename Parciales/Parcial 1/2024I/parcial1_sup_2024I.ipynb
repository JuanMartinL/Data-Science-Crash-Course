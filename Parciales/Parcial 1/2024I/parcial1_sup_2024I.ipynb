{
 "cells": [
  {
   "cell_type": "markdown",
   "metadata": {},
   "source": [
    "# Parcial Supletorio 1: Introducción a Python\n",
    "\n",
    "&emsp; **Fundación Universitaria Los Libertadores**. <br>\n",
    "&emsp; **Asignatura:** Big Data. <br>\n",
    "&emsp; **Período:** 2024-I. <br>\n",
    "&emsp; **Profesor:** Juan Martín Londoño Zuluaga.\n",
    "\n",
    "&emsp; **Estudiante:** "
   ]
  },
  {
   "cell_type": "markdown",
   "metadata": {},
   "source": [
    "# 1. Área del círculo\n",
    "\n",
    "Defina una función que reciba el diámetro y retorne el área de un círculo. Recuerde que la fórmula del área del círculo es el siguiente:\n",
    "\n",
    "$$ area = \\pi * r^2 $$\n",
    "\n",
    "> Ejemplo de entrada: `4`.\n",
    ">\n",
    "> Ejemplo de salida: aprox. `12.57`.\n",
    "\n",
    "> Ejemplo de salida: `11`.\n",
    ">\n",
    "> Ejemplo de salida: aprox. `95.03`.\n"
   ]
  },
  {
   "cell_type": "code",
   "execution_count": null,
   "metadata": {
    "vscode": {
     "languageId": "plaintext"
    }
   },
   "outputs": [],
   "source": []
  },
  {
   "cell_type": "markdown",
   "metadata": {},
   "source": [
    "# 2. Organizador de números\n",
    "\n",
    "Defina una función que reciba tres números `n1`, `n2` y `n3` y los organice de menor a mayor.\n",
    "\n",
    "> Ejemplo de entrada: `n1 = 3`, `n2 = 1` y `n3 = 0`.\n",
    ">\n",
    "> Ejemplo de salida: `0, 1, 3`"
   ]
  },
  {
   "cell_type": "code",
   "execution_count": null,
   "metadata": {
    "vscode": {
     "languageId": "plaintext"
    }
   },
   "outputs": [],
   "source": []
  },
  {
   "cell_type": "markdown",
   "metadata": {},
   "source": [
    "# 3. Máximo valor\n",
    "\n",
    "Defina una función que reciba una lista de números cualquiera y devuelva el valor máximo. **Nota:** no puede utilizar la función `max()`, sino que debe construir su propia función.\n",
    "\n",
    "> Ejemplo de entrada: `[2, 10, 3, 8, 9, -5]`.\n",
    ">\n",
    "> Ejemplo de salida: `10`.\n",
    "\n",
    "> Ejemplo de entrada: `[-10, -3, -2, -11, -19, -33, -50]`.\n",
    ">\n",
    "> Ejemplo de salida: `-2`."
   ]
  },
  {
   "cell_type": "code",
   "execution_count": null,
   "metadata": {
    "vscode": {
     "languageId": "plaintext"
    }
   },
   "outputs": [],
   "source": []
  },
  {
   "cell_type": "markdown",
   "metadata": {},
   "source": [
    "# 4. Fórmula cuadrática\n",
    "\n",
    "Defina una función que reciba los parámetros `a`, `b` y `c` de una ecuación cuadrática y entregue los valores que lo solucionan. Recuerde que la fórmula cuadrática se define como:\n",
    "\n",
    "$$ x = \\frac{-b \\pm \\sqrt{b^2 - 4ac}}{2a} $$\n",
    "\n",
    "> Ejemplo de entrada: `a = 1`, `b = 2`, `c = -15`.\n",
    ">\n",
    "> Ejemplo de salida: `3, -15`."
   ]
  },
  {
   "cell_type": "code",
   "execution_count": null,
   "metadata": {
    "vscode": {
     "languageId": "plaintext"
    }
   },
   "outputs": [],
   "source": []
  },
  {
   "cell_type": "markdown",
   "metadata": {},
   "source": [
    "# 5. Máximo común divisor\n",
    "\n",
    "Defina una función que reciba dos números `n1` y `n2` y encuentre el máximo común divisor entre ellos.\n",
    "\n",
    "> Ejemplo de entrada: `n1 = 10`, `n2 = 5`.\n",
    ">\n",
    "> Ejemplo de salida: `mcd = 5`. \n",
    "\n",
    "> Ejemplo de entrada: `n1 = 21`, `n2 = 28`.\n",
    ">\n",
    "> Ejemplo de salida: `mcd = 7`."
   ]
  },
  {
   "cell_type": "code",
   "execution_count": null,
   "metadata": {
    "vscode": {
     "languageId": "plaintext"
    }
   },
   "outputs": [],
   "source": []
  }
 ],
 "metadata": {
  "language_info": {
   "name": "python"
  }
 },
 "nbformat": 4,
 "nbformat_minor": 2
}
