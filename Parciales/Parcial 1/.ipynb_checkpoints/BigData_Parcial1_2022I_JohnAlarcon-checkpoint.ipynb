{
 "cells": [
  {
   "cell_type": "markdown",
   "id": "9e9ef2e9-d55c-4764-9835-97a96e2b0cce",
   "metadata": {},
   "source": [
    "# Fundación Universitaria Los Libertadores - Facultad de Ciencias Económicas, Administrativas y Contables\n",
    "\n",
    "&emsp; **Asignatura:** Big Data. <br>\n",
    "&emsp; **Profesor:** Juan Martín Londoño Zuluaga. <br>\n",
    "&emsp; **Período:** 2022-I.\n",
    "\n",
    "# Parcial 1: Introducción a Python"
   ]
  },
  {
   "cell_type": "markdown",
   "id": "5c02bde1-6282-4077-92ae-d7bd16cdbe86",
   "metadata": {},
   "source": [
    "**Estudiante:** John Alarcón."
   ]
  },
  {
   "cell_type": "markdown",
   "id": "8d845980-9a04-4bad-a949-c0aad9d2a89a",
   "metadata": {},
   "source": [
    "## 1. Calculadora de la edad de un perro"
   ]
  },
  {
   "cell_type": "markdown",
   "id": "2085ea9c-6c7b-42cd-953b-527570a6c34b",
   "metadata": {},
   "source": [
    "Construya una función `dog_age(x)` que reciba la edad de un perro y la convierta en edad de humano. Para este ejercicio, se define que la edad en humano de un perro es la edad del perro multiplicada por 7. Por ejemplo,\n",
    "\n",
    "> `dog_age(10) = 70`\n",
    "\n",
    "> `dog_age(2) = 14`\n",
    "\n",
    "> `dog_age(9) = 63`"
   ]
  },
  {
   "cell_type": "code",
   "execution_count": 2,
   "id": "e2b584a7-ca2e-46c5-ace1-b5f649a0aced",
   "metadata": {},
   "outputs": [
    {
     "name": "stdout",
     "output_type": "stream",
     "text": [
      "70\n"
     ]
    }
   ],
   "source": [
    "def age (x):\n",
    "    n=(x*7)\n",
    "    return n\n",
    "\n",
    "print(age(10))\n"
   ]
  },
  {
   "cell_type": "markdown",
   "id": "3dd17fc0-6fb0-4e5b-a3c8-19b820711170",
   "metadata": {},
   "source": [
    "* **Calificación:** 1,25\n",
    "* **Comentarios:** ¡Muy bien!"
   ]
  },
  {
   "cell_type": "markdown",
   "id": "c700672f-733d-48f9-9737-ad0022717fe9",
   "metadata": {},
   "source": [
    "## 2. Suma de pares"
   ]
  },
  {
   "cell_type": "markdown",
   "id": "a2ed7bb1-6116-4092-89d3-390224a4cdb2",
   "metadata": {},
   "source": [
    "Construya una función `suma_pares()` que reciba un parámetro `n` y sume todos los pares hasta dicho número. En ese sentido, algunos ejemplos son los siguientes:\n",
    "\n",
    "> `suma_pares(10) = 30`\n",
    "\n",
    "> `suma_pares(2) = 2`\n",
    "\n",
    "> `suma_pares(5) = 6`\n"
   ]
  },
  {
   "cell_type": "code",
   "execution_count": 3,
   "id": "852bc833-3999-4ce5-8b60-92763a3d2477",
   "metadata": {},
   "outputs": [
    {
     "ename": "SyntaxError",
     "evalue": "invalid syntax (4183455693.py, line 3)",
     "output_type": "error",
     "traceback": [
      "\u001b[0;36m  File \u001b[0;32m\"/var/folders/4r/xsnzrxgj0139y6gdrvpmy5sh0000gn/T/ipykernel_16834/4183455693.py\"\u001b[0;36m, line \u001b[0;32m3\u001b[0m\n\u001b[0;31m    for y in :\u001b[0m\n\u001b[0m             ^\u001b[0m\n\u001b[0;31mSyntaxError\u001b[0m\u001b[0;31m:\u001b[0m invalid syntax\n"
     ]
    }
   ],
   "source": [
    "def suma_pares (n):\n",
    "    y=n\n",
    "    for y in :\n",
    "        if y %= 0  \n",
    "    suma=\n",
    "    return suma\n",
    "print(suma_pares(6))"
   ]
  },
  {
   "cell_type": "markdown",
   "id": "a36daffd-3fb7-42e6-8996-30a6b14290e8",
   "metadata": {},
   "source": [
    "* **Calificación:** 0,625.\n",
    "* **Comentarios:** veo que encontraste bien el algoritmo, pero aún veo dificultades en el entendimiento de cómo utilizar las herramientas del curso en contexto con dicho algoritmo para lograr el objetivo. Te recomiendo estudiar un poco más sobre las herramientas de programación."
   ]
  },
  {
   "cell_type": "markdown",
   "id": "2b9f9d1a-1063-4e62-b7fb-9d328285c788",
   "metadata": {},
   "source": [
    "## 3. Diccionario familiar"
   ]
  },
  {
   "cell_type": "markdown",
   "id": "7b31b612-9060-4852-a8f8-c18b13f21b5b",
   "metadata": {},
   "source": [
    "Construya un diccionario con sus datos y dos familiares suyos en el que tenga, inicialmente, el nombre, el apellido y edad. Tenga en cuenta que las llaves deben ser \"nombre\", \"apellido\" y \"edad\"."
   ]
  },
  {
   "cell_type": "code",
   "execution_count": 4,
   "id": "a0f6a80a-391e-42f1-98d0-3d6ef8f7810a",
   "metadata": {},
   "outputs": [
    {
     "name": "stdout",
     "output_type": "stream",
     "text": [
      "{'nombre': {'maria', 'john', 'andrea'}, 'apellido': {'polania', 'alarcon'}, 'edad': {'25', '23', '30'}}\n"
     ]
    }
   ],
   "source": [
    "dic={'nombre':{'john', 'andrea', 'maria'}, 'apellido':{'alarcon', 'alarcon', 'polania'}, 'edad':{'23', '25', '30'}} \n",
    "type(x)\n",
    "print(dic)"
   ]
  },
  {
   "cell_type": "markdown",
   "id": "4b876ff5-4076-4648-801c-de8388c4f614",
   "metadata": {},
   "source": [
    "Ahora agréguele otra persona cualquiera de su familia, tal que quede con los datos guardados en el diccionario. En ese sentido, debe haber 4 personas ingresadas."
   ]
  },
  {
   "cell_type": "code",
   "execution_count": 6,
   "id": "90c3f4e1-61fb-4b69-852b-f2cc4f3b2ce6",
   "metadata": {},
   "outputs": [
    {
     "ename": "AttributeError",
     "evalue": "'dict' object has no attribute 'append'",
     "output_type": "error",
     "traceback": [
      "\u001b[0;31m---------------------------------------------------------------------------\u001b[0m",
      "\u001b[0;31mAttributeError\u001b[0m                            Traceback (most recent call last)",
      "\u001b[0;32m/var/folders/4r/xsnzrxgj0139y6gdrvpmy5sh0000gn/T/ipykernel_16834/148216702.py\u001b[0m in \u001b[0;36m<module>\u001b[0;34m\u001b[0m\n\u001b[0;32m----> 1\u001b[0;31m \u001b[0mdic\u001b[0m\u001b[0;34m.\u001b[0m\u001b[0mappend\u001b[0m\u001b[0;34m=\u001b[0m\u001b[0;34m{\u001b[0m\u001b[0;34m'carlos'\u001b[0m\u001b[0;34m,\u001b[0m \u001b[0;34m'alarcon'\u001b[0m\u001b[0;34m,\u001b[0m \u001b[0;34m'40'\u001b[0m\u001b[0;34m}\u001b[0m\u001b[0;34m\u001b[0m\u001b[0;34m\u001b[0m\u001b[0m\n\u001b[0m",
      "\u001b[0;31mAttributeError\u001b[0m: 'dict' object has no attribute 'append'"
     ]
    }
   ],
   "source": [
    "dic.append={'carlos', 'alarcon', '40'}"
   ]
  },
  {
   "cell_type": "markdown",
   "id": "68f79010-5378-4721-b0b3-6b9f9cd3fe43",
   "metadata": {},
   "source": [
    "* **Calificación:** 0,8.\n",
    "* **Comentarios** nuevamente tienes claro el algoritmo, pero hay un uso incorrecto de las herramientas de programación. En este caso, creaste un diccionario de diccionarios, por lo cual te falló el `append` dado que los diccionarios no tienen ese método. Te otorgo puntos por el algoritmo y crear un diccionario."
   ]
  },
  {
   "cell_type": "markdown",
   "id": "b2bcb9f0-7903-47f9-84ff-e8be2bc204f2",
   "metadata": {},
   "source": [
    "## 4. Juego de niños"
   ]
  },
  {
   "cell_type": "markdown",
   "id": "0792de69-e1b0-40bb-95e2-13ff4b8499d9",
   "metadata": {},
   "source": [
    "Construya una función `pum(x, n)` que reciba un número `x` y un número `n`, tal que imprima todos los números de 1 hasta `n` pero imprima \"pum\" cuando el número sea múltiplo de `x`. Por ejemplo,\n",
    "\n",
    "> `pum(x = 3, n = 10) = 1, 2, pum, 4, 5, pum, 7, 8, pum, 10.`\n",
    "\n",
    "> `pum(x = 5, n = 16) = 1, 2, 3, 4, pum, 6, 7, 8, 9, pum, 11, 12, 13, 14, pum, 16.`\n"
   ]
  },
  {
   "cell_type": "code",
   "execution_count": null,
   "id": "5c8434e7-a0d3-4f69-9fd6-eb5488affa0e",
   "metadata": {},
   "outputs": [],
   "source": []
  },
  {
   "cell_type": "markdown",
   "id": "239833fe-ba46-4079-8967-f8803bb215ab",
   "metadata": {},
   "source": [
    "* **Calificación:** 0,0.\n",
    "* **Comentarios:** no hay desarrollo del punto."
   ]
  },
  {
   "cell_type": "markdown",
   "id": "523d21e6-03c1-4205-a504-677203839b4c",
   "metadata": {},
   "source": [
    "# Calificación: 2,7."
   ]
  }
 ],
 "metadata": {
  "kernelspec": {
   "display_name": "Python 3 (ipykernel)",
   "language": "python",
   "name": "python3"
  },
  "language_info": {
   "codemirror_mode": {
    "name": "ipython",
    "version": 3
   },
   "file_extension": ".py",
   "mimetype": "text/x-python",
   "name": "python",
   "nbconvert_exporter": "python",
   "pygments_lexer": "ipython3",
   "version": "3.10.2"
  }
 },
 "nbformat": 4,
 "nbformat_minor": 5
}
