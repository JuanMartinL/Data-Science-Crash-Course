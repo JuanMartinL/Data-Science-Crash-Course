{
 "cells": [
  {
   "cell_type": "markdown",
   "id": "9e9ef2e9-d55c-4764-9835-97a96e2b0cce",
   "metadata": {},
   "source": [
    "# Fundación Universitaria Los Libertadores - Facultad de Ciencias Económicas, Administrativas y Contables\n",
    "\n",
    "&emsp; **Asignatura:** Big Data. <br>\n",
    "&emsp; **Profesor:** Juan Martín Londoño Zuluaga. <br>\n",
    "&emsp; **Período:** 2022-I.\n",
    "\n",
    "# Parcial 1: Introducción a Python"
   ]
  },
  {
   "cell_type": "markdown",
   "id": "93cdcb2d-3282-40a0-91e7-3a4477003e3a",
   "metadata": {},
   "source": [
    "**Estudiante:** Angie Lorena Urrego."
   ]
  },
  {
   "cell_type": "markdown",
   "id": "8d845980-9a04-4bad-a949-c0aad9d2a89a",
   "metadata": {},
   "source": [
    "## 1. Calculadora de la edad de un perro"
   ]
  },
  {
   "cell_type": "markdown",
   "id": "2085ea9c-6c7b-42cd-953b-527570a6c34b",
   "metadata": {},
   "source": [
    "Construya una función `dog_age(x)` que reciba la edad de un perro y la convierta en edad de humano. Para este ejercicio, se define que la edad en humano de un perro es la edad del perro multiplicada por 7. Por ejemplo,\n",
    "\n",
    "> `dog_age(10) = 70`\n",
    "\n",
    "> `dog_age(2) = 14`\n",
    "\n",
    "> `dog_age(9) = 63`"
   ]
  },
  {
   "cell_type": "code",
   "execution_count": null,
   "id": "6901e1ad",
   "metadata": {},
   "outputs": [],
   "source": [
    "edad perro 3\n",
    "edad perro 3 * 7 \n",
    "edad 21"
   ]
  },
  {
   "cell_type": "code",
   "execution_count": null,
   "id": "713d4666",
   "metadata": {},
   "outputs": [],
   "source": [
    "def dog_age(x) aqui falta algo <instrucciones>\n"
   ]
  },
  {
   "cell_type": "markdown",
   "id": "bdacb604-3e84-4990-b44f-3263e40e602b",
   "metadata": {},
   "source": [
    "* **Calificación:** 0.2\n",
    "* **Comentarios:** tienes algo de claridad en el algoritmo, pero no lo tienes bien claro. Tampoco tienes claras las herramientas de programación, entonces te recomiendo repasarlo."
   ]
  },
  {
   "cell_type": "markdown",
   "id": "c700672f-733d-48f9-9737-ad0022717fe9",
   "metadata": {},
   "source": [
    "## 2. Suma de pares"
   ]
  },
  {
   "cell_type": "markdown",
   "id": "a2ed7bb1-6116-4092-89d3-390224a4cdb2",
   "metadata": {},
   "source": [
    "Construya una función `suma_pares()` que reciba un parámetro `n` y sume todos los pares hasta dicho número. En ese sentido, algunos ejemplos son los siguientes:\n",
    "\n",
    "> `suma_pares(10) = 30`\n",
    "\n",
    "> `suma_pares(2) = 2`\n",
    "\n",
    "> `suma_pares(5) = 6`\n"
   ]
  },
  {
   "cell_type": "code",
   "execution_count": null,
   "id": "7d6648f5",
   "metadata": {},
   "outputs": [],
   "source": []
  },
  {
   "cell_type": "markdown",
   "id": "610d6e6b",
   "metadata": {},
   "source": [
    "* **Calificación:** 0,0.\n",
    "* **Comentarios:** no hay respuesta."
   ]
  },
  {
   "cell_type": "markdown",
   "id": "2b9f9d1a-1063-4e62-b7fb-9d328285c788",
   "metadata": {},
   "source": [
    "## 3. Diccionario familiar"
   ]
  },
  {
   "cell_type": "markdown",
   "id": "7b31b612-9060-4852-a8f8-c18b13f21b5b",
   "metadata": {},
   "source": [
    "Construya un diccionario con sus datos y dos familiares suyos en el que tenga, inicialmente, el nombre, el apellido y edad. Tenga en cuenta que las llaves deben ser \"nombre\", \"apellido\" y \"edad\"."
   ]
  },
  {
   "cell_type": "code",
   "execution_count": 1,
   "id": "a0f6a80a-391e-42f1-98d0-3d6ef8f7810a",
   "metadata": {},
   "outputs": [
    {
     "name": "stdout",
     "output_type": "stream",
     "text": [
      "{'Nombre': ['Lorena', 'Isabella', 'Maria'], 'Apellido': ['Urrego', 'Garzón', 'Garzón'], 'edad': ['20', '1', '25']}\n"
     ]
    }
   ],
   "source": [
    "my_dic = {\"Nombre\" : [\"Lorena\", \"Isabella\", \"Maria\"], \"Apellido\" : [\"Urrego\", \"Garzón\", \"Garzón\"], \"edad\" : [\"20\", \"1\", \"25\"]}\n",
    "print(my_dic)"
   ]
  },
  {
   "cell_type": "markdown",
   "id": "4b876ff5-4076-4648-801c-de8388c4f614",
   "metadata": {},
   "source": [
    "Ahora agréguele otra persona cualquiera de su familia, tal que quede con los datos guardados en el diccionario. En ese sentido, debe haber 4 personas ingresadas."
   ]
  },
  {
   "cell_type": "code",
   "execution_count": 2,
   "id": "9314e07c",
   "metadata": {},
   "outputs": [
    {
     "name": "stdout",
     "output_type": "stream",
     "text": [
      "{'Nombre': ['Lorena', 'Isabella', 'Maria', 'Pablo'], 'Apellido': ['Urrego', 'Garzón', 'Garzón', 'Garzón'], 'edad': ['20', '1', '25', '23']}\n"
     ]
    }
   ],
   "source": [
    "my_dic[\"Nombre\"].append(\"Pablo\")\n",
    "my_dic[\"Apellido\"].append(\"Garzón\")\n",
    "my_dic[\"edad\"].append(\"23\")\n",
    "print(my_dic)"
   ]
  },
  {
   "cell_type": "markdown",
   "id": "03296d50-fe6a-41d3-845d-2ee005610165",
   "metadata": {},
   "source": [
    "* **Calificación:** 1,25.\n",
    "* **Comentarios:** ¡muy bien!"
   ]
  },
  {
   "cell_type": "markdown",
   "id": "b2bcb9f0-7903-47f9-84ff-e8be2bc204f2",
   "metadata": {},
   "source": [
    "## 4. Juego de niños"
   ]
  },
  {
   "cell_type": "markdown",
   "id": "0792de69-e1b0-40bb-95e2-13ff4b8499d9",
   "metadata": {},
   "source": [
    "Construya una función `pum(x, n)` que reciba un número `x` y un número `n`, tal que imprima todos los números de 1 hasta `n` pero imprima \"pum\" cuando el número sea múltiplo de `x`. Por ejemplo,\n",
    "\n",
    "> `pum(x = 3, n = 10) = 1, 2, pum, 4, 5, pum, 7, 8, pum, 10.`\n",
    "\n",
    "> `pum(x = 5, n = 16) = 1, 2, 3, 4, pum, 6, 7, 8, 9, pum, 11, 12, 13, 14, pum, 16.`\n"
   ]
  },
  {
   "cell_type": "code",
   "execution_count": null,
   "id": "cef7ee30",
   "metadata": {},
   "outputs": [],
   "source": [
    "numero_x = input(\"x: \")\n",
    "numero_n = input(\"n: \")\n",
    "\n",
    "for num in n:\n",
    "    if num % numero_n == 0:"
   ]
  },
  {
   "cell_type": "code",
   "execution_count": null,
   "id": "7c9728b0",
   "metadata": {},
   "outputs": [],
   "source": [
    "for num in range(1, n):\n",
    "    if num % n == 0:\n",
    "        print(\"pum\")\n",
    "    else\n"
   ]
  },
  {
   "cell_type": "markdown",
   "id": "2e4641e5-7e2e-4ca4-b7be-c8963c808875",
   "metadata": {},
   "source": [
    "* **Calificación:** 0,4.\n",
    "* **Comentarios:** tienes algo de claridad en el algoritmo para lograr el objetivo, pero no es del todo claro. Además, aún así hay problemas en la ejecución. Te recomiendo revisar."
   ]
  },
  {
   "cell_type": "markdown",
   "id": "646bc08d-ed9d-49d3-8e8f-3df70b8e3b73",
   "metadata": {},
   "source": [
    "# Calificación: 1.9\n",
    "\n",
    "Vamos poco a poco. Si necesitas ayuda, nunca dudes en pedírmela."
   ]
  }
 ],
 "metadata": {
  "kernelspec": {
   "display_name": "Python 3 (ipykernel)",
   "language": "python",
   "name": "python3"
  },
  "language_info": {
   "codemirror_mode": {
    "name": "ipython",
    "version": 3
   },
   "file_extension": ".py",
   "mimetype": "text/x-python",
   "name": "python",
   "nbconvert_exporter": "python",
   "pygments_lexer": "ipython3",
   "version": "3.10.2"
  }
 },
 "nbformat": 4,
 "nbformat_minor": 5
}
