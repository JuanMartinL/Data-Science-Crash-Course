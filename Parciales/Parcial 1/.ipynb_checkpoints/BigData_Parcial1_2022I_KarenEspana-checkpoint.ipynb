{
 "cells": [
  {
   "cell_type": "markdown",
   "id": "9e9ef2e9-d55c-4764-9835-97a96e2b0cce",
   "metadata": {},
   "source": [
    "# Fundación Universitaria Los Libertadores - Facultad de Ciencias Económicas, Administrativas y Contables\n",
    "\n",
    "&emsp; **Asignatura:** Big Data. <br>\n",
    "&emsp; **Profesor:** Juan Martín Londoño Zuluaga. <br>\n",
    "&emsp; **Período:** 2022-I.\n",
    "\n",
    "# Parcial 1: Introducción a Python"
   ]
  },
  {
   "cell_type": "markdown",
   "id": "56a6960a-dad2-44e7-a0b2-c66ceac4c89d",
   "metadata": {},
   "source": [
    "**Estudiante:** Karen Estefanía España."
   ]
  },
  {
   "cell_type": "markdown",
   "id": "8d845980-9a04-4bad-a949-c0aad9d2a89a",
   "metadata": {},
   "source": [
    "## 1. Calculadora de la edad de un perro"
   ]
  },
  {
   "cell_type": "markdown",
   "id": "2085ea9c-6c7b-42cd-953b-527570a6c34b",
   "metadata": {},
   "source": [
    "Construya una función `dog_age(x)` que reciba la edad de un perro y la convierta en edad de humano. Para este ejercicio, se define que la edad en humano de un perro es la edad del perro multiplicada por 7. Por ejemplo,\n",
    "\n",
    "> `dog_age(10) = 70`\n",
    "\n",
    "> `dog_age(2) = 14`\n",
    "\n",
    "> `dog_age(9) = 63`"
   ]
  },
  {
   "cell_type": "code",
   "execution_count": 1,
   "id": "43e54bde-e470-4759-bd95-7fc6d9ab4480",
   "metadata": {},
   "outputs": [
    {
     "data": {
      "text/plain": [
       "35"
      ]
     },
     "execution_count": 1,
     "metadata": {},
     "output_type": "execute_result"
    }
   ],
   "source": [
    "h=5\n",
    "d=7\n",
    "dog_age=(h*d)\n",
    "dog_age"
   ]
  },
  {
   "cell_type": "code",
   "execution_count": 63,
   "id": "e2b584a7-ca2e-46c5-ace1-b5f649a0aced",
   "metadata": {},
   "outputs": [
    {
     "name": "stdout",
     "output_type": "stream",
     "text": [
      "35\n"
     ]
    }
   ],
   "source": [
    "hu_age=5\n",
    "dog_age=hu_age*7\n",
    "print (dog_age)"
   ]
  },
  {
   "cell_type": "code",
   "execution_count": 2,
   "id": "2f1ae8cc-75ba-40ea-8bbd-66f32f7f0dcc",
   "metadata": {},
   "outputs": [
    {
     "data": {
      "text/plain": [
       "35"
      ]
     },
     "execution_count": 2,
     "metadata": {},
     "output_type": "execute_result"
    }
   ],
   "source": [
    "h=5\n",
    "d=7\n",
    "def foo():dog_age \n",
    "h*d\n",
    "\n",
    "#profe maso menos me acordaba de la forma pero no de los detalles se que esta mal :("
   ]
  },
  {
   "cell_type": "markdown",
   "id": "8d17e76b-4d56-4a55-b14b-c15257f5980f",
   "metadata": {},
   "source": [
    "* **Calificación:** 0,625\n",
    "* **Comentarios:** ¡bien! Formaste más o menos bien el algoritmo, por lo que te doy puntos por ello. A la vez, hiciste más o menos bien la ejecución, entonces te doy puntos por ello."
   ]
  },
  {
   "cell_type": "markdown",
   "id": "c700672f-733d-48f9-9737-ad0022717fe9",
   "metadata": {},
   "source": [
    "## 2. Suma de pares"
   ]
  },
  {
   "cell_type": "markdown",
   "id": "a2ed7bb1-6116-4092-89d3-390224a4cdb2",
   "metadata": {},
   "source": [
    "Construya una función `suma_pares()` que reciba un parámetro `n` y sume todos los pares hasta dicho número. En ese sentido, algunos ejemplos son los siguientes:\n",
    "\n",
    "> `suma_pares(10) = 30`\n",
    "\n",
    "> `suma_pares(2) = 2`\n",
    "\n",
    "> `suma_pares(5) = 6`\n"
   ]
  },
  {
   "cell_type": "code",
   "execution_count": 109,
   "id": "852bc833-3999-4ce5-8b60-92763a3d2477",
   "metadata": {},
   "outputs": [
    {
     "name": "stdout",
     "output_type": "stream",
     "text": [
      "2\n",
      "4\n",
      "6\n",
      "8\n",
      "10\n"
     ]
    }
   ],
   "source": [
    "n=10\n",
    "i=1\n",
    "while i <= n:\n",
    "    if i % 2 == 0:\n",
    "        sum=i\n",
    "        print(sum)\n",
    "    i=i+1\n",
    "    \n",
    "#profe supongo que se debe agregar un lista vacia en sum para gusrdar los nuemros pares y de ese luegar sumar pero no se como  "
   ]
  },
  {
   "cell_type": "markdown",
   "id": "ffaa1af5-e8b8-4df6-80fc-c3fcce4b11ea",
   "metadata": {},
   "source": [
    "* **Calificación:** 0,4.\n",
    "* **Comentarios:** recordaste bien el algoritmo y ejecución para separar pares e impares. Sin embargo, aún quedó faltando la ejecución de la suma, la cual iba _más o menos_ por lo que escribías en los comentarios."
   ]
  },
  {
   "cell_type": "markdown",
   "id": "2b9f9d1a-1063-4e62-b7fb-9d328285c788",
   "metadata": {},
   "source": [
    "## 3. Diccionario familiar"
   ]
  },
  {
   "cell_type": "markdown",
   "id": "7b31b612-9060-4852-a8f8-c18b13f21b5b",
   "metadata": {},
   "source": [
    "Construya un diccionario con sus datos y dos familiares suyos en el que tenga, inicialmente, el nombre, el apellido y edad. Tenga en cuenta que las llaves deben ser \"nombre\", \"apellido\" y \"edad\"."
   ]
  },
  {
   "cell_type": "code",
   "execution_count": 3,
   "id": "a0f6a80a-391e-42f1-98d0-3d6ef8f7810a",
   "metadata": {},
   "outputs": [
    {
     "name": "stdout",
     "output_type": "stream",
     "text": [
      "{'nombre': 'Karen Valentina Nancy ', 'apellido': 'España Ramirez Mora', 'edad': '26 8 56'}\n"
     ]
    }
   ],
   "source": [
    "datos_fam= {\"nombre\":\"Karen Valentina Nancy \",\"apellido\":\"España Ramirez Mora\",\"edad\": \"26 8 56\"}\n",
    "print (datos_fam)"
   ]
  },
  {
   "cell_type": "markdown",
   "id": "4b876ff5-4076-4648-801c-de8388c4f614",
   "metadata": {},
   "source": [
    "Ahora agréguele otra persona cualquiera de su familia, tal que quede con los datos guardados en el diccionario. En ese sentido, debe haber 4 personas ingresadas."
   ]
  },
  {
   "cell_type": "code",
   "execution_count": 110,
   "id": "90c3f4e1-61fb-4b69-852b-f2cc4f3b2ce6",
   "metadata": {},
   "outputs": [
    {
     "ename": "AttributeError",
     "evalue": "'dict' object has no attribute 'apend'",
     "output_type": "error",
     "traceback": [
      "\u001b[1;31m---------------------------------------------------------------------------\u001b[0m",
      "\u001b[1;31mAttributeError\u001b[0m                            Traceback (most recent call last)",
      "\u001b[1;32m~\\AppData\\Local\\Temp/ipykernel_8012/1937484064.py\u001b[0m in \u001b[0;36m<module>\u001b[1;34m\u001b[0m\n\u001b[1;32m----> 1\u001b[1;33m \u001b[0mdatos_fam\u001b[0m\u001b[1;33m.\u001b[0m\u001b[0mapend\u001b[0m\u001b[1;33m[\u001b[0m\u001b[1;34m\"nombre\"\u001b[0m\u001b[1;33m:\u001b[0m\u001b[1;34m\"Silvio Vicente\"\u001b[0m\u001b[1;33m]\u001b[0m\u001b[1;33m\u001b[0m\u001b[1;33m\u001b[0m\u001b[0m\n\u001b[0m\u001b[0;32m      2\u001b[0m \u001b[0mdatos_fam\u001b[0m\u001b[1;33m.\u001b[0m\u001b[0mapend\u001b[0m\u001b[1;33m[\u001b[0m\u001b[1;34m\"apellido\"\u001b[0m\u001b[1;33m:\u001b[0m\u001b[1;34m\"España España\"\u001b[0m\u001b[1;33m]\u001b[0m\u001b[1;33m\u001b[0m\u001b[1;33m\u001b[0m\u001b[0m\n\u001b[0;32m      3\u001b[0m \u001b[0mdatos_fam\u001b[0m\u001b[1;33m.\u001b[0m\u001b[0mapend\u001b[0m\u001b[1;33m[\u001b[0m\u001b[1;34m\"nombre\"\u001b[0m\u001b[1;33m:\u001b[0m\u001b[1;34m\"57 37\"\u001b[0m\u001b[1;33m]\u001b[0m\u001b[1;33m\u001b[0m\u001b[1;33m\u001b[0m\u001b[0m\n\u001b[0;32m      4\u001b[0m \u001b[0mprint\u001b[0m\u001b[1;33m(\u001b[0m\u001b[0mdatos_fam\u001b[0m\u001b[1;33m)\u001b[0m\u001b[1;33m\u001b[0m\u001b[1;33m\u001b[0m\u001b[0m\n\u001b[0;32m      5\u001b[0m \u001b[1;31m#no recuendo como cual palabra se agregaba se que es con la llave pero no recuendo mas\u001b[0m\u001b[1;33m\u001b[0m\u001b[1;33m\u001b[0m\u001b[0m\n",
      "\u001b[1;31mAttributeError\u001b[0m: 'dict' object has no attribute 'apend'"
     ]
    }
   ],
   "source": [
    "datos_fam.apend[\"nombre\":\"Silvio Vicente\"]\n",
    "datos_fam.apend[\"apellido\":\"España España\"]\n",
    "datos_fam.apend[\"nombre\":\"57 37\"]\n",
    "print(datos_fam)\n",
    "#no recuendo como cual palabra se agregaba se que es con la llave pero no recuendo mas "
   ]
  },
  {
   "cell_type": "markdown",
   "id": "054d65e9-b681-498b-bbf6-e8eb23b08043",
   "metadata": {},
   "source": [
    "* **Calificación:** 0,8.\n",
    "* **Comentarios:** tienes el algoritmo claro, entonces te doy la mitad del punto por ello. Además, tienes algo de la ejecución, pero no recordaste bien cómo funcionaba el diccionario para poderle agregar unas nuevas observaciones. ¡Te otorgo algunos puntos por el esfuerzo!"
   ]
  },
  {
   "cell_type": "markdown",
   "id": "b2bcb9f0-7903-47f9-84ff-e8be2bc204f2",
   "metadata": {},
   "source": [
    "## 4. Juego de niños"
   ]
  },
  {
   "cell_type": "markdown",
   "id": "0792de69-e1b0-40bb-95e2-13ff4b8499d9",
   "metadata": {},
   "source": [
    "Construya una función `pum(x, n)` que reciba un número `x` y un número `n`, tal que imprima todos los números de 1 hasta `n` pero imprima \"pum\" cuando el número sea múltiplo de `x`. Por ejemplo,\n",
    "\n",
    "> `pum(x = 3, n = 10) = 1, 2, pum, 4, 5, pum, 7, 8, pum, 10.`\n",
    "\n",
    "> `pum(x = 5, n = 16) = 1, 2, 3, 4, pum, 6, 7, 8, 9, pum, 11, 12, 13, 14, pum, 16.`\n"
   ]
  },
  {
   "cell_type": "code",
   "execution_count": 57,
   "id": "5c8434e7-a0d3-4f69-9fd6-eb5488affa0e",
   "metadata": {},
   "outputs": [
    {
     "name": "stdout",
     "output_type": "stream",
     "text": [
      "1\n",
      "2\n",
      "3\n",
      "4\n",
      "pum\n",
      "6\n",
      "7\n",
      "8\n",
      "9\n",
      "pum\n",
      "11\n",
      "12\n",
      "13\n",
      "14\n",
      "pum\n",
      "16\n"
     ]
    }
   ],
   "source": [
    "x=5 \n",
    "n=16\n",
    "i=1\n",
    "while i <= n:\n",
    "    if i % x == 0:\n",
    "        print (\"pum\")\n",
    "    elif i <= n:\n",
    "        print(i)\n",
    "    i=i+1\n",
    "#:) "
   ]
  },
  {
   "cell_type": "markdown",
   "id": "a9844812-7f95-4b9e-99e8-97d4a6b5d616",
   "metadata": {},
   "source": [
    "* **Calificación:** 1,25.\n",
    "* **Comentarios:** ¡excelente! Este lo hiciste impecable. ¡Felicitaciones!"
   ]
  },
  {
   "cell_type": "markdown",
   "id": "a2af8685-27bb-4706-a40a-3c16f66d1f2f",
   "metadata": {},
   "source": [
    "# Calificación: 3.1"
   ]
  }
 ],
 "metadata": {
  "kernelspec": {
   "display_name": "Python 3 (ipykernel)",
   "language": "python",
   "name": "python3"
  },
  "language_info": {
   "codemirror_mode": {
    "name": "ipython",
    "version": 3
   },
   "file_extension": ".py",
   "mimetype": "text/x-python",
   "name": "python",
   "nbconvert_exporter": "python",
   "pygments_lexer": "ipython3",
   "version": "3.10.2"
  }
 },
 "nbformat": 4,
 "nbformat_minor": 5
}
