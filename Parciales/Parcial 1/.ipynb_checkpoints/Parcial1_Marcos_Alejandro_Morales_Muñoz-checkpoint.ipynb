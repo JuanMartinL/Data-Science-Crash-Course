{
 "cells": [
  {
   "cell_type": "markdown",
   "id": "9e9ef2e9-d55c-4764-9835-97a96e2b0cce",
   "metadata": {},
   "source": [
    "# Fundación Universitaria Los Libertadores - Facultad de Ciencias Económicas, Administrativas y Contables\n",
    "\n",
    "&emsp; **Asignatura:** Big Data. <br>\n",
    "&emsp; **Profesor:** Juan Martín Londoño Zuluaga. <br>\n",
    "&emsp; **Período:** 2022-I.\n",
    "\n",
    "# Parcial 1: Introducción a Python"
   ]
  },
  {
   "cell_type": "markdown",
   "id": "5557ccb3-602c-4b7c-a409-6f2ae757f140",
   "metadata": {},
   "source": [
    "**Estudiante:** Marcos Alejandro Morales."
   ]
  },
  {
   "cell_type": "markdown",
   "id": "8d845980-9a04-4bad-a949-c0aad9d2a89a",
   "metadata": {},
   "source": [
    "## 1. Calculadora de la edad de un perro"
   ]
  },
  {
   "cell_type": "markdown",
   "id": "2085ea9c-6c7b-42cd-953b-527570a6c34b",
   "metadata": {},
   "source": [
    "Construya una función `dog_age(x)` que reciba la edad de un perro y la convierta en edad de humano. Para este ejercicio, se define que la edad en humano de un perro es la edad del perro multiplicada por 7. Por ejemplo,\n",
    "\n",
    "> `dog_age(10) = 70`\n",
    "\n",
    "> `dog_age(2) = 14`\n",
    "\n",
    "> `dog_age(9) = 63`"
   ]
  },
  {
   "cell_type": "code",
   "execution_count": 1,
   "id": "e2b584a7-ca2e-46c5-ace1-b5f649a0aced",
   "metadata": {},
   "outputs": [
    {
     "name": "stdin",
     "output_type": "stream",
     "text": [
      "Escribe la edad de tu perro:  10\n"
     ]
    },
    {
     "name": "stdout",
     "output_type": "stream",
     "text": [
      "Tu Perro tiene en edad humana 70.0 años\n"
     ]
    }
   ],
   "source": [
    "def dog_age(x):\n",
    "    float(x)\n",
    "    edad = (x*7)\n",
    "    return edad\n",
    "x = input(\"Escribe la edad de tu perro: \")\n",
    "x = float(x)\n",
    "res = dog_age(x)\n",
    "print(\"Tu Perro tiene en edad humana {0} años\".format(res))\n"
   ]
  },
  {
   "cell_type": "markdown",
   "id": "3d91a90c-7583-4198-9e43-97b14ae14760",
   "metadata": {},
   "source": [
    "* **Calificación:** 1,25.\n",
    "* **Comentarios:** ¡muy bien!"
   ]
  },
  {
   "cell_type": "markdown",
   "id": "c700672f-733d-48f9-9737-ad0022717fe9",
   "metadata": {},
   "source": [
    "## 2. Suma de pares"
   ]
  },
  {
   "cell_type": "markdown",
   "id": "a2ed7bb1-6116-4092-89d3-390224a4cdb2",
   "metadata": {},
   "source": [
    "Construya una función `suma_pares()` que reciba un parámetro `n` y sume todos los pares hasta dicho número. En ese sentido, algunos ejemplos son los siguientes:\n",
    "\n",
    "> `suma_pares(10) = 30`\n",
    "\n",
    "> `suma_pares(2) = 2`\n",
    "\n",
    "> `suma_pares(5) = 6`\n"
   ]
  },
  {
   "cell_type": "code",
   "execution_count": 5,
   "id": "852bc833-3999-4ce5-8b60-92763a3d2477",
   "metadata": {},
   "outputs": [
    {
     "ename": "NameError",
     "evalue": "name 'n' is not defined",
     "output_type": "error",
     "traceback": [
      "\u001b[0;31m---------------------------------------------------------------------------\u001b[0m",
      "\u001b[0;31mNameError\u001b[0m                                 Traceback (most recent call last)",
      "\u001b[0;32m/var/folders/4r/xsnzrxgj0139y6gdrvpmy5sh0000gn/T/ipykernel_17168/2017875321.py\u001b[0m in \u001b[0;36m<module>\u001b[0;34m\u001b[0m\n\u001b[1;32m      7\u001b[0m             \u001b[0mpar\u001b[0m \u001b[0;34m=\u001b[0m \u001b[0mpar\u001b[0m \u001b[0;34m+\u001b[0m \u001b[0mi\u001b[0m\u001b[0;34m\u001b[0m\u001b[0;34m\u001b[0m\u001b[0m\n\u001b[1;32m      8\u001b[0m     \u001b[0mprint\u001b[0m\u001b[0;34m(\u001b[0m\u001b[0;34m\"Suma de pares desde 2 hasta {0} es = {1}\"\u001b[0m\u001b[0;34m.\u001b[0m\u001b[0mformat\u001b[0m\u001b[0;34m(\u001b[0m\u001b[0mn\u001b[0m\u001b[0;34m,\u001b[0m\u001b[0mpar\u001b[0m\u001b[0;34m)\u001b[0m\u001b[0;34m)\u001b[0m\u001b[0;34m\u001b[0m\u001b[0;34m\u001b[0m\u001b[0m\n\u001b[0;32m----> 9\u001b[0;31m \u001b[0msuma_par\u001b[0m\u001b[0;34m(\u001b[0m\u001b[0mn\u001b[0m\u001b[0;34m)\u001b[0m\u001b[0;34m\u001b[0m\u001b[0;34m\u001b[0m\u001b[0m\n\u001b[0m",
      "\u001b[0;31mNameError\u001b[0m: name 'n' is not defined"
     ]
    }
   ],
   "source": [
    "def suma_par(n):\n",
    "    n = input(\"Escriba cualquier número entero: \")\n",
    "    n = int(n)\n",
    "    par = 0\n",
    "    for i in range (1,n+1):\n",
    "        if i % 2 == 0:\n",
    "            par = par + i\n",
    "    print(\"Suma de pares desde 2 hasta {0} es = {1}\".format(n,par))\n",
    "suma_par(n)"
   ]
  },
  {
   "cell_type": "markdown",
   "id": "3477c224-fd2f-4080-9d30-e628d1acd284",
   "metadata": {},
   "source": [
    "* **Calificación:** 1,1.\n",
    "* **Comentarios:** ¡bien! Solamente hay un par fallas que te bajan algunos puntos:\n",
    "    - El programa presenta un error porque `n` no está definido. Ello es porque `n` está, en tu programa, _dentro_ de la función. En ese sentido, te genera el error porque `n` no se ha creado, no existe sino dentro de la función. Por tanto, recomiendo que ahí pongas un número o algo similar.\n",
    "    - El `input` está _dentro_ de la función. En ese sentido, para que se llame y no tengas el problema con la variable `n`, deberías sacarlo de la función.\n",
    "    \n",
    "    A pesar de lo anterior, tienes bien el algoritmo y casi todo bien en la ejecución, por lo que te otorgo casi todos los puntos."
   ]
  },
  {
   "cell_type": "markdown",
   "id": "2b9f9d1a-1063-4e62-b7fb-9d328285c788",
   "metadata": {},
   "source": [
    "## 3. Diccionario familiar"
   ]
  },
  {
   "cell_type": "markdown",
   "id": "7b31b612-9060-4852-a8f8-c18b13f21b5b",
   "metadata": {},
   "source": [
    "Construya un diccionario con sus datos y dos familiares suyos en el que tenga, inicialmente, el nombre, el apellido y edad. Tenga en cuenta que las llaves deben ser \"nombre\", \"apellido\" y \"edad\"."
   ]
  },
  {
   "cell_type": "code",
   "execution_count": 6,
   "id": "a0f6a80a-391e-42f1-98d0-3d6ef8f7810a",
   "metadata": {},
   "outputs": [
    {
     "data": {
      "text/plain": [
       "{'Nombre': ['Alejandro', 'Rosa', 'Marcos'],\n",
       " 'Apellido': ['Morales', 'Muñoz', 'Calderon'],\n",
       " 'Edad': ['25', '58', '61']}"
      ]
     },
     "execution_count": 6,
     "metadata": {},
     "output_type": "execute_result"
    }
   ],
   "source": [
    "Family = {\"Nombre\":[\"Alejandro\", \"Rosa\", \"Marcos\"], \"Apellido\":[\"Morales\", \"Muñoz\", \"Calderon\"], \"Edad\":[\"25\", \"58\", \"61\"]}\n",
    "Family"
   ]
  },
  {
   "cell_type": "markdown",
   "id": "4b876ff5-4076-4648-801c-de8388c4f614",
   "metadata": {},
   "source": [
    "Ahora agréguele otra persona cualquiera de su familia, tal que quede con los datos guardados en el diccionario. En ese sentido, debe haber 4 personas ingresadas."
   ]
  },
  {
   "cell_type": "code",
   "execution_count": 7,
   "id": "a39bb8d9",
   "metadata": {},
   "outputs": [
    {
     "data": {
      "text/plain": [
       "{'Nombre': ['Alejandro', 'Rosa', 'Marcos', 'Magda'],\n",
       " 'Apellido': ['Morales', 'Muñoz', 'Calderon', 'Morales'],\n",
       " 'Edad': ['25', '58', '61', '34']}"
      ]
     },
     "execution_count": 7,
     "metadata": {},
     "output_type": "execute_result"
    }
   ],
   "source": [
    "Family [\"Nombre\"].append(\"Magda\")\n",
    "Family [\"Apellido\"].append(\"Morales\")\n",
    "Family [\"Edad\"].append(\"34\")\n",
    "Family"
   ]
  },
  {
   "cell_type": "markdown",
   "id": "ea1662f3-9a56-45d7-bb3b-4e11706ec64d",
   "metadata": {},
   "source": [
    "* **Calificación:** 1,25.\n",
    "* **Comentarios:** ¡muy bien! ¡Te felicito!"
   ]
  },
  {
   "cell_type": "markdown",
   "id": "b2bcb9f0-7903-47f9-84ff-e8be2bc204f2",
   "metadata": {},
   "source": [
    "## 4. Juego de niños"
   ]
  },
  {
   "cell_type": "markdown",
   "id": "0792de69-e1b0-40bb-95e2-13ff4b8499d9",
   "metadata": {},
   "source": [
    "Construya una función `pum(x, n)` que reciba un número `x` y un número `n`, tal que imprima todos los números de 1 hasta `n` pero imprima \"pum\" cuando el número sea múltiplo de `x`. Por ejemplo,\n",
    "\n",
    "> `pum(x = 3, n = 10) = 1, 2, pum, 4, 5, pum, 7, 8, pum, 10.`\n",
    "\n",
    "> `pum(x = 5, n = 16) = 1, 2, 3, 4, pum, 6, 7, 8, 9, pum, 11, 12, 13, 14, pum, 16.`\n"
   ]
  },
  {
   "cell_type": "code",
   "execution_count": 8,
   "id": "5c8434e7-a0d3-4f69-9fd6-eb5488affa0e",
   "metadata": {},
   "outputs": [
    {
     "name": "stdout",
     "output_type": "stream",
     "text": [
      "1\n",
      "2\n",
      "3\n",
      "4\n",
      "pum\n",
      "6\n",
      "7\n",
      "8\n",
      "9\n",
      "pum\n"
     ]
    }
   ],
   "source": [
    "x = 5\n",
    "n = 10\n",
    "\n",
    "for num in range (1,n+1):\n",
    "    if num % x == 0:\n",
    "        print (\"pum\")\n",
    "    elif num % x != 0:\n",
    "        print(num)\n",
    "    "
   ]
  },
  {
   "cell_type": "markdown",
   "id": "b8c5269f-c4bb-4233-bad2-1443d49f48fa",
   "metadata": {},
   "source": [
    "* **Calificación:** 1,1.\n",
    "* **Comentarios:** ¡muy bien! Solamente no te otorgo todos los puntos porque no está construido como función, como indica el ejercicio. Sin embargo, está bien."
   ]
  },
  {
   "cell_type": "markdown",
   "id": "200c22c7-9757-4a49-9ef2-12b0a11b8af9",
   "metadata": {},
   "source": [
    "# Calificación: 4.7\n",
    "\n",
    "¡Muy bien, Marcos! Lo hiciste muy bien. Felicitaciones :)"
   ]
  }
 ],
 "metadata": {
  "kernelspec": {
   "display_name": "Python 3 (ipykernel)",
   "language": "python",
   "name": "python3"
  },
  "language_info": {
   "codemirror_mode": {
    "name": "ipython",
    "version": 3
   },
   "file_extension": ".py",
   "mimetype": "text/x-python",
   "name": "python",
   "nbconvert_exporter": "python",
   "pygments_lexer": "ipython3",
   "version": "3.10.2"
  }
 },
 "nbformat": 4,
 "nbformat_minor": 5
}
