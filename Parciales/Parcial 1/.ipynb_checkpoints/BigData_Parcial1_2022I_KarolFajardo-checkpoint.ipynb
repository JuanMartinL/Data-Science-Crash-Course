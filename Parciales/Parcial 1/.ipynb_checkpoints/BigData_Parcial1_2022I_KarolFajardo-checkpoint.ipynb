{
 "cells": [
  {
   "cell_type": "markdown",
   "id": "9e9ef2e9-d55c-4764-9835-97a96e2b0cce",
   "metadata": {},
   "source": [
    "# Fundación Universitaria Los Libertadores - Facultad de Ciencias Económicas, Administrativas y Contables\n",
    "\n",
    "&emsp; **Asignatura:** Big Data. <br>\n",
    "&emsp; **Profesor:** Juan Martín Londoño Zuluaga. <br>\n",
    "&emsp; **Período:** 2022-I.\n",
    "\n",
    "# Parcial 1: Introducción a Python"
   ]
  },
  {
   "cell_type": "markdown",
   "id": "952ba26c-6014-4f96-b90c-15691528a47b",
   "metadata": {},
   "source": [
    "**Estudiante:** Karol Stephanny Fajardo."
   ]
  },
  {
   "cell_type": "markdown",
   "id": "8d845980-9a04-4bad-a949-c0aad9d2a89a",
   "metadata": {},
   "source": [
    "## 1. Calculadora de la edad de un perro"
   ]
  },
  {
   "cell_type": "markdown",
   "id": "2085ea9c-6c7b-42cd-953b-527570a6c34b",
   "metadata": {},
   "source": [
    "Construya una función `dog_age(x)` que reciba la edad de un perro y la convierta en edad de humano. Para este ejercicio, se define que la edad en humano de un perro es la edad del perro multiplicada por 7. Por ejemplo,\n",
    "\n",
    "> `dog_age(10) = 70`\n",
    "\n",
    "> `dog_age(2) = 14`\n",
    "\n",
    "> `dog_age(9) = 63`"
   ]
  },
  {
   "cell_type": "code",
   "execution_count": 302,
   "id": "e2b584a7-ca2e-46c5-ace1-b5f649a0aced",
   "metadata": {
    "scrolled": true
   },
   "outputs": [],
   "source": [
    "def dog_age(x):\n",
    "    x = int(2)\n",
    "    x = x * 7 \n",
    "    print(\"Edad del humano es: {} \".format(x))"
   ]
  },
  {
   "cell_type": "code",
   "execution_count": 303,
   "id": "79bd7055",
   "metadata": {},
   "outputs": [
    {
     "name": "stdout",
     "output_type": "stream",
     "text": [
      "Edad del humano es: 14 \n"
     ]
    }
   ],
   "source": [
    "dog_age(2)"
   ]
  },
  {
   "cell_type": "markdown",
   "id": "fc25cb95-2063-4833-be18-8261776e823e",
   "metadata": {},
   "source": [
    "* **Calificación:** 1,25.\n",
    "* **Comentarios:** ¡muy bien! ¡Felicitaciones!"
   ]
  },
  {
   "cell_type": "markdown",
   "id": "c700672f-733d-48f9-9737-ad0022717fe9",
   "metadata": {},
   "source": [
    "## 2. Suma de pares"
   ]
  },
  {
   "cell_type": "markdown",
   "id": "a2ed7bb1-6116-4092-89d3-390224a4cdb2",
   "metadata": {},
   "source": [
    "Construya una función `suma_pares()` que reciba un parámetro `n` y sume todos los pares hasta dicho número. En ese sentido, algunos ejemplos son los siguientes:\n",
    "\n",
    "> `suma_pares(10) = 30`\n",
    "\n",
    "> `suma_pares(2) = 2`\n",
    "\n",
    "> `suma_pares(5) = 6`\n"
   ]
  },
  {
   "cell_type": "code",
   "execution_count": 1,
   "id": "852bc833-3999-4ce5-8b60-92763a3d2477",
   "metadata": {},
   "outputs": [
    {
     "name": "stdout",
     "output_type": "stream",
     "text": [
      "Suma de números pares:2\n",
      "Suma de números pares:6\n"
     ]
    }
   ],
   "source": [
    "def suma_pares(n):\n",
    "    sumapar = 0\n",
    "    n = int(5)\n",
    "    for i in range (1,n+1):\n",
    "        if i % 2 == 0:\n",
    "            sumapar = sumapar + i\n",
    "            print(\"Suma de números pares:{}\". format(sumapar)) \n",
    "suma_pares(10)"
   ]
  },
  {
   "cell_type": "markdown",
   "id": "298e5103-7fee-445c-b3e4-0ad8a3244dcd",
   "metadata": {},
   "source": [
    "* **Calificación:** 1,1.\n",
    "* **Comentarios:** ¡muy cerca! Tienes un error pequeño: incluíste una actualización de la variable _dentro_ de la función, entonces siempre `n` va a ser igual a 5. En ese sentido, el programa no funciona. Sin embargo, te doy casi todos los puntos por tener bien el algoritmo y casi bien la ejecución."
   ]
  },
  {
   "cell_type": "markdown",
   "id": "2b9f9d1a-1063-4e62-b7fb-9d328285c788",
   "metadata": {},
   "source": [
    "## 3. Diccionario familiar"
   ]
  },
  {
   "cell_type": "markdown",
   "id": "7b31b612-9060-4852-a8f8-c18b13f21b5b",
   "metadata": {},
   "source": [
    "Construya un diccionario con sus datos y dos familiares suyos en el que tenga, inicialmente, el nombre, el apellido y edad. Tenga en cuenta que las llaves deben ser \"nombre\", \"apellido\" y \"edad\"."
   ]
  },
  {
   "cell_type": "code",
   "execution_count": 424,
   "id": "a0f6a80a-391e-42f1-98d0-3d6ef8f7810a",
   "metadata": {},
   "outputs": [
    {
     "data": {
      "text/plain": [
       "{'Nombre': ['karol', 'johanna', 'Kristian'],\n",
       " 'Apellido': ['fajardo', 'Ramirez', 'Fajardo'],\n",
       " 'Edad': ['22', '41', '16']}"
      ]
     },
     "execution_count": 424,
     "metadata": {},
     "output_type": "execute_result"
    }
   ],
   "source": [
    "my_dic = {\"Nombre\": [\"karol\", \"johanna\",\"Kristian\"], \"Apellido\": [\"fajardo\", \"Ramirez\", \"Fajardo\"], \"Edad\": [\"22\", \"41\",\"16\"]}\n",
    "my_dic "
   ]
  },
  {
   "cell_type": "markdown",
   "id": "4b876ff5-4076-4648-801c-de8388c4f614",
   "metadata": {},
   "source": [
    "Ahora agréguele otra persona cualquiera de su familia, tal que quede con los datos guardados en el diccionario. En ese sentido, debe haber 4 personas ingresadas."
   ]
  },
  {
   "cell_type": "code",
   "execution_count": 425,
   "id": "6e1a7503",
   "metadata": {},
   "outputs": [
    {
     "data": {
      "text/plain": [
       "{'Nombre': ['karol', 'johanna', 'Kristian', 'isabella'],\n",
       " 'Apellido': ['fajardo', 'Ramirez', 'Fajardo', 'bedoya'],\n",
       " 'Edad': ['22', '41', '16', '3']}"
      ]
     },
     "execution_count": 425,
     "metadata": {},
     "output_type": "execute_result"
    }
   ],
   "source": [
    "my_dic[\"Nombre\"].append(\"isabella\")\n",
    "my_dic[\"Apellido\"].append(\"bedoya\")\n",
    "my_dic[\"Edad\"].append(\"3\")\n",
    "my_dic"
   ]
  },
  {
   "cell_type": "markdown",
   "id": "828f6f63-b7c8-4b6d-a646-8565be24c533",
   "metadata": {},
   "source": [
    "* **Calificación:** 1,25.\n",
    "* **Comentarios:** ¡excelente! ¡Felicitaciones!"
   ]
  },
  {
   "cell_type": "markdown",
   "id": "b2bcb9f0-7903-47f9-84ff-e8be2bc204f2",
   "metadata": {},
   "source": [
    "## 4. Juego de niños"
   ]
  },
  {
   "cell_type": "markdown",
   "id": "0792de69-e1b0-40bb-95e2-13ff4b8499d9",
   "metadata": {},
   "source": [
    "Construya una función `pum(x, n)` que reciba un número `x` y un número `n`, tal que imprima todos los números de 1 hasta `n` pero imprima \"pum\" cuando el número sea múltiplo de `x`. Por ejemplo,\n",
    "\n",
    "> `pum(x = 3, n = 10) = 1, 2, pum, 4, 5, pum, 7, 8, pum, 10.`\n",
    "\n",
    "> `pum(x = 5, n = 16) = 1, 2, 3, 4, pum, 6, 7, 8, 9, pum, 11, 12, 13, 14, pum, 16.`\n"
   ]
  },
  {
   "cell_type": "code",
   "execution_count": 5,
   "id": "5c8434e7-a0d3-4f69-9fd6-eb5488affa0e",
   "metadata": {},
   "outputs": [],
   "source": [
    "def pum(x,n):\n",
    "    x = int(3)\n",
    "    n = int(10)\n",
    "    for i in range (1,n+1):\n",
    "        if i * x == 0:\n",
    "            print(\"Pum\")"
   ]
  },
  {
   "cell_type": "code",
   "execution_count": 4,
   "id": "2b23a34e",
   "metadata": {},
   "outputs": [],
   "source": [
    "pum(3,10)"
   ]
  },
  {
   "cell_type": "markdown",
   "id": "b4fb4710-aec1-4bd1-b89f-4348a41f1e60",
   "metadata": {},
   "source": [
    "* **Calificación:** 0,9.\n",
    "* **Comentarios:** ¡muy cerca! Si bien entiendes el algoritmo y lo aplicas (por lo que te doy de base medio punto), la ejecución presenta varios problemas:\n",
    "    - Vuelve a cometer el error del punto 3 y actualiza la variable a un número entero fijo (en este caso 3 y 10), lo que hace que la ejecución no cumpla el objetivo establecido.\n",
    "    - El condicional no debe buscar que `i` multiplicado por `x` sea igual a 0, sino que `i` _dividido_ por `x` dé como residuo 0. En ese sentido, el programa no funciona.\n",
    "    \n",
    "    No obstante, a pesar de dichos problemas, te otorgo bastantes puntos por la ejecución que planteaste."
   ]
  }
 ],
 "metadata": {
  "kernelspec": {
   "display_name": "Python 3 (ipykernel)",
   "language": "python",
   "name": "python3"
  },
  "language_info": {
   "codemirror_mode": {
    "name": "ipython",
    "version": 3
   },
   "file_extension": ".py",
   "mimetype": "text/x-python",
   "name": "python",
   "nbconvert_exporter": "python",
   "pygments_lexer": "ipython3",
   "version": "3.9.7"
  }
 },
 "nbformat": 4,
 "nbformat_minor": 5
}
