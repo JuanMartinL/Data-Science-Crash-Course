{
 "cells": [
  {
   "cell_type": "markdown",
   "metadata": {},
   "source": [
    "# Parcial 1: Introducción a Python\n",
    "\n",
    "&emsp; **Fundación Universitaria Los Libertadores**. <br>\n",
    "&emsp; **Asignatura:** Big Data. <br>\n",
    "&emsp; **Período:** 2023-II. <br>\n",
    "&emsp; **Profesor:** Juan Martín Londoño Zuluaga.\n",
    "\n",
    "&emsp; **Estudiante:** "
   ]
  },
  {
   "cell_type": "markdown",
   "metadata": {},
   "source": [
    "# 1. Conteo de números impares\n",
    "\n",
    "Elabore un programa llamado `conteo_impares()` que reciba un parámetro `n` y cuente todos los números pares hasta dicho número. Es decir, si se escribe `suma_impares(n = 4)` debe retornar 2. Otros ejemplos son:\n",
    "\n",
    "> `suma_pares(n = 5) = 3`\n",
    ">\n",
    "> `suma_apres(n = 10) = 5`"
   ]
  },
  {
   "cell_type": "code",
   "execution_count": null,
   "metadata": {},
   "outputs": [],
   "source": []
  },
  {
   "cell_type": "markdown",
   "metadata": {},
   "source": [
    "# 2. Elimina duplicados\n",
    "\n",
    "Escriba una función llamada `dropDuplicates()` que reciba una lista `lst` con elementos y elimine los elementos que estén duplicados. Por ejemplo,\n",
    "\n",
    "> `lst = [1, \"hola\", 2, 3, 1, \"hola\", \"hola\"]`\n",
    ">\n",
    "> `dropDuplicates(lst) = [1, \"hola\", 2, 3]`"
   ]
  },
  {
   "cell_type": "code",
   "execution_count": null,
   "metadata": {},
   "outputs": [],
   "source": []
  },
  {
   "cell_type": "markdown",
   "metadata": {},
   "source": [
    "# 3. Calculadora del volumen de un cilindro\n",
    "\n",
    "Escriba una función `vol_cilindro(r, h)` que reciba el radio `r` y la altura `h` de un cilindro y calcule su volumne. Recuerde que el volumen de un cilindro es el siguiente:\n",
    "\n",
    "$$ volumen_{cilindro} =  \\pi r^2 h $$\n",
    "\n",
    "Por tanto, algunos ejemplos son los siguientes:\n",
    "\n",
    "> `vol_cilindro(r = 2, h = 2)` $\\approx$ `25,13`\n",
    ">\n",
    "> `vol_cilindro(r = 4, h = 1)` $\\approx$ `50,27`"
   ]
  },
  {
   "cell_type": "code",
   "execution_count": null,
   "metadata": {},
   "outputs": [],
   "source": []
  },
  {
   "cell_type": "markdown",
   "metadata": {},
   "source": [
    "# 4. Juego de Niños\n",
    "\n",
    "Construya una función `pum(x, n)` que reciba un número `num` y un número `n`, tal que imprima todos los números de 1 hasta `n` pero imprima \"pum\" cuando el número sea múltiplo de `num`. Por ejemplo,\n",
    "\n",
    "> `pum(num = 3, n = 10) = 1, 2, pum, 4, 5, pum, 7, 8, pum, 10.`\n",
    ">\n",
    "> `pum(num = 5, n = 16) = 1, 2, 3, 4, pum, 6, 7, 8, 9, pum, 11, 12, 13, 14, pum, 16.`"
   ]
  },
  {
   "cell_type": "code",
   "execution_count": null,
   "metadata": {},
   "outputs": [],
   "source": []
  },
  {
   "cell_type": "markdown",
   "metadata": {},
   "source": [
    "# 5. Serie de Fibonacci\n",
    "\n",
    "La serie de Fibonacci es una serie que empieza con el 0 y el 1. A partir de estos, cada nuevo número es la suma de los dos anteriores. En ese sentido, la serie de Fibonacci se ve de la siguiente manera hasta el quinto número: \n",
    "\n",
    "$$ f_0 = 0; f_1 = 1; f_2 = 1; f_3 = 2; f_4 = 3; f_5 = 5 $$\n",
    "\n",
    "Es decir, se empieza con el 0 y el 1, después el segundo número es igual a la suma de los otros dos anteriores ($f_2 = 0 + 1 = 1$), el tercero igual a los dos anteriores ($f_3 = 1 + 1 = 2$), el cuarto igual a la suma de los dos anteriores ($f_4 = 1 + 2 = 3$), el quinto la suma de los dos anteriores ($f_5 = 2 + 3 = 5$). Se puede escribir de forma más didáctica de la siguiente manera:\n",
    "\n",
    "$$ f_0 = 0 $$\n",
    "$$ f_1 = 1 $$\n",
    "$$ f_2 = 0 + 1 = 1 $$\n",
    "$$ f_3 = 1 + 1 = 2 $$\n",
    "$$ f_4 = 1 + 2 = 3 $$\n",
    "$$ f_5 = 2 + 3 = 5 $$\n",
    "$$ f_6 = 3 + 5 = 8 $$\n",
    "\n",
    "A partir de lo anterior, escriba una función que pueda calcular el número en la posición `i` de la serie."
   ]
  },
  {
   "cell_type": "code",
   "execution_count": null,
   "metadata": {},
   "outputs": [],
   "source": []
  }
 ],
 "metadata": {
  "kernelspec": {
   "display_name": "Python 3",
   "language": "python",
   "name": "python3"
  },
  "language_info": {
   "codemirror_mode": {
    "name": "ipython",
    "version": 3
   },
   "file_extension": ".py",
   "mimetype": "text/x-python",
   "name": "python",
   "nbconvert_exporter": "python",
   "pygments_lexer": "ipython3",
   "version": "3.11.4"
  },
  "orig_nbformat": 4
 },
 "nbformat": 4,
 "nbformat_minor": 2
}
