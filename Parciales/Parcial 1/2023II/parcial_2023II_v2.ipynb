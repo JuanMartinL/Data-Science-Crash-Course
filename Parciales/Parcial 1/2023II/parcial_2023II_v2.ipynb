{
 "cells": [
  {
   "cell_type": "markdown",
   "metadata": {},
   "source": [
    "# Parcial 1: Introducción a Python\n",
    "\n",
    "&emsp; **Fundación Universitaria Los Libertadores**. <br>\n",
    "&emsp; **Asignatura:** Big Data. <br>\n",
    "&emsp; **Período:** 2023-II. <br>\n",
    "&emsp; **Profesor:** Juan Martín Londoño Zuluaga.\n",
    "\n",
    "&emsp; **Estudiante:** "
   ]
  },
  {
   "cell_type": "markdown",
   "metadata": {},
   "source": [
    "# 1. Suma de números pares\n",
    "\n",
    "Elabore un programa llamado `suma_pares()` que reciba un parámetro `n` y sume todos los números pares hasta dicho número. Es decir, si se escribe `suma_pares(n = 4)` debe retornar 6. Otros ejemplos son:\n",
    "\n",
    "> `suma_pares(n = 5) = 6`\n",
    ">\n",
    "> `suma_apres(n = 10) = 30`"
   ]
  },
  {
   "cell_type": "code",
   "execution_count": null,
   "metadata": {},
   "outputs": [],
   "source": []
  },
  {
   "cell_type": "markdown",
   "metadata": {},
   "source": [
    "# 2. Convertidor de temperatura\n",
    "\n",
    "Elabore un programa llamado `c2f()` que reciba un parámetro `c` que sean grados centígrados y devuelva su conversión a grados fahrenheit. La fórmula de esta conversión es:\n",
    "\n",
    "$$ 0°C × \\frac{9}{5} + 32 = 32°F $$\n",
    "\n",
    "\n",
    "Por tanto, algunos ejemplos:\n",
    "\n",
    "> `c2f(100) = 212`\n",
    ">\n",
    "> `c2f(24) = 75.2`"
   ]
  },
  {
   "cell_type": "code",
   "execution_count": null,
   "metadata": {},
   "outputs": [],
   "source": []
  },
  {
   "cell_type": "markdown",
   "metadata": {},
   "source": [
    "# 3. Cambia palabra\n",
    "\n",
    "Escriba una función `rep_words(lst, word)` que reciba una lista de palabras y una palabra específica y encuentre cuántas veces esa palabra se repite en la lista. Por ejemplo, si la lista es:\n",
    "\n",
    "> `lst = [\"hola\", \"HOLA\", \"hellow\", \"HoLaA\", \"HoLa\"]`\n",
    "\n",
    "Tenga los siguientes resultados:\n",
    "\n",
    "> `rep_words(lst, \"hola\") = 3`\n",
    ">\n",
    "> `rep_words(lst, \"hellow\") = 1`\n",
    ">\n",
    "> `rep_words(lst, \"mojarra\") = 0`"
   ]
  },
  {
   "cell_type": "code",
   "execution_count": null,
   "metadata": {},
   "outputs": [],
   "source": []
  },
  {
   "cell_type": "markdown",
   "metadata": {},
   "source": [
    "# 4. Máximo común divisor\n",
    "\n",
    "Elabore una función llamada `mcd()` que reciba dos números y encuentre el mínimo común múltiplo entre ellos. Por ejemplo,\n",
    "\n",
    "> `mcd(10, 20) = 10`\n",
    "> \n",
    "> `mcm(6, 9) = 3`\n",
    ">\n",
    "> `mcm(9, 24) = 3`"
   ]
  },
  {
   "cell_type": "code",
   "execution_count": null,
   "metadata": {},
   "outputs": [],
   "source": []
  },
  {
   "cell_type": "markdown",
   "metadata": {},
   "source": [
    "# 5. Conteo de divisores\n",
    "\n",
    "Construya una función llamada `div_comunes()` que encuentre los divisores comunes que tienen dos números. Por ejemplo, entre 6 y 12 hay 4 divisores comunes: 1, 2, 3 y 6. Otros ejemplos de lo que debe retornar la función son los siguientes:\n",
    "\n",
    "> `div_comunes(1, 8) = 1`\n",
    ">\n",
    "> `div_comunes(4, 100) = 1, 2, 4`\n",
    ">\n",
    "> `div_comunes(50, 100) = 1, 2, 5, 10, 25, 50`\n",
    "\n",
    "Puede devolverse en una lista o en un print, pero la función debe encontrar los divisores comunes entre los dos números."
   ]
  },
  {
   "cell_type": "code",
   "execution_count": null,
   "metadata": {},
   "outputs": [],
   "source": []
  }
 ],
 "metadata": {
  "kernelspec": {
   "display_name": "Python 3",
   "language": "python",
   "name": "python3"
  },
  "language_info": {
   "name": "python",
   "version": "3.11.4"
  },
  "orig_nbformat": 4
 },
 "nbformat": 4,
 "nbformat_minor": 2
}
