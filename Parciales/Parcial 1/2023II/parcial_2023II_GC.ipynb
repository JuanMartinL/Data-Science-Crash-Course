{
 "cells": [
  {
   "cell_type": "markdown",
   "metadata": {},
   "source": [
    "# Parcial 1: Introducción a Python\n",
    "\n",
    "&emsp; **Fundación Universitaria Los Libertadores**. <br>\n",
    "&emsp; **Asignatura:** Big Data. <br>\n",
    "&emsp; **Período:** 2023-II. <br>\n",
    "&emsp; **Profesor:** Juan Martín Londoño Zuluaga.\n",
    "\n",
    "&emsp; **Estudiante:** "
   ]
  },
  {
   "cell_type": "markdown",
   "metadata": {},
   "source": [
    "# 1. Organizador de números\n",
    "\n",
    "Construya un código que organice tres números que se le ingresen de mayor a menor. Por ejemplo, si se le declara `n1 = 2`, `n2 = 5` y `n3 = -4`, debe retornar `5, 2, -4`."
   ]
  },
  {
   "cell_type": "code",
   "execution_count": null,
   "metadata": {},
   "outputs": [],
   "source": []
  },
  {
   "cell_type": "markdown",
   "metadata": {},
   "source": [
    "# 2. Administrador Web\n",
    "\n",
    "Construya un código que reciba un usuario `username` y, si este es igual a `admin`, debe decirle que puede entrar. Si no, le debe decir que no tiene los permisos necesarios. Por ejemplo,\n",
    "\n",
    "> `username = admin`, debe retornar `\"Puede entrar\"`.\n",
    ">\n",
    "> `username = jmlondono`, debe retornar `\"No tiene los permisos necesarios`."
   ]
  },
  {
   "cell_type": "code",
   "execution_count": null,
   "metadata": {},
   "outputs": [],
   "source": []
  },
  {
   "cell_type": "markdown",
   "metadata": {},
   "source": [
    "# 3. Juego de Niños\n",
    "\n",
    "Construya un código que reciba un parámetro `num` y otro `n` que diga los números hasta `n` y diga \"pum\" cada vez que pasa por un múltiplo de `num`. Por ejemplo,\n",
    "\n",
    "> Con `n = 10` y `num = 3`, debe decir `1, 2, pum, 4, 5, pum, 7, 8, pum, 10`"
   ]
  },
  {
   "cell_type": "code",
   "execution_count": null,
   "metadata": {},
   "outputs": [],
   "source": []
  },
  {
   "cell_type": "markdown",
   "metadata": {},
   "source": [
    "# 4. Contador de pares\n",
    "\n",
    "Construya un código que reciba un parámetro `n` y cuente los pares que existen entre el 1 y dicho número `n`. Por ejemplo, si `n = 10`, debe retornar 5. Otros ejemplos:\n",
    "\n",
    "> `n = 5` $\\rightarrow$ `2`\n",
    ">\n",
    "> `n = 15` $\\rightarrow$ `7`"
   ]
  },
  {
   "cell_type": "code",
   "execution_count": null,
   "metadata": {},
   "outputs": [],
   "source": []
  }
 ],
 "metadata": {
  "kernelspec": {
   "display_name": "Python 3",
   "language": "python",
   "name": "python3"
  },
  "language_info": {
   "name": "python",
   "version": "3.11.4"
  },
  "orig_nbformat": 4
 },
 "nbformat": 4,
 "nbformat_minor": 2
}
