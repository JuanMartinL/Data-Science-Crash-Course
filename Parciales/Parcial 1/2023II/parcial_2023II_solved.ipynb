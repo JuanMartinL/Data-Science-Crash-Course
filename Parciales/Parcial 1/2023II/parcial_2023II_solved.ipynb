{
 "cells": [
  {
   "cell_type": "markdown",
   "metadata": {},
   "source": [
    "# Parcial 1: Introducción a Python\n",
    "\n",
    "&emsp; **Fundación Universitaria Los Libertadores**. <br>\n",
    "&emsp; **Asignatura:** Big Data. <br>\n",
    "&emsp; **Período:** 2023-II. <br>\n",
    "&emsp; **Profesor:** Juan Martín Londoño Zuluaga.\n",
    "\n",
    "&emsp; **Estudiante:** "
   ]
  },
  {
   "cell_type": "markdown",
   "metadata": {},
   "source": [
    "# 1. Conteo de números impares\n",
    "\n",
    "Elabore un programa llamado `conteo_impares()` que reciba un parámetro `n` y cuente todos los números impares hasta dicho número. Es decir, si se escribe `suma_impares(n = 4)` debe retornar 2. Otros ejemplos son:\n",
    "\n",
    "> `suma_impares(n = 5) = 3`\n",
    ">\n",
    "> `suma_impares(n = 10) = 5`"
   ]
  },
  {
   "cell_type": "code",
   "execution_count": 1,
   "metadata": {},
   "outputs": [
    {
     "data": {
      "text/plain": [
       "5"
      ]
     },
     "execution_count": 1,
     "metadata": {},
     "output_type": "execute_result"
    }
   ],
   "source": [
    "def suma_impares(n):\n",
    "\n",
    "    conteo = 0\n",
    "\n",
    "    for i in range(1, n + 1):\n",
    "        if i % 2 != 0:\n",
    "            conteo += 1\n",
    "    \n",
    "    return conteo\n",
    "\n",
    "suma_impares(10)"
   ]
  },
  {
   "cell_type": "markdown",
   "metadata": {},
   "source": [
    "# 2. Elimina duplicados\n",
    "\n",
    "Escriba una función llamada `dropDuplicates()` que reciba una lista `lst` con elementos y elimine los elementos que estén duplicados. Por ejemplo,\n",
    "\n",
    "> `lst = [1, \"hola\", 2, 3, 1, \"hola\", \"hola\"]`\n",
    ">\n",
    "> `dropDuplicates(lst) = [1, \"hola\", 2, 3]`"
   ]
  },
  {
   "cell_type": "code",
   "execution_count": 2,
   "metadata": {},
   "outputs": [
    {
     "data": {
      "text/plain": [
       "[1, 'hola', 2, 3]"
      ]
     },
     "execution_count": 2,
     "metadata": {},
     "output_type": "execute_result"
    }
   ],
   "source": [
    "def dropDuplicates(lst):\n",
    "    res = []\n",
    "\n",
    "    for i in lst:\n",
    "        if i not in res:\n",
    "            res.append(i)\n",
    "    \n",
    "    return res\n",
    "\n",
    "dropDuplicates([1, \"hola\", 1, 2, 3, \"hola\"])\n",
    "\n"
   ]
  },
  {
   "cell_type": "markdown",
   "metadata": {},
   "source": [
    "# 3. Calculadora del volumen de un cilindro\n",
    "\n",
    "Escriba una función `vol_cilindro(r, h)` que reciba el radio `r` y la altura `h` de un cilindro y calcule su volumne. Recuerde que el volumen de un cilindro es el siguiente:\n",
    "\n",
    "$$ volumen_{cilindro} =  \\pi r^2 h $$\n",
    "\n",
    "Por tanto, algunos ejemplos son los siguientes:\n",
    "\n",
    "> `vol_cilindro(r = 2, h = 2)` $\\approx$ `25,13`\n",
    ">\n",
    "> `vol_cilindro(r = 4, h = 1)` $\\approx$ `50,27`"
   ]
  },
  {
   "cell_type": "code",
   "execution_count": 3,
   "metadata": {},
   "outputs": [
    {
     "data": {
      "text/plain": [
       "25.132741228718345"
      ]
     },
     "execution_count": 3,
     "metadata": {},
     "output_type": "execute_result"
    }
   ],
   "source": [
    "def vol_cilindro(r, h):\n",
    "    import math\n",
    "    return math.pi*(r**2)*h\n",
    "\n",
    "vol_cilindro(r = 2, h = 2)"
   ]
  },
  {
   "cell_type": "markdown",
   "metadata": {},
   "source": [
    "# 4. Juego de Niños\n",
    "\n",
    "Construya una función `pum(num, n)` que reciba un número `num` y un número `n`, tal que imprima todos los números de 1 hasta `n` pero imprima \"pum\" cuando el número sea múltiplo de `num`. Por ejemplo,\n",
    "\n",
    "> `pum(num = 3, n = 10) = 1, 2, pum, 4, 5, pum, 7, 8, pum, 10.`\n",
    ">\n",
    "> `pum(num = 5, n = 16) = 1, 2, 3, 4, pum, 6, 7, 8, 9, pum, 11, 12, 13, 14, pum, 16.`"
   ]
  },
  {
   "cell_type": "code",
   "execution_count": 4,
   "metadata": {},
   "outputs": [
    {
     "name": "stdout",
     "output_type": "stream",
     "text": [
      "1\n",
      "2\n",
      "3\n",
      "4\n",
      "pum\n",
      "6\n",
      "7\n",
      "8\n",
      "9\n",
      "pum\n"
     ]
    }
   ],
   "source": [
    "def pum(num, n):\n",
    "    for i in range(1, n + 1):\n",
    "        if i % num == 0:\n",
    "            print(\"pum\")\n",
    "        else:\n",
    "            print(i)\n",
    "\n",
    "pum(5, 10)"
   ]
  },
  {
   "cell_type": "markdown",
   "metadata": {},
   "source": [
    "# 5. Serie de Fibonacci\n",
    "\n",
    "La serie de Fibonacci es una serie que empieza con el 0 y el 1. A partir de estos, cada nuevo número es la suma de los dos anteriores. En ese sentido, la serie de Fibonacci se ve de la siguiente manera hasta el quinto número: \n",
    "\n",
    "$$ f_0 = 0; f_1 = 1; f_2 = 1; f_3 = 2; f_4 = 3; f_5 = 5 $$\n",
    "\n",
    "Es decir, se empieza con el 0 y el 1, después el segundo número es igual a la suma de los otros dos anteriores ($f_2 = 0 + 1 = 1$), el tercero igual a los dos anteriores ($f_3 = 1 + 1 = 2$), el cuarto igual a la suma de los dos anteriores ($f_4 = 1 + 2 = 3$), el quinto la suma de los dos anteriores ($f_5 = 2 + 3 = 5$). Se puede escribir de forma más didáctica de la siguiente manera:\n",
    "\n",
    "$$ f_0 = 0 $$\n",
    "$$ f_1 = 1 $$\n",
    "$$ f_2 = 0 + 1 = 1 $$\n",
    "$$ f_3 = 1 + 1 = 2 $$\n",
    "$$ f_4 = 1 + 2 = 3 $$\n",
    "$$ f_5 = 2 + 3 = 5 $$\n",
    "$$ f_6 = 3 + 5 = 8 $$\n",
    "\n",
    "A partir de lo anterior, escriba una función que pueda calcular el número en la posición `i` de la serie."
   ]
  },
  {
   "cell_type": "code",
   "execution_count": 8,
   "metadata": {},
   "outputs": [
    {
     "data": {
      "text/plain": [
       "13"
      ]
     },
     "execution_count": 8,
     "metadata": {},
     "output_type": "execute_result"
    }
   ],
   "source": [
    "def fibonacci(n):\n",
    "    num1 = 0\n",
    "    num2 = 1\n",
    "\n",
    "    if n == 0:\n",
    "        return 0\n",
    "    elif n == 1:\n",
    "        return 1\n",
    "    else:\n",
    "        for i in range(2, n + 1):\n",
    "            new_num = num1 + num2\n",
    "            num1 = num2\n",
    "            num2 = new_num\n",
    "        return num2\n",
    "    \n",
    "\n",
    "fibonacci(n = 7)"
   ]
  }
 ],
 "metadata": {
  "kernelspec": {
   "display_name": "Python 3",
   "language": "python",
   "name": "python3"
  },
  "language_info": {
   "codemirror_mode": {
    "name": "ipython",
    "version": 3
   },
   "file_extension": ".py",
   "mimetype": "text/x-python",
   "name": "python",
   "nbconvert_exporter": "python",
   "pygments_lexer": "ipython3",
   "version": "3.11.4"
  },
  "orig_nbformat": 4
 },
 "nbformat": 4,
 "nbformat_minor": 2
}
