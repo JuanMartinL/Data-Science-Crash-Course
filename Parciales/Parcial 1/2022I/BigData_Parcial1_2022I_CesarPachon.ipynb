{
 "cells": [
  {
   "cell_type": "markdown",
   "id": "9e9ef2e9-d55c-4764-9835-97a96e2b0cce",
   "metadata": {},
   "source": [
    "# Fundación Universitaria Los Libertadores - Facultad de Ciencias Económicas, Administrativas y Contables\n",
    "\n",
    "&emsp; **Asignatura:** Big Data. <br>\n",
    "&emsp; **Profesor:** Juan Martín Londoño Zuluaga. <br>\n",
    "&emsp; **Período:** 2022-I.\n",
    "\n",
    "# Parcial 1: Introducción a Python"
   ]
  },
  {
   "cell_type": "markdown",
   "id": "5f76ad4c",
   "metadata": {},
   "source": [
    "&emsp; **Estudiante:** Cesar David Parada Calderon"
   ]
  },
  {
   "cell_type": "markdown",
   "id": "8d845980-9a04-4bad-a949-c0aad9d2a89a",
   "metadata": {},
   "source": [
    "## 1. Calculadora de la edad de un perro"
   ]
  },
  {
   "cell_type": "markdown",
   "id": "2085ea9c-6c7b-42cd-953b-527570a6c34b",
   "metadata": {},
   "source": [
    "Construya una función `dog_age(x)` que reciba la edad de un perro y la convierta en edad de humano. Para este ejercicio, se define que la edad en humano de un perro es la edad del perro multiplicada por 7. Por ejemplo,\n",
    "\n",
    "> `dog_age(10) = 70`\n",
    "\n",
    "> `dog_age(2) = 14`\n",
    "\n",
    "> `dog_age(9) = 63`"
   ]
  },
  {
   "cell_type": "code",
   "execution_count": 1,
   "id": "e2b584a7-ca2e-46c5-ace1-b5f649a0aced",
   "metadata": {},
   "outputs": [
    {
     "name": "stdin",
     "output_type": "stream",
     "text": [
      "Dijite su edad que desea convertir:  3\n"
     ]
    },
    {
     "name": "stdout",
     "output_type": "stream",
     "text": [
      "Su edad 3, en años perro es igual a 21\n"
     ]
    }
   ],
   "source": [
    "def dog_age(x):\n",
    "    res = x * 7\n",
    "    return res\n",
    "\n",
    "a = int(input(\"Dijite su edad que desea convertir: \"))\n",
    "b = dog_age(a)\n",
    "print(\"Su edad {}, en años perro es igual a {}\".format(a, b))"
   ]
  },
  {
   "cell_type": "markdown",
   "id": "284584a6-a77b-44d5-941c-d7f07bcb2d8b",
   "metadata": {},
   "source": [
    "* **Calificación:** 1,25.\n",
    "* **Comentarios:** ¡muy bien! ¡Excelente ejecución y le agregas un valor adicional con el input!"
   ]
  },
  {
   "cell_type": "markdown",
   "id": "c700672f-733d-48f9-9737-ad0022717fe9",
   "metadata": {},
   "source": [
    "## 2. Suma de pares"
   ]
  },
  {
   "cell_type": "markdown",
   "id": "a2ed7bb1-6116-4092-89d3-390224a4cdb2",
   "metadata": {},
   "source": [
    "Construya una función `suma_pares()` que reciba un parámetro `n` y sume todos los pares hasta dicho número. En ese sentido, algunos ejemplos son los siguientes:\n",
    "\n",
    "> `suma_pares(10) = 30`\n",
    "\n",
    "> `suma_pares(2) = 2`\n",
    "\n",
    "> `suma_pares(5) = 6`\n"
   ]
  },
  {
   "cell_type": "code",
   "execution_count": 4,
   "id": "852bc833-3999-4ce5-8b60-92763a3d2477",
   "metadata": {},
   "outputs": [
    {
     "name": "stdin",
     "output_type": "stream",
     "text": [
      "digite su numero;  20\n"
     ]
    },
    {
     "name": "stdout",
     "output_type": "stream",
     "text": [
      "su numero 20, sumando sus pares es igual a 110\n"
     ]
    }
   ],
   "source": [
    "def suma_pares(c):\n",
    "    par = 0\n",
    "    for i in range(0,c+1):\n",
    "        if i%2 == 0:\n",
    "            par = i + par\n",
    "        else:\n",
    "            par = par\n",
    "    return par\n",
    "\n",
    "a = int(input(\"digite su numero; \"))\n",
    "res = suma_pares(a)\n",
    "print(\"su numero {}, sumando sus pares es igual a {}\".format(a, res))"
   ]
  },
  {
   "cell_type": "code",
   "execution_count": 79,
   "id": "7c5051e8",
   "metadata": {},
   "outputs": [
    {
     "data": {
      "text/plain": [
       "20"
      ]
     },
     "execution_count": 79,
     "metadata": {},
     "output_type": "execute_result"
    }
   ],
   "source": [
    "2 + 4 + 6 + 8 "
   ]
  },
  {
   "cell_type": "markdown",
   "id": "7fc74685-55a0-4849-98aa-5fcc87fb0d93",
   "metadata": {},
   "source": [
    "* **Calificación:** 1,25.\n",
    "* **Comentarios:** ¡muy bien! ¡Excelente! ¡Te felicito!"
   ]
  },
  {
   "cell_type": "markdown",
   "id": "2b9f9d1a-1063-4e62-b7fb-9d328285c788",
   "metadata": {},
   "source": [
    "## 3. Diccionario familiar"
   ]
  },
  {
   "cell_type": "markdown",
   "id": "7b31b612-9060-4852-a8f8-c18b13f21b5b",
   "metadata": {},
   "source": [
    "Construya un diccionario con sus datos y dos familiares suyos en el que tenga, inicialmente, el nombre, el apellido y edad. Tenga en cuenta que las llaves deben ser \"nombre\", \"apellido\" y \"edad\"."
   ]
  },
  {
   "cell_type": "code",
   "execution_count": 5,
   "id": "a0f6a80a-391e-42f1-98d0-3d6ef8f7810a",
   "metadata": {},
   "outputs": [
    {
     "data": {
      "text/plain": [
       "{'nombre': ['cesar', 'steven', 'willy'],\n",
       " 'apellido': ['parada', 'boyaca', 'calderon'],\n",
       " 'edad': [20, 31, 29]}"
      ]
     },
     "execution_count": 5,
     "metadata": {},
     "output_type": "execute_result"
    }
   ],
   "source": [
    "familia = {'nombre': ['cesar', 'steven', 'willy'], 'apellido': ['parada', 'boyaca', 'calderon'], 'edad': [20, 31, 29]}\n",
    "familia"
   ]
  },
  {
   "cell_type": "markdown",
   "id": "4b876ff5-4076-4648-801c-de8388c4f614",
   "metadata": {},
   "source": [
    "Ahora agréguele otra persona cualquiera de su familia, tal que quede con los datos guardados en el diccionario. En ese sentido, debe haber 4 personas ingresadas."
   ]
  },
  {
   "cell_type": "code",
   "execution_count": 6,
   "id": "90c3f4e1-61fb-4b69-852b-f2cc4f3b2ce6",
   "metadata": {},
   "outputs": [
    {
     "data": {
      "text/plain": [
       "{'nombre': ['cesar', 'steven', 'willy', 'fanny'],\n",
       " 'apellido': ['parada', 'boyaca', 'calderon', 'pardo'],\n",
       " 'edad': [20, 31, 29, 50]}"
      ]
     },
     "execution_count": 6,
     "metadata": {},
     "output_type": "execute_result"
    }
   ],
   "source": [
    "familia['nombre'].append('fanny')\n",
    "familia['apellido'].append('pardo')\n",
    "familia['edad'].append(50)\n",
    "familia"
   ]
  },
  {
   "cell_type": "markdown",
   "id": "b091233b-7566-41d0-9d80-8feaa4abde99",
   "metadata": {},
   "source": [
    "* **Calificación:** 1,25.\n",
    "* **Comentarios:** ¡excelente! ¡Lo tienes muy claro!"
   ]
  },
  {
   "cell_type": "markdown",
   "id": "b2bcb9f0-7903-47f9-84ff-e8be2bc204f2",
   "metadata": {},
   "source": [
    "## 4. Juego de niños"
   ]
  },
  {
   "cell_type": "markdown",
   "id": "0792de69-e1b0-40bb-95e2-13ff4b8499d9",
   "metadata": {},
   "source": [
    "Construya una función `pum(x, n)` que reciba un número `x` y un número `n`, tal que imprima todos los números de 1 hasta `n` pero imprima \"pum\" cuando el número sea múltiplo de `x`. Por ejemplo,\n",
    "\n",
    "> `pum(x = 3, n = 10) = 1, 2, pum, 4, 5, pum, 7, 8, pum, 10.`\n",
    "\n",
    "> `pum(x = 5, n = 16) = 1, 2, 3, 4, pum, 6, 7, 8, 9, pum, 11, 12, 13, 14, pum, 16.`\n"
   ]
  },
  {
   "cell_type": "code",
   "execution_count": 8,
   "id": "5c8434e7-a0d3-4f69-9fd6-eb5488affa0e",
   "metadata": {},
   "outputs": [
    {
     "name": "stdin",
     "output_type": "stream",
     "text": [
      "digite su numero;  3\n",
      "digite su numero;  10\n"
     ]
    },
    {
     "name": "stdout",
     "output_type": "stream",
     "text": [
      "pum\n",
      "1\n",
      "2\n",
      "pum\n",
      "4\n",
      "5\n",
      "pum\n",
      "7\n",
      "8\n",
      "pum\n",
      "10\n"
     ]
    }
   ],
   "source": [
    "def pum(x, n):\n",
    "    for i in range(0,n+1):\n",
    "        if i%x == 0:\n",
    "            print('pum')\n",
    "        else:\n",
    "            print(i)\n",
    "\n",
    "\n",
    "x = int(input(\"digite su numero; \"))\n",
    "n = int(input(\"digite su numero; \"))\n",
    "res = pum(x, n)\n"
   ]
  },
  {
   "cell_type": "markdown",
   "id": "834e04c3-f89c-4d4b-be11-7c4390198fb6",
   "metadata": {},
   "source": [
    "* **Calificación:** 1,25.\n",
    "* **Comentarios:** ¡excelentísimo! ¡Felicitaciones, en verdad! Solamente una pequeña recomendación: a la próxima no incluyas el 0, que te puede siempre salir con 0 en el residuo y, tal vez, generarte un error. Pero excelente."
   ]
  },
  {
   "cell_type": "markdown",
   "id": "df4078e5-bb39-44a5-85ea-868c87ff7b01",
   "metadata": {},
   "source": [
    "# Calificación: 5,0\n",
    "\n",
    "¡FELICITACIONES! :)"
   ]
  }
 ],
 "metadata": {
  "kernelspec": {
   "display_name": "Python 3 (ipykernel)",
   "language": "python",
   "name": "python3"
  },
  "language_info": {
   "codemirror_mode": {
    "name": "ipython",
    "version": 3
   },
   "file_extension": ".py",
   "mimetype": "text/x-python",
   "name": "python",
   "nbconvert_exporter": "python",
   "pygments_lexer": "ipython3",
   "version": "3.10.5"
  }
 },
 "nbformat": 4,
 "nbformat_minor": 5
}
