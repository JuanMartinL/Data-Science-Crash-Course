{
 "cells": [
  {
   "cell_type": "markdown",
   "metadata": {},
   "source": [
    "# Parcial 2: Introducción a la Ciencia de Datos práctica\n",
    "\n",
    "&emsp; **Asignatura:** Big Data. <br>\n",
    "&emsp; **Profesor:** Juan Martín Londoño Zuluaga. <br>\n",
    "&emsp; **Período:** 2024-I.\n",
    "\n",
    "&emsp; **Estdiante:** <indique su nombre aquí>"
   ]
  },
  {
   "cell_type": "markdown",
   "metadata": {},
   "source": [
    "Usted es contratada/o como analista para un Banco: FULL Credit. El CEO le recibe personalmente y le agradece su tiempo. El CEO quiere conocer profundamente cómo se comporta su negocio, por eso le envía los datos en el siguiente [enlace](https://www.kaggle.com/datasets/tanayatipre/car-price-prediction-dataset/data).\n",
    "\n",
    "Tras unos cuantos tés, le extiende sus preocupaciones:"
   ]
  },
  {
   "cell_type": "markdown",
   "metadata": {},
   "source": [
    "# 1. Importe de los datos (5 puntos)\n",
    "\n",
    "Importe los datos del archivo:"
   ]
  },
  {
   "cell_type": "code",
   "execution_count": null,
   "metadata": {},
   "outputs": [],
   "source": []
  },
  {
   "cell_type": "markdown",
   "metadata": {},
   "source": [
    "# 2. Calidad de la base de datos (5 puntos)\n",
    "\n",
    "## 2.1. Valores perdidos\n",
    "\n",
    "Encuentre el número y porcentaje respecto al total de los valores perdidos que tiene la base de datos:\n",
    "* ¿Qué nivel de pérdida de datos se tiene?\n",
    "* ¿Es significativa la pérdida de datos?\n",
    "* Si sí, ¿qué estrategia propone para afrontarlo?"
   ]
  },
  {
   "cell_type": "code",
   "execution_count": null,
   "metadata": {},
   "outputs": [],
   "source": []
  },
  {
   "cell_type": "markdown",
   "metadata": {},
   "source": [
    "## 2.2. Valores únicos\n",
    "\n",
    "Encuentre el número de valores únicos por columna:"
   ]
  },
  {
   "cell_type": "code",
   "execution_count": null,
   "metadata": {},
   "outputs": [],
   "source": []
  },
  {
   "cell_type": "markdown",
   "metadata": {},
   "source": [
    "# 3. Análisis descriptivo (15 puntos)\n",
    "\n",
    "El CEO de la empresa le hace las siguientes preguntas:\n",
    "\n",
    "* ¿Cuál es el porcentaje de personas entre los datos con carro? ¿Cuál es el porcentaje de personas con propiedades? Relice dos tablas y expórtelas en formato .xlsx.\n",
    "* ¿Cuál es el porcentaje de mujeres con propiedades y cuál es el porcentaje de hombres con propiedades? ¿Difieren entre ellos significativamente?\n",
    "* Realice un análisis sobre la distribución de los ingresos."
   ]
  },
  {
   "cell_type": "code",
   "execution_count": null,
   "metadata": {},
   "outputs": [],
   "source": []
  },
  {
   "cell_type": "markdown",
   "metadata": {},
   "source": [
    "# 4. Análisis prescriptivo (25 puntos)\n",
    "\n",
    "El CEO le interesa saber dos cosas puntuales:\n",
    "\n",
    "* En primer lugar, al CEO le interesa saber cuáles son las variables que más influyen en que exista un riesgo de impago de crédito. Por ello le pregunta: ¿cuáles son las variables que más contribuyen al riesgo de los prestadores?\n",
    "* En segundo lugar, al CEO le interesa evitar problemas de discriminación de género. Por ello le pregunta si identifica algún fenómeno con los datos que le pueda dar pistas sobre cómo prevenir este tipo de discriminación."
   ]
  },
  {
   "cell_type": "code",
   "execution_count": null,
   "metadata": {},
   "outputs": [],
   "source": []
  }
 ],
 "metadata": {
  "kernelspec": {
   "display_name": "Python 3",
   "language": "python",
   "name": "python3"
  },
  "language_info": {
   "codemirror_mode": {
    "name": "ipython",
    "version": 3
   },
   "file_extension": ".py",
   "mimetype": "text/x-python",
   "name": "python",
   "nbconvert_exporter": "python",
   "pygments_lexer": "ipython3",
   "version": "3.12.2"
  }
 },
 "nbformat": 4,
 "nbformat_minor": 2
}
