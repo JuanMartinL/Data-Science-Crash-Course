{
 "cells": [
  {
   "cell_type": "markdown",
   "metadata": {},
   "source": [
    "# Parcial 2: Introducción a la Ciencia de Datos práctica\n",
    "\n",
    "&emsp; **Asignatura:** Big Data. <br>\n",
    "&emsp; **Profesor:** Juan Martín Londoño Zuluaga. <br>\n",
    "&emsp; **Período:** 2023-II.\n",
    "\n",
    "&emsp; **Estdiante:** <indique su nombre aquí>"
   ]
  },
  {
   "cell_type": "markdown",
   "metadata": {},
   "source": [
    "Usted es contratada/o como analista para una gran empresa de la India/Bahrat: FULL Trabajo. El CEO le recibe personalmente y le agradece su tiempo. El CEO quiere conocer profundamente cómo se comporta su capital humano, por lo cual le entrega una base de datos de las personas de su empresa que se encuentra en el siguiente [enlace](https://www.kaggle.com/datasets/tawfikelmetwally/employee-dataset/data).\n",
    "\n",
    "Tras unos cuantos tés, le extiende sus preocupaciones:"
   ]
  },
  {
   "cell_type": "markdown",
   "metadata": {},
   "source": [
    "# 1. Importe de los datos (5 puntos)\n",
    "\n",
    "Importe los datos del archivo `employee.csv`:"
   ]
  },
  {
   "cell_type": "code",
   "execution_count": null,
   "metadata": {},
   "outputs": [],
   "source": []
  },
  {
   "cell_type": "markdown",
   "metadata": {},
   "source": [
    "# 2. Calidad de la base de datos (5 puntos)"
   ]
  },
  {
   "cell_type": "markdown",
   "metadata": {},
   "source": [
    "## 2.1. Valores perdidos\n",
    "\n",
    "Encuentre el número y porcentaje respecto al total de los valores perdidos que tiene la base de datos:\n",
    "* ¿Qué nivel de pérdida de datos se tiene?\n",
    "* ¿Es significativa la pérdida de datos?\n",
    "* Si sí, ¿qué estrategia propone para afrontarlo?"
   ]
  },
  {
   "cell_type": "code",
   "execution_count": null,
   "metadata": {},
   "outputs": [],
   "source": []
  },
  {
   "cell_type": "markdown",
   "metadata": {},
   "source": [
    "## 2.2. Valores únicos\n",
    "\n",
    "Encuentre el número de valores únicos por columna:"
   ]
  },
  {
   "cell_type": "code",
   "execution_count": null,
   "metadata": {},
   "outputs": [],
   "source": []
  },
  {
   "cell_type": "markdown",
   "metadata": {},
   "source": [
    "# 3. Análisis descriptivo (20 puntos)\n",
    "\n",
    "El CEO de la empresa le hace las siguientes preguntas:\n",
    "\n",
    "* ¿Existe un rango etario de personas que predomina en la empresa?\n",
    "* ¿El año de vinculación varía según la ciudad de la que es originario?"
   ]
  },
  {
   "cell_type": "code",
   "execution_count": null,
   "metadata": {},
   "outputs": [],
   "source": []
  },
  {
   "cell_type": "markdown",
   "metadata": {},
   "source": [
    "# 4. Análisis prescriptivo (20 puntos)\n",
    "\n",
    "El CEO le interesa saber dos cosas puntuales:\n",
    "\n",
    "* En primer lugar, al CEO le interesa mantener a su capital humano y evitar la circulación de trabajadores, ya que, si un trabajador renuncia, debe contratar uno nuevo cuya curva de aprendizaje puede demorarse para mantener el potencial de trabajo. En ese sentido, le pide que haga un análisis sobre cuáles son los factores determinantes para que la gente se vaya de la empresa."
   ]
  },
  {
   "cell_type": "code",
   "execution_count": null,
   "metadata": {},
   "outputs": [],
   "source": []
  }
 ],
 "metadata": {
  "kernelspec": {
   "display_name": "Python 3",
   "language": "python",
   "name": "python3"
  },
  "language_info": {
   "codemirror_mode": {
    "name": "ipython",
    "version": 3
   },
   "file_extension": ".py",
   "mimetype": "text/x-python",
   "name": "python",
   "nbconvert_exporter": "python",
   "pygments_lexer": "ipython3",
   "version": "3.11.4"
  }
 },
 "nbformat": 4,
 "nbformat_minor": 2
}
