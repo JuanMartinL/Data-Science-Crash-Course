{
 "cells": [
  {
   "attachments": {},
   "cell_type": "markdown",
   "metadata": {},
   "source": [
    "# Parcial 2: Introducción a la Ciencia de Datos\n",
    "\n",
    "&emsp; **Fundación Universitaria Los Libertadores**. <br>\n",
    "&emsp; **Asignatura:** Big Data. <br>\n",
    "&emsp; **Período:** 2023-I. <br>\n",
    "&emsp; **Profesor:** Juan Martín Londoño Zuluaga. <br>\n",
    "&emsp; **Estudiante:**"
   ]
  },
  {
   "attachments": {},
   "cell_type": "markdown",
   "metadata": {},
   "source": [
    "# Big Data con sabor a Café\n",
    "\n",
    "Los chismes vuelan: todo mundo ha oído que los estudiantes de Big Data de la FULL son los mejores analistas de datos. Por ello, le han contratado para realizar análisis de datos del alimento preferido por los y las analistas de datos: el Café. Para ello, le han entregado una base de datos sobre diferentes características de café de diferentes procedencias, la cual se encuentra en la siguiente [página web](https://www.kaggle.com/datasets/fatihb/coffee-quality-data-cqi).\n",
    "\n",
    "Quienes le contratan le piden lo siguiente:"
   ]
  },
  {
   "attachments": {},
   "cell_type": "markdown",
   "metadata": {},
   "source": [
    "# 1. Importe de los datos (10 puntos)\n",
    "\n",
    "En primer lugar, le envían la base de datos `df_arabica_clean.csv` que se encuentra en la carpeta. Cárguela y muestre las primeras 3 filas."
   ]
  },
  {
   "cell_type": "code",
   "execution_count": null,
   "metadata": {},
   "outputs": [],
   "source": []
  },
  {
   "attachments": {},
   "cell_type": "markdown",
   "metadata": {},
   "source": [
    "# 2. Calidad de los datos\n",
    "\n",
    "## 2.1. Número de valores perdidos"
   ]
  },
  {
   "attachments": {},
   "cell_type": "markdown",
   "metadata": {},
   "source": [
    "Analice primero la cantidad de valores perdidos por columna **en términos de porcentaje** del total de la base de datos:"
   ]
  },
  {
   "cell_type": "code",
   "execution_count": null,
   "metadata": {},
   "outputs": [],
   "source": []
  },
  {
   "attachments": {},
   "cell_type": "markdown",
   "metadata": {},
   "source": [
    "A partir de lo anterior,\n",
    "\n",
    "* ¿Existe una pérdida considerable de datos?\n",
    "* ¿Qué estrategia aplicaría para manejar los valores perdidos de la base de datos? Aplíquela."
   ]
  },
  {
   "attachments": {},
   "cell_type": "markdown",
   "metadata": {},
   "source": [
    "## 2.2. Valores únicos\n",
    "\n",
    "Ahora quieren saber cuántos valores únicos hay por variable:\n",
    "\n",
    "* Muestre, por favor, el número de valores únicos que hay por variable."
   ]
  },
  {
   "cell_type": "code",
   "execution_count": null,
   "metadata": {},
   "outputs": [],
   "source": []
  },
  {
   "attachments": {},
   "cell_type": "markdown",
   "metadata": {},
   "source": [
    "De repente, en una de sus visitas de consultoría, una persona misteriosa le deja una nota que dice:\n",
    "\n",
    "<center> <i>\"No todo es lo que parece. Revise usted los valores únicos de la variable `Color`. Att: `el profe`.\"</i> </center>\n",
    "\n",
    "Sin saber quién es el profe, usted encuentra que los valores únicos mienten. Revise cuáles son los valores únicos de la variable `Color`.\n"
   ]
  },
  {
   "cell_type": "code",
   "execution_count": null,
   "metadata": {},
   "outputs": [],
   "source": []
  },
  {
   "attachments": {},
   "cell_type": "markdown",
   "metadata": {},
   "source": [
    "A partir de lo anterior le preguntan:\n",
    "\n",
    "* ¿Qué observa de dicha columna?"
   ]
  },
  {
   "attachments": {},
   "cell_type": "markdown",
   "metadata": {},
   "source": [
    "# 3. Análisis Univariado"
   ]
  },
  {
   "attachments": {},
   "cell_type": "markdown",
   "metadata": {},
   "source": [
    "## 3.1. Número de cargamentos de cada país"
   ]
  },
  {
   "attachments": {},
   "cell_type": "markdown",
   "metadata": {},
   "source": [
    "En primer lugar, quienes le contratan quieren saber cuántos cargamentos se han registrado por país:\n",
    "\n",
    "* ¿Cuál es el país que más cargamentos registra en la base de datos?"
   ]
  },
  {
   "cell_type": "code",
   "execution_count": null,
   "metadata": {},
   "outputs": [],
   "source": []
  },
  {
   "attachments": {},
   "cell_type": "markdown",
   "metadata": {},
   "source": [
    "## 3.2. Puntajes de los cafés\n",
    "\n",
    "Así mismo, quisieran saber cómo están calificados los cafés en algunos aspectos que se evalúan en la base de datos. Para ello le preguntan que encuentre para las variables de calificación de aroma (`Aroma`), sabor (`Flavor`), cuerpo (`Body`), dulzura (`Sweetness`) y la calificación total (`Overall`) lo siguiente:\n",
    "\n",
    "* Distribución de las calificaciones de cada una de ellas.\n",
    "* Promedio de cada una de ellas.\n",
    "* Promedio de la calificación total (`Overall`) solamente de los cargamentos que provienen de Colombia y Etiopía: ¿cuál tiene la calificación promedio más alta?"
   ]
  },
  {
   "cell_type": "code",
   "execution_count": null,
   "metadata": {},
   "outputs": [],
   "source": []
  },
  {
   "attachments": {},
   "cell_type": "markdown",
   "metadata": {},
   "source": [
    "# 4. Análisis multivariado"
   ]
  },
  {
   "attachments": {},
   "cell_type": "markdown",
   "metadata": {},
   "source": [
    "## 4.1. Temporalidad de los cargamentos\n",
    "\n",
    "Quienes le contratan desean saber cuál ha sido el desarrollo de las importaciones a lo largo del tiempo. Por ello, a partir de la variable `Harvest Year` haga una distribución del número de cargamentos por año de recolección. \n",
    "\n",
    "> **Nota:** si hay dos años, utilice el primero."
   ]
  },
  {
   "cell_type": "code",
   "execution_count": null,
   "metadata": {},
   "outputs": [],
   "source": []
  },
  {
   "attachments": {},
   "cell_type": "markdown",
   "metadata": {},
   "source": [
    "Sin embargo, le dicen que tal vez el número de cargamentos no dice mucho acerca de las lógicas de comercio de café. Por eso le piden que utilice las variables del número de sacos comercializados (`Number of Bags`) y el peso promedio de los sacos de café (`Bad Weight`) para construir una variable del peso promedio del cargamento (`total_weight`) que tenga el peso promedio del cargamento entero. Es decir, una variable en la que se multipliquen ambos.\n",
    "\n",
    "Con ella le piden que haga una gráfica que muestre el peso sumado de todas las comercializaciones por año: "
   ]
  },
  {
   "cell_type": "code",
   "execution_count": null,
   "metadata": {},
   "outputs": [],
   "source": []
  },
  {
   "attachments": {},
   "cell_type": "markdown",
   "metadata": {},
   "source": [
    "A partir de lo anterior, \n",
    "\n",
    "* ¿Qué observa? ¿Cambian los patrones de comercialización?"
   ]
  },
  {
   "attachments": {},
   "cell_type": "markdown",
   "metadata": {},
   "source": [
    "## 4.2. Puntaje de las tazas por país de origen\n",
    "\n",
    "Resulta que quienes le contrataron también tienen alto interés en la conformación del puntaje del café: un café mejor puntuado tiene una mayor probabilidad de ser comercializado. Por ello, quisieran saber en dónde deben comprar el café que mejor les garantice un puntaje de las tazas.\n",
    "\n",
    "Por ello, le piden que haga un análisis de la distribución del puntaje de las tazas por país de origen. Le sugieren hacer un boxplot del puntaje total de la taza calificada (`Total Cup Points`) por el país de origen del café (`Country of Origin`)."
   ]
  },
  {
   "cell_type": "code",
   "execution_count": null,
   "metadata": {},
   "outputs": [],
   "source": []
  },
  {
   "attachments": {},
   "cell_type": "markdown",
   "metadata": {},
   "source": [
    "A partir de lo anterior, \n",
    "\n",
    "* ¿Cuáles son las variables que más están correlacionadas con el puntaje final?\n",
    "* ¿Qué aspectos del café recomendaría a sus clientes enfocarse para mejorar el puntaje de su café?"
   ]
  }
 ],
 "metadata": {
  "kernelspec": {
   "display_name": "Python 3",
   "language": "python",
   "name": "python3"
  },
  "language_info": {
   "codemirror_mode": {
    "name": "ipython",
    "version": 3
   },
   "file_extension": ".py",
   "mimetype": "text/x-python",
   "name": "python",
   "nbconvert_exporter": "python",
   "pygments_lexer": "ipython3",
   "version": "3.10.5"
  },
  "orig_nbformat": 4
 },
 "nbformat": 4,
 "nbformat_minor": 2
}
