{
 "cells": [
  {
   "cell_type": "markdown",
   "id": "47287df1-0c77-4041-b6fb-9d1fa36e9f9d",
   "metadata": {},
   "source": [
    "# Parcial 2: Introducción a la Ciencia de Datos"
   ]
  },
  {
   "cell_type": "markdown",
   "id": "7bf7834f-b85a-4278-9af6-e7af84c51e64",
   "metadata": {},
   "source": [
    "&emsp; **Fundación Universitaria Los Libertadores**. <br>\n",
    "&emsp; **Asignatura:** Big Data. <br>\n",
    "&emsp; **Período:** 2022-I. <br>\n",
    "&emsp; **Profesor:** Juan Martín Londoño Zuluaga. <br>\n",
    "&emsp; **Estudiante:**"
   ]
  },
  {
   "cell_type": "markdown",
   "id": "b5c496e1-15b2-482c-82f9-719acb765443",
   "metadata": {},
   "source": [
    "# 1. Películas y Programas de TV de Netflix"
   ]
  },
  {
   "cell_type": "markdown",
   "id": "596bd310-3172-4b16-a6e8-4687452d1a6e",
   "metadata": {},
   "source": [
    "Los chismes vuelan: todo mundo ha oído que los estudiantes de Big Data de la FULL son los mejores analistas de datos. Por ello, le han contratado para realizar análisis de datos de películas y programas de TV de Netflix, cuya base de datos se encuentra en la siguiente [página web](https://www.kaggle.com/datasets/victorsoeiro/netflix-tv-shows-and-movies). Quienes le contrataron tienen las siguientes demandas y preguntas:"
   ]
  },
  {
   "cell_type": "markdown",
   "id": "14bfc2e2-48b3-4d7a-bf92-9d1f632d66de",
   "metadata": {},
   "source": [
    "## 1.1. Importe de los datos (10 puntos)"
   ]
  },
  {
   "cell_type": "markdown",
   "id": "d85abe29-c7d2-4f62-9b5f-117dcee8a8ac",
   "metadata": {},
   "source": [
    "En primer lugar, le envían la base de datos llamada \"titles.csv\". Le piden que la cargue y les muestre las primeras 10 filas."
   ]
  },
  {
   "cell_type": "code",
   "execution_count": null,
   "id": "20c2a1aa-7f5a-4cfd-a33e-c8301a2fff50",
   "metadata": {},
   "outputs": [],
   "source": []
  },
  {
   "cell_type": "markdown",
   "id": "684055a4-5fba-4216-bd77-8e43e8050bed",
   "metadata": {},
   "source": [
    "## 1.2. Análisis de la calidad de los datos (10 puntos)"
   ]
  },
  {
   "cell_type": "markdown",
   "id": "f632e046-5cce-4eab-9f51-484c1d7b046a",
   "metadata": {},
   "source": [
    "### 1.2.1. Valores perdidos (5 puntos)"
   ]
  },
  {
   "cell_type": "markdown",
   "id": "292ed53e-cff2-4b00-9b88-ffd35ca5533a",
   "metadata": {},
   "source": [
    "Encuentre el número de valores perdidos (_missings_) de la base de datos por columna:\n",
    "* ¿Cuántos valores perdidos hay?\n",
    "\n",
    "> **Nota:** todavía no tome decisiones respecto al tratamiento de estos datos perdidos. Por ahora, solo indique el número por variable."
   ]
  },
  {
   "cell_type": "code",
   "execution_count": null,
   "id": "bf8cf2ab-9f82-49ca-8055-c1b4c3d9d06d",
   "metadata": {},
   "outputs": [],
   "source": []
  },
  {
   "cell_type": "markdown",
   "id": "f03dbb68-e2ac-4ac0-8dd4-ea343f441dcb",
   "metadata": {},
   "source": [
    "Ahora sí revise **solamente** los valores perdidos de la descripción (variable `description`):\n",
    "\n",
    "* Muestre las filas completas que presenten valores perdidos en la descripción.\n",
    "* ¿Qué estrategia le recomendaría al equipo que lo contrató para tratar estos valores perdidos? Aplíquela."
   ]
  },
  {
   "cell_type": "code",
   "execution_count": null,
   "id": "a784995f-bb10-4aee-a3fb-49ff4e5758ac",
   "metadata": {},
   "outputs": [],
   "source": []
  },
  {
   "cell_type": "markdown",
   "id": "46241bfb-5349-4aa8-882b-84955e88d49a",
   "metadata": {},
   "source": [
    "### 1.2.2. Valores únicos (5 puntos)"
   ]
  },
  {
   "cell_type": "markdown",
   "id": "a03708d3-db37-41de-bb11-e11a500ab48d",
   "metadata": {},
   "source": [
    "Ahora quieren saber cuántos valores únicos hay por variabl:\n",
    "\n",
    "* Muestre, por favor, el número de valores únicos que hay por variable."
   ]
  },
  {
   "cell_type": "code",
   "execution_count": null,
   "id": "449f283e-8991-462c-9e4c-d241858c9857",
   "metadata": {},
   "outputs": [],
   "source": []
  },
  {
   "cell_type": "markdown",
   "id": "f96d552b-02ef-4cd8-bc21-203786953b0c",
   "metadata": {},
   "source": [
    "De repente, en una de sus visitas de consultoría, una persona misteriosa le deja una nota que dice:\n",
    "\n",
    "<center> <i>\"No todo es lo que parece. Revise usted los valores únicos de las variables genres y 'production_countries'. Att: 'el profe'.\"</i> </center>\n",
    "\n",
    "A partir de ello, usted encuentra que los valores únicos mienten: al parecer se está tomando más valores únicos porque hay _listas_ de países. \"Claro\", piensa usted, no hay 449 países en el mundo. En ese sentido, si una película es producida por Gran Bretaña y Estados Unidos, el valor es 'US' y 'GB'.\n",
    "\n",
    "A partir de lo anterior le preguntan:\n",
    "\n",
    "* ¿Cuál es el **algoritmo** que nos sugiere para que se pueda tener los valores únicos de los países que han producido estas películas? Es decir, para que no muestra 449 valores únicos sino el número X de países que alguna vez han producido o coproducido películas.\n",
    "\n",
    "> **Nota:** recuerde que el algoritmo es diferente al código. En este caso, solo es escribirlo."
   ]
  },
  {
   "cell_type": "markdown",
   "id": "8fdbd21e-c90f-494c-9d59-71b40b806cbe",
   "metadata": {},
   "source": []
  },
  {
   "cell_type": "markdown",
   "id": "757597ac-0f05-44d9-83b0-88119c86360d",
   "metadata": {},
   "source": [
    "* Realice un código y encuentra cuántos países y cuáles, en valores únicos, han producido o coproducido películas y programas de TV."
   ]
  },
  {
   "cell_type": "code",
   "execution_count": null,
   "id": "7f21f40c-40ec-4251-8658-10db003111be",
   "metadata": {},
   "outputs": [],
   "source": []
  },
  {
   "cell_type": "markdown",
   "id": "72185e42-c9c9-4957-ace1-d485acb08a7f",
   "metadata": {},
   "source": [
    "## 1.3. Análisis univariado (15 puntos)"
   ]
  },
  {
   "cell_type": "markdown",
   "id": "ea3305c3-1bef-4036-b5a3-a7e4c741ef96",
   "metadata": {},
   "source": [
    "#### A. Tipo de producción (5 puntos)"
   ]
  },
  {
   "cell_type": "markdown",
   "id": "24b8f71d-3e2f-4cfb-abdc-30002a860d31",
   "metadata": {},
   "source": [
    "En primer lugar, quienes le contrataron quieren saber cuántas películas y cuántos programas de TV hay:\n",
    "\n",
    "* Encuentre, por separado, el número de programas de TV y el número de películas que hay en la base de datos."
   ]
  },
  {
   "cell_type": "code",
   "execution_count": null,
   "id": "63141a57-29fa-47cb-a576-a3cf17e32f98",
   "metadata": {},
   "outputs": [],
   "source": []
  },
  {
   "cell_type": "markdown",
   "id": "b6419278-1b35-4748-b73d-1bf968328da3",
   "metadata": {},
   "source": [
    "#### B. Puntaje de las películas (10 puntos)"
   ]
  },
  {
   "cell_type": "markdown",
   "id": "bdcc2868-15a4-4edb-a8b2-85dfead8f56b",
   "metadata": {},
   "source": [
    "Sus consultantes quieren saber varias cosas sobre los puntajes de IMDB de las películas y shows:\n",
    "\n",
    "* ¿Cuál es el promedio del puntaje de IMDB de todas las películas y programas de TV?\n",
    "* ¿Cuál es el promedio del puntaje de IMDB de las películas cuyo género es **solamente** comedia (_comedy_)?\n",
    "* Realice una gráfica de la distribución de los puntajes de IMDB de todas, sin separar, las películas y programas de TV."
   ]
  },
  {
   "cell_type": "code",
   "execution_count": null,
   "id": "ec7b8851-a1a7-4ded-b372-372f5f66cbd0",
   "metadata": {},
   "outputs": [],
   "source": []
  },
  {
   "cell_type": "markdown",
   "id": "fe048ef1-7c1d-4259-b16b-66baaf7fa809",
   "metadata": {},
   "source": [
    "> **Nota:** tenga cuidado con los géneros. Si los observa bien, se puede dar cuenta que todos son tipo `str` y, en dicho `str`, todos están _dentro de una lista_. Usted decide si utilizará el `str` como está o si lo procesará para que solo esté el género. Cualquiera de las dos opciones le sirve."
   ]
  },
  {
   "cell_type": "markdown",
   "id": "1f8ad147-d6bc-4c33-95b0-a03f83658f16",
   "metadata": {},
   "source": [
    "## 1.4. Análisis multivariado (15 puntos)"
   ]
  },
  {
   "cell_type": "markdown",
   "id": "8986f6e2-b49f-4ed1-9d34-c6fac4e329c8",
   "metadata": {},
   "source": [
    "#### A. Temporalidad de las producciones (5 puntos)"
   ]
  },
  {
   "cell_type": "markdown",
   "id": "6e4edb4b-504c-44b8-8ff6-da76ffd08be7",
   "metadata": {},
   "source": [
    "Quienes le contratan quieren saber cómo ha sido la producción en el tiempo de películas y programas de TV:\n",
    "\n",
    "* Realice una gráfica en la que muestre la cantidad de producción de TV y de películas, todo junto, por cada año.\n",
    "* Realice una tabla que muestre los números por año."
   ]
  },
  {
   "cell_type": "code",
   "execution_count": null,
   "id": "5c325ccf-5dda-4ffc-8221-5c15548206ec",
   "metadata": {},
   "outputs": [],
   "source": []
  },
  {
   "cell_type": "markdown",
   "id": "86f5b87b-b463-4205-a161-69d28dee93bd",
   "metadata": {},
   "source": [
    "#### B. Puntaje, votos y tiempo de la película (5 puntos)"
   ]
  },
  {
   "cell_type": "markdown",
   "id": "b929f2b6-c304-4272-88ee-b13d2bd5c98c",
   "metadata": {},
   "source": [
    "Sus contratantes quieren saber cuál es la correlación entre el puntaje de IMDB, la cantidad de votos en IMDB y el tiempo que demora la película:\n",
    "\n",
    "* Realice una matriz de correlación de estas tres variables. ¿Qué encuentra? ¿Cómo se afectan entre ellas?"
   ]
  },
  {
   "cell_type": "code",
   "execution_count": null,
   "id": "0504e67e-2935-4e87-9812-bee5a62b4ede",
   "metadata": {},
   "outputs": [],
   "source": []
  },
  {
   "cell_type": "markdown",
   "id": "814ca719-6590-4e6a-943a-5b60db514b38",
   "metadata": {},
   "source": [
    "#### C. Géneros y clasificación de edad (5 puntos)"
   ]
  },
  {
   "cell_type": "markdown",
   "id": "32ab8be3-0019-4e93-a081-02d08701dc42",
   "metadata": {},
   "source": [
    "Ahora quieren saber cómo es la distribución de los géneros (`genres`) y la clasificación de edad (`age_certification`), pero no quieren nada complicado. Por eso, le piden que haga un conteo de producciones por estas dos variables. A partir de ello, le preguntan:\n",
    "\n",
    "* ¿Cuál es la combinación de género y clasificación de edad que cuenta con más producciones?\n",
    "* ¿Cuál es el género que más producciones tiene con clasificación de edad tipo `R` (solo para adultos)?"
   ]
  },
  {
   "cell_type": "code",
   "execution_count": null,
   "id": "bc9d39f8-e495-4e32-a31d-5d302fc7dfc5",
   "metadata": {},
   "outputs": [],
   "source": []
  }
 ],
 "metadata": {
  "kernelspec": {
   "display_name": "Python 3 (ipykernel)",
   "language": "python",
   "name": "python3"
  },
  "language_info": {
   "codemirror_mode": {
    "name": "ipython",
    "version": 3
   },
   "file_extension": ".py",
   "mimetype": "text/x-python",
   "name": "python",
   "nbconvert_exporter": "python",
   "pygments_lexer": "ipython3",
   "version": "3.10.5"
  }
 },
 "nbformat": 4,
 "nbformat_minor": 5
}
