{
 "cells": [
  {
   "cell_type": "markdown",
   "id": "47287df1-0c77-4041-b6fb-9d1fa36e9f9d",
   "metadata": {},
   "source": [
    "# Parcial 2: Introducción a la Ciencia de Datos"
   ]
  },
  {
   "cell_type": "markdown",
   "id": "7bf7834f-b85a-4278-9af6-e7af84c51e64",
   "metadata": {},
   "source": [
    "&emsp; **Fundación Universitaria Los Libertadores**. <br>\n",
    "&emsp; **Asignatura:** Big Data. <br>\n",
    "&emsp; **Período:** 2022-I. <br>\n",
    "&emsp; **Profesor:** Juan Martín Londoño Zuluaga. <br>\n",
    "&emsp; **Estudiante:**"
   ]
  },
  {
   "cell_type": "markdown",
   "id": "b5c496e1-15b2-482c-82f9-719acb765443",
   "metadata": {},
   "source": [
    "# 1. Películas y Programas de TV de Netflix"
   ]
  },
  {
   "cell_type": "markdown",
   "id": "596bd310-3172-4b16-a6e8-4687452d1a6e",
   "metadata": {},
   "source": [
    "Los chismes vuelan: todo mundo ha oído que los estudiantes de Big Data de la FULL son los mejores analistas de datos. Por ello, le han contratado para realizar análisis de datos de películas y programas de TV de Netflix, cuya base de datos se encuentra en la siguiente [página web](https://www.kaggle.com/datasets/victorsoeiro/netflix-tv-shows-and-movies). Quienes le contrataron tienen las siguientes demandas y preguntas:"
   ]
  },
  {
   "cell_type": "markdown",
   "id": "14bfc2e2-48b3-4d7a-bf92-9d1f632d66de",
   "metadata": {},
   "source": [
    "## 1.1. Importe de los datos (10 puntos)"
   ]
  },
  {
   "cell_type": "markdown",
   "id": "d85abe29-c7d2-4f62-9b5f-117dcee8a8ac",
   "metadata": {},
   "source": [
    "En primer lugar, le envían la base de datos llamada \"titles.csv\". Le piden que la cargue y les muestre las primeras 10 filas."
   ]
  },
  {
   "cell_type": "code",
   "execution_count": 1,
   "id": "cfda8dfb-b737-4e24-92fb-657cc8ebcb9b",
   "metadata": {},
   "outputs": [
    {
     "data": {
      "text/html": [
       "<div>\n",
       "<style scoped>\n",
       "    .dataframe tbody tr th:only-of-type {\n",
       "        vertical-align: middle;\n",
       "    }\n",
       "\n",
       "    .dataframe tbody tr th {\n",
       "        vertical-align: top;\n",
       "    }\n",
       "\n",
       "    .dataframe thead th {\n",
       "        text-align: right;\n",
       "    }\n",
       "</style>\n",
       "<table border=\"1\" class=\"dataframe\">\n",
       "  <thead>\n",
       "    <tr style=\"text-align: right;\">\n",
       "      <th></th>\n",
       "      <th>id</th>\n",
       "      <th>title</th>\n",
       "      <th>type</th>\n",
       "      <th>description</th>\n",
       "      <th>release_year</th>\n",
       "      <th>age_certification</th>\n",
       "      <th>runtime</th>\n",
       "      <th>genres</th>\n",
       "      <th>production_countries</th>\n",
       "      <th>seasons</th>\n",
       "      <th>imdb_id</th>\n",
       "      <th>imdb_score</th>\n",
       "      <th>imdb_votes</th>\n",
       "      <th>tmdb_popularity</th>\n",
       "      <th>tmdb_score</th>\n",
       "    </tr>\n",
       "  </thead>\n",
       "  <tbody>\n",
       "    <tr>\n",
       "      <th>0</th>\n",
       "      <td>ts300399</td>\n",
       "      <td>Five Came Back: The Reference Films</td>\n",
       "      <td>SHOW</td>\n",
       "      <td>This collection includes 12 World War II-era p...</td>\n",
       "      <td>1945</td>\n",
       "      <td>TV-MA</td>\n",
       "      <td>48</td>\n",
       "      <td>['documentation']</td>\n",
       "      <td>['US']</td>\n",
       "      <td>1.0</td>\n",
       "      <td>NaN</td>\n",
       "      <td>NaN</td>\n",
       "      <td>NaN</td>\n",
       "      <td>0.600</td>\n",
       "      <td>NaN</td>\n",
       "    </tr>\n",
       "    <tr>\n",
       "      <th>1</th>\n",
       "      <td>tm84618</td>\n",
       "      <td>Taxi Driver</td>\n",
       "      <td>MOVIE</td>\n",
       "      <td>A mentally unstable Vietnam War veteran works ...</td>\n",
       "      <td>1976</td>\n",
       "      <td>R</td>\n",
       "      <td>113</td>\n",
       "      <td>['crime', 'drama']</td>\n",
       "      <td>['US']</td>\n",
       "      <td>NaN</td>\n",
       "      <td>tt0075314</td>\n",
       "      <td>8.3</td>\n",
       "      <td>795222.0</td>\n",
       "      <td>27.612</td>\n",
       "      <td>8.2</td>\n",
       "    </tr>\n",
       "    <tr>\n",
       "      <th>2</th>\n",
       "      <td>tm127384</td>\n",
       "      <td>Monty Python and the Holy Grail</td>\n",
       "      <td>MOVIE</td>\n",
       "      <td>King Arthur, accompanied by his squire, recrui...</td>\n",
       "      <td>1975</td>\n",
       "      <td>PG</td>\n",
       "      <td>91</td>\n",
       "      <td>['comedy', 'fantasy']</td>\n",
       "      <td>['GB']</td>\n",
       "      <td>NaN</td>\n",
       "      <td>tt0071853</td>\n",
       "      <td>8.2</td>\n",
       "      <td>530877.0</td>\n",
       "      <td>18.216</td>\n",
       "      <td>7.8</td>\n",
       "    </tr>\n",
       "    <tr>\n",
       "      <th>3</th>\n",
       "      <td>tm70993</td>\n",
       "      <td>Life of Brian</td>\n",
       "      <td>MOVIE</td>\n",
       "      <td>Brian Cohen is an average young Jewish man, bu...</td>\n",
       "      <td>1979</td>\n",
       "      <td>R</td>\n",
       "      <td>94</td>\n",
       "      <td>['comedy']</td>\n",
       "      <td>['GB']</td>\n",
       "      <td>NaN</td>\n",
       "      <td>tt0079470</td>\n",
       "      <td>8.0</td>\n",
       "      <td>392419.0</td>\n",
       "      <td>17.505</td>\n",
       "      <td>7.8</td>\n",
       "    </tr>\n",
       "    <tr>\n",
       "      <th>4</th>\n",
       "      <td>tm190788</td>\n",
       "      <td>The Exorcist</td>\n",
       "      <td>MOVIE</td>\n",
       "      <td>12-year-old Regan MacNeil begins to adapt an e...</td>\n",
       "      <td>1973</td>\n",
       "      <td>R</td>\n",
       "      <td>133</td>\n",
       "      <td>['horror']</td>\n",
       "      <td>['US']</td>\n",
       "      <td>NaN</td>\n",
       "      <td>tt0070047</td>\n",
       "      <td>8.1</td>\n",
       "      <td>391942.0</td>\n",
       "      <td>95.337</td>\n",
       "      <td>7.7</td>\n",
       "    </tr>\n",
       "  </tbody>\n",
       "</table>\n",
       "</div>"
      ],
      "text/plain": [
       "         id                                title   type  \\\n",
       "0  ts300399  Five Came Back: The Reference Films   SHOW   \n",
       "1   tm84618                          Taxi Driver  MOVIE   \n",
       "2  tm127384      Monty Python and the Holy Grail  MOVIE   \n",
       "3   tm70993                        Life of Brian  MOVIE   \n",
       "4  tm190788                         The Exorcist  MOVIE   \n",
       "\n",
       "                                         description  release_year  \\\n",
       "0  This collection includes 12 World War II-era p...          1945   \n",
       "1  A mentally unstable Vietnam War veteran works ...          1976   \n",
       "2  King Arthur, accompanied by his squire, recrui...          1975   \n",
       "3  Brian Cohen is an average young Jewish man, bu...          1979   \n",
       "4  12-year-old Regan MacNeil begins to adapt an e...          1973   \n",
       "\n",
       "  age_certification  runtime                 genres production_countries  \\\n",
       "0             TV-MA       48      ['documentation']               ['US']   \n",
       "1                 R      113     ['crime', 'drama']               ['US']   \n",
       "2                PG       91  ['comedy', 'fantasy']               ['GB']   \n",
       "3                 R       94             ['comedy']               ['GB']   \n",
       "4                 R      133             ['horror']               ['US']   \n",
       "\n",
       "   seasons    imdb_id  imdb_score  imdb_votes  tmdb_popularity  tmdb_score  \n",
       "0      1.0        NaN         NaN         NaN            0.600         NaN  \n",
       "1      NaN  tt0075314         8.3    795222.0           27.612         8.2  \n",
       "2      NaN  tt0071853         8.2    530877.0           18.216         7.8  \n",
       "3      NaN  tt0079470         8.0    392419.0           17.505         7.8  \n",
       "4      NaN  tt0070047         8.1    391942.0           95.337         7.7  "
      ]
     },
     "execution_count": 1,
     "metadata": {},
     "output_type": "execute_result"
    }
   ],
   "source": [
    "import pandas as pd\n",
    "import numpy  as np\n",
    "\n",
    "# Cargando la base de datos\n",
    "data = pd.read_csv(\"titles.csv\")\n",
    "data.head()"
   ]
  },
  {
   "cell_type": "markdown",
   "id": "684055a4-5fba-4216-bd77-8e43e8050bed",
   "metadata": {},
   "source": [
    "## 1.2. Análisis de la calidad de los datos (10 puntos)"
   ]
  },
  {
   "cell_type": "markdown",
   "id": "f632e046-5cce-4eab-9f51-484c1d7b046a",
   "metadata": {},
   "source": [
    "### 1.2.1. Valores perdidos (5 puntos)"
   ]
  },
  {
   "cell_type": "markdown",
   "id": "292ed53e-cff2-4b00-9b88-ffd35ca5533a",
   "metadata": {},
   "source": [
    "Encuentre el número de valores perdidos (_missings_) de la base de datos por columna:\n",
    "* ¿Cuántos valores perdidos hay?\n",
    "\n",
    "> **Nota:** todavía no tome decisiones respecto al tratamiento de estos datos perdidos. Por ahora, solo indique el número por variable."
   ]
  },
  {
   "cell_type": "code",
   "execution_count": 23,
   "id": "f526f972-610e-40ce-bad8-a91a11c691a7",
   "metadata": {},
   "outputs": [
    {
     "data": {
      "text/plain": [
       "id                         0\n",
       "title                      1\n",
       "type                       0\n",
       "description               18\n",
       "release_year               0\n",
       "age_certification       2610\n",
       "runtime                    0\n",
       "genres                     0\n",
       "production_countries       0\n",
       "seasons                 3759\n",
       "imdb_id                  444\n",
       "imdb_score               523\n",
       "imdb_votes               539\n",
       "tmdb_popularity           94\n",
       "tmdb_score               318\n",
       "dtype: int64"
      ]
     },
     "execution_count": 23,
     "metadata": {},
     "output_type": "execute_result"
    }
   ],
   "source": [
    "# Suma de los valores perdidos por variable\n",
    "data.isnull().sum()"
   ]
  },
  {
   "cell_type": "markdown",
   "id": "f03dbb68-e2ac-4ac0-8dd4-ea343f441dcb",
   "metadata": {},
   "source": [
    "Ahora sí revise **solamente** los valores perdidos de la descripción (variable `description`):\n",
    "\n",
    "* Muestre las filas completas que presenten valores perdidos en la descripción.\n",
    "* ¿Qué estrategia le recomendaría al equipo que lo contrató para tratar estos valores perdidos? Aplíquela."
   ]
  },
  {
   "cell_type": "code",
   "execution_count": 22,
   "id": "a2e8f7e8-f0cb-45c5-8f64-3f45ca9f9d3f",
   "metadata": {},
   "outputs": [
    {
     "data": {
      "text/html": [
       "<div>\n",
       "<style scoped>\n",
       "    .dataframe tbody tr th:only-of-type {\n",
       "        vertical-align: middle;\n",
       "    }\n",
       "\n",
       "    .dataframe tbody tr th {\n",
       "        vertical-align: top;\n",
       "    }\n",
       "\n",
       "    .dataframe thead th {\n",
       "        text-align: right;\n",
       "    }\n",
       "</style>\n",
       "<table border=\"1\" class=\"dataframe\">\n",
       "  <thead>\n",
       "    <tr style=\"text-align: right;\">\n",
       "      <th></th>\n",
       "      <th>id</th>\n",
       "      <th>title</th>\n",
       "      <th>type</th>\n",
       "      <th>description</th>\n",
       "      <th>release_year</th>\n",
       "      <th>age_certification</th>\n",
       "      <th>runtime</th>\n",
       "      <th>genres</th>\n",
       "      <th>production_countries</th>\n",
       "      <th>seasons</th>\n",
       "      <th>imdb_id</th>\n",
       "      <th>imdb_score</th>\n",
       "      <th>imdb_votes</th>\n",
       "      <th>tmdb_popularity</th>\n",
       "      <th>tmdb_score</th>\n",
       "    </tr>\n",
       "  </thead>\n",
       "  <tbody>\n",
       "    <tr>\n",
       "      <th>1186</th>\n",
       "      <td>tm681614</td>\n",
       "      <td>Grandmother's Farm</td>\n",
       "      <td>MOVIE</td>\n",
       "      <td>NaN</td>\n",
       "      <td>2013</td>\n",
       "      <td>NaN</td>\n",
       "      <td>71</td>\n",
       "      <td>['comedy', 'horror']</td>\n",
       "      <td>[]</td>\n",
       "      <td>NaN</td>\n",
       "      <td>tt10033686</td>\n",
       "      <td>2.9</td>\n",
       "      <td>74.0</td>\n",
       "      <td>NaN</td>\n",
       "      <td>NaN</td>\n",
       "    </tr>\n",
       "    <tr>\n",
       "      <th>1196</th>\n",
       "      <td>ts271005</td>\n",
       "      <td>幸福料理</td>\n",
       "      <td>SHOW</td>\n",
       "      <td>NaN</td>\n",
       "      <td>2014</td>\n",
       "      <td>TV-14</td>\n",
       "      <td>44</td>\n",
       "      <td>[]</td>\n",
       "      <td>[]</td>\n",
       "      <td>1.0</td>\n",
       "      <td>NaN</td>\n",
       "      <td>NaN</td>\n",
       "      <td>NaN</td>\n",
       "      <td>0.600</td>\n",
       "      <td>NaN</td>\n",
       "    </tr>\n",
       "    <tr>\n",
       "      <th>1805</th>\n",
       "      <td>tm1063792</td>\n",
       "      <td>NaN</td>\n",
       "      <td>MOVIE</td>\n",
       "      <td>NaN</td>\n",
       "      <td>2015</td>\n",
       "      <td>NaN</td>\n",
       "      <td>11</td>\n",
       "      <td>[]</td>\n",
       "      <td>[]</td>\n",
       "      <td>NaN</td>\n",
       "      <td>tt4661188</td>\n",
       "      <td>NaN</td>\n",
       "      <td>NaN</td>\n",
       "      <td>NaN</td>\n",
       "      <td>NaN</td>\n",
       "    </tr>\n",
       "    <tr>\n",
       "      <th>2310</th>\n",
       "      <td>ts82770</td>\n",
       "      <td>Camarón Revolution</td>\n",
       "      <td>SHOW</td>\n",
       "      <td>NaN</td>\n",
       "      <td>2018</td>\n",
       "      <td>TV-14</td>\n",
       "      <td>52</td>\n",
       "      <td>['reality']</td>\n",
       "      <td>['ES']</td>\n",
       "      <td>1.0</td>\n",
       "      <td>NaN</td>\n",
       "      <td>NaN</td>\n",
       "      <td>NaN</td>\n",
       "      <td>1.673</td>\n",
       "      <td>7.0</td>\n",
       "    </tr>\n",
       "    <tr>\n",
       "      <th>2480</th>\n",
       "      <td>ts82375</td>\n",
       "      <td>Beyblade Burst Turbo</td>\n",
       "      <td>SHOW</td>\n",
       "      <td>NaN</td>\n",
       "      <td>2018</td>\n",
       "      <td>TV-Y7</td>\n",
       "      <td>24</td>\n",
       "      <td>['action', 'scifi']</td>\n",
       "      <td>['JP']</td>\n",
       "      <td>1.0</td>\n",
       "      <td>NaN</td>\n",
       "      <td>NaN</td>\n",
       "      <td>NaN</td>\n",
       "      <td>0.600</td>\n",
       "      <td>0.5</td>\n",
       "    </tr>\n",
       "    <tr>\n",
       "      <th>2727</th>\n",
       "      <td>ts90941</td>\n",
       "      <td>Heidi, bienvenida a casa</td>\n",
       "      <td>SHOW</td>\n",
       "      <td>NaN</td>\n",
       "      <td>2017</td>\n",
       "      <td>TV-Y</td>\n",
       "      <td>46</td>\n",
       "      <td>['comedy', 'family']</td>\n",
       "      <td>['AR']</td>\n",
       "      <td>1.0</td>\n",
       "      <td>tt7183310</td>\n",
       "      <td>6.2</td>\n",
       "      <td>20.0</td>\n",
       "      <td>4.135</td>\n",
       "      <td>8.8</td>\n",
       "    </tr>\n",
       "    <tr>\n",
       "      <th>2888</th>\n",
       "      <td>tm407349</td>\n",
       "      <td>The Birth Reborn 2</td>\n",
       "      <td>MOVIE</td>\n",
       "      <td>NaN</td>\n",
       "      <td>2018</td>\n",
       "      <td>PG</td>\n",
       "      <td>91</td>\n",
       "      <td>['documentation']</td>\n",
       "      <td>['BR']</td>\n",
       "      <td>NaN</td>\n",
       "      <td>tt16114198</td>\n",
       "      <td>6.6</td>\n",
       "      <td>5.0</td>\n",
       "      <td>0.738</td>\n",
       "      <td>5.8</td>\n",
       "    </tr>\n",
       "    <tr>\n",
       "      <th>3019</th>\n",
       "      <td>ts106612</td>\n",
       "      <td>Chicken Soup for the Soul's Being Dad</td>\n",
       "      <td>SHOW</td>\n",
       "      <td>NaN</td>\n",
       "      <td>2018</td>\n",
       "      <td>TV-PG</td>\n",
       "      <td>40</td>\n",
       "      <td>['reality']</td>\n",
       "      <td>[]</td>\n",
       "      <td>1.0</td>\n",
       "      <td>tt8908110</td>\n",
       "      <td>NaN</td>\n",
       "      <td>NaN</td>\n",
       "      <td>NaN</td>\n",
       "      <td>NaN</td>\n",
       "    </tr>\n",
       "    <tr>\n",
       "      <th>3129</th>\n",
       "      <td>ts268283</td>\n",
       "      <td>RIDE ON TIME</td>\n",
       "      <td>SHOW</td>\n",
       "      <td>NaN</td>\n",
       "      <td>2018</td>\n",
       "      <td>TV-PG</td>\n",
       "      <td>24</td>\n",
       "      <td>[]</td>\n",
       "      <td>['JP']</td>\n",
       "      <td>3.0</td>\n",
       "      <td>NaN</td>\n",
       "      <td>NaN</td>\n",
       "      <td>NaN</td>\n",
       "      <td>1.524</td>\n",
       "      <td>NaN</td>\n",
       "    </tr>\n",
       "    <tr>\n",
       "      <th>3746</th>\n",
       "      <td>ts312044</td>\n",
       "      <td>Beyblade Burst Surge</td>\n",
       "      <td>SHOW</td>\n",
       "      <td>NaN</td>\n",
       "      <td>2020</td>\n",
       "      <td>TV-Y</td>\n",
       "      <td>23</td>\n",
       "      <td>['animation']</td>\n",
       "      <td>[]</td>\n",
       "      <td>1.0</td>\n",
       "      <td>tt18554728</td>\n",
       "      <td>NaN</td>\n",
       "      <td>NaN</td>\n",
       "      <td>10.678</td>\n",
       "      <td>9.5</td>\n",
       "    </tr>\n",
       "    <tr>\n",
       "      <th>4324</th>\n",
       "      <td>tm1172010</td>\n",
       "      <td>The Lockdown Plan</td>\n",
       "      <td>MOVIE</td>\n",
       "      <td>NaN</td>\n",
       "      <td>2020</td>\n",
       "      <td>NaN</td>\n",
       "      <td>49</td>\n",
       "      <td>[]</td>\n",
       "      <td>[]</td>\n",
       "      <td>NaN</td>\n",
       "      <td>tt13079112</td>\n",
       "      <td>6.5</td>\n",
       "      <td>NaN</td>\n",
       "      <td>NaN</td>\n",
       "      <td>NaN</td>\n",
       "    </tr>\n",
       "    <tr>\n",
       "      <th>4452</th>\n",
       "      <td>ts223062</td>\n",
       "      <td>ปริศนาล่าข้ามเวลา</td>\n",
       "      <td>SHOW</td>\n",
       "      <td>NaN</td>\n",
       "      <td>2019</td>\n",
       "      <td>TV-14</td>\n",
       "      <td>62</td>\n",
       "      <td>[]</td>\n",
       "      <td>['TH']</td>\n",
       "      <td>1.0</td>\n",
       "      <td>NaN</td>\n",
       "      <td>NaN</td>\n",
       "      <td>NaN</td>\n",
       "      <td>0.600</td>\n",
       "      <td>7.0</td>\n",
       "    </tr>\n",
       "    <tr>\n",
       "      <th>4525</th>\n",
       "      <td>ts314529</td>\n",
       "      <td>캐치! 티니핑</td>\n",
       "      <td>SHOW</td>\n",
       "      <td>NaN</td>\n",
       "      <td>2020</td>\n",
       "      <td>TV-Y</td>\n",
       "      <td>12</td>\n",
       "      <td>[]</td>\n",
       "      <td>[]</td>\n",
       "      <td>2.0</td>\n",
       "      <td>NaN</td>\n",
       "      <td>NaN</td>\n",
       "      <td>NaN</td>\n",
       "      <td>1.497</td>\n",
       "      <td>NaN</td>\n",
       "    </tr>\n",
       "    <tr>\n",
       "      <th>4705</th>\n",
       "      <td>tm840152</td>\n",
       "      <td>Amsterdam to Anatolia</td>\n",
       "      <td>MOVIE</td>\n",
       "      <td>NaN</td>\n",
       "      <td>2019</td>\n",
       "      <td>NaN</td>\n",
       "      <td>6</td>\n",
       "      <td>['thriller']</td>\n",
       "      <td>['NL', 'PS', 'US', 'LB']</td>\n",
       "      <td>NaN</td>\n",
       "      <td>NaN</td>\n",
       "      <td>NaN</td>\n",
       "      <td>NaN</td>\n",
       "      <td>0.731</td>\n",
       "      <td>6.0</td>\n",
       "    </tr>\n",
       "    <tr>\n",
       "      <th>4718</th>\n",
       "      <td>tm855232</td>\n",
       "      <td>Luccas Neto in: The End of Christmas</td>\n",
       "      <td>MOVIE</td>\n",
       "      <td>NaN</td>\n",
       "      <td>2019</td>\n",
       "      <td>NaN</td>\n",
       "      <td>71</td>\n",
       "      <td>[]</td>\n",
       "      <td>[]</td>\n",
       "      <td>NaN</td>\n",
       "      <td>NaN</td>\n",
       "      <td>NaN</td>\n",
       "      <td>NaN</td>\n",
       "      <td>1.380</td>\n",
       "      <td>7.8</td>\n",
       "    </tr>\n",
       "    <tr>\n",
       "      <th>4752</th>\n",
       "      <td>tm896976</td>\n",
       "      <td>True: Rainbow Rescue</td>\n",
       "      <td>MOVIE</td>\n",
       "      <td>NaN</td>\n",
       "      <td>2020</td>\n",
       "      <td>NaN</td>\n",
       "      <td>23</td>\n",
       "      <td>['animation']</td>\n",
       "      <td>['US']</td>\n",
       "      <td>NaN</td>\n",
       "      <td>NaN</td>\n",
       "      <td>NaN</td>\n",
       "      <td>NaN</td>\n",
       "      <td>3.517</td>\n",
       "      <td>10.0</td>\n",
       "    </tr>\n",
       "    <tr>\n",
       "      <th>4806</th>\n",
       "      <td>tm902993</td>\n",
       "      <td>Mama Drama</td>\n",
       "      <td>MOVIE</td>\n",
       "      <td>NaN</td>\n",
       "      <td>2020</td>\n",
       "      <td>NaN</td>\n",
       "      <td>85</td>\n",
       "      <td>['drama']</td>\n",
       "      <td>['US']</td>\n",
       "      <td>NaN</td>\n",
       "      <td>tt12424356</td>\n",
       "      <td>6.3</td>\n",
       "      <td>8.0</td>\n",
       "      <td>NaN</td>\n",
       "      <td>NaN</td>\n",
       "    </tr>\n",
       "    <tr>\n",
       "      <th>4815</th>\n",
       "      <td>ts304136</td>\n",
       "      <td>마법버스 타요</td>\n",
       "      <td>SHOW</td>\n",
       "      <td>NaN</td>\n",
       "      <td>2020</td>\n",
       "      <td>TV-Y7</td>\n",
       "      <td>24</td>\n",
       "      <td>[]</td>\n",
       "      <td>['KR']</td>\n",
       "      <td>1.0</td>\n",
       "      <td>NaN</td>\n",
       "      <td>NaN</td>\n",
       "      <td>NaN</td>\n",
       "      <td>0.600</td>\n",
       "      <td>NaN</td>\n",
       "    </tr>\n",
       "  </tbody>\n",
       "</table>\n",
       "</div>"
      ],
      "text/plain": [
       "             id                                  title   type description  \\\n",
       "1186   tm681614                     Grandmother's Farm  MOVIE         NaN   \n",
       "1196   ts271005                                   幸福料理   SHOW         NaN   \n",
       "1805  tm1063792                                    NaN  MOVIE         NaN   \n",
       "2310    ts82770                     Camarón Revolution   SHOW         NaN   \n",
       "2480    ts82375                   Beyblade Burst Turbo   SHOW         NaN   \n",
       "2727    ts90941               Heidi, bienvenida a casa   SHOW         NaN   \n",
       "2888   tm407349                     The Birth Reborn 2  MOVIE         NaN   \n",
       "3019   ts106612  Chicken Soup for the Soul's Being Dad   SHOW         NaN   \n",
       "3129   ts268283                           RIDE ON TIME   SHOW         NaN   \n",
       "3746   ts312044                   Beyblade Burst Surge   SHOW         NaN   \n",
       "4324  tm1172010                      The Lockdown Plan  MOVIE         NaN   \n",
       "4452   ts223062                      ปริศนาล่าข้ามเวลา   SHOW         NaN   \n",
       "4525   ts314529                                캐치! 티니핑   SHOW         NaN   \n",
       "4705   tm840152                  Amsterdam to Anatolia  MOVIE         NaN   \n",
       "4718   tm855232   Luccas Neto in: The End of Christmas  MOVIE         NaN   \n",
       "4752   tm896976                   True: Rainbow Rescue  MOVIE         NaN   \n",
       "4806   tm902993                             Mama Drama  MOVIE         NaN   \n",
       "4815   ts304136                                마법버스 타요   SHOW         NaN   \n",
       "\n",
       "      release_year age_certification  runtime                genres  \\\n",
       "1186          2013               NaN       71  ['comedy', 'horror']   \n",
       "1196          2014             TV-14       44                    []   \n",
       "1805          2015               NaN       11                    []   \n",
       "2310          2018             TV-14       52           ['reality']   \n",
       "2480          2018             TV-Y7       24   ['action', 'scifi']   \n",
       "2727          2017              TV-Y       46  ['comedy', 'family']   \n",
       "2888          2018                PG       91     ['documentation']   \n",
       "3019          2018             TV-PG       40           ['reality']   \n",
       "3129          2018             TV-PG       24                    []   \n",
       "3746          2020              TV-Y       23         ['animation']   \n",
       "4324          2020               NaN       49                    []   \n",
       "4452          2019             TV-14       62                    []   \n",
       "4525          2020              TV-Y       12                    []   \n",
       "4705          2019               NaN        6          ['thriller']   \n",
       "4718          2019               NaN       71                    []   \n",
       "4752          2020               NaN       23         ['animation']   \n",
       "4806          2020               NaN       85             ['drama']   \n",
       "4815          2020             TV-Y7       24                    []   \n",
       "\n",
       "          production_countries  seasons     imdb_id  imdb_score  imdb_votes  \\\n",
       "1186                        []      NaN  tt10033686         2.9        74.0   \n",
       "1196                        []      1.0         NaN         NaN         NaN   \n",
       "1805                        []      NaN   tt4661188         NaN         NaN   \n",
       "2310                    ['ES']      1.0         NaN         NaN         NaN   \n",
       "2480                    ['JP']      1.0         NaN         NaN         NaN   \n",
       "2727                    ['AR']      1.0   tt7183310         6.2        20.0   \n",
       "2888                    ['BR']      NaN  tt16114198         6.6         5.0   \n",
       "3019                        []      1.0   tt8908110         NaN         NaN   \n",
       "3129                    ['JP']      3.0         NaN         NaN         NaN   \n",
       "3746                        []      1.0  tt18554728         NaN         NaN   \n",
       "4324                        []      NaN  tt13079112         6.5         NaN   \n",
       "4452                    ['TH']      1.0         NaN         NaN         NaN   \n",
       "4525                        []      2.0         NaN         NaN         NaN   \n",
       "4705  ['NL', 'PS', 'US', 'LB']      NaN         NaN         NaN         NaN   \n",
       "4718                        []      NaN         NaN         NaN         NaN   \n",
       "4752                    ['US']      NaN         NaN         NaN         NaN   \n",
       "4806                    ['US']      NaN  tt12424356         6.3         8.0   \n",
       "4815                    ['KR']      1.0         NaN         NaN         NaN   \n",
       "\n",
       "      tmdb_popularity  tmdb_score  \n",
       "1186              NaN         NaN  \n",
       "1196            0.600         NaN  \n",
       "1805              NaN         NaN  \n",
       "2310            1.673         7.0  \n",
       "2480            0.600         0.5  \n",
       "2727            4.135         8.8  \n",
       "2888            0.738         5.8  \n",
       "3019              NaN         NaN  \n",
       "3129            1.524         NaN  \n",
       "3746           10.678         9.5  \n",
       "4324              NaN         NaN  \n",
       "4452            0.600         7.0  \n",
       "4525            1.497         NaN  \n",
       "4705            0.731         6.0  \n",
       "4718            1.380         7.8  \n",
       "4752            3.517        10.0  \n",
       "4806              NaN         NaN  \n",
       "4815            0.600         NaN  "
      ]
     },
     "execution_count": 22,
     "metadata": {},
     "output_type": "execute_result"
    }
   ],
   "source": [
    "data[data.description.isnull()]"
   ]
  },
  {
   "cell_type": "markdown",
   "id": "46241bfb-5349-4aa8-882b-84955e88d49a",
   "metadata": {},
   "source": [
    "### 1.2.2. Valores únicos (5 puntos)"
   ]
  },
  {
   "cell_type": "markdown",
   "id": "a03708d3-db37-41de-bb11-e11a500ab48d",
   "metadata": {},
   "source": [
    "Ahora quieren saber cuántos valores únicos hay por variabl:\n",
    "\n",
    "* Muestre, por favor, el número de valores únicos que hay por variable."
   ]
  },
  {
   "cell_type": "code",
   "execution_count": 24,
   "id": "5c2289fe-dbc5-4236-a989-530252b6d5e8",
   "metadata": {},
   "outputs": [
    {
     "data": {
      "text/plain": [
       "id                      5806\n",
       "title                   5751\n",
       "type                       2\n",
       "description             5785\n",
       "release_year              67\n",
       "age_certification         11\n",
       "runtime                  205\n",
       "genres                  1626\n",
       "production_countries     449\n",
       "seasons                   23\n",
       "imdb_id                 5362\n",
       "imdb_score                81\n",
       "imdb_votes              3831\n",
       "tmdb_popularity         4943\n",
       "tmdb_score                78\n",
       "dtype: int64"
      ]
     },
     "execution_count": 24,
     "metadata": {},
     "output_type": "execute_result"
    }
   ],
   "source": [
    "data.nunique()"
   ]
  },
  {
   "cell_type": "markdown",
   "id": "f96d552b-02ef-4cd8-bc21-203786953b0c",
   "metadata": {},
   "source": [
    "# De repente, en una de sus visitas de consultoría, una persona misteriosa le deja una nota que dice:\n",
    "\n",
    "<center> <i>\"No todo es lo que parece. Revise usted los valores únicos de las variables genres y 'production_countries'. Att: 'el profe'.\"</i> </center>\n",
    "\n",
    "A partir de ello, usted encuentra que los valores únicos mienten: al parecer se está tomando más valores únicos porque hay _listas_ de países. \"Claro\", piensa usted, no hay 449 países en el mundo. En ese sentido, si una película es producida por Gran Bretaña y Estados Unidos, el valor es 'US' y 'GB'.\n",
    "\n",
    "A partir de lo anterior le preguntan:\n",
    "\n",
    "* ¿Cuál es el **algoritmo** que nos sugiere para que se pueda tener los valores únicos de los países que han producido estas películas? Es decir, para que no muestra 449 valores únicos sino el número X de países que alguna vez han producido o coproducido películas.\n",
    "\n",
    "> **Nota:** recuerde que el algoritmo es diferente al código. En este caso, solo es escribirlo."
   ]
  },
  {
   "cell_type": "markdown",
   "id": "8fdbd21e-c90f-494c-9d59-71b40b806cbe",
   "metadata": {},
   "source": []
  },
  {
   "cell_type": "markdown",
   "id": "757597ac-0f05-44d9-83b0-88119c86360d",
   "metadata": {},
   "source": [
    "* Realice un código y encuentra cuántos países y cuáles, en valores únicos, han producido o coproducido películas y programas de TV."
   ]
  },
  {
   "cell_type": "code",
   "execution_count": 5,
   "id": "7f21f40c-40ec-4251-8658-10db003111be",
   "metadata": {},
   "outputs": [
    {
     "data": {
      "text/plain": [
       "array([\"['US']\", \"['GB']\", \"['US', 'GB']\", \"['JP']\", \"['EG']\", \"['DE']\",\n",
       "       \"['IN']\", '[]', \"['DZ', 'EG']\", \"['LB']\", \"['FR', 'LB', 'CA']\",\n",
       "       \"['IN', 'SU']\", \"['US', 'IT']\", \"['HK', 'US']\", \"['GB', 'US']\",\n",
       "       \"['AR']\", \"['KW']\", \"['EG', 'FR']\", \"['FR', 'LB']\", \"['US', 'JP']\",\n",
       "       \"['US', 'CA']\", \"['DE', 'US']\", \"['US', 'DE']\", \"['CA', 'US']\",\n",
       "       \"['US', 'FR']\", \"['PE', 'US', 'BR']\", \"['IT', 'US', 'FR']\",\n",
       "       \"['US', 'HK']\", \"['FR', 'IE', 'GB', 'DE']\",\n",
       "       \"['GH', 'GB', 'US', 'BF', 'DE']\", \"['AR', 'ES']\", \"['FR']\",\n",
       "       \"['MX']\", \"['AU']\", \"['CO']\", \"['BE', 'FR', 'NO', 'LB']\",\n",
       "       \"['IT', 'LB', 'BE', 'FR']\", \"['US', 'FR', 'DE', 'PS']\", \"['TR']\",\n",
       "       \"['CA']\", \"['GB', 'US', 'BS', 'CZ', 'DE']\", \"['GB', 'US', 'AU']\",\n",
       "       \"['DE', 'ES', 'US', 'FR']\", \"['GB', 'US', 'AU', 'DE']\",\n",
       "       \"['JP', 'US']\", \"['US', 'IS', 'GB']\", \"['DK']\",\n",
       "       \"['NZ', 'JP', 'US']\", \"['US', 'CA', 'FR']\", \"['GB', 'US', 'DE']\",\n",
       "       \"['US', 'DE', 'IT', 'GB']\", \"['CA', 'DE', 'US']\", \"['HK', 'CN']\",\n",
       "       \"['IT', 'US']\", \"['FR', 'JP', 'US']\", \"['US', 'BE']\", \"['KR']\",\n",
       "       \"['IT']\", \"['BG', 'GB', 'US']\", \"['US', 'AU']\", \"['ES', 'GB']\",\n",
       "       \"['GB', 'US', 'JP']\", \"['CN', 'HK']\", \"['RU']\", \"['CN']\", \"['SG']\",\n",
       "       \"['GB', 'US', 'CA']\", \"['HK', 'JP']\", \"['CA', 'GB', 'US']\",\n",
       "       \"['ES', 'FR', 'MX']\", \"['IN', 'CA', 'US']\",\n",
       "       \"['PS', 'FR', 'MA', 'DE']\", \"['HK']\", \"['DE', 'UY', 'ES', 'AR']\",\n",
       "       \"['ES', 'AR']\", \"['US', 'IN']\", \"['TW']\", \"['IN', 'US']\", \"['MY']\",\n",
       "       \"['ES', 'CH', 'PS', 'BE', 'FR']\", \"['CL', 'AR']\",\n",
       "       \"['DE', 'KW', 'PS', 'FR']\", \"['CL']\", \"['NG']\", \"['PS']\",\n",
       "       \"['GB', 'FR', 'LB']\", \"['ZA']\", \"['SA']\",\n",
       "       \"['NG', 'GB', 'US', 'AT', 'FR', 'DE']\", \"['LB', 'FR']\",\n",
       "       \"['GB', 'DK', 'NL', 'SE', 'CZ']\", \"['PH']\", \"['Lebanon']\",\n",
       "       \"['TH', 'IN']\", \"['NG', 'US']\", \"['XX']\", \"['US', 'ES']\",\n",
       "       \"['NO', 'SE', 'US']\", \"['US', 'AE']\", \"['CA', 'HU', 'US']\",\n",
       "       \"['DK', 'US']\", \"['NO']\", \"['GB', 'FR', 'DE']\",\n",
       "       \"['US', 'HU', 'IT']\", \"['US', 'ZA', 'DE']\", \"['DE', 'IN']\",\n",
       "       \"['GB', 'NG']\", \"['AE', 'US', 'LB']\", \"['ID']\",\n",
       "       \"['NL', 'US', 'AE', 'PS']\", \"['FR', 'GB', 'US']\",\n",
       "       \"['US', 'DE', 'GB']\", \"['CA', 'CL', 'US']\", \"['IL']\",\n",
       "       \"['AU', 'US']\", \"['US', 'GB', 'CN', 'CA']\", \"['ES']\",\n",
       "       \"['GB', 'AU', 'CH']\", \"['FR', 'US']\", \"['US', 'GB', 'CA']\",\n",
       "       \"['CA', 'KR']\", \"['CA', 'FR']\", \"['AT']\", \"['US', 'DK']\",\n",
       "       \"['US', 'BR']\", \"['FI']\", \"['GB', 'US', 'EG']\", \"['RO']\",\n",
       "       \"['CD', 'GB']\", \"['BR']\", \"['US', 'CA', 'JP']\", \"['PL']\",\n",
       "       \"['VE', 'AR']\", \"['IL', 'NO', 'ZA', 'AE', 'GB', 'IS', 'IE']\",\n",
       "       \"['UA', 'US', 'CN', 'DE', 'SG']\", \"['AE', 'LB']\",\n",
       "       \"['IT', 'PS', 'FR', 'DE']\", \"['NZ']\", \"['UA']\", \"['BE', 'FR']\",\n",
       "       \"['US', 'CN']\", \"['US', 'FR', 'GB']\", \"['GB', 'IT']\",\n",
       "       \"['MX', 'ZA', 'US']\", \"['ES', 'US', 'GB']\",\n",
       "       \"['GB', 'IR', 'JO', 'QA']\", \"['DE', 'GB', 'US', 'BE', 'DK']\",\n",
       "       \"['UA', 'GB', 'US']\", \"['US', 'FR', 'LU', 'GB']\", \"['US', 'CH']\",\n",
       "       \"['US', 'GH']\", \"['IE', 'ZA']\", \"['CA', 'DE', 'GB']\",\n",
       "       \"['GB', 'IE']\", \"['US', 'CA', 'GB']\", \"['IS']\", \"['FR', 'GB']\",\n",
       "       \"['SE', 'CA', 'FI', 'FR', 'DE']\", \"['BG']\", \"['BY']\",\n",
       "       \"['MA', 'US']\", \"['IE']\", \"['CA', 'CN', 'FR']\",\n",
       "       \"['DE', 'AU', 'FR']\", \"['SK', 'CZ']\", \"['QA', 'FR']\",\n",
       "       \"['QA', 'PS', 'AE', 'FR', 'JO', 'LB']\", \"['MA', 'FR']\", \"['NL']\",\n",
       "       \"['SE']\", \"['HR']\", \"['ES', 'FR']\", \"['SE', 'US']\", \"['FR', 'BE']\",\n",
       "       \"['SY', 'GB']\", \"['NO', 'SE']\", \"['GL', 'FR']\", \"['US', 'AT']\",\n",
       "       \"['AE']\", \"['CD']\", \"['FR', 'PT', 'SE', 'DK', 'BR']\",\n",
       "       \"['ES', 'DK']\", \"['AU', 'GB']\", \"['AU', 'US', 'GB']\",\n",
       "       \"['LB', 'QA']\", \"['FR', 'DE', 'PS']\", \"['PK']\", \"['GB', 'IN']\",\n",
       "       \"['JP', 'US', 'CA']\", \"['CL', 'FR']\", \"['CZ']\", \"['VN']\",\n",
       "       \"['GB', 'NL']\", \"['CA', 'NG']\", \"['FR', 'RU', 'US']\",\n",
       "       \"['CA', 'HU', 'MX', 'ES', 'GB', 'US']\", \"['US', 'FR', 'NL', 'GB']\",\n",
       "       \"['CA', 'US', 'CN']\", \"['GB', 'CA']\", \"['FR', 'CA']\",\n",
       "       \"['KR', 'US']\", \"['MX', 'US']\", \"['BE', 'FR', 'GB']\",\n",
       "       \"['IN', 'CN', 'US', 'GB']\", \"['BE', 'FR', 'US']\",\n",
       "       \"['GB', 'US', 'CZ']\", \"['IT', 'ES', 'FR']\", \"['GB', 'US', 'FR']\",\n",
       "       \"['PR', 'US', 'GB', 'CN']\", \"['SG', 'US', 'GB', 'ID', 'CA', 'CN']\",\n",
       "       \"['GB', 'US', 'SG']\", \"['GB', 'DE']\", \"['HK', 'IS', 'US']\",\n",
       "       \"['IT', 'CH', 'FR']\", \"['US', 'FR', 'IR']\", \"['NO', 'US', 'IS']\",\n",
       "       \"['IQ', 'GB']\", \"['BE']\", \"['HU']\", \"['DE', 'CA', 'US']\",\n",
       "       \"['IE', 'CA']\", \"['PR']\", \"['BG', 'US']\", \"['KH', 'US']\",\n",
       "       \"['US', 'GB', 'ES']\", \"['CN', 'US', 'ES']\", \"['FR', 'GE', 'DE']\",\n",
       "       \"['GB', 'US', 'DK']\", \"['TH']\", \"['NL', 'BE']\",\n",
       "       \"['CN', 'US', 'CA']\", \"['IL', 'MA', 'US', 'BG', 'GB']\",\n",
       "       \"['FR', 'LU', 'US']\", \"['JP', 'FR']\", \"['BE', 'FR', 'IT']\",\n",
       "       \"['TR', 'US']\", \"['ES', 'IT']\", \"['BR', 'CA']\", \"['CA', 'CN']\",\n",
       "       \"['ES', 'US']\", \"['CU', 'US']\", \"['ZA', 'GB']\", \"['CA', 'GB']\",\n",
       "       \"['US', 'PL']\", \"['ES', 'DE']\", \"['CA', 'US', 'IE']\",\n",
       "       \"['IS', 'SE', 'BE']\", \"['CH', 'DE']\", \"['CN', 'JP']\",\n",
       "       \"['US', 'MX']\", \"['DK', 'NL', 'NO', 'SE']\", \"['NZ', 'GB', 'DE']\",\n",
       "       \"['AR', 'ES', 'UY']\", \"['LU', 'CA', 'FR']\", \"['KE']\",\n",
       "       \"['KR', 'FR', 'JP']\", \"['MX', 'ES']\", \"['US', 'DE', 'ZA']\",\n",
       "       \"['GB', 'IS']\", \"['FR', 'IN']\", \"['IT', 'CH', 'VA', 'FR', 'DE']\",\n",
       "       \"['DE', 'NO', 'PE']\", \"['US', 'NG']\", \"['SG', 'PH']\",\n",
       "       \"['DE', 'IT']\", \"['NL', 'US']\", \"['RU', 'RS', 'PL']\",\n",
       "       \"['FR', 'IT']\", \"['AE', 'SA', 'SY']\", \"['GB', 'DE', 'DK', 'NL']\",\n",
       "       \"['GB', 'US', 'IL', 'IT', 'PE']\", \"['FR', 'ES']\",\n",
       "       \"['PL', 'CH', 'AL', 'IT']\", \"['PE']\", \"['SG', 'ID', 'MY']\",\n",
       "       \"['KH']\", \"['IN', 'MX']\", \"['FR', 'AR']\", \"['CZ', 'US']\",\n",
       "       \"['BE', 'GB', 'US']\", \"['TZ']\", \"['QA', 'TN', 'BE', 'FR']\",\n",
       "       \"['MX', 'FI']\", \"['AR', 'BR', 'DK', 'FR', 'DE', 'PL']\",\n",
       "       \"['TW', 'US', 'CN', 'FR']\", \"['GE']\", \"['CL', 'NL', 'FR']\",\n",
       "       \"['BE', 'ES']\", \"['NL', 'MX']\", \"['CA', 'ZA', 'US']\", \"['ZW']\",\n",
       "       \"['AT', 'IQ', 'US']\", \"['PY']\", \"['IT', 'AR']\", \"['AR', 'US']\",\n",
       "       \"['FR', 'IN', 'SG']\", \"['FR', 'PS', 'CH', 'QA']\",\n",
       "       \"['NL', 'JO', 'DE']\", \"['TW', 'US']\", \"['MX', 'AR']\", \"['GH']\",\n",
       "       \"['AR', 'IT']\", \"['MX', 'CO']\", \"['LB', 'PS']\", \"['IN', 'NP']\",\n",
       "       \"['CA', 'JP', 'US']\", \"['DK', 'GR', 'GB']\", \"['CM']\",\n",
       "       \"['CL', 'MX', 'US']\", \"['IN', 'BD']\", \"['NO', 'NG']\", \"['CH']\",\n",
       "       \"['KG']\", \"['ZA', 'CA']\", \"['US', 'CN', 'AU']\", \"['BD']\",\n",
       "       \"['JP', 'GB']\", \"['LT', 'NL', 'BE']\", \"['CA', 'CN', 'US']\",\n",
       "       \"['US', 'BG']\", \"['US', 'FR', 'IE']\", \"['HU', 'US', 'CA']\",\n",
       "       \"['US', 'CY']\", \"['FR', 'LT', 'GB']\", \"['CN', 'US']\",\n",
       "       \"['GB', 'FR']\", \"['SN', 'BE', 'FR']\", \"['BE', 'SE', 'GB']\",\n",
       "       \"['MW', 'GB', 'US']\", \"['US', 'IL']\", \"['PT', 'US']\",\n",
       "       \"['IE', 'GB']\", \"['FR', 'ES', 'US', 'CA']\",\n",
       "       \"['US', 'FR', 'SE', 'GB', 'DE', 'DK', 'CA']\", \"['TH', 'US']\",\n",
       "       \"['LU']\", \"['CZ', 'FR', 'GB']\", \"['NO', 'FI']\",\n",
       "       \"['US', 'CN', 'TH']\", \"['GB', 'US', 'CN']\", \"['CH', 'US']\",\n",
       "       \"['BR', 'FR', 'ES', 'BE']\", \"['DE', 'AT']\", \"['IN', 'GB']\",\n",
       "       \"['BR', 'MX']\", \"['AR', 'ES', 'FR']\", \"['US', 'AL', 'JO', 'TH']\",\n",
       "       \"['IL', 'US', 'FR', 'DE']\", \"['IT', 'GB']\", \"['IO']\",\n",
       "       \"['CN', 'DE', 'GB']\", \"['UA', 'GB', 'US', 'NL', 'PL']\", \"['MU']\",\n",
       "       \"['DE', 'ES']\", \"['BE', 'KH', 'FR', 'LU']\", \"['JO']\",\n",
       "       \"['PS', 'QA']\", \"['ES', 'BE', 'DE']\", \"['RS', 'UY', 'AR']\",\n",
       "       \"['FR', 'US', 'JP']\", \"['SG', 'FR', 'NL']\", \"['JP', 'US', 'CN']\",\n",
       "       \"['ES', 'MX']\", \"['PE', 'AR']\", \"['ES', 'PT']\", \"['AT', 'DE']\",\n",
       "       \"['US', 'AR']\", \"['MY', 'TW']\", \"['DE', 'NO']\", \"['PH', 'US']\",\n",
       "       \"['ES', 'CO']\", \"['FR', 'ES', 'US']\", \"['AR', 'CA', 'CL']\",\n",
       "       \"['EG', 'US']\", \"['ES', 'US', 'BE']\", \"['CN', 'ES']\",\n",
       "       \"['FR', 'JP', 'GB', 'US', 'CA']\", \"['MX', 'CO', 'FR']\",\n",
       "       \"['US', 'SE']\", \"['FR', 'BR']\", \"['CA', 'LK']\",\n",
       "       \"['FR', 'QA', 'MA']\", \"['IE', 'US']\", \"['UY']\", \"['AO', 'ZA']\",\n",
       "       \"['DE', 'IN', 'AT']\", \"['GT', 'UY']\", \"['AR', 'CO']\",\n",
       "       \"['QA', 'SY', 'FR', 'LB']\", \"['SN']\", \"['MZ']\",\n",
       "       \"['DK', 'EG', 'DE']\", \"['SG', 'MY']\", \"['US', 'NL', 'CA', 'LB']\",\n",
       "       \"['JP', 'US', 'FR']\", \"['AF', 'DE', 'PS']\", \"['FR', 'IN', 'QA']\",\n",
       "       \"['PS', 'DK', 'LB']\", \"['US', 'GB', 'DE']\", \"['UY', 'MX', 'ES']\",\n",
       "       \"['HK', 'PH']\", \"['CA', 'NO']\", \"['CN', 'TW']\", \"['EG', 'SA']\",\n",
       "       \"['LB', 'GB', 'DK']\", \"['NL', 'PS', 'US', 'LB']\", \"['NA']\",\n",
       "       \"['PH', 'JP']\", \"['CA', 'GR', 'NZ', 'GB', 'AU']\",\n",
       "       \"['GB', 'US', 'GR']\", \"['US', 'AT', 'GB']\", \"['DK', 'IS']\",\n",
       "       \"['DE', 'GB', 'US']\", \"['FR', 'DE', 'US']\", \"['JP', 'TH', 'US']\",\n",
       "       \"['GB', 'SE']\", \"['RO', 'US']\", \"['PL', 'KR', 'US']\",\n",
       "       \"['QA', 'MX', 'US', 'CH', 'AR', 'BR', 'DE']\", \"['CA', 'IE', 'US']\",\n",
       "       \"['FR', 'LU']\", \"['PT']\", \"['US', 'NL']\", \"['IN', 'SG', 'US']\",\n",
       "       \"['BR', 'IT']\", \"['HU', 'NL', 'CH', 'GB']\", \"['CL', 'PE']\",\n",
       "       \"['PE', 'ES']\", \"['BR', 'US']\", \"['BE', 'GB', 'DE']\",\n",
       "       \"['US', 'CA', 'CN']\", \"['ZA', 'US']\", \"['US', 'ZA', 'GB']\",\n",
       "       \"['AF']\", \"['NZ', 'HK']\", \"['SG', 'US']\", \"['CZ', 'DE']\",\n",
       "       \"['BE', 'LU']\", \"['CA', 'ZA']\", \"['RO', 'SE']\", \"['RU', 'US']\",\n",
       "       \"['CN', 'GB']\", \"['DE', 'FR']\", \"['HU', 'CA']\", \"['IL', 'US']\",\n",
       "       \"['BE', 'DE']\", \"['PH', 'FO']\", \"['TZ', 'GB']\", \"['NG', 'CA']\"],\n",
       "      dtype=object)"
      ]
     },
     "execution_count": 5,
     "metadata": {},
     "output_type": "execute_result"
    }
   ],
   "source": [
    "data.production_countries.unique()"
   ]
  },
  {
   "cell_type": "markdown",
   "id": "72185e42-c9c9-4957-ace1-d485acb08a7f",
   "metadata": {},
   "source": [
    "## 1.3. Análisis univariado (15 puntos)"
   ]
  },
  {
   "cell_type": "markdown",
   "id": "ea3305c3-1bef-4036-b5a3-a7e4c741ef96",
   "metadata": {},
   "source": [
    "#### A. Tipo de producción (5 puntos)"
   ]
  },
  {
   "cell_type": "markdown",
   "id": "24b8f71d-3e2f-4cfb-abdc-30002a860d31",
   "metadata": {},
   "source": [
    "En primer lugar, quienes le contrataron quieren saber cuántas películas y cuántos programas de TV hay:\n",
    "\n",
    "* Encuentre, por separado, el número de programas de TV y el número de películas que hay en la base de datos."
   ]
  },
  {
   "cell_type": "code",
   "execution_count": 38,
   "id": "6c0b61b4-daf5-4f24-8eb8-579c125fed06",
   "metadata": {},
   "outputs": [
    {
     "data": {
      "text/plain": [
       "array(['SHOW', 'MOVIE'], dtype=object)"
      ]
     },
     "execution_count": 38,
     "metadata": {},
     "output_type": "execute_result"
    }
   ],
   "source": [
    "data.type.unique()"
   ]
  },
  {
   "cell_type": "code",
   "execution_count": 42,
   "id": "e9ad2402-017d-4382-b5a4-92552bf1112d",
   "metadata": {},
   "outputs": [
    {
     "data": {
      "text/plain": [
       "(2047, 15)"
      ]
     },
     "execution_count": 42,
     "metadata": {},
     "output_type": "execute_result"
    }
   ],
   "source": [
    "data[data.type == \"SHOW\"].shape"
   ]
  },
  {
   "cell_type": "code",
   "execution_count": 43,
   "id": "886abe27-d0b9-4c61-8ef9-65417d4f93dd",
   "metadata": {},
   "outputs": [
    {
     "data": {
      "text/plain": [
       "(3759, 15)"
      ]
     },
     "execution_count": 43,
     "metadata": {},
     "output_type": "execute_result"
    }
   ],
   "source": [
    "data[data.type == \"MOVIE\"].shape"
   ]
  },
  {
   "cell_type": "markdown",
   "id": "b6419278-1b35-4748-b73d-1bf968328da3",
   "metadata": {},
   "source": [
    "#### B. Puntaje de las películas (10 puntos)"
   ]
  },
  {
   "cell_type": "markdown",
   "id": "bdcc2868-15a4-4edb-a8b2-85dfead8f56b",
   "metadata": {},
   "source": [
    "Sus consultantes quieren saber varias cosas sobre los puntajes de IMDB de las películas y shows:\n",
    "\n",
    "* ¿Cuál es el promedio del puntaje de IMDB de todas las películas y programas de TV?\n",
    "* ¿Cuál es el promedio del puntaje de IMDB de las películas cuyo género es **solamente** comedia (_comedy_)?\n",
    "* Realice una gráfica de la distribución de los puntajes de IMDB de todas, sin separar, las películas y programas de TV."
   ]
  },
  {
   "cell_type": "code",
   "execution_count": 35,
   "id": "e9065524-7e00-4148-80b8-eda338d90808",
   "metadata": {},
   "outputs": [
    {
     "data": {
      "text/plain": [
       "array([\"['documentation']\", \"['crime', 'drama']\", \"['comedy', 'fantasy']\",\n",
       "       ..., \"['crime', 'comedy', 'drama', 'thriller', 'action']\",\n",
       "       \"['music', 'romance', 'comedy']\",\n",
       "       \"['family', 'comedy', 'animation']\"], dtype=object)"
      ]
     },
     "execution_count": 35,
     "metadata": {},
     "output_type": "execute_result"
    }
   ],
   "source": [
    "data.genres.unique()"
   ]
  },
  {
   "cell_type": "code",
   "execution_count": 44,
   "id": "7ef6bad7-f8a2-430d-8233-61af89680a91",
   "metadata": {},
   "outputs": [
    {
     "data": {
      "text/plain": [
       "Index(['id', 'title', 'type', 'description', 'release_year',\n",
       "       'age_certification', 'runtime', 'genres', 'production_countries',\n",
       "       'seasons', 'imdb_id', 'imdb_score', 'imdb_votes', 'tmdb_popularity',\n",
       "       'tmdb_score'],\n",
       "      dtype='object')"
      ]
     },
     "execution_count": 44,
     "metadata": {},
     "output_type": "execute_result"
    }
   ],
   "source": [
    "data.columns"
   ]
  },
  {
   "cell_type": "code",
   "execution_count": 63,
   "id": "2d5d0152-645f-4cba-9bdf-3f733365ea75",
   "metadata": {},
   "outputs": [
    {
     "name": "stdout",
     "output_type": "stream",
     "text": [
      "El puntaje promedio de IMDB de todas las películas y programas de TV es: 6.5334469051675175\n",
      "El puntaje promedio de IMDB de las películas de comedia es: 6.131609195402298\n"
     ]
    }
   ],
   "source": [
    "# Generating mean of all the movies and TV Shows\n",
    "print(\"El puntaje promedio de IMDB de todas las películas y programas de TV es: {0}\".format(data.imdb_score.mean()))\n",
    "\n",
    "# Generating mean of all comedy movies\n",
    "print(\"El puntaje promedio de IMDB de las películas de comedia es: {0}\".format(data[(data.genres == \"['comedy']\") & (data.type == \"MOVIE\")].imdb_score.mean()))"
   ]
  },
  {
   "cell_type": "code",
   "execution_count": 62,
   "id": "c3a5a46e-278d-45cc-a47e-0e9a4680979f",
   "metadata": {},
   "outputs": [
    {
     "data": {
      "image/png": "[encoded data removed]",
      "text/plain": [
       "<Figure size 1200x560 with 1 Axes>"
      ]
     },
     "metadata": {
      "needs_background": "light"
     },
     "output_type": "display_data"
    }
   ],
   "source": [
    "# Importing libraries\n",
    "import matplotlib.pyplot as plt\n",
    "\n",
    "# Generating the dataframe\n",
    "df_temp = data[[\"imdb_score\", \"type\"]].groupby(\"imdb_score\").count().reset_index()\n",
    "\n",
    "# Plotting\n",
    "plt.figure(figsize = (15, 7), dpi = 80)\n",
    "plt.bar(df_temp.imdb_score, df_temp.type)\n",
    "plt.xlabel(\"Puntaje\");plt.ylabel(\"Número de notas periodísticas\")\n",
    "plt.title(\"Número de fechas periodísticas en el tiempo\")\n",
    "plt.show()"
   ]
  },
  {
   "cell_type": "markdown",
   "id": "fe048ef1-7c1d-4259-b16b-66baaf7fa809",
   "metadata": {},
   "source": [
    "> **Nota:** tenga cuidado con los géneros. Si los observa bien, se puede dar cuenta que todos son tipo `str` y, en dicho `str`, todos están _dentro de una lista_. Usted decide si utilizará el `str` como está o si lo procesará para que solo esté el género. Cualquiera de las dos opciones le sirve."
   ]
  },
  {
   "cell_type": "markdown",
   "id": "1f8ad147-d6bc-4c33-95b0-a03f83658f16",
   "metadata": {},
   "source": [
    "## 1.4. Análisis multivariado (15 puntos)"
   ]
  },
  {
   "cell_type": "markdown",
   "id": "8986f6e2-b49f-4ed1-9d34-c6fac4e329c8",
   "metadata": {},
   "source": [
    "#### A. Temporalidad de las producciones (5 puntos)"
   ]
  },
  {
   "cell_type": "markdown",
   "id": "6e4edb4b-504c-44b8-8ff6-da76ffd08be7",
   "metadata": {},
   "source": [
    "Quienes le contratan quieren saber cómo ha sido la producción en el tiempo de películas y programas de TV:\n",
    "\n",
    "* Realice una gráfica en la que muestre la cantidad de producción de TV y de películas, todo junto, por cada año.\n",
    "* Realice una tabla que muestre los números por año."
   ]
  },
  {
   "cell_type": "code",
   "execution_count": 64,
   "id": "0ca7f1da-7b63-441a-8ca4-9ad12673e1a8",
   "metadata": {},
   "outputs": [
    {
     "data": {
      "text/plain": [
       "Index(['id', 'title', 'type', 'description', 'release_year',\n",
       "       'age_certification', 'runtime', 'genres', 'production_countries',\n",
       "       'seasons', 'imdb_id', 'imdb_score', 'imdb_votes', 'tmdb_popularity',\n",
       "       'tmdb_score'],\n",
       "      dtype='object')"
      ]
     },
     "execution_count": 64,
     "metadata": {},
     "output_type": "execute_result"
    }
   ],
   "source": [
    "data.columns"
   ]
  },
  {
   "cell_type": "code",
   "execution_count": 68,
   "id": "1861e2b6-8f52-48d1-b3a8-122e1c02bb53",
   "metadata": {},
   "outputs": [
    {
     "data": {
      "image/png": "[encoded data removed]",
      "text/plain": [
       "<Figure size 1200x560 with 1 Axes>"
      ]
     },
     "metadata": {
      "needs_background": "light"
     },
     "output_type": "display_data"
    },
    {
     "data": {
      "text/html": [
       "<div>\n",
       "<style scoped>\n",
       "    .dataframe tbody tr th:only-of-type {\n",
       "        vertical-align: middle;\n",
       "    }\n",
       "\n",
       "    .dataframe tbody tr th {\n",
       "        vertical-align: top;\n",
       "    }\n",
       "\n",
       "    .dataframe thead th {\n",
       "        text-align: right;\n",
       "    }\n",
       "</style>\n",
       "<table border=\"1\" class=\"dataframe\">\n",
       "  <thead>\n",
       "    <tr style=\"text-align: right;\">\n",
       "      <th></th>\n",
       "      <th>release_year</th>\n",
       "      <th>type</th>\n",
       "    </tr>\n",
       "  </thead>\n",
       "  <tbody>\n",
       "    <tr>\n",
       "      <th>0</th>\n",
       "      <td>1945</td>\n",
       "      <td>1</td>\n",
       "    </tr>\n",
       "    <tr>\n",
       "      <th>1</th>\n",
       "      <td>1953</td>\n",
       "      <td>1</td>\n",
       "    </tr>\n",
       "    <tr>\n",
       "      <th>2</th>\n",
       "      <td>1954</td>\n",
       "      <td>2</td>\n",
       "    </tr>\n",
       "    <tr>\n",
       "      <th>3</th>\n",
       "      <td>1956</td>\n",
       "      <td>1</td>\n",
       "    </tr>\n",
       "    <tr>\n",
       "      <th>4</th>\n",
       "      <td>1958</td>\n",
       "      <td>1</td>\n",
       "    </tr>\n",
       "    <tr>\n",
       "      <th>...</th>\n",
       "      <td>...</td>\n",
       "      <td>...</td>\n",
       "    </tr>\n",
       "    <tr>\n",
       "      <th>62</th>\n",
       "      <td>2018</td>\n",
       "      <td>774</td>\n",
       "    </tr>\n",
       "    <tr>\n",
       "      <th>63</th>\n",
       "      <td>2019</td>\n",
       "      <td>848</td>\n",
       "    </tr>\n",
       "    <tr>\n",
       "      <th>64</th>\n",
       "      <td>2020</td>\n",
       "      <td>805</td>\n",
       "    </tr>\n",
       "    <tr>\n",
       "      <th>65</th>\n",
       "      <td>2021</td>\n",
       "      <td>758</td>\n",
       "    </tr>\n",
       "    <tr>\n",
       "      <th>66</th>\n",
       "      <td>2022</td>\n",
       "      <td>217</td>\n",
       "    </tr>\n",
       "  </tbody>\n",
       "</table>\n",
       "<p>67 rows × 2 columns</p>\n",
       "</div>"
      ],
      "text/plain": [
       "    release_year  type\n",
       "0           1945     1\n",
       "1           1953     1\n",
       "2           1954     2\n",
       "3           1956     1\n",
       "4           1958     1\n",
       "..           ...   ...\n",
       "62          2018   774\n",
       "63          2019   848\n",
       "64          2020   805\n",
       "65          2021   758\n",
       "66          2022   217\n",
       "\n",
       "[67 rows x 2 columns]"
      ]
     },
     "execution_count": 68,
     "metadata": {},
     "output_type": "execute_result"
    }
   ],
   "source": [
    "df_temp = data[[\"release_year\", \"type\"]].groupby(\"release_year\").count().reset_index()\n",
    "\n",
    "# Plotting\n",
    "plt.figure(figsize = (15, 7), dpi = 80)\n",
    "plt.bar(df_temp.release_year, df_temp.type)\n",
    "plt.xlabel(\"Año de lanzamiento\");plt.ylabel(\"Número de producciones\")\n",
    "plt.title(\"Número de producciones en el tiempo\")\n",
    "plt.show()\n",
    "\n",
    "# Printing table\n",
    "df_temp"
   ]
  },
  {
   "cell_type": "markdown",
   "id": "86f5b87b-b463-4205-a161-69d28dee93bd",
   "metadata": {},
   "source": [
    "#### B. Puntaje, votos y tiempo de la película (5 puntos)"
   ]
  },
  {
   "cell_type": "markdown",
   "id": "b929f2b6-c304-4272-88ee-b13d2bd5c98c",
   "metadata": {},
   "source": [
    "Sus contratantes quieren saber cuál es la correlación entre el puntaje de IMDB, la cantidad de votos en IMDB y el tiempo que demora la película:\n",
    "\n",
    "* Realice una matriz de correlación de estas tres variables. ¿Qué encuentra? ¿Cómo se afectan entre ellas?"
   ]
  },
  {
   "cell_type": "code",
   "execution_count": 36,
   "id": "0349cc93-a3d5-4c10-b070-67e8ed5f8c8b",
   "metadata": {},
   "outputs": [
    {
     "data": {
      "text/plain": [
       "Index(['id', 'title', 'type', 'description', 'release_year',\n",
       "       'age_certification', 'runtime', 'genres', 'production_countries',\n",
       "       'seasons', 'imdb_id', 'imdb_score', 'imdb_votes', 'tmdb_popularity',\n",
       "       'tmdb_score'],\n",
       "      dtype='object')"
      ]
     },
     "execution_count": 36,
     "metadata": {},
     "output_type": "execute_result"
    }
   ],
   "source": [
    "data.columns"
   ]
  },
  {
   "cell_type": "markdown",
   "id": "814ca719-6590-4e6a-943a-5b60db514b38",
   "metadata": {},
   "source": [
    "#### C. Géneros y clasificación de edad (5 puntos)"
   ]
  },
  {
   "cell_type": "markdown",
   "id": "32ab8be3-0019-4e93-a081-02d08701dc42",
   "metadata": {},
   "source": [
    "Ahora quieren saber cómo es la distribución de los géneros (`genres`) y la clasificación de edad (`age_certification`), pero no quieren nada complicado. Por eso, le piden que haga un conteo de producciones por estas dos variables. A partir de ello, le preguntan:\n",
    "\n",
    "* ¿Cuál es la combinación de género y clasificación de edad que cuenta con más producciones?\n",
    "* ¿Cuál es el género que más producciones tiene con clasificación de edad tipo `R` (solo para adultos)?"
   ]
  },
  {
   "cell_type": "code",
   "execution_count": 37,
   "id": "092c8cd6-01d4-4b68-b7fd-1753c96f3078",
   "metadata": {},
   "outputs": [
    {
     "data": {
      "text/plain": [
       "array(['TV-MA', 'R', 'PG', 'TV-14', 'G', 'PG-13', nan, 'TV-PG', 'TV-Y',\n",
       "       'TV-G', 'TV-Y7', 'NC-17'], dtype=object)"
      ]
     },
     "execution_count": 37,
     "metadata": {},
     "output_type": "execute_result"
    }
   ],
   "source": [
    "data.age_certification.unique()"
   ]
  }
 ],
 "metadata": {
  "kernelspec": {
   "display_name": "Python 3 (ipykernel)",
   "language": "python",
   "name": "python3"
  },
  "language_info": {
   "codemirror_mode": {
    "name": "ipython",
    "version": 3
   },
   "file_extension": ".py",
   "mimetype": "text/x-python",
   "name": "python",
   "nbconvert_exporter": "python",
   "pygments_lexer": "ipython3",
   "version": "3.10.5"
  }
 },
 "nbformat": 4,
 "nbformat_minor": 5
}
