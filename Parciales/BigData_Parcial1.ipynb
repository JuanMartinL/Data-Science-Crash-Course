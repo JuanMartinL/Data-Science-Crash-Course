{
 "cells": [
  {
   "cell_type": "markdown",
   "id": "1e4f994f-d085-4b0d-b184-a6ce837f2e41",
   "metadata": {},
   "source": [
    "# Fundación Universitaria Los Libertadores - Facultad de Ciencias Económicas, Administrativas y Contables\n",
    "\n",
    "&emsp; **Asignatura:** Big Data. <br>\n",
    "&emsp; **Profesor:** Juan Martín Londoño Zuluaga. <br>\n",
    "&emsp; **Período:** 2022-II.\n",
    "\n",
    "# Parcial 1: Introducción a Python"
   ]
  },
  {
   "cell_type": "markdown",
   "id": "fd28fa46-6f40-4fac-b6a3-7e49698c179b",
   "metadata": {},
   "source": [
    "**Estudiante:**"
   ]
  },
  {
   "cell_type": "markdown",
   "id": "000cb9ed-99d9-4375-9486-4d0d8021a68b",
   "metadata": {},
   "source": [
    "# 1. Calculadora multiplicadora"
   ]
  },
  {
   "cell_type": "markdown",
   "id": "d4ce36a2-b16a-454b-b239-9e3d03f47bf0",
   "metadata": {},
   "source": [
    "Construya una función `multiplicadora(x, y)` a la que se le ingresen dos números y los multiplique. En ese sentido, algunos ejemplos son:\n",
    "\n",
    "> `multiplicadora(2, 3) = 6`\n",
    "\n",
    "> `multiplicadora(11, 11) = 121`\n",
    "\n",
    "> `multiplicadora(0.5, 8) = 4`\n"
   ]
  },
  {
   "cell_type": "code",
   "execution_count": null,
   "id": "734d1548-14c3-48b1-8463-b8084a7a3b04",
   "metadata": {},
   "outputs": [],
   "source": []
  },
  {
   "cell_type": "markdown",
   "id": "106ed0a4-107c-49e6-9ea3-920c54484cce",
   "metadata": {},
   "source": [
    "# 2. Conteo de impares"
   ]
  },
  {
   "cell_type": "markdown",
   "id": "50928386-c64d-41fc-a871-7d200ed52419",
   "metadata": {},
   "source": [
    "Construya una función `conteo_impar(n)` que retorne el número de impares que hay desde 1 hasta un número `n` que se le ingrese. Por tanto, algunos ejemplos son:\n",
    "\n",
    "> `conteo_impar(10) = 5`\n",
    "\n",
    "> `conteo_impar(25) = 13`\n",
    "\n",
    "> `conteo_impar(1) = 1`"
   ]
  },
  {
   "cell_type": "code",
   "execution_count": null,
   "id": "da65e782-3261-4c5f-b53a-ec9bf19114fe",
   "metadata": {},
   "outputs": [],
   "source": []
  },
  {
   "cell_type": "markdown",
   "id": "d64897e6-7600-4829-b206-280d03cd534e",
   "metadata": {},
   "source": [
    "# 3. Diccionario familiar"
   ]
  },
  {
   "cell_type": "markdown",
   "id": "72e96395-3f68-4616-b834-b89ff28419f1",
   "metadata": {},
   "source": [
    "Construya un diccionario con sus datos y dos familiares suyos en el que tenga, inicialmente, el nombre, el apellido y edad. Tenga en cuenta que las llaves deben ser \"nombre\", \"apellido\" y \"edad\"."
   ]
  },
  {
   "cell_type": "code",
   "execution_count": null,
   "id": "48ed5094-a45c-4bc4-b0cc-23046d54b8c6",
   "metadata": {},
   "outputs": [],
   "source": []
  },
  {
   "cell_type": "markdown",
   "id": "6b92dcab-a2b6-48d3-8a55-8198af6d9a2c",
   "metadata": {},
   "source": [
    "Ahora agréguele otra persona cualquiera de su familia, tal que quede con los datos guardados en el diccionario. En ese sentido, debe haber 4 personas ingresadas."
   ]
  },
  {
   "cell_type": "code",
   "execution_count": null,
   "id": "7179dabf-7918-40c7-9d7c-38173e5fc3cd",
   "metadata": {},
   "outputs": [],
   "source": []
  },
  {
   "cell_type": "markdown",
   "id": "7940f133-e88e-401f-bc63-6db583f5a75b",
   "metadata": {},
   "source": [
    "# 4. Juego de niños"
   ]
  },
  {
   "cell_type": "markdown",
   "id": "993c465f-7576-40aa-af8f-6c5e840747a3",
   "metadata": {},
   "source": [
    "Construya una función `pum(x, n)` que reciba un número `x` y un número `n`, tal que imprima todos los números de 1 hasta `n` pero imprima \"pum\" cuando el número sea múltiplo de `x`. Por ejemplo,\n",
    "\n",
    "> `pum(x = 3, n = 10) = 1, 2, pum, 4, 5, pum, 7, 8, pum, 10.`\n",
    "\n",
    "> `pum(x = 5, n = 16) = 1, 2, 3, 4, pum, 6, 7, 8, 9, pum, 11, 12, 13, 14, pum, 16.`\n"
   ]
  },
  {
   "cell_type": "code",
   "execution_count": null,
   "id": "be77b45b-c19f-4bbf-913d-d69cba50009d",
   "metadata": {},
   "outputs": [],
   "source": []
  }
 ],
 "metadata": {
  "kernelspec": {
   "display_name": "Python 3 (ipykernel)",
   "language": "python",
   "name": "python3"
  },
  "language_info": {
   "codemirror_mode": {
    "name": "ipython",
    "version": 3
   },
   "file_extension": ".py",
   "mimetype": "text/x-python",
   "name": "python",
   "nbconvert_exporter": "python",
   "pygments_lexer": "ipython3",
   "version": "3.10.5"
  }
 },
 "nbformat": 4,
 "nbformat_minor": 5
}
