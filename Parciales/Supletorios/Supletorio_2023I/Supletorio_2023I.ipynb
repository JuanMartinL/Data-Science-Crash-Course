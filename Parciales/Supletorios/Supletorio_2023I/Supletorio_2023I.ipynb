{
 "cells": [
  {
   "attachments": {},
   "cell_type": "markdown",
   "metadata": {},
   "source": [
    "# Supletorio Big Data\n",
    "\n",
    "&emsp; **Fundación Universitaria Los Libertadores**. <br>\n",
    "&emsp; **Asignatura:** Big Data. <br>\n",
    "&emsp; **Período:** 2023-I. <br>\n",
    "&emsp; **Profesor:** Juan Martín Londoño Zuluaga. <br>\n",
    "&emsp; **Estudiante:**"
   ]
  },
  {
   "attachments": {},
   "cell_type": "markdown",
   "metadata": {},
   "source": [
    "# Películas y Programas de TV de Netflix\n",
    "\n",
    "Los chismes vuelan: todo mundo ha oído que los estudiantes de Big Data de la FULL son los mejores analistas de datos. Por ello, le han contratado para realizar análisis de datos de películas y programas de TV de Netflix, cuya base de datos se encuentra en la siguiente [página web](https://www.kaggle.com/datasets/victorsoeiro/netflix-tv-shows-and-movies). Quienes le contrataron tienen las siguientes demandas y preguntas:"
   ]
  },
  {
   "attachments": {},
   "cell_type": "markdown",
   "metadata": {},
   "source": [
    "# 1. Importe de los datos (10 puntos)\n",
    "\n",
    "En primer lugar, le envían la base de datos llamada \"titles.csv\". Le piden que la cargue y les muestre las primeras 10 filas."
   ]
  },
  {
   "cell_type": "code",
   "execution_count": null,
   "metadata": {},
   "outputs": [],
   "source": []
  },
  {
   "attachments": {},
   "cell_type": "markdown",
   "metadata": {},
   "source": [
    "# 2. Calidad de los datos\n",
    "\n",
    "## 2.1. Valores perdidos\n",
    "\n",
    "Encuentre el número de valores perdidos (_missings_) como **porcentaje del total** de la base de datos por columna:"
   ]
  },
  {
   "cell_type": "code",
   "execution_count": null,
   "metadata": {},
   "outputs": [],
   "source": []
  },
  {
   "attachments": {},
   "cell_type": "markdown",
   "metadata": {},
   "source": [
    "## 2.2. Valores únicos\n",
    "\n",
    "Encuentre los valores únicos de cada columna en la base de datos:"
   ]
  },
  {
   "cell_type": "code",
   "execution_count": null,
   "metadata": {},
   "outputs": [],
   "source": []
  },
  {
   "attachments": {},
   "cell_type": "markdown",
   "metadata": {},
   "source": [
    "## 2.3. Los falsos valores únicos: `production_countries`\n",
    "\n",
    "Revise nuevamente la columna `production_countries`, ¿no le parece extraño que haya 449 países en el mundo? Según Wikipedia hay entre 193 y 211 países reconocidos. ¿Qué ocurre entonces? ¿Cómo se le ocurre resolverlo (no lo resuelva, solo cuente cómo)?"
   ]
  },
  {
   "cell_type": "code",
   "execution_count": null,
   "metadata": {},
   "outputs": [],
   "source": []
  },
  {
   "attachments": {},
   "cell_type": "markdown",
   "metadata": {},
   "source": [
    "# 3. Análisis univariado"
   ]
  },
  {
   "attachments": {},
   "cell_type": "markdown",
   "metadata": {},
   "source": [
    "Muestre en una gráfica la distribución de los puntajes de IMDB (`imbd_score`) **solamente** de las **series de televisión**."
   ]
  },
  {
   "cell_type": "code",
   "execution_count": null,
   "metadata": {},
   "outputs": [],
   "source": []
  },
  {
   "attachments": {},
   "cell_type": "markdown",
   "metadata": {},
   "source": [
    "**A partir de la anterior gráfica, responda la siguiente:**\n",
    "\n",
    "* ¿Entre qué rangos de puntaje se concentran los puntajes de los shows de televisión?"
   ]
  },
  {
   "attachments": {},
   "cell_type": "markdown",
   "metadata": {},
   "source": [
    "# 4. Análisis multivariado"
   ]
  },
  {
   "attachments": {},
   "cell_type": "markdown",
   "metadata": {},
   "source": [
    "Muestre, en una gráfica, la distribución **solamente** de las **películas** estrenadas por año."
   ]
  },
  {
   "cell_type": "code",
   "execution_count": null,
   "metadata": {},
   "outputs": [],
   "source": []
  },
  {
   "attachments": {},
   "cell_type": "markdown",
   "metadata": {},
   "source": [
    "**Responda a lo siguiente solamente con la gráfica:**\n",
    "\n",
    "* ¿En qué década se estrenaron más películas?"
   ]
  },
  {
   "attachments": {},
   "cell_type": "markdown",
   "metadata": {},
   "source": []
  }
 ],
 "metadata": {
  "kernelspec": {
   "display_name": "Python 3",
   "language": "python",
   "name": "python3"
  },
  "language_info": {
   "codemirror_mode": {
    "name": "ipython",
    "version": 3
   },
   "file_extension": ".py",
   "mimetype": "text/x-python",
   "name": "python",
   "nbconvert_exporter": "python",
   "pygments_lexer": "ipython3",
   "version": "3.10.5"
  },
  "orig_nbformat": 4
 },
 "nbformat": 4,
 "nbformat_minor": 2
}
