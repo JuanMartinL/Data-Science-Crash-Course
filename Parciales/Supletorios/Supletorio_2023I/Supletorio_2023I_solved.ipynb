{
 "cells": [
  {
   "attachments": {},
   "cell_type": "markdown",
   "metadata": {},
   "source": [
    "# Supletorio Big Data\n",
    "\n",
    "&emsp; **Fundación Universitaria Los Libertadores**. <br>\n",
    "&emsp; **Asignatura:** Big Data. <br>\n",
    "&emsp; **Período:** 2023-I. <br>\n",
    "&emsp; **Profesor:** Juan Martín Londoño Zuluaga. <br>\n",
    "&emsp; **Estudiante:**"
   ]
  },
  {
   "attachments": {},
   "cell_type": "markdown",
   "metadata": {},
   "source": [
    "# Películas y Programas de TV de Netflix\n",
    "\n",
    "Los chismes vuelan: todo mundo ha oído que los estudiantes de Big Data de la FULL son los mejores analistas de datos. Por ello, le han contratado para realizar análisis de datos de películas y programas de TV de Netflix, cuya base de datos se encuentra en la siguiente [página web](https://www.kaggle.com/datasets/victorsoeiro/netflix-tv-shows-and-movies). Quienes le contrataron tienen las siguientes demandas y preguntas:"
   ]
  },
  {
   "attachments": {},
   "cell_type": "markdown",
   "metadata": {},
   "source": [
    "# 1. Importe de los datos (10 puntos)\n",
    "\n",
    "En primer lugar, le envían la base de datos llamada \"titles.csv\". Le piden que la cargue y les muestre las primeras 10 filas."
   ]
  },
  {
   "cell_type": "code",
   "execution_count": 2,
   "metadata": {},
   "outputs": [
    {
     "data": {
      "text/html": [
       "<div>\n",
       "<style scoped>\n",
       "    .dataframe tbody tr th:only-of-type {\n",
       "        vertical-align: middle;\n",
       "    }\n",
       "\n",
       "    .dataframe tbody tr th {\n",
       "        vertical-align: top;\n",
       "    }\n",
       "\n",
       "    .dataframe thead th {\n",
       "        text-align: right;\n",
       "    }\n",
       "</style>\n",
       "<table border=\"1\" class=\"dataframe\">\n",
       "  <thead>\n",
       "    <tr style=\"text-align: right;\">\n",
       "      <th></th>\n",
       "      <th>id</th>\n",
       "      <th>title</th>\n",
       "      <th>type</th>\n",
       "      <th>description</th>\n",
       "      <th>release_year</th>\n",
       "      <th>age_certification</th>\n",
       "      <th>runtime</th>\n",
       "      <th>genres</th>\n",
       "      <th>production_countries</th>\n",
       "      <th>seasons</th>\n",
       "      <th>imdb_id</th>\n",
       "      <th>imdb_score</th>\n",
       "      <th>imdb_votes</th>\n",
       "      <th>tmdb_popularity</th>\n",
       "      <th>tmdb_score</th>\n",
       "    </tr>\n",
       "  </thead>\n",
       "  <tbody>\n",
       "    <tr>\n",
       "      <th>0</th>\n",
       "      <td>ts300399</td>\n",
       "      <td>Five Came Back: The Reference Films</td>\n",
       "      <td>SHOW</td>\n",
       "      <td>This collection includes 12 World War II-era p...</td>\n",
       "      <td>1945</td>\n",
       "      <td>TV-MA</td>\n",
       "      <td>48</td>\n",
       "      <td>['documentation']</td>\n",
       "      <td>['US']</td>\n",
       "      <td>1.0</td>\n",
       "      <td>NaN</td>\n",
       "      <td>NaN</td>\n",
       "      <td>NaN</td>\n",
       "      <td>0.600</td>\n",
       "      <td>NaN</td>\n",
       "    </tr>\n",
       "    <tr>\n",
       "      <th>1</th>\n",
       "      <td>tm84618</td>\n",
       "      <td>Taxi Driver</td>\n",
       "      <td>MOVIE</td>\n",
       "      <td>A mentally unstable Vietnam War veteran works ...</td>\n",
       "      <td>1976</td>\n",
       "      <td>R</td>\n",
       "      <td>113</td>\n",
       "      <td>['crime', 'drama']</td>\n",
       "      <td>['US']</td>\n",
       "      <td>NaN</td>\n",
       "      <td>tt0075314</td>\n",
       "      <td>8.3</td>\n",
       "      <td>795222.0</td>\n",
       "      <td>27.612</td>\n",
       "      <td>8.2</td>\n",
       "    </tr>\n",
       "  </tbody>\n",
       "</table>\n",
       "</div>"
      ],
      "text/plain": [
       "         id                                title   type  \\\n",
       "0  ts300399  Five Came Back: The Reference Films   SHOW   \n",
       "1   tm84618                          Taxi Driver  MOVIE   \n",
       "\n",
       "                                         description  release_year  \\\n",
       "0  This collection includes 12 World War II-era p...          1945   \n",
       "1  A mentally unstable Vietnam War veteran works ...          1976   \n",
       "\n",
       "  age_certification  runtime              genres production_countries  \\\n",
       "0             TV-MA       48   ['documentation']               ['US']   \n",
       "1                 R      113  ['crime', 'drama']               ['US']   \n",
       "\n",
       "   seasons    imdb_id  imdb_score  imdb_votes  tmdb_popularity  tmdb_score  \n",
       "0      1.0        NaN         NaN         NaN            0.600         NaN  \n",
       "1      NaN  tt0075314         8.3    795222.0           27.612         8.2  "
      ]
     },
     "execution_count": 2,
     "metadata": {},
     "output_type": "execute_result"
    }
   ],
   "source": [
    "import pandas as pd\n",
    "import numpy  as np\n",
    "\n",
    "# Cargando la base de datos\n",
    "data = pd.read_csv(\"titles.csv\")\n",
    "data.head(2)"
   ]
  },
  {
   "attachments": {},
   "cell_type": "markdown",
   "metadata": {},
   "source": [
    "# 2. Calidad de los datos\n",
    "\n",
    "## 2.1. Valores perdidos\n",
    "\n",
    "Encuentre el número de valores perdidos (_missings_) como **porcentaje del total** de la base de datos por columna:"
   ]
  },
  {
   "cell_type": "code",
   "execution_count": 3,
   "metadata": {},
   "outputs": [
    {
     "data": {
      "text/plain": [
       "id                      0.000000\n",
       "title                   0.000172\n",
       "type                    0.000000\n",
       "description             0.003100\n",
       "release_year            0.000000\n",
       "age_certification       0.449535\n",
       "runtime                 0.000000\n",
       "genres                  0.000000\n",
       "production_countries    0.000000\n",
       "seasons                 0.647434\n",
       "imdb_id                 0.076473\n",
       "imdb_score              0.090079\n",
       "imdb_votes              0.092835\n",
       "tmdb_popularity         0.016190\n",
       "tmdb_score              0.054771\n",
       "dtype: float64"
      ]
     },
     "execution_count": 3,
     "metadata": {},
     "output_type": "execute_result"
    }
   ],
   "source": [
    "# Suma de los valores perdidos por variable\n",
    "data.isnull().sum()/len(data)"
   ]
  },
  {
   "attachments": {},
   "cell_type": "markdown",
   "metadata": {},
   "source": [
    "## 2.2. Valores únicos\n",
    "\n",
    "Encuentre los valores únicos de cada columna en la base de datos:"
   ]
  },
  {
   "cell_type": "code",
   "execution_count": 4,
   "metadata": {},
   "outputs": [
    {
     "data": {
      "text/plain": [
       "id                      5806\n",
       "title                   5751\n",
       "type                       2\n",
       "description             5785\n",
       "release_year              67\n",
       "age_certification         11\n",
       "runtime                  205\n",
       "genres                  1626\n",
       "production_countries     449\n",
       "seasons                   23\n",
       "imdb_id                 5362\n",
       "imdb_score                81\n",
       "imdb_votes              3831\n",
       "tmdb_popularity         4943\n",
       "tmdb_score                78\n",
       "dtype: int64"
      ]
     },
     "execution_count": 4,
     "metadata": {},
     "output_type": "execute_result"
    }
   ],
   "source": [
    "data.nunique()"
   ]
  },
  {
   "attachments": {},
   "cell_type": "markdown",
   "metadata": {},
   "source": [
    "## 2.3. Los falsos valores únicos: `production_countries`\n",
    "\n",
    "Revise nuevamente la columna `production_countries`, ¿no le parece extraño que haya 449 países en el mundo? Según Wikipedia hay entre 193 y 211 países reconocidos. ¿Qué ocurre entonces? ¿Cómo se le ocurre resolverlo (no lo resuelva, solo cuente cómo)?"
   ]
  },
  {
   "cell_type": "code",
   "execution_count": 5,
   "metadata": {},
   "outputs": [
    {
     "data": {
      "text/plain": [
       "array([\"['US']\", \"['GB']\", \"['US', 'GB']\", \"['JP']\", \"['EG']\", \"['DE']\",\n",
       "       \"['IN']\", '[]', \"['DZ', 'EG']\", \"['LB']\", \"['FR', 'LB', 'CA']\",\n",
       "       \"['IN', 'SU']\", \"['US', 'IT']\", \"['HK', 'US']\", \"['GB', 'US']\",\n",
       "       \"['AR']\", \"['KW']\", \"['EG', 'FR']\", \"['FR', 'LB']\", \"['US', 'JP']\",\n",
       "       \"['US', 'CA']\", \"['DE', 'US']\", \"['US', 'DE']\", \"['CA', 'US']\",\n",
       "       \"['US', 'FR']\", \"['PE', 'US', 'BR']\", \"['IT', 'US', 'FR']\",\n",
       "       \"['US', 'HK']\", \"['FR', 'IE', 'GB', 'DE']\",\n",
       "       \"['GH', 'GB', 'US', 'BF', 'DE']\", \"['AR', 'ES']\", \"['FR']\",\n",
       "       \"['MX']\", \"['AU']\", \"['CO']\", \"['BE', 'FR', 'NO', 'LB']\",\n",
       "       \"['IT', 'LB', 'BE', 'FR']\", \"['US', 'FR', 'DE', 'PS']\", \"['TR']\",\n",
       "       \"['CA']\", \"['GB', 'US', 'BS', 'CZ', 'DE']\", \"['GB', 'US', 'AU']\",\n",
       "       \"['DE', 'ES', 'US', 'FR']\", \"['GB', 'US', 'AU', 'DE']\",\n",
       "       \"['JP', 'US']\", \"['US', 'IS', 'GB']\", \"['DK']\",\n",
       "       \"['NZ', 'JP', 'US']\", \"['US', 'CA', 'FR']\", \"['GB', 'US', 'DE']\",\n",
       "       \"['US', 'DE', 'IT', 'GB']\", \"['CA', 'DE', 'US']\", \"['HK', 'CN']\",\n",
       "       \"['IT', 'US']\", \"['FR', 'JP', 'US']\", \"['US', 'BE']\", \"['KR']\",\n",
       "       \"['IT']\", \"['BG', 'GB', 'US']\", \"['US', 'AU']\", \"['ES', 'GB']\",\n",
       "       \"['GB', 'US', 'JP']\", \"['CN', 'HK']\", \"['RU']\", \"['CN']\", \"['SG']\",\n",
       "       \"['GB', 'US', 'CA']\", \"['HK', 'JP']\", \"['CA', 'GB', 'US']\",\n",
       "       \"['ES', 'FR', 'MX']\", \"['IN', 'CA', 'US']\",\n",
       "       \"['PS', 'FR', 'MA', 'DE']\", \"['HK']\", \"['DE', 'UY', 'ES', 'AR']\",\n",
       "       \"['ES', 'AR']\", \"['US', 'IN']\", \"['TW']\", \"['IN', 'US']\", \"['MY']\",\n",
       "       \"['ES', 'CH', 'PS', 'BE', 'FR']\", \"['CL', 'AR']\",\n",
       "       \"['DE', 'KW', 'PS', 'FR']\", \"['CL']\", \"['NG']\", \"['PS']\",\n",
       "       \"['GB', 'FR', 'LB']\", \"['ZA']\", \"['SA']\",\n",
       "       \"['NG', 'GB', 'US', 'AT', 'FR', 'DE']\", \"['LB', 'FR']\",\n",
       "       \"['GB', 'DK', 'NL', 'SE', 'CZ']\", \"['PH']\", \"['Lebanon']\",\n",
       "       \"['TH', 'IN']\", \"['NG', 'US']\", \"['XX']\", \"['US', 'ES']\",\n",
       "       \"['NO', 'SE', 'US']\", \"['US', 'AE']\", \"['CA', 'HU', 'US']\",\n",
       "       \"['DK', 'US']\", \"['NO']\", \"['GB', 'FR', 'DE']\",\n",
       "       \"['US', 'HU', 'IT']\", \"['US', 'ZA', 'DE']\", \"['DE', 'IN']\",\n",
       "       \"['GB', 'NG']\", \"['AE', 'US', 'LB']\", \"['ID']\",\n",
       "       \"['NL', 'US', 'AE', 'PS']\", \"['FR', 'GB', 'US']\",\n",
       "       \"['US', 'DE', 'GB']\", \"['CA', 'CL', 'US']\", \"['IL']\",\n",
       "       \"['AU', 'US']\", \"['US', 'GB', 'CN', 'CA']\", \"['ES']\",\n",
       "       \"['GB', 'AU', 'CH']\", \"['FR', 'US']\", \"['US', 'GB', 'CA']\",\n",
       "       \"['CA', 'KR']\", \"['CA', 'FR']\", \"['AT']\", \"['US', 'DK']\",\n",
       "       \"['US', 'BR']\", \"['FI']\", \"['GB', 'US', 'EG']\", \"['RO']\",\n",
       "       \"['CD', 'GB']\", \"['BR']\", \"['US', 'CA', 'JP']\", \"['PL']\",\n",
       "       \"['VE', 'AR']\", \"['IL', 'NO', 'ZA', 'AE', 'GB', 'IS', 'IE']\",\n",
       "       \"['UA', 'US', 'CN', 'DE', 'SG']\", \"['AE', 'LB']\",\n",
       "       \"['IT', 'PS', 'FR', 'DE']\", \"['NZ']\", \"['UA']\", \"['BE', 'FR']\",\n",
       "       \"['US', 'CN']\", \"['US', 'FR', 'GB']\", \"['GB', 'IT']\",\n",
       "       \"['MX', 'ZA', 'US']\", \"['ES', 'US', 'GB']\",\n",
       "       \"['GB', 'IR', 'JO', 'QA']\", \"['DE', 'GB', 'US', 'BE', 'DK']\",\n",
       "       \"['UA', 'GB', 'US']\", \"['US', 'FR', 'LU', 'GB']\", \"['US', 'CH']\",\n",
       "       \"['US', 'GH']\", \"['IE', 'ZA']\", \"['CA', 'DE', 'GB']\",\n",
       "       \"['GB', 'IE']\", \"['US', 'CA', 'GB']\", \"['IS']\", \"['FR', 'GB']\",\n",
       "       \"['SE', 'CA', 'FI', 'FR', 'DE']\", \"['BG']\", \"['BY']\",\n",
       "       \"['MA', 'US']\", \"['IE']\", \"['CA', 'CN', 'FR']\",\n",
       "       \"['DE', 'AU', 'FR']\", \"['SK', 'CZ']\", \"['QA', 'FR']\",\n",
       "       \"['QA', 'PS', 'AE', 'FR', 'JO', 'LB']\", \"['MA', 'FR']\", \"['NL']\",\n",
       "       \"['SE']\", \"['HR']\", \"['ES', 'FR']\", \"['SE', 'US']\", \"['FR', 'BE']\",\n",
       "       \"['SY', 'GB']\", \"['NO', 'SE']\", \"['GL', 'FR']\", \"['US', 'AT']\",\n",
       "       \"['AE']\", \"['CD']\", \"['FR', 'PT', 'SE', 'DK', 'BR']\",\n",
       "       \"['ES', 'DK']\", \"['AU', 'GB']\", \"['AU', 'US', 'GB']\",\n",
       "       \"['LB', 'QA']\", \"['FR', 'DE', 'PS']\", \"['PK']\", \"['GB', 'IN']\",\n",
       "       \"['JP', 'US', 'CA']\", \"['CL', 'FR']\", \"['CZ']\", \"['VN']\",\n",
       "       \"['GB', 'NL']\", \"['CA', 'NG']\", \"['FR', 'RU', 'US']\",\n",
       "       \"['CA', 'HU', 'MX', 'ES', 'GB', 'US']\", \"['US', 'FR', 'NL', 'GB']\",\n",
       "       \"['CA', 'US', 'CN']\", \"['GB', 'CA']\", \"['FR', 'CA']\",\n",
       "       \"['KR', 'US']\", \"['MX', 'US']\", \"['BE', 'FR', 'GB']\",\n",
       "       \"['IN', 'CN', 'US', 'GB']\", \"['BE', 'FR', 'US']\",\n",
       "       \"['GB', 'US', 'CZ']\", \"['IT', 'ES', 'FR']\", \"['GB', 'US', 'FR']\",\n",
       "       \"['PR', 'US', 'GB', 'CN']\", \"['SG', 'US', 'GB', 'ID', 'CA', 'CN']\",\n",
       "       \"['GB', 'US', 'SG']\", \"['GB', 'DE']\", \"['HK', 'IS', 'US']\",\n",
       "       \"['IT', 'CH', 'FR']\", \"['US', 'FR', 'IR']\", \"['NO', 'US', 'IS']\",\n",
       "       \"['IQ', 'GB']\", \"['BE']\", \"['HU']\", \"['DE', 'CA', 'US']\",\n",
       "       \"['IE', 'CA']\", \"['PR']\", \"['BG', 'US']\", \"['KH', 'US']\",\n",
       "       \"['US', 'GB', 'ES']\", \"['CN', 'US', 'ES']\", \"['FR', 'GE', 'DE']\",\n",
       "       \"['GB', 'US', 'DK']\", \"['TH']\", \"['NL', 'BE']\",\n",
       "       \"['CN', 'US', 'CA']\", \"['IL', 'MA', 'US', 'BG', 'GB']\",\n",
       "       \"['FR', 'LU', 'US']\", \"['JP', 'FR']\", \"['BE', 'FR', 'IT']\",\n",
       "       \"['TR', 'US']\", \"['ES', 'IT']\", \"['BR', 'CA']\", \"['CA', 'CN']\",\n",
       "       \"['ES', 'US']\", \"['CU', 'US']\", \"['ZA', 'GB']\", \"['CA', 'GB']\",\n",
       "       \"['US', 'PL']\", \"['ES', 'DE']\", \"['CA', 'US', 'IE']\",\n",
       "       \"['IS', 'SE', 'BE']\", \"['CH', 'DE']\", \"['CN', 'JP']\",\n",
       "       \"['US', 'MX']\", \"['DK', 'NL', 'NO', 'SE']\", \"['NZ', 'GB', 'DE']\",\n",
       "       \"['AR', 'ES', 'UY']\", \"['LU', 'CA', 'FR']\", \"['KE']\",\n",
       "       \"['KR', 'FR', 'JP']\", \"['MX', 'ES']\", \"['US', 'DE', 'ZA']\",\n",
       "       \"['GB', 'IS']\", \"['FR', 'IN']\", \"['IT', 'CH', 'VA', 'FR', 'DE']\",\n",
       "       \"['DE', 'NO', 'PE']\", \"['US', 'NG']\", \"['SG', 'PH']\",\n",
       "       \"['DE', 'IT']\", \"['NL', 'US']\", \"['RU', 'RS', 'PL']\",\n",
       "       \"['FR', 'IT']\", \"['AE', 'SA', 'SY']\", \"['GB', 'DE', 'DK', 'NL']\",\n",
       "       \"['GB', 'US', 'IL', 'IT', 'PE']\", \"['FR', 'ES']\",\n",
       "       \"['PL', 'CH', 'AL', 'IT']\", \"['PE']\", \"['SG', 'ID', 'MY']\",\n",
       "       \"['KH']\", \"['IN', 'MX']\", \"['FR', 'AR']\", \"['CZ', 'US']\",\n",
       "       \"['BE', 'GB', 'US']\", \"['TZ']\", \"['QA', 'TN', 'BE', 'FR']\",\n",
       "       \"['MX', 'FI']\", \"['AR', 'BR', 'DK', 'FR', 'DE', 'PL']\",\n",
       "       \"['TW', 'US', 'CN', 'FR']\", \"['GE']\", \"['CL', 'NL', 'FR']\",\n",
       "       \"['BE', 'ES']\", \"['NL', 'MX']\", \"['CA', 'ZA', 'US']\", \"['ZW']\",\n",
       "       \"['AT', 'IQ', 'US']\", \"['PY']\", \"['IT', 'AR']\", \"['AR', 'US']\",\n",
       "       \"['FR', 'IN', 'SG']\", \"['FR', 'PS', 'CH', 'QA']\",\n",
       "       \"['NL', 'JO', 'DE']\", \"['TW', 'US']\", \"['MX', 'AR']\", \"['GH']\",\n",
       "       \"['AR', 'IT']\", \"['MX', 'CO']\", \"['LB', 'PS']\", \"['IN', 'NP']\",\n",
       "       \"['CA', 'JP', 'US']\", \"['DK', 'GR', 'GB']\", \"['CM']\",\n",
       "       \"['CL', 'MX', 'US']\", \"['IN', 'BD']\", \"['NO', 'NG']\", \"['CH']\",\n",
       "       \"['KG']\", \"['ZA', 'CA']\", \"['US', 'CN', 'AU']\", \"['BD']\",\n",
       "       \"['JP', 'GB']\", \"['LT', 'NL', 'BE']\", \"['CA', 'CN', 'US']\",\n",
       "       \"['US', 'BG']\", \"['US', 'FR', 'IE']\", \"['HU', 'US', 'CA']\",\n",
       "       \"['US', 'CY']\", \"['FR', 'LT', 'GB']\", \"['CN', 'US']\",\n",
       "       \"['GB', 'FR']\", \"['SN', 'BE', 'FR']\", \"['BE', 'SE', 'GB']\",\n",
       "       \"['MW', 'GB', 'US']\", \"['US', 'IL']\", \"['PT', 'US']\",\n",
       "       \"['IE', 'GB']\", \"['FR', 'ES', 'US', 'CA']\",\n",
       "       \"['US', 'FR', 'SE', 'GB', 'DE', 'DK', 'CA']\", \"['TH', 'US']\",\n",
       "       \"['LU']\", \"['CZ', 'FR', 'GB']\", \"['NO', 'FI']\",\n",
       "       \"['US', 'CN', 'TH']\", \"['GB', 'US', 'CN']\", \"['CH', 'US']\",\n",
       "       \"['BR', 'FR', 'ES', 'BE']\", \"['DE', 'AT']\", \"['IN', 'GB']\",\n",
       "       \"['BR', 'MX']\", \"['AR', 'ES', 'FR']\", \"['US', 'AL', 'JO', 'TH']\",\n",
       "       \"['IL', 'US', 'FR', 'DE']\", \"['IT', 'GB']\", \"['IO']\",\n",
       "       \"['CN', 'DE', 'GB']\", \"['UA', 'GB', 'US', 'NL', 'PL']\", \"['MU']\",\n",
       "       \"['DE', 'ES']\", \"['BE', 'KH', 'FR', 'LU']\", \"['JO']\",\n",
       "       \"['PS', 'QA']\", \"['ES', 'BE', 'DE']\", \"['RS', 'UY', 'AR']\",\n",
       "       \"['FR', 'US', 'JP']\", \"['SG', 'FR', 'NL']\", \"['JP', 'US', 'CN']\",\n",
       "       \"['ES', 'MX']\", \"['PE', 'AR']\", \"['ES', 'PT']\", \"['AT', 'DE']\",\n",
       "       \"['US', 'AR']\", \"['MY', 'TW']\", \"['DE', 'NO']\", \"['PH', 'US']\",\n",
       "       \"['ES', 'CO']\", \"['FR', 'ES', 'US']\", \"['AR', 'CA', 'CL']\",\n",
       "       \"['EG', 'US']\", \"['ES', 'US', 'BE']\", \"['CN', 'ES']\",\n",
       "       \"['FR', 'JP', 'GB', 'US', 'CA']\", \"['MX', 'CO', 'FR']\",\n",
       "       \"['US', 'SE']\", \"['FR', 'BR']\", \"['CA', 'LK']\",\n",
       "       \"['FR', 'QA', 'MA']\", \"['IE', 'US']\", \"['UY']\", \"['AO', 'ZA']\",\n",
       "       \"['DE', 'IN', 'AT']\", \"['GT', 'UY']\", \"['AR', 'CO']\",\n",
       "       \"['QA', 'SY', 'FR', 'LB']\", \"['SN']\", \"['MZ']\",\n",
       "       \"['DK', 'EG', 'DE']\", \"['SG', 'MY']\", \"['US', 'NL', 'CA', 'LB']\",\n",
       "       \"['JP', 'US', 'FR']\", \"['AF', 'DE', 'PS']\", \"['FR', 'IN', 'QA']\",\n",
       "       \"['PS', 'DK', 'LB']\", \"['US', 'GB', 'DE']\", \"['UY', 'MX', 'ES']\",\n",
       "       \"['HK', 'PH']\", \"['CA', 'NO']\", \"['CN', 'TW']\", \"['EG', 'SA']\",\n",
       "       \"['LB', 'GB', 'DK']\", \"['NL', 'PS', 'US', 'LB']\", \"['NA']\",\n",
       "       \"['PH', 'JP']\", \"['CA', 'GR', 'NZ', 'GB', 'AU']\",\n",
       "       \"['GB', 'US', 'GR']\", \"['US', 'AT', 'GB']\", \"['DK', 'IS']\",\n",
       "       \"['DE', 'GB', 'US']\", \"['FR', 'DE', 'US']\", \"['JP', 'TH', 'US']\",\n",
       "       \"['GB', 'SE']\", \"['RO', 'US']\", \"['PL', 'KR', 'US']\",\n",
       "       \"['QA', 'MX', 'US', 'CH', 'AR', 'BR', 'DE']\", \"['CA', 'IE', 'US']\",\n",
       "       \"['FR', 'LU']\", \"['PT']\", \"['US', 'NL']\", \"['IN', 'SG', 'US']\",\n",
       "       \"['BR', 'IT']\", \"['HU', 'NL', 'CH', 'GB']\", \"['CL', 'PE']\",\n",
       "       \"['PE', 'ES']\", \"['BR', 'US']\", \"['BE', 'GB', 'DE']\",\n",
       "       \"['US', 'CA', 'CN']\", \"['ZA', 'US']\", \"['US', 'ZA', 'GB']\",\n",
       "       \"['AF']\", \"['NZ', 'HK']\", \"['SG', 'US']\", \"['CZ', 'DE']\",\n",
       "       \"['BE', 'LU']\", \"['CA', 'ZA']\", \"['RO', 'SE']\", \"['RU', 'US']\",\n",
       "       \"['CN', 'GB']\", \"['DE', 'FR']\", \"['HU', 'CA']\", \"['IL', 'US']\",\n",
       "       \"['BE', 'DE']\", \"['PH', 'FO']\", \"['TZ', 'GB']\", \"['NG', 'CA']\"],\n",
       "      dtype=object)"
      ]
     },
     "execution_count": 5,
     "metadata": {},
     "output_type": "execute_result"
    }
   ],
   "source": [
    "data.production_countries.unique()"
   ]
  },
  {
   "attachments": {},
   "cell_type": "markdown",
   "metadata": {},
   "source": [
    "# 3. Análisis univariado"
   ]
  },
  {
   "attachments": {},
   "cell_type": "markdown",
   "metadata": {},
   "source": [
    "Muestre en una gráfica la distribución de los puntajes de IMDB (`imbd_score`) **solamente** de las **series de televisión**."
   ]
  },
  {
   "cell_type": "code",
   "execution_count": 24,
   "metadata": {},
   "outputs": [
    {
     "data": {
      "image/png": "[encoded data removed]",
      "text/plain": [
       "<Figure size 1200x560 with 1 Axes>"
      ]
     },
     "metadata": {
      "needs_background": "light"
     },
     "output_type": "display_data"
    }
   ],
   "source": [
    "# Importing libraries\n",
    "import matplotlib.pyplot as plt\n",
    "\n",
    "# Generating the dataframe\n",
    "df_temp = data[[\"imdb_score\", \"type\"]][data.type == \"SHOW\"].groupby(\"imdb_score\").count().reset_index()\n",
    "\n",
    "# Plotting\n",
    "plt.figure(figsize = (15, 7), dpi = 80)\n",
    "plt.bar(df_temp.imdb_score, df_temp.type)\n",
    "plt.xlabel(\"Puntaje\");plt.ylabel(\"Número de notas periodísticas\")\n",
    "plt.title(\"Puntaje de las series de tiempo\")\n",
    "plt.show()"
   ]
  },
  {
   "attachments": {},
   "cell_type": "markdown",
   "metadata": {},
   "source": [
    "**A partir de la anterior gráfica, responda la siguiente:**\n",
    "\n",
    "* ¿Entre qué rangos de puntaje se concentran los puntajes de los shows de televisión?"
   ]
  },
  {
   "attachments": {},
   "cell_type": "markdown",
   "metadata": {},
   "source": [
    "# 4. Análisis multivariado"
   ]
  },
  {
   "attachments": {},
   "cell_type": "markdown",
   "metadata": {},
   "source": [
    "Muestre, en una gráfica, la distribución **solamente** de las **películas** estrenadas por año."
   ]
  },
  {
   "cell_type": "code",
   "execution_count": 22,
   "metadata": {},
   "outputs": [
    {
     "data": {
      "image/png": "[encoded data removed]",
      "text/plain": [
       "<Figure size 1200x560 with 1 Axes>"
      ]
     },
     "metadata": {
      "needs_background": "light"
     },
     "output_type": "display_data"
    }
   ],
   "source": [
    "# Importing libraries\n",
    "import matplotlib.pyplot as plt\n",
    "\n",
    "# Generating the dataframe\n",
    "df_temp = data[[\"type\", \"id\", \"release_year\"]][(data.type == \"MOVIE\")].groupby(\"release_year\").count().reset_index()\n",
    "\n",
    "# Plotting\n",
    "plt.figure(figsize = (15, 7), dpi = 80)\n",
    "plt.plot(\"release_year\", \"id\", data = df_temp)\n",
    "plt.xlabel(\"Puntaje\");plt.ylabel(\"Número de notas periodísticas\")\n",
    "plt.title(\"Número de fechas periodísticas en el tiempo\")\n",
    "plt.show()"
   ]
  },
  {
   "attachments": {},
   "cell_type": "markdown",
   "metadata": {},
   "source": [
    "**Responda a lo siguiente solamente con la gráfica:**\n",
    "\n",
    "* ¿En qué década se estrenaron más películas?"
   ]
  }
 ],
 "metadata": {
  "kernelspec": {
   "display_name": "Python 3",
   "language": "python",
   "name": "python3"
  },
  "language_info": {
   "codemirror_mode": {
    "name": "ipython",
    "version": 3
   },
   "file_extension": ".py",
   "mimetype": "text/x-python",
   "name": "python",
   "nbconvert_exporter": "python",
   "pygments_lexer": "ipython3",
   "version": "3.10.5"
  },
  "orig_nbformat": 4
 },
 "nbformat": 4,
 "nbformat_minor": 2
}
