{
 "cells": [
  {
   "attachments": {},
   "cell_type": "markdown",
   "metadata": {},
   "source": [
    "# Clase 2: Introducción a Python"
   ]
  },
  {
   "attachments": {},
   "cell_type": "markdown",
   "metadata": {},
   "source": [
    "Python es un lenguaje de programación de alto nivel, intérprete y de propósito general. Creado a los finales de los 80's por Guido von Rossum,soporta múltiples paradigmas de programación, incluyendo programación estructurada, orientada a objetos y orientada a eventos.\n",
    "\n",
    "La filosofía de Python está resumida en el texto The [Zen of Python](https://peps.python.org/pep-0020/) (PEP 20), el cual incluye:\n",
    "\n",
    "* Lo bello es mejor que lo feo.\n",
    "* Lo explícito es mejor que lo implícito.\n",
    "* Lo simple es mejor que lo complejo.\n",
    "* Lo complejo es mejor que lo complicado.\n",
    "* La facilidad de lectura cuenta.\n",
    "\n",
    "En resumen, Python se centra en una sintáxis y gramática fácil de entender y simple, a la vez que le da la oportunidad a los programadores más expertos de crear su propia metodología por medio de módulos (o paquetes).\n",
    "\n",
    "> **Dato curioso:** el nombre de este lenguaje de programación surge a partir del programa de Monthy Python, no del animal.\n",
    "\n",
    "Cabe explicar también los siguientes términos sobre Python:\n",
    "\n",
    "* **Es un lenguaje de alto nivel:** implica que hay alta abstracción de los detalles del computador. Los lenguajes de bajo nivel son aquellos que incluso utilizan elementos del lenguaje natural, lo que los hace más \"sencillos\" de entender, como Stata.\n",
    "* **Es un lenguaje interpretado:** implica que no hay compilación del código. Simplemente se corre directamente.\n",
    "* **Es un lenguaje de propósito general:** implica que puede utilizarse para un amplio rango de objetivos, tales como programación de juegos, análisis estadísticos, entre otros.\n",
    "\n",
    "Ahora debemos aprender un poco sobre cómo utilizar y programar Python. Vamos paso a paso.\n",
    "\n",
    "No obstante, primero vamos a cumplir con la tradición de iniciación de programación: en la siguiente celda impriman \"Hello, world!\" con el método `´print()`:"
   ]
  },
  {
   "cell_type": "code",
   "execution_count": null,
   "metadata": {},
   "outputs": [],
   "source": []
  },
  {
   "attachments": {},
   "cell_type": "markdown",
   "metadata": {},
   "source": [
    "# 1. Algoritmos"
   ]
  },
  {
   "attachments": {},
   "cell_type": "markdown",
   "metadata": {},
   "source": [
    "Los algoritmos son un \"Conjunto ordenado de operaciones sistemáticas que permite hacer un cálculo o hallar la solución de un tipo de problemas.\" (Oxford Languages, 2023). En otras palabras, **los algoritmos son un paso a paso para solucionar un problema**.\n",
    "\n",
    "Los algoritmos son fundamentales para la programación, ya que son la guía de procedimientos necesarios para alcanzar lo que queremos hacer. Se puede aplicar a cualquier elemento de la vida. Por ejemplo, el algoritmo para lavarse los dientes puede resumirse en:\n",
    "\n",
    "1. Tomar el cepillo de dientes.\n",
    "2. Aplicarle crema de dientes\n",
    "3. Mojar un poco el cepillo y crema de dientes.\n",
    "4. Repetidamente mover el cepillo arriba y abajo, moviéndose por los diferentes dientes.\n",
    "5. Escupir los restos de crema de dientes.\n",
    "6. Enjuagarse con agua.\n",
    "\n",
    "Esto es un ejemplo básico, pero se puede aplicar a problemas más complejos. Por ejemplo, ¿cuál es el algoritmo para separar los números del 1 al 10 entre pares e impares? Un ejemplo básico puede ser el siguiente:\n",
    "\n",
    "1. Tomar el primer número.\n",
    "2. Dividir el número entre 2.\n",
    "3. Comprobar si el residuo es igual a 0.\n",
    "4. Si es igual a 0, el número es par. Si no, es impar.\n",
    "\n",
    "Como se puede observar, no hemos tomado ningún código para solucionar este problema. Lo hemos realizado solamente con texto. A esto se conoce **pseudocódigo** y permite construir algoritmos antes de programar.\n",
    "\n",
    "No obstante, es un error común en programación pensar primero en el código y después en el algoritmo. Esto limita nuestra creatividad, ya que es pensar en la solución a partir de las herramientas que tenemos. Las opciones se limitan a lo que tenemos, no a lo que podemos crear. En realidad, **es preferible pensar primero en el algoritmo y después en el código**. En otras palabras, si pensamos cómo encontrar la solución, buscaremos las herramientas adecuadas para solucionarlo. La creatividad surge a partir de la consideración de la mejor solución."
   ]
  },
  {
   "attachments": {},
   "cell_type": "markdown",
   "metadata": {},
   "source": [
    "# 2. Aritmética Básica"
   ]
  },
  {
   "attachments": {},
   "cell_type": "markdown",
   "metadata": {},
   "source": [
    "## 2.1. Operaciones básicas"
   ]
  },
  {
   "attachments": {},
   "cell_type": "markdown",
   "metadata": {},
   "source": [
    "Las operaciones básicas en Python son muy intuitivas. Solamente se utilizan los operadores que normalmente conocemos: suma (`+`), resta (`-`), multiplicación (`*`), división (`/`). A continuación veremos algunos ejemplos:"
   ]
  },
  {
   "cell_type": "code",
   "execution_count": 3,
   "metadata": {},
   "outputs": [
    {
     "data": {
      "text/plain": [
       "2"
      ]
     },
     "execution_count": 3,
     "metadata": {},
     "output_type": "execute_result"
    }
   ],
   "source": [
    "# Suma\n",
    "1 + 1"
   ]
  },
  {
   "cell_type": "code",
   "execution_count": 4,
   "metadata": {},
   "outputs": [
    {
     "data": {
      "text/plain": [
       "25"
      ]
     },
     "execution_count": 4,
     "metadata": {},
     "output_type": "execute_result"
    }
   ],
   "source": [
    "# Resta\n",
    "50 - 25"
   ]
  },
  {
   "cell_type": "code",
   "execution_count": 5,
   "metadata": {},
   "outputs": [
    {
     "data": {
      "text/plain": [
       "36"
      ]
     },
     "execution_count": 5,
     "metadata": {},
     "output_type": "execute_result"
    }
   ],
   "source": [
    "# Multiplicación\n",
    "6*6"
   ]
  },
  {
   "cell_type": "code",
   "execution_count": 6,
   "metadata": {},
   "outputs": [
    {
     "data": {
      "text/plain": [
       "5.0"
      ]
     },
     "execution_count": 6,
     "metadata": {},
     "output_type": "execute_result"
    }
   ],
   "source": [
    "# División\n",
    "125/25"
   ]
  },
  {
   "attachments": {},
   "cell_type": "markdown",
   "metadata": {},
   "source": [
    "Las operaciones básicas como la potencia y la raíz cuadrada no son tan intuitivas, cuyos operadores en Python son (`**`). Exploremos algunos ejemplos:"
   ]
  },
  {
   "cell_type": "code",
   "execution_count": 7,
   "metadata": {},
   "outputs": [
    {
     "name": "stdout",
     "output_type": "stream",
     "text": [
      "36\n",
      "7.0\n"
     ]
    }
   ],
   "source": [
    "# Potencia\n",
    "print(6**2)\n",
    "\n",
    "# Raíz cuadrada\n",
    "print(49**(1/2))"
   ]
  },
  {
   "attachments": {},
   "cell_type": "markdown",
   "metadata": {},
   "source": [
    "Se puede utilizar también algunos métodos o funciones, los cuales deben llamarse por su nombre y, por lo general, escribiendo los parámetros entre paréntesis (\"`()`\"). En este caso, vamos a utilizar la función `pow()`:"
   ]
  },
  {
   "cell_type": "code",
   "execution_count": 8,
   "metadata": {},
   "outputs": [
    {
     "name": "stdout",
     "output_type": "stream",
     "text": [
      "36\n",
      "7.0\n"
     ]
    }
   ],
   "source": [
    "# Potencia\n",
    "print(pow(6, 2))\n",
    "\n",
    "# Raíz cuadrada\n",
    "print(pow(49, (1/2)))"
   ]
  },
  {
   "attachments": {},
   "cell_type": "markdown",
   "metadata": {},
   "source": [
    "También se pueden utilizar **paquetes** o **librerías** (de las cuales hablaremos en el transcurso del curso) que tienen funciones específicas. Las **librerías** son códigos que alguien más ha escrito con funciones que son útiles. Estos se ofrecen a otros usuarios y tienen procesos internos que facilitan lo que necesitamos hacer.\n",
    "\n",
    "Para utilizar una función de una librería en específico, se tiene la siguiente estructura básica:\n",
    "\n",
    "> `<paquete>.<funcion>(<parámetros>)`\n",
    "\n",
    "Como ejemplo, utilizaremos la librería `math`, la cual tiene el comando `sqrt()` para calcular la raíz cuadrada:"
   ]
  },
  {
   "cell_type": "code",
   "execution_count": 9,
   "metadata": {},
   "outputs": [
    {
     "data": {
      "text/plain": [
       "2.0"
      ]
     },
     "execution_count": 9,
     "metadata": {},
     "output_type": "execute_result"
    }
   ],
   "source": [
    "# Se importa la librería math\n",
    "import math\n",
    "\n",
    "# Raíz cuadrada\n",
    "math.sqrt(4)"
   ]
  },
  {
   "attachments": {},
   "cell_type": "markdown",
   "metadata": {},
   "source": [
    "> **Nota:** en Python se puede hacer uso de las librerías llamando la librería seguida de la función que se necesita, separado por un punto, como se ve en el ejemplo. Más adelante profundizaremos más."
   ]
  },
  {
   "attachments": {},
   "cell_type": "markdown",
   "metadata": {},
   "source": [
    "## 2.2. Operador módulo"
   ]
  },
  {
   "attachments": {},
   "cell_type": "markdown",
   "metadata": {},
   "source": [
    "En la aritmética, existe un operador que sirve en ocasiones para algunos algoritmos: el operador modular. El operador modular (`%`) obtiene el residuo de una división. Por tanto, podríamos ver el siguiente ejemplo:\n",
    "\n",
    "$$13 \\% 4 = 1 \\:\\: \\neq \\:\\: 13/4  \\simeq 3 $$\n",
    "\n",
    "Es decir, 13 dividido 4 tiene como cociente 3 y residuo 1. A esto se le llama **aritmética modular**, cuyas aplicaciones son importantes en la programación, incluyendo la criptografía.\n",
    "\n",
    "Apliquemos esto en código:"
   ]
  },
  {
   "cell_type": "code",
   "execution_count": 10,
   "metadata": {},
   "outputs": [
    {
     "data": {
      "text/plain": [
       "1"
      ]
     },
     "execution_count": 10,
     "metadata": {},
     "output_type": "execute_result"
    }
   ],
   "source": [
    "# Operador módulo\n",
    "13%4"
   ]
  },
  {
   "attachments": {},
   "cell_type": "markdown",
   "metadata": {},
   "source": [
    "-----------------------------------------------------------------\n",
    "\n",
    "### Ejercicios:\n",
    "\n",
    "1. Calcule la siguiente fórmula:\n",
    "\n",
    "$$[ ( 12^2 )*( 1/3 )+52 ]^{1/2}$$"
   ]
  },
  {
   "cell_type": "code",
   "execution_count": null,
   "metadata": {},
   "outputs": [],
   "source": []
  },
  {
   "attachments": {},
   "cell_type": "markdown",
   "metadata": {},
   "source": [
    "2. Encuentre el residuo de la siguiente división:\n",
    "\n",
    "$$(5*5 + 4)/3$$"
   ]
  },
  {
   "cell_type": "code",
   "execution_count": null,
   "metadata": {},
   "outputs": [],
   "source": []
  },
  {
   "attachments": {},
   "cell_type": "markdown",
   "metadata": {},
   "source": [
    "3. Encuentre cuántos grados Fahrenheit son 100° Celsius:"
   ]
  },
  {
   "cell_type": "code",
   "execution_count": null,
   "metadata": {},
   "outputs": [],
   "source": []
  },
  {
   "attachments": {},
   "cell_type": "markdown",
   "metadata": {},
   "source": [
    "-----------------------------------------------------------------"
   ]
  },
  {
   "attachments": {},
   "cell_type": "markdown",
   "metadata": {},
   "source": [
    "# 3. Tipos de datos\n",
    "\n",
    "Python (y todo tipo de lenguaje de programación) tiene clasificaciones de los tipos de datos (o variables). Resulta fundamental manejar los tipos de datos, ya que en ello radica evitar errores en los resultados y el ahorro de recursos de almacenamiento y procesamiento. Más adelante, cuando aprendamos sobre `dataframes` y `pandas` resultará de mayor utilidad. Por ahora debemos aprender lo básico.\n",
    "\n",
    "Los tipos de datos más comúnes son los siguientes:"
   ]
  },
  {
   "attachments": {},
   "cell_type": "markdown",
   "metadata": {},
   "source": [
    "## 3.1. Tipo Texto o String (`str`)"
   ]
  },
  {
   "attachments": {},
   "cell_type": "markdown",
   "metadata": {},
   "source": [
    "Los textos se guardan como tipo string (`str`) en las variables de Python. Cualquier texto se puede establecer como string solamente rodeándolo en el código con comillas hispanas (`\" \"`) o comillas anglosajonas (`' '`). Veámoslo:"
   ]
  },
  {
   "cell_type": "code",
   "execution_count": 11,
   "metadata": {},
   "outputs": [
    {
     "name": "stdout",
     "output_type": "stream",
     "text": [
      "Hello, world!\n"
     ]
    }
   ],
   "source": [
    "print(\"Hello, world!\")"
   ]
  },
  {
   "attachments": {},
   "cell_type": "markdown",
   "metadata": {},
   "source": [
    "Se imprime como texto. Ahora guardemos este texto en una variable y encontremos su tipo con la función `type()`:"
   ]
  },
  {
   "cell_type": "code",
   "execution_count": 12,
   "metadata": {},
   "outputs": [
    {
     "data": {
      "text/plain": [
       "str"
      ]
     },
     "execution_count": 12,
     "metadata": {},
     "output_type": "execute_result"
    }
   ],
   "source": [
    "text = \"Hello, world!\"\n",
    "\n",
    "type(text)"
   ]
  },
  {
   "attachments": {},
   "cell_type": "markdown",
   "metadata": {},
   "source": [
    "Los tipo `str` tienen unas funciones y métodos específicos que pueden permitir su modificación. Los más relevantes son los siguientes:"
   ]
  },
  {
   "attachments": {},
   "cell_type": "markdown",
   "metadata": {},
   "source": [
    "### 3.1.1. Cambios de mayúsculas y minúsculas"
   ]
  },
  {
   "attachments": {},
   "cell_type": "markdown",
   "metadata": {},
   "source": [
    "Creemos una variable cualquiera que podamos modificar:"
   ]
  },
  {
   "cell_type": "code",
   "execution_count": 13,
   "metadata": {},
   "outputs": [],
   "source": [
    "text = \"I love Big Data\""
   ]
  },
  {
   "attachments": {},
   "cell_type": "markdown",
   "metadata": {},
   "source": [
    "Podemos modificar el texto original para convertirlo en **minúsculas** con el método `lower()`:"
   ]
  },
  {
   "cell_type": "code",
   "execution_count": 14,
   "metadata": {},
   "outputs": [
    {
     "data": {
      "text/plain": [
       "'i love big data'"
      ]
     },
     "execution_count": 14,
     "metadata": {},
     "output_type": "execute_result"
    }
   ],
   "source": [
    "text.lower()"
   ]
  },
  {
   "attachments": {},
   "cell_type": "markdown",
   "metadata": {},
   "source": [
    "Podemos modificar el texto original para convertirlo en **mayúsculas** con el método `upper()`:"
   ]
  },
  {
   "cell_type": "code",
   "execution_count": 15,
   "metadata": {},
   "outputs": [
    {
     "data": {
      "text/plain": [
       "'I LOVE BIG DATA'"
      ]
     },
     "execution_count": 15,
     "metadata": {},
     "output_type": "execute_result"
    }
   ],
   "source": [
    "text.upper()"
   ]
  },
  {
   "attachments": {},
   "cell_type": "markdown",
   "metadata": {},
   "source": [
    "Podemos modificarlo para que **la primera letra de toda la cadena sea mayúscula y el resto en minúscula** con el método `capitalize()`, incluso aunque otras letras estuvieran en mayúscula:"
   ]
  },
  {
   "cell_type": "code",
   "execution_count": 16,
   "metadata": {},
   "outputs": [
    {
     "data": {
      "text/plain": [
       "'I love big data'"
      ]
     },
     "execution_count": 16,
     "metadata": {},
     "output_type": "execute_result"
    }
   ],
   "source": [
    "text.capitalize()"
   ]
  },
  {
   "attachments": {},
   "cell_type": "markdown",
   "metadata": {},
   "source": [
    "Podemos modificarlo para que **todas las letras iniciales de cada palabra estén en mayúscula** con el método `title()`, incluso aunque otras letras estuvieran en mayúscula:"
   ]
  },
  {
   "cell_type": "code",
   "execution_count": 17,
   "metadata": {},
   "outputs": [
    {
     "data": {
      "text/plain": [
       "'I Love Big Data'"
      ]
     },
     "execution_count": 17,
     "metadata": {},
     "output_type": "execute_result"
    }
   ],
   "source": [
    "text.title()"
   ]
  },
  {
   "attachments": {},
   "cell_type": "markdown",
   "metadata": {},
   "source": [
    "Podemos modificarlo para que **todas las letras intercambien las minúsculas y mayúsculas** con el método `swapcase()`:"
   ]
  },
  {
   "cell_type": "code",
   "execution_count": 18,
   "metadata": {},
   "outputs": [
    {
     "data": {
      "text/plain": [
       "'i LOVE bIG dATA'"
      ]
     },
     "execution_count": 18,
     "metadata": {},
     "output_type": "execute_result"
    }
   ],
   "source": [
    "text.swapcase()"
   ]
  },
  {
   "attachments": {},
   "cell_type": "markdown",
   "metadata": {},
   "source": [
    "### 3.1.2. División de los strings"
   ]
  },
  {
   "attachments": {},
   "cell_type": "markdown",
   "metadata": {},
   "source": [
    "Podemos manipular los `str` para dividirlo en sus partes, convirtiéndolos en otro tipo de variable llamado **lista**. En esta estructura se pueden guardar elementos de diferentes tipos, pero más adelante hablaremos de ellos. \n",
    "\n",
    "Por ahora, podemos ver cómo dividir una cadena de texto en sus partes con el método `split()` con esta famosa del cantautor Big Boy:"
   ]
  },
  {
   "cell_type": "code",
   "execution_count": 19,
   "metadata": {},
   "outputs": [
    {
     "data": {
      "text/plain": [
       "['Quisiera',\n",
       " 'volver',\n",
       " 'a',\n",
       " 'amarte,',\n",
       " 'volver',\n",
       " 'a',\n",
       " 'quererte,',\n",
       " 'Volver',\n",
       " 'a',\n",
       " 'tenerte',\n",
       " 'cerca',\n",
       " 'de',\n",
       " 'mí,',\n",
       " 'girl.',\n",
       " 'Mis',\n",
       " 'ojos',\n",
       " 'lloran',\n",
       " 'por',\n",
       " 'ti.']"
      ]
     },
     "execution_count": 19,
     "metadata": {},
     "output_type": "execute_result"
    }
   ],
   "source": [
    "# Creando la variable\n",
    "phrase = \"Quisiera volver a amarte, volver a quererte, Volver a tenerte cerca de mí, girl. Mis ojos lloran por ti.\"\n",
    "\n",
    "phrase.split()"
   ]
  },
  {
   "attachments": {},
   "cell_type": "markdown",
   "metadata": {},
   "source": [
    "Como se puede observar, la cadena de texto se dividió en sus partes a partir de la división que proponen los espacios. Sin embargo, también podemos dividirla por otros caracteres que nos sirvan para separarlas, como puntos y comas. En este caso, vamos a dividir la frase por medio de la palabra \"volver\":"
   ]
  },
  {
   "cell_type": "code",
   "execution_count": 20,
   "metadata": {},
   "outputs": [
    {
     "data": {
      "text/plain": [
       "['Quisiera ',\n",
       " ' a amarte, ',\n",
       " ' a quererte, Volver a tenerte cerca de mí, girl. Mis ojos lloran por ti.']"
      ]
     },
     "execution_count": 20,
     "metadata": {},
     "output_type": "execute_result"
    }
   ],
   "source": [
    "phrase.split(\"volver\")"
   ]
  },
  {
   "attachments": {},
   "cell_type": "markdown",
   "metadata": {},
   "source": [
    "Esta lista solo tiene tres elementos, los cuales fueron el resultado de la división del texto a partir de lo que había antes, después y entre la palabra \"volver\".\n",
    "\n",
    "También podemos especificar cuál es la cantidad de divisiones que deseamos hacer, como en el siguiente ejemplo donde solamente realizaremos una división:"
   ]
  },
  {
   "cell_type": "code",
   "execution_count": null,
   "metadata": {},
   "outputs": [],
   "source": [
    "phrase.split(\"volver\", 1)"
   ]
  },
  {
   "attachments": {},
   "cell_type": "markdown",
   "metadata": {},
   "source": [
    "### 3.1.3. Reemplazo de palabras en string"
   ]
  },
  {
   "attachments": {},
   "cell_type": "markdown",
   "metadata": {},
   "source": [
    "En ocasiones querremos reemplazar alguna palabra o serie de palabras (cadena de string) en específico de un texto cualquiera. Para ello utilizaremos el método `replace()` de los `str`:"
   ]
  },
  {
   "cell_type": "code",
   "execution_count": 23,
   "metadata": {},
   "outputs": [
    {
     "name": "stdout",
     "output_type": "stream",
     "text": [
      "¿Dónde estás? Yo le llego, dime dónde, Yo te conozco y eres adicta a la carranga (a la carranga)\n"
     ]
    }
   ],
   "source": [
    "# Creamos la variable\n",
    "txt = \"¿Dónde estás? Yo le llego, dime dónde, Yo te conozco y eres adicta a lo under (a lo under)\"\n",
    "\n",
    "# Aplicamos el replace\n",
    "print(txt.replace(\"lo under\", \"la carranga\"))"
   ]
  },
  {
   "attachments": {},
   "cell_type": "markdown",
   "metadata": {},
   "source": [
    "Ahora, como podemos observar, el método `replace` cambia **todas** las instancias de esa cadena de texto por el que le decimos. Sin embargo, podemos decirle cuántas instancias cambiaremos, por lo cual le podemos agregar un número:"
   ]
  },
  {
   "cell_type": "code",
   "execution_count": 24,
   "metadata": {},
   "outputs": [
    {
     "name": "stdout",
     "output_type": "stream",
     "text": [
      "¿Dónde estás? Yo le llego, dime dónde, Yo te conozco y eres adicta a la carranga (a lo under)\n"
     ]
    }
   ],
   "source": [
    "# Aplicamos el replace con una sola instancia\n",
    "print(txt.replace(\"lo under\", \"la carranga\", 1))"
   ]
  },
  {
   "attachments": {},
   "cell_type": "markdown",
   "metadata": {},
   "source": [
    "> **Nota:** solamente indica cuántas instancias en orden de aparición se cambia. Es decir, si se especifica `1`, se cambia la primera; si se especifica `2`, se cambian las dos primeras, y así."
   ]
  },
  {
   "attachments": {},
   "cell_type": "markdown",
   "metadata": {},
   "source": [
    "### 3.1.4. Método Join"
   ]
  },
  {
   "attachments": {},
   "cell_type": "markdown",
   "metadata": {},
   "source": [
    "El método `join()` permite unir una lista de strings que están separadas en diferentes elementos en una lista:"
   ]
  },
  {
   "cell_type": "code",
   "execution_count": 28,
   "metadata": {},
   "outputs": [
    {
     "name": "stdout",
     "output_type": "stream",
     "text": [
      "Original:  El sonido de la gentrificación es el silencio\n",
      "Separado con split:  ['El', 'sonido', 'de', 'la', 'gentrificación', 'es', 'el', 'silencio']\n",
      "Unido con join:  El sonido de la gentrificación es el silencio\n"
     ]
    }
   ],
   "source": [
    "# Se crea la variable original\n",
    "text = \"El sonido de la gentrificación es el silencio\"\n",
    "print(\"Original: \", text)\n",
    "\n",
    "# Se separa en una lista con split\n",
    "text = text.split()\n",
    "print(\"Separado con split: \", text)\n",
    "\n",
    "# Se vuelve a unir con join\n",
    "text = \" \".join(text)\n",
    "print(\"Unido con join: \", text)"
   ]
  },
  {
   "attachments": {},
   "cell_type": "markdown",
   "metadata": {},
   "source": [
    "Sin embargo, también podemos separar a drede una cadena de texto para, por ejemplo, cambiar un elemento y volver a unirlo todo para tener nuevamente una nueva cadena de texto."
   ]
  },
  {
   "cell_type": "code",
   "execution_count": 31,
   "metadata": {},
   "outputs": [
    {
     "name": "stdout",
     "output_type": "stream",
     "text": [
      "Original:  El sonido de la gentrificación es el silencio\n",
      "Separado con split:  ['El', 'sonido', 'de', 'la', 'gentrificación', 'es', 'el', 'silencio']\n",
      "Unido con join:  El sonido de la gentrificación es el tropipop\n"
     ]
    }
   ],
   "source": [
    "# Se crea la variable original\n",
    "text = \"El sonido de la gentrificación es el silencio\"\n",
    "print(\"Original: \", text)\n",
    "\n",
    "# Se separa en una lista con split\n",
    "text = text.split()\n",
    "print(\"Separado con split: \", text)\n",
    "\n",
    "# Se cambia una palabra\n",
    "text[7] = \"tropipop\"\n",
    "\n",
    "# Se vuelve a unir con join\n",
    "text = \" \".join(text)\n",
    "print(\"Unido con join: \", text)"
   ]
  },
  {
   "attachments": {},
   "cell_type": "markdown",
   "metadata": {},
   "source": [
    "En este caso, este pequeño programa permite dividir un string, cambiar una palabra y volverlo nuevamente un string. El método `join()` permite juntar nuevamente la lista."
   ]
  },
  {
   "attachments": {},
   "cell_type": "markdown",
   "metadata": {},
   "source": [
    "---------------------------------------"
   ]
  },
  {
   "attachments": {},
   "cell_type": "markdown",
   "metadata": {},
   "source": [
    "#### Ejercicios\n",
    "\n",
    "Coja el siguiente elemento `str` del gran canta-autor Darío Gómez y conviértala en mayúsculas y divídala en una lista de palabras:"
   ]
  },
  {
   "cell_type": "code",
   "execution_count": 32,
   "metadata": {},
   "outputs": [],
   "source": [
    "lyrics = \"Nadie es eterno en el mundo, Ni teniendo un corazón, Que tanto siente y suspira por la vida y el amor\""
   ]
  },
  {
   "cell_type": "code",
   "execution_count": null,
   "metadata": {},
   "outputs": [],
   "source": []
  },
  {
   "attachments": {},
   "cell_type": "markdown",
   "metadata": {},
   "source": [
    "-------------------------------------"
   ]
  },
  {
   "attachments": {},
   "cell_type": "markdown",
   "metadata": {},
   "source": [
    "## 3.2. Tipo numérico (`int`, `float` & `complex`)"
   ]
  },
  {
   "attachments": {},
   "cell_type": "markdown",
   "metadata": {},
   "source": [
    "Los números se guardan bajo tres subtipos de datos: enteros (`int`), reales (`float`) y complejos (`complex`). Para crear un tipo numérico, solamente se debe crear la variable con un número sin comillas, ya que Python sabrá cómo clasificarlo dependiendo si tiene un punto o simplemente es un entero. Veamos dicha aplicación con la función `type()`:"
   ]
  },
  {
   "cell_type": "code",
   "execution_count": 2,
   "metadata": {},
   "outputs": [
    {
     "name": "stdout",
     "output_type": "stream",
     "text": [
      "La variable x (1) es tipo  <class 'int'>\n",
      "La variable y (1.1) es tipo  <class 'float'>\n"
     ]
    }
   ],
   "source": [
    "# Creando una variable entera\n",
    "x = 1\n",
    "print(\"La variable x (\" + str(x) + \") es tipo \", type(x))\n",
    "\n",
    "# Creando una variable real no entera\n",
    "y  = 1.1\n",
    "print(\"La variable y (\" + str(y) + \") es tipo \", type(y))"
   ]
  },
  {
   "attachments": {},
   "cell_type": "markdown",
   "metadata": {},
   "source": [
    "El uso de cada uno de estos subtipos de datos depende del uso que se requiera, incluyendo el número de decimales permitidos para dicho dato. Por ello, cada subtipo ocupa un tamaño diferente de memoria.\n",
    "\n",
    "En ese sentido, los datos subtipo `int` son los que menos memoria ocupan, ya que no guardan decimales. En cambio, los datos subtipo `float` y `complex` ocupan más espacio de memoria, ya que requieren guardar más información.\n",
    "\n",
    "No obstante, no es recomendable utilizar subtipo `int` para todos los datos, ya que no permite los decimales y los rodendea en ocasiones de manera errónea. A la vez, tampoco es recomendable utilizar subtipo `float` para todo, ya que requiere de mayor espacio de memoria. Esto no es inconveniente con bases de datos pequeñas, pero se convierte en un problema con aquellas que empiezan a ser Big Data.\n",
    "\n",
    "Dado lo anterior, la decisión depende del tipo de datos que manejaremos. Una decisión consciente debe hacerse para cada uno.\n",
    "\n",
    "Por ahora, veremos lo básico del uso de los subtipos `int` y `float`, ya que en el uso cotidiano no es común encontrar datos tipo `complex`."
   ]
  },
  {
   "attachments": {},
   "cell_type": "markdown",
   "metadata": {},
   "source": [
    "### 3.2.1. Funciones de aproximación de valores"
   ]
  },
  {
   "attachments": {},
   "cell_type": "markdown",
   "metadata": {},
   "source": [
    "La aproximación de valores es importante para obtener la información que necesitamos y transformar los valores a lo que requerimos. Veamos alguna funciones para ello:"
   ]
  },
  {
   "attachments": {},
   "cell_type": "markdown",
   "metadata": {},
   "source": [
    "#### 3.2.1.1. Función `round()`\n",
    "\n",
    "La función `round()` de la librería `math` aproxima los valores como estamos acostumbrados: si los decimales superan el 0.5, se aproxima al valor siguiente; si no, se aproxima al valor que tenía. Veamos un ejemplo:"
   ]
  },
  {
   "cell_type": "code",
   "execution_count": 6,
   "metadata": {},
   "outputs": [
    {
     "name": "stdout",
     "output_type": "stream",
     "text": [
      "La aproximación de 2.4 es 2\n",
      "La aproximación de 4.8 es 5\n"
     ]
    }
   ],
   "source": [
    "# Importamos la librería\n",
    "import math\n",
    "\n",
    "# Valor menor a 0.5\n",
    "x = 2.4\n",
    "print(\"La aproximación de \" + str(x) + \" es \" + str(round(x)))\n",
    "\n",
    "# Valor mayor a 0.5\n",
    "x = 4.8\n",
    "print(\"La aproximación de \" + str(x) + \" es \" + str(round(x)))"
   ]
  },
  {
   "attachments": {},
   "cell_type": "markdown",
   "metadata": {},
   "source": [
    "No obstante, la función `round()` también nos permite aproximar un número específico de decimales. Es decir, le podemos decir que nos aproxime hasta el decimal 2, 3 o 10 de un número. Revisemos:"
   ]
  },
  {
   "cell_type": "code",
   "execution_count": 9,
   "metadata": {},
   "outputs": [
    {
     "name": "stdout",
     "output_type": "stream",
     "text": [
      "3.141592653589793\n",
      "La aproximación de 3.141592653589793 es 3.14\n",
      "La aproximación de 3.141592653589793 es 3.1416\n"
     ]
    }
   ],
   "source": [
    "# Importamos la librería\n",
    "import math\n",
    "\n",
    "# Traemos el valor de pi\n",
    "x = math.pi\n",
    "\n",
    "# Imprimimos el valor de pi\n",
    "print(x)\n",
    "\n",
    "# Aproximamos hasta el decimal 2\n",
    "print(\"La aproximación de \" + str(x) + \" es \" + str(round(x, 2)))\n",
    "\n",
    "# Aproximamos hasta el decimal 4\n",
    "print(\"La aproximación de \" + str(x) + \" es \" + str(round(x, 4)))"
   ]
  },
  {
   "attachments": {},
   "cell_type": "markdown",
   "metadata": {},
   "source": [
    "#### 3.2.1.2. Función `ceil()`\n",
    "\n",
    "La función `ceil()` hace referencia a una aproximación al \"techo\",  esto es una aproximación a la unidad siguiente. Por tanto, esta función aproxima el valor a la unidad siguiente independientemente si los decimales pasan o no el umbral de 0.5 en los decimales. Si tiene un solo decimal por encima de la unidad, lo aproxima a la unidad siguiente:"
   ]
  },
  {
   "cell_type": "code",
   "execution_count": 15,
   "metadata": {},
   "outputs": [
    {
     "name": "stdout",
     "output_type": "stream",
     "text": [
      "La aproximación de 2.2 es 3\n",
      "La aproximación de 4.9 es 5\n"
     ]
    }
   ],
   "source": [
    "# Importamos la librería\n",
    "import math\n",
    "\n",
    "# Caso con decimales menores a 0.5 en los decimales\n",
    "x = 2.2\n",
    "print(\"La aproximación de \" + str(x) + \" es \" + str(math.ceil(x)))\n",
    "\n",
    "# Caso con decimales mayores a 0.5 en los decimales\n",
    "x = 4.9\n",
    "print(\"La aproximación de \" + str(x) + \" es \" + str(math.ceil(x)))"
   ]
  },
  {
   "attachments": {},
   "cell_type": "markdown",
   "metadata": {},
   "source": [
    "#### 3.2.1.3. Función `floor()`\n",
    "\n",
    "La función `floor()` hace referencia a una aproximación al \"piso\", esto es una aproximación a la unidad anterior. Similar a `ceil()`, no importa si el número ha superado el umbral de 0.5 decimales, lo aproximará a la unidad anterior:"
   ]
  },
  {
   "cell_type": "code",
   "execution_count": 16,
   "metadata": {},
   "outputs": [
    {
     "name": "stdout",
     "output_type": "stream",
     "text": [
      "La aproximación de 4.4 es 4\n",
      "La aproximación de 9.999 es 9\n"
     ]
    }
   ],
   "source": [
    "# Importamos la librería\n",
    "import math\n",
    "\n",
    "# Caso con decimales menores a 0.5 en los decimales\n",
    "x = 4.4\n",
    "print(\"La aproximación de \" + str(x) + \" es \" + str(math.floor(x)))\n",
    "\n",
    "# Caso con decimales mayores a 0.5 en los decimales\n",
    "x = 9.999\n",
    "print(\"La aproximación de \" + str(x) + \" es \" + str(math.floor(x)))"
   ]
  },
  {
   "attachments": {},
   "cell_type": "markdown",
   "metadata": {},
   "source": [
    "#### 3.2.2. Función de valor absoluto `fabs()`\n",
    "\n",
    "La función `fabs()` convierte el número en el valor absoluto de dicho número. Por tanto, no importa si el valor es positivo o negativo, retornará un valor positivo de dicho número:"
   ]
  },
  {
   "cell_type": "code",
   "execution_count": 17,
   "metadata": {},
   "outputs": [
    {
     "name": "stdout",
     "output_type": "stream",
     "text": [
      "El valor absoluto de 4 es 4.0\n",
      "El valor absoluto de -100 es 100.0\n"
     ]
    }
   ],
   "source": [
    "# Importamos la librería\n",
    "import math\n",
    "\n",
    "# Caso de valor positivo\n",
    "x = 4\n",
    "print(\"El valor absoluto de \" + str(x) + \" es \" + str(math.fabs(x)))\n",
    "\n",
    "# Caso de valor negativo\n",
    "x = -100\n",
    "print(\"El valor absoluto de \" + str(x) + \" es \" + str(math.fabs(x)))"
   ]
  },
  {
   "attachments": {},
   "cell_type": "markdown",
   "metadata": {},
   "source": [
    "-----------------------------------"
   ]
  },
  {
   "attachments": {},
   "cell_type": "markdown",
   "metadata": {},
   "source": [
    "#### Ejercicios\n",
    "\n",
    "1. Construya una función `div_num()` que divida la parte entera de un número y sus decimales:"
   ]
  },
  {
   "cell_type": "code",
   "execution_count": 24,
   "metadata": {},
   "outputs": [
    {
     "data": {
      "text/plain": [
       "(3, 0.95)"
      ]
     },
     "execution_count": 24,
     "metadata": {},
     "output_type": "execute_result"
    }
   ],
   "source": [
    "def div_num(x):\n",
    "    import math\n",
    "\n",
    "    unit = math.floor(x)\n",
    "    dec = x - unit\n",
    "\n",
    "    return unit, round(dec, 5)\n",
    "\n",
    "div_num(3.95)"
   ]
  },
  {
   "attachments": {},
   "cell_type": "markdown",
   "metadata": {},
   "source": [
    "2. Construya una función `power_abs()` que eleve el valor absoluto de dos números al cubo y los sume:"
   ]
  },
  {
   "cell_type": "code",
   "execution_count": 25,
   "metadata": {},
   "outputs": [
    {
     "data": {
      "text/plain": [
       "54.0"
      ]
     },
     "execution_count": 25,
     "metadata": {},
     "output_type": "execute_result"
    }
   ],
   "source": [
    "def power_abs(x, y):\n",
    "    import math\n",
    "\n",
    "    x = math.fabs(x)\n",
    "    y = math.fabs(y)\n",
    "\n",
    "    return x**3 + y**3\n",
    "\n",
    "power_abs(3, -3)"
   ]
  },
  {
   "attachments": {},
   "cell_type": "markdown",
   "metadata": {},
   "source": [
    "## 3.3. Tipo booleano"
   ]
  },
  {
   "attachments": {},
   "cell_type": "markdown",
   "metadata": {},
   "source": [
    "## 3.4. Tipo secuencia `list`, `tuple` y `range`\n",
    "\n",
    "Los datos o variables de secuencia son una variable que se compone de otros datos o variables. Es decir, son variables que dentro tienen otros datos o variables. Los subtipos más comunes son: la lista (`list`), la tupla (`tuple`) y el rango (`range`). \n",
    "\n",
    "Las variables tipo tupla tienden a ser más complicadas y no permiten modificación de sus datos internos, por lo cual no se profundizarán en este curso. Nos concentraremos en los tipos `list` y `range`:"
   ]
  },
  {
   "attachments": {},
   "cell_type": "markdown",
   "metadata": {},
   "source": [
    "### 3.4.1. Tipo `list`\n",
    "\n",
    "Las listas son arreglos de datos que contiene por dentro otros elementos que pueden ser de diferentes tipos. En otras palabras, podemos tener una lista que contenga en su interior variables tipo `int`, `float`, `str` y `bool`, entre otros, al mismo tiempo.\n",
    "\n",
    "Se le indica a Python que una variable es una lista con los corchetes (`[]`):"
   ]
  },
  {
   "cell_type": "code",
   "execution_count": 26,
   "metadata": {},
   "outputs": [
    {
     "name": "stdout",
     "output_type": "stream",
     "text": [
      "[123, 'amigo', True, 1.1]\n"
     ]
    }
   ],
   "source": [
    "# Creamos una lista\n",
    "lista = [123, \"amigo\", True, 1.1]\n",
    "\n",
    "print(lista)"
   ]
  },
  {
   "attachments": {},
   "cell_type": "markdown",
   "metadata": {},
   "source": [
    "Podemos utilizar variables ya creadas para consolidar una lista:"
   ]
  },
  {
   "cell_type": "code",
   "execution_count": 27,
   "metadata": {},
   "outputs": [
    {
     "name": "stdout",
     "output_type": "stream",
     "text": [
      "['Obvio, bobis', 987, False]\n"
     ]
    }
   ],
   "source": [
    "# Creamos unas variables anteriores\n",
    "x = 987\n",
    "y = \"Obvio, bobis\"\n",
    "z = False\n",
    "\n",
    "# Creamos una lista con las variables ya creadas\n",
    "lista = [y, x, z] # Sirve cualquier orden\n",
    "\n",
    "print(lista)"
   ]
  },
  {
   "attachments": {},
   "cell_type": "markdown",
   "metadata": {},
   "source": [
    "Incluso podemos incluir en la lista otra lista creada:"
   ]
  },
  {
   "cell_type": "code",
   "execution_count": 29,
   "metadata": {},
   "outputs": [
    {
     "name": "stdout",
     "output_type": "stream",
     "text": [
      "['Obvio, bobis', 987, False, ['Hola', 'Amigo', 'Fiel']]\n"
     ]
    }
   ],
   "source": [
    "# Creamos unas variables anteriores\n",
    "x = 987\n",
    "y = \"Obvio, bobis\"\n",
    "z = False\n",
    "w = [\"Hola\", \"Amigo\", \"Fiel\"]\n",
    "\n",
    "# Creamos una lista con las variables ya creadas\n",
    "lista = [y, x, z, w] # Sirve cualquier orden\n",
    "\n",
    "print(lista)"
   ]
  },
  {
   "attachments": {},
   "cell_type": "markdown",
   "metadata": {},
   "source": [
    "La preferencia por el uso de las listas es que pueden contener arreglos de datos con los que se puede acceder fácilmente. Es decir, podemos tener una lista que contiene muchos datos y obtener ese dato al llamarlo por la posición que tiene. \n",
    "\n",
    "Obtengamos de la lista anterior el segundo elemento:"
   ]
  },
  {
   "cell_type": "code",
   "execution_count": 33,
   "metadata": {},
   "outputs": [
    {
     "data": {
      "text/plain": [
       "987"
      ]
     },
     "execution_count": 33,
     "metadata": {},
     "output_type": "execute_result"
    }
   ],
   "source": [
    "# Obtenemos el segundo elemento (recordar que empieza en 0)\n",
    "lista[1]"
   ]
  },
  {
   "attachments": {},
   "cell_type": "markdown",
   "metadata": {},
   "source": [
    "Nos sirve mucho para un ciclo, ya que podemos pasar por cada uno de sus elementos en cada ciclo (más adelante profundizaremos en los ciclos):"
   ]
  },
  {
   "cell_type": "code",
   "execution_count": 34,
   "metadata": {},
   "outputs": [
    {
     "name": "stdout",
     "output_type": "stream",
     "text": [
      "¡Hola, Martina, ven a mi fiesta!\n",
      "¡Hola, Juan, ven a mi fiesta!\n",
      "¡Hola, María, ven a mi fiesta!\n"
     ]
    }
   ],
   "source": [
    "# Creamos una lista de nombres\n",
    "lst = [\"Martina\", \"Juan\", \"María\"]\n",
    "\n",
    "# Creamos un mensaje con un ciclo for\n",
    "for nombre in lst:\n",
    "    print(\"¡Hola, \" + nombre + \", ven a mi fiesta!\")"
   ]
  },
  {
   "attachments": {},
   "cell_type": "markdown",
   "metadata": {},
   "source": [
    "Podemos acceder a una variable que está dentro de una lista que está, a su vez, dentro de otra lista:"
   ]
  },
  {
   "cell_type": "code",
   "execution_count": 40,
   "metadata": {},
   "outputs": [
    {
     "name": "stdout",
     "output_type": "stream",
     "text": [
      "Lista completa: \n",
      "['Obvio, bobis', 987, False, ['Hola', 'Amigo', 'Fiel']]\n",
      "\n",
      "Segundo elemento de la lista interna: \n",
      "Amigo\n"
     ]
    }
   ],
   "source": [
    "# Creamos unas variables anteriores\n",
    "x = 987\n",
    "y = \"Obvio, bobis\"\n",
    "z = False\n",
    "w = [\"Hola\", \"Amigo\", \"Fiel\"]\n",
    "\n",
    "# Creamos una lista con las variables ya creadas\n",
    "lista = [y, x, z, w] # Sirve cualquier orden\n",
    "\n",
    "print(\"Lista completa: \")\n",
    "print(lista)\n",
    "\n",
    "print() # Estoy dejando un espacio aquí\n",
    "\n",
    "print(\"Segundo elemento de la lista interna: \")\n",
    "print(lista[3][1])"
   ]
  },
  {
   "attachments": {},
   "cell_type": "markdown",
   "metadata": {},
   "source": [
    "### 3.4.2. Tipo `range`\n",
    "\n",
    "Los elementos tipo `range` son listas generadas por la función `range()`. Esta función genera listas de números entre ciertos rangos establecidos en la función. Sirven bastante para crear listas de forma más fácil, evitando tener que crear la lista por cada uno de sus elementos internos.\n",
    "\n",
    "Veamos un ejemplo:"
   ]
  },
  {
   "cell_type": "code",
   "execution_count": 6,
   "metadata": {},
   "outputs": [
    {
     "name": "stdout",
     "output_type": "stream",
     "text": [
      "El elemento range(0, 6) es <class 'range'>\n"
     ]
    }
   ],
   "source": [
    "# Se crea la variable\n",
    "x = range(6)\n",
    "\n",
    "# Se imprime el elemento\n",
    "print(\"El elemento \" + str(x) + \" es \" + str(type(x)))"
   ]
  },
  {
   "attachments": {},
   "cell_type": "markdown",
   "metadata": {},
   "source": [
    "Como se decía, sirve para crear listas sin tener que concatenar cada uno de sus elementos, lo cual es sumamente útil en los ciclos"
   ]
  },
  {
   "cell_type": "code",
   "execution_count": 7,
   "metadata": {},
   "outputs": [
    {
     "name": "stdout",
     "output_type": "stream",
     "text": [
      "0\n",
      "1\n",
      "2\n",
      "3\n",
      "4\n"
     ]
    }
   ],
   "source": [
    "# Iniciando desde 0\n",
    "for i in range(5):\n",
    "    print(i)"
   ]
  },
  {
   "attachments": {},
   "cell_type": "markdown",
   "metadata": {},
   "source": [
    "Se puede crear la lista de números desde un valor inicial diferente a 0, tal como un número positivo o negativo:"
   ]
  },
  {
   "cell_type": "code",
   "execution_count": 8,
   "metadata": {},
   "outputs": [
    {
     "name": "stdout",
     "output_type": "stream",
     "text": [
      "-5\n",
      "-4\n",
      "-3\n",
      "-2\n",
      "-1\n",
      "0\n",
      "1\n",
      "2\n",
      "3\n",
      "4\n"
     ]
    }
   ],
   "source": [
    "# Iniciando desde -5\n",
    "for i in range(-5, 5):\n",
    "    print(i)"
   ]
  },
  {
   "attachments": {},
   "cell_type": "markdown",
   "metadata": {},
   "source": [
    "Incluso se le puede especificar cuál es el salto entre los números de la secuencia, estableciendo que se creen números de dos en dos:"
   ]
  },
  {
   "cell_type": "code",
   "execution_count": 9,
   "metadata": {},
   "outputs": [
    {
     "name": "stdout",
     "output_type": "stream",
     "text": [
      "0\n",
      "2\n",
      "4\n",
      "6\n",
      "8\n"
     ]
    }
   ],
   "source": [
    "# Secuencia saltando entre 2\n",
    "for i in range(0, 10, 2):\n",
    "    print(i)"
   ]
  }
 ],
 "metadata": {
  "kernelspec": {
   "display_name": "Python 3",
   "language": "python",
   "name": "python3"
  },
  "language_info": {
   "codemirror_mode": {
    "name": "ipython",
    "version": 3
   },
   "file_extension": ".py",
   "mimetype": "text/x-python",
   "name": "python",
   "nbconvert_exporter": "python",
   "pygments_lexer": "ipython3",
   "version": "3.10.5"
  },
  "orig_nbformat": 4
 },
 "nbformat": 4,
 "nbformat_minor": 2
}
