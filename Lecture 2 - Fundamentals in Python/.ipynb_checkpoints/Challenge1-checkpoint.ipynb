{
 "cells": [
  {
   "cell_type": "markdown",
   "id": "21683b5d-4b96-4aad-954b-2d09eaad77c0",
   "metadata": {},
   "source": [
    "# Solucionario Reto 1"
   ]
  },
  {
   "cell_type": "markdown",
   "id": "d35bfa0e-2a88-416b-8a13-332db2c141f2",
   "metadata": {},
   "source": [
    "# 1. Reto"
   ]
  },
  {
   "cell_type": "markdown",
   "id": "ccab3f80-4adb-4bbc-bf2c-aa8d9954f41a",
   "metadata": {},
   "source": [
    "El reto consiste en crear un programa que pregunte al usuario por sus datos personales, los guarde y, después, pueda acceder a ellos por medio del **nombre**. Al programa no le debe importar si el usuario pone su nombre con mayúscula o minúscula: si está el nombre completo, debe obtener los resultados como se puede apreciar en el ejemplo:\n",
    "\n",
    "<center><img src=\"Example2.jpg\"/></center>\n",
    "<center><img src=\"Example1.jpg\"/></center>\n",
    "\n",
    "La solución debe subirse al repositorio de Gitlab del curso, el cual será nuestro repositorio de clase. \n",
    "\n",
    "**Nota:** Se puede hacer este ejercicios en varias líneas de código (no es necesario que quede en una sola \"caja\" de cógido), pero una de ellas debe preguntar por sus datos y otra debe preguntarle por quién quiere preguntar y devolverle sus datos."
   ]
  },
  {
   "cell_type": "code",
   "execution_count": null,
   "id": "c669cad2-c28d-4a18-a63d-4c0eba833f21",
   "metadata": {},
   "outputs": [],
   "source": []
  }
 ],
 "metadata": {
  "kernelspec": {
   "display_name": "Python 3 (ipykernel)",
   "language": "python",
   "name": "python3"
  },
  "language_info": {
   "codemirror_mode": {
    "name": "ipython",
    "version": 3
   },
   "file_extension": ".py",
   "mimetype": "text/x-python",
   "name": "python",
   "nbconvert_exporter": "python",
   "pygments_lexer": "ipython3",
   "version": "3.10.2"
  }
 },
 "nbformat": 4,
 "nbformat_minor": 5
}
