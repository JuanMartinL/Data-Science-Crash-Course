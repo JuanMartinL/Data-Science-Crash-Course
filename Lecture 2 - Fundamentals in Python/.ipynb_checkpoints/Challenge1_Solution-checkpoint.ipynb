{
 "cells": [
  {
   "cell_type": "markdown",
   "id": "21683b5d-4b96-4aad-954b-2d09eaad77c0",
   "metadata": {},
   "source": [
    "# Solucionario Reto 1"
   ]
  },
  {
   "cell_type": "markdown",
   "id": "d35bfa0e-2a88-416b-8a13-332db2c141f2",
   "metadata": {},
   "source": [
    "# 1. Reto"
   ]
  },
  {
   "cell_type": "markdown",
   "id": "ccab3f80-4adb-4bbc-bf2c-aa8d9954f41a",
   "metadata": {},
   "source": [
    "El reto consiste en crear un programa que pregunte al usuario por sus datos personales, los guarde y, después, pueda acceder a ellos por medio del **nombre**. Al programa no le debe importar si el usuario pone su nombre con mayúscula o minúscula: si está el nombre completo, debe obtener los resultados como se puede apreciar en el ejemplo:\n",
    "\n",
    "<center><img src=\"Example2.jpg\"/></center>\n",
    "<center><img src=\"Example1.jpg\"/></center>\n",
    "\n",
    "La solución debe subirse al repositorio de Gitlab del curso, el cual será nuestro repositorio de clase. \n",
    "\n",
    "**Nota:** Se puede hacer este ejercicios en varias líneas de código (no es necesario que quede en una sola \"caja\" de cógido), pero una de ellas debe preguntar por sus datos y otra debe preguntarle por quién quiere preguntar y devolverle sus datos."
   ]
  },
  {
   "cell_type": "code",
   "execution_count": 2,
   "id": "772ad3e7-5523-422a-b483-fae8da7745e2",
   "metadata": {},
   "outputs": [
    {
     "name": "stdin",
     "output_type": "stream",
     "text": [
      "Digite su nombre completo, por favor:  Juan\n",
      "Digite su número de identificación, por favor:  1\n",
      "Digite su edad, por favor:  26\n",
      "Digite su carrera, por favor:  CPG\n",
      "Digite el nombre de su mascota, por favor:  Mike\n"
     ]
    },
    {
     "data": {
      "text/plain": [
       "{'JUAN': ['1', '26', 'CPG', 'Mike']}"
      ]
     },
     "execution_count": 2,
     "metadata": {},
     "output_type": "execute_result"
    }
   ],
   "source": [
    "dic = {}\n",
    "\n",
    "name = input(\"Digite su nombre completo, por favor: \")\n",
    "name = name.upper()\n",
    "\n",
    "dic[name] = [input(\"Digite su número de identificación, por favor: \")]\n",
    "dic[name].append(input(\"Digite su edad, por favor: \"))\n",
    "dic[name].append(input(\"Digite su carrera, por favor: \"))\n",
    "dic[name].append(input(\"Digite el nombre de su mascota, por favor: \"))\n",
    "\n",
    "dic"
   ]
  },
  {
   "cell_type": "code",
   "execution_count": null,
   "id": "b7d97b9a-e15b-442e-85fc-9ebcfaf4cfb0",
   "metadata": {},
   "outputs": [],
   "source": [
    "query = input(\"Digite el nombre completo de la persona que desea consultar: \")\n",
    "query = query.upper()\n",
    "print(\"Nombre completo: {0} \\nIdentificación: {1} \\nEdad: {2} \\nCarrera: {3} \\nNombre de la mascota: {4}\".format(query.title(), str(dic[query][0]), str(dic[query][1]), str(dic[query][2]), dic[query][3]))"
   ]
  }
 ],
 "metadata": {
  "kernelspec": {
   "display_name": "Python 3 (ipykernel)",
   "language": "python",
   "name": "python3"
  },
  "language_info": {
   "codemirror_mode": {
    "name": "ipython",
    "version": 3
   },
   "file_extension": ".py",
   "mimetype": "text/x-python",
   "name": "python",
   "nbconvert_exporter": "python",
   "pygments_lexer": "ipython3",
   "version": "3.10.2"
  }
 },
 "nbformat": 4,
 "nbformat_minor": 5
}
