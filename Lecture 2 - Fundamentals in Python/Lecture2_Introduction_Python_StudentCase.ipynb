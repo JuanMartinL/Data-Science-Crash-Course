{
 "cells": [
  {
   "cell_type": "markdown",
   "id": "bf33852c-2875-47f4-a4da-567bd25e8fa7",
   "metadata": {},
   "source": [
    "# Clase 2: Introducción a Python"
   ]
  },
  {
   "cell_type": "markdown",
   "id": "0bf98e75-2116-4537-a9e8-872fd6be8b98",
   "metadata": {},
   "source": [
    "Python es un lenguaje de programación de alto nivel, intérprete y de propósito general. Creado a los finales de los 80's por Guido von Rossum,soporta múltiples paradigmas de programación, incluyendo programación estructurada, orientada a objetos y orientada a eventos.\n",
    "\n",
    "La filosofía de Python está resumida en el texto The [Zen of Python](https://peps.python.org/pep-0020/) (PEP 20), el cual incluye:\n",
    "\n",
    "* Lo bello es mejor que lo feo.\n",
    "* Lo explícito es mejor que lo implícito.\n",
    "* Lo simple es mejor que lo complejo.\n",
    "* Lo complejo es mejor que lo complicado.\n",
    "* La facilidad de lectura cuenta.\n",
    "\n",
    "En resumen, Python se centra en una sintáxis y gramática fácil de entender y simple, a la vez que le da la oportunidad a los programadores más expertos de crear su propia metodología por medio de módulos (o paquetes).\n",
    "\n",
    "> **Dato curioso:** el nombre de este lenguaje de programación surge a partir del programa de Monthy Python, no del animal.\n",
    "\n",
    "Cabe explicar también los siguientes términos sobre Python:\n",
    "\n",
    "* **Es un lenguaje de alto nivel:** implica que hay alta abstracción de los detalles del computador. Los lenguajes de bajo nivel son aquellos que incluso utilizan elementos del lenguaje natural, lo que los hace más \"sencillos\" de entender, como Stata.\n",
    "* **Es un lenguaje interpretado:** implica que no hay compilación del código. Simplemente se corre directamente.\n",
    "* **Es un lenguaje de propósito general:** implica que puede utilizarse para un amplio rango de objetivos, tales como programación de juegos, análisis estadísticos, entre otros.\n",
    "\n",
    "Ahora debemos aprender un poco sobre cómo utilizar y programar Python. Vamos paso a paso.\n",
    "\n",
    "No obstante, primero vamos a cumplir con la tradición de iniciación de programación: en la siguiente celda impriman \"Hello, world!\" con el método `´print()`:"
   ]
  },
  {
   "cell_type": "code",
   "execution_count": null,
   "id": "60cd308a-4ad5-419a-b964-18a5b58ddd40",
   "metadata": {},
   "outputs": [],
   "source": []
  },
  {
   "cell_type": "markdown",
   "id": "7937d8d6-bc21-4529-97ce-478b0ca3ce0f",
   "metadata": {},
   "source": [
    "# 1. Aritmética básica"
   ]
  },
  {
   "cell_type": "markdown",
   "id": "18ebc3e7-feda-4bf8-89b2-7e7571f8b4db",
   "metadata": {},
   "source": [
    "## 1.1. Operaciones básicas"
   ]
  },
  {
   "cell_type": "markdown",
   "id": "b5857c3a-7212-4094-9376-bd06bf4d84c2",
   "metadata": {},
   "source": [
    "Las operaciones básicas en Python son muy intuitivas. Solamente se utilizan los operadores que normalmente conocemos: suma (`+`), resta (`-`), multiplicación (`*`), división (`/`). A continuación veremos algunos ejemplos:"
   ]
  },
  {
   "cell_type": "code",
   "execution_count": 1,
   "id": "037ba8b7-d421-41d8-a10c-cdb5c125c296",
   "metadata": {
    "tags": []
   },
   "outputs": [
    {
     "name": "stdout",
     "output_type": "stream",
     "text": [
      "Suma:\n",
      "2\n",
      "Resta:\n",
      "25\n",
      "Multiplicación:\n",
      "36\n",
      "División:\n",
      "5.0\n"
     ]
    }
   ],
   "source": [
    "# Suma\n",
    "print(\"Suma:\")\n",
    "print(1+1)\n",
    "\n",
    "# Resta\n",
    "print(\"Resta:\")\n",
    "print(50-25)\n",
    "\n",
    "# Multiplicación\n",
    "print(\"Multiplicación:\")\n",
    "print(6*6)\n",
    "\n",
    "# División\n",
    "print(\"División:\")\n",
    "print(125/25)"
   ]
  },
  {
   "cell_type": "markdown",
   "id": "545c3ecd-dadb-4c23-af84-faa2d54926ab",
   "metadata": {},
   "source": [
    "Las operaciones básicas que no son tan intuitivas son la potencia y la raíz cuadrada, cuyos operadores en Python son (`**`), como se ve a continuación:"
   ]
  },
  {
   "cell_type": "code",
   "execution_count": 2,
   "id": "f397116c-df9d-4a91-8bf8-a0808b111cfa",
   "metadata": {},
   "outputs": [
    {
     "name": "stdout",
     "output_type": "stream",
     "text": [
      "Potencia:\n",
      "36\n",
      "36\n",
      "Raíz cuadrada:\n",
      "7.0\n",
      "7.0\n"
     ]
    }
   ],
   "source": [
    "# Potencia\n",
    "print(\"Potencia:\")\n",
    "print(6**2)\n",
    "print(pow(6, 2))\n",
    "\n",
    "# Raíz cuadrada\n",
    "print(\"Raíz cuadrada:\")\n",
    "print(49**(1/2))\n",
    "print(pow(49, (1/2)))"
   ]
  },
  {
   "cell_type": "markdown",
   "id": "527214fc-22c4-4ff7-84cf-ccaa9e21826d",
   "metadata": {},
   "source": [
    "También se pueden utilizar **paquetes** o **librerías** (de las cuales hablaremos en el transcurso del curso). Por ahora, podemos utilizar la librería `math`, la cual tiene el comando `sqrt()` para realizar la raíz cuadrada:"
   ]
  },
  {
   "cell_type": "code",
   "execution_count": 3,
   "id": "dfa48e45-3954-4cd0-831d-04d7f76b54c1",
   "metadata": {},
   "outputs": [
    {
     "name": "stdout",
     "output_type": "stream",
     "text": [
      "Raíz cuadrada\n",
      "2.0\n",
      "6.0\n"
     ]
    }
   ],
   "source": [
    "# Se importa la librería math\n",
    "import math\n",
    "\n",
    "# Raíz cuadrada\n",
    "print(\"Raíz cuadrada\")\n",
    "print(math.sqrt(4))\n",
    "print(math.sqrt(36))"
   ]
  },
  {
   "cell_type": "markdown",
   "id": "1075bc55-aeff-480d-b031-08816bd4e36a",
   "metadata": {},
   "source": [
    "> **Nota:** en Python se puede hacer uso de las librerías llamando la librería seguida de la función que se necesita, separado por un punto, como se ve en el ejemplo. Más adelante profundizaremos más."
   ]
  },
  {
   "cell_type": "markdown",
   "id": "584af24e-d5c4-4114-b92f-1399e46f35c2",
   "metadata": {},
   "source": [
    "## 1.2. Operador módulo"
   ]
  },
  {
   "cell_type": "markdown",
   "id": "cb6b017d-b61b-4664-8205-eabd15d1840b",
   "metadata": {},
   "source": [
    "En la aritmética, existe un operador que sirve en ocasiones para algunos algoritmos: el operador modular. El operador modular (`%`) obtiene el residuo de una división. Por tanto, podríamos ver el siguiente ejemplo:\n",
    "\n",
    "$$13 \\% 4 = 1 \\:\\: \\neq \\:\\: 13/4  \\simeq 3 $$\n",
    "\n",
    "Es decir, 13 dividido 4 tiene como cociente 3 y residuo 1. Comprobémoslo en código:"
   ]
  },
  {
   "cell_type": "code",
   "execution_count": 4,
   "id": "5b7962bf-38ae-4c5d-9ee8-1ed7ebef611b",
   "metadata": {},
   "outputs": [
    {
     "name": "stdout",
     "output_type": "stream",
     "text": [
      "Operador módulo\n",
      "1\n",
      "0\n",
      "1\n"
     ]
    }
   ],
   "source": [
    "# Operador módulo\n",
    "print(\"Operador módulo\")\n",
    "print(13%4)\n",
    "print(25%5)\n",
    "print(135%2)"
   ]
  },
  {
   "cell_type": "markdown",
   "id": "dc2eb67e-dc95-4f65-8575-004d95ba8b06",
   "metadata": {},
   "source": [
    "## 1.3. Ejercicios"
   ]
  },
  {
   "attachments": {},
   "cell_type": "markdown",
   "id": "36fa5f10-aa74-4908-b397-34e6a807ecc3",
   "metadata": {},
   "source": [
    "1.3.1. Calcule la siguiente fórmula:\n",
    "\n",
    "$$[ ( 12^2 )*( 1/3 )+52 ]^{1/2}$$"
   ]
  },
  {
   "cell_type": "code",
   "execution_count": null,
   "id": "27d143c3-079d-427d-8d86-a0c8f5746aef",
   "metadata": {},
   "outputs": [],
   "source": []
  },
  {
   "attachments": {},
   "cell_type": "markdown",
   "id": "cf38bf6f-f3d6-45a2-8725-9a3235609bda",
   "metadata": {},
   "source": [
    "1.3.2. Encuentre el residuo de la siguiente divición:\n",
    "\n",
    "$$(5*5 + 4)/3$$"
   ]
  },
  {
   "cell_type": "code",
   "execution_count": null,
   "id": "9623b1c6-e2b3-4efb-81af-08602ae152ba",
   "metadata": {},
   "outputs": [],
   "source": []
  },
  {
   "attachments": {},
   "cell_type": "markdown",
   "id": "88e4dde5",
   "metadata": {},
   "source": [
    "1.3.3. Encuentre cuántos grados Fahrenheit son 100° Celsius:"
   ]
  },
  {
   "cell_type": "code",
   "execution_count": null,
   "id": "88d8a248",
   "metadata": {},
   "outputs": [],
   "source": []
  },
  {
   "cell_type": "markdown",
   "id": "9664fa61-1a3a-40f8-9453-56f0e740757e",
   "metadata": {},
   "source": [
    "Python (y todo tipo de lenguaje de programación) tiene clasificaciones de los tipos de datos (o variables). Es importante manejar bien los tipos de datos para que podamos obtener lo que necesitamos, ya que cada variable puede ser guardado en diferentes tipos y cada tipo permite hacer diferentes cosas.\n",
    "\n",
    "Los tipos más comúnes son los siguientes:"
   ]
  },
  {
   "cell_type": "markdown",
   "id": "01f25f6c-a5ab-4b5f-bfc8-b176c02dd23c",
   "metadata": {},
   "source": [
    "# 2. Tipos de datos"
   ]
  },
  {
   "cell_type": "markdown",
   "id": "a1c8c5b9-f4e5-44b2-9e9d-9c803f15d11a",
   "metadata": {},
   "source": [
    "## 2.1. Tipo String (`str`)"
   ]
  },
  {
   "attachments": {},
   "cell_type": "markdown",
   "id": "60963b03-3a4b-48bf-a180-11c96bf8a525",
   "metadata": {},
   "source": [
    "Los textos se guardan como strings (`str`), con tan solo utilizar las comillas (« \"\" » o « '' »):"
   ]
  },
  {
   "cell_type": "code",
   "execution_count": 1,
   "id": "1edcb2eb-fac9-47da-a19f-37357782cf51",
   "metadata": {},
   "outputs": [
    {
     "name": "stdout",
     "output_type": "stream",
     "text": [
      "El texto Hello, world es de tipo <class 'str'> .\n"
     ]
    }
   ],
   "source": [
    "# Creando la variable\n",
    "x = \"Hello, world\"\n",
    "print(\"El texto\", x, \"es de tipo\", type(x), \".\")"
   ]
  },
  {
   "attachments": {},
   "cell_type": "markdown",
   "id": "75e0a465",
   "metadata": {},
   "source": [
    "Si de casualidad deseamos establecer manualmente el tipo `string`, se puede especificar mediante el método `str()`:"
   ]
  },
  {
   "cell_type": "code",
   "execution_count": 8,
   "id": "3691bfdd-3314-4bf3-b995-6589c9fb4e7b",
   "metadata": {},
   "outputs": [
    {
     "data": {
      "text/plain": [
       "str"
      ]
     },
     "execution_count": 8,
     "metadata": {},
     "output_type": "execute_result"
    }
   ],
   "source": [
    "x = str(\"Hello, world\")\n",
    "type(x)"
   ]
  },
  {
   "attachments": {},
   "cell_type": "markdown",
   "id": "4d342c49",
   "metadata": {},
   "source": [
    "Ahora, se puede intercambiar entre « \"\" » o « '' » para escribir una frase que contenga, por ejemplo, una cita interna:"
   ]
  },
  {
   "cell_type": "code",
   "execution_count": 2,
   "id": "c5bd49a2",
   "metadata": {},
   "outputs": [
    {
     "name": "stdout",
     "output_type": "stream",
     "text": [
      "Los pájaros en la ventana siempre me extienden un '¡Buenos días!' con su cantar.\n"
     ]
    }
   ],
   "source": [
    "print(\"Los pájaros en la ventana siempre me extienden un '¡Buenos días!' con su cantar.\")"
   ]
  },
  {
   "attachments": {},
   "cell_type": "markdown",
   "id": "c3f7c03a-742b-4581-b1f3-cdaf7e67e0e7",
   "metadata": {},
   "source": [
    "Así mismo, se puede realizar algunas operaciones con los strings para modificarlos internamente. Si bien existe un centenar de estos métodos, repasemos algunos de los más importantes:"
   ]
  },
  {
   "attachments": {},
   "cell_type": "markdown",
   "id": "d01f071b-7be0-405a-9db3-4ace53ef582c",
   "metadata": {},
   "source": [
    "### 2.1.1. Cambios de mayúsculas y minúsculas"
   ]
  },
  {
   "cell_type": "code",
   "execution_count": 2,
   "id": "d7936552-1c41-4c03-946f-d6b1101e0bea",
   "metadata": {},
   "outputs": [
    {
     "name": "stdout",
     "output_type": "stream",
     "text": [
      "Original:\n",
      "I love Big Data\n",
      "Lower:\n",
      "i love big data\n",
      "Upper:\n",
      "I LOVE BIG DATA\n",
      "Capitalize:\n",
      "I love big data\n",
      "Title:\n",
      "I Love Big Data\n",
      "Swap Case:\n",
      "i LOVE bIG dATA\n"
     ]
    }
   ],
   "source": [
    "# Creando la variable\n",
    "txt = \"I love Big Data\"\n",
    "print(\"Original:\")\n",
    "print(txt)\n",
    "\n",
    "print(\"Lower:\")\n",
    "print(txt.lower()) # Todas las letras se vuelven minúscula\n",
    "\n",
    "print(\"Upper:\")\n",
    "print(txt.upper()) # Todas las letras se vuelven mayúscula\n",
    "\n",
    "print(\"Capitalize:\")\n",
    "print(txt.capitalize()) # Solo la primera letra se vuelve mayúscula\n",
    "\n",
    "print(\"Title:\")\n",
    "print(txt.title()) # Todas las primeras letras de cada palabra se vuelven mayúscula\n",
    "\n",
    "print(\"Swap Case:\")\n",
    "print(txt.swapcase()) # Intercambia las mayúsculas y minúsculas"
   ]
  },
  {
   "attachments": {},
   "cell_type": "markdown",
   "id": "efd66a23",
   "metadata": {},
   "source": [
    "### 2.1.2. Manipulación de Strings\n",
    "\n",
    "#### 2.1.2.1. Método split"
   ]
  },
  {
   "attachments": {},
   "cell_type": "markdown",
   "id": "f6191598",
   "metadata": {},
   "source": [
    "El método `split()` permite dividir una cadena string en subcadenas dentro de una lista. Más adelante explicaremos qué es una lista, pero por ahora nos conviene saber que es una forma de guardar varios datos en un solo elemento.\n",
    "\n",
    "Veamos cómo se ve este método y qué produce por medio de la famosa frase del cantautor Big Boy:"
   ]
  },
  {
   "cell_type": "code",
   "execution_count": 8,
   "id": "9f5af0c9",
   "metadata": {},
   "outputs": [],
   "source": [
    "txt = \"Quisiera volver a amarte, volver a quererte, Volver a tenerte cerca de mí, girl. Mis ojos lloran por ti.\""
   ]
  },
  {
   "cell_type": "code",
   "execution_count": 9,
   "id": "911b1d1b",
   "metadata": {},
   "outputs": [
    {
     "data": {
      "text/plain": [
       "['Quisiera',\n",
       " 'volver',\n",
       " 'a',\n",
       " 'amarte,',\n",
       " 'volver',\n",
       " 'a',\n",
       " 'quererte,',\n",
       " 'Volver',\n",
       " 'a',\n",
       " 'tenerte',\n",
       " 'cerca',\n",
       " 'de',\n",
       " 'mí,',\n",
       " 'girl.',\n",
       " 'Mis',\n",
       " 'ojos',\n",
       " 'lloran',\n",
       " 'por',\n",
       " 'ti.']"
      ]
     },
     "execution_count": 9,
     "metadata": {},
     "output_type": "execute_result"
    }
   ],
   "source": [
    "txt.split()"
   ]
  },
  {
   "attachments": {},
   "cell_type": "markdown",
   "id": "36ccba40",
   "metadata": {},
   "source": [
    "Podemos separarla por un substring específico, tal como \"Volver\":"
   ]
  },
  {
   "cell_type": "code",
   "execution_count": 10,
   "id": "57f22b08",
   "metadata": {},
   "outputs": [
    {
     "data": {
      "text/plain": [
       "['Quisiera ',\n",
       " ' a amarte, ',\n",
       " ' a quererte, Volver a tenerte cerca de mí, girl. Mis ojos lloran por ti.']"
      ]
     },
     "execution_count": 10,
     "metadata": {},
     "output_type": "execute_result"
    }
   ],
   "source": [
    "txt.split(\"volver\")"
   ]
  },
  {
   "attachments": {},
   "cell_type": "markdown",
   "id": "cd607eb4",
   "metadata": {},
   "source": [
    "También podemos especificar cuál es la cantidad de divisiones que deseamos:"
   ]
  },
  {
   "cell_type": "code",
   "execution_count": 12,
   "id": "3feb58d7",
   "metadata": {},
   "outputs": [
    {
     "data": {
      "text/plain": [
       "['Quisiera ',\n",
       " ' a amarte, volver a quererte, Volver a tenerte cerca de mí, girl. Mis ojos lloran por ti.']"
      ]
     },
     "execution_count": 12,
     "metadata": {},
     "output_type": "execute_result"
    }
   ],
   "source": [
    "txt.split(\"volver\", 1)"
   ]
  },
  {
   "attachments": {},
   "cell_type": "markdown",
   "id": "b7f2e272-6948-46c9-9461-17c8c5fbb140",
   "metadata": {},
   "source": [
    "#### 2.1.2.2. Método replace"
   ]
  },
  {
   "attachments": {},
   "cell_type": "markdown",
   "id": "2b5206c5",
   "metadata": {},
   "source": [
    "El método `replace()` nos permite reemplazar en una cadena de texto una palabra o serie de palabras (una cadena de string) por otra que deseemos:"
   ]
  },
  {
   "cell_type": "code",
   "execution_count": 20,
   "id": "f61a0d36-301c-405f-bf82-92e86415c1ba",
   "metadata": {},
   "outputs": [
    {
     "name": "stdout",
     "output_type": "stream",
     "text": [
      "Original:\n",
      " ¿Dónde estás? Yo le llego, dime dónde, Yo te conozco y eres adicta a lo under (a lo under)\n",
      "\n",
      "\n",
      "Replace:\n",
      " ¿Dónde estás? Yo le llego, dime dónde, Yo te conozco y eres adicta a la carranga (a la carranga)\n"
     ]
    }
   ],
   "source": [
    "txt = \"¿Dónde estás? Yo le llego, dime dónde, Yo te conozco y eres adicta a lo under (a lo under)\"\n",
    "\n",
    "print(\"Original:\\n\", txt)\n",
    "print(\"\\n\")\n",
    "\n",
    "# Aplicamos el replace\n",
    "print(\"Replace:\\n\", txt.replace(\"lo under\", \"la carranga\"))\n"
   ]
  },
  {
   "attachments": {},
   "cell_type": "markdown",
   "id": "eaac9dd0-1744-4d46-9821-3d1270fa7341",
   "metadata": {},
   "source": [
    "#### 2.1.2.3. Búsqueda en strings"
   ]
  },
  {
   "attachments": {},
   "cell_type": "markdown",
   "id": "86e29b1a",
   "metadata": {},
   "source": [
    "También podemos buscar la posición de una subcadena de string dentro de una cadena. Podemos hacerlo mediante el método `find()` para buscar la posición de la primera ocurrencia y el método `rfind()` para encontrar la posición de la última ocurrencia.\n",
    "\n",
    "Veamos cómo funciona con la artista Carolina Giraldo:"
   ]
  },
  {
   "cell_type": "code",
   "execution_count": 21,
   "id": "820e3783-d7e6-4783-9b30-04406fabc36a",
   "metadata": {},
   "outputs": [
    {
     "name": "stdout",
     "output_type": "stream",
     "text": [
      "Original: \n",
      "Baby, ¿qué más?, Hace rato que no sé na de ti, Taba con alguien, pero ya estoy free, Puesta pa revivir viejos tiempo, No salgo hace tiempo\n",
      "\n",
      "\n",
      "Find:\n",
      "110\n",
      "\n",
      "\n",
      "RFind:\n",
      "132\n"
     ]
    }
   ],
   "source": [
    "# Creando la variable\n",
    "x = \"Baby, ¿qué más?, Hace rato que no sé na de ti, Taba con alguien, pero ya estoy free, Puesta pa revivir viejos tiempo, No salgo hace tiempo\"\n",
    "print(\"Original: \\n{0}\".format(x))\n",
    "print(\"\\n\")\n",
    "\n",
    "print(\"Find:\")\n",
    "print(x.find(\"tiempo\")) # Busca el string y devuelve la primera posición en la que está (pos. 22)\n",
    "print(\"\\n\")\n",
    "\n",
    "print(\"RFind:\")\n",
    "print(x.rfind(\"tiempo\")) # Busca el string y devuelve la última posición en la que está (pos. 27)"
   ]
  },
  {
   "cell_type": "markdown",
   "id": "b94c73c0-7055-4edf-8680-150ced16a983",
   "metadata": {},
   "source": [
    "> **Nota:** se debe notar que las posiciones que devuelve el programa están un valor por debajo que el que podemos observar. Por ejemplo, si lo encontramos en la posición 27, nos devuelve 26. Esto ocurre porque Python **cuenta desde 0, no desde 1**."
   ]
  },
  {
   "attachments": {},
   "cell_type": "markdown",
   "id": "a191e08f-e015-4974-8974-54facf2bb3fa",
   "metadata": {},
   "source": [
    "#### 2.1.2.4. Método Join"
   ]
  },
  {
   "attachments": {},
   "cell_type": "markdown",
   "id": "91d11fa1",
   "metadata": {},
   "source": [
    "El método `join()` permite unir una lista de strings que están separadas en diferentes elementos. Sin embargo, también podemos separar a drede una cadena de texto para, por ejemplo, cambiar un elemento y volver a unirlo todo para tener nuevamente una nueva cadena de texto."
   ]
  },
  {
   "cell_type": "code",
   "execution_count": 12,
   "id": "bd59eeef-8ba9-4cf1-b0e6-d1a716d96e29",
   "metadata": {},
   "outputs": [
    {
     "data": {
      "text/plain": [
       "\"That's one big step for man, one giant leap for mankind.\""
      ]
     },
     "execution_count": 12,
     "metadata": {},
     "output_type": "execute_result"
    }
   ],
   "source": [
    "# Creando la variable\n",
    "x = \"That's one small step for man, one giant leap for mankind.\"\n",
    "\n",
    "y = x.split() # Dividiendo el string\n",
    "y[2] = \"big\" # Cambiando una palabra\n",
    "\" \".join(y) # Volviendo a unir la lista"
   ]
  },
  {
   "attachments": {},
   "cell_type": "markdown",
   "id": "f78945cd",
   "metadata": {},
   "source": [
    "En este caso, este pequeño programa permite dividir un string, cambiar una palabra y volverlo nuevamente un string. El método `join()` permite juntar nuevamente la lista."
   ]
  },
  {
   "cell_type": "markdown",
   "id": "2004e647-ebad-4aba-ab1f-0884ce3bc69c",
   "metadata": {},
   "source": [
    "### 2.1.5. Pequeño ejercicio"
   ]
  },
  {
   "cell_type": "markdown",
   "id": "09a46cbc-aab3-4ef8-ab85-029ffef1554c",
   "metadata": {},
   "source": [
    "Coja el siguiente elemento `str` del gran canta-autor Darío Gómez y conviértala en mayúsculas y divídala en una lista de palabras:"
   ]
  },
  {
   "cell_type": "code",
   "execution_count": 4,
   "id": "a04540f4-4ef1-40b7-9c35-fc12df18159f",
   "metadata": {},
   "outputs": [],
   "source": [
    "lyrics = \"Nadie es eterno en el mundo, Ni teniendo un corazón, Que tanto siente y suspira por la vida y el amor\""
   ]
  },
  {
   "cell_type": "code",
   "execution_count": null,
   "id": "8d28caf8-e387-48d8-ba3e-fec8e42a8923",
   "metadata": {},
   "outputs": [],
   "source": []
  },
  {
   "cell_type": "markdown",
   "id": "1bd3e2e1-312d-4b76-9bb2-f88e700de21f",
   "metadata": {},
   "source": [
    "## 2.2. Tipo Numérico (`int`, `float`, `complex`)"
   ]
  },
  {
   "cell_type": "markdown",
   "id": "5e6e7878-6699-40d7-a65b-08af01a59c09",
   "metadata": {},
   "source": [
    "Los números se guardan bajo tres tipos: enteros (`int`), reales (`float`) y complejos (`complex`). Nos concentraremos en `int` y `float`:"
   ]
  },
  {
   "cell_type": "code",
   "execution_count": 13,
   "id": "24fb7954-1513-4eee-b2a3-62e805a9329f",
   "metadata": {},
   "outputs": [
    {
     "name": "stdout",
     "output_type": "stream",
     "text": [
      "<class 'int'>\n",
      "<class 'float'>\n"
     ]
    }
   ],
   "source": [
    "# Creando una variable entera\n",
    "x = 1\n",
    "print(type(x))\n",
    "\n",
    "# Creando una variable real no entera\n",
    "y = 1.1\n",
    "print(type(y))"
   ]
  },
  {
   "cell_type": "markdown",
   "id": "a524e17e-8955-48a4-a546-ae56e73db41f",
   "metadata": {},
   "source": [
    "Los tipo numérico diferencian entre los enteros y los reales no enteros por memoria: los reales no enteros ocupan más memoria que los enteros. No obstante, se puede establecer manualmente los tipos:"
   ]
  },
  {
   "cell_type": "code",
   "execution_count": 14,
   "id": "1c3d7092-29c9-4003-b559-cb7d0ac1b4cb",
   "metadata": {},
   "outputs": [
    {
     "name": "stdout",
     "output_type": "stream",
     "text": [
      "El número 1.0 es de tipo <class 'float'>.\n",
      "El número 1 es de tipo <class 'int'>.\n"
     ]
    }
   ],
   "source": [
    "x = float(x) # Estableciendo manualmente tipo float\n",
    "print(\"El número {0} es de tipo {1}.\".format(x, type(x)))\n",
    "\n",
    "x = int(x) # Estableciendo manualmente tipo int\n",
    "print(\"El número {0} es de tipo {1}.\".format(x, type(x)))"
   ]
  },
  {
   "cell_type": "markdown",
   "id": "6c07dd7f-abb1-45eb-bd60-d1c69683be77",
   "metadata": {},
   "source": [
    "### 2.2.1. Aproximación de valores"
   ]
  },
  {
   "cell_type": "code",
   "execution_count": 15,
   "id": "e4d05084-0bb8-4ffd-bca1-8e5db3d566aa",
   "metadata": {},
   "outputs": [
    {
     "name": "stdout",
     "output_type": "stream",
     "text": [
      "Round:\n",
      "2\n",
      "3.14\n",
      "\n",
      "\n",
      "Ceil:\n",
      "4\n",
      "\n",
      "\n",
      "Floor:\n",
      "5\n",
      "\n",
      "\n",
      "Valor absoluto:\n",
      "3.0\n"
     ]
    }
   ],
   "source": [
    "import math\n",
    "\n",
    "print(\"Round:\")\n",
    "x = 2.456\n",
    "print(round(x)) # Aproxima los valores a entero\n",
    "print(round(math.pi, 2)) # Aproxima los valores a dos decimales\n",
    "print(\"\\n\")\n",
    "\n",
    "print(\"Ceil:\")\n",
    "print(math.ceil(3.2)) # Aproxima al entero siguiente, así no supere la mitad en decimales\n",
    "print(\"\\n\")\n",
    "\n",
    "print(\"Floor:\")\n",
    "print(math.floor(5.7)) # Aproxima al entero anterior, así supere la mitad en decimales\n",
    "print(\"\\n\")\n",
    "\n",
    "print(\"Valor absoluto:\")\n",
    "print(math.fabs(-3))"
   ]
  },
  {
   "cell_type": "markdown",
   "id": "5dcb3883-f45a-4ee8-9317-31ef744a6b59",
   "metadata": {},
   "source": [
    "### 2.2.2. Valores constantes"
   ]
  },
  {
   "cell_type": "code",
   "execution_count": 16,
   "id": "a3128c79-2047-4c04-aa20-f61748511326",
   "metadata": {},
   "outputs": [
    {
     "name": "stdout",
     "output_type": "stream",
     "text": [
      "Pi:\n",
      "3.141592653589793\n",
      "\n",
      "\n",
      "Euler:\n",
      "2.718281828459045\n",
      "\n",
      "\n",
      "Missing o valor vacío:\n",
      "nan\n"
     ]
    }
   ],
   "source": [
    "import math\n",
    "\n",
    "print(\"Pi:\")\n",
    "print(math.pi)\n",
    "print(\"\\n\")\n",
    "\n",
    "print(\"Euler:\")\n",
    "print(math.e)\n",
    "print(\"\\n\")\n",
    "\n",
    "print(\"Missing o valor vacío:\")\n",
    "print(math.nan)"
   ]
  },
  {
   "cell_type": "markdown",
   "id": "dec0d01d-1b3e-48c1-92d8-8b9ccc327d94",
   "metadata": {},
   "source": [
    "## 2.3. Tipos de secuencia"
   ]
  },
  {
   "cell_type": "markdown",
   "id": "bb92de06-e34d-4569-8a94-4d1702b82b3f",
   "metadata": {},
   "source": [
    "Los tipos de secuencia son variables que se construyen de diferentes datos. Hay tres tipos: lista (`list`), tupla (`tuple`) y rango (`range`). Las variables tipo tupla tienden a ser complicados y no permiten la modificación de sus datos internos, por lo cual no lo profundizaremos en este curso. Nos concentraremos en los tipos `list` y `range`:"
   ]
  },
  {
   "cell_type": "markdown",
   "id": "97c85de5-63c0-4ef9-b1f4-0bd95802fe3f",
   "metadata": {},
   "source": [
    "### 2.3.1. Tipo `list`"
   ]
  },
  {
   "cell_type": "markdown",
   "id": "7aea53b3-b44e-452c-ac65-0b951233dd46",
   "metadata": {},
   "source": [
    "Las litas se construyen con los operadores `[]`, incluyendo dentro las variables que queremos ingresar:"
   ]
  },
  {
   "cell_type": "code",
   "execution_count": 17,
   "id": "36f1dd30-fcb6-4698-9d30-f6130f4c270f",
   "metadata": {},
   "outputs": [
    {
     "name": "stdout",
     "output_type": "stream",
     "text": [
      "Lista con elementos del mismo tipo:\n",
      "[1, 5, 8]\n",
      "['Hola', 'Amigos', 'Míos']\n",
      "\n",
      "\n",
      "Lista con elementos de diferente tipo:\n",
      "[1, 'Wey', True]\n",
      "\n",
      "\n"
     ]
    }
   ],
   "source": [
    "# Creando una lista con variables del mismo tipo\n",
    "x = [1, 5, 8] # Numérico\n",
    "y = [\"Hola\", \"Amigos\", \"Míos\"] # String\n",
    "\n",
    "print(\"Lista con elementos del mismo tipo:\")\n",
    "print(\"{0}\\n{1}\".format(x, y))\n",
    "print(\"\\n\")\n",
    "\n",
    "# Creando una lista con variables de diferentes tipos\n",
    "z = [1, \"Wey\", True]\n",
    "\n",
    "print(\"Lista con elementos de diferente tipo:\")\n",
    "print(\"{0}\".format(z))\n",
    "print(\"\\n\")"
   ]
  },
  {
   "cell_type": "markdown",
   "id": "5ce889cc-fbb9-4681-961a-cd1ebdf01cc2",
   "metadata": {},
   "source": [
    "También se pueden crear con variables ya creadas con anterioridad (¡incluyendo listas!):"
   ]
  },
  {
   "cell_type": "code",
   "execution_count": 18,
   "id": "7b8d5da5-250d-450d-a708-1ee9ff00493d",
   "metadata": {},
   "outputs": [
    {
     "name": "stdout",
     "output_type": "stream",
     "text": [
      "[1, 'Obvio, bobis', ['Hasta que nos muramuramonos', 1]]\n",
      "\n",
      "\n"
     ]
    }
   ],
   "source": [
    "# Creando variables\n",
    "x = 1\n",
    "y = \"Obvio, bobis\"\n",
    "z = [\"Hasta que nos muramuramonos\", 1]\n",
    "\n",
    "lst = [x, y, z]\n",
    "print(lst)\n",
    "print(\"\\n\")"
   ]
  },
  {
   "cell_type": "markdown",
   "id": "047dc780-49f1-4efd-9109-502fcd3b3fc9",
   "metadata": {},
   "source": [
    "Se pueden extraer elementos de esas listas fácilmente, llamando la lista y su posición con el operador `[]`:"
   ]
  },
  {
   "cell_type": "code",
   "execution_count": 19,
   "id": "ba23092d-2a47-415e-baf4-e52fe94535c2",
   "metadata": {},
   "outputs": [
    {
     "name": "stdout",
     "output_type": "stream",
     "text": [
      "¿Se puede?\n"
     ]
    },
    {
     "data": {
      "text/plain": [
       "'Obvio, bobis'"
      ]
     },
     "execution_count": 19,
     "metadata": {},
     "output_type": "execute_result"
    }
   ],
   "source": [
    "print(\"¿Se puede?\")\n",
    "lst[1]"
   ]
  },
  {
   "cell_type": "markdown",
   "id": "69eec03f-ceab-485a-b617-f92605579902",
   "metadata": {},
   "source": [
    "Incluso se puede llamar un elemento dentro de la lista que teníamos dentro de la lista principal:"
   ]
  },
  {
   "cell_type": "code",
   "execution_count": 20,
   "id": "9c14b3d8-5887-48d1-939e-9556b9c58b1e",
   "metadata": {},
   "outputs": [
    {
     "data": {
      "text/plain": [
       "'Hasta que nos muramuramonos'"
      ]
     },
     "execution_count": 20,
     "metadata": {},
     "output_type": "execute_result"
    }
   ],
   "source": [
    "lst[2][0]"
   ]
  },
  {
   "cell_type": "markdown",
   "id": "ebf1874a-d95a-4a47-a1ff-3d63c4ec7fe6",
   "metadata": {},
   "source": [
    "También podemos obtener la posición en la que está un elemento en particular:"
   ]
  },
  {
   "cell_type": "code",
   "execution_count": 21,
   "id": "2a0b5ae4-0991-47b7-8088-d03089cd5653",
   "metadata": {},
   "outputs": [
    {
     "data": {
      "text/plain": [
       "0"
      ]
     },
     "execution_count": 21,
     "metadata": {},
     "output_type": "execute_result"
    }
   ],
   "source": [
    "lst.index(1)"
   ]
  },
  {
   "cell_type": "markdown",
   "id": "d6eb88fc-9edf-4e60-adf0-f062986ee54c",
   "metadata": {},
   "source": [
    "### 2.3.2. Tipo `range`:"
   ]
  },
  {
   "cell_type": "markdown",
   "id": "7a577ada-830c-453d-840f-17572bb3184f",
   "metadata": {},
   "source": [
    "Los tipo `range` son rangos de números. Estos sirven mucho para ciclos (loops), los cuales utilizaremos más adelante:"
   ]
  },
  {
   "cell_type": "code",
   "execution_count": 22,
   "id": "477bf3b5-269d-449e-a666-f7a7976480fc",
   "metadata": {},
   "outputs": [
    {
     "name": "stdout",
     "output_type": "stream",
     "text": [
      "range(0, 6)\n",
      "<class 'range'>\n"
     ]
    }
   ],
   "source": [
    "x = range(6)\n",
    "print(x)\n",
    "print(type(x))"
   ]
  },
  {
   "cell_type": "markdown",
   "id": "d99c7ed8-671f-47ab-abe8-c517685ccfce",
   "metadata": {},
   "source": [
    "Un ejemplo de su uso es el siguiente:"
   ]
  },
  {
   "cell_type": "code",
   "execution_count": 23,
   "id": "764601f3-0ced-4827-bee9-87f68cb848aa",
   "metadata": {},
   "outputs": [
    {
     "name": "stdout",
     "output_type": "stream",
     "text": [
      "0\n",
      "1\n",
      "2\n",
      "3\n",
      "4\n",
      "\n",
      "\n",
      "1\n",
      "2\n"
     ]
    }
   ],
   "source": [
    "# Iniciando desde 0\n",
    "for i in range(5):\n",
    "    print(i)\n",
    "    \n",
    "print(\"\\n\")\n",
    "    \n",
    "# Iniciando desde un número específico\n",
    "for i in range(1, 3):\n",
    "    print(i)"
   ]
  },
  {
   "cell_type": "markdown",
   "id": "e03fefc9-c48f-4ad6-9b0b-f9a72d201deb",
   "metadata": {},
   "source": [
    "## 2.3. Tipo valores booleanos"
   ]
  },
  {
   "cell_type": "markdown",
   "id": "b0f1e808-ef36-40c4-afa1-d718d2d676cd",
   "metadata": {},
   "source": [
    "Los valores booleanos son verdadero (`True`) y falso (`False`). Representan respuestas a preguntas o condicionales:"
   ]
  },
  {
   "cell_type": "code",
   "execution_count": 24,
   "id": "afaa6609-e3d3-4862-b8c2-05d005d7b39e",
   "metadata": {},
   "outputs": [
    {
     "name": "stdout",
     "output_type": "stream",
     "text": [
      "<class 'bool'>\n"
     ]
    }
   ],
   "source": [
    "# Creando una variable booleana\n",
    "x = True\n",
    "print(type(x))"
   ]
  },
  {
   "cell_type": "markdown",
   "id": "6b07ef48-62c5-4114-8b07-3780c27e80d1",
   "metadata": {},
   "source": [
    "Se puede convertir manualmente un valor en booleano:"
   ]
  },
  {
   "cell_type": "code",
   "execution_count": 25,
   "id": "41204edd-dde2-4b7c-9f8e-9ce60ba8c97b",
   "metadata": {},
   "outputs": [
    {
     "name": "stdout",
     "output_type": "stream",
     "text": [
      "El número True es de tipo <class 'bool'>.\n"
     ]
    }
   ],
   "source": [
    "x = bool(3.2) # Estableciendo manualmente tipo booleano\n",
    "print(\"El número {0} es de tipo {1}.\".format(x, type(x)))"
   ]
  },
  {
   "cell_type": "markdown",
   "id": "bb84943e-0c01-4e8d-bcc5-1036fcc67253",
   "metadata": {},
   "source": [
    "También se puede crear una comparación de tipo booleano:"
   ]
  },
  {
   "cell_type": "code",
   "execution_count": 26,
   "id": "2e7fa83a-ae5f-4337-8ac9-26909f436997",
   "metadata": {},
   "outputs": [
    {
     "name": "stdout",
     "output_type": "stream",
     "text": [
      "True\n"
     ]
    }
   ],
   "source": [
    "x = 5\n",
    "y = 5\n",
    "\n",
    "bo = (x == y)\n",
    "\n",
    "print(bo)"
   ]
  },
  {
   "cell_type": "markdown",
   "id": "4b5a0594-c2c0-4904-96dd-cab0dda47bc7",
   "metadata": {},
   "source": [
    "### 2.3.1. Operadores de comparación"
   ]
  },
  {
   "cell_type": "markdown",
   "id": "5409f520-cef0-4f14-ada4-4ef3ad17d23f",
   "metadata": {},
   "source": [
    "Existen operadores que permiten comparar valores numéricos, strings, de secuencia e, incluso, de diccionario (que después veremos). Ello nos facilitará la construcción de condicionales, pero también nos permite comparar elementos. Estos operadores son:\n",
    "\n",
    "Operador    | Descripción\n",
    "------------|-----------------\n",
    "`>`         | `True` si el operando de la izquierda es estructamente mayor al de la derecha. `False` en caso contrario.\n",
    "`>=`        | `True` si el operando de la izquierda es mayor o igual al de la derecha. `False` en caso contrario.\n",
    "`<`         | `True` si el operando de la izquierda es estructamente menor al de la derecha. `False` en caso contrario.\n",
    "`<=`        | `True` si el operando de la izquierda es menor o igual al de la derecha. `False` en caso contrario.\n",
    "`==`        | `True` si el operando de la izquierda es igual al de la derecha. `False` en caso contrario.\n",
    "`!=`        | `True` si el operando de la izquierda es diferente al de la derecha. `False` en caso contrario.\n"
   ]
  },
  {
   "cell_type": "markdown",
   "id": "cc6b5e72-fb98-46c7-a554-d86362efd4bb",
   "metadata": {},
   "source": [
    "Veamos un ejemplo sencillo sobre cómo se ve este tipo de comparación:"
   ]
  },
  {
   "cell_type": "code",
   "execution_count": 27,
   "id": "8beba0e0-6801-491a-aed2-02c9f52296b0",
   "metadata": {},
   "outputs": [
    {
     "data": {
      "text/plain": [
       "False"
      ]
     },
     "execution_count": 27,
     "metadata": {},
     "output_type": "execute_result"
    }
   ],
   "source": [
    "# Creando variables\n",
    "x = 12\n",
    "y = 11\n",
    "\n",
    "x < y"
   ]
  },
  {
   "cell_type": "markdown",
   "id": "39696f47-56f9-4994-bace-23ea7d9e86e7",
   "metadata": {},
   "source": [
    "Ahora veamos varios ejemplos:"
   ]
  },
  {
   "cell_type": "code",
   "execution_count": 28,
   "id": "c7a3fde1-fb05-4316-b443-79d4b0c57fd0",
   "metadata": {},
   "outputs": [
    {
     "name": "stdout",
     "output_type": "stream",
     "text": [
      "Comparaciones con los números 10 y 5\n",
      "Mayor que: \tTrue\n",
      "Menos que: \tFalse\n",
      "Igual que: \tFalse\n",
      "Diferente que: \tTrue\n",
      "\n",
      "\n",
      "Comparaciones con los strings 'Hola' y 'hola'\n",
      "Sin estandarizar: \tFalse\n",
      "Con estandarizar: \tTrue\n"
     ]
    }
   ],
   "source": [
    "# Creando las variables\n",
    "x = 10\n",
    "y = 5\n",
    "print(\"Comparaciones con los números {0} y {1}\".format(x, y))\n",
    "# Realizando comparaciones\n",
    "print(\"Mayor que: \\t{0}\".format(x > y))\n",
    "print(\"Menos que: \\t{0}\".format(x < y))\n",
    "print(\"Igual que: \\t{0}\".format(x == y))\n",
    "print(\"Diferente que: \\t{0}\".format(x != y))\n",
    "print(\"\\n\")\n",
    "\n",
    "# Creando las variables\n",
    "x = \"Hola\"\n",
    "y = \"hola\"\n",
    "print(\"Comparaciones con los strings '{0}' y '{1}'\".format(x, y))\n",
    "# Realizando comparaciones\n",
    "print(\"Sin estandarizar: \\t{0}\".format(x == y)) # Comparación sin modificar los strings\n",
    "print(\"Con estandarizar: \\t{0}\".format(x.upper() == y.upper())) # Comparación haciendo una estandarización de los strings"
   ]
  },
  {
   "cell_type": "markdown",
   "id": "98491856-1704-4d47-b677-2b521516bc64",
   "metadata": {},
   "source": [
    "> **Nota:** es importante anotar que para el computador un caracter con mayúscula es diferente a uno con minúscula. En ese sentido, \"bEbExIto\" es diferente de \"bebexito\", aunque para nosotros es claro que es la misma palabra. Teniendo en cuenta lo anterior, se debe realizar un procesamiento previo para que las palabras se entiendan como iguales. Al procesamiento de texto de este tipo se le llama Procesamiento de Lenguaje Natural (_Natural Language Processing_ - NLP)."
   ]
  },
  {
   "cell_type": "markdown",
   "id": "5e19a03b-07e4-4caf-be6b-10c7f7332213",
   "metadata": {},
   "source": [
    "Las comparaciones también funcionan con operaciones matemáticas:"
   ]
  },
  {
   "cell_type": "code",
   "execution_count": 29,
   "id": "386f02d5-b6c7-4b2b-9ae6-c8d3aefb2264",
   "metadata": {},
   "outputs": [
    {
     "name": "stdout",
     "output_type": "stream",
     "text": [
      "Suma:\n",
      "False\n",
      "\n",
      "\n",
      "División:\n",
      "True\n",
      "\n",
      "\n",
      "Operador modular:\n",
      "True\n"
     ]
    }
   ],
   "source": [
    "x = 10\n",
    "y = 5\n",
    "\n",
    "print(\"Suma:\")\n",
    "print(x + y != 15)\n",
    "print(\"\\n\")\n",
    "\n",
    "print(\"División:\")\n",
    "print(x/2 == y)\n",
    "print(\"\\n\")\n",
    "\n",
    "print(\"Operador modular:\")\n",
    "print(x%y == 0)"
   ]
  },
  {
   "cell_type": "markdown",
   "id": "f2558cd8-1449-4728-b24c-9f092729cdb0",
   "metadata": {},
   "source": [
    "## 2.4. Tipo categórico o factor"
   ]
  },
  {
   "cell_type": "markdown",
   "id": "0ffdb9f6-504f-40ab-a8c8-e9414f287687",
   "metadata": {},
   "source": [
    "Este tipo no es un tipo construido dentro del ambiente de Python, los demás sí lo son. No obstante, dentro de la Ciencia de Datos, especialmente en ML y AI es bastante importante, ya que permite analizar qué categorías tenemos en una base de datos. Ejemplos de categorías en la vida real son: estratos socioeconómicos, género, universidad en la que estudió, entre otros. Incluso podemos crear nuestras propias categorías: nivel de ingreso, si alguien estuvo expuesto a un tratamiento o no, categorizaciones de otras variables, entre otros.\n",
    "\n",
    "En ese sentido, las variables categóricas pueden ser obtenidas de valores originalmente numéricos (`int` o `float`) o en texto (`str`), pero tienen su tipo especial dentro de Python: "
   ]
  },
  {
   "cell_type": "code",
   "execution_count": 30,
   "id": "07121909-b528-4202-8e76-c0316cc80067",
   "metadata": {},
   "outputs": [],
   "source": [
    "#pip install pandas"
   ]
  },
  {
   "cell_type": "code",
   "execution_count": 31,
   "id": "edd61f6a-0627-4e15-83bb-342e657bccb9",
   "metadata": {},
   "outputs": [
    {
     "name": "stdout",
     "output_type": "stream",
     "text": [
      "\n",
      "Categoría sin pandas.Categorical() : \n",
      " 0    a\n",
      "1    b\n",
      "2    d\n",
      "3    a\n",
      "4    d\n",
      "dtype: category\n",
      "Categories (3, object): ['a', 'b', 'd']\n",
      "\n",
      "Categoría usando pandas.Categorical() : \n",
      "\n",
      "c1 :  [1, 2, 3, 1, 2, 3]\n",
      "Categories (3, int64): [1, 2, 3]\n",
      "\n",
      "c2 :  ['alto', 'medio', 'alto', 'alto', 'bajo', 'alto', 'bajo', 'medio', 'alto']\n",
      "Categories (3, object): ['alto', 'bajo', 'medio']\n"
     ]
    }
   ],
   "source": [
    "# Importando librerías\n",
    "import numpy as np # Numpy\n",
    "import pandas as pd # Pandas (hablaremos de este después)\n",
    " \n",
    "# Categorías usando dtype\n",
    "c = pd.Series([\"a\", \"b\", \"d\", \"a\", \"d\"], dtype =\"category\")\n",
    "print (\"\\nCategoría sin pandas.Categorical() : \\n\", c)\n",
    " \n",
    "# Categorías usando pandas\n",
    "print(\"\\nCategoría usando pandas.Categorical() : \\n\")\n",
    "c1 = pd.Categorical([1, 2, 3, 1, 2, 3])\n",
    "print (\"c1 : \", c1)\n",
    " \n",
    "c2 = pd.Categorical([\"alto\", \"medio\", \"alto\", \"alto\", \"bajo\",\n",
    "                     \"alto\", \"bajo\", \"medio\", \"alto\"])\n",
    "print (\"\\nc2 : \", c2)"
   ]
  },
  {
   "cell_type": "markdown",
   "id": "3e799413-d88a-4170-a516-8b62bb0a7065",
   "metadata": {},
   "source": [
    "También se puede estipular al programa si las categorías tienen un orden:"
   ]
  },
  {
   "cell_type": "code",
   "execution_count": 32,
   "id": "c7f1e851-743a-4829-b43f-c70e690843f1",
   "metadata": {},
   "outputs": [
    {
     "name": "stdout",
     "output_type": "stream",
     "text": [
      "Categoría sin orden: \n",
      " ['b', 'a', 'e', 't', 'c', 1]\n",
      "Categories (6, object): [1, 'a', 'b', 'c', 'e', 't']\n",
      "\n",
      "\n",
      "Categoría con orden: \n",
      " ['b', 'a', 'e', 't', 'c', 1, 5, 10]\n",
      "Categories (8, object): [1 < 5 < 10 < 'a' < 'b' < 'c' < 'e' < 't']\n"
     ]
    }
   ],
   "source": [
    "# Categorías sin orden\n",
    "c1 = pd.Categorical([\"b\", \"a\", \"e\", \"t\", \"c\", 1])\n",
    "print(\"Categoría sin orden: \\n\", c1)\n",
    "print(\"\\n\")\n",
    "\n",
    "# Categorías con orden\n",
    "c2 = pd.Categorical([\"b\", \"a\", \"e\", \"t\", \"c\", 1, 5, 10], ordered = True)\n",
    "print(\"Categoría con orden: \\n\", c2)"
   ]
  },
  {
   "cell_type": "markdown",
   "id": "e794685b-861e-4ce1-914c-0b8fe4fe2a94",
   "metadata": {},
   "source": [
    "Se ordena por orden alfabético, dando una jerarquía entre ellas. Ello sirve para ordenar categorías, gráficas y otros elementos. Sin embargo, veamos otro ejemplo:"
   ]
  },
  {
   "cell_type": "code",
   "execution_count": 33,
   "id": "3ab48a34-a36d-4838-81cd-94004008a870",
   "metadata": {},
   "outputs": [
    {
     "name": "stdout",
     "output_type": "stream",
     "text": [
      "Categoría sin orden: \n",
      " ['Miércoles', 'Jueves', 'Lunes', 'Martes', 'Viernes', 'Domingo', 'Sábado']\n",
      "Categories (7, object): ['Domingo', 'Jueves', 'Lunes', 'Martes', 'Miércoles', 'Sábado', 'Viernes']\n",
      "\n",
      "\n",
      "Categoría con orden: \n",
      " ['Miércoles', 'Jueves', 'Lunes', 'Martes', 'Viernes', 'Domingo', 'Sábado']\n",
      "Categories (7, object): ['Domingo' < 'Jueves' < 'Lunes' < 'Martes' < 'Miércoles' < 'Sábado' < 'Viernes']\n",
      "\n",
      "\n"
     ]
    }
   ],
   "source": [
    "# Categorías sin orden\n",
    "c1 = pd.Categorical([\"Miércoles\", \"Jueves\", \"Lunes\", \"Martes\",\n",
    "                     \"Viernes\", \"Domingo\", \"Sábado\"])\n",
    "print(\"Categoría sin orden: \\n\", c1)\n",
    "print(\"\\n\")\n",
    "\n",
    "# Categorías con orden alfabético\n",
    "c2 = pd.Categorical([\"Miércoles\", \"Jueves\", \"Lunes\", \"Martes\",\n",
    "                     \"Viernes\", \"Domingo\", \"Sábado\"], ordered = True)\n",
    "print(\"Categoría con orden: \\n\", c2)\n",
    "print(\"\\n\")"
   ]
  },
  {
   "cell_type": "markdown",
   "id": "f0666139-5657-496d-a7e7-5bd679713a42",
   "metadata": {},
   "source": [
    "Pero hay un problema: el orden establecido solamente con la opción `ordered = True` es insuficiente, pues lo organiza alfabéticamente. Sin embargo, podemos establecer el orden que nosotros deseemos de categorías."
   ]
  },
  {
   "cell_type": "code",
   "execution_count": 34,
   "id": "2aa56d11-077b-4f5b-b4b0-1dec3e62f1cc",
   "metadata": {},
   "outputs": [
    {
     "name": "stdout",
     "output_type": "stream",
     "text": [
      "Categoría con orden establecido: \n",
      " ['Miércoles', 'Jueves', 'Lunes', 'Martes', 'Viernes', 'Domingo', 'Sábado']\n",
      "Categories (7, object): ['Lunes' < 'Martes' < 'Miércoles' < 'Jueves' < 'Viernes' < 'Sábado' < 'Domingo']\n"
     ]
    }
   ],
   "source": [
    "# Categorías con orden establecido\n",
    "c3 = pd.Categorical([\"Miércoles\", \"Jueves\", \"Lunes\", \"Martes\",\n",
    "                     \"Viernes\", \"Domingo\", \"Sábado\"], \n",
    "                    categories = [\"Lunes\", \"Martes\", \"Miércoles\", \"Jueves\", \"Viernes\", \"Sábado\", \"Domingo\"],\n",
    "                    ordered = True)\n",
    "print(\"Categoría con orden establecido: \\n\", c3)"
   ]
  },
  {
   "cell_type": "markdown",
   "id": "df5033d6-6757-48f5-bba7-6fbbde4587ea",
   "metadata": {},
   "source": [
    "## 2.5. Diccionarios"
   ]
  },
  {
   "cell_type": "markdown",
   "id": "74f90ed3-f644-4cae-8fe6-04e4284c812e",
   "metadata": {},
   "source": [
    "Los diccionarios son una gran ayuda para Python, ya que ayudan a crear parejas de objetos (llaves y valores) que ayudan en la programación en general. Estos normalmente se crean con corchetes (`{}`) de la siguiente manera:"
   ]
  },
  {
   "cell_type": "code",
   "execution_count": 35,
   "id": "5710af08-68e1-403e-a87d-dc664c38cf86",
   "metadata": {},
   "outputs": [
    {
     "data": {
      "text/plain": [
       "{'Nombre': 'Juan', 'Apellido': 'Londoño'}"
      ]
     },
     "execution_count": 35,
     "metadata": {},
     "output_type": "execute_result"
    }
   ],
   "source": [
    "# Creando un diccionario\n",
    "my_dic = {\"Nombre\" : \"Juan\", \"Apellido\" : \"Londoño\"}\n",
    "my_dic"
   ]
  },
  {
   "cell_type": "markdown",
   "id": "de0b0161-db32-4094-bcec-3112b0abae83",
   "metadata": {},
   "source": [
    "La primera parte del diccionario es la llave (aquella que va antes de los dos puntos) y la segunda parte es el valor (lo que va después de los dos puntos). Se puede obtener cada uno con los siguientes comandos:"
   ]
  },
  {
   "cell_type": "code",
   "execution_count": 36,
   "id": "df56f0b8-3b9c-47ac-92f6-7b3ffe3f1520",
   "metadata": {},
   "outputs": [
    {
     "name": "stdout",
     "output_type": "stream",
     "text": [
      "Obtener las llaves: \n",
      "\n",
      "dict_keys(['Nombre', 'Apellido'])\n",
      "Obtener los valores: \n",
      "\n",
      "dict_values(['Juan', 'Londoño'])\n"
     ]
    }
   ],
   "source": [
    "# Obtener las llaves\n",
    "print(\"Obtener las llaves: \\n\")\n",
    "print(my_dic.keys())\n",
    "\n",
    "# Obtener los valores\n",
    "print(\"Obtener los valores: \\n\")\n",
    "print(my_dic.values())"
   ]
  },
  {
   "cell_type": "markdown",
   "id": "f7ebab4c-1c48-471e-a54a-4998db5f7b5c",
   "metadata": {},
   "source": [
    "Se puede obtener alguno de los valores por su llave, por ejemplo:"
   ]
  },
  {
   "cell_type": "code",
   "execution_count": 37,
   "id": "9d570a6e-e5fe-47ac-ac06-62dbae9083cd",
   "metadata": {},
   "outputs": [
    {
     "data": {
      "text/plain": [
       "'Juan'"
      ]
     },
     "execution_count": 37,
     "metadata": {},
     "output_type": "execute_result"
    }
   ],
   "source": [
    "my_dic[\"Nombre\"]"
   ]
  },
  {
   "cell_type": "markdown",
   "id": "0eea9aa6-67db-46b1-8be0-a02d9356e8b7",
   "metadata": {},
   "source": [
    "Así mismo, los valores pueden ser listas, de tal manera que podemos guardar varios elementos:"
   ]
  },
  {
   "cell_type": "code",
   "execution_count": 38,
   "id": "0f0129ae-0734-42b0-be05-0670010064a6",
   "metadata": {},
   "outputs": [
    {
     "data": {
      "text/plain": [
       "['Juan', 'Caro', 'Lorena', 'Camilo']"
      ]
     },
     "execution_count": 38,
     "metadata": {},
     "output_type": "execute_result"
    }
   ],
   "source": [
    "my_dic = {\"Nombre\" : [\"Juan\", \"Caro\", \"Lorena\", \"Camilo\"], \"Apellido\" : [\"Londoño\"]}\n",
    "my_dic[\"Nombre\"]"
   ]
  },
  {
   "cell_type": "markdown",
   "id": "a71b2243-80fa-4bc2-b852-10f19ce23c7b",
   "metadata": {},
   "source": [
    "Se puede añadir nuevas llaves al diccionario y nuevos valores a los diccionarios ya existentes con el método `append`:"
   ]
  },
  {
   "cell_type": "code",
   "execution_count": 39,
   "id": "ce77c56e-0826-4c08-b8b0-02fa0b0aa649",
   "metadata": {},
   "outputs": [
    {
     "name": "stdout",
     "output_type": "stream",
     "text": [
      "{'Nombre': ['Juan', 'Caro', 'Lorena', 'Camilo'], 'Apellido': ['Londoño', 'Martínez'], 'Edad': 10}\n"
     ]
    }
   ],
   "source": [
    "# Agregar llaves\n",
    "my_dic[\"Edad\"] = 10\n",
    "\n",
    "# Agregar valores\n",
    "my_dic[\"Apellido\"].append(\"Martínez\")\n",
    "print(my_dic)"
   ]
  },
  {
   "cell_type": "markdown",
   "id": "368fb013-9e9b-4aa9-8a00-dd5705d8a33b",
   "metadata": {},
   "source": [
    "> **Nota:** para que pueda agregar un nuevo elemento a una lista, se debe tener una lista en el diccionario."
   ]
  },
  {
   "cell_type": "markdown",
   "id": "8a87f5cb-6264-45b0-8b78-1d1cb21060eb",
   "metadata": {},
   "source": [
    "Se pueden eliminar elementos enteros (llave y valores) con el método `pop`:"
   ]
  },
  {
   "cell_type": "code",
   "execution_count": 40,
   "id": "3ea06da2-88c5-413b-a6ad-4263f081795b",
   "metadata": {},
   "outputs": [
    {
     "name": "stdout",
     "output_type": "stream",
     "text": [
      "{'Nombre': ['Juan', 'Caro', 'Lorena', 'Camilo'], 'Apellido': ['Londoño', 'Martínez']}\n"
     ]
    }
   ],
   "source": [
    "my_dic.pop(\"Edad\")\n",
    "print(my_dic)"
   ]
  },
  {
   "cell_type": "markdown",
   "id": "a8323eb0-47a5-415d-be41-7b8fb7ff5f49",
   "metadata": {
    "tags": []
   },
   "source": [
    "### 2.5.1. Pequeño Ejercicio"
   ]
  },
  {
   "cell_type": "markdown",
   "id": "bb106c96-4914-4864-bd6e-96831c2a49d3",
   "metadata": {},
   "source": [
    "Pregúntele a las dos personas que se sientan a su derecha e izquierda y pregúntele los siguientes datos y cree un diccionario con dicha información:\n",
    "\n",
    "* Nombre.\n",
    "* Apellido.\n",
    "* Edad.\n",
    "* Comida favorita."
   ]
  },
  {
   "cell_type": "code",
   "execution_count": null,
   "id": "33625920-b792-4990-b40d-65072f1ae321",
   "metadata": {},
   "outputs": [],
   "source": []
  },
  {
   "cell_type": "markdown",
   "id": "2638fec9-0428-4a9f-b16b-364b84e061d7",
   "metadata": {},
   "source": [
    "Ahora agréguele sus propios datos:"
   ]
  },
  {
   "cell_type": "code",
   "execution_count": null,
   "id": "70aecb0e-1f3d-4ff5-8af0-b2a6bcca8c1c",
   "metadata": {},
   "outputs": [],
   "source": []
  },
  {
   "cell_type": "markdown",
   "id": "78b9226a-3f17-4a70-9369-84cf4886c5c2",
   "metadata": {},
   "source": [
    "Imprima los datos suyos obteniéndolos desde el diccionario:"
   ]
  },
  {
   "cell_type": "code",
   "execution_count": null,
   "id": "8822b78b-cfbb-4c8b-ae95-ef2beda89b64",
   "metadata": {},
   "outputs": [],
   "source": []
  },
  {
   "cell_type": "markdown",
   "id": "82a58e8d-908d-41cd-9ebe-72791c36a892",
   "metadata": {},
   "source": [
    "## 2.6. Ejercicios (20 mins)"
   ]
  },
  {
   "cell_type": "markdown",
   "id": "80be6719-3589-408f-a35d-fe950e2743cb",
   "metadata": {},
   "source": [
    "### 2.6.1. Bad Bunny game"
   ]
  },
  {
   "cell_type": "markdown",
   "id": "11c72df4-90f5-4bfd-8d4c-b87a8564617f",
   "metadata": {},
   "source": [
    "Tome la siguiente frase del cantautor contemporáneo Bad Bunny:\n",
    "\n",
    "<br>\n",
    "<center> \"Si hay sol hay playa <br>\n",
    "Si hay playa hay alcohol <br>\n",
    "Si hay alcohol hay *!#% <br>\n",
    "Si es contigo mejor\" </center>\n",
    "<br>\n",
    "\n",
    "Y cambie el segundo, cuarto y sexto \"hay\" por \"poseo\". Cambie la palabra \"\\*!#%\" por lo que usted considere. Déjelo todo en mayúsculas."
   ]
  },
  {
   "cell_type": "code",
   "execution_count": 41,
   "id": "1455608d-f46c-4547-9600-cf727d4955ec",
   "metadata": {},
   "outputs": [],
   "source": [
    "x = \"Si hay sol hay playa, Si hay playa hay alcohol, Si hay alcohol hay *!#%, Si es contigo mejor.\""
   ]
  },
  {
   "cell_type": "code",
   "execution_count": null,
   "id": "121ea5d6-e335-4532-91d1-d1c0a03bb1d8",
   "metadata": {},
   "outputs": [],
   "source": []
  },
  {
   "cell_type": "markdown",
   "id": "054738dc-1b61-45d1-ad80-3abed493dc7e",
   "metadata": {},
   "source": [
    "### 2.6.2. Music string"
   ]
  },
  {
   "cell_type": "markdown",
   "id": "01c0f230-462a-401f-878d-f3b03ac8b0cc",
   "metadata": {},
   "source": [
    "Cree una lista con una estrofa de su canción preferida y extraiga la palabra que más le guste y la posición en la que se encuentra en la lista y la cadena de string."
   ]
  },
  {
   "cell_type": "code",
   "execution_count": null,
   "id": "948806ae-cf8f-4d0d-a66f-21e233a803e0",
   "metadata": {},
   "outputs": [],
   "source": []
  },
  {
   "cell_type": "markdown",
   "id": "34c5bd3e-52b6-4015-a017-b6a39f9ee326",
   "metadata": {},
   "source": [
    "### 2.6.3. Géneros de música"
   ]
  },
  {
   "cell_type": "markdown",
   "id": "fc894840-2983-4f10-9585-89e756d5dd29",
   "metadata": {},
   "source": [
    "Organice los siguientes géneros de música en orden del que más le guste al que menos le guste de forma categórica:\n",
    "\n",
    "<br>\n",
    "<center> Rock, Indie, Reggaeton, Reggae, Música Popular, Vallenato, Pop, Joropo, Carranga, Bachata, Jazz, Electrónica </center>\n",
    "<br>\n",
    "\n",
    "Cambie a aquel que menos le gusta con el nombre que usted quiera para mostrarle su desprecio a ese género musical."
   ]
  },
  {
   "cell_type": "code",
   "execution_count": null,
   "id": "d3b5b2d7-8916-4c5b-8586-c2d36470b71b",
   "metadata": {},
   "outputs": [],
   "source": []
  }
 ],
 "metadata": {
  "kernelspec": {
   "display_name": "Python 3",
   "language": "python",
   "name": "python3"
  },
  "language_info": {
   "codemirror_mode": {
    "name": "ipython",
    "version": 3
   },
   "file_extension": ".py",
   "mimetype": "text/x-python",
   "name": "python",
   "nbconvert_exporter": "python",
   "pygments_lexer": "ipython3",
   "version": "3.10.5"
  },
  "vscode": {
   "interpreter": {
    "hash": "bc1d44bc0bd592bad8cc7ba1e1e514470dc5ad25cb613275d48eb56066632d77"
   }
  }
 },
 "nbformat": 4,
 "nbformat_minor": 5
}
