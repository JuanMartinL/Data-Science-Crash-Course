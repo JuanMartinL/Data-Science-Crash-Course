{
 "cells": [
  {
   "attachments": {},
   "cell_type": "markdown",
   "metadata": {},
   "source": [
    "# Clase 0: Introducción a los Jupyter Notebooks"
   ]
  },
  {
   "attachments": {},
   "cell_type": "markdown",
   "metadata": {},
   "source": [
    "En este curso utilizaremos [Python](https://www.python.org/) como lenguaje de programación a través de Jupyter Notebooks. Más adelante daremos las razones. Por ahora, es preciso explicar un poco más de estos archivos, su funcionamiento y utilidad."
   ]
  },
  {
   "attachments": {},
   "cell_type": "markdown",
   "metadata": {},
   "source": [
    "# 1. ¿Qué es Jupyter Notebook?"
   ]
  },
  {
   "attachments": {},
   "cell_type": "markdown",
   "metadata": {},
   "source": [
    "Los [Jupyter Notebook](https://jupyter-notebook-beginner-guide.readthedocs.io/en/latest/what_is_jupyter.html) son documentos que combinan, a la vez, código de computador y elementos de texto tipo [markdown](https://www.markdownguide.org/). En ese sentido, son documentos que son entendibles por humanos y aptos para ser interpretados por computadores.\n",
    "\n",
    "Por tanto, los Jupyter Notebooks interpretan de una manera sencilla, didáctica e interactiva a Python (y otro tipo de códigos, si se desea) para facilitar su uso, construcción y aprendizaje. Ello los hace la mejor opción para realizar análisis replicables junto con texto que explique lo que estamos haciendo, descubriendo y resaltando.\n",
    "\n",
    "En términos más específicos, los Jupyter Notebook es una forma de ambiente para el aprendizaje y el desarrollo (Integrated Development and Learning Environment - IDLE). Las facilidades que ofrece Jupyter Notebook (y JupyterLab) son bastante provechosas para el aprendizaje, por lo cual lo utilizaremos junto con Visual Studio Code para programar y analizar en este curso."
   ]
  },
  {
   "attachments": {},
   "cell_type": "markdown",
   "metadata": {},
   "source": [
    "# 2. Estructura básica de las celdas en los Jupyter Notebooks"
   ]
  },
  {
   "attachments": {},
   "cell_type": "markdown",
   "metadata": {},
   "source": [
    "Como se mencionaba, los Jupyter Notebooks están conformados por dos tipos de celdas: "
   ]
  },
  {
   "attachments": {},
   "cell_type": "markdown",
   "metadata": {},
   "source": [
    "* **Celdas de código:** son celdas que sirven para correr códigos de Python. Es decir, espacios donde podemos establecer instrucciones para que el computador las interprete y realice acciones."
   ]
  },
  {
   "cell_type": "code",
   "execution_count": 16,
   "metadata": {},
   "outputs": [
    {
     "data": {
      "text/plain": [
       "'Comer hamburguesa'"
      ]
     },
     "execution_count": 16,
     "metadata": {},
     "output_type": "execute_result"
    }
   ],
   "source": [
    "import random\n",
    "\n",
    "options = [\"Comer hamburguesa\", \"Comer sushi\", \"Comer tamal\"]\n",
    "\n",
    "random.choice(options)"
   ]
  },
  {
   "attachments": {},
   "cell_type": "markdown",
   "metadata": {},
   "source": [
    "* **Celdas markdown:** son celdas que sirven para escribir texto que nos sirva para resaltar los hallazgos que hemos encontrado, precisar instrucciones del proceso o, incluso, anotar actividades que nos quedan por realizar."
   ]
  },
  {
   "cell_type": "markdown",
   "metadata": {},
   "source": []
  },
  {
   "attachments": {},
   "cell_type": "markdown",
   "metadata": {},
   "source": [
    "> **Nota:** las celdas de código se diferencian por tener un par de corchetes al lado izquierda, cuando las celdas de markdown no las tienen."
   ]
  },
  {
   "attachments": {},
   "cell_type": "markdown",
   "metadata": {},
   "source": [
    "# 3. Comandos básicos de los Jupyter Notebooks"
   ]
  },
  {
   "attachments": {},
   "cell_type": "markdown",
   "metadata": {},
   "source": [
    "Los Jupyter Notebooks tienen unos comandos básicos que permiten manipular de mejor manera su estructura. Los comandos (o atajos) más básicos son los siguientes:\n",
    "\n",
    "* **Crear una nueva celda hacia abajo:** `B`.\n",
    "* **Crear una nueva celda hacia arriba:** `A`.\n",
    "* **Eliminar una celda seleccionada:** `D + D`.\n",
    "* **Cambiar el tipo de la celda para markdown (text):** `M`.\n",
    "* **Cambiar el tipo de la celda para código:** `Y`.\n",
    "* **Correr el código o markdown de una celda:** `ctrl + enter`.\n",
    "* **Editar una celda de markdown:** `doble click`."
   ]
  },
  {
   "attachments": {},
   "cell_type": "markdown",
   "metadata": {},
   "source": [
    "## 3.1. Comandos básicos y precisiones de las celdas de código"
   ]
  },
  {
   "attachments": {},
   "cell_type": "markdown",
   "metadata": {},
   "source": [
    "Para Python es supremamente importante el **indentado**, ello significa que algo que va dentro de una función, un ciclo o un condicional debe ir con una indentación mayor a la del elemento que lo contiene (un espacio de tabulado). Sin este espacio, el computador no entiende bien lo que queremos que haga, por lo cual arrojará un error. "
   ]
  },
  {
   "cell_type": "code",
   "execution_count": 2,
   "metadata": {},
   "outputs": [
    {
     "name": "stdout",
     "output_type": "stream",
     "text": [
      "1\n",
      "2\n",
      "3\n",
      "4\n"
     ]
    }
   ],
   "source": [
    "for i in range(1,5): # Se define el ciclo\n",
    "    print(i) # Se indica lo que hay dentro con un espacio"
   ]
  },
  {
   "attachments": {},
   "cell_type": "markdown",
   "metadata": {},
   "source": [
    "Además, podemos utilizar el # para construir comentarios que nos ayuden en nuestro código, como ocurrió en el ejemplo anterior."
   ]
  },
  {
   "attachments": {},
   "cell_type": "markdown",
   "metadata": {},
   "source": [
    "## 3.2. Comandos básicos y precisiones de las celdas de markdown"
   ]
  },
  {
   "attachments": {},
   "cell_type": "markdown",
   "metadata": {},
   "source": [
    "Las **celdas de markdown** aceptan tanto comandos de markdown como comandos de HTML. Se pueden combinar para mejorar el aspecto de lo que deseamos mostrar, tal que se cumpla su objetivo comunicativo de mejor manera.\n",
    "\n",
    "En una celda de markdown, se puede utilizar algunos comandos para darle forma al texto. Algunos de ellos son:\n",
    "\n",
    "* **Dar formato de negrilla:** \\*\\*\\<*texto*>\\*\\*.\n",
    "* **Dar formato de cursiva:** \\*\\<*texto*>\\*.\n",
    "* **Realizar listas con números:** escribir el número con punto y seguir escribiendo.\n",
    "* **Realizar listas con ítems:** escribir \\* y seguir escribiendo.\n",
    "* **Realizar títulos:** escribir un # y un espacio antes del título. Entre más # se escriban, en menor jerarquía aparece.\n",
    "\n",
    "> **Nota:** como se mencionó, Jupyter Notebooks y Jupyterlab también pueden leer e interpretar código HTML. En ese sentido, se puede reemplazar la negrilla por `<br>`, las cursivas por `<i>`, entre otros.\n",
    "\n",
    "Incluso podemos agregar texto desde HTML con el comando `<img>`:\n",
    "\n",
    "<br>\n",
    "<center><img src=\"https://datasciencedojo.com/wp-content/uploads/52.jpg\"/></center>\n",
    "<br>\n"
   ]
  },
  {
   "cell_type": "markdown",
   "metadata": {},
   "source": []
  }
 ],
 "metadata": {
  "kernelspec": {
   "display_name": "Python 3",
   "language": "python",
   "name": "python3"
  },
  "language_info": {
   "codemirror_mode": {
    "name": "ipython",
    "version": 3
   },
   "file_extension": ".py",
   "mimetype": "text/x-python",
   "name": "python",
   "nbconvert_exporter": "python",
   "pygments_lexer": "ipython3",
   "version": "3.11.4"
  },
  "orig_nbformat": 4,
  "vscode": {
   "interpreter": {
    "hash": "bc1d44bc0bd592bad8cc7ba1e1e514470dc5ad25cb613275d48eb56066632d77"
   }
  }
 },
 "nbformat": 4,
 "nbformat_minor": 2
}
