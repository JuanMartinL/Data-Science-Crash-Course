{
 "cells": [
  {
   "cell_type": "markdown",
   "id": "eea57579-1214-4830-8fb2-4cb602a6fb7c",
   "metadata": {},
   "source": [
    "# Lecture 14: árboles de decisión"
   ]
  },
  {
   "cell_type": "markdown",
   "id": "9bb996ea-9187-4905-a55f-7fccdd604f17",
   "metadata": {},
   "source": [
    "Las personas normalmente tomamos decisiones a partir de los pros y contras de cada posibilidad. Más allá, hacemos un mapa mental de cómo tomar decisiones a partir de condiciones. Pensemos en el proceso de elegir pareja:\n",
    "\n",
    "* ¿Qué características son importantes para que nosotros elijamos pareja?\n",
    "* ¿Es importante que sea o no una persona con altos recursos económicos?\n",
    "* ¿Es importante que sea lindo/linda o no?\n",
    "* ¿Debemos tener metas comunes?\n",
    "* ¿Debe compartir nuestros hobbies?\n",
    "\n",
    "Pensemos en un ejemplo de una persona interesada:\n",
    "\n",
    "<center><img src=\"Imagen DT.png\"/></center>\n",
    "\n",
    "Pensemos también en el hecho simple de elegir trabajo: si me ofrecen un salario mayor a COP$5 millones, digo que sí. Si no, entonces reviso si es contrato por prestación de servicios o contrato laboral. Si me ofrecen un contrato laboral, sí; si no, pienso en si debo ir a trabajar físico o remoto. Y así con varias decisiones. Este es el principio de los árboles de decisión.\n",
    "\n",
    "# 1. Los árboles de decisión y su estructura\n",
    "Un **algoritmo de árbol de decisión** es un modelo que siga una estructura de un árbol, comprendiendo una serie de decisiones lógicas que se van dividiendo en nodos de decisión. Las **divisiones de cada nodo** se llaman **ramas** y los **puntos de decisión final** se llaman **nodos de hoja**.\n",
    "\n",
    "Un nuevo dato a ser evaluado debe pasar por el **nodo raíz**, pasa por todos los **nodos de decisión** y se va clasificando a través de las decisiones lógicas hasta llegar a un **nodo hoja** que lo clasifica (u otorga un valor, en el caso de árboles de regresión). \n",
    "\n",
    "Dado este algoritmo, los árboles de decisión se utilizan para:\n",
    "\n",
    "* **Modelos de puntajes de crédito:** otorga transparencia en las decisiones de acpetación o rechazo de un crédito.\n",
    "* **Estudios de marketing para identificar la satisfacción de clientes con la campaña:** ayuda a entender el flujo de decisión del cliente.\n",
    "* **Diagnóstico de condiciones médicas:** explica bien cuáles son las causas, síntomas y otros elementos que llevaron al diagnóstico.\n",
    "\n",
    "# 2. Divide y vencerás\n",
    "\n",
    "Los árboles de decisión se centran en la **partición recursiva**. Es decir, se dividen los datos hasta que existan clases similares. Para ello, el algoritmo encuentra una variable que pueda dividir de mejor manera los datos, encontrando más fácilmente la clase a predecir. Esto lo hace varias veces hasta que se cumple un criterio para detenerse.\n",
    "\n",
    "Miremos este ejemplo: saber si una película será un éxito de la crítica, un éxito mainstream o un fracaso: ¿qué se puede observar?\n",
    "\n",
    "<center><img src=\"ej1.png\"/></center>\n",
    "\n",
    "Podríamos aplicar una estrategia de **divide y conquistarás**. Dividamos primero la base de datos por el uso de celebridades de alto nivel:\n",
    "\n",
    "<center><img src=\"ej3.png\"/></center>\n",
    "\n",
    "Ahora dividamos por el presupuesto:\n",
    "\n",
    "<center><img src=\"ej2.png\"/></center>\n",
    "\n",
    "Es decir, podemos encontrar cómo dividir la base de datos para categorizar bien los datos en sus tres clases. Esto lo podríamos poner en un árbol de decisiones:\n",
    "\n",
    "<center><img src=\"ej_tree.png\"/></center>"
   ]
  },
  {
   "cell_type": "markdown",
   "id": "6989966e-bbf0-4175-b7b7-ed75045440cd",
   "metadata": {},
   "source": [
    "# 3. Predicción de créditos de alto riesgo"
   ]
  },
  {
   "cell_type": "markdown",
   "id": "12bacd99-b440-4b1a-928b-135d2a5bca5d",
   "metadata": {},
   "source": [
    "## 3.1. Importación de los datos"
   ]
  },
  {
   "cell_type": "code",
   "execution_count": 1,
   "id": "206f6ed3-1172-404a-bbc9-07606f4dfc2e",
   "metadata": {},
   "outputs": [
    {
     "data": {
      "text/html": [
       "<div>\n",
       "<style scoped>\n",
       "    .dataframe tbody tr th:only-of-type {\n",
       "        vertical-align: middle;\n",
       "    }\n",
       "\n",
       "    .dataframe tbody tr th {\n",
       "        vertical-align: top;\n",
       "    }\n",
       "\n",
       "    .dataframe thead th {\n",
       "        text-align: right;\n",
       "    }\n",
       "</style>\n",
       "<table border=\"1\" class=\"dataframe\">\n",
       "  <thead>\n",
       "    <tr style=\"text-align: right;\">\n",
       "      <th></th>\n",
       "      <th>checking_balance</th>\n",
       "      <th>months_loan_duration</th>\n",
       "      <th>credit_history</th>\n",
       "      <th>purpose</th>\n",
       "      <th>amount</th>\n",
       "      <th>savings_balance</th>\n",
       "      <th>employment_length</th>\n",
       "      <th>installment_rate</th>\n",
       "      <th>personal_status</th>\n",
       "      <th>other_debtors</th>\n",
       "      <th>...</th>\n",
       "      <th>property</th>\n",
       "      <th>age</th>\n",
       "      <th>installment_plan</th>\n",
       "      <th>housing</th>\n",
       "      <th>existing_credits</th>\n",
       "      <th>job</th>\n",
       "      <th>dependents</th>\n",
       "      <th>telephone</th>\n",
       "      <th>foreign_worker</th>\n",
       "      <th>default</th>\n",
       "    </tr>\n",
       "  </thead>\n",
       "  <tbody>\n",
       "    <tr>\n",
       "      <th>0</th>\n",
       "      <td>&lt; 0 DM</td>\n",
       "      <td>6</td>\n",
       "      <td>critical</td>\n",
       "      <td>radio/tv</td>\n",
       "      <td>1169</td>\n",
       "      <td>unknown</td>\n",
       "      <td>&gt; 7 yrs</td>\n",
       "      <td>4</td>\n",
       "      <td>single male</td>\n",
       "      <td>none</td>\n",
       "      <td>...</td>\n",
       "      <td>real estate</td>\n",
       "      <td>67</td>\n",
       "      <td>none</td>\n",
       "      <td>own</td>\n",
       "      <td>2</td>\n",
       "      <td>skilled employee</td>\n",
       "      <td>1</td>\n",
       "      <td>yes</td>\n",
       "      <td>yes</td>\n",
       "      <td>1</td>\n",
       "    </tr>\n",
       "    <tr>\n",
       "      <th>1</th>\n",
       "      <td>1 - 200 DM</td>\n",
       "      <td>48</td>\n",
       "      <td>repaid</td>\n",
       "      <td>radio/tv</td>\n",
       "      <td>5951</td>\n",
       "      <td>&lt; 100 DM</td>\n",
       "      <td>1 - 4 yrs</td>\n",
       "      <td>2</td>\n",
       "      <td>female</td>\n",
       "      <td>none</td>\n",
       "      <td>...</td>\n",
       "      <td>real estate</td>\n",
       "      <td>22</td>\n",
       "      <td>none</td>\n",
       "      <td>own</td>\n",
       "      <td>1</td>\n",
       "      <td>skilled employee</td>\n",
       "      <td>1</td>\n",
       "      <td>none</td>\n",
       "      <td>yes</td>\n",
       "      <td>2</td>\n",
       "    </tr>\n",
       "    <tr>\n",
       "      <th>2</th>\n",
       "      <td>unknown</td>\n",
       "      <td>12</td>\n",
       "      <td>critical</td>\n",
       "      <td>education</td>\n",
       "      <td>2096</td>\n",
       "      <td>&lt; 100 DM</td>\n",
       "      <td>4 - 7 yrs</td>\n",
       "      <td>2</td>\n",
       "      <td>single male</td>\n",
       "      <td>none</td>\n",
       "      <td>...</td>\n",
       "      <td>real estate</td>\n",
       "      <td>49</td>\n",
       "      <td>none</td>\n",
       "      <td>own</td>\n",
       "      <td>1</td>\n",
       "      <td>unskilled resident</td>\n",
       "      <td>2</td>\n",
       "      <td>none</td>\n",
       "      <td>yes</td>\n",
       "      <td>1</td>\n",
       "    </tr>\n",
       "    <tr>\n",
       "      <th>3</th>\n",
       "      <td>&lt; 0 DM</td>\n",
       "      <td>42</td>\n",
       "      <td>repaid</td>\n",
       "      <td>furniture</td>\n",
       "      <td>7882</td>\n",
       "      <td>&lt; 100 DM</td>\n",
       "      <td>4 - 7 yrs</td>\n",
       "      <td>2</td>\n",
       "      <td>single male</td>\n",
       "      <td>guarantor</td>\n",
       "      <td>...</td>\n",
       "      <td>building society savings</td>\n",
       "      <td>45</td>\n",
       "      <td>none</td>\n",
       "      <td>for free</td>\n",
       "      <td>1</td>\n",
       "      <td>skilled employee</td>\n",
       "      <td>2</td>\n",
       "      <td>none</td>\n",
       "      <td>yes</td>\n",
       "      <td>1</td>\n",
       "    </tr>\n",
       "    <tr>\n",
       "      <th>4</th>\n",
       "      <td>&lt; 0 DM</td>\n",
       "      <td>24</td>\n",
       "      <td>delayed</td>\n",
       "      <td>car (new)</td>\n",
       "      <td>4870</td>\n",
       "      <td>&lt; 100 DM</td>\n",
       "      <td>1 - 4 yrs</td>\n",
       "      <td>3</td>\n",
       "      <td>single male</td>\n",
       "      <td>none</td>\n",
       "      <td>...</td>\n",
       "      <td>unknown/none</td>\n",
       "      <td>53</td>\n",
       "      <td>none</td>\n",
       "      <td>for free</td>\n",
       "      <td>2</td>\n",
       "      <td>skilled employee</td>\n",
       "      <td>2</td>\n",
       "      <td>none</td>\n",
       "      <td>yes</td>\n",
       "      <td>2</td>\n",
       "    </tr>\n",
       "  </tbody>\n",
       "</table>\n",
       "<p>5 rows × 21 columns</p>\n",
       "</div>"
      ],
      "text/plain": [
       "  checking_balance  months_loan_duration credit_history    purpose  amount  \\\n",
       "0           < 0 DM                     6       critical   radio/tv    1169   \n",
       "1       1 - 200 DM                    48         repaid   radio/tv    5951   \n",
       "2          unknown                    12       critical  education    2096   \n",
       "3           < 0 DM                    42         repaid  furniture    7882   \n",
       "4           < 0 DM                    24        delayed  car (new)    4870   \n",
       "\n",
       "  savings_balance employment_length  installment_rate personal_status  \\\n",
       "0         unknown           > 7 yrs                 4     single male   \n",
       "1        < 100 DM         1 - 4 yrs                 2          female   \n",
       "2        < 100 DM         4 - 7 yrs                 2     single male   \n",
       "3        < 100 DM         4 - 7 yrs                 2     single male   \n",
       "4        < 100 DM         1 - 4 yrs                 3     single male   \n",
       "\n",
       "  other_debtors  ...                  property age  installment_plan  \\\n",
       "0          none  ...               real estate  67              none   \n",
       "1          none  ...               real estate  22              none   \n",
       "2          none  ...               real estate  49              none   \n",
       "3     guarantor  ...  building society savings  45              none   \n",
       "4          none  ...              unknown/none  53              none   \n",
       "\n",
       "    housing existing_credits                 job dependents  telephone  \\\n",
       "0       own                2    skilled employee          1        yes   \n",
       "1       own                1    skilled employee          1       none   \n",
       "2       own                1  unskilled resident          2       none   \n",
       "3  for free                1    skilled employee          2       none   \n",
       "4  for free                2    skilled employee          2       none   \n",
       "\n",
       "  foreign_worker default  \n",
       "0            yes       1  \n",
       "1            yes       2  \n",
       "2            yes       1  \n",
       "3            yes       1  \n",
       "4            yes       2  \n",
       "\n",
       "[5 rows x 21 columns]"
      ]
     },
     "execution_count": 1,
     "metadata": {},
     "output_type": "execute_result"
    }
   ],
   "source": [
    "import pandas as pd\n",
    "\n",
    "credit = pd.read_csv(\"https://raw.githubusercontent.com/jagallegod/curso-machine-learning/master/arboles/credit.csv\")\n",
    "credit.head()"
   ]
  },
  {
   "cell_type": "markdown",
   "id": "a14a3303-2080-427b-8c4d-e658396e01aa",
   "metadata": {},
   "source": [
    "> ¿Qué encontramos? ¿Qué variables hay?"
   ]
  },
  {
   "cell_type": "markdown",
   "id": "2903dbac-64b1-42db-a950-b2d681bfdc66",
   "metadata": {},
   "source": [
    "Revisemos varios elementos de la base de datos:"
   ]
  },
  {
   "cell_type": "code",
   "execution_count": 2,
   "id": "8a508d86-ce8d-421c-84a0-391e8b683492",
   "metadata": {},
   "outputs": [
    {
     "name": "stdout",
     "output_type": "stream",
     "text": [
      "================================================================\n",
      "Tenemos un total de 1000 observaciones con 21 variables.\n",
      "================================================================\n",
      "\n",
      "\n",
      "================================================================\n",
      "Valores perdidos\n",
      "================================================================\n",
      "checking_balance        0\n",
      "months_loan_duration    0\n",
      "credit_history          0\n",
      "purpose                 0\n",
      "amount                  0\n",
      "savings_balance         0\n",
      "employment_length       0\n",
      "installment_rate        0\n",
      "personal_status         0\n",
      "other_debtors           0\n",
      "residence_history       0\n",
      "property                0\n",
      "age                     0\n",
      "installment_plan        0\n",
      "housing                 0\n",
      "existing_credits        0\n",
      "job                     0\n",
      "dependents              0\n",
      "telephone               0\n",
      "foreign_worker          0\n",
      "default                 0\n",
      "dtype: int64\n",
      "\n",
      "\n",
      "================================================================\n",
      "Valores únicos\n",
      "================================================================\n",
      "checking_balance          4\n",
      "months_loan_duration     33\n",
      "credit_history            5\n",
      "purpose                  10\n",
      "amount                  921\n",
      "savings_balance           5\n",
      "employment_length         5\n",
      "installment_rate          4\n",
      "personal_status           4\n",
      "other_debtors             3\n",
      "residence_history         4\n",
      "property                  4\n",
      "age                      53\n",
      "installment_plan          3\n",
      "housing                   3\n",
      "existing_credits          4\n",
      "job                       4\n",
      "dependents                2\n",
      "telephone                 2\n",
      "foreign_worker            2\n",
      "default                   2\n",
      "dtype: int64\n",
      "\n",
      "\n"
     ]
    }
   ],
   "source": [
    "# Tamaño de la base de datos\n",
    "print(\"=\"*64)\n",
    "print(\"Tenemos un total de {0} observaciones con {1} variables.\".format(credit.shape[0], credit.shape[1]))\n",
    "print(\"=\"*64)\n",
    "print(\"\\n\")\n",
    "\n",
    "# Valores perdidos\n",
    "print(\"=\"*64)\n",
    "print(\"Valores perdidos\")\n",
    "print(\"=\"*64)\n",
    "print(credit.isnull().sum())\n",
    "print(\"\\n\")\n",
    "\n",
    "# Valores únicos\n",
    "print(\"=\"*64)\n",
    "print(\"Valores únicos\")\n",
    "print(\"=\"*64)\n",
    "print(credit.nunique())\n",
    "print(\"\\n\")"
   ]
  },
  {
   "cell_type": "markdown",
   "id": "e6266a4a-1032-4afe-a4e4-4e2708b6b601",
   "metadata": {},
   "source": [
    "## 3.2. Exploración de los datos"
   ]
  },
  {
   "cell_type": "markdown",
   "id": "da47da6e-7fc1-4225-b17a-71136c4554d5",
   "metadata": {},
   "source": [
    "Revisemos un poco cómo se comportan las variables:"
   ]
  },
  {
   "cell_type": "code",
   "execution_count": 3,
   "id": "9fdde921-c8b3-47d3-aa64-c1379ce7f203",
   "metadata": {},
   "outputs": [
    {
     "data": {
      "text/plain": [
       "Index(['checking_balance', 'months_loan_duration', 'credit_history', 'purpose',\n",
       "       'amount', 'savings_balance', 'employment_length', 'installment_rate',\n",
       "       'personal_status', 'other_debtors', 'residence_history', 'property',\n",
       "       'age', 'installment_plan', 'housing', 'existing_credits', 'job',\n",
       "       'dependents', 'telephone', 'foreign_worker', 'default'],\n",
       "      dtype='object')"
      ]
     },
     "execution_count": 3,
     "metadata": {},
     "output_type": "execute_result"
    }
   ],
   "source": [
    "credit.columns"
   ]
  },
  {
   "cell_type": "code",
   "execution_count": 5,
   "id": "47a3dd64-804b-4847-aae4-bebe3e86617c",
   "metadata": {},
   "outputs": [
    {
     "data": {
      "text/html": [
       "<div>\n",
       "<style scoped>\n",
       "    .dataframe tbody tr th:only-of-type {\n",
       "        vertical-align: middle;\n",
       "    }\n",
       "\n",
       "    .dataframe tbody tr th {\n",
       "        vertical-align: top;\n",
       "    }\n",
       "\n",
       "    .dataframe thead th {\n",
       "        text-align: right;\n",
       "    }\n",
       "</style>\n",
       "<table border=\"1\" class=\"dataframe\">\n",
       "  <thead>\n",
       "    <tr style=\"text-align: right;\">\n",
       "      <th></th>\n",
       "      <th>purpose</th>\n",
       "    </tr>\n",
       "    <tr>\n",
       "      <th>personal_status</th>\n",
       "      <th></th>\n",
       "    </tr>\n",
       "  </thead>\n",
       "  <tbody>\n",
       "    <tr>\n",
       "      <th>divorced male</th>\n",
       "      <td>50</td>\n",
       "    </tr>\n",
       "    <tr>\n",
       "      <th>female</th>\n",
       "      <td>310</td>\n",
       "    </tr>\n",
       "    <tr>\n",
       "      <th>married male</th>\n",
       "      <td>92</td>\n",
       "    </tr>\n",
       "    <tr>\n",
       "      <th>single male</th>\n",
       "      <td>548</td>\n",
       "    </tr>\n",
       "  </tbody>\n",
       "</table>\n",
       "</div>"
      ],
      "text/plain": [
       "                 purpose\n",
       "personal_status         \n",
       "divorced male         50\n",
       "female               310\n",
       "married male          92\n",
       "single male          548"
      ]
     },
     "execution_count": 5,
     "metadata": {},
     "output_type": "execute_result"
    }
   ],
   "source": [
    "var = \"personal_status\"\n",
    "credit[[var, \"purpose\"]].groupby(var).count()"
   ]
  },
  {
   "cell_type": "markdown",
   "id": "a398806b-faf0-47d2-a4bd-4f30debce36f",
   "metadata": {},
   "source": [
    "## 3.3. Preparación de los datos"
   ]
  },
  {
   "cell_type": "markdown",
   "id": "c2e772c3-104a-4eb4-a714-531f5c513826",
   "metadata": {},
   "source": [
    "Separemos los datos entre base de datos de entrenamiento y testeo:"
   ]
  },
  {
   "cell_type": "code",
   "execution_count": 19,
   "id": "deefd790-cef8-4409-aeab-26ea47c14029",
   "metadata": {},
   "outputs": [
    {
     "name": "stdout",
     "output_type": "stream",
     "text": [
      "Size of train dataset:  800\n",
      "Size of test dataset:  200\n"
     ]
    }
   ],
   "source": [
    "import pandas as pd\n",
    "\n",
    "from sklearn.model_selection import train_test_split\n",
    "\n",
    "# Splitting X and y\n",
    "X = credit.drop(['default'], axis = 1) # Matriz de variables explicativas\n",
    "y = credit['default'] # Vector de la variable que vamos a predecir/clasificar\n",
    "\n",
    "# Splitting in train and test datasets\n",
    "X_train, X_test, y_train, y_test = train_test_split(X, y, test_size = 0.2, random_state = 42)\n",
    "\n",
    "print(\"Size of train dataset: \", X_train.shape[0])\n",
    "print(\"Size of test dataset: \", X_test.shape[0])"
   ]
  },
  {
   "cell_type": "markdown",
   "id": "8fb9e5ef-41c0-433b-a08b-a9731c1f9f8e",
   "metadata": {},
   "source": [
    "## 3.4. Entrenamiento del modelo"
   ]
  },
  {
   "cell_type": "markdown",
   "id": "291bd423-c5f4-4204-9241-bfb60ae78395",
   "metadata": {},
   "source": [
    "Ahora estamos listos para entrenar nuestro modelo. Sin embargo, si quisiéramos hacerlo, vamos a tener un problema: el algoritmo en Python no acepta variables categóricas. Por ello, debemos realizar un proceso de **one-hot encoding**: crear una variable para cada categoría:"
   ]
  },
  {
   "cell_type": "code",
   "execution_count": 35,
   "id": "9ad80498-ceb3-4db0-904a-dba6778633f1",
   "metadata": {},
   "outputs": [
    {
     "data": {
      "text/html": [
       "<style>#sk-container-id-3 {color: black;}#sk-container-id-3 pre{padding: 0;}#sk-container-id-3 div.sk-toggleable {background-color: white;}#sk-container-id-3 label.sk-toggleable__label {cursor: pointer;display: block;width: 100%;margin-bottom: 0;padding: 0.3em;box-sizing: border-box;text-align: center;}#sk-container-id-3 label.sk-toggleable__label-arrow:before {content: \"▸\";float: left;margin-right: 0.25em;color: #696969;}#sk-container-id-3 label.sk-toggleable__label-arrow:hover:before {color: black;}#sk-container-id-3 div.sk-estimator:hover label.sk-toggleable__label-arrow:before {color: black;}#sk-container-id-3 div.sk-toggleable__content {max-height: 0;max-width: 0;overflow: hidden;text-align: left;background-color: #f0f8ff;}#sk-container-id-3 div.sk-toggleable__content pre {margin: 0.2em;color: black;border-radius: 0.25em;background-color: #f0f8ff;}#sk-container-id-3 input.sk-toggleable__control:checked~div.sk-toggleable__content {max-height: 200px;max-width: 100%;overflow: auto;}#sk-container-id-3 input.sk-toggleable__control:checked~label.sk-toggleable__label-arrow:before {content: \"▾\";}#sk-container-id-3 div.sk-estimator input.sk-toggleable__control:checked~label.sk-toggleable__label {background-color: #d4ebff;}#sk-container-id-3 div.sk-label input.sk-toggleable__control:checked~label.sk-toggleable__label {background-color: #d4ebff;}#sk-container-id-3 input.sk-hidden--visually {border: 0;clip: rect(1px 1px 1px 1px);clip: rect(1px, 1px, 1px, 1px);height: 1px;margin: -1px;overflow: hidden;padding: 0;position: absolute;width: 1px;}#sk-container-id-3 div.sk-estimator {font-family: monospace;background-color: #f0f8ff;border: 1px dotted black;border-radius: 0.25em;box-sizing: border-box;margin-bottom: 0.5em;}#sk-container-id-3 div.sk-estimator:hover {background-color: #d4ebff;}#sk-container-id-3 div.sk-parallel-item::after {content: \"\";width: 100%;border-bottom: 1px solid gray;flex-grow: 1;}#sk-container-id-3 div.sk-label:hover label.sk-toggleable__label {background-color: #d4ebff;}#sk-container-id-3 div.sk-serial::before {content: \"\";position: absolute;border-left: 1px solid gray;box-sizing: border-box;top: 0;bottom: 0;left: 50%;z-index: 0;}#sk-container-id-3 div.sk-serial {display: flex;flex-direction: column;align-items: center;background-color: white;padding-right: 0.2em;padding-left: 0.2em;position: relative;}#sk-container-id-3 div.sk-item {position: relative;z-index: 1;}#sk-container-id-3 div.sk-parallel {display: flex;align-items: stretch;justify-content: center;background-color: white;position: relative;}#sk-container-id-3 div.sk-item::before, #sk-container-id-3 div.sk-parallel-item::before {content: \"\";position: absolute;border-left: 1px solid gray;box-sizing: border-box;top: 0;bottom: 0;left: 50%;z-index: -1;}#sk-container-id-3 div.sk-parallel-item {display: flex;flex-direction: column;z-index: 1;position: relative;background-color: white;}#sk-container-id-3 div.sk-parallel-item:first-child::after {align-self: flex-end;width: 50%;}#sk-container-id-3 div.sk-parallel-item:last-child::after {align-self: flex-start;width: 50%;}#sk-container-id-3 div.sk-parallel-item:only-child::after {width: 0;}#sk-container-id-3 div.sk-dashed-wrapped {border: 1px dashed gray;margin: 0 0.4em 0.5em 0.4em;box-sizing: border-box;padding-bottom: 0.4em;background-color: white;}#sk-container-id-3 div.sk-label label {font-family: monospace;font-weight: bold;display: inline-block;line-height: 1.2em;}#sk-container-id-3 div.sk-label-container {text-align: center;}#sk-container-id-3 div.sk-container {/* jupyter's `normalize.less` sets `[hidden] { display: none; }` but bootstrap.min.css set `[hidden] { display: none !important; }` so we also need the `!important` here to be able to override the default hidden behavior on the sphinx rendered scikit-learn.org. See: https://github.com/scikit-learn/scikit-learn/issues/21755 */display: inline-block !important;position: relative;}#sk-container-id-3 div.sk-text-repr-fallback {display: none;}</style><div id=\"sk-container-id-3\" class=\"sk-top-container\"><div class=\"sk-text-repr-fallback\"><pre>DecisionTreeClassifier()</pre><b>In a Jupyter environment, please rerun this cell to show the HTML representation or trust the notebook. <br />On GitHub, the HTML representation is unable to render, please try loading this page with nbviewer.org.</b></div><div class=\"sk-container\" hidden><div class=\"sk-item\"><div class=\"sk-estimator sk-toggleable\"><input class=\"sk-toggleable__control sk-hidden--visually\" id=\"sk-estimator-id-3\" type=\"checkbox\" checked><label for=\"sk-estimator-id-3\" class=\"sk-toggleable__label sk-toggleable__label-arrow\">DecisionTreeClassifier</label><div class=\"sk-toggleable__content\"><pre>DecisionTreeClassifier()</pre></div></div></div></div></div>"
      ],
      "text/plain": [
       "DecisionTreeClassifier()"
      ]
     },
     "execution_count": 35,
     "metadata": {},
     "output_type": "execute_result"
    }
   ],
   "source": [
    "import pandas as pd\n",
    "\n",
    "from sklearn.tree import DecisionTreeClassifier\n",
    "\n",
    "# Definimos el modelo\n",
    "clf = DecisionTreeClassifier()\n",
    "\n",
    "# Creamos las dummies\n",
    "vars_to_dummies = ['checking_balance', 'credit_history', 'purpose', 'savings_balance', 'employment_length', 'personal_status',\\\n",
    "                   'other_debtors', 'property', 'installment_plan', 'housing', 'job', 'telephone', 'foreign_worker']\n",
    "X_train_ohe = pd.get_dummies(X_train[vars_to_dummies], drop_first=True)\n",
    "\n",
    "# Entrenamos el modelo\n",
    "clf.fit(X_train_ohe, y_train)"
   ]
  },
  {
   "cell_type": "markdown",
   "id": "df59f022-f2e3-4984-a664-b280b69756ab",
   "metadata": {},
   "source": [
    "Podemos hacer una representación gráfica:"
   ]
  },
  {
   "cell_type": "code",
   "execution_count": 36,
   "id": "8e8a52d5-c420-4818-a6b6-3de3bca82f99",
   "metadata": {},
   "outputs": [
    {
     "data": {
      "image/png": "[encoded data removed]",
      "text/plain": [
       "<Figure size 1500x700 with 1 Axes>"
      ]
     },
     "metadata": {},
     "output_type": "display_data"
    }
   ],
   "source": [
    "from sklearn import tree\n",
    "import matplotlib.pyplot as plt\n",
    "\n",
    "plt.figure(figsize = (15, 7))\n",
    "tree.plot_tree(clf)\n",
    "plt.show()"
   ]
  },
  {
   "cell_type": "markdown",
   "id": "b7141692",
   "metadata": {},
   "source": [
    "Evaluemos el modelo sin mejorarle nada. \n",
    "\n",
    "> ¡Recuerden que esto no se puede hacer sino hasta estar seguros de nuestros modelos! En este caso lo hacemos en un contexto pedagógico, con el objetivo de mostrar el cambio en el rendimiento"
   ]
  },
  {
   "cell_type": "code",
   "execution_count": 51,
   "id": "5881cf21",
   "metadata": {},
   "outputs": [
    {
     "name": "stdout",
     "output_type": "stream",
     "text": [
      "================================================================\n",
      "El rendimiento del modelo con Precisión es:  0.66\n",
      "================================================================\n",
      "================================================================\n",
      "El rendimiento del modelo con Precisión Balanceada es:  0.626\n",
      "================================================================\n"
     ]
    }
   ],
   "source": [
    "import pandas as pd\n",
    "\n",
    "from sklearn.metrics import accuracy_score\n",
    "from sklearn.metrics import f1_score\n",
    "from sklearn.metrics import balanced_accuracy_score\n",
    "\n",
    "# One-hot encoding de la base de datos de testeo\n",
    "vars_to_dummies = ['checking_balance', 'credit_history', 'purpose', 'savings_balance', 'employment_length', 'personal_status',\\\n",
    "                   'other_debtors', 'property', 'installment_plan', 'housing', 'job', 'telephone', 'foreign_worker']\n",
    "X_test_ohe = pd.get_dummies(X_test[vars_to_dummies], drop_first=True)\n",
    "\n",
    "# Predicción\n",
    "y_pred = clf.predict(X_test_ohe)\n",
    "\n",
    "print(\"=\"*64)\n",
    "print(\"El rendimiento del modelo con Precisión es: \", round(accuracy_score(y_test, y_pred), 3))\n",
    "print(\"=\"*64)\n",
    "\n",
    "print(\"=\"*64)\n",
    "print(\"El rendimiento del modelo con Precisión Balanceada es: \", round(balanced_accuracy_score(y_test, y_pred), 3))\n",
    "print(\"=\"*64)"
   ]
  },
  {
   "cell_type": "code",
   "execution_count": 56,
   "metadata": {},
   "outputs": [
    {
     "name": "stdout",
     "output_type": "stream",
     "text": [
      "El rendimiento del modelo con Precisión es:  0.295\n",
      "El rendimiento del modelo con Precisión Balanceada es:  0.5\n"
     ]
    }
   ],
   "source": [
    "y_adivino = [2]*200\n",
    "print(\"El rendimiento del modelo con Precisión es: \", round(accuracy_score(y_test, y_adivino), 3))\n",
    "print(\"El rendimiento del modelo con Precisión Balanceada es: \", round(balanced_accuracy_score(y_test, y_adivino), 3))"
   ]
  },
  {
   "cell_type": "code",
   "execution_count": 41,
   "metadata": {},
   "outputs": [
    {
     "data": {
      "text/html": [
       "<div>\n",
       "<style scoped>\n",
       "    .dataframe tbody tr th:only-of-type {\n",
       "        vertical-align: middle;\n",
       "    }\n",
       "\n",
       "    .dataframe tbody tr th {\n",
       "        vertical-align: top;\n",
       "    }\n",
       "\n",
       "    .dataframe thead th {\n",
       "        text-align: right;\n",
       "    }\n",
       "</style>\n",
       "<table border=\"1\" class=\"dataframe\">\n",
       "  <thead>\n",
       "    <tr style=\"text-align: right;\">\n",
       "      <th></th>\n",
       "      <th>contador</th>\n",
       "    </tr>\n",
       "    <tr>\n",
       "      <th>default</th>\n",
       "      <th></th>\n",
       "    </tr>\n",
       "  </thead>\n",
       "  <tbody>\n",
       "    <tr>\n",
       "      <th>1</th>\n",
       "      <td>700</td>\n",
       "    </tr>\n",
       "    <tr>\n",
       "      <th>2</th>\n",
       "      <td>300</td>\n",
       "    </tr>\n",
       "  </tbody>\n",
       "</table>\n",
       "</div>"
      ],
      "text/plain": [
       "         contador\n",
       "default          \n",
       "1             700\n",
       "2             300"
      ]
     },
     "execution_count": 41,
     "metadata": {},
     "output_type": "execute_result"
    }
   ],
   "source": [
    "(\n",
    "    credit[['default']]\n",
    "    .assign(contador = 1)\n",
    "    .groupby('default')\n",
    "    .count()\n",
    ")"
   ]
  },
  {
   "cell_type": "markdown",
   "id": "24630efa-e51a-456d-a2fc-ca330f964b84",
   "metadata": {},
   "source": [
    "# 5. Perfeccionamiento del modelo"
   ]
  },
  {
   "cell_type": "markdown",
   "id": "ee58b837",
   "metadata": {},
   "source": [
    "## 5.1. Validación por Hold-On"
   ]
  },
  {
   "cell_type": "markdown",
   "id": "8b32779f",
   "metadata": {},
   "source": [
    "El modelo anterior fue un intento rápido. Sin embargo, podemos siempre mejorar. ¡Intentémoslo!\n",
    "\n",
    "Una manera de mejorar el modelo es por el método que hemos conocido: separación de la base de datos en un dataset de entrenamiento y uno de validación. En la base de datos de entrenamiento vamos a ajustar el modelo y evaluamos el desempeño en la base de datos de validación. Este método se llama **Hold-On**. Es un enfoque común que no requiere mucha capacidad de procesamiento y que se puede hacer rápidamente. Ya habíamos hecho la separación anterior, ya que era nuestro acercamiento común. En ese sentido, vamos a aplicar el método de validación:\n",
    "\n",
    "> ¡Nota! No se puede tocar la base de datos de testeo, sino hasta la evaluación final.\n",
    "\n"
   ]
  },
  {
   "cell_type": "code",
   "execution_count": 75,
   "id": "cb8cf73d",
   "metadata": {},
   "outputs": [
    {
     "name": "stdout",
     "output_type": "stream",
     "text": [
      "Size of train dataset:  640\n",
      "Size of validation dataset:  160\n",
      "Size of test dataset:  200\n"
     ]
    }
   ],
   "source": [
    "import pandas as pd\n",
    "\n",
    "from sklearn.model_selection import train_test_split\n",
    "from sklearn.tree import DecisionTreeClassifier\n",
    "from sklearn.metrics import balanced_accuracy_score\n",
    "\n",
    "# Splitting X and y\n",
    "X = credit.drop(['default'], axis = 1)\n",
    "y = credit['default']\n",
    "\n",
    "# Splitting in train, validation and test datasets\n",
    "X_train, X_test, y_train, y_test = train_test_split(X, y, test_size = 0.2, random_state = 42)\n",
    "X_train, X_val, y_train, y_val = train_test_split(X_train, y_train, test_size = 0.2, random_state = 42)\n",
    "\n",
    "print(\"Size of train dataset: \", X_train.shape[0])\n",
    "print(\"Size of validation dataset: \", X_val.shape[0])\n",
    "print(\"Size of test dataset: \", X_test.shape[0])\n",
    "\n",
    "# Definiremos los parámetros a revisar\n",
    "params = {\n",
    "    'criterion': ['gini', 'entropy'],\n",
    "    'max_depth': [None, 2, 4, 6, 8, 10, 12, 14, 16, 18, 20],\n",
    "    'max_features': [None, 'sqrt', 'log2', 0.2, 0.4, 0.6, 0.8],\n",
    "    'splitter': ['best', 'random']\n",
    "}\n",
    "\n",
    "# Creamos las dummies\n",
    "vars_to_dummies = ['checking_balance', 'credit_history', 'purpose', 'savings_balance', 'employment_length', 'personal_status',\\\n",
    "                   'other_debtors', 'property', 'installment_plan', 'housing', 'job', 'telephone', 'foreign_worker']\n",
    "X_train_ohe = pd.get_dummies(X_train[vars_to_dummies],drop_first=True)\n",
    "\n",
    "# One-hot encoding de la base de datos de validación\n",
    "vars_to_dummies = ['checking_balance', 'credit_history', 'purpose', 'savings_balance', 'employment_length', 'personal_status',\\\n",
    "                   'other_debtors', 'property', 'installment_plan', 'housing', 'job', 'telephone', 'foreign_worker']\n",
    "X_val_ohe = pd.get_dummies(X_val[vars_to_dummies],drop_first=True)\n",
    "\n",
    "\n",
    "res = pd.DataFrame(columns = ['criterion', 'max_depth', 'max_features', 'splitter', 'accuracy'])\n",
    "\n",
    "for criterion in params['criterion']:\n",
    "    for max_depth in params['max_depth']:\n",
    "        for max_features in params['max_features']:\n",
    "            for splitter in params['splitter']:\n",
    "\n",
    "                # Entrenamiento\n",
    "                clf = DecisionTreeClassifier(criterion = criterion, max_depth = max_depth, max_features = max_features, splitter = splitter)\\\n",
    "                            .fit(X_train_ohe, y_train)\n",
    "\n",
    "                # Predicción\n",
    "                y_pred = clf.predict(X_val_ohe)\n",
    "\n",
    "                res = pd.concat([res, pd.DataFrame.from_dict({'criterion': [criterion], 'max_depth': [max_depth], 'max_features': [max_features], \\\n",
    "                    'splitter': [splitter], 'accuracy': [balanced_accuracy_score(y_val, y_pred)]})], ignore_index = True)\n"
   ]
  },
  {
   "cell_type": "markdown",
   "id": "2dd3f4eb",
   "metadata": {},
   "source": [
    "Revisemos la base de datos de resultados: ¿cuál es el modelo que mejor resultados tiene? ¿Cuáles son los parámetros de ese modelo?"
   ]
  },
  {
   "cell_type": "code",
   "execution_count": 89,
   "id": "07c81c0e",
   "metadata": {},
   "outputs": [
    {
     "data": {
      "text/html": [
       "<div>\n",
       "<style scoped>\n",
       "    .dataframe tbody tr th:only-of-type {\n",
       "        vertical-align: middle;\n",
       "    }\n",
       "\n",
       "    .dataframe tbody tr th {\n",
       "        vertical-align: top;\n",
       "    }\n",
       "\n",
       "    .dataframe thead th {\n",
       "        text-align: right;\n",
       "    }\n",
       "</style>\n",
       "<table border=\"1\" class=\"dataframe\">\n",
       "  <thead>\n",
       "    <tr style=\"text-align: right;\">\n",
       "      <th></th>\n",
       "      <th>criterion</th>\n",
       "      <th>max_depth</th>\n",
       "      <th>max_features</th>\n",
       "      <th>splitter</th>\n",
       "      <th>accuracy</th>\n",
       "    </tr>\n",
       "  </thead>\n",
       "  <tbody>\n",
       "    <tr>\n",
       "      <th>150</th>\n",
       "      <td>gini</td>\n",
       "      <td>20</td>\n",
       "      <td>0.6</td>\n",
       "      <td>best</td>\n",
       "      <td>0.659802</td>\n",
       "    </tr>\n",
       "    <tr>\n",
       "      <th>164</th>\n",
       "      <td>entropy</td>\n",
       "      <td>None</td>\n",
       "      <td>0.6</td>\n",
       "      <td>best</td>\n",
       "      <td>0.648932</td>\n",
       "    </tr>\n",
       "    <tr>\n",
       "      <th>80</th>\n",
       "      <td>gini</td>\n",
       "      <td>10</td>\n",
       "      <td>0.6</td>\n",
       "      <td>best</td>\n",
       "      <td>0.648932</td>\n",
       "    </tr>\n",
       "    <tr>\n",
       "      <th>262</th>\n",
       "      <td>entropy</td>\n",
       "      <td>14</td>\n",
       "      <td>0.6</td>\n",
       "      <td>best</td>\n",
       "      <td>0.646834</td>\n",
       "    </tr>\n",
       "    <tr>\n",
       "      <th>287</th>\n",
       "      <td>entropy</td>\n",
       "      <td>18</td>\n",
       "      <td>0.2</td>\n",
       "      <td>random</td>\n",
       "      <td>0.642449</td>\n",
       "    </tr>\n",
       "    <tr>\n",
       "      <th>...</th>\n",
       "      <td>...</td>\n",
       "      <td>...</td>\n",
       "      <td>...</td>\n",
       "      <td>...</td>\n",
       "      <td>...</td>\n",
       "    </tr>\n",
       "    <tr>\n",
       "      <th>160</th>\n",
       "      <td>entropy</td>\n",
       "      <td>None</td>\n",
       "      <td>0.2</td>\n",
       "      <td>best</td>\n",
       "      <td>0.487796</td>\n",
       "    </tr>\n",
       "    <tr>\n",
       "      <th>270</th>\n",
       "      <td>entropy</td>\n",
       "      <td>16</td>\n",
       "      <td>log2</td>\n",
       "      <td>best</td>\n",
       "      <td>0.485698</td>\n",
       "    </tr>\n",
       "    <tr>\n",
       "      <th>33</th>\n",
       "      <td>gini</td>\n",
       "      <td>4</td>\n",
       "      <td>log2</td>\n",
       "      <td>random</td>\n",
       "      <td>0.484554</td>\n",
       "    </tr>\n",
       "    <tr>\n",
       "      <th>282</th>\n",
       "      <td>entropy</td>\n",
       "      <td>18</td>\n",
       "      <td>sqrt</td>\n",
       "      <td>best</td>\n",
       "      <td>0.483410</td>\n",
       "    </tr>\n",
       "    <tr>\n",
       "      <th>100</th>\n",
       "      <td>gini</td>\n",
       "      <td>14</td>\n",
       "      <td>sqrt</td>\n",
       "      <td>best</td>\n",
       "      <td>0.468154</td>\n",
       "    </tr>\n",
       "  </tbody>\n",
       "</table>\n",
       "<p>308 rows × 5 columns</p>\n",
       "</div>"
      ],
      "text/plain": [
       "    criterion max_depth max_features splitter  accuracy\n",
       "150      gini        20          0.6     best  0.659802\n",
       "164   entropy      None          0.6     best  0.648932\n",
       "80       gini        10          0.6     best  0.648932\n",
       "262   entropy        14          0.6     best  0.646834\n",
       "287   entropy        18          0.2   random  0.642449\n",
       "..        ...       ...          ...      ...       ...\n",
       "160   entropy      None          0.2     best  0.487796\n",
       "270   entropy        16         log2     best  0.485698\n",
       "33       gini         4         log2   random  0.484554\n",
       "282   entropy        18         sqrt     best  0.483410\n",
       "100      gini        14         sqrt     best  0.468154\n",
       "\n",
       "[308 rows x 5 columns]"
      ]
     },
     "execution_count": 89,
     "metadata": {},
     "output_type": "execute_result"
    }
   ],
   "source": [
    "res = res.sort_values('accuracy', ascending = False)\n",
    "res"
   ]
  },
  {
   "cell_type": "code",
   "execution_count": 91,
   "id": "92ab0b7d",
   "metadata": {},
   "outputs": [
    {
     "name": "stdout",
     "output_type": "stream",
     "text": [
      "Los parámetros que otorgan el mejor modelo es el siguiente:\n",
      "criterion           gini\n",
      "max_depth             20\n",
      "max_features         0.6\n",
      "splitter            best\n",
      "accuracy        0.659802\n",
      "Name: 0, dtype: object\n"
     ]
    }
   ],
   "source": [
    "res = res.sort_values('accuracy', ascending = False).reset_index(drop = True)\n",
    "print(\"Los parámetros que otorgan el mejor modelo es el siguiente:\")\n",
    "print(res.iloc[0])"
   ]
  },
  {
   "cell_type": "markdown",
   "id": "8c4a3936",
   "metadata": {},
   "source": [
    "Ahora sí, evaluemos cómo nos fue con este proceso de validación:"
   ]
  },
  {
   "cell_type": "code",
   "execution_count": 103,
   "id": "87c95343",
   "metadata": {},
   "outputs": [
    {
     "name": "stdout",
     "output_type": "stream",
     "text": [
      "================================================================\n",
      "El rendimiento del modelo es:  0.65\n",
      "================================================================\n",
      "================================================================\n",
      "El rendimiento del modelo es:  0.743\n",
      "================================================================\n"
     ]
    }
   ],
   "source": [
    "import pandas as pd\n",
    "\n",
    "from sklearn.tree import DecisionTreeClassifier\n",
    "from sklearn.metrics import balanced_accuracy_score\n",
    "\n",
    "# Splitting X and y\n",
    "X = credit.drop(['default'], axis = 1)\n",
    "y = credit['default']\n",
    "\n",
    "# Splitting in train, validation and test datasets\n",
    "X_train, X_test, y_train, y_test = train_test_split(X, y, test_size = 0.2, random_state = 42)\n",
    "\n",
    "# Creamos las dummies\n",
    "vars_to_dummies = ['checking_balance', 'credit_history', 'purpose', 'savings_balance', 'employment_length', 'personal_status',\\\n",
    "                   'other_debtors', 'property', 'installment_plan', 'housing', 'job', 'telephone', 'foreign_worker']\n",
    "X_train_ohe = pd.get_dummies(X_train[vars_to_dummies],drop_first=True)\n",
    "\n",
    "# One-hot encoding de la base de datos de testeo\n",
    "vars_to_dummies = ['checking_balance', 'credit_history', 'purpose', 'savings_balance', 'employment_length', 'personal_status',\\\n",
    "                   'other_debtors', 'property', 'installment_plan', 'housing', 'job', 'telephone', 'foreign_worker']\n",
    "X_test_ohe = pd.get_dummies(X_test[vars_to_dummies],drop_first=True)\n",
    "\n",
    "\n",
    "# Definimos el modelo\n",
    "clf = DecisionTreeClassifier(criterion = res.iloc[0]['criterion'], max_depth = res.iloc[0]['max_depth'],\\\n",
    "     max_features = res.iloc[0]['max_features'], splitter = res.iloc[0]['splitter']).fit(X_train_ohe, y_train)\n",
    "\n",
    "\n",
    "# Predicción\n",
    "y_pred = clf.predict(X_test_ohe)\n",
    "\n",
    "print(\"=\"*64)\n",
    "print(\"El rendimiento del modelo es: \", round(accuracy_score(y_test, y_pred), 3))\n",
    "print(\"=\"*64)\n",
    "\n",
    "print(\"=\"*64)\n",
    "print(\"El rendimiento del modelo es: \", round(f1_score(y_test, y_pred), 3))\n",
    "print(\"=\"*64)"
   ]
  },
  {
   "cell_type": "markdown",
   "id": "81d9d089",
   "metadata": {},
   "source": [
    "## 5.2. Validación Cruzada (Cross-Validation)"
   ]
  },
  {
   "cell_type": "markdown",
   "id": "58f2f60f",
   "metadata": {},
   "source": [
    "Como sabemos, en ocasiones no poseemos con todos los datos que deseamos, sino que tenemos relativamente pocos datos. En ese sentido, el método Hold-On termina siendo contraproducente, ya que dividir los datos en entrenamiento, validación y testeo resulta bastante exigente. En ocasiones, si tenemos alrededor de 200 datos, podríamos quedarnos con 32 datos de validación si dividimos en 80% la base de datos de entrenamiento y testeo y 80% la de entrenamiento y validación. ¡Estos son muy pocos datos!\n",
    "\n",
    "Para ello, hay otros dos métodos que pueden utilizarse: la validación cruzada por k particiones (K-Folds Cross Validation - KFoldsCV) y la validación cruzada dejando uno por fuera (Left-Only One Cross-Validation - LOOCV). Hoy nos concentraremos en el KFoldsCV.\n",
    "\n",
    "La idea de la validación cruzada por particiones es simple: dividir la base de datos de entrenamiento en K partes (a eso hace referencia la K), entrenar con K-1 partes y validar el rendimiento con la última; tomar otro arreglo de K-1 partes, entrenar y validar con la que queda; y así hasta dar todo el ciclo. Para cada uno de ellos se calcula el valor de métrica que se haya estipulado (por ejemplo, precisión) y se calcula el promedio entre ellos.\n",
    "\n",
    "<center><img src=\"https://scikit-learn.org/stable/_images/grid_search_cross_validation.png\"/></center>\n",
    "\n",
    "Resulta menos demandante para los datos, ya que no necesita dejar una parte de los datos sin tocar (la de validación), sino que se ajusta el modelo con todos los datos disponibles en la base de datos de entrenamiento. Evidentemente es un poco más exigente en términos computacionales, pero no lo es tanto como LOOCV.\n",
    "\n",
    "> **Nota:** aún se necesita de dejar una base de datos de testeo que **no se toca sino hasta la evaluación final**."
   ]
  },
  {
   "cell_type": "markdown",
   "id": "4eb64d0c",
   "metadata": {},
   "source": [
    "### 5.2.1. Optimización paramétrica"
   ]
  },
  {
   "cell_type": "markdown",
   "id": "5102d52c",
   "metadata": {},
   "source": [
    "La idea de este tipo de validaciones es mejorar el desempeño del modelo probando diferentes arreglos. Esto se llama **optimización paramétrica**. En el caso de validación cruzada por K particiones tenemos tres tipos:\n",
    "\n",
    "* **Optimización manual:** realizar la optimización de manera manual (algo un poco más rústico al anterior código, pero con un ajuste de validación cruzada). Es la más demandante en tiempo humano de las tres.\n",
    "* **Optimización por grilla de parámetros:** realizar optimización con una grilla de parámetros (algo como el anterior código, pero con un ajuste de validación cruzada). Es la más demandante en poder de cómputo de las tres.\n",
    "* **Optimización por grilla aleatoria:** realizar optimización con una grilla de parámetros que trata valores entre los rangos elegidos de manera aleatoria. Se encuentra en el punto medio de las dos anteriores.\n",
    "\n",
    "Veamos cómo aplicar el último método:"
   ]
  },
  {
   "cell_type": "code",
   "execution_count": 101,
   "id": "71691197",
   "metadata": {},
   "outputs": [
    {
     "name": "stdout",
     "output_type": "stream",
     "text": [
      "Size of train dataset:  800\n",
      "Size of test dataset:  200\n",
      "DecisionTreeClassifier(criterion='entropy', max_depth=14, max_features=0.2,\n",
      "                       splitter='random')\n",
      "{'splitter': 'random', 'max_features': 0.2, 'max_depth': 14, 'criterion': 'entropy'}\n",
      "================================================================\n",
      "El rendimiento del modelo por precisión es:  0.66\n",
      "================================================================\n",
      "================================================================\n",
      "El rendimiento del modelo por F1 es:  0.748\n",
      "================================================================\n"
     ]
    }
   ],
   "source": [
    "import pandas as pd\n",
    "\n",
    "from sklearn.tree import DecisionTreeClassifier\n",
    "from sklearn.model_selection import RandomizedSearchCV\n",
    "\n",
    "from sklearn.model_selection import train_test_split\n",
    "from sklearn.metrics import accuracy_score\n",
    "from sklearn.metrics import balanced_accuracy_score\n",
    "from sklearn.metrics import f1_score\n",
    "\n",
    "# Splitting X and y\n",
    "X = credit.drop(['default'], axis = 1)\n",
    "y = credit['default']\n",
    "\n",
    "# Splitting in train, validation and test datasets\n",
    "X_train, X_test, y_train, y_test = train_test_split(X, y, test_size = 0.2, random_state = 42)\n",
    "\n",
    "print(\"Size of train dataset: \", X_train.shape[0])\n",
    "print(\"Size of test dataset: \", X_test.shape[0])\n",
    "\n",
    "# Definiremos los parámetros a revisar\n",
    "params = {\n",
    "    'criterion': ['gini', 'entropy'],\n",
    "    'max_depth': range(2, 50, 2),\n",
    "    'max_features': [None, 'sqrt', 'log2', 0.2, 0.4, 0.6, 0.8],\n",
    "    'splitter': ['best', 'random']\n",
    "}\n",
    "\n",
    "# Definimos el modelo\n",
    "clf = DecisionTreeClassifier()\n",
    "\n",
    "# Creamos las dummies\n",
    "vars_to_dummies = ['checking_balance', 'credit_history', 'purpose', 'savings_balance', 'employment_length', 'personal_status',\\\n",
    "                   'other_debtors', 'property', 'installment_plan', 'housing', 'job', 'telephone', 'foreign_worker']\n",
    "X_train_ohe = pd.get_dummies(X_train[vars_to_dummies],drop_first=True)\n",
    "\n",
    "# One-hot encoding de la base de datos de testeo\n",
    "vars_to_dummies = ['checking_balance', 'credit_history', 'purpose', 'savings_balance', 'employment_length', 'personal_status',\\\n",
    "                   'other_debtors', 'property', 'installment_plan', 'housing', 'job', 'telephone', 'foreign_worker']\n",
    "X_test_ohe = pd.get_dummies(X_test[vars_to_dummies],drop_first=True)\n",
    "\n",
    "\n",
    "# Cross_Validation\n",
    "clf_est = RandomizedSearchCV(clf, params, n_iter = 10, cv = 3, scoring='f1').fit(X_train_ohe, y_train)\n",
    "\n",
    "print(clf_est.best_estimator_)\n",
    "print(clf_est.best_params_)\n",
    "\n",
    "# Prediction\n",
    "y_pred = clf_est.predict(X_test_ohe)\n",
    "\n",
    "print(\"=\"*64)\n",
    "print(\"El rendimiento del modelo por precisión es: \", round(accuracy_score(y_test, y_pred), 3))\n",
    "print(\"=\"*64)\n",
    "\n",
    "print(\"=\"*64)\n",
    "print(\"El rendimiento del modelo por F1 es: \", round(f1_score(y_test, y_pred), 3))\n",
    "print(\"=\"*64)\n"
   ]
  }
 ],
 "metadata": {
  "kernelspec": {
   "display_name": "Python 3.10.5 64-bit",
   "language": "python",
   "name": "python3"
  },
  "language_info": {
   "codemirror_mode": {
    "name": "ipython",
    "version": 3
   },
   "file_extension": ".py",
   "mimetype": "text/x-python",
   "name": "python",
   "nbconvert_exporter": "python",
   "pygments_lexer": "ipython3",
   "version": "3.11.4"
  },
  "vscode": {
   "interpreter": {
    "hash": "bc1d44bc0bd592bad8cc7ba1e1e514470dc5ad25cb613275d48eb56066632d77"
   }
  }
 },
 "nbformat": 4,
 "nbformat_minor": 5
}
