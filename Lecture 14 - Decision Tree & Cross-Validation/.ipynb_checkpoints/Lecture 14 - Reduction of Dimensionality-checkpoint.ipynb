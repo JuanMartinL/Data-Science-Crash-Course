{
 "cells": [
  {
   "cell_type": "markdown",
   "id": "eea57579-1214-4830-8fb2-4cb602a6fb7c",
   "metadata": {},
   "source": [
    "# Lecture 14: árboles de decisión"
   ]
  },
  {
   "cell_type": "markdown",
   "id": "9bb996ea-9187-4905-a55f-7fccdd604f17",
   "metadata": {},
   "source": [
    "Las personas normalmente tomamos decisiones a partir de los pros y contras de cada posibilidad. Más allá, hacemos un mapa mental de cómo tomar decisiones a partir de condiciones. Pensemos en el proceso de elegir pareja:\n",
    "\n",
    "* ¿Qué características son importantes para que nosotros elijamos pareja?\n",
    "* ¿Es importante que sea o no una persona con altos recursos económicos?\n",
    "* ¿Es importante que sea lindo/linda o no?\n",
    "* ¿Debemos tener metas comunes?\n",
    "* ¿Debe compartir nuestros hobbies?\n",
    "\n",
    "Pensemos en un ejemplo de una persona interesada:\n",
    "\n",
    "<center><img src=\"Imagen DT.png\"/></center>\n",
    "\n",
    "Pensemos también en el hecho simple de elegir trabajo: si me ofrecen un salario mayor a COP$5 millones, digo que sí. Si no, entonces reviso si es contrato por prestación de servicios o contrato laboral. Si me ofrecen un contrato laboral, sí; si no, pienso en si debo ir a trabajar físico o remoto. Y así con varias decisiones. Este es el principio de los árboles de decisión.\n",
    "\n",
    "# 1. Los árboles de decisión y su estructura\n",
    "Un **algoritmo de árbol de decisión** es un modelo que siga una estructura de un árbol, comprendiendo una serie de decisiones lógicas que se van dividiendo en nodos de decisión. Las **divisiones de cada nodo** se llaman **ramas** y los **puntos de decisión final** se llaman **nodos de hoja**.\n",
    "\n",
    "Un nuevo dato a ser evaluado debe pasar por el **nodo raíz**, pasa por todos los **nodos de decisión** y se va clasificando a través de las decisiones lógicas hasta llegar a un **nodo hoja** que lo clasifica (u otorga un valor, en el caso de árboles de regresión). \n",
    "\n",
    "Dado este algoritmo, los árboles de decisión se utilizan para:\n",
    "\n",
    "* **Modelos de puntajes de crédito:** otorga transparencia en las decisiones de acpetación o rechazo de un crédito.\n",
    "* **Estudios de marketing para identificar la satisfacción de clientes con la campaña:** ayuda a entender el flujo de decisión del cliente.\n",
    "* **Diagnóstico de condiciones médicas:** explica bien cuáles son las causas, síntomas y otros elementos que llevaron al diagnóstico.\n",
    "\n",
    "# 2. Divide y vencerás\n",
    "\n",
    "Los árboles de decisión se centran en la **partición recursiva**. Es decir, se dividen los datos hasta que existan clases similares. Para ello, el algoritmo encuentra una variable que pueda dividir de mejor manera los datos, encontrando más fácilmente la clase a predecir. Esto lo hace varias veces hasta que se cumple un criterio para detenerse.\n",
    "\n",
    "Miremos este ejemplo: saber si una película será un éxito de la crítica, un éxito mainstream o un fracaso: ¿qué se puede observar?\n",
    "\n",
    "<center><img src=\"ej1.png\"/></center>\n",
    "\n",
    "Podríamos aplicar una estrategia de **divide y conquistarás**. Dividamos primero la base de datos por el uso de celebridades de alto nivel:\n",
    "\n",
    "<center><img src=\"ej3.png\"/></center>\n",
    "\n",
    "Ahora dividamos por el presupuesto:\n",
    "\n",
    "<center><img src=\"ej2.png\"/></center>\n",
    "\n",
    "Es decir, podemos encontrar cómo dividir la base de datos para categorizar bien los datos en sus tres clases. Esto lo podríamos poner en un árbol de decisiones:\n",
    "\n",
    "<center><img src=\"ej_tree.png\"/></center>"
   ]
  },
  {
   "cell_type": "markdown",
   "id": "6989966e-bbf0-4175-b7b7-ed75045440cd",
   "metadata": {},
   "source": [
    "# 3. Predicción de créditos de alto riesgo"
   ]
  },
  {
   "cell_type": "markdown",
   "id": "12bacd99-b440-4b1a-928b-135d2a5bca5d",
   "metadata": {},
   "source": [
    "## 3.1. Importación de los datos"
   ]
  },
  {
   "cell_type": "code",
   "execution_count": 1,
   "id": "206f6ed3-1172-404a-bbc9-07606f4dfc2e",
   "metadata": {},
   "outputs": [
    {
     "data": {
      "text/html": [
       "<div>\n",
       "<style scoped>\n",
       "    .dataframe tbody tr th:only-of-type {\n",
       "        vertical-align: middle;\n",
       "    }\n",
       "\n",
       "    .dataframe tbody tr th {\n",
       "        vertical-align: top;\n",
       "    }\n",
       "\n",
       "    .dataframe thead th {\n",
       "        text-align: right;\n",
       "    }\n",
       "</style>\n",
       "<table border=\"1\" class=\"dataframe\">\n",
       "  <thead>\n",
       "    <tr style=\"text-align: right;\">\n",
       "      <th></th>\n",
       "      <th>checking_balance</th>\n",
       "      <th>months_loan_duration</th>\n",
       "      <th>credit_history</th>\n",
       "      <th>purpose</th>\n",
       "      <th>amount</th>\n",
       "      <th>savings_balance</th>\n",
       "      <th>employment_length</th>\n",
       "      <th>installment_rate</th>\n",
       "      <th>personal_status</th>\n",
       "      <th>other_debtors</th>\n",
       "      <th>...</th>\n",
       "      <th>property</th>\n",
       "      <th>age</th>\n",
       "      <th>installment_plan</th>\n",
       "      <th>housing</th>\n",
       "      <th>existing_credits</th>\n",
       "      <th>job</th>\n",
       "      <th>dependents</th>\n",
       "      <th>telephone</th>\n",
       "      <th>foreign_worker</th>\n",
       "      <th>default</th>\n",
       "    </tr>\n",
       "  </thead>\n",
       "  <tbody>\n",
       "    <tr>\n",
       "      <th>0</th>\n",
       "      <td>&lt; 0 DM</td>\n",
       "      <td>6</td>\n",
       "      <td>critical</td>\n",
       "      <td>radio/tv</td>\n",
       "      <td>1169</td>\n",
       "      <td>unknown</td>\n",
       "      <td>&gt; 7 yrs</td>\n",
       "      <td>4</td>\n",
       "      <td>single male</td>\n",
       "      <td>none</td>\n",
       "      <td>...</td>\n",
       "      <td>real estate</td>\n",
       "      <td>67</td>\n",
       "      <td>none</td>\n",
       "      <td>own</td>\n",
       "      <td>2</td>\n",
       "      <td>skilled employee</td>\n",
       "      <td>1</td>\n",
       "      <td>yes</td>\n",
       "      <td>yes</td>\n",
       "      <td>1</td>\n",
       "    </tr>\n",
       "    <tr>\n",
       "      <th>1</th>\n",
       "      <td>1 - 200 DM</td>\n",
       "      <td>48</td>\n",
       "      <td>repaid</td>\n",
       "      <td>radio/tv</td>\n",
       "      <td>5951</td>\n",
       "      <td>&lt; 100 DM</td>\n",
       "      <td>1 - 4 yrs</td>\n",
       "      <td>2</td>\n",
       "      <td>female</td>\n",
       "      <td>none</td>\n",
       "      <td>...</td>\n",
       "      <td>real estate</td>\n",
       "      <td>22</td>\n",
       "      <td>none</td>\n",
       "      <td>own</td>\n",
       "      <td>1</td>\n",
       "      <td>skilled employee</td>\n",
       "      <td>1</td>\n",
       "      <td>none</td>\n",
       "      <td>yes</td>\n",
       "      <td>2</td>\n",
       "    </tr>\n",
       "    <tr>\n",
       "      <th>2</th>\n",
       "      <td>unknown</td>\n",
       "      <td>12</td>\n",
       "      <td>critical</td>\n",
       "      <td>education</td>\n",
       "      <td>2096</td>\n",
       "      <td>&lt; 100 DM</td>\n",
       "      <td>4 - 7 yrs</td>\n",
       "      <td>2</td>\n",
       "      <td>single male</td>\n",
       "      <td>none</td>\n",
       "      <td>...</td>\n",
       "      <td>real estate</td>\n",
       "      <td>49</td>\n",
       "      <td>none</td>\n",
       "      <td>own</td>\n",
       "      <td>1</td>\n",
       "      <td>unskilled resident</td>\n",
       "      <td>2</td>\n",
       "      <td>none</td>\n",
       "      <td>yes</td>\n",
       "      <td>1</td>\n",
       "    </tr>\n",
       "    <tr>\n",
       "      <th>3</th>\n",
       "      <td>&lt; 0 DM</td>\n",
       "      <td>42</td>\n",
       "      <td>repaid</td>\n",
       "      <td>furniture</td>\n",
       "      <td>7882</td>\n",
       "      <td>&lt; 100 DM</td>\n",
       "      <td>4 - 7 yrs</td>\n",
       "      <td>2</td>\n",
       "      <td>single male</td>\n",
       "      <td>guarantor</td>\n",
       "      <td>...</td>\n",
       "      <td>building society savings</td>\n",
       "      <td>45</td>\n",
       "      <td>none</td>\n",
       "      <td>for free</td>\n",
       "      <td>1</td>\n",
       "      <td>skilled employee</td>\n",
       "      <td>2</td>\n",
       "      <td>none</td>\n",
       "      <td>yes</td>\n",
       "      <td>1</td>\n",
       "    </tr>\n",
       "    <tr>\n",
       "      <th>4</th>\n",
       "      <td>&lt; 0 DM</td>\n",
       "      <td>24</td>\n",
       "      <td>delayed</td>\n",
       "      <td>car (new)</td>\n",
       "      <td>4870</td>\n",
       "      <td>&lt; 100 DM</td>\n",
       "      <td>1 - 4 yrs</td>\n",
       "      <td>3</td>\n",
       "      <td>single male</td>\n",
       "      <td>none</td>\n",
       "      <td>...</td>\n",
       "      <td>unknown/none</td>\n",
       "      <td>53</td>\n",
       "      <td>none</td>\n",
       "      <td>for free</td>\n",
       "      <td>2</td>\n",
       "      <td>skilled employee</td>\n",
       "      <td>2</td>\n",
       "      <td>none</td>\n",
       "      <td>yes</td>\n",
       "      <td>2</td>\n",
       "    </tr>\n",
       "  </tbody>\n",
       "</table>\n",
       "<p>5 rows × 21 columns</p>\n",
       "</div>"
      ],
      "text/plain": [
       "  checking_balance  months_loan_duration credit_history    purpose  amount  \\\n",
       "0           < 0 DM                     6       critical   radio/tv    1169   \n",
       "1       1 - 200 DM                    48         repaid   radio/tv    5951   \n",
       "2          unknown                    12       critical  education    2096   \n",
       "3           < 0 DM                    42         repaid  furniture    7882   \n",
       "4           < 0 DM                    24        delayed  car (new)    4870   \n",
       "\n",
       "  savings_balance employment_length  installment_rate personal_status  \\\n",
       "0         unknown           > 7 yrs                 4     single male   \n",
       "1        < 100 DM         1 - 4 yrs                 2          female   \n",
       "2        < 100 DM         4 - 7 yrs                 2     single male   \n",
       "3        < 100 DM         4 - 7 yrs                 2     single male   \n",
       "4        < 100 DM         1 - 4 yrs                 3     single male   \n",
       "\n",
       "  other_debtors  ...                  property age  installment_plan  \\\n",
       "0          none  ...               real estate  67              none   \n",
       "1          none  ...               real estate  22              none   \n",
       "2          none  ...               real estate  49              none   \n",
       "3     guarantor  ...  building society savings  45              none   \n",
       "4          none  ...              unknown/none  53              none   \n",
       "\n",
       "    housing existing_credits                 job dependents  telephone  \\\n",
       "0       own                2    skilled employee          1        yes   \n",
       "1       own                1    skilled employee          1       none   \n",
       "2       own                1  unskilled resident          2       none   \n",
       "3  for free                1    skilled employee          2       none   \n",
       "4  for free                2    skilled employee          2       none   \n",
       "\n",
       "  foreign_worker default  \n",
       "0            yes       1  \n",
       "1            yes       2  \n",
       "2            yes       1  \n",
       "3            yes       1  \n",
       "4            yes       2  \n",
       "\n",
       "[5 rows x 21 columns]"
      ]
     },
     "execution_count": 1,
     "metadata": {},
     "output_type": "execute_result"
    }
   ],
   "source": [
    "import pandas as pd\n",
    "\n",
    "credit = pd.read_csv(\"https://raw.githubusercontent.com/jagallegod/curso-machine-learning/master/arboles/credit.csv\")\n",
    "credit.head()"
   ]
  },
  {
   "cell_type": "markdown",
   "id": "a14a3303-2080-427b-8c4d-e658396e01aa",
   "metadata": {},
   "source": [
    "> ¿Qué encontramos? ¿Qué variables hay?"
   ]
  },
  {
   "cell_type": "markdown",
   "id": "2903dbac-64b1-42db-a950-b2d681bfdc66",
   "metadata": {},
   "source": [
    "Revisemos varios elementos de la base de datos:"
   ]
  },
  {
   "cell_type": "code",
   "execution_count": 18,
   "id": "8a508d86-ce8d-421c-84a0-391e8b683492",
   "metadata": {},
   "outputs": [
    {
     "name": "stdout",
     "output_type": "stream",
     "text": [
      "================================================================\n",
      "Tenemos un total de 1000 observaciones con 21 variables.\n",
      "================================================================\n",
      "\n",
      "\n",
      "================================================================\n",
      "Valores perdidos\n",
      "================================================================\n",
      "checking_balance        0\n",
      "months_loan_duration    0\n",
      "credit_history          0\n",
      "purpose                 0\n",
      "amount                  0\n",
      "savings_balance         0\n",
      "employment_length       0\n",
      "installment_rate        0\n",
      "personal_status         0\n",
      "other_debtors           0\n",
      "residence_history       0\n",
      "property                0\n",
      "age                     0\n",
      "installment_plan        0\n",
      "housing                 0\n",
      "existing_credits        0\n",
      "job                     0\n",
      "dependents              0\n",
      "telephone               0\n",
      "foreign_worker          0\n",
      "default                 0\n",
      "dtype: int64\n",
      "\n",
      "\n",
      "================================================================\n",
      "Valores únicos\n",
      "================================================================\n",
      "checking_balance          4\n",
      "months_loan_duration     33\n",
      "credit_history            5\n",
      "purpose                  10\n",
      "amount                  921\n",
      "savings_balance           5\n",
      "employment_length         5\n",
      "installment_rate          4\n",
      "personal_status           4\n",
      "other_debtors             3\n",
      "residence_history         4\n",
      "property                  4\n",
      "age                      53\n",
      "installment_plan          3\n",
      "housing                   3\n",
      "existing_credits          4\n",
      "job                       4\n",
      "dependents                2\n",
      "telephone                 2\n",
      "foreign_worker            2\n",
      "default                   2\n",
      "dtype: int64\n",
      "\n",
      "\n"
     ]
    }
   ],
   "source": [
    "# Tamaño de la base de datos\n",
    "print(\"=\"*64)\n",
    "print(\"Tenemos un total de {0} observaciones con {1} variables.\".format(credit.shape[0], credit.shape[1]))\n",
    "print(\"=\"*64)\n",
    "print(\"\\n\")\n",
    "\n",
    "# Valores perdidos\n",
    "print(\"=\"*64)\n",
    "print(\"Valores perdidos\")\n",
    "print(\"=\"*64)\n",
    "print(credit.isnull().sum())\n",
    "print(\"\\n\")\n",
    "\n",
    "# Valores únicos\n",
    "print(\"=\"*64)\n",
    "print(\"Valores únicos\")\n",
    "print(\"=\"*64)\n",
    "print(credit.nunique())\n",
    "print(\"\\n\")"
   ]
  },
  {
   "cell_type": "markdown",
   "id": "e6266a4a-1032-4afe-a4e4-4e2708b6b601",
   "metadata": {},
   "source": [
    "## 3.2. Exploración de los datos"
   ]
  },
  {
   "cell_type": "markdown",
   "id": "da47da6e-7fc1-4225-b17a-71136c4554d5",
   "metadata": {},
   "source": [
    "Revisemos un poco cómo se comportan las variables:"
   ]
  },
  {
   "cell_type": "code",
   "execution_count": 2,
   "id": "9fdde921-c8b3-47d3-aa64-c1379ce7f203",
   "metadata": {},
   "outputs": [
    {
     "data": {
      "text/plain": [
       "Index(['checking_balance', 'months_loan_duration', 'credit_history', 'purpose',\n",
       "       'amount', 'savings_balance', 'employment_length', 'installment_rate',\n",
       "       'personal_status', 'other_debtors', 'residence_history', 'property',\n",
       "       'age', 'installment_plan', 'housing', 'existing_credits', 'job',\n",
       "       'dependents', 'telephone', 'foreign_worker', 'default'],\n",
       "      dtype='object')"
      ]
     },
     "execution_count": 2,
     "metadata": {},
     "output_type": "execute_result"
    }
   ],
   "source": [
    "credit.columns"
   ]
  },
  {
   "cell_type": "code",
   "execution_count": 6,
   "id": "47a3dd64-804b-4847-aae4-bebe3e86617c",
   "metadata": {},
   "outputs": [
    {
     "data": {
      "text/html": [
       "<div>\n",
       "<style scoped>\n",
       "    .dataframe tbody tr th:only-of-type {\n",
       "        vertical-align: middle;\n",
       "    }\n",
       "\n",
       "    .dataframe tbody tr th {\n",
       "        vertical-align: top;\n",
       "    }\n",
       "\n",
       "    .dataframe thead th {\n",
       "        text-align: right;\n",
       "    }\n",
       "</style>\n",
       "<table border=\"1\" class=\"dataframe\">\n",
       "  <thead>\n",
       "    <tr style=\"text-align: right;\">\n",
       "      <th></th>\n",
       "      <th>purpose</th>\n",
       "    </tr>\n",
       "    <tr>\n",
       "      <th>checking_balance</th>\n",
       "      <th></th>\n",
       "    </tr>\n",
       "  </thead>\n",
       "  <tbody>\n",
       "    <tr>\n",
       "      <th>1 - 200 DM</th>\n",
       "      <td>269</td>\n",
       "    </tr>\n",
       "    <tr>\n",
       "      <th>&lt; 0 DM</th>\n",
       "      <td>274</td>\n",
       "    </tr>\n",
       "    <tr>\n",
       "      <th>&gt; 200 DM</th>\n",
       "      <td>63</td>\n",
       "    </tr>\n",
       "    <tr>\n",
       "      <th>unknown</th>\n",
       "      <td>394</td>\n",
       "    </tr>\n",
       "  </tbody>\n",
       "</table>\n",
       "</div>"
      ],
      "text/plain": [
       "                  purpose\n",
       "checking_balance         \n",
       "1 - 200 DM            269\n",
       "< 0 DM                274\n",
       "> 200 DM               63\n",
       "unknown               394"
      ]
     },
     "execution_count": 6,
     "metadata": {},
     "output_type": "execute_result"
    }
   ],
   "source": [
    "var = \"checking_balance\"\n",
    "credit[[var, \"purpose\"]].groupby(var).count()"
   ]
  },
  {
   "cell_type": "markdown",
   "id": "a398806b-faf0-47d2-a4bd-4f30debce36f",
   "metadata": {},
   "source": [
    "## 3.3. Preparación de los datos"
   ]
  },
  {
   "cell_type": "markdown",
   "id": "c2e772c3-104a-4eb4-a714-531f5c513826",
   "metadata": {},
   "source": [
    "Separemos los datos entre base de datos de entrenamiento y testeo:"
   ]
  },
  {
   "cell_type": "code",
   "execution_count": 20,
   "id": "deefd790-cef8-4409-aeab-26ea47c14029",
   "metadata": {},
   "outputs": [
    {
     "name": "stdout",
     "output_type": "stream",
     "text": [
      "Size of train dataset:  640\n",
      "Size of validation dataset:  160\n",
      "Size of test dataset:  200\n"
     ]
    }
   ],
   "source": [
    "import pandas as pd\n",
    "\n",
    "from sklearn.model_selection import train_test_split\n",
    "\n",
    "# Splitting X and y\n",
    "X = credit.drop(['default'], axis = 1)\n",
    "y = credit['default']\n",
    "\n",
    "# Splitting in train, validation and test datasets\n",
    "X_train, X_test, y_train, y_test = train_test_split(X, y, test_size = 0.2, random_state = 42)\n",
    "X_train, X_val, y_train, y_val = train_test_split(X_train, y_train, test_size = 0.2, random_state = 42)\n",
    "\n",
    "print(\"Size of train dataset: \", X_train.shape[0])\n",
    "print(\"Size of validation dataset: \", X_val.shape[0])\n",
    "print(\"Size of test dataset: \", X_test.shape[0])"
   ]
  },
  {
   "cell_type": "markdown",
   "id": "8fb9e5ef-41c0-433b-a08b-a9731c1f9f8e",
   "metadata": {},
   "source": [
    "## 3.4. Entrenamiento del modelo"
   ]
  },
  {
   "cell_type": "markdown",
   "id": "291bd423-c5f4-4204-9241-bfb60ae78395",
   "metadata": {},
   "source": [
    "Ahora estamos listos para entrenar nuestro modelo. Sin embargo, si quisiéramos hacerlo, vamos a tener un problema: el algoritmo en Python no acepta variables categóricas. Por ello, debemos realizar un proceso de **one-hot encoding**: crear una variable para cada categoría:"
   ]
  },
  {
   "cell_type": "code",
   "execution_count": 27,
   "id": "9ad80498-ceb3-4db0-904a-dba6778633f1",
   "metadata": {},
   "outputs": [
    {
     "data": {
      "text/html": [
       "<style>#sk-container-id-1 {color: black;background-color: white;}#sk-container-id-1 pre{padding: 0;}#sk-container-id-1 div.sk-toggleable {background-color: white;}#sk-container-id-1 label.sk-toggleable__label {cursor: pointer;display: block;width: 100%;margin-bottom: 0;padding: 0.3em;box-sizing: border-box;text-align: center;}#sk-container-id-1 label.sk-toggleable__label-arrow:before {content: \"▸\";float: left;margin-right: 0.25em;color: #696969;}#sk-container-id-1 label.sk-toggleable__label-arrow:hover:before {color: black;}#sk-container-id-1 div.sk-estimator:hover label.sk-toggleable__label-arrow:before {color: black;}#sk-container-id-1 div.sk-toggleable__content {max-height: 0;max-width: 0;overflow: hidden;text-align: left;background-color: #f0f8ff;}#sk-container-id-1 div.sk-toggleable__content pre {margin: 0.2em;color: black;border-radius: 0.25em;background-color: #f0f8ff;}#sk-container-id-1 input.sk-toggleable__control:checked~div.sk-toggleable__content {max-height: 200px;max-width: 100%;overflow: auto;}#sk-container-id-1 input.sk-toggleable__control:checked~label.sk-toggleable__label-arrow:before {content: \"▾\";}#sk-container-id-1 div.sk-estimator input.sk-toggleable__control:checked~label.sk-toggleable__label {background-color: #d4ebff;}#sk-container-id-1 div.sk-label input.sk-toggleable__control:checked~label.sk-toggleable__label {background-color: #d4ebff;}#sk-container-id-1 input.sk-hidden--visually {border: 0;clip: rect(1px 1px 1px 1px);clip: rect(1px, 1px, 1px, 1px);height: 1px;margin: -1px;overflow: hidden;padding: 0;position: absolute;width: 1px;}#sk-container-id-1 div.sk-estimator {font-family: monospace;background-color: #f0f8ff;border: 1px dotted black;border-radius: 0.25em;box-sizing: border-box;margin-bottom: 0.5em;}#sk-container-id-1 div.sk-estimator:hover {background-color: #d4ebff;}#sk-container-id-1 div.sk-parallel-item::after {content: \"\";width: 100%;border-bottom: 1px solid gray;flex-grow: 1;}#sk-container-id-1 div.sk-label:hover label.sk-toggleable__label {background-color: #d4ebff;}#sk-container-id-1 div.sk-serial::before {content: \"\";position: absolute;border-left: 1px solid gray;box-sizing: border-box;top: 0;bottom: 0;left: 50%;z-index: 0;}#sk-container-id-1 div.sk-serial {display: flex;flex-direction: column;align-items: center;background-color: white;padding-right: 0.2em;padding-left: 0.2em;position: relative;}#sk-container-id-1 div.sk-item {position: relative;z-index: 1;}#sk-container-id-1 div.sk-parallel {display: flex;align-items: stretch;justify-content: center;background-color: white;position: relative;}#sk-container-id-1 div.sk-item::before, #sk-container-id-1 div.sk-parallel-item::before {content: \"\";position: absolute;border-left: 1px solid gray;box-sizing: border-box;top: 0;bottom: 0;left: 50%;z-index: -1;}#sk-container-id-1 div.sk-parallel-item {display: flex;flex-direction: column;z-index: 1;position: relative;background-color: white;}#sk-container-id-1 div.sk-parallel-item:first-child::after {align-self: flex-end;width: 50%;}#sk-container-id-1 div.sk-parallel-item:last-child::after {align-self: flex-start;width: 50%;}#sk-container-id-1 div.sk-parallel-item:only-child::after {width: 0;}#sk-container-id-1 div.sk-dashed-wrapped {border: 1px dashed gray;margin: 0 0.4em 0.5em 0.4em;box-sizing: border-box;padding-bottom: 0.4em;background-color: white;}#sk-container-id-1 div.sk-label label {font-family: monospace;font-weight: bold;display: inline-block;line-height: 1.2em;}#sk-container-id-1 div.sk-label-container {text-align: center;}#sk-container-id-1 div.sk-container {/* jupyter's `normalize.less` sets `[hidden] { display: none; }` but bootstrap.min.css set `[hidden] { display: none !important; }` so we also need the `!important` here to be able to override the default hidden behavior on the sphinx rendered scikit-learn.org. See: https://github.com/scikit-learn/scikit-learn/issues/21755 */display: inline-block !important;position: relative;}#sk-container-id-1 div.sk-text-repr-fallback {display: none;}</style><div id=\"sk-container-id-1\" class=\"sk-top-container\"><div class=\"sk-text-repr-fallback\"><pre>DecisionTreeClassifier()</pre><b>In a Jupyter environment, please rerun this cell to show the HTML representation or trust the notebook. <br />On GitHub, the HTML representation is unable to render, please try loading this page with nbviewer.org.</b></div><div class=\"sk-container\" hidden><div class=\"sk-item\"><div class=\"sk-estimator sk-toggleable\"><input class=\"sk-toggleable__control sk-hidden--visually\" id=\"sk-estimator-id-1\" type=\"checkbox\" checked><label for=\"sk-estimator-id-1\" class=\"sk-toggleable__label sk-toggleable__label-arrow\">DecisionTreeClassifier</label><div class=\"sk-toggleable__content\"><pre>DecisionTreeClassifier()</pre></div></div></div></div></div>"
      ],
      "text/plain": [
       "DecisionTreeClassifier()"
      ]
     },
     "execution_count": 27,
     "metadata": {},
     "output_type": "execute_result"
    }
   ],
   "source": [
    "import pandas as pd\n",
    "\n",
    "from sklearn.tree import DecisionTreeClassifier\n",
    "\n",
    "# Definimos el modelo\n",
    "clf = DecisionTreeClassifier()\n",
    "\n",
    "# Creamos las dummies\n",
    "vars_to_dummies = ['checking_balance', 'credit_history', 'purpose', 'savings_balance', 'employment_length', 'personal_status',\\\n",
    "                   'other_debtors', 'property', 'installment_plan', 'housing', 'job', 'telephone', 'foreign_worker']\n",
    "X_train = pd.get_dummies(X_train[vars_to_dummies],drop_first=True)\n",
    "\n",
    "# Entrenamos el modelo\n",
    "clf.fit(X_train, y_train)"
   ]
  },
  {
   "cell_type": "markdown",
   "id": "df59f022-f2e3-4984-a664-b280b69756ab",
   "metadata": {},
   "source": [
    "Podemos hacer una representación gráfica:"
   ]
  },
  {
   "cell_type": "code",
   "execution_count": 36,
   "id": "8e8a52d5-c420-4818-a6b6-3de3bca82f99",
   "metadata": {},
   "outputs": [
    {
     "data": {
      "image/png": "[encoded data removed]",
      "text/plain": [
       "<Figure size 1080x504 with 1 Axes>"
      ]
     },
     "metadata": {
      "needs_background": "light"
     },
     "output_type": "display_data"
    }
   ],
   "source": [
    "from sklearn import tree\n",
    "import matplotlib.pyplot as plt\n",
    "\n",
    "plt.figure(figsize = (15, 7))\n",
    "tree.plot_tree(clf)\n",
    "plt.show()"
   ]
  },
  {
   "cell_type": "markdown",
   "id": "24630efa-e51a-456d-a2fc-ca330f964b84",
   "metadata": {},
   "source": [
    "## 3.5. Mejoremos el modelo"
   ]
  },
  {
   "cell_type": "code",
   "execution_count": null,
   "id": "9999bd2c-e510-4590-8451-8866ed9e593e",
   "metadata": {},
   "outputs": [],
   "source": [
    "from sklearn.tree import DecisionTreeClassifier\n",
    "\n",
    "# Definimos el modelo\n",
    "model = DecisionTreeClassifier()\n",
    "\n",
    "# Validación cruzada\n",
    "score = cross_val_score(model, X, y)\n",
    "print(score)\n",
    "\n",
    "kf = KFold(n_splits = 3, shuffle = True, random_state = 42)\n",
    "\n",
    "for train, test in kf.split(dataset): # It makes the split, each fold, gives the indices\n",
    "    print(train)\n",
    "    print(test)\n",
    "    print(\"=\"*64)"
   ]
  }
 ],
 "metadata": {
  "kernelspec": {
   "display_name": "Python 3 (ipykernel)",
   "language": "python",
   "name": "python3"
  },
  "language_info": {
   "codemirror_mode": {
    "name": "ipython",
    "version": 3
   },
   "file_extension": ".py",
   "mimetype": "text/x-python",
   "name": "python",
   "nbconvert_exporter": "python",
   "pygments_lexer": "ipython3",
   "version": "3.10.5"
  }
 },
 "nbformat": 4,
 "nbformat_minor": 5
}
