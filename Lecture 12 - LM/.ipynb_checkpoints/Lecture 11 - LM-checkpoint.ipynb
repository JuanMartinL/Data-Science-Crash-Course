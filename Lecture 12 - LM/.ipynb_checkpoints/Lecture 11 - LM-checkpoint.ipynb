{
 "cells": [
  {
   "cell_type": "markdown",
   "id": "e9050f16-e079-41ea-b2b1-fc413de1169e",
   "metadata": {},
   "source": [
    "# Lecture 11: Regresión Lineal"
   ]
  },
  {
   "cell_type": "markdown",
   "id": "a007de40-5ff1-4679-bbf6-71f4b8503883",
   "metadata": {},
   "source": [
    "# 1. Introducción"
   ]
  },
  {
   "cell_type": "markdown",
   "id": "258ada21-37ed-4cf6-b70a-0d1c5be36aed",
   "metadata": {},
   "source": [
    "Una **regresión lineal** es un modelo matemático que se utiliza para aproximar la relación **lineal** de dependencia entre una variable dependiente $Y$, unas variables independientes, $X_i$, y un término de error $\\varepsilon$. Es decir, es un modelo que se puede representar de la siguiente manera:\n",
    "\n",
    "$$ Y = \\beta_0 + \\beta_1 x_1 + \\beta_2 x_2 + ... + \\beta_m x_m + \\varepsilon $$\n",
    "\n",
    "En términos generales, podríamos escribirlo de forma sintética a partir de notación matricial, tal que\n",
    "\n",
    "$$ Y = X\\beta + \\varepsilon $$\n",
    "\n",
    "Donde $Y$, $\\beta$ y $\\varepsilon$ son vectores y $X$ es una matriz."
   ]
  },
  {
   "cell_type": "markdown",
   "id": "96f3c3aa-e589-4f7b-bee5-9f38300963d0",
   "metadata": {},
   "source": [
    "## 1.1. Valor esperado condicional: no todo es lo que parece"
   ]
  },
  {
   "cell_type": "markdown",
   "id": "cec889f9-9f47-4cd5-be08-bcd8ad74885f",
   "metadata": {},
   "source": [
    "En términos generales, una regresión es una aproximación a la media condicional. Es decir,\n",
    "\n",
    "$$ Y_i = E(Y|X_i) + \\varepsilon_i $$\n",
    "\n",
    "Eso significa que intentamos observar $Y$ con unas variables de control que observamos. Sin embargo, **por lo general existe un valor $\\varepsilon$ no observable**. Este se llama **error estocástico** o **perturbación**.\n",
    "\n",
    "Sin embargo, el método que comunmente se utiliza, los  **Mínimos Cuadrados Ordinarios (MCO)**, tiene como propiedad ser **insesgado**. Es decir, que encuentra de una manera loable el valor verdadero del estimador.\n",
    "\n",
    "Es decir, ocurre que\n",
    "\n",
    "$$ E(\\hat{\\beta}_1|X_i) \\sim \\beta_1 $$\n",
    "\n",
    "Sin embargo, para que una regresión sea insesgada, se requieren dos condiciones principales:\n",
    "\n",
    "1. **Exogeneidad estricta:** el valor esperado del error estocástico debe ser cero.\n",
    "\n",
    "$$E(\\varepsilon_i) = 0$$\n",
    "\n",
    "2. **Ley de los Grandes Números:** debe haber una muestra lo suficientemente grande. Este es una condición más práctica.\n",
    "\n",
    "Pongamos un ejemplo:"
   ]
  },
  {
   "cell_type": "code",
   "execution_count": 1,
   "id": "212fe919-cfbc-4e64-822f-4a88a072f25c",
   "metadata": {},
   "outputs": [
    {
     "data": {
      "image/png": "[encoded data removed]",
      "text/plain": [
       "<Figure size 432x288 with 1 Axes>"
      ]
     },
     "metadata": {
      "needs_background": "light"
     },
     "output_type": "display_data"
    }
   ],
   "source": [
    "import numpy as np\n",
    "import pandas as pd\n",
    "from matplotlib import pyplot as plt\n",
    "\n",
    "x = np.random.normal(loc = 50, scale = 10, size = 10)\n",
    "e = np.random.normal(loc = 0, scale = 15, size = 10)\n",
    "\n",
    "plt.hist(x, 30, density = True)\n",
    "plt.show()"
   ]
  },
  {
   "cell_type": "code",
   "execution_count": 2,
   "id": "838d9875-9ee8-488b-a969-a872e8d1fae6",
   "metadata": {},
   "outputs": [
    {
     "data": {
      "image/png": "[encoded data removed]",
      "text/plain": [
       "<Figure size 432x288 with 1 Axes>"
      ]
     },
     "metadata": {
      "needs_background": "light"
     },
     "output_type": "display_data"
    }
   ],
   "source": [
    "data = pd.DataFrame(x, e).reset_index()\n",
    "data.rename(columns = {\"index\": \"e\", 0: \"x\"}, inplace = True)\n",
    "\n",
    "data[\"y\"] = 50 + 2*x + e\n",
    "\n",
    "plt.scatter(data.x, data.y)\n",
    "plt.show()"
   ]
  },
  {
   "cell_type": "code",
   "execution_count": 3,
   "id": "d8259892-0b8c-4af4-b13f-a3c76b62d2c8",
   "metadata": {},
   "outputs": [
    {
     "data": {
      "image/png": "[encoded data removed]",
      "text/plain": [
       "<Figure size 360x360 with 1 Axes>"
      ]
     },
     "metadata": {
      "needs_background": "light"
     },
     "output_type": "display_data"
    }
   ],
   "source": [
    "import seaborn as sns\n",
    "\n",
    "sns.lmplot(x = 'x', y = 'y', data = data)\n",
    "plt.title(\"x vs. y\", fontsize=20, verticalalignment='bottom')\n",
    "plt.xlabel(\"x\")\n",
    "plt.ylabel(\"y\")\n",
    "plt.show()"
   ]
  },
  {
   "cell_type": "code",
   "execution_count": 4,
   "id": "eefca2c4-3dfb-4dd1-b451-06b526ac3d69",
   "metadata": {},
   "outputs": [
    {
     "name": "stdout",
     "output_type": "stream",
     "text": [
      "                            OLS Regression Results                            \n",
      "==============================================================================\n",
      "Dep. Variable:                      y   R-squared:                       0.538\n",
      "Model:                            OLS   Adj. R-squared:                  0.480\n",
      "Method:                 Least Squares   F-statistic:                     9.306\n",
      "Date:                Thu, 26 May 2022   Prob (F-statistic):             0.0158\n",
      "Time:                        17:12:04   Log-Likelihood:                -44.223\n",
      "No. Observations:                  10   AIC:                             92.45\n",
      "Df Residuals:                       8   BIC:                             93.05\n",
      "Df Model:                           1                                         \n",
      "Covariance Type:            nonrobust                                         \n",
      "==============================================================================\n",
      "                 coef    std err          t      P>|t|      [0.025      0.975]\n",
      "------------------------------------------------------------------------------\n",
      "Intercept     27.8077     40.494      0.687      0.512     -65.572     121.187\n",
      "x              2.4255      0.795      3.051      0.016       0.592       4.259\n",
      "==============================================================================\n",
      "Omnibus:                        1.441   Durbin-Watson:                   2.868\n",
      "Prob(Omnibus):                  0.487   Jarque-Bera (JB):                0.463\n",
      "Skew:                          -0.525   Prob(JB):                        0.793\n",
      "Kurtosis:                       2.900   Cond. No.                         290.\n",
      "==============================================================================\n",
      "\n",
      "Notes:\n",
      "[1] Standard Errors assume that the covariance matrix of the errors is correctly specified.\n"
     ]
    },
    {
     "name": "stderr",
     "output_type": "stream",
     "text": [
      "C:\\Users\\JM\\AppData\\Local\\Programs\\Python\\Python310\\lib\\site-packages\\scipy\\stats\\_stats_py.py:1477: UserWarning: kurtosistest only valid for n>=20 ... continuing anyway, n=10\n",
      "  warnings.warn(\"kurtosistest only valid for n>=20 ... continuing \"\n"
     ]
    }
   ],
   "source": [
    "import statsmodels.formula.api as smf\n",
    "\n",
    "mod1 = smf.ols(formula='y ~ x', data=data).fit()\n",
    "print(mod1.summary())"
   ]
  },
  {
   "cell_type": "markdown",
   "id": "1436f67e-4dba-4867-babe-b1f23c92699c",
   "metadata": {},
   "source": [
    "Ahora miremos con menos observaciones:"
   ]
  },
  {
   "cell_type": "code",
   "execution_count": 5,
   "id": "a0c08b0b-c52b-4c91-ac8b-315fd12261f7",
   "metadata": {},
   "outputs": [
    {
     "name": "stdout",
     "output_type": "stream",
     "text": [
      "                            OLS Regression Results                            \n",
      "==============================================================================\n",
      "Dep. Variable:                      y   R-squared:                       0.610\n",
      "Model:                            OLS   Adj. R-squared:                  0.610\n",
      "Method:                 Least Squares   F-statistic:                     780.3\n",
      "Date:                Thu, 26 May 2022   Prob (F-statistic):          5.27e-104\n",
      "Time:                        17:13:36   Log-Likelihood:                -2102.8\n",
      "No. Observations:                 500   AIC:                             4210.\n",
      "Df Residuals:                     498   BIC:                             4218.\n",
      "Df Model:                           1                                         \n",
      "Covariance Type:            nonrobust                                         \n",
      "==============================================================================\n",
      "                 coef    std err          t      P>|t|      [0.025      0.975]\n",
      "------------------------------------------------------------------------------\n",
      "Intercept     50.2608      3.640     13.809      0.000      43.110      57.412\n",
      "x              1.9946      0.071     27.933      0.000       1.854       2.135\n",
      "==============================================================================\n",
      "Omnibus:                        3.120   Durbin-Watson:                   2.032\n",
      "Prob(Omnibus):                  0.210   Jarque-Bera (JB):                3.032\n",
      "Skew:                           0.144   Prob(JB):                        0.220\n",
      "Kurtosis:                       2.751   Cond. No.                         255.\n",
      "==============================================================================\n",
      "\n",
      "Notes:\n",
      "[1] Standard Errors assume that the covariance matrix of the errors is correctly specified.\n"
     ]
    }
   ],
   "source": [
    "n = 500\n",
    "\n",
    "x = np.random.normal(loc = 50, scale = 10, size = n)\n",
    "e = np.random.normal(loc = 0, scale = 15, size = n)\n",
    "\n",
    "data = pd.DataFrame(x, e).reset_index()\n",
    "data.rename(columns = {\"index\": \"e\", 0: \"x\"}, inplace = True)\n",
    "\n",
    "data[\"y\"] = 50 + 2*x + e\n",
    "\n",
    "mod1 = smf.ols(formula='y ~ x', data=data).fit()\n",
    "print(mod1.summary())"
   ]
  },
  {
   "cell_type": "markdown",
   "id": "36f179a6-4a23-4257-8988-4d0d01bf8eb2",
   "metadata": {},
   "source": [
    "# 2. Predicción de precios de hogares en Seattle"
   ]
  },
  {
   "cell_type": "markdown",
   "id": "c02202ca-4fb4-4e09-817d-d396af24ec9a",
   "metadata": {},
   "source": [
    "En este caso, vamos a ser asesores de una inmobiliaria. Quienes le contratan quieren tener un modelo para la predicción de los precios de los hogares. Para esto, le contratan y le entregan la siguiente base de datos:"
   ]
  },
  {
   "cell_type": "code",
   "execution_count": 6,
   "id": "c0df64e8-7e2e-4ef7-be03-e876a90aa700",
   "metadata": {},
   "outputs": [
    {
     "data": {
      "text/html": [
       "<div>\n",
       "<style scoped>\n",
       "    .dataframe tbody tr th:only-of-type {\n",
       "        vertical-align: middle;\n",
       "    }\n",
       "\n",
       "    .dataframe tbody tr th {\n",
       "        vertical-align: top;\n",
       "    }\n",
       "\n",
       "    .dataframe thead th {\n",
       "        text-align: right;\n",
       "    }\n",
       "</style>\n",
       "<table border=\"1\" class=\"dataframe\">\n",
       "  <thead>\n",
       "    <tr style=\"text-align: right;\">\n",
       "      <th></th>\n",
       "      <th>id</th>\n",
       "      <th>date</th>\n",
       "      <th>price</th>\n",
       "      <th>bedrooms</th>\n",
       "      <th>bathrooms</th>\n",
       "      <th>sqft_living</th>\n",
       "      <th>sqft_lot</th>\n",
       "      <th>floors</th>\n",
       "      <th>waterfront</th>\n",
       "      <th>view</th>\n",
       "      <th>...</th>\n",
       "      <th>grade</th>\n",
       "      <th>sqft_above</th>\n",
       "      <th>sqft_basement</th>\n",
       "      <th>yr_built</th>\n",
       "      <th>yr_renovated</th>\n",
       "      <th>zipcode</th>\n",
       "      <th>lat</th>\n",
       "      <th>long</th>\n",
       "      <th>sqft_living15</th>\n",
       "      <th>sqft_lot15</th>\n",
       "    </tr>\n",
       "  </thead>\n",
       "  <tbody>\n",
       "    <tr>\n",
       "      <th>0</th>\n",
       "      <td>7129300520</td>\n",
       "      <td>20141013T000000</td>\n",
       "      <td>221900.0</td>\n",
       "      <td>3</td>\n",
       "      <td>1.00</td>\n",
       "      <td>1180</td>\n",
       "      <td>5650</td>\n",
       "      <td>1.0</td>\n",
       "      <td>0</td>\n",
       "      <td>0</td>\n",
       "      <td>...</td>\n",
       "      <td>7</td>\n",
       "      <td>1180</td>\n",
       "      <td>0</td>\n",
       "      <td>1955</td>\n",
       "      <td>0</td>\n",
       "      <td>98178</td>\n",
       "      <td>47.5112</td>\n",
       "      <td>-122.257</td>\n",
       "      <td>1340</td>\n",
       "      <td>5650</td>\n",
       "    </tr>\n",
       "    <tr>\n",
       "      <th>1</th>\n",
       "      <td>6414100192</td>\n",
       "      <td>20141209T000000</td>\n",
       "      <td>538000.0</td>\n",
       "      <td>3</td>\n",
       "      <td>2.25</td>\n",
       "      <td>2570</td>\n",
       "      <td>7242</td>\n",
       "      <td>2.0</td>\n",
       "      <td>0</td>\n",
       "      <td>0</td>\n",
       "      <td>...</td>\n",
       "      <td>7</td>\n",
       "      <td>2170</td>\n",
       "      <td>400</td>\n",
       "      <td>1951</td>\n",
       "      <td>1991</td>\n",
       "      <td>98125</td>\n",
       "      <td>47.7210</td>\n",
       "      <td>-122.319</td>\n",
       "      <td>1690</td>\n",
       "      <td>7639</td>\n",
       "    </tr>\n",
       "    <tr>\n",
       "      <th>2</th>\n",
       "      <td>5631500400</td>\n",
       "      <td>20150225T000000</td>\n",
       "      <td>180000.0</td>\n",
       "      <td>2</td>\n",
       "      <td>1.00</td>\n",
       "      <td>770</td>\n",
       "      <td>10000</td>\n",
       "      <td>1.0</td>\n",
       "      <td>0</td>\n",
       "      <td>0</td>\n",
       "      <td>...</td>\n",
       "      <td>6</td>\n",
       "      <td>770</td>\n",
       "      <td>0</td>\n",
       "      <td>1933</td>\n",
       "      <td>0</td>\n",
       "      <td>98028</td>\n",
       "      <td>47.7379</td>\n",
       "      <td>-122.233</td>\n",
       "      <td>2720</td>\n",
       "      <td>8062</td>\n",
       "    </tr>\n",
       "    <tr>\n",
       "      <th>3</th>\n",
       "      <td>2487200875</td>\n",
       "      <td>20141209T000000</td>\n",
       "      <td>604000.0</td>\n",
       "      <td>4</td>\n",
       "      <td>3.00</td>\n",
       "      <td>1960</td>\n",
       "      <td>5000</td>\n",
       "      <td>1.0</td>\n",
       "      <td>0</td>\n",
       "      <td>0</td>\n",
       "      <td>...</td>\n",
       "      <td>7</td>\n",
       "      <td>1050</td>\n",
       "      <td>910</td>\n",
       "      <td>1965</td>\n",
       "      <td>0</td>\n",
       "      <td>98136</td>\n",
       "      <td>47.5208</td>\n",
       "      <td>-122.393</td>\n",
       "      <td>1360</td>\n",
       "      <td>5000</td>\n",
       "    </tr>\n",
       "    <tr>\n",
       "      <th>4</th>\n",
       "      <td>1954400510</td>\n",
       "      <td>20150218T000000</td>\n",
       "      <td>510000.0</td>\n",
       "      <td>3</td>\n",
       "      <td>2.00</td>\n",
       "      <td>1680</td>\n",
       "      <td>8080</td>\n",
       "      <td>1.0</td>\n",
       "      <td>0</td>\n",
       "      <td>0</td>\n",
       "      <td>...</td>\n",
       "      <td>8</td>\n",
       "      <td>1680</td>\n",
       "      <td>0</td>\n",
       "      <td>1987</td>\n",
       "      <td>0</td>\n",
       "      <td>98074</td>\n",
       "      <td>47.6168</td>\n",
       "      <td>-122.045</td>\n",
       "      <td>1800</td>\n",
       "      <td>7503</td>\n",
       "    </tr>\n",
       "  </tbody>\n",
       "</table>\n",
       "<p>5 rows × 21 columns</p>\n",
       "</div>"
      ],
      "text/plain": [
       "           id             date     price  bedrooms  bathrooms  sqft_living  \\\n",
       "0  7129300520  20141013T000000  221900.0         3       1.00         1180   \n",
       "1  6414100192  20141209T000000  538000.0         3       2.25         2570   \n",
       "2  5631500400  20150225T000000  180000.0         2       1.00          770   \n",
       "3  2487200875  20141209T000000  604000.0         4       3.00         1960   \n",
       "4  1954400510  20150218T000000  510000.0         3       2.00         1680   \n",
       "\n",
       "   sqft_lot  floors  waterfront  view  ...  grade  sqft_above  sqft_basement  \\\n",
       "0      5650     1.0           0     0  ...      7        1180              0   \n",
       "1      7242     2.0           0     0  ...      7        2170            400   \n",
       "2     10000     1.0           0     0  ...      6         770              0   \n",
       "3      5000     1.0           0     0  ...      7        1050            910   \n",
       "4      8080     1.0           0     0  ...      8        1680              0   \n",
       "\n",
       "   yr_built  yr_renovated  zipcode      lat     long  sqft_living15  \\\n",
       "0      1955             0    98178  47.5112 -122.257           1340   \n",
       "1      1951          1991    98125  47.7210 -122.319           1690   \n",
       "2      1933             0    98028  47.7379 -122.233           2720   \n",
       "3      1965             0    98136  47.5208 -122.393           1360   \n",
       "4      1987             0    98074  47.6168 -122.045           1800   \n",
       "\n",
       "   sqft_lot15  \n",
       "0        5650  \n",
       "1        7639  \n",
       "2        8062  \n",
       "3        5000  \n",
       "4        7503  \n",
       "\n",
       "[5 rows x 21 columns]"
      ]
     },
     "execution_count": 6,
     "metadata": {},
     "output_type": "execute_result"
    }
   ],
   "source": [
    "houses = pd.read_csv('kc_house_data.csv')\n",
    "houses.head()"
   ]
  },
  {
   "cell_type": "markdown",
   "id": "f70e90c8-4954-413d-88e0-9b66e38de16c",
   "metadata": {},
   "source": [
    "Tenemos la siguiente información:\n",
    "\n",
    "1. **ID:** identificador de cada casa.\n",
    "2. **date:** fecha en el que la casa fue vendida.\n",
    "3. **price:** precio al que fue vendida.\n",
    "4. **bedrooms:** número de cuartos.\n",
    "5. **bathrooms:** número de baños.\n",
    "6. **sqft_living:** pies cuadrados del hogar (medida EE.UU.).\n",
    "7. **sqft_lot:** pies cuadrados del lote.\n",
    "8. **floors:** número de pisos de la casa.\n",
    "9. **waterfront:** variable dicotómica que dice si la casa tiene vista a un cuerpo de agua o no.\n",
    "10. **view:** un índice de 0 a 4 de qué tan bonita la vista de la propiedad es.\n",
    "11. **condition:** qué tan buena está la condición de la casa.\n",
    "12. **grade:** una calificación de la vivienda, basado en el sistema de puntuación King County.\n",
    "13. **sqft_above:** pies cuadrados de altura de la casa.\n",
    "14. **sqft_basement:** pies cuadrados de la base de la casa.\n",
    "15. **yr_built:** año en el que la casa fue construida.\n",
    "16. **yr_renovated:** año en el que la casa fue remodelada.\n",
    "17. **zipcode:** el zipcode de la casa.\n",
    "18. **lat:** latitud de la ubicación de la casa.\n",
    "19. **long:** longitud de la ubicación de la casa."
   ]
  },
  {
   "cell_type": "markdown",
   "id": "67351e78-723e-495e-bc40-ccda569d26c3",
   "metadata": {},
   "source": [
    "### Pequeño ejercicio\n",
    "\n",
    "Mediante la función `.describe` realice un análisis de las variables de la base de datos. También realice un análisis por medio de un histograma de los precios (gráfica de densidad). ¿Cómo es la distribución de los precios?"
   ]
  },
  {
   "cell_type": "code",
   "execution_count": 7,
   "id": "c66ea00c-bbab-4c98-8b36-d8535198baa6",
   "metadata": {},
   "outputs": [
    {
     "data": {
      "text/html": [
       "<div>\n",
       "<style scoped>\n",
       "    .dataframe tbody tr th:only-of-type {\n",
       "        vertical-align: middle;\n",
       "    }\n",
       "\n",
       "    .dataframe tbody tr th {\n",
       "        vertical-align: top;\n",
       "    }\n",
       "\n",
       "    .dataframe thead th {\n",
       "        text-align: right;\n",
       "    }\n",
       "</style>\n",
       "<table border=\"1\" class=\"dataframe\">\n",
       "  <thead>\n",
       "    <tr style=\"text-align: right;\">\n",
       "      <th></th>\n",
       "      <th>id</th>\n",
       "      <th>price</th>\n",
       "      <th>bedrooms</th>\n",
       "      <th>bathrooms</th>\n",
       "      <th>sqft_living</th>\n",
       "      <th>sqft_lot</th>\n",
       "      <th>floors</th>\n",
       "      <th>waterfront</th>\n",
       "      <th>view</th>\n",
       "      <th>condition</th>\n",
       "      <th>grade</th>\n",
       "      <th>sqft_above</th>\n",
       "      <th>sqft_basement</th>\n",
       "      <th>yr_built</th>\n",
       "      <th>yr_renovated</th>\n",
       "      <th>zipcode</th>\n",
       "      <th>lat</th>\n",
       "      <th>long</th>\n",
       "      <th>sqft_living15</th>\n",
       "      <th>sqft_lot15</th>\n",
       "    </tr>\n",
       "  </thead>\n",
       "  <tbody>\n",
       "    <tr>\n",
       "      <th>count</th>\n",
       "      <td>2.161300e+04</td>\n",
       "      <td>2.161300e+04</td>\n",
       "      <td>21613.000000</td>\n",
       "      <td>21613.000000</td>\n",
       "      <td>21613.000000</td>\n",
       "      <td>2.161300e+04</td>\n",
       "      <td>21613.000000</td>\n",
       "      <td>21613.000000</td>\n",
       "      <td>21613.000000</td>\n",
       "      <td>21613.000000</td>\n",
       "      <td>21613.000000</td>\n",
       "      <td>21613.000000</td>\n",
       "      <td>21613.000000</td>\n",
       "      <td>21613.000000</td>\n",
       "      <td>21613.000000</td>\n",
       "      <td>21613.000000</td>\n",
       "      <td>21613.000000</td>\n",
       "      <td>21613.000000</td>\n",
       "      <td>21613.000000</td>\n",
       "      <td>21613.000000</td>\n",
       "    </tr>\n",
       "    <tr>\n",
       "      <th>mean</th>\n",
       "      <td>4.580302e+09</td>\n",
       "      <td>5.400881e+05</td>\n",
       "      <td>3.370842</td>\n",
       "      <td>2.114757</td>\n",
       "      <td>2079.899736</td>\n",
       "      <td>1.510697e+04</td>\n",
       "      <td>1.494309</td>\n",
       "      <td>0.007542</td>\n",
       "      <td>0.234303</td>\n",
       "      <td>3.409430</td>\n",
       "      <td>7.656873</td>\n",
       "      <td>1788.390691</td>\n",
       "      <td>291.509045</td>\n",
       "      <td>1971.005136</td>\n",
       "      <td>84.402258</td>\n",
       "      <td>98077.939805</td>\n",
       "      <td>47.560053</td>\n",
       "      <td>-122.213896</td>\n",
       "      <td>1986.552492</td>\n",
       "      <td>12768.455652</td>\n",
       "    </tr>\n",
       "    <tr>\n",
       "      <th>std</th>\n",
       "      <td>2.876566e+09</td>\n",
       "      <td>3.671272e+05</td>\n",
       "      <td>0.930062</td>\n",
       "      <td>0.770163</td>\n",
       "      <td>918.440897</td>\n",
       "      <td>4.142051e+04</td>\n",
       "      <td>0.539989</td>\n",
       "      <td>0.086517</td>\n",
       "      <td>0.766318</td>\n",
       "      <td>0.650743</td>\n",
       "      <td>1.175459</td>\n",
       "      <td>828.090978</td>\n",
       "      <td>442.575043</td>\n",
       "      <td>29.373411</td>\n",
       "      <td>401.679240</td>\n",
       "      <td>53.505026</td>\n",
       "      <td>0.138564</td>\n",
       "      <td>0.140828</td>\n",
       "      <td>685.391304</td>\n",
       "      <td>27304.179631</td>\n",
       "    </tr>\n",
       "    <tr>\n",
       "      <th>min</th>\n",
       "      <td>1.000102e+06</td>\n",
       "      <td>7.500000e+04</td>\n",
       "      <td>0.000000</td>\n",
       "      <td>0.000000</td>\n",
       "      <td>290.000000</td>\n",
       "      <td>5.200000e+02</td>\n",
       "      <td>1.000000</td>\n",
       "      <td>0.000000</td>\n",
       "      <td>0.000000</td>\n",
       "      <td>1.000000</td>\n",
       "      <td>1.000000</td>\n",
       "      <td>290.000000</td>\n",
       "      <td>0.000000</td>\n",
       "      <td>1900.000000</td>\n",
       "      <td>0.000000</td>\n",
       "      <td>98001.000000</td>\n",
       "      <td>47.155900</td>\n",
       "      <td>-122.519000</td>\n",
       "      <td>399.000000</td>\n",
       "      <td>651.000000</td>\n",
       "    </tr>\n",
       "    <tr>\n",
       "      <th>25%</th>\n",
       "      <td>2.123049e+09</td>\n",
       "      <td>3.219500e+05</td>\n",
       "      <td>3.000000</td>\n",
       "      <td>1.750000</td>\n",
       "      <td>1427.000000</td>\n",
       "      <td>5.040000e+03</td>\n",
       "      <td>1.000000</td>\n",
       "      <td>0.000000</td>\n",
       "      <td>0.000000</td>\n",
       "      <td>3.000000</td>\n",
       "      <td>7.000000</td>\n",
       "      <td>1190.000000</td>\n",
       "      <td>0.000000</td>\n",
       "      <td>1951.000000</td>\n",
       "      <td>0.000000</td>\n",
       "      <td>98033.000000</td>\n",
       "      <td>47.471000</td>\n",
       "      <td>-122.328000</td>\n",
       "      <td>1490.000000</td>\n",
       "      <td>5100.000000</td>\n",
       "    </tr>\n",
       "    <tr>\n",
       "      <th>50%</th>\n",
       "      <td>3.904930e+09</td>\n",
       "      <td>4.500000e+05</td>\n",
       "      <td>3.000000</td>\n",
       "      <td>2.250000</td>\n",
       "      <td>1910.000000</td>\n",
       "      <td>7.618000e+03</td>\n",
       "      <td>1.500000</td>\n",
       "      <td>0.000000</td>\n",
       "      <td>0.000000</td>\n",
       "      <td>3.000000</td>\n",
       "      <td>7.000000</td>\n",
       "      <td>1560.000000</td>\n",
       "      <td>0.000000</td>\n",
       "      <td>1975.000000</td>\n",
       "      <td>0.000000</td>\n",
       "      <td>98065.000000</td>\n",
       "      <td>47.571800</td>\n",
       "      <td>-122.230000</td>\n",
       "      <td>1840.000000</td>\n",
       "      <td>7620.000000</td>\n",
       "    </tr>\n",
       "    <tr>\n",
       "      <th>75%</th>\n",
       "      <td>7.308900e+09</td>\n",
       "      <td>6.450000e+05</td>\n",
       "      <td>4.000000</td>\n",
       "      <td>2.500000</td>\n",
       "      <td>2550.000000</td>\n",
       "      <td>1.068800e+04</td>\n",
       "      <td>2.000000</td>\n",
       "      <td>0.000000</td>\n",
       "      <td>0.000000</td>\n",
       "      <td>4.000000</td>\n",
       "      <td>8.000000</td>\n",
       "      <td>2210.000000</td>\n",
       "      <td>560.000000</td>\n",
       "      <td>1997.000000</td>\n",
       "      <td>0.000000</td>\n",
       "      <td>98118.000000</td>\n",
       "      <td>47.678000</td>\n",
       "      <td>-122.125000</td>\n",
       "      <td>2360.000000</td>\n",
       "      <td>10083.000000</td>\n",
       "    </tr>\n",
       "    <tr>\n",
       "      <th>max</th>\n",
       "      <td>9.900000e+09</td>\n",
       "      <td>7.700000e+06</td>\n",
       "      <td>33.000000</td>\n",
       "      <td>8.000000</td>\n",
       "      <td>13540.000000</td>\n",
       "      <td>1.651359e+06</td>\n",
       "      <td>3.500000</td>\n",
       "      <td>1.000000</td>\n",
       "      <td>4.000000</td>\n",
       "      <td>5.000000</td>\n",
       "      <td>13.000000</td>\n",
       "      <td>9410.000000</td>\n",
       "      <td>4820.000000</td>\n",
       "      <td>2015.000000</td>\n",
       "      <td>2015.000000</td>\n",
       "      <td>98199.000000</td>\n",
       "      <td>47.777600</td>\n",
       "      <td>-121.315000</td>\n",
       "      <td>6210.000000</td>\n",
       "      <td>871200.000000</td>\n",
       "    </tr>\n",
       "  </tbody>\n",
       "</table>\n",
       "</div>"
      ],
      "text/plain": [
       "                 id         price      bedrooms     bathrooms   sqft_living  \\\n",
       "count  2.161300e+04  2.161300e+04  21613.000000  21613.000000  21613.000000   \n",
       "mean   4.580302e+09  5.400881e+05      3.370842      2.114757   2079.899736   \n",
       "std    2.876566e+09  3.671272e+05      0.930062      0.770163    918.440897   \n",
       "min    1.000102e+06  7.500000e+04      0.000000      0.000000    290.000000   \n",
       "25%    2.123049e+09  3.219500e+05      3.000000      1.750000   1427.000000   \n",
       "50%    3.904930e+09  4.500000e+05      3.000000      2.250000   1910.000000   \n",
       "75%    7.308900e+09  6.450000e+05      4.000000      2.500000   2550.000000   \n",
       "max    9.900000e+09  7.700000e+06     33.000000      8.000000  13540.000000   \n",
       "\n",
       "           sqft_lot        floors    waterfront          view     condition  \\\n",
       "count  2.161300e+04  21613.000000  21613.000000  21613.000000  21613.000000   \n",
       "mean   1.510697e+04      1.494309      0.007542      0.234303      3.409430   \n",
       "std    4.142051e+04      0.539989      0.086517      0.766318      0.650743   \n",
       "min    5.200000e+02      1.000000      0.000000      0.000000      1.000000   \n",
       "25%    5.040000e+03      1.000000      0.000000      0.000000      3.000000   \n",
       "50%    7.618000e+03      1.500000      0.000000      0.000000      3.000000   \n",
       "75%    1.068800e+04      2.000000      0.000000      0.000000      4.000000   \n",
       "max    1.651359e+06      3.500000      1.000000      4.000000      5.000000   \n",
       "\n",
       "              grade    sqft_above  sqft_basement      yr_built  yr_renovated  \\\n",
       "count  21613.000000  21613.000000   21613.000000  21613.000000  21613.000000   \n",
       "mean       7.656873   1788.390691     291.509045   1971.005136     84.402258   \n",
       "std        1.175459    828.090978     442.575043     29.373411    401.679240   \n",
       "min        1.000000    290.000000       0.000000   1900.000000      0.000000   \n",
       "25%        7.000000   1190.000000       0.000000   1951.000000      0.000000   \n",
       "50%        7.000000   1560.000000       0.000000   1975.000000      0.000000   \n",
       "75%        8.000000   2210.000000     560.000000   1997.000000      0.000000   \n",
       "max       13.000000   9410.000000    4820.000000   2015.000000   2015.000000   \n",
       "\n",
       "            zipcode           lat          long  sqft_living15     sqft_lot15  \n",
       "count  21613.000000  21613.000000  21613.000000   21613.000000   21613.000000  \n",
       "mean   98077.939805     47.560053   -122.213896    1986.552492   12768.455652  \n",
       "std       53.505026      0.138564      0.140828     685.391304   27304.179631  \n",
       "min    98001.000000     47.155900   -122.519000     399.000000     651.000000  \n",
       "25%    98033.000000     47.471000   -122.328000    1490.000000    5100.000000  \n",
       "50%    98065.000000     47.571800   -122.230000    1840.000000    7620.000000  \n",
       "75%    98118.000000     47.678000   -122.125000    2360.000000   10083.000000  \n",
       "max    98199.000000     47.777600   -121.315000    6210.000000  871200.000000  "
      ]
     },
     "execution_count": 7,
     "metadata": {},
     "output_type": "execute_result"
    }
   ],
   "source": [
    "houses.describe()"
   ]
  },
  {
   "cell_type": "code",
   "execution_count": 9,
   "id": "09d1d5a7-6c3f-4fab-8bef-14fc43b333c1",
   "metadata": {},
   "outputs": [
    {
     "name": "stderr",
     "output_type": "stream",
     "text": [
      "C:\\Users\\JM\\AppData\\Local\\Programs\\Python\\Python310\\lib\\site-packages\\seaborn\\distributions.py:2619: FutureWarning: `distplot` is a deprecated function and will be removed in a future version. Please adapt your code to use either `displot` (a figure-level function with similar flexibility) or `histplot` (an axes-level function for histograms).\n",
      "  warnings.warn(msg, FutureWarning)\n"
     ]
    },
    {
     "data": {
      "text/plain": [
       "Text(0.5, 1.0, 'Histogram of prices')"
      ]
     },
     "execution_count": 9,
     "metadata": {},
     "output_type": "execute_result"
    },
    {
     "data": {
      "image/png": "[encoded data removed]",
      "text/plain": [
       "<Figure size 432x288 with 1 Axes>"
      ]
     },
     "metadata": {
      "needs_background": "light"
     },
     "output_type": "display_data"
    }
   ],
   "source": [
    "from scipy import stats\n",
    "\n",
    "houses['price'].describe()\n",
    "## histogram plot of price\n",
    "#sns.distplot(houses['price'],fit=stats.laplace, kde=False)\n",
    "sns.distplot(houses['price'],fit=stats.norm, kde=False)\n",
    "sns.set(color_codes=True)\n",
    "plt.xticks(rotation=90)\n",
    "plt.title(\"Histogram of prices\")"
   ]
  },
  {
   "cell_type": "markdown",
   "id": "6c39fb31-e61a-4855-be86-22a3c7ad9854",
   "metadata": {},
   "source": [
    "También realice un análisis de la relación entre los precios `price` y los precios por pie cuadrado del espacio de vivienda `sqft_living`. Utilice la función `lmplot()`de la librería `seaborn`.\n",
    "\n",
    "¿Qué observa?"
   ]
  },
  {
   "cell_type": "code",
   "execution_count": 10,
   "id": "b2073435-cc75-431a-af2f-9a9e7beb2a16",
   "metadata": {},
   "outputs": [
    {
     "data": {
      "image/png": "[encoded data removed]",
      "text/plain": [
       "<Figure size 720x360 with 1 Axes>"
      ]
     },
     "metadata": {},
     "output_type": "display_data"
    }
   ],
   "source": [
    "## linear relation between sqft_living and price\n",
    "sns.lmplot(x='sqft_living',y='price',data=houses, \n",
    "           line_kws = {'color': \"red\"} ,aspect= 2)\n",
    "plt.title(\"Price vs. Sqft_living\");"
   ]
  },
  {
   "cell_type": "markdown",
   "id": "bb5390c0-c95d-4139-8dce-2b178d17d1e0",
   "metadata": {},
   "source": [
    "¿Qué otras variables puede ver que son importantes para el precio? Realice un análisis de correlación."
   ]
  },
  {
   "cell_type": "markdown",
   "id": "34ee2a8d-2a5b-47f3-8447-aa10346c7d13",
   "metadata": {},
   "source": [
    "## 2.1. Transformación de las variables"
   ]
  },
  {
   "cell_type": "markdown",
   "id": "2dec0ebf-6e90-4862-874d-387866da1868",
   "metadata": {},
   "source": [
    "Como se pudo observar en el ejercicio anterior y como era de esperarse, la distribución de los precios no es tan cómoda para realizar inferencia. Es decir, dado que no tiene una distribución normal, podría tener problemas en la inferencia de los modelos. Por ello, en ocasiones se **transforman las variables** con el objetivo de evitar este problema y minimizar la varianza de los datos.\n",
    "\n",
    "Las funciones típicas que se utilizan son:\n",
    "\n",
    "* **Potencias:** elevar la variable al cuadrado, al cubo, aplicarle una raíz, entre otros, para problemas que probablemente impliquen una curva en su comportamiento.\n",
    "* **Logaritmos:** aplicar el logaritmo (especialmente el logaritmo natural) para acercar los valores atípicos.\n",
    "* **Funciones trigonométricas:** la aplicación de senos y cosenos para algunos problemas con comportamientos cíclicos. Este caso no se utiliza mucho."
   ]
  },
  {
   "cell_type": "markdown",
   "id": "379b67eb-85ba-45d0-b01d-99e92d7ee129",
   "metadata": {},
   "source": [
    "### Pequeño ejercicio\n",
    "\n",
    "Transforme la variable precios con un logaritmo natural. Utilice la función `np.log` para esto. Realice una gráfica de densidad para observar cómo cambió la distribución."
   ]
  },
  {
   "cell_type": "code",
   "execution_count": 12,
   "id": "eb704273-9b41-48da-9abc-523a1fec90e9",
   "metadata": {},
   "outputs": [
    {
     "name": "stderr",
     "output_type": "stream",
     "text": [
      "C:\\Users\\JM\\AppData\\Local\\Programs\\Python\\Python310\\lib\\site-packages\\seaborn\\distributions.py:2619: FutureWarning: `distplot` is a deprecated function and will be removed in a future version. Please adapt your code to use either `displot` (a figure-level function with similar flexibility) or `histplot` (an axes-level function for histograms).\n",
      "  warnings.warn(msg, FutureWarning)\n"
     ]
    },
    {
     "data": {
      "text/plain": [
       "Text(0.5, 1.0, 'Histogram of prices')"
      ]
     },
     "execution_count": 12,
     "metadata": {},
     "output_type": "execute_result"
    },
    {
     "data": {
      "image/png": "[encoded data removed]",
      "text/plain": [
       "<Figure size 432x288 with 1 Axes>"
      ]
     },
     "metadata": {},
     "output_type": "display_data"
    }
   ],
   "source": [
    "houses[\"log_price\"] = np.log(houses[\"price\"])\n",
    "\n",
    "sns.distplot(houses['log_price'],fit=stats.norm, kde=False)\n",
    "sns.set(color_codes=True)\n",
    "plt.xticks(rotation=90)\n",
    "plt.title(\"Histogram of prices\")"
   ]
  },
  {
   "cell_type": "markdown",
   "id": "ccf73b27-e7ff-4646-941b-5ef2d98d7c5b",
   "metadata": {},
   "source": [
    "Ahora hagampos una prueba formal:"
   ]
  },
  {
   "cell_type": "code",
   "execution_count": 17,
   "id": "e50e45b3-a330-462b-8dec-2e17d801ca11",
   "metadata": {},
   "outputs": [
    {
     "data": {
      "image/png": "[encoded data removed]",
      "text/plain": [
       "<Figure size 432x288 with 1 Axes>"
      ]
     },
     "metadata": {},
     "output_type": "display_data"
    },
    {
     "data": {
      "image/png": "[encoded data removed]",
      "text/plain": [
       "<Figure size 432x288 with 1 Axes>"
      ]
     },
     "metadata": {},
     "output_type": "display_data"
    }
   ],
   "source": [
    "# Gráfica QQ Plot del precio\n",
    "plt.subplot(2,1,1)\n",
    "stats.probplot(houses['price'], dist = \"norm\", plot = plt)\n",
    "plt.title(\"QQ Plot for Prices\")\n",
    "plt.show()\n",
    "\n",
    "# Gráfica QQ Plot del logaritmo del precio\n",
    "plt.subplot(2,1,1)\n",
    "stats.probplot(np.log(houses['price']), dist = \"norm\", plot = plt)\n",
    "plt.title(\"QQ Plot for Log Prices\")\n",
    "plt.show()"
   ]
  },
  {
   "cell_type": "markdown",
   "id": "38d2b6cb-7da2-4ade-a6ba-dbe4066ca54c",
   "metadata": {},
   "source": [
    "## 3. Construcción de un modelo lineal"
   ]
  },
  {
   "cell_type": "markdown",
   "id": "c583887d-3ab4-4c66-a6ba-22f043076b97",
   "metadata": {},
   "source": [
    "## 3.1. Regresión univariada"
   ]
  },
  {
   "cell_type": "markdown",
   "id": "2ce5948f-5bef-4168-aef6-c934f54c28b9",
   "metadata": {},
   "source": [
    "Ahora que tenemos una mejor transformación de las variables, podemos observar cómo construir un modelo lineal. Por ahora, vamos a construir un modelo básico de una variable:\n",
    "\n",
    "$$ log(price) \\sim log(sqft_living) $$\n",
    "\n",
    "Este modelo nos deja ver cómo se relacionan los pies cuadrados de la vivienda con el precio de la misma en términos logarítmicos."
   ]
  },
  {
   "cell_type": "code",
   "execution_count": 18,
   "id": "2cfcc654-4496-4053-8ca3-4e4598602139",
   "metadata": {},
   "outputs": [
    {
     "name": "stdout",
     "output_type": "stream",
     "text": [
      "                            OLS Regression Results                            \n",
      "==============================================================================\n",
      "Dep. Variable:          np.log(price)   R-squared:                       0.456\n",
      "Model:                            OLS   Adj. R-squared:                  0.455\n",
      "Method:                 Least Squares   F-statistic:                 1.808e+04\n",
      "Date:                Thu, 26 May 2022   Prob (F-statistic):               0.00\n",
      "Time:                        17:38:14   Log-Likelihood:                -10240.\n",
      "No. Observations:               21613   AIC:                         2.048e+04\n",
      "Df Residuals:                   21611   BIC:                         2.050e+04\n",
      "Df Model:                           1                                         \n",
      "Covariance Type:            nonrobust                                         \n",
      "=======================================================================================\n",
      "                          coef    std err          t      P>|t|      [0.025      0.975]\n",
      "---------------------------------------------------------------------------------------\n",
      "Intercept               6.7299      0.047    143.001      0.000       6.638       6.822\n",
      "np.log(sqft_living)     0.8368      0.006    134.459      0.000       0.825       0.849\n",
      "==============================================================================\n",
      "Omnibus:                      123.344   Durbin-Watson:                   1.978\n",
      "Prob(Omnibus):                  0.000   Jarque-Bera (JB):              113.759\n",
      "Skew:                           0.142   Prob(JB):                     1.98e-25\n",
      "Kurtosis:                       2.787   Cond. No.                         137.\n",
      "==============================================================================\n",
      "\n",
      "Notes:\n",
      "[1] Standard Errors assume that the covariance matrix of the errors is correctly specified.\n"
     ]
    }
   ],
   "source": [
    "mod1 = smf.ols(formula='np.log(price) ~ np.log(sqft_living)', data=houses).fit()\n",
    "print(mod1.summary())"
   ]
  },
  {
   "cell_type": "markdown",
   "id": "4bbb0707-73b6-4a2a-b824-febafd895d82",
   "metadata": {},
   "source": [
    "¿Qué nos dice este modelo? Realicemos un análisis en palabras y uno matemático:\n",
    "\n",
    "$$ log(P) = 0.84log(S) + 6.73 $$\n",
    "\n",
    "Eso implica que, _ceteris paribus_, un aumento del 1% de los pies cuadrados en la vivienda, aumenta un 0.84% el precio de la vivienda. A esto se le conoce como **elasticidad**.\n",
    "\n",
    "Ahora, las transformaciones tienen un efecto sobre las regresiones, veamos unos ejemplos:\n",
    "\n",
    "<center><img src=\"log_lin.jpg\" width = \"750\", height = \"500\"/></center>\n"
   ]
  },
  {
   "cell_type": "markdown",
   "id": "cca57b2e-147d-4102-89fb-34956c8a24b6",
   "metadata": {},
   "source": [
    "## 3.2. Regresión multivariada"
   ]
  },
  {
   "cell_type": "markdown",
   "id": "5629f5fe-d2ab-4e08-92e7-c43ede01201f",
   "metadata": {},
   "source": [
    "Ahora, no tenemos solo una variable: tenemos muchas, para este caso. Vamos a hacer una regresión del precio con el logaritmo de `sqft_living`, logaritmo de `sqft_lot`, `bedrooms`, `floors`, `bathrooms`, `watefront`, `condition`, `view`, `grade`, `yr_built`, `lat`y `long`."
   ]
  },
  {
   "cell_type": "markdown",
   "id": "6ab3c5a8-d816-4364-a11d-bde4f726f39c",
   "metadata": {},
   "source": [
    "### Pequeño ejercicio"
   ]
  },
  {
   "cell_type": "markdown",
   "id": "374d5d45-59b6-4703-9383-927c9ffb1c93",
   "metadata": {},
   "source": [
    "Realice la regresión solicitada."
   ]
  },
  {
   "cell_type": "code",
   "execution_count": 20,
   "id": "ed9350b9-95c6-4835-8d57-766be6500c68",
   "metadata": {},
   "outputs": [
    {
     "name": "stdout",
     "output_type": "stream",
     "text": [
      "                            OLS Regression Results                            \n",
      "==============================================================================\n",
      "Dep. Variable:          np.log(price)   R-squared:                       0.761\n",
      "Model:                            OLS   Adj. R-squared:                  0.761\n",
      "Method:                 Least Squares   F-statistic:                     5720.\n",
      "Date:                Thu, 26 May 2022   Prob (F-statistic):               0.00\n",
      "Time:                        17:44:24   Log-Likelihood:                -1358.8\n",
      "No. Observations:               21613   AIC:                             2744.\n",
      "Df Residuals:                   21600   BIC:                             2847.\n",
      "Df Model:                          12                                         \n",
      "Covariance Type:            nonrobust                                         \n",
      "====================================================================================\n",
      "                       coef    std err          t      P>|t|      [0.025      0.975]\n",
      "------------------------------------------------------------------------------------\n",
      "Intercept          -36.6812      2.039    -17.988      0.000     -40.678     -32.684\n",
      "sqft_living          0.0002   4.11e-06     44.903      0.000       0.000       0.000\n",
      "np.log(sqft_lot)    -0.0106      0.003     -4.208      0.000      -0.016      -0.006\n",
      "bedrooms            -0.0126      0.002     -5.237      0.000      -0.017      -0.008\n",
      "floors               0.0521      0.004     11.991      0.000       0.044       0.061\n",
      "bathrooms            0.0683      0.004     16.658      0.000       0.060       0.076\n",
      "waterfront           0.3743      0.022     16.862      0.000       0.331       0.418\n",
      "condition            0.0616      0.003     20.955      0.000       0.056       0.067\n",
      "view                 0.0672      0.003     25.211      0.000       0.062       0.072\n",
      "grade                0.1809      0.003     69.957      0.000       0.176       0.186\n",
      "yr_built            -0.0035   8.77e-05    -40.311      0.000      -0.004      -0.003\n",
      "lat                  1.3423      0.013    100.081      0.000       1.316       1.369\n",
      "long                 0.0755      0.015      4.972      0.000       0.046       0.105\n",
      "==============================================================================\n",
      "Omnibus:                      553.851   Durbin-Watson:                   1.983\n",
      "Prob(Omnibus):                  0.000   Jarque-Bera (JB):             1332.347\n",
      "Skew:                           0.054   Prob(JB):                    4.84e-290\n",
      "Kurtosis:                       4.212   Cond. No.                     3.43e+06\n",
      "==============================================================================\n",
      "\n",
      "Notes:\n",
      "[1] Standard Errors assume that the covariance matrix of the errors is correctly specified.\n",
      "[2] The condition number is large, 3.43e+06. This might indicate that there are\n",
      "strong multicollinearity or other numerical problems.\n"
     ]
    }
   ],
   "source": [
    "mod2 = smf.ols(formula='np.log(price) ~ sqft_living + np.log(sqft_lot) + bedrooms + floors + bathrooms + waterfront + condition + view + grade + yr_built + lat + long', data=houses).fit()\n",
    "print(mod3.summary())"
   ]
  },
  {
   "cell_type": "markdown",
   "id": "d2e9fed7-03d6-499a-be44-da1b079cd0b2",
   "metadata": {},
   "source": [
    "Analicemos algunas relaciones."
   ]
  },
  {
   "cell_type": "markdown",
   "id": "8fe7998c-e8c0-4db7-9b22-aee38368cb96",
   "metadata": {},
   "source": [
    "### 3.3. R Cuadrado"
   ]
  },
  {
   "cell_type": "markdown",
   "id": "aec205de-d637-4a1d-90f0-a2f1db537c27",
   "metadata": {},
   "source": [
    "El R Cuadrado es bastante importante para saber cómo se comporta nuestro modelo al explicar los datos. La fórmula del R-Cuadrado es la siguiente:\n",
    "\n",
    "$$ R^2 = 1 - \\frac{\\mathrm{RSS}}{\\mathrm{TSS}} $$\n",
    "\n",
    "El RSS y el TSS denotan la Suma de Cuadrados Residuales y la Suma de Cuadrados Total. Esto, en otras palabras, nos dice **cuánto de los datos explica nuestro modelo**. Un mayor R Cuadrado y, aún más, un mayor R Cuadrado Ajustado es mejor.\n",
    "\n",
    "> **Nota:** no se debe sacralizar el R Cuadrado. Todo depende del contexto."
   ]
  }
 ],
 "metadata": {
  "kernelspec": {
   "display_name": "Python 3 (ipykernel)",
   "language": "python",
   "name": "python3"
  },
  "language_info": {
   "codemirror_mode": {
    "name": "ipython",
    "version": 3
   },
   "file_extension": ".py",
   "mimetype": "text/x-python",
   "name": "python",
   "nbconvert_exporter": "python",
   "pygments_lexer": "ipython3",
   "version": "3.10.2"
  }
 },
 "nbformat": 4,
 "nbformat_minor": 5
}
