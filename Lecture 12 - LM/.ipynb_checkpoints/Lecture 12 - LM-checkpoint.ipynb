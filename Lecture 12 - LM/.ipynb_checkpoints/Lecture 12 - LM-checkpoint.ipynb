{
 "cells": [
  {
   "cell_type": "markdown",
   "id": "e9050f16-e079-41ea-b2b1-fc413de1169e",
   "metadata": {},
   "source": [
    "# Lecture 11: Regresión Lineal"
   ]
  },
  {
   "cell_type": "markdown",
   "id": "a007de40-5ff1-4679-bbf6-71f4b8503883",
   "metadata": {},
   "source": [
    "# 1. Introducción"
   ]
  },
  {
   "cell_type": "markdown",
   "id": "258ada21-37ed-4cf6-b70a-0d1c5be36aed",
   "metadata": {},
   "source": [
    "Una **regresión lineal** es un modelo matemático que se utiliza para aproximar la relación **lineal** de dependencia entre una variable dependiente $Y$, unas variables independientes, $X_i$, y un término de error $\\varepsilon$. Es decir, es un modelo que se puede representar de la siguiente manera:\n",
    "\n",
    "$$ Y = \\beta_0 + \\beta_1 x_1 + \\beta_2 x_2 + ... + \\beta_m x_m + \\varepsilon $$\n",
    "\n",
    "En términos generales, podríamos escribirlo de forma sintética a partir de notación matricial, tal que\n",
    "\n",
    "$$ Y = X\\beta + \\varepsilon $$\n",
    "\n",
    "Donde $Y$, $\\beta$ y $\\varepsilon$ son vectores y $X$ es una matriz."
   ]
  },
  {
   "cell_type": "markdown",
   "id": "96f3c3aa-e589-4f7b-bee5-9f38300963d0",
   "metadata": {},
   "source": [
    "## 1.1. Valor esperado condicional: no todo es lo que parece"
   ]
  },
  {
   "cell_type": "markdown",
   "id": "cec889f9-9f47-4cd5-be08-bcd8ad74885f",
   "metadata": {},
   "source": [
    "En términos generales, una regresión es una aproximación a la media condicional. Es decir,\n",
    "\n",
    "$$ Y_i = E(Y|X_i) + \\varepsilon_i $$\n",
    "\n",
    "Eso significa que intentamos observar $Y$ con unas variables de control que observamos. Sin embargo, **por lo general existe un valor $\\varepsilon$ no observable**. Este se llama **error estocástico** o **perturbación**.\n",
    "\n",
    "Sin embargo, el método que comunmente se utiliza, los  **Mínimos Cuadrados Ordinarios (MCO)**, tiene como propiedad ser **insesgado**. Es decir, que encuentra de una manera loable el valor verdadero del estimador.\n",
    "\n",
    "Es decir, ocurre que\n",
    "\n",
    "$$ E(\\hat{\\beta}_1|X_i) \\sim \\beta_1 $$\n",
    "\n",
    "Sin embargo, para que una regresión sea insesgada, se requieren dos condiciones principales:\n",
    "\n",
    "1. **Exogeneidad estricta:** el valor esperado del error estocástico debe ser cero.\n",
    "\n",
    "$$E(\\varepsilon_i) = 0$$\n",
    "\n",
    "2. **Ley de los Grandes Números:** debe haber una muestra lo suficientemente grande. Este es una condición más práctica.\n",
    "\n",
    "Pongamos un ejemplo:"
   ]
  },
  {
   "cell_type": "code",
   "execution_count": 1,
   "id": "212fe919-cfbc-4e64-822f-4a88a072f25c",
   "metadata": {},
   "outputs": [
    {
     "data": {
      "image/png": "[encoded data removed]",
      "text/plain": [
       "<Figure size 432x288 with 1 Axes>"
      ]
     },
     "metadata": {
      "needs_background": "light"
     },
     "output_type": "display_data"
    }
   ],
   "source": [
    "import numpy as np\n",
    "import pandas as pd\n",
    "from matplotlib import pyplot as plt\n",
    "\n",
    "x = np.random.normal(loc = 50, scale = 10, size = 10)\n",
    "e = np.random.normal(loc = 0, scale = 15, size = 10)\n",
    "\n",
    "plt.hist(x, 30, density = True)\n",
    "plt.show()"
   ]
  },
  {
   "cell_type": "code",
   "execution_count": 2,
   "id": "838d9875-9ee8-488b-a969-a872e8d1fae6",
   "metadata": {},
   "outputs": [
    {
     "data": {
      "image/png": "[encoded data removed]",
      "text/plain": [
       "<Figure size 432x288 with 1 Axes>"
      ]
     },
     "metadata": {
      "needs_background": "light"
     },
     "output_type": "display_data"
    }
   ],
   "source": [
    "data = pd.DataFrame(x, e).reset_index()\n",
    "data.rename(columns = {\"index\": \"e\", 0: \"x\"}, inplace = True)\n",
    "\n",
    "data[\"y\"] = 50 + 2*x + e\n",
    "\n",
    "plt.scatter(data.x, data.y)\n",
    "plt.show()"
   ]
  },
  {
   "cell_type": "code",
   "execution_count": 3,
   "id": "d8259892-0b8c-4af4-b13f-a3c76b62d2c8",
   "metadata": {},
   "outputs": [
    {
     "data": {
      "image/png": "[encoded data removed]",
      "text/plain": [
       "<Figure size 360x360 with 1 Axes>"
      ]
     },
     "metadata": {
      "needs_background": "light"
     },
     "output_type": "display_data"
    }
   ],
   "source": [
    "import seaborn as sns\n",
    "\n",
    "sns.lmplot(x = 'x', y = 'y', data = data)\n",
    "plt.title(\"x vs. y\", fontsize=20, verticalalignment='bottom')\n",
    "plt.xlabel(\"x\")\n",
    "plt.ylabel(\"y\")\n",
    "plt.show()"
   ]
  },
  {
   "cell_type": "code",
   "execution_count": 4,
   "id": "eefca2c4-3dfb-4dd1-b451-06b526ac3d69",
   "metadata": {},
   "outputs": [
    {
     "name": "stdout",
     "output_type": "stream",
     "text": [
      "                            OLS Regression Results                            \n",
      "==============================================================================\n",
      "Dep. Variable:                      y   R-squared:                       0.255\n",
      "Model:                            OLS   Adj. R-squared:                  0.162\n",
      "Method:                 Least Squares   F-statistic:                     2.741\n",
      "Date:                Tue, 31 May 2022   Prob (F-statistic):              0.136\n",
      "Time:                        17:17:33   Log-Likelihood:                -38.359\n",
      "No. Observations:                  10   AIC:                             80.72\n",
      "Df Residuals:                       8   BIC:                             81.32\n",
      "Df Model:                           1                                         \n",
      "Covariance Type:            nonrobust                                         \n",
      "==============================================================================\n",
      "                 coef    std err          t      P>|t|      [0.025      0.975]\n",
      "------------------------------------------------------------------------------\n",
      "Intercept     88.8046     35.749      2.484      0.038       6.368     171.241\n",
      "x              1.2156      0.734      1.656      0.136      -0.477       2.909\n",
      "==============================================================================\n",
      "Omnibus:                        3.752   Durbin-Watson:                   2.010\n",
      "Prob(Omnibus):                  0.153   Jarque-Bera (JB):                1.855\n",
      "Skew:                          -1.052   Prob(JB):                        0.396\n",
      "Kurtosis:                       2.837   Cond. No.                         439.\n",
      "==============================================================================\n",
      "\n",
      "Notes:\n",
      "[1] Standard Errors assume that the covariance matrix of the errors is correctly specified.\n"
     ]
    },
    {
     "name": "stderr",
     "output_type": "stream",
     "text": [
      "C:\\Users\\JM\\AppData\\Local\\Programs\\Python\\Python310\\lib\\site-packages\\scipy\\stats\\_stats_py.py:1477: UserWarning: kurtosistest only valid for n>=20 ... continuing anyway, n=10\n",
      "  warnings.warn(\"kurtosistest only valid for n>=20 ... continuing \"\n"
     ]
    }
   ],
   "source": [
    "import statsmodels.formula.api as smf\n",
    "\n",
    "mod1 = smf.ols(formula='y ~ x', data=data).fit()\n",
    "print(mod1.summary())"
   ]
  },
  {
   "cell_type": "markdown",
   "id": "1436f67e-4dba-4867-babe-b1f23c92699c",
   "metadata": {},
   "source": [
    "Ahora miremos con menos observaciones:"
   ]
  },
  {
   "cell_type": "code",
   "execution_count": 5,
   "id": "a0c08b0b-c52b-4c91-ac8b-315fd12261f7",
   "metadata": {},
   "outputs": [
    {
     "name": "stdout",
     "output_type": "stream",
     "text": [
      "                            OLS Regression Results                            \n",
      "==============================================================================\n",
      "Dep. Variable:                      y   R-squared:                       0.617\n",
      "Model:                            OLS   Adj. R-squared:                  0.617\n",
      "Method:                 Least Squares   F-statistic:                     803.3\n",
      "Date:                Tue, 31 May 2022   Prob (F-statistic):          6.12e-106\n",
      "Time:                        17:17:33   Log-Likelihood:                -2046.9\n",
      "No. Observations:                 500   AIC:                             4098.\n",
      "Df Residuals:                     498   BIC:                             4106.\n",
      "Df Model:                           1                                         \n",
      "Covariance Type:            nonrobust                                         \n",
      "==============================================================================\n",
      "                 coef    std err          t      P>|t|      [0.025      0.975]\n",
      "------------------------------------------------------------------------------\n",
      "Intercept     55.9529      3.382     16.542      0.000      49.307      62.598\n",
      "x              1.8691      0.066     28.343      0.000       1.740       1.999\n",
      "==============================================================================\n",
      "Omnibus:                        1.585   Durbin-Watson:                   2.169\n",
      "Prob(Omnibus):                  0.453   Jarque-Bera (JB):                1.408\n",
      "Skew:                           0.121   Prob(JB):                        0.495\n",
      "Kurtosis:                       3.094   Cond. No.                         267.\n",
      "==============================================================================\n",
      "\n",
      "Notes:\n",
      "[1] Standard Errors assume that the covariance matrix of the errors is correctly specified.\n"
     ]
    }
   ],
   "source": [
    "n = 500\n",
    "\n",
    "x = np.random.normal(loc = 50, scale = 10, size = n)\n",
    "e = np.random.normal(loc = 0, scale = 15, size = n)\n",
    "\n",
    "data = pd.DataFrame(x, e).reset_index()\n",
    "data.rename(columns = {\"index\": \"e\", 0: \"x\"}, inplace = True)\n",
    "\n",
    "data[\"y\"] = 50 + 2*x + e\n",
    "\n",
    "mod1 = smf.ols(formula='y ~ x', data=data).fit()\n",
    "print(mod1.summary())"
   ]
  },
  {
   "cell_type": "markdown",
   "id": "36f179a6-4a23-4257-8988-4d0d01bf8eb2",
   "metadata": {},
   "source": [
    "# 2. Predicción de precios de hogares en Seattle"
   ]
  },
  {
   "cell_type": "markdown",
   "id": "c02202ca-4fb4-4e09-817d-d396af24ec9a",
   "metadata": {},
   "source": [
    "En este caso, vamos a ser asesores de una inmobiliaria. Quienes le contratan quieren tener un modelo para la predicción de los precios de los hogares. Para esto, le contratan y le entregan la siguiente base de datos:"
   ]
  },
  {
   "cell_type": "code",
   "execution_count": 6,
   "id": "c0df64e8-7e2e-4ef7-be03-e876a90aa700",
   "metadata": {},
   "outputs": [
    {
     "data": {
      "text/html": [
       "<div>\n",
       "<style scoped>\n",
       "    .dataframe tbody tr th:only-of-type {\n",
       "        vertical-align: middle;\n",
       "    }\n",
       "\n",
       "    .dataframe tbody tr th {\n",
       "        vertical-align: top;\n",
       "    }\n",
       "\n",
       "    .dataframe thead th {\n",
       "        text-align: right;\n",
       "    }\n",
       "</style>\n",
       "<table border=\"1\" class=\"dataframe\">\n",
       "  <thead>\n",
       "    <tr style=\"text-align: right;\">\n",
       "      <th></th>\n",
       "      <th>id</th>\n",
       "      <th>date</th>\n",
       "      <th>price</th>\n",
       "      <th>bedrooms</th>\n",
       "      <th>bathrooms</th>\n",
       "      <th>sqft_living</th>\n",
       "      <th>sqft_lot</th>\n",
       "      <th>floors</th>\n",
       "      <th>waterfront</th>\n",
       "      <th>view</th>\n",
       "      <th>...</th>\n",
       "      <th>grade</th>\n",
       "      <th>sqft_above</th>\n",
       "      <th>sqft_basement</th>\n",
       "      <th>yr_built</th>\n",
       "      <th>yr_renovated</th>\n",
       "      <th>zipcode</th>\n",
       "      <th>lat</th>\n",
       "      <th>long</th>\n",
       "      <th>sqft_living15</th>\n",
       "      <th>sqft_lot15</th>\n",
       "    </tr>\n",
       "  </thead>\n",
       "  <tbody>\n",
       "    <tr>\n",
       "      <th>0</th>\n",
       "      <td>7129300520</td>\n",
       "      <td>20141013T000000</td>\n",
       "      <td>221900.0</td>\n",
       "      <td>3</td>\n",
       "      <td>1.00</td>\n",
       "      <td>1180</td>\n",
       "      <td>5650</td>\n",
       "      <td>1.0</td>\n",
       "      <td>0</td>\n",
       "      <td>0</td>\n",
       "      <td>...</td>\n",
       "      <td>7</td>\n",
       "      <td>1180</td>\n",
       "      <td>0</td>\n",
       "      <td>1955</td>\n",
       "      <td>0</td>\n",
       "      <td>98178</td>\n",
       "      <td>47.5112</td>\n",
       "      <td>-122.257</td>\n",
       "      <td>1340</td>\n",
       "      <td>5650</td>\n",
       "    </tr>\n",
       "    <tr>\n",
       "      <th>1</th>\n",
       "      <td>6414100192</td>\n",
       "      <td>20141209T000000</td>\n",
       "      <td>538000.0</td>\n",
       "      <td>3</td>\n",
       "      <td>2.25</td>\n",
       "      <td>2570</td>\n",
       "      <td>7242</td>\n",
       "      <td>2.0</td>\n",
       "      <td>0</td>\n",
       "      <td>0</td>\n",
       "      <td>...</td>\n",
       "      <td>7</td>\n",
       "      <td>2170</td>\n",
       "      <td>400</td>\n",
       "      <td>1951</td>\n",
       "      <td>1991</td>\n",
       "      <td>98125</td>\n",
       "      <td>47.7210</td>\n",
       "      <td>-122.319</td>\n",
       "      <td>1690</td>\n",
       "      <td>7639</td>\n",
       "    </tr>\n",
       "    <tr>\n",
       "      <th>2</th>\n",
       "      <td>5631500400</td>\n",
       "      <td>20150225T000000</td>\n",
       "      <td>180000.0</td>\n",
       "      <td>2</td>\n",
       "      <td>1.00</td>\n",
       "      <td>770</td>\n",
       "      <td>10000</td>\n",
       "      <td>1.0</td>\n",
       "      <td>0</td>\n",
       "      <td>0</td>\n",
       "      <td>...</td>\n",
       "      <td>6</td>\n",
       "      <td>770</td>\n",
       "      <td>0</td>\n",
       "      <td>1933</td>\n",
       "      <td>0</td>\n",
       "      <td>98028</td>\n",
       "      <td>47.7379</td>\n",
       "      <td>-122.233</td>\n",
       "      <td>2720</td>\n",
       "      <td>8062</td>\n",
       "    </tr>\n",
       "    <tr>\n",
       "      <th>3</th>\n",
       "      <td>2487200875</td>\n",
       "      <td>20141209T000000</td>\n",
       "      <td>604000.0</td>\n",
       "      <td>4</td>\n",
       "      <td>3.00</td>\n",
       "      <td>1960</td>\n",
       "      <td>5000</td>\n",
       "      <td>1.0</td>\n",
       "      <td>0</td>\n",
       "      <td>0</td>\n",
       "      <td>...</td>\n",
       "      <td>7</td>\n",
       "      <td>1050</td>\n",
       "      <td>910</td>\n",
       "      <td>1965</td>\n",
       "      <td>0</td>\n",
       "      <td>98136</td>\n",
       "      <td>47.5208</td>\n",
       "      <td>-122.393</td>\n",
       "      <td>1360</td>\n",
       "      <td>5000</td>\n",
       "    </tr>\n",
       "    <tr>\n",
       "      <th>4</th>\n",
       "      <td>1954400510</td>\n",
       "      <td>20150218T000000</td>\n",
       "      <td>510000.0</td>\n",
       "      <td>3</td>\n",
       "      <td>2.00</td>\n",
       "      <td>1680</td>\n",
       "      <td>8080</td>\n",
       "      <td>1.0</td>\n",
       "      <td>0</td>\n",
       "      <td>0</td>\n",
       "      <td>...</td>\n",
       "      <td>8</td>\n",
       "      <td>1680</td>\n",
       "      <td>0</td>\n",
       "      <td>1987</td>\n",
       "      <td>0</td>\n",
       "      <td>98074</td>\n",
       "      <td>47.6168</td>\n",
       "      <td>-122.045</td>\n",
       "      <td>1800</td>\n",
       "      <td>7503</td>\n",
       "    </tr>\n",
       "  </tbody>\n",
       "</table>\n",
       "<p>5 rows × 21 columns</p>\n",
       "</div>"
      ],
      "text/plain": [
       "           id             date     price  bedrooms  bathrooms  sqft_living  \\\n",
       "0  7129300520  20141013T000000  221900.0         3       1.00         1180   \n",
       "1  6414100192  20141209T000000  538000.0         3       2.25         2570   \n",
       "2  5631500400  20150225T000000  180000.0         2       1.00          770   \n",
       "3  2487200875  20141209T000000  604000.0         4       3.00         1960   \n",
       "4  1954400510  20150218T000000  510000.0         3       2.00         1680   \n",
       "\n",
       "   sqft_lot  floors  waterfront  view  ...  grade  sqft_above  sqft_basement  \\\n",
       "0      5650     1.0           0     0  ...      7        1180              0   \n",
       "1      7242     2.0           0     0  ...      7        2170            400   \n",
       "2     10000     1.0           0     0  ...      6         770              0   \n",
       "3      5000     1.0           0     0  ...      7        1050            910   \n",
       "4      8080     1.0           0     0  ...      8        1680              0   \n",
       "\n",
       "   yr_built  yr_renovated  zipcode      lat     long  sqft_living15  \\\n",
       "0      1955             0    98178  47.5112 -122.257           1340   \n",
       "1      1951          1991    98125  47.7210 -122.319           1690   \n",
       "2      1933             0    98028  47.7379 -122.233           2720   \n",
       "3      1965             0    98136  47.5208 -122.393           1360   \n",
       "4      1987             0    98074  47.6168 -122.045           1800   \n",
       "\n",
       "   sqft_lot15  \n",
       "0        5650  \n",
       "1        7639  \n",
       "2        8062  \n",
       "3        5000  \n",
       "4        7503  \n",
       "\n",
       "[5 rows x 21 columns]"
      ]
     },
     "execution_count": 6,
     "metadata": {},
     "output_type": "execute_result"
    }
   ],
   "source": [
    "houses = pd.read_csv('kc_house_data.csv')\n",
    "houses.head()"
   ]
  },
  {
   "cell_type": "markdown",
   "id": "f70e90c8-4954-413d-88e0-9b66e38de16c",
   "metadata": {},
   "source": [
    "Tenemos la siguiente información:\n",
    "\n",
    "1. **ID:** identificador de cada casa.\n",
    "2. **date:** fecha en el que la casa fue vendida.\n",
    "3. **price:** precio al que fue vendida.\n",
    "4. **bedrooms:** número de cuartos.\n",
    "5. **bathrooms:** número de baños.\n",
    "6. **sqft_living:** pies cuadrados del hogar (medida EE.UU.).\n",
    "7. **sqft_lot:** pies cuadrados del lote.\n",
    "8. **floors:** número de pisos de la casa.\n",
    "9. **waterfront:** variable dicotómica que dice si la casa tiene vista a un cuerpo de agua o no.\n",
    "10. **view:** un índice de 0 a 4 de qué tan bonita la vista de la propiedad es.\n",
    "11. **condition:** qué tan buena está la condición de la casa.\n",
    "12. **grade:** una calificación de la vivienda, basado en el sistema de puntuación King County.\n",
    "13. **sqft_above:** pies cuadrados de altura de la casa.\n",
    "14. **sqft_basement:** pies cuadrados de la base de la casa.\n",
    "15. **yr_built:** año en el que la casa fue construida.\n",
    "16. **yr_renovated:** año en el que la casa fue remodelada.\n",
    "17. **zipcode:** el zipcode de la casa.\n",
    "18. **lat:** latitud de la ubicación de la casa.\n",
    "19. **long:** longitud de la ubicación de la casa."
   ]
  },
  {
   "cell_type": "markdown",
   "id": "67351e78-723e-495e-bc40-ccda569d26c3",
   "metadata": {},
   "source": [
    "### Pequeño ejercicio\n",
    "\n",
    "Mediante la función `.describe` realice un análisis de las variables de la base de datos. También realice un análisis por medio de un histograma de los precios (gráfica de densidad). ¿Cómo es la distribución de los precios?"
   ]
  },
  {
   "cell_type": "code",
   "execution_count": 7,
   "id": "c66ea00c-bbab-4c98-8b36-d8535198baa6",
   "metadata": {},
   "outputs": [
    {
     "data": {
      "text/html": [
       "<div>\n",
       "<style scoped>\n",
       "    .dataframe tbody tr th:only-of-type {\n",
       "        vertical-align: middle;\n",
       "    }\n",
       "\n",
       "    .dataframe tbody tr th {\n",
       "        vertical-align: top;\n",
       "    }\n",
       "\n",
       "    .dataframe thead th {\n",
       "        text-align: right;\n",
       "    }\n",
       "</style>\n",
       "<table border=\"1\" class=\"dataframe\">\n",
       "  <thead>\n",
       "    <tr style=\"text-align: right;\">\n",
       "      <th></th>\n",
       "      <th>id</th>\n",
       "      <th>price</th>\n",
       "      <th>bedrooms</th>\n",
       "      <th>bathrooms</th>\n",
       "      <th>sqft_living</th>\n",
       "      <th>sqft_lot</th>\n",
       "      <th>floors</th>\n",
       "      <th>waterfront</th>\n",
       "      <th>view</th>\n",
       "      <th>condition</th>\n",
       "      <th>grade</th>\n",
       "      <th>sqft_above</th>\n",
       "      <th>sqft_basement</th>\n",
       "      <th>yr_built</th>\n",
       "      <th>yr_renovated</th>\n",
       "      <th>zipcode</th>\n",
       "      <th>lat</th>\n",
       "      <th>long</th>\n",
       "      <th>sqft_living15</th>\n",
       "      <th>sqft_lot15</th>\n",
       "    </tr>\n",
       "  </thead>\n",
       "  <tbody>\n",
       "    <tr>\n",
       "      <th>count</th>\n",
       "      <td>2.161300e+04</td>\n",
       "      <td>2.161300e+04</td>\n",
       "      <td>21613.000000</td>\n",
       "      <td>21613.000000</td>\n",
       "      <td>21613.000000</td>\n",
       "      <td>2.161300e+04</td>\n",
       "      <td>21613.000000</td>\n",
       "      <td>21613.000000</td>\n",
       "      <td>21613.000000</td>\n",
       "      <td>21613.000000</td>\n",
       "      <td>21613.000000</td>\n",
       "      <td>21613.000000</td>\n",
       "      <td>21613.000000</td>\n",
       "      <td>21613.000000</td>\n",
       "      <td>21613.000000</td>\n",
       "      <td>21613.000000</td>\n",
       "      <td>21613.000000</td>\n",
       "      <td>21613.000000</td>\n",
       "      <td>21613.000000</td>\n",
       "      <td>21613.000000</td>\n",
       "    </tr>\n",
       "    <tr>\n",
       "      <th>mean</th>\n",
       "      <td>4.580302e+09</td>\n",
       "      <td>5.400881e+05</td>\n",
       "      <td>3.370842</td>\n",
       "      <td>2.114757</td>\n",
       "      <td>2079.899736</td>\n",
       "      <td>1.510697e+04</td>\n",
       "      <td>1.494309</td>\n",
       "      <td>0.007542</td>\n",
       "      <td>0.234303</td>\n",
       "      <td>3.409430</td>\n",
       "      <td>7.656873</td>\n",
       "      <td>1788.390691</td>\n",
       "      <td>291.509045</td>\n",
       "      <td>1971.005136</td>\n",
       "      <td>84.402258</td>\n",
       "      <td>98077.939805</td>\n",
       "      <td>47.560053</td>\n",
       "      <td>-122.213896</td>\n",
       "      <td>1986.552492</td>\n",
       "      <td>12768.455652</td>\n",
       "    </tr>\n",
       "    <tr>\n",
       "      <th>std</th>\n",
       "      <td>2.876566e+09</td>\n",
       "      <td>3.671272e+05</td>\n",
       "      <td>0.930062</td>\n",
       "      <td>0.770163</td>\n",
       "      <td>918.440897</td>\n",
       "      <td>4.142051e+04</td>\n",
       "      <td>0.539989</td>\n",
       "      <td>0.086517</td>\n",
       "      <td>0.766318</td>\n",
       "      <td>0.650743</td>\n",
       "      <td>1.175459</td>\n",
       "      <td>828.090978</td>\n",
       "      <td>442.575043</td>\n",
       "      <td>29.373411</td>\n",
       "      <td>401.679240</td>\n",
       "      <td>53.505026</td>\n",
       "      <td>0.138564</td>\n",
       "      <td>0.140828</td>\n",
       "      <td>685.391304</td>\n",
       "      <td>27304.179631</td>\n",
       "    </tr>\n",
       "    <tr>\n",
       "      <th>min</th>\n",
       "      <td>1.000102e+06</td>\n",
       "      <td>7.500000e+04</td>\n",
       "      <td>0.000000</td>\n",
       "      <td>0.000000</td>\n",
       "      <td>290.000000</td>\n",
       "      <td>5.200000e+02</td>\n",
       "      <td>1.000000</td>\n",
       "      <td>0.000000</td>\n",
       "      <td>0.000000</td>\n",
       "      <td>1.000000</td>\n",
       "      <td>1.000000</td>\n",
       "      <td>290.000000</td>\n",
       "      <td>0.000000</td>\n",
       "      <td>1900.000000</td>\n",
       "      <td>0.000000</td>\n",
       "      <td>98001.000000</td>\n",
       "      <td>47.155900</td>\n",
       "      <td>-122.519000</td>\n",
       "      <td>399.000000</td>\n",
       "      <td>651.000000</td>\n",
       "    </tr>\n",
       "    <tr>\n",
       "      <th>25%</th>\n",
       "      <td>2.123049e+09</td>\n",
       "      <td>3.219500e+05</td>\n",
       "      <td>3.000000</td>\n",
       "      <td>1.750000</td>\n",
       "      <td>1427.000000</td>\n",
       "      <td>5.040000e+03</td>\n",
       "      <td>1.000000</td>\n",
       "      <td>0.000000</td>\n",
       "      <td>0.000000</td>\n",
       "      <td>3.000000</td>\n",
       "      <td>7.000000</td>\n",
       "      <td>1190.000000</td>\n",
       "      <td>0.000000</td>\n",
       "      <td>1951.000000</td>\n",
       "      <td>0.000000</td>\n",
       "      <td>98033.000000</td>\n",
       "      <td>47.471000</td>\n",
       "      <td>-122.328000</td>\n",
       "      <td>1490.000000</td>\n",
       "      <td>5100.000000</td>\n",
       "    </tr>\n",
       "    <tr>\n",
       "      <th>50%</th>\n",
       "      <td>3.904930e+09</td>\n",
       "      <td>4.500000e+05</td>\n",
       "      <td>3.000000</td>\n",
       "      <td>2.250000</td>\n",
       "      <td>1910.000000</td>\n",
       "      <td>7.618000e+03</td>\n",
       "      <td>1.500000</td>\n",
       "      <td>0.000000</td>\n",
       "      <td>0.000000</td>\n",
       "      <td>3.000000</td>\n",
       "      <td>7.000000</td>\n",
       "      <td>1560.000000</td>\n",
       "      <td>0.000000</td>\n",
       "      <td>1975.000000</td>\n",
       "      <td>0.000000</td>\n",
       "      <td>98065.000000</td>\n",
       "      <td>47.571800</td>\n",
       "      <td>-122.230000</td>\n",
       "      <td>1840.000000</td>\n",
       "      <td>7620.000000</td>\n",
       "    </tr>\n",
       "    <tr>\n",
       "      <th>75%</th>\n",
       "      <td>7.308900e+09</td>\n",
       "      <td>6.450000e+05</td>\n",
       "      <td>4.000000</td>\n",
       "      <td>2.500000</td>\n",
       "      <td>2550.000000</td>\n",
       "      <td>1.068800e+04</td>\n",
       "      <td>2.000000</td>\n",
       "      <td>0.000000</td>\n",
       "      <td>0.000000</td>\n",
       "      <td>4.000000</td>\n",
       "      <td>8.000000</td>\n",
       "      <td>2210.000000</td>\n",
       "      <td>560.000000</td>\n",
       "      <td>1997.000000</td>\n",
       "      <td>0.000000</td>\n",
       "      <td>98118.000000</td>\n",
       "      <td>47.678000</td>\n",
       "      <td>-122.125000</td>\n",
       "      <td>2360.000000</td>\n",
       "      <td>10083.000000</td>\n",
       "    </tr>\n",
       "    <tr>\n",
       "      <th>max</th>\n",
       "      <td>9.900000e+09</td>\n",
       "      <td>7.700000e+06</td>\n",
       "      <td>33.000000</td>\n",
       "      <td>8.000000</td>\n",
       "      <td>13540.000000</td>\n",
       "      <td>1.651359e+06</td>\n",
       "      <td>3.500000</td>\n",
       "      <td>1.000000</td>\n",
       "      <td>4.000000</td>\n",
       "      <td>5.000000</td>\n",
       "      <td>13.000000</td>\n",
       "      <td>9410.000000</td>\n",
       "      <td>4820.000000</td>\n",
       "      <td>2015.000000</td>\n",
       "      <td>2015.000000</td>\n",
       "      <td>98199.000000</td>\n",
       "      <td>47.777600</td>\n",
       "      <td>-121.315000</td>\n",
       "      <td>6210.000000</td>\n",
       "      <td>871200.000000</td>\n",
       "    </tr>\n",
       "  </tbody>\n",
       "</table>\n",
       "</div>"
      ],
      "text/plain": [
       "                 id         price      bedrooms     bathrooms   sqft_living  \\\n",
       "count  2.161300e+04  2.161300e+04  21613.000000  21613.000000  21613.000000   \n",
       "mean   4.580302e+09  5.400881e+05      3.370842      2.114757   2079.899736   \n",
       "std    2.876566e+09  3.671272e+05      0.930062      0.770163    918.440897   \n",
       "min    1.000102e+06  7.500000e+04      0.000000      0.000000    290.000000   \n",
       "25%    2.123049e+09  3.219500e+05      3.000000      1.750000   1427.000000   \n",
       "50%    3.904930e+09  4.500000e+05      3.000000      2.250000   1910.000000   \n",
       "75%    7.308900e+09  6.450000e+05      4.000000      2.500000   2550.000000   \n",
       "max    9.900000e+09  7.700000e+06     33.000000      8.000000  13540.000000   \n",
       "\n",
       "           sqft_lot        floors    waterfront          view     condition  \\\n",
       "count  2.161300e+04  21613.000000  21613.000000  21613.000000  21613.000000   \n",
       "mean   1.510697e+04      1.494309      0.007542      0.234303      3.409430   \n",
       "std    4.142051e+04      0.539989      0.086517      0.766318      0.650743   \n",
       "min    5.200000e+02      1.000000      0.000000      0.000000      1.000000   \n",
       "25%    5.040000e+03      1.000000      0.000000      0.000000      3.000000   \n",
       "50%    7.618000e+03      1.500000      0.000000      0.000000      3.000000   \n",
       "75%    1.068800e+04      2.000000      0.000000      0.000000      4.000000   \n",
       "max    1.651359e+06      3.500000      1.000000      4.000000      5.000000   \n",
       "\n",
       "              grade    sqft_above  sqft_basement      yr_built  yr_renovated  \\\n",
       "count  21613.000000  21613.000000   21613.000000  21613.000000  21613.000000   \n",
       "mean       7.656873   1788.390691     291.509045   1971.005136     84.402258   \n",
       "std        1.175459    828.090978     442.575043     29.373411    401.679240   \n",
       "min        1.000000    290.000000       0.000000   1900.000000      0.000000   \n",
       "25%        7.000000   1190.000000       0.000000   1951.000000      0.000000   \n",
       "50%        7.000000   1560.000000       0.000000   1975.000000      0.000000   \n",
       "75%        8.000000   2210.000000     560.000000   1997.000000      0.000000   \n",
       "max       13.000000   9410.000000    4820.000000   2015.000000   2015.000000   \n",
       "\n",
       "            zipcode           lat          long  sqft_living15     sqft_lot15  \n",
       "count  21613.000000  21613.000000  21613.000000   21613.000000   21613.000000  \n",
       "mean   98077.939805     47.560053   -122.213896    1986.552492   12768.455652  \n",
       "std       53.505026      0.138564      0.140828     685.391304   27304.179631  \n",
       "min    98001.000000     47.155900   -122.519000     399.000000     651.000000  \n",
       "25%    98033.000000     47.471000   -122.328000    1490.000000    5100.000000  \n",
       "50%    98065.000000     47.571800   -122.230000    1840.000000    7620.000000  \n",
       "75%    98118.000000     47.678000   -122.125000    2360.000000   10083.000000  \n",
       "max    98199.000000     47.777600   -121.315000    6210.000000  871200.000000  "
      ]
     },
     "execution_count": 7,
     "metadata": {},
     "output_type": "execute_result"
    }
   ],
   "source": [
    "houses.describe()"
   ]
  },
  {
   "cell_type": "code",
   "execution_count": 8,
   "id": "09d1d5a7-6c3f-4fab-8bef-14fc43b333c1",
   "metadata": {},
   "outputs": [
    {
     "name": "stderr",
     "output_type": "stream",
     "text": [
      "C:\\Users\\JM\\AppData\\Local\\Programs\\Python\\Python310\\lib\\site-packages\\seaborn\\distributions.py:2619: FutureWarning: `distplot` is a deprecated function and will be removed in a future version. Please adapt your code to use either `displot` (a figure-level function with similar flexibility) or `histplot` (an axes-level function for histograms).\n",
      "  warnings.warn(msg, FutureWarning)\n"
     ]
    },
    {
     "data": {
      "text/plain": [
       "Text(0.5, 1.0, 'Histogram of prices')"
      ]
     },
     "execution_count": 8,
     "metadata": {},
     "output_type": "execute_result"
    },
    {
     "data": {
      "image/png": "[encoded data removed]",
      "text/plain": [
       "<Figure size 432x288 with 1 Axes>"
      ]
     },
     "metadata": {
      "needs_background": "light"
     },
     "output_type": "display_data"
    }
   ],
   "source": [
    "from scipy import stats\n",
    "\n",
    "houses['price'].describe()\n",
    "## histogram plot of price\n",
    "#sns.distplot(houses['price'],fit=stats.laplace, kde=False)\n",
    "sns.distplot(houses['price'],fit=stats.norm, kde=False)\n",
    "sns.set(color_codes=True)\n",
    "plt.xticks(rotation=90)\n",
    "plt.title(\"Histogram of prices\")"
   ]
  },
  {
   "cell_type": "markdown",
   "id": "6c39fb31-e61a-4855-be86-22a3c7ad9854",
   "metadata": {},
   "source": [
    "También realice un análisis de la relación entre los precios `price` y los precios por pie cuadrado del espacio de vivienda `sqft_living`. Utilice la función `lmplot()`de la librería `seaborn`.\n",
    "\n",
    "¿Qué observa?"
   ]
  },
  {
   "cell_type": "code",
   "execution_count": 9,
   "id": "b2073435-cc75-431a-af2f-9a9e7beb2a16",
   "metadata": {},
   "outputs": [
    {
     "data": {
      "image/png": "[encoded data removed]",
      "text/plain": [
       "<Figure size 720x360 with 1 Axes>"
      ]
     },
     "metadata": {},
     "output_type": "display_data"
    }
   ],
   "source": [
    "## linear relation between sqft_living and price\n",
    "sns.lmplot(x='sqft_living',y='price',data=houses, \n",
    "           line_kws = {'color': \"red\"} ,aspect= 2)\n",
    "plt.title(\"Price vs. Sqft_living\");"
   ]
  },
  {
   "cell_type": "markdown",
   "id": "bb5390c0-c95d-4139-8dce-2b178d17d1e0",
   "metadata": {},
   "source": [
    "¿Qué otras variables puede ver que son importantes para el precio? Realice un análisis de correlación."
   ]
  },
  {
   "cell_type": "markdown",
   "id": "34ee2a8d-2a5b-47f3-8447-aa10346c7d13",
   "metadata": {},
   "source": [
    "## 2.1. Transformación de las variables"
   ]
  },
  {
   "cell_type": "markdown",
   "id": "2dec0ebf-6e90-4862-874d-387866da1868",
   "metadata": {},
   "source": [
    "Como se pudo observar en el ejercicio anterior y como era de esperarse, la distribución de los precios no es tan cómoda para realizar inferencia. Es decir, dado que no tiene una distribución normal, podría tener problemas en la inferencia de los modelos. Por ello, en ocasiones se **transforman las variables** con el objetivo de evitar este problema y minimizar la varianza de los datos.\n",
    "\n",
    "Las funciones típicas que se utilizan son:\n",
    "\n",
    "* **Potencias:** elevar la variable al cuadrado, al cubo, aplicarle una raíz, entre otros, para problemas que probablemente impliquen una curva en su comportamiento.\n",
    "* **Logaritmos:** aplicar el logaritmo (especialmente el logaritmo natural) para acercar los valores atípicos.\n",
    "* **Funciones trigonométricas:** la aplicación de senos y cosenos para algunos problemas con comportamientos cíclicos. Este caso no se utiliza mucho."
   ]
  },
  {
   "cell_type": "markdown",
   "id": "379b67eb-85ba-45d0-b01d-99e92d7ee129",
   "metadata": {},
   "source": [
    "### Pequeño ejercicio\n",
    "\n",
    "Transforme la variable precios con un logaritmo natural. Utilice la función `np.log` para esto. Realice una gráfica de densidad para observar cómo cambió la distribución."
   ]
  },
  {
   "cell_type": "code",
   "execution_count": 10,
   "id": "eb704273-9b41-48da-9abc-523a1fec90e9",
   "metadata": {},
   "outputs": [
    {
     "name": "stderr",
     "output_type": "stream",
     "text": [
      "C:\\Users\\JM\\AppData\\Local\\Programs\\Python\\Python310\\lib\\site-packages\\seaborn\\distributions.py:2619: FutureWarning: `distplot` is a deprecated function and will be removed in a future version. Please adapt your code to use either `displot` (a figure-level function with similar flexibility) or `histplot` (an axes-level function for histograms).\n",
      "  warnings.warn(msg, FutureWarning)\n"
     ]
    },
    {
     "data": {
      "text/plain": [
       "Text(0.5, 1.0, 'Histogram of prices')"
      ]
     },
     "execution_count": 10,
     "metadata": {},
     "output_type": "execute_result"
    },
    {
     "data": {
      "image/png": "[encoded data removed]",
      "text/plain": [
       "<Figure size 432x288 with 1 Axes>"
      ]
     },
     "metadata": {},
     "output_type": "display_data"
    }
   ],
   "source": [
    "houses[\"log_price\"] = np.log(houses[\"price\"])\n",
    "\n",
    "sns.distplot(houses['log_price'],fit=stats.norm, kde=False)\n",
    "sns.set(color_codes=True)\n",
    "plt.xticks(rotation=90)\n",
    "plt.title(\"Histogram of prices\")"
   ]
  },
  {
   "cell_type": "markdown",
   "id": "ccf73b27-e7ff-4646-941b-5ef2d98d7c5b",
   "metadata": {},
   "source": [
    "Ahora hagampos una prueba formal:"
   ]
  },
  {
   "cell_type": "code",
   "execution_count": 11,
   "id": "e50e45b3-a330-462b-8dec-2e17d801ca11",
   "metadata": {},
   "outputs": [
    {
     "data": {
      "image/png": "[encoded data removed]",
      "text/plain": [
       "<Figure size 432x288 with 1 Axes>"
      ]
     },
     "metadata": {},
     "output_type": "display_data"
    },
    {
     "data": {
      "image/png": "[encoded data removed]",
      "text/plain": [
       "<Figure size 432x288 with 1 Axes>"
      ]
     },
     "metadata": {},
     "output_type": "display_data"
    }
   ],
   "source": [
    "# Gráfica QQ Plot del precio\n",
    "plt.subplot(2,1,1)\n",
    "stats.probplot(houses['price'], dist = \"norm\", plot = plt)\n",
    "plt.title(\"QQ Plot for Prices\")\n",
    "plt.show()\n",
    "\n",
    "# Gráfica QQ Plot del logaritmo del precio\n",
    "plt.subplot(2,1,1)\n",
    "stats.probplot(np.log(houses['price']), dist = \"norm\", plot = plt)\n",
    "plt.title(\"QQ Plot for Log Prices\")\n",
    "plt.show()"
   ]
  },
  {
   "cell_type": "markdown",
   "id": "38d2b6cb-7da2-4ade-a6ba-dbe4066ca54c",
   "metadata": {},
   "source": [
    "## 3. Construcción de un modelo lineal"
   ]
  },
  {
   "cell_type": "markdown",
   "id": "c583887d-3ab4-4c66-a6ba-22f043076b97",
   "metadata": {},
   "source": [
    "## 3.1. Regresión univariada"
   ]
  },
  {
   "cell_type": "markdown",
   "id": "2ce5948f-5bef-4168-aef6-c934f54c28b9",
   "metadata": {},
   "source": [
    "Ahora que tenemos una mejor transformación de las variables, podemos observar cómo construir un modelo lineal. Por ahora, vamos a construir un modelo básico de una variable:\n",
    "\n",
    "$$ log(price) \\sim log(sqft_living) $$\n",
    "\n",
    "Este modelo nos deja ver cómo se relacionan los pies cuadrados de la vivienda con el precio de la misma en términos logarítmicos."
   ]
  },
  {
   "cell_type": "code",
   "execution_count": 12,
   "id": "2cfcc654-4496-4053-8ca3-4e4598602139",
   "metadata": {},
   "outputs": [
    {
     "name": "stdout",
     "output_type": "stream",
     "text": [
      "                            OLS Regression Results                            \n",
      "==============================================================================\n",
      "Dep. Variable:          np.log(price)   R-squared:                       0.456\n",
      "Model:                            OLS   Adj. R-squared:                  0.455\n",
      "Method:                 Least Squares   F-statistic:                 1.808e+04\n",
      "Date:                Tue, 31 May 2022   Prob (F-statistic):               0.00\n",
      "Time:                        17:17:36   Log-Likelihood:                -10240.\n",
      "No. Observations:               21613   AIC:                         2.048e+04\n",
      "Df Residuals:                   21611   BIC:                         2.050e+04\n",
      "Df Model:                           1                                         \n",
      "Covariance Type:            nonrobust                                         \n",
      "=======================================================================================\n",
      "                          coef    std err          t      P>|t|      [0.025      0.975]\n",
      "---------------------------------------------------------------------------------------\n",
      "Intercept               6.7299      0.047    143.001      0.000       6.638       6.822\n",
      "np.log(sqft_living)     0.8368      0.006    134.459      0.000       0.825       0.849\n",
      "==============================================================================\n",
      "Omnibus:                      123.344   Durbin-Watson:                   1.978\n",
      "Prob(Omnibus):                  0.000   Jarque-Bera (JB):              113.759\n",
      "Skew:                           0.142   Prob(JB):                     1.98e-25\n",
      "Kurtosis:                       2.787   Cond. No.                         137.\n",
      "==============================================================================\n",
      "\n",
      "Notes:\n",
      "[1] Standard Errors assume that the covariance matrix of the errors is correctly specified.\n"
     ]
    }
   ],
   "source": [
    "mod1 = smf.ols(formula='np.log(price) ~ np.log(sqft_living)', data=houses).fit()\n",
    "print(mod1.summary())"
   ]
  },
  {
   "cell_type": "markdown",
   "id": "4bbb0707-73b6-4a2a-b824-febafd895d82",
   "metadata": {},
   "source": [
    "¿Qué nos dice este modelo? Realicemos un análisis en palabras y uno matemático:\n",
    "\n",
    "$$ log(P) = 0.84log(S) + 6.73 $$\n",
    "\n",
    "Eso implica que, _ceteris paribus_, un aumento del 1% de los pies cuadrados en la vivienda, aumenta un 0.84% el precio de la vivienda. A esto se le conoce como **elasticidad**.\n",
    "\n",
    "Ahora, las transformaciones tienen un efecto sobre las regresiones, veamos unos ejemplos:\n",
    "\n",
    "<center><img src=\"log_lin.jpg\" width = \"750\", height = \"500\"/></center>\n"
   ]
  },
  {
   "cell_type": "markdown",
   "id": "cca57b2e-147d-4102-89fb-34956c8a24b6",
   "metadata": {},
   "source": [
    "## 3.2. Regresión multivariada"
   ]
  },
  {
   "cell_type": "markdown",
   "id": "5629f5fe-d2ab-4e08-92e7-c43ede01201f",
   "metadata": {},
   "source": [
    "Ahora, no tenemos solo una variable: tenemos muchas, para este caso. Vamos a hacer una regresión del precio con el logaritmo de `sqft_living`, logaritmo de `sqft_lot`, `bedrooms`, `floors`, `bathrooms`, `watefront`, `condition`, `view`, `grade`, `yr_built`, `lat`y `long`."
   ]
  },
  {
   "cell_type": "markdown",
   "id": "6ab3c5a8-d816-4364-a11d-bde4f726f39c",
   "metadata": {},
   "source": [
    "### Pequeño ejercicio"
   ]
  },
  {
   "cell_type": "markdown",
   "id": "374d5d45-59b6-4703-9383-927c9ffb1c93",
   "metadata": {},
   "source": [
    "Realice la regresión solicitada."
   ]
  },
  {
   "cell_type": "code",
   "execution_count": 14,
   "id": "ed9350b9-95c6-4835-8d57-766be6500c68",
   "metadata": {},
   "outputs": [
    {
     "name": "stdout",
     "output_type": "stream",
     "text": [
      "                            OLS Regression Results                            \n",
      "==============================================================================\n",
      "Dep. Variable:          np.log(price)   R-squared:                       0.761\n",
      "Model:                            OLS   Adj. R-squared:                  0.761\n",
      "Method:                 Least Squares   F-statistic:                     5720.\n",
      "Date:                Tue, 31 May 2022   Prob (F-statistic):               0.00\n",
      "Time:                        17:17:58   Log-Likelihood:                -1358.8\n",
      "No. Observations:               21613   AIC:                             2744.\n",
      "Df Residuals:                   21600   BIC:                             2847.\n",
      "Df Model:                          12                                         \n",
      "Covariance Type:            nonrobust                                         \n",
      "====================================================================================\n",
      "                       coef    std err          t      P>|t|      [0.025      0.975]\n",
      "------------------------------------------------------------------------------------\n",
      "Intercept          -36.6812      2.039    -17.988      0.000     -40.678     -32.684\n",
      "sqft_living          0.0002   4.11e-06     44.903      0.000       0.000       0.000\n",
      "np.log(sqft_lot)    -0.0106      0.003     -4.208      0.000      -0.016      -0.006\n",
      "bedrooms            -0.0126      0.002     -5.237      0.000      -0.017      -0.008\n",
      "floors               0.0521      0.004     11.991      0.000       0.044       0.061\n",
      "bathrooms            0.0683      0.004     16.658      0.000       0.060       0.076\n",
      "waterfront           0.3743      0.022     16.862      0.000       0.331       0.418\n",
      "condition            0.0616      0.003     20.955      0.000       0.056       0.067\n",
      "view                 0.0672      0.003     25.211      0.000       0.062       0.072\n",
      "grade                0.1809      0.003     69.957      0.000       0.176       0.186\n",
      "yr_built            -0.0035   8.77e-05    -40.311      0.000      -0.004      -0.003\n",
      "lat                  1.3423      0.013    100.081      0.000       1.316       1.369\n",
      "long                 0.0755      0.015      4.972      0.000       0.046       0.105\n",
      "==============================================================================\n",
      "Omnibus:                      553.851   Durbin-Watson:                   1.983\n",
      "Prob(Omnibus):                  0.000   Jarque-Bera (JB):             1332.347\n",
      "Skew:                           0.054   Prob(JB):                    4.84e-290\n",
      "Kurtosis:                       4.212   Cond. No.                     3.43e+06\n",
      "==============================================================================\n",
      "\n",
      "Notes:\n",
      "[1] Standard Errors assume that the covariance matrix of the errors is correctly specified.\n",
      "[2] The condition number is large, 3.43e+06. This might indicate that there are\n",
      "strong multicollinearity or other numerical problems.\n"
     ]
    }
   ],
   "source": [
    "mod2 = smf.ols(formula='np.log(price) ~ sqft_living + np.log(sqft_lot) + bedrooms + floors + bathrooms + waterfront + condition + view + grade + yr_built + lat + long', data=houses).fit()\n",
    "print(mod2.summary())"
   ]
  },
  {
   "cell_type": "markdown",
   "id": "d2e9fed7-03d6-499a-be44-da1b079cd0b2",
   "metadata": {},
   "source": [
    "Analicemos algunas relaciones."
   ]
  },
  {
   "cell_type": "markdown",
   "id": "f4bd54e1-1bc7-446f-99db-9010e9ecf5a8",
   "metadata": {},
   "source": [
    "## 3.3. ¿Cómo interpretar los resultados de un modelo lineal?"
   ]
  },
  {
   "cell_type": "markdown",
   "id": "9f5acd58-0c11-4fd2-be4b-8ba8fdb4b464",
   "metadata": {},
   "source": [
    "La tablas mostradas contienen bastante información, cuyos resultados debemos analizar. Nos enfocaremos en los siguientes:"
   ]
  },
  {
   "cell_type": "markdown",
   "id": "2159b4cd-5842-42f9-90dc-a006f09039df",
   "metadata": {},
   "source": [
    "### 3.3.1. Coeficientes"
   ]
  },
  {
   "cell_type": "markdown",
   "id": "58f93ea3-ff31-4aea-bea3-ef1d17dd2d54",
   "metadata": {},
   "source": [
    "Los coeficientes nos indican cuál es el efecto de una variable independiente sobre la variable de interés. En ese sentido, recordemos la siguiente tabla:\n",
    "\n",
    "<center><img src=\"log_lin.jpg\" width = \"750\", height = \"500\"/></center>\n",
    "\n",
    "Dependiendo si es un nivel (no tiene ninguna transformación) o si es un log (tiene una transformación logarítmica) podemos encontrar el efecto de una variable sobre otra. Algunos ejemplos son:\n",
    "\n",
    "* Un cuarto adicional (`bedrooms`) está asociado a un efecto negativo de 1.26% en el precio de la vivienda, _ceteris paribus_. Esto es una transformación log - lin: $100*\\beta \\%$.\n",
    "* Un aumento del 1% del metraje del lote (`sqft_lot`) está asociado a un efecto negativo de 0.01% del precio de la vivienda, _ceteris paribus_. Esto es una transformación log - log: $ \\beta \\%$.\n",
    "\n",
    "Ahora, ¿qué significa el intercepto ($\\beta_0$? En este caso, representa el _precio mínimo_ de la vivienda. Es decir, si todo fuera igual a cero, el precio básico de la vivienda sería igual al intercepto:  $\\beta_0 = -36.68$."
   ]
  },
  {
   "cell_type": "markdown",
   "id": "6d46706d-12d3-4c96-8718-6caf76c1403d",
   "metadata": {},
   "source": [
    "### 3.3.2. p-valores"
   ]
  },
  {
   "cell_type": "markdown",
   "id": "86b200f1-b816-4b84-b237-7e1dd0515ec5",
   "metadata": {},
   "source": [
    "Los p-valores muestran ayudan a realizar siguiente prueba de hipótesis:\n",
    "\n",
    "$$ H_0: \\beta_1 = 0 $$\n",
    "$$ H_1: \\beta_1 \\neq 0 $$\n",
    "\n",
    "En ese sentido, los p-valores muestran la posición relativa del estimador que encontramos dentro de la distribución de los estimadores. En otras palabras _más simples_, nos indica un punto de comparación con el que podemos afirmar si existe evidencia estadística para decir si el estimador es significativo o no (para afirmar si existe evidencia de que la variable independiente es importante para la variable dependiente).\n",
    "\n",
    "Para ello, hay diferentes puntos de comparación que podemos utilizar: $\\alpha = 0.1$, $\\alpha = 0.05$, $\\alpha = 0.01$, entre otros. Por tanto, si $p-valor <= \\alpha$, se dice que hay evidencia suficiente para indicar que la variable es significativa.\n",
    "\n",
    "Cuanto más pequeño sea el nivel de significancia de comparación, más seguros estamos de ello. Sin embargo, el valor más utilizado es $\\alpha = 0.05$."
   ]
  },
  {
   "cell_type": "markdown",
   "id": "8fe7998c-e8c0-4db7-9b22-aee38368cb96",
   "metadata": {},
   "source": [
    "### 3.3.3 R Cuadrado"
   ]
  },
  {
   "cell_type": "markdown",
   "id": "aec205de-d637-4a1d-90f0-a2f1db537c27",
   "metadata": {},
   "source": [
    "El R Cuadrado es bastante importante para saber cómo se comporta nuestro modelo al explicar los datos. La fórmula del R-Cuadrado es la siguiente:\n",
    "\n",
    "$$ R^2 = 1 - \\frac{\\mathrm{RSS}}{\\mathrm{TSS}} $$\n",
    "\n",
    "El RSS y el TSS denotan la Suma de Cuadrados Residuales y la Suma de Cuadrados Total. Esto, en otras palabras, nos dice **cuánto de los datos explica nuestro modelo**. Un mayor R Cuadrado y, aún más, un mayor R Cuadrado Ajustado es mejor.\n",
    "\n",
    "> **Nota:** no se debe sacralizar el R Cuadrado. Todo depende del contexto.\n",
    "\n",
    "En este sentido, el R-Cuadrado del modelo del pago vs. la edad es de $R-squared = 0.285$. En castellano, ello sugiere que el 28.5% de la variaci´pn de la variable dependiente es explicada por este modelo."
   ]
  },
  {
   "cell_type": "markdown",
   "id": "097cd6e5-cea0-4bde-bd3e-cb86c529a9ef",
   "metadata": {},
   "source": [
    "### 3.3.4. Residuales"
   ]
  },
  {
   "cell_type": "markdown",
   "id": "c3e948e1-609b-4764-878a-d43702e82ddd",
   "metadata": {},
   "source": [
    "Aunque no estén en la tabla, los residuales son elementos importantes en una regresión lineal. Estos son la diferencia entre el valor real y el valor predicho por el modelo, tal que\n",
    "\n",
    "$$ u_i = Y_i - \\hat{Y}_i $$\n",
    "\n",
    "Los residuales permiten tener una inferencia adecuada en los modelos lineales. Hay que recordar que uno de los supuestos de este modelo es que **los residuales son identicatemente distribuidos normalmente**. Esto implica hasta cierto punto que los datos deben comportarse de manera normal. Sin embargo, esto no es enteramente cierto: los modelos aún pueden ser poderosos y útiles sin este supuesto.\n",
    "\n",
    "Aún así, vale la pena echar un vistazo:"
   ]
  },
  {
   "cell_type": "code",
   "execution_count": 18,
   "id": "ed61d138-81f0-499b-b8c7-53da3bf87949",
   "metadata": {},
   "outputs": [
    {
     "data": {
      "text/plain": [
       "True"
      ]
     },
     "execution_count": 18,
     "metadata": {},
     "output_type": "execute_result"
    }
   ],
   "source": [
    "# Manual\n",
    "resid_m = np.log(houses.price) - mod2.fittedvalues\n",
    "\n",
    "# Con lm\n",
    "resid_lm = mod2.resid\n",
    "\n",
    "np.allclose(resid, resid_lm)"
   ]
  },
  {
   "cell_type": "code",
   "execution_count": 20,
   "id": "8f04859b-508c-4eeb-a6d1-9cf8b25a07a0",
   "metadata": {},
   "outputs": [
    {
     "data": {
      "image/png": "[encoded data removed]",
      "text/plain": [
       "<Figure size 432x288 with 1 Axes>"
      ]
     },
     "metadata": {},
     "output_type": "display_data"
    }
   ],
   "source": [
    "import scipy\n",
    "\n",
    "# Hist de los residuales\n",
    "plt.hist(mod2.resid, \n",
    "    density=True,                  \n",
    "    bins=100,         \n",
    "    label=\"residuals\" #\n",
    "    )\n",
    "\n",
    "# Se plotean la distribución normal\n",
    "xx = np.linspace(mod2.resid.min(), mod2.resid.max(), num=1000)\n",
    "plt.plot(xx, scipy.stats.norm.pdf(xx, loc=0.0, scale=np.sqrt(mod2.scale)),\n",
    "    label=\"normal distribution\")\n",
    "outliers = np.abs(mod2.resid)>4*np.sqrt(mod2.scale)\n",
    "\n",
    "# Se separan los valores atípicos\n",
    "sns.rugplot(mod2.resid[outliers],\n",
    "            color=\"C5\", # otherwise the rugplot has the same color as the histogram\n",
    "            label=\"outliers\")\n",
    "plt.legend(loc=\"upper right\");"
   ]
  },
  {
   "cell_type": "markdown",
   "id": "549d670d-b770-4db7-97ba-670d1403af1f",
   "metadata": {},
   "source": [
    "#### Pequeño ejercicio\n",
    "\n",
    "¿Tienen los residuales una distribución normal? Realice una prueba de ello."
   ]
  },
  {
   "cell_type": "code",
   "execution_count": 23,
   "id": "703d4960-20b6-4a10-a587-42263733b569",
   "metadata": {},
   "outputs": [
    {
     "data": {
      "image/png": "[encoded data removed]",
      "text/plain": [
       "<Figure size 432x288 with 1 Axes>"
      ]
     },
     "metadata": {},
     "output_type": "display_data"
    }
   ],
   "source": [
    "import statsmodels.api         as sm\n",
    "sm.qqplot(mod2.resid, line=\"s\");"
   ]
  },
  {
   "cell_type": "markdown",
   "id": "429fbef1-f3fa-4e65-9a0f-b4724db95837",
   "metadata": {},
   "source": [
    "## 3.5. Otras transformaciones"
   ]
  },
  {
   "cell_type": "markdown",
   "id": "9e38ebda-764b-47a0-b834-61a04e4fd257",
   "metadata": {},
   "source": [
    "Ya observamos cómo la transformación de una variable nos ayuda a obtener un mejor modelo, en este caso una transformación logarítmica. Sin embargo, hay otras transformaciones que nos ayudan a entender mejor el problema y que no asumen la linearidad completa del modelo.\n",
    "\n",
    "Algunas de otras estrategias son:\n",
    "\n",
    "* Aplicar potencias en las variables.\n",
    "* Realizar interacciones entre variables.\n",
    "\n",
    "Vamos a ver un poco de ello:"
   ]
  },
  {
   "cell_type": "code",
   "execution_count": 26,
   "id": "d6d27d6c-9fb8-4983-8b43-6e9385c04ff5",
   "metadata": {},
   "outputs": [
    {
     "name": "stdout",
     "output_type": "stream",
     "text": [
      "                            OLS Regression Results                            \n",
      "==============================================================================\n",
      "Dep. Variable:          np.log(price)   R-squared:                       0.880\n",
      "Model:                            OLS   Adj. R-squared:                  0.879\n",
      "Method:                 Least Squares   F-statistic:                     1833.\n",
      "Date:                Tue, 31 May 2022   Prob (F-statistic):               0.00\n",
      "Time:                        17:51:35   Log-Likelihood:                 6088.4\n",
      "No. Observations:               21613   AIC:                        -1.200e+04\n",
      "Df Residuals:                   21526   BIC:                        -1.131e+04\n",
      "Df Model:                          86                                         \n",
      "Covariance Type:            nonrobust                                         \n",
      "========================================================================================\n",
      "                           coef    std err          t      P>|t|      [0.025      0.975]\n",
      "----------------------------------------------------------------------------------------\n",
      "Intercept            -6003.8719    525.035    -11.435      0.000   -7032.980   -4974.764\n",
      "C(waterfront)[T.1]       0.4354      0.018     23.793      0.000       0.400       0.471\n",
      "C(view)[T.1]             0.1204      0.010     11.644      0.000       0.100       0.141\n",
      "C(view)[T.2]             0.1110      0.006     17.664      0.000       0.099       0.123\n",
      "C(view)[T.3]             0.1834      0.009     21.398      0.000       0.167       0.200\n",
      "C(view)[T.4]             0.2904      0.013     21.986      0.000       0.264       0.316\n",
      "C(zipcode)[T.98002]      0.0201      0.017      1.219      0.223      -0.012       0.052\n",
      "C(zipcode)[T.98003]     -0.0109      0.015     -0.740      0.459      -0.040       0.018\n",
      "C(zipcode)[T.98004]      0.9063      0.028     32.305      0.000       0.851       0.961\n",
      "C(zipcode)[T.98005]      0.5165      0.030     17.280      0.000       0.458       0.575\n",
      "C(zipcode)[T.98006]      0.4546      0.026     17.748      0.000       0.404       0.505\n",
      "C(zipcode)[T.98007]      0.4437      0.031     14.389      0.000       0.383       0.504\n",
      "C(zipcode)[T.98008]      0.4540      0.029     15.427      0.000       0.396       0.512\n",
      "C(zipcode)[T.98010]      0.3073      0.025     12.154      0.000       0.258       0.357\n",
      "C(zipcode)[T.98011]      0.2650      0.037      7.258      0.000       0.193       0.337\n",
      "C(zipcode)[T.98014]      0.1968      0.040      4.861      0.000       0.117       0.276\n",
      "C(zipcode)[T.98019]      0.2173      0.039      5.501      0.000       0.140       0.295\n",
      "C(zipcode)[T.98022]      0.3431      0.024     14.043      0.000       0.295       0.391\n",
      "C(zipcode)[T.98023]     -0.0630      0.014     -4.653      0.000      -0.090      -0.036\n",
      "C(zipcode)[T.98024]      0.3142      0.037      8.530      0.000       0.242       0.386\n",
      "C(zipcode)[T.98027]      0.3759      0.026     14.254      0.000       0.324       0.428\n",
      "C(zipcode)[T.98028]      0.2056      0.035      5.797      0.000       0.136       0.275\n",
      "C(zipcode)[T.98029]      0.4751      0.030     16.064      0.000       0.417       0.533\n",
      "C(zipcode)[T.98030]      0.0026      0.017      0.152      0.879      -0.031       0.036\n",
      "C(zipcode)[T.98031]     -0.0240      0.019     -1.297      0.195      -0.060       0.012\n",
      "C(zipcode)[T.98032]     -0.1287      0.020     -6.330      0.000      -0.169      -0.089\n",
      "C(zipcode)[T.98033]      0.5719      0.031     18.593      0.000       0.512       0.632\n",
      "C(zipcode)[T.98034]      0.3267      0.033     10.022      0.000       0.263       0.391\n",
      "C(zipcode)[T.98038]      0.1915      0.019      9.996      0.000       0.154       0.229\n",
      "C(zipcode)[T.98039]      1.0768      0.037     29.101      0.000       1.004       1.149\n",
      "C(zipcode)[T.98040]      0.6601      0.026     25.647      0.000       0.610       0.711\n",
      "C(zipcode)[T.98042]      0.0509      0.016      3.102      0.002       0.019       0.083\n",
      "C(zipcode)[T.98045]      0.3160      0.035      8.909      0.000       0.247       0.386\n",
      "C(zipcode)[T.98052]      0.4534      0.031     14.445      0.000       0.392       0.515\n",
      "C(zipcode)[T.98053]      0.4509      0.034     13.412      0.000       0.385       0.517\n",
      "C(zipcode)[T.98055]     -0.0058      0.021     -0.273      0.785      -0.047       0.036\n",
      "C(zipcode)[T.98056]      0.1432      0.023      6.204      0.000       0.098       0.188\n",
      "C(zipcode)[T.98058]      0.0374      0.020      1.853      0.064      -0.002       0.077\n",
      "C(zipcode)[T.98059]      0.2034      0.023      8.962      0.000       0.159       0.248\n",
      "C(zipcode)[T.98065]      0.3744      0.033     11.291      0.000       0.309       0.439\n",
      "C(zipcode)[T.98070]      0.0334      0.025      1.354      0.176      -0.015       0.082\n",
      "C(zipcode)[T.98072]      0.3060      0.036      8.432      0.000       0.235       0.377\n",
      "C(zipcode)[T.98074]      0.3963      0.031     12.947      0.000       0.336       0.456\n",
      "C(zipcode)[T.98075]      0.4334      0.030     14.454      0.000       0.375       0.492\n",
      "C(zipcode)[T.98077]      0.2956      0.038      7.834      0.000       0.222       0.370\n",
      "C(zipcode)[T.98092]      0.0826      0.015      5.611      0.000       0.054       0.111\n",
      "C(zipcode)[T.98102]      0.7063      0.032     21.970      0.000       0.643       0.769\n",
      "C(zipcode)[T.98103]      0.5483      0.030     18.448      0.000       0.490       0.607\n",
      "C(zipcode)[T.98105]      0.6989      0.031     22.776      0.000       0.639       0.759\n",
      "C(zipcode)[T.98106]      0.0777      0.024      3.232      0.001       0.031       0.125\n",
      "C(zipcode)[T.98107]      0.5569      0.031     18.148      0.000       0.497       0.617\n",
      "C(zipcode)[T.98108]      0.1054      0.026      4.036      0.000       0.054       0.157\n",
      "C(zipcode)[T.98109]      0.7183      0.032     22.432      0.000       0.656       0.781\n",
      "C(zipcode)[T.98112]      0.7980      0.029     27.782      0.000       0.742       0.854\n",
      "C(zipcode)[T.98115]      0.5551      0.030     18.428      0.000       0.496       0.614\n",
      "C(zipcode)[T.98116]      0.4531      0.026     17.385      0.000       0.402       0.504\n",
      "C(zipcode)[T.98117]      0.5208      0.030     17.107      0.000       0.461       0.580\n",
      "C(zipcode)[T.98118]      0.2308      0.024      9.771      0.000       0.184       0.277\n",
      "C(zipcode)[T.98119]      0.6881      0.030     22.742      0.000       0.629       0.747\n",
      "C(zipcode)[T.98122]      0.5509      0.028     19.915      0.000       0.497       0.605\n",
      "C(zipcode)[T.98125]      0.3070      0.032      9.515      0.000       0.244       0.370\n",
      "C(zipcode)[T.98126]      0.2712      0.024     11.095      0.000       0.223       0.319\n",
      "C(zipcode)[T.98133]      0.1985      0.033      5.965      0.000       0.133       0.264\n",
      "C(zipcode)[T.98136]      0.3950      0.025     15.803      0.000       0.346       0.444\n",
      "C(zipcode)[T.98144]      0.4237      0.026     16.159      0.000       0.372       0.475\n",
      "C(zipcode)[T.98146]      0.0194      0.023      0.850      0.396      -0.025       0.064\n",
      "C(zipcode)[T.98148]     -0.0299      0.029     -1.027      0.304      -0.087       0.027\n",
      "C(zipcode)[T.98155]      0.1894      0.035      5.459      0.000       0.121       0.257\n",
      "C(zipcode)[T.98166]      0.0804      0.021      3.856      0.000       0.040       0.121\n",
      "C(zipcode)[T.98168]     -0.1559      0.022     -7.018      0.000      -0.199      -0.112\n",
      "C(zipcode)[T.98177]      0.3239      0.035      9.312      0.000       0.256       0.392\n",
      "C(zipcode)[T.98178]     -0.0602      0.023     -2.622      0.009      -0.105      -0.015\n",
      "C(zipcode)[T.98188]     -0.0904      0.023     -3.949      0.000      -0.135      -0.046\n",
      "C(zipcode)[T.98198]     -0.0746      0.017     -4.353      0.000      -0.108      -0.041\n",
      "C(zipcode)[T.98199]      0.5534      0.029     18.834      0.000       0.496       0.611\n",
      "C(renovated)[T.True]     0.0572      0.007      8.568      0.000       0.044       0.070\n",
      "np.log(sqft_living)      0.4217      0.006     66.545      0.000       0.409       0.434\n",
      "np.log(sqft_lot)         0.0710      0.002     34.155      0.000       0.067       0.075\n",
      "bedrooms                -0.0140      0.002     -7.765      0.000      -0.018      -0.010\n",
      "floors                   0.0180      0.003      5.535      0.000       0.012       0.024\n",
      "bathrooms                0.0349      0.003     11.903      0.000       0.029       0.041\n",
      "condition                0.0450      0.002     20.626      0.000       0.041       0.049\n",
      "grade                    0.1115      0.002     58.332      0.000       0.108       0.115\n",
      "yr_built                -0.0004    7.5e-05     -4.758      0.000      -0.001      -0.000\n",
      "lat                    250.3756     22.109     11.324      0.000     207.040     293.711\n",
      "I(lat ** 2)             -2.6284      0.233    -11.299      0.000      -3.084      -2.172\n",
      "long                    -0.4088      0.052     -7.842      0.000      -0.511      -0.307\n",
      "==============================================================================\n",
      "Omnibus:                     1429.328   Durbin-Watson:                   2.001\n",
      "Prob(Omnibus):                  0.000   Jarque-Bera (JB):             5980.405\n",
      "Skew:                          -0.192   Prob(JB):                         0.00\n",
      "Kurtosis:                       5.548   Cond. No.                     1.27e+09\n",
      "==============================================================================\n",
      "\n",
      "Notes:\n",
      "[1] Standard Errors assume that the covariance matrix of the errors is correctly specified.\n",
      "[2] The condition number is large, 1.27e+09. This might indicate that there are\n",
      "strong multicollinearity or other numerical problems.\n"
     ]
    }
   ],
   "source": [
    "houses['renovated'] = houses['yr_renovated'] >0\n",
    "\n",
    "formula = ('np.log(price) ~ np.log(sqft_living)+ np.log(sqft_lot) + bedrooms + floors + bathrooms '\n",
    "           '+ C(waterfront) + condition  + C(view) + grade + yr_built + lat + I(lat**2) '\n",
    "           '+ long + C(zipcode)+ C(renovated)')\n",
    "mod3 = smf.ols(formula=formula, data=houses).fit()\n",
    "print(mod3.summary())"
   ]
  },
  {
   "cell_type": "code",
   "execution_count": 27,
   "id": "0adece14-c2d5-40dc-9428-04072722079a",
   "metadata": {},
   "outputs": [
    {
     "name": "stdout",
     "output_type": "stream",
     "text": [
      "                            OLS Regression Results                            \n",
      "==============================================================================\n",
      "Dep. Variable:          np.log(price)   R-squared:                       0.880\n",
      "Model:                            OLS   Adj. R-squared:                  0.880\n",
      "Method:                 Least Squares   F-statistic:                     1795.\n",
      "Date:                Tue, 31 May 2022   Prob (F-statistic):               0.00\n",
      "Time:                        17:51:47   Log-Likelihood:                 6111.7\n",
      "No. Observations:               21613   AIC:                        -1.205e+04\n",
      "Df Residuals:                   21524   BIC:                        -1.134e+04\n",
      "Df Model:                          88                                         \n",
      "Covariance Type:            nonrobust                                         \n",
      "============================================================================================================\n",
      "                                               coef    std err          t      P>|t|      [0.025      0.975]\n",
      "------------------------------------------------------------------------------------------------------------\n",
      "Intercept                                -5898.8935    524.736    -11.242      0.000   -6927.416   -4870.371\n",
      "C(renovated)[T.True]                        -0.1557      0.108     -1.436      0.151      -0.368       0.057\n",
      "C(view)[T.1]                                 0.1197      0.010     11.587      0.000       0.099       0.140\n",
      "C(view)[T.2]                                 0.1110      0.006     17.668      0.000       0.099       0.123\n",
      "C(view)[T.3]                                 0.1840      0.009     21.471      0.000       0.167       0.201\n",
      "C(view)[T.4]                                 0.2863      0.013     21.680      0.000       0.260       0.312\n",
      "C(waterfront)[T.1]                         -39.2234      6.093     -6.437      0.000     -51.167     -27.280\n",
      "C(zipcode)[T.98002]                          0.0198      0.016      1.198      0.231      -0.013       0.052\n",
      "C(zipcode)[T.98003]                         -0.0110      0.015     -0.748      0.455      -0.040       0.018\n",
      "C(zipcode)[T.98004]                          0.9112      0.028     32.490      0.000       0.856       0.966\n",
      "C(zipcode)[T.98005]                          0.5227      0.030     17.494      0.000       0.464       0.581\n",
      "C(zipcode)[T.98006]                          0.4607      0.026     17.991      0.000       0.410       0.511\n",
      "C(zipcode)[T.98007]                          0.4495      0.031     14.584      0.000       0.389       0.510\n",
      "C(zipcode)[T.98008]                          0.4584      0.029     15.587      0.000       0.401       0.516\n",
      "C(zipcode)[T.98010]                          0.3090      0.025     12.235      0.000       0.260       0.359\n",
      "C(zipcode)[T.98011]                          0.2708      0.036      7.424      0.000       0.199       0.342\n",
      "C(zipcode)[T.98014]                          0.2036      0.040      5.032      0.000       0.124       0.283\n",
      "C(zipcode)[T.98019]                          0.2236      0.039      5.665      0.000       0.146       0.301\n",
      "C(zipcode)[T.98022]                          0.3401      0.024     13.932      0.000       0.292       0.388\n",
      "C(zipcode)[T.98023]                         -0.0619      0.014     -4.574      0.000      -0.088      -0.035\n",
      "C(zipcode)[T.98024]                          0.3202      0.037      8.701      0.000       0.248       0.392\n",
      "C(zipcode)[T.98027]                          0.3814      0.026     14.468      0.000       0.330       0.433\n",
      "C(zipcode)[T.98028]                          0.2104      0.035      5.937      0.000       0.141       0.280\n",
      "C(zipcode)[T.98029]                          0.4810      0.030     16.270      0.000       0.423       0.539\n",
      "C(zipcode)[T.98030]                          0.0044      0.017      0.255      0.798      -0.029       0.038\n",
      "C(zipcode)[T.98031]                         -0.0214      0.018     -1.160      0.246      -0.058       0.015\n",
      "C(zipcode)[T.98032]                         -0.1272      0.020     -6.262      0.000      -0.167      -0.087\n",
      "C(zipcode)[T.98033]                          0.5770      0.031     18.771      0.000       0.517       0.637\n",
      "C(zipcode)[T.98034]                          0.3307      0.033     10.152      0.000       0.267       0.395\n",
      "C(zipcode)[T.98038]                          0.1937      0.019     10.120      0.000       0.156       0.231\n",
      "C(zipcode)[T.98039]                          1.0794      0.037     29.182      0.000       1.007       1.152\n",
      "C(zipcode)[T.98040]                          0.6642      0.026     25.817      0.000       0.614       0.715\n",
      "C(zipcode)[T.98042]                          0.0530      0.016      3.231      0.001       0.021       0.085\n",
      "C(zipcode)[T.98045]                          0.3211      0.035      9.057      0.000       0.252       0.391\n",
      "C(zipcode)[T.98052]                          0.4592      0.031     14.639      0.000       0.398       0.521\n",
      "C(zipcode)[T.98053]                          0.4574      0.034     13.611      0.000       0.392       0.523\n",
      "C(zipcode)[T.98055]                         -0.0020      0.021     -0.095      0.925      -0.044       0.040\n",
      "C(zipcode)[T.98056]                          0.1479      0.023      6.411      0.000       0.103       0.193\n",
      "C(zipcode)[T.98058]                          0.0413      0.020      2.045      0.041       0.002       0.081\n",
      "C(zipcode)[T.98059]                          0.2082      0.023      9.178      0.000       0.164       0.253\n",
      "C(zipcode)[T.98065]                          0.3805      0.033     11.481      0.000       0.316       0.445\n",
      "C(zipcode)[T.98070]                          0.0596      0.025      2.387      0.017       0.011       0.108\n",
      "C(zipcode)[T.98072]                          0.3117      0.036      8.595      0.000       0.241       0.383\n",
      "C(zipcode)[T.98074]                          0.4018      0.031     13.136      0.000       0.342       0.462\n",
      "C(zipcode)[T.98075]                          0.4392      0.030     14.657      0.000       0.381       0.498\n",
      "C(zipcode)[T.98077]                          0.3022      0.038      8.014      0.000       0.228       0.376\n",
      "C(zipcode)[T.98092]                          0.0826      0.015      5.620      0.000       0.054       0.111\n",
      "C(zipcode)[T.98102]                          0.7113      0.032     22.140      0.000       0.648       0.774\n",
      "C(zipcode)[T.98103]                          0.5536      0.030     18.637      0.000       0.495       0.612\n",
      "C(zipcode)[T.98105]                          0.7028      0.031     22.924      0.000       0.643       0.763\n",
      "C(zipcode)[T.98106]                          0.0821      0.024      3.418      0.001       0.035       0.129\n",
      "C(zipcode)[T.98107]                          0.5620      0.031     18.327      0.000       0.502       0.622\n",
      "C(zipcode)[T.98108]                          0.1101      0.026      4.219      0.000       0.059       0.161\n",
      "C(zipcode)[T.98109]                          0.7237      0.032     22.616      0.000       0.661       0.786\n",
      "C(zipcode)[T.98112]                          0.8037      0.029     27.996      0.000       0.747       0.860\n",
      "C(zipcode)[T.98115]                          0.5603      0.030     18.612      0.000       0.501       0.619\n",
      "C(zipcode)[T.98116]                          0.4584      0.026     17.598      0.000       0.407       0.509\n",
      "C(zipcode)[T.98117]                          0.5259      0.030     17.285      0.000       0.466       0.585\n",
      "C(zipcode)[T.98118]                          0.2353      0.024      9.970      0.000       0.189       0.282\n",
      "C(zipcode)[T.98119]                          0.6934      0.030     22.935      0.000       0.634       0.753\n",
      "C(zipcode)[T.98122]                          0.5562      0.028     20.117      0.000       0.502       0.610\n",
      "C(zipcode)[T.98125]                          0.3094      0.032      9.598      0.000       0.246       0.373\n",
      "C(zipcode)[T.98126]                          0.2755      0.024     11.280      0.000       0.228       0.323\n",
      "C(zipcode)[T.98133]                          0.2034      0.033      6.116      0.000       0.138       0.269\n",
      "C(zipcode)[T.98136]                          0.3996      0.025     15.999      0.000       0.351       0.449\n",
      "C(zipcode)[T.98144]                          0.4280      0.026     16.334      0.000       0.377       0.479\n",
      "C(zipcode)[T.98146]                          0.0245      0.023      1.075      0.282      -0.020       0.069\n",
      "C(zipcode)[T.98148]                         -0.0269      0.029     -0.924      0.356      -0.084       0.030\n",
      "C(zipcode)[T.98155]                          0.1921      0.035      5.540      0.000       0.124       0.260\n",
      "C(zipcode)[T.98166]                          0.0884      0.021      4.233      0.000       0.047       0.129\n",
      "C(zipcode)[T.98168]                         -0.1520      0.022     -6.846      0.000      -0.196      -0.108\n",
      "C(zipcode)[T.98177]                          0.3280      0.035      9.438      0.000       0.260       0.396\n",
      "C(zipcode)[T.98178]                         -0.0549      0.023     -2.394      0.017      -0.100      -0.010\n",
      "C(zipcode)[T.98188]                         -0.0870      0.023     -3.803      0.000      -0.132      -0.042\n",
      "C(zipcode)[T.98198]                         -0.0672      0.017     -3.916      0.000      -0.101      -0.034\n",
      "C(zipcode)[T.98199]                          0.5583      0.029     19.014      0.000       0.501       0.616\n",
      "np.log(sqft_living)                          0.4205      0.006     66.169      0.000       0.408       0.433\n",
      "np.log(sqft_living):C(renovated)[T.True]     0.0280      0.014      1.972      0.049       0.000       0.056\n",
      "np.log(sqft_lot)                             0.0708      0.002     34.099      0.000       0.067       0.075\n",
      "bedrooms                                    -0.0141      0.002     -7.791      0.000      -0.018      -0.011\n",
      "floors                                       0.0178      0.003      5.492      0.000       0.011       0.024\n",
      "bathrooms                                    0.0345      0.003     11.763      0.000       0.029       0.040\n",
      "condition                                    0.0451      0.002     20.685      0.000       0.041       0.049\n",
      "grade                                        0.1114      0.002     58.335      0.000       0.108       0.115\n",
      "yr_built                                    -0.0004    7.5e-05     -4.707      0.000      -0.001      -0.000\n",
      "lat                                        245.9628     22.097     11.131      0.000     202.652     289.274\n",
      "lat:C(waterfront)[T.1]                       0.8342      0.128      6.508      0.000       0.583       1.085\n",
      "I(lat ** 2)                                 -2.5821      0.232    -11.106      0.000      -3.038      -2.126\n",
      "long                                        -0.4103      0.052     -7.876      0.000      -0.512      -0.308\n",
      "==============================================================================\n",
      "Omnibus:                     1414.225   Durbin-Watson:                   2.001\n",
      "Prob(Omnibus):                  0.000   Jarque-Bera (JB):             5898.395\n",
      "Skew:                          -0.187   Prob(JB):                         0.00\n",
      "Kurtosis:                       5.532   Cond. No.                     1.27e+09\n",
      "==============================================================================\n",
      "\n",
      "Notes:\n",
      "[1] Standard Errors assume that the covariance matrix of the errors is correctly specified.\n",
      "[2] The condition number is large, 1.27e+09. This might indicate that there are\n",
      "strong multicollinearity or other numerical problems.\n"
     ]
    }
   ],
   "source": [
    "## effect of a waterfront view different for houses that were recently renovated\n",
    "formula = ('np.log(price) ~ np.log(sqft_living)*C(renovated) + np.log(sqft_lot) + bedrooms + floors + bathrooms '\n",
    "           ' + condition + C(view) + grade + yr_built + lat*C(waterfront) + I(lat**2) '\n",
    "           '+ long + C(zipcode)')\n",
    "mod4 = smf.ols (formula=formula, data=houses).fit()\n",
    "print(mod4.summary()) "
   ]
  },
  {
   "cell_type": "code",
   "execution_count": 29,
   "id": "6541086a-bdb7-4080-a825-ab7f4e3e0adb",
   "metadata": {},
   "outputs": [
    {
     "name": "stdout",
     "output_type": "stream",
     "text": [
      "The AIC of mod3 is  -12002.831432183819\n",
      "The AIC of mod4 is  -12045.34250416782\n"
     ]
    }
   ],
   "source": [
    "print('The AIC of mod3 is ',mod3.aic)\n",
    "print('The AIC of mod4 is ',mod4.aic)"
   ]
  },
  {
   "cell_type": "markdown",
   "id": "621d9a7d-b2d8-45a8-8314-4aef3dc673d9",
   "metadata": {},
   "source": [
    "## 4. Predicción con un modelo lineal"
   ]
  },
  {
   "cell_type": "markdown",
   "id": "aabb9d1b-2c4a-4a74-819f-9a618ef064af",
   "metadata": {},
   "source": [
    "Ahora sí estamos listos para nuestro modelo de Machine Learning. Vamos a empezar con lo básico: la separación de los datos."
   ]
  },
  {
   "cell_type": "markdown",
   "id": "eb8fcf2d-c761-4019-b091-df5e52c79242",
   "metadata": {},
   "source": [
    "### 4.1. Set de entrenamiento y de testeo"
   ]
  },
  {
   "cell_type": "markdown",
   "id": "a78ac208-b051-4f19-96ee-7ff6f4049c92",
   "metadata": {},
   "source": [
    "Para realizar un buen modelo de ML, debemos procurar que el modelo aprenda bien y no _sobreaprenda_ con los datos que le entregamos y no se comporte bien con datos por fuera de los que tenemos. Esto se llama **_overfitting_**: un problema común en el que el modelo se comporta muy bien con los datos de entrenamiento, pero es pésimo con datos por fuera de ese set.\n",
    "\n",
    "Para evitar ello, debemos separar los datos en un  set de entrenamiento y uno de testeo. Así, cuando evaluemos el modelo en la set de testeo, estaremos simulando que el modelo se está enfrentando con datos nuevos.\n",
    "\n",
    "¡Vamos a separarlos!"
   ]
  },
  {
   "cell_type": "code",
   "execution_count": 31,
   "id": "15b5d8c6-a219-4900-be7d-2c3f6ee1865f",
   "metadata": {},
   "outputs": [
    {
     "name": "stdout",
     "output_type": "stream",
     "text": [
      "(17290, 23)\n",
      "(4323, 23)\n"
     ]
    }
   ],
   "source": [
    "np.random.seed(135568109) # Se planta una semilla para reproducibilidad\n",
    "\n",
    "# Se obtiene el total de observaciones\n",
    "ndata = len(houses)\n",
    "\n",
    "# Se escoge de manera aleatoria 80% de los datos\n",
    "idx_train = np.random.choice(range(ndata),int(0.8*ndata),replace=False)\n",
    "\n",
    "# Se obtienen los índices de los datos no escogidos\n",
    "idx_test  = np.asarray(list(set(range(ndata)) - set(idx_train)))\n",
    "\n",
    "# Se separan\n",
    "train     = houses.iloc[idx_train] # the training data set\n",
    "test      = houses.iloc[idx_test]  # the test data set\n",
    "\n",
    "# Miramos cuántas observaciones hay\n",
    "print(train.shape) # 19,312 rows and 19 columns\n",
    "print(test.shape)  #  4,829 rows and 19 columns\n"
   ]
  },
  {
   "cell_type": "markdown",
   "id": "03239942-ef11-4ab2-98c8-e255ca534337",
   "metadata": {},
   "source": [
    "Ahora que tenemos los datos, vamos a entrenar el modelo:"
   ]
  },
  {
   "cell_type": "code",
   "execution_count": 32,
   "id": "8886461f-3d37-48d7-9097-eaf1645f6b6a",
   "metadata": {},
   "outputs": [
    {
     "name": "stdout",
     "output_type": "stream",
     "text": [
      "                            OLS Regression Results                            \n",
      "==============================================================================\n",
      "Dep. Variable:          np.log(price)   R-squared:                       0.760\n",
      "Model:                            OLS   Adj. R-squared:                  0.760\n",
      "Method:                 Least Squares   F-statistic:                     4570.\n",
      "Date:                Tue, 31 May 2022   Prob (F-statistic):               0.00\n",
      "Time:                        18:02:13   Log-Likelihood:                -1190.2\n",
      "No. Observations:               17290   AIC:                             2406.\n",
      "Df Residuals:                   17277   BIC:                             2507.\n",
      "Df Model:                          12                                         \n",
      "Covariance Type:            nonrobust                                         \n",
      "====================================================================================\n",
      "                       coef    std err          t      P>|t|      [0.025      0.975]\n",
      "------------------------------------------------------------------------------------\n",
      "Intercept          -37.3808      2.286    -16.355      0.000     -41.861     -32.901\n",
      "sqft_living          0.0002   4.59e-06     39.328      0.000       0.000       0.000\n",
      "np.log(sqft_lot)    -0.0096      0.003     -3.389      0.001      -0.015      -0.004\n",
      "bedrooms            -0.0110      0.003     -4.101      0.000      -0.016      -0.006\n",
      "floors               0.0561      0.005     11.499      0.000       0.047       0.066\n",
      "bathrooms            0.0657      0.005     14.317      0.000       0.057       0.075\n",
      "waterfront           0.3671      0.025     14.931      0.000       0.319       0.415\n",
      "condition            0.0625      0.003     19.025      0.000       0.056       0.069\n",
      "view                 0.0668      0.003     22.495      0.000       0.061       0.073\n",
      "grade                0.1829      0.003     63.269      0.000       0.177       0.189\n",
      "yr_built            -0.0036    9.8e-05    -36.271      0.000      -0.004      -0.003\n",
      "lat                  1.3430      0.015     88.952      0.000       1.313       1.373\n",
      "long                 0.0699      0.017      4.108      0.000       0.037       0.103\n",
      "==============================================================================\n",
      "Omnibus:                      446.014   Durbin-Watson:                   2.004\n",
      "Prob(Omnibus):                  0.000   Jarque-Bera (JB):             1083.174\n",
      "Skew:                           0.043   Prob(JB):                    6.19e-236\n",
      "Kurtosis:                       4.223   Cond. No.                     3.42e+06\n",
      "==============================================================================\n",
      "\n",
      "Notes:\n",
      "[1] Standard Errors assume that the covariance matrix of the errors is correctly specified.\n",
      "[2] The condition number is large, 3.42e+06. This might indicate that there are\n",
      "strong multicollinearity or other numerical problems.\n"
     ]
    }
   ],
   "source": [
    "mod2 = smf.ols(formula='np.log(price) ~ sqft_living + np.log(sqft_lot) + bedrooms + floors + bathrooms + waterfront + condition + view + grade + yr_built + lat + long', data=train).fit()\n",
    "print(mod2.summary())"
   ]
  },
  {
   "cell_type": "markdown",
   "id": "adb16ba3-1087-4e3e-825b-7d3429c05765",
   "metadata": {},
   "source": [
    "### 4.2. Evaluación de modelos"
   ]
  },
  {
   "cell_type": "markdown",
   "id": "e2f2e733-5e11-42db-a539-aacadfe4875b",
   "metadata": {},
   "source": [
    "Hay diferentes formas de evaluar modelos dependiendo si la variable de interés es una variable discontinua o continua. En este caso, tenemos una variable continua, por lo cual la precisión, el F1 Score, la especificidad y la sensibilidad se dejarán para más adelante. Por ahora, nos podemos concentrar en el Error Medio Absoluto (MAE), la Raíz del Error Medio Cuadrático (RMSE) y el porcentaje absoluto medio del error (MAPE).\n",
    "\n",
    "A continuación están unas funciones que lo calculan:"
   ]
  },
  {
   "cell_type": "code",
   "execution_count": 33,
   "id": "7f9c3066-ee0c-405e-85e0-69ac1b7f49d2",
   "metadata": {},
   "outputs": [],
   "source": [
    "# MAE\n",
    "def MAE(prediction,true_values):\n",
    "    return np.mean(                                                      # Mean\n",
    "                np.abs(                                                   # Absolute\n",
    "                        prediction-true_values                            # Error\n",
    "                    )\n",
    "                )\n",
    "\n",
    "# RMSE\n",
    "def RMSE(prediction,true_values):\n",
    "    \n",
    "    return np.sqrt(                                                          # Root\n",
    "            np.mean(                                                      # Mean\n",
    "                np.square(                                                # Squared\n",
    "                         prediction-true_values                           # Error\n",
    "                )\n",
    "            )\n",
    "        )\n",
    "\n",
    "# MAPE\n",
    "def MAPE(prediction,true_value):\n",
    "    return np.mean(                                           # Mean\n",
    "        np.abs(                                               # Absolute\n",
    "               (prediction-true_value)/true_value             # Error\n",
    "            )*100                                            # Percentage\n",
    "    )"
   ]
  },
  {
   "cell_type": "markdown",
   "id": "9831ad97-78b9-4339-aff2-ae7ba415d5de",
   "metadata": {},
   "source": [
    "Matemáticamente, estas medidas se expresan de la siguiente manera:\n",
    "\n",
    "\\begin{eqnarray*}\n",
    "    MAE &= \\frac{1}{n} \\sum_{i=1}^n \\left| y_i - \\hat{y}_i \\right| \\\\\n",
    "    RMSE &= \\sqrt{ \\frac{1}{n} \\sum_{i=1}^n ( y_i - \\hat{y}_i )^2 } \\\\\n",
    "    MAPE &= 100\\% \\frac{1}{n} \\sum_{i=1}^n \\left|\\frac{ y_i - \\hat{y}_i}{y_i} \\right|\n",
    "\\end{eqnarray*}"
   ]
  },
  {
   "cell_type": "markdown",
   "id": "fe8fc632-0b19-4219-a1a5-ba16d7a164c5",
   "metadata": {},
   "source": [
    "Ahora sí hagamos predicciones y comparemos con los valores reales:"
   ]
  },
  {
   "cell_type": "code",
   "execution_count": 38,
   "id": "a759bb3a-43b2-46ef-9127-5895ce6965f5",
   "metadata": {},
   "outputs": [
    {
     "name": "stdout",
     "output_type": "stream",
     "text": [
      "MAE between predictions of model_lin and true sale price: 0.19376535934208594\n",
      "----------------------\n",
      "RMSE between predictions of model_lin and true sale price: 0.25153595781602384\n",
      "----------------------\n",
      "MAPE between predictions of model_lin and true sale price: 1.4840362109386398\n"
     ]
    }
   ],
   "source": [
    "mod_log = smf.ols(formula='np.log(price) ~ sqft_living + np.log(sqft_lot) + bedrooms + floors + bathrooms + waterfront + condition + view + grade + yr_built + lat + long', data=train).fit()\n",
    "\n",
    "print(\"MAE between predictions of model_lin and true sale price:\", MAE(mod_log.predict(test),np.log(test.price)))\n",
    "print('----------------------')\n",
    "print(\"RMSE between predictions of model_lin and true sale price:\", RMSE(mod_log.predict(test),np.log(test.price)))\n",
    "print('----------------------')\n",
    "print(\"MAPE between predictions of model_lin and true sale price:\", MAPE(mod_log.predict(test),np.log(test.price)))"
   ]
  },
  {
   "cell_type": "markdown",
   "id": "5fb01353-7634-4739-992d-870c531d1381",
   "metadata": {},
   "source": [
    "Comparemos con otro modelo:"
   ]
  },
  {
   "cell_type": "code",
   "execution_count": 39,
   "id": "ef25cb1e-062b-4fc1-80b7-0a145edf4122",
   "metadata": {},
   "outputs": [
    {
     "name": "stdout",
     "output_type": "stream",
     "text": [
      "MAE between predictions of model_lin and true sale price: 0.13139588947291717\n",
      "----------------------\n",
      "RMSE between predictions of model_lin and true sale price: 0.17826856137942995\n",
      "----------------------\n",
      "MAPE between predictions of model_lin and true sale price: 1.0106012019683377\n"
     ]
    }
   ],
   "source": [
    "formula = ('np.log(price) ~ np.log(sqft_living)*C(renovated) + np.log(sqft_lot) + bedrooms + floors + bathrooms '\n",
    "           ' + condition + C(view) + grade + yr_built + lat*C(waterfront) + I(lat**2) '\n",
    "           '+ long + C(zipcode)')\n",
    "mod_com = smf.ols (formula=formula, data=houses).fit()\n",
    "\n",
    "print(\"MAE between predictions of model_lin and true sale price:\", MAE(mod_com.predict(test),np.log(test.price)))\n",
    "print('----------------------')\n",
    "print(\"RMSE between predictions of model_lin and true sale price:\", RMSE(mod_com.predict(test),np.log(test.price)))\n",
    "print('----------------------')\n",
    "print(\"MAPE between predictions of model_lin and true sale price:\", MAPE(mod_com.predict(test),np.log(test.price)))"
   ]
  }
 ],
 "metadata": {
  "kernelspec": {
   "display_name": "Python 3 (ipykernel)",
   "language": "python",
   "name": "python3"
  },
  "language_info": {
   "codemirror_mode": {
    "name": "ipython",
    "version": 3
   },
   "file_extension": ".py",
   "mimetype": "text/x-python",
   "name": "python",
   "nbconvert_exporter": "python",
   "pygments_lexer": "ipython3",
   "version": "3.10.2"
  }
 },
 "nbformat": 4,
 "nbformat_minor": 5
}
