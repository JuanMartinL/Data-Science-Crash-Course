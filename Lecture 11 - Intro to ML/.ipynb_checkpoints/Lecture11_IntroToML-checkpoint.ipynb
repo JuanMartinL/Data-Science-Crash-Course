{
 "cells": [
  {
   "cell_type": "markdown",
   "id": "3fff400f-3a20-4315-add1-62ceb1061fb0",
   "metadata": {},
   "source": [
    "# Lecture 11: Machine Learning"
   ]
  },
  {
   "cell_type": "markdown",
   "id": "6e88354d-5a16-48d4-9646-1587a9eec276",
   "metadata": {},
   "source": [
    "# 1. ¿Qué es Aprendizaje de Máquinas (Machine Learning)?"
   ]
  },
  {
   "cell_type": "markdown",
   "id": "4bb413fc-3e94-4817-bfb0-2d23f1595978",
   "metadata": {},
   "source": [
    "El aprendizaje de máquinas (Machine Learning) es \n",
    "\n",
    "> **La ciencia (y el arte) de programar computadores para que puedan _aprender de los datos_ (Géron, 2017)**. \n",
    "\n",
    "Con esta definición (y con lo que nos han contado), normalmente pensamos que Machine Learning (ML) es uno de los androides que pueden interactuar con humanos, una máquina que sabe cómo limpiar la casa, el programa que venció al campeón de ajedrez, incluso lo relacionamos con Terminator. Sí lo son _en parte_, pero el ML puede llegar a ser más simple: un filtro de spam, un bot de servicio al cliente, un programa que identifica los probables sentimientos de comentarios en Twitter, una regresión lineal. También el ML puede ser más complejo: inteligencia artificial, aprendizaje automático, entre otros."
   ]
  },
  {
   "cell_type": "markdown",
   "id": "ec55957b-ab4c-47f3-b83a-403a6f024a97",
   "metadata": {},
   "source": [
    "# 2. ¿En qué se diferencia la inteligencia artificial del aprendizaje de máquinas?"
   ]
  },
  {
   "cell_type": "markdown",
   "id": "37a51e00-1b74-484e-a001-f763c75341e6",
   "metadata": {},
   "source": [
    "Según Russell & Norvig (2020), existen cuatro definiciones o metas de la Inteligencia Artificial (AI):\n",
    "\n",
    "1. **Enfoque humano:**\n",
    "    * Sistemas que piensan como humanos.\n",
    "    * Sistemas que actúan como humanos.\n",
    "    \n",
    "2. **Enfoque ideal:**\n",
    "    * Sistemas que piensan racionalmente. \n",
    "    * Sistemas que actúan racionalmente.\n",
    "    \n",
    "En general, son sistemas que pueden actuar o pensar como humanos, pero no limitándose a procesos biológicos. Por ejemplo, hay nueva computadora de IBM jugadora de ajedrez que aprendió a ser una maestra sin que un humano le enseñara más que las reglas. Otros programas han ayudado a entender la misma inteligencia artificial al generar sus propias conclusiones.\n",
    "\n",
    "En ese sentido, la diferencia entre ML e IA es la capacidad del sistema de pensar o actuar como humano. Por un lado, en ML la máquina _aprende_ de los datos que le entregamos, aplicando dichos conocimientos a un problema específico. Sin embargo, **no puede generar aprendizajes más allá de los datos**. Por el contrario, la IA sí puede generar aprendizajes por sí mismo, incluso si le damos poca o nula información."
   ]
  },
  {
   "cell_type": "code",
   "execution_count": null,
   "id": "2a2becb0-7924-4203-8c6c-962a184e6d8d",
   "metadata": {},
   "outputs": [],
   "source": [
    "from IPython.display import IFrame\n",
    "IFrame('https://www.youtube.com/embed/8tq1C8spV_g?rel=0&amp;controls=0&amp;showinfo=0', width=560, height=315)"
   ]
  },
  {
   "cell_type": "code",
   "execution_count": null,
   "id": "9b95ae6f-e657-4285-b849-133fb0ec44c3",
   "metadata": {},
   "outputs": [],
   "source": [
    "from IPython.display import IFrame\n",
    "IFrame('https://www.youtube.com/watch?v=Lu56xVlZ40M&ab_channel=TwoMinutePapers', width=560, height=315)"
   ]
  },
  {
   "cell_type": "markdown",
   "id": "65a29f07-2c2f-45ac-91a2-407bf8679ccb",
   "metadata": {},
   "source": [
    "# 3. ¿Cómo aprenden las máquinas?"
   ]
  },
  {
   "cell_type": "markdown",
   "id": "5deec849-1171-4121-8210-b82103cd67c9",
   "metadata": {},
   "source": [
    "Las máquinas aprenden copiando el proceso que hacemos los humanos. Este proceso se puede dividir en tres partes (Lantz, 2013):\n",
    "\n",
    "* **Entrada de datos:** utiliza observación, almacenamiento de memoria y recuerdo.\n",
    "    - Es un proceso básico sin alto entendimiento.\n",
    "    - Resulta en la recolección de los datos que necesitamos.\n",
    "* **Abstracción:** envuelve la transformación de los datos en representación más amplias.\n",
    "    - Requiere de un entendimiento más alto.\n",
    "    - Aquí se le otorga _sentido_ a los datos.\n",
    "* **Generalización:** usa datos abstractos para formar una base para la acción.\n",
    "    - Permite la aplicación de los conocimientos a la realidad.\n",
    "\n",
    "Piensen en la semana pasada cuando estudiaban para el examen de Big Data, ¿cómo realizaron ese proceso?\n",
    "\n",
    "Ahora, el computador hace algo similar: obtiene y observa los datos, los abstrae y, después, generaliza para una tarea específica. En este proceso, el computador, como los humanos, realizamos una **representación del conocimiento** para convertir datos crudos en hallazgos significativos.\n",
    "\n",
    "Para ello, el computador resume los datos insumo en un **modelo**, el cual es una descripción explícita de los patrones estructurados de los datos. Estos modelos pueden estar representados de diferentes maneras: ecuaciones, diagramas, reglas if/else, clusters, entre otros. \n",
    "\n",
    "<center><img src=\"obs_data_model.png\" width = \"750\", height = \"500\"/></center>\n",
    "\n",
    "> **Nota:** los modelos **no tienen que ser perfectos**. Son una representación de la realidad, por lo cual pueden tener errores.\n",
    "\n",
    "Cabe resaltar que, para esto, los modelos reducen la cantidad de hallazgos o variables importantes con el objetivo de ser manejable. Caso contrario, podría caer en un caso de **sobreajuste** (_**overfitting**_).\n",
    "\n",
    "Posteriormente a ello, utiliza el modelo para **volver el conocimiento en acción**. Es decir, generaliza y utiliza dichos hallazgos para predecir, clasificar o actuar. \n",
    "\n",
    "<center><img src=\"ml_how_it_work.png\" width = \"750\", height = \"500\"/></center>\n",
    "\n",
    "> **¡Cuidado!** Los algoritmos de ML aprenden tan bien, que **tambien aprenden nuestros sesgos**."
   ]
  },
  {
   "cell_type": "code",
   "execution_count": null,
   "id": "3dc3c74b-51e4-40a2-a3f7-61bcf8b52528",
   "metadata": {},
   "outputs": [],
   "source": [
    "from IPython.display import IFrame\n",
    "IFrame('https://www.youtube.com/watch?v=-_ydGhdYd0M&ab_channel=GBHNews', width=560, height=315)"
   ]
  },
  {
   "cell_type": "markdown",
   "id": "ab470d80-e1c1-47b2-b14b-cb05efa42fb3",
   "metadata": {},
   "source": [
    "# 4. Paso a paso para crear o aplicar un algoritmo de ML"
   ]
  },
  {
   "cell_type": "markdown",
   "id": "3e647f94-4783-468d-a018-70a463cf7e3f",
   "metadata": {},
   "source": [
    "Según Lantz (2013), un buen paso a paso es el siguiente:\n",
    "\n",
    "1. Recolecta los datos.\n",
    "2. Explora y prepara los datos.\n",
    "3. Entrena el modelo con los datos.\n",
    "4. Evalúa el rendimiento del modelo.\n",
    "5. Mejora el desempeño del modelo.\n",
    "\n",
    "Hasta ahora, este curso se ha concentrado en el primer y segundo paso: recolectar los datos y explorar y preparar los datos. A partir de ahora, nos concentraremos en los siguientes tres pasos."
   ]
  },
  {
   "cell_type": "markdown",
   "id": "1af647d9-6701-43cf-927f-2f9ed38cb472",
   "metadata": {},
   "source": [
    "# 5. Tipos de modelos de ML"
   ]
  },
  {
   "cell_type": "markdown",
   "id": "ab15c9bb-cb0f-4bba-9425-3cedebc4c24c",
   "metadata": {},
   "source": [
    "Existen dos grandes tipos de algoritmos de ML: los **modelos supervisados** y los **modelos no supervisados**. El uso de cada uno depende de la tarea a realizar."
   ]
  },
  {
   "cell_type": "markdown",
   "id": "429e5028-31a3-4987-9b6f-7bd78f12ca11",
   "metadata": {},
   "source": [
    "## 5.1. Modelos supervisados"
   ]
  },
  {
   "cell_type": "markdown",
   "id": "48ce9298-922f-41b2-9812-d696c15c7f24",
   "metadata": {},
   "source": [
    "Los modelos supervisados de ML son aquellos en los que tenemos la variable a predecir o clasificar, donde ellas son el centro de atención. Es decir, bajo el modelo\n",
    "\n",
    "$$ Y_i \\sim X_i $$\n",
    "\n",
    "Contamos con $Y_i$ como variable de interés y es el centro de nuestro análisis.\n",
    "\n",
    "Consideremos un modelo donde queramos identificar si en una foto de un animal este es perro o no. La variable $Y_i$ sería una variable binaria que cuenta con 0 si no es perro y 1 si lo es. Un aprendizaje supervisado cuenta con las fotos y la clasificación.\n",
    "\n",
    "Otros ejemplos similares: el reconocimiento de un rostro, predecir el precio del dólar para mañana, predecir las notas del parcial de los estudiantes. Para ello, requiere de unas variables independientes, $X_i$, que permiten predecir o clasificar la variable de interés, $Y_i$.\n",
    "\n",
    "En general, el análisis no supervisado se basa en el **análisis de patrones** y el **análisis predictivo**. Sin embargo, otros usos son posibles.\n",
    "\n",
    "> **Nota:** la supervisión no hace referencia a que haya involucramiento de humanos, sino a que existe en los datos la presencia de la variable de interés para enseñarle a la máquina."
   ]
  },
  {
   "cell_type": "markdown",
   "id": "55f95b06-d09d-44c0-af8f-7316a34103bc",
   "metadata": {},
   "source": [
    "## 5.2. Modelos no supervisados"
   ]
  },
  {
   "cell_type": "markdown",
   "id": "3df5582e-ed38-4a0f-9b5f-4477e4b50c8c",
   "metadata": {},
   "source": [
    "Los modelos no supervisados de ML son aquellos en los que no tenemos la variable de interés. Es decir, contamos con la matriz de variables $X_i$ pero no contamos con una variable $Y_i$ de interés. Por el contrario, normalmente queremos saber cómo se relacionan y comportan esas variables $X_i$ entre ellas.\n",
    "\n",
    "Un ejemplo característico es el **descubrimiento de patrones**, en el cual normalmente se utiliza un algoritmo llamado **análisis de carrito de mercado**. En este algoritmo, se cuenta con los datos de lo que compran las personas, pero no se tiene una variable en sí misma de interés. Por el contrario, el análisis se centra en ver cómo se relacionan las variables. Por ejemplo, si las personas compran generalmente una Coca-Cola con el pan o si compran un alka-setzer con un Gatorade. \n",
    "\n",
    "En general, el análisis no supervisado se basa en el **análisis de clusters** y el análisis descriptivo. Sin embargo, otros usos son posibles."
   ]
  },
  {
   "cell_type": "markdown",
   "id": "b2d21715-ec57-4319-8329-b45bd7f29e0c",
   "metadata": {},
   "source": [
    "# 6. El dilema entre el sesgo y la varianza"
   ]
  },
  {
   "cell_type": "markdown",
   "id": "430ebc12-90e9-4608-a2a6-425faf9f3267",
   "metadata": {},
   "source": [
    "### 6.1. Sesgo\n",
    "\n",
    "El **sesgo** (bias) es la diferencia entre la predicción promedio del modelo y el valor correcto que estamos tratando de predecir. Un modelo con alto sesgo se equivoca a menudo en sus predicciones y sobresimplifica el modelo, dado que le presta poca atención a los datos de entrenamiento. Por tanto, tendrá alto error en los datos de entrenamiento y testeo.\n",
    "\n",
    "### 6.2. Varianza\n",
    "\n",
    "La **varianza** de un modelo hace referencia a la variabilidad que experimenta la predicción por un dato o un conjunto de datos diferentes a los del entrenamiento. En ese sentido, un modelo con alta varianza le presta muchísima atención a los datos de entrenamiento y no generaliza los datos que observa. Por tanto, experimentará problemas cuando se enfrente a un nuevo conjunto de datos, como los datos de testeo.\n",
    "\n",
    "### 6.3. Trade-off entre varianza y sesgo\n",
    "\n",
    "En ese sentido, supongamos que queremos crear un modelo de ML del precio de las casas en Bogotá. Ello lo podemos escribir matemáticamente de la siguiente manera\n",
    "\n",
    "$$ Y = f(X) + \\varepsilon $$\n",
    "\n",
    "Es decir, la variable dependiente ($Y$) depende de varias variables explicativas ($x_1$, $x_2$, ..., $x_n$ que forman la matriz $X$) y un error estocástico que se distribuye normal con media 0 y varianza $\\sigma_e$ ($\\varepsilon$ ~ $N(0, \\sigma_e)$.\n",
    "\n",
    "En palabras normales, diríamos que el precio ($Y$) depende del número de cuartos ($x_1$), el número de baños ($x_2$), el metraje ($x_3$), y así. Además, también depende de variables no observables o de choques externos que no podemos medir, resumidas en el error ($\\varepsilon$).\n",
    "\n",
    "Por tanto, sabemos que el error cuadrático esperado es igual a\n",
    "\n",
    "$$ Err(x) = E[(Y - \\hat{f}(x))^2] $$\n",
    "\n",
    "Ello lo podemos reescribir como\n",
    "\n",
    "$$ Err(x) = \\big[E[\\hat{f}(x)] - f(x) \\big]^2 + E \\big[\\big(\\hat{f}(x) - E[\\hat{f}(x)\\big)^2 \\big] + \\sigma^2_e $$\n",
    "\n",
    "En otras palabras menos complejas\n",
    "\n",
    "$$ Err(x) = Bias^2 + Variance + IrreducibleError $$\n",
    "\n",
    "En conclusión, el error de un modelo en la predicción va a ser igual al sesgo al cuadrado, la varianza y el error irreducible.\n",
    "\n",
    "Este último es el error que no se puede reducir con la creación del modelo. Es un error intrínseco a los datos. No importa qué tan bueno es el modelo, si los datos tienen _ruido_, no se puede eliminar totalmente el error.\n",
    "\n",
    "### 6.3.1. Overfitting y underfitting\n",
    "\n",
    "A partir de ello, podemos ver cómo los modelos funcionan a partir del sesgo y la varianza\n",
    "\n",
    "<center><img src=\"https://miro.medium.com/max/640/1*xwtSpR_zg7j7zusa4IDHNQ.png\" width = \"750\", height = \"500\"/></center>\n",
    "\n",
    "En aprendizaje supervisado, el **subajuste - underfitting** ocurre cuando un modelo es incapaz de capturar los patrones de los datos. Estos modelos usualmente tienen **alto sesgo y baja varianza**, de todos modos tendrá un rendimiento pobre.\n",
    "\n",
    "Esto ocurre, por lo general, cuando\n",
    "* Tenemos muy pocos datos con el que aprende la máquina.\n",
    "* Se intenta utilizar un modelo que intente capturar una distribución errónea. Por ejemplo, utilizar un modelo lineal para unos datos con distribución no lineal.\n",
    "\n",
    "Así mismo, en aprendizaje supervisado, el **sobreajuste - overfitting** ocurre cuando un modelo captura mucho ruido junto con los patrones de los datos. Estos modelos usualmente tienen **bajo sesgo y alta varianza**.\n",
    "\n",
    "Esto ocurre, por lo general, cuando\n",
    "* Tenemos datos con mucho ruido.\n",
    "* Se intenta utilizar modelos muy complejos. Por ejemplo, los árboles de decisión mal podados terminan con este problema.\n",
    "\n",
    "<center><img src=\"fitting.png\" width = \"750\", height = \"500\"/></center>\n",
    "\n",
    "### 6.3.2. El dilema\n",
    "\n",
    "Como se puede ver, el dilema surge precisamente entre estos dos puntos. Por un lado, si el modelo es muy simple y tiene pocos parámetros, podríamos experimentar alto sesgo y baja varianza. Si el modelo es muy complejo y tiene un alto número de parámetros, podríamos experimentar alta varianza y bajo sesgo. Ninguna es deseable, se necesita de un balance entre los dos.\n",
    "\n",
    "Para construir un buen modelo, necesitamos encontrar un balance entre sesgo y varianza que minimice el error total:\n",
    "\n",
    "$$ Total Error = Bias^2 + Variance + IrreducibleError $$\n",
    "\n",
    "Esto, en términos de un esquema, resulta en el siguiente gráfico:\n",
    "\n",
    "<center><img src=\"https://miro.medium.com/max/720/1*x5YbWf3JhZIPr8veio_Bug.jpeg\" width = \"750\", height = \"500\"/></center>\n",
    "\n",
    "## 6.4. Algunas recomendaciones (obligatorias)\n",
    "\n",
    "En primer lugar, para evitar subajuste, es necesario asegurarnos tener una buena cantidad de datos relativo al problema. Es decir, siempre debemos saber cuál es la población y obtener una muestra suficiente para que la máquina aprenda. Eso no necesariamente significa millones de observaciones: si estamos en casos de enfermedades huérfanas, tener 10 observaciones es un logro excepcional. Sin embargo, si queremos analizar los patrones de compra de los bogotanos, tener incluso 100.000 observaciones resulta precario frente a las millones de compras que se realizan a diario.\n",
    "\n",
    "En segundo lugar, uno de los fenómenos observados es que utilizar todos los datos de una base puede hacer que nos sesguemos. Es decir, utilizar todos los datos hace que tomemos decisiones sobre los parámetros que hagan que funcione muy bien sobre _esos datos en específico_. Este modelo tendrá un excelente rendimiento en esa base de datos, pero probablemente tendrá problemas frente a datos nuevos. \n",
    "\n",
    "Para evitar este sobreajuste, se recomienda partir la base de datos en tres: datos de entrenamiento, datos de validación y datos de testeo.\n",
    "\n",
    "<center><img src=\"database.png\" width = \"750\", height = \"500\"/></center>\n",
    "\n",
    "¡Cuidado! No en todos los casos tendremos suficiente cantidad de datos para realizar esta división. Sin embargo, es obligatorio tener, al menos, una división de base de datos de entrenamiento y otra de testeo. Lo recomendado es 70% de entrenamiento y 30% de testeo, pero diferentes arreglos son aceptados.\n",
    "\n",
    "Cada una se define así:\n",
    "\n",
    "* **Base de datos de entrenamiento:** es la base de datos donde entrenaremos a la máquina con los algoritmos que escojamos. En ella podemos hacer diferentes arreglos, cambiando los híperparametros que escojamos, entre otros. Esta base de datos se puede utilizar cuantas veces uno desee.\n",
    "* **Base de datos de validación:** es la base de datos que nos permite hacer evaluaciones parciales del modelo. En este podemos medir qué tal está funcionando el modelo con datos con los que no entrenó. Esta base de datos se puede utilizar cuantas veces uno desee.\n",
    "* **Base de datos de testeo:** es la base con la que se mide el rendimiento del modelo. Esta solo se puede utilizar una vez (¡solo una!). Medir el rendimiento del modelo y devolverse a cambiar parámetros o el algoritmo del modelo crea un sesgo que no es permitido. Por ello, **está prohibido devolverse al modelo cuando ya se ha utilizado la base de datos de testeo**. Hacelro puede afectar el modelo con datos nuevos y hacer que se comporte pésimamente.\n"
   ]
  }
 ],
 "metadata": {
  "kernelspec": {
   "display_name": "Python 3 (ipykernel)",
   "language": "python",
   "name": "python3"
  },
  "language_info": {
   "codemirror_mode": {
    "name": "ipython",
    "version": 3
   },
   "file_extension": ".py",
   "mimetype": "text/x-python",
   "name": "python",
   "nbconvert_exporter": "python",
   "pygments_lexer": "ipython3",
   "version": "3.10.5"
  }
 },
 "nbformat": 4,
 "nbformat_minor": 5
}
